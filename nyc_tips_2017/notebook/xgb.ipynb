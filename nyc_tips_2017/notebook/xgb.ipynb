{
 "cells": [
  {
   "cell_type": "code",
   "execution_count": 17,
   "metadata": {
    "collapsed": true
   },
   "outputs": [],
   "source": [
    "# load basics library\n",
    "import pandas as pd\n",
    "import numpy as np\n",
    "import calendar\n",
    "from sklearn.cluster import MiniBatchKMeans\n",
    "from tpot import TPOTRegressor\n",
    "from sklearn.model_selection import train_test_split\n",
    "import xgboost as xgb\n",
    "\n",
    "from sklearn.model_selection import train_test_split\n",
    "from sklearn.model_selection import KFold\n",
    "from xgboost import XGBRegressor\n",
    "from sklearn.model_selection import StratifiedKFold\n",
    "from sklearn.model_selection import cross_val_score\n",
    "from sklearn.preprocessing import LabelEncoder\n",
    "from sklearn.utils.multiclass import type_of_target"
   ]
  },
  {
   "cell_type": "code",
   "execution_count": 18,
   "metadata": {
    "collapsed": true
   },
   "outputs": [],
   "source": [
    "def clean_data(df):\n",
    "    df_ = df.copy()\n",
    "    # remove the 2016-01-23 data since its too less comapre others days,\n",
    "    # maybe quality is not good\n",
    "    # df_ = df_[(df_.pickup_date != '2016-01-23') & (df_.dropoff_date != '2016-01-23')]\n",
    "    # potential passenger_count outlier\n",
    "    df_ = df_[(df_['passenger_count'] <= 6) & (df_['passenger_count'] > 0)]\n",
    "    return df_\n",
    "\n",
    "### ================================================ ###\n",
    "\n",
    "\n",
    "def load_data():\n",
    "    df_train = pd.read_csv('../data/train.csv')\n",
    "    df_test = pd.read_csv('../data/test.csv')\n",
    "    # sample train data for fast job\n",
    "    # df_train = df_train.sample(n=100)\n",
    "    # clean train data\n",
    "    df_train_ = clean_data(df_train)\n",
    "    df_test = clean_data(df_test)\n",
    "    # merge train and test data for fast process and let model view test data when training as well\n",
    "    df_all = pd.concat([df_train_, df_test], axis=0)\n",
    "    return df_all, df_train_, df_test"
   ]
  },
  {
   "cell_type": "code",
   "execution_count": 19,
   "metadata": {},
   "outputs": [
    {
     "name": "stdout",
     "output_type": "stream",
     "text": [
      "   VendorID lpep_pickup_datetime lpep_dropoff_datetime store_and_fwd_flag  \\\n",
      "0         2  2017-01-07 12:47:25   2017-01-07 13:07:19                  N   \n",
      "1         2  2017-01-21 12:21:04   2017-01-21 12:22:57                  N   \n",
      "2         2  2017-01-04 08:53:29   2017-01-04 09:08:15                  N   \n",
      "3         2  2017-01-18 18:17:40   2017-01-18 18:24:12                  N   \n",
      "4         2  2017-01-09 14:56:30   2017-01-09 15:17:13                  N   \n",
      "\n",
      "   RatecodeID  PULocationID  DOLocationID  passenger_count  trip_distance  \\\n",
      "0           1            40           141              1.0           2.91   \n",
      "1           1            74            74              1.0           0.36   \n",
      "2           1            65           143              2.0           2.31   \n",
      "3           1           165            40              1.0           0.96   \n",
      "4           1            94           120              1.0           2.86   \n",
      "\n",
      "   fare_amount ...   ehail_fee  improvement_surcharge  total_amount  \\\n",
      "0         13.0 ...         NaN                    0.3         16.56   \n",
      "1          3.5 ...         NaN                    0.3          4.30   \n",
      "2         12.5 ...         NaN                    0.3         15.96   \n",
      "3          6.5 ...         NaN                    0.3          9.96   \n",
      "4         15.0 ...         NaN                    0.3         18.96   \n",
      "\n",
      "   payment_type  trip_type  duration  day_of_week  weekend      speed  tip  \n",
      "0             1        1.0    1194.0            5        1   8.773869    1  \n",
      "1             2        1.0     113.0            5        1  11.469027    0  \n",
      "2             1        1.0     886.0            2        0   9.386005    1  \n",
      "3             1        1.0     392.0            2        0   8.816327    1  \n",
      "4             1        1.0    1243.0            0        0   8.283186    1  \n",
      "\n",
      "[5 rows x 24 columns]\n",
      "   VendorID  RatecodeID  PULocationID  DOLocationID  passenger_count  \\\n",
      "0         2           1            40           141              1.0   \n",
      "1         2           1            74            74              1.0   \n",
      "2         2           1            65           143              2.0   \n",
      "3         2           1           165            40              1.0   \n",
      "4         2           1            94           120              1.0   \n",
      "\n",
      "   trip_distance  fare_amount  extra  tolls_amount  total_amount  \\\n",
      "0           2.91         13.0    0.0           0.0         16.56   \n",
      "1           0.36          3.5    0.0           0.0          4.30   \n",
      "2           2.31         12.5    0.0           0.0         15.96   \n",
      "3           0.96          6.5    1.0           0.0          9.96   \n",
      "4           2.86         15.0    0.0           0.0         18.96   \n",
      "\n",
      "   payment_type  duration  day_of_week      speed  tip_amount  \n",
      "0             1    1194.0            5   8.773869        2.76  \n",
      "1             2     113.0            5  11.469027        0.00  \n",
      "2             1     886.0            2   9.386005        2.66  \n",
      "3             1     392.0            2   8.816327        1.66  \n",
      "4             1    1243.0            0   8.283186        3.16  \n"
     ]
    }
   ],
   "source": [
    "df_all_, df_train, df_test = load_data()\n",
    "print (df_all_.head())\n",
    "# modeling\n",
    "features = ['VendorID',\n",
    "            'RatecodeID',\n",
    "            'PULocationID',\n",
    "            'DOLocationID',\n",
    "            'passenger_count',\n",
    "            'trip_distance',\n",
    "            'fare_amount',\n",
    "            'extra',\n",
    "            'tolls_amount',\n",
    "            'total_amount',\n",
    "            'payment_type',\n",
    "            'duration',\n",
    "            'day_of_week',\n",
    "            'speed',\n",
    "            'tip_amount']\n",
    "      \n",
    "X_train = df_all_[features].values\n",
    "y_train = X_train[:, X_train.shape[1]-1]\n",
    "\n",
    "X_test = df_test[features].values\n",
    "y_test = X_test[:, X_train.shape[1]-1]\n",
    "\n",
    "y_train = np.ravel(y_train)\n",
    "y_test = np.ravel(y_test)\n",
    "print (df_all_[features].head())"
   ]
  },
  {
   "cell_type": "code",
   "execution_count": 20,
   "metadata": {
    "collapsed": true
   },
   "outputs": [],
   "source": [
    "sample_size = 5000\n",
    "\n",
    "X_train = X_train[:sample_size]\n",
    "y_train = y_train[:sample_size]\n",
    "\n",
    "X_test = X_test[:sample_size]\n",
    "y_test = y_test[:sample_size]"
   ]
  },
  {
   "cell_type": "code",
   "execution_count": 21,
   "metadata": {
    "collapsed": true
   },
   "outputs": [],
   "source": [
    "# train xgb\n",
    "xgb = XGBRegressor(n_estimators=1000, max_depth=12, min_child_weight=150,\n",
    "                   subsample=0.7, colsample_bytree=0.3)\n",
    "y_test = np.zeros(len(X_test))"
   ]
  },
  {
   "cell_type": "code",
   "execution_count": 23,
   "metadata": {
    "scrolled": true
   },
   "outputs": [
    {
     "name": "stdout",
     "output_type": "stream",
     "text": [
      "----------------------\n",
      "Training model #0\n",
      "----------------------\n",
      "[0]\tvalidation_0-rmse:1.91461\n",
      "Will train until validation_0-rmse hasn't improved in 10 rounds.\n",
      "[25]\tvalidation_0-rmse:1.02815\n",
      "[50]\tvalidation_0-rmse:0.841787\n",
      "[75]\tvalidation_0-rmse:0.783748\n",
      "[100]\tvalidation_0-rmse:0.76696\n",
      "[125]\tvalidation_0-rmse:0.757514\n",
      "Stopping. Best iteration:\n",
      "[138]\tvalidation_0-rmse:0.752371\n",
      "\n",
      "----------------------\n",
      "Training model #1\n",
      "----------------------\n",
      "[0]\tvalidation_0-rmse:2.08856\n",
      "Will train until validation_0-rmse hasn't improved in 10 rounds.\n",
      "[25]\tvalidation_0-rmse:1.31898\n",
      "[50]\tvalidation_0-rmse:1.1808\n",
      "[75]\tvalidation_0-rmse:1.13081\n",
      "[100]\tvalidation_0-rmse:1.11815\n",
      "[125]\tvalidation_0-rmse:1.10455\n",
      "[150]\tvalidation_0-rmse:1.10124\n",
      "[175]\tvalidation_0-rmse:1.09583\n",
      "[200]\tvalidation_0-rmse:1.0917\n",
      "[225]\tvalidation_0-rmse:1.08998\n",
      "Stopping. Best iteration:\n",
      "[234]\tvalidation_0-rmse:1.0892\n",
      "\n"
     ]
    }
   ],
   "source": [
    "for i, (train_ind, val_ind) in enumerate(KFold(n_splits=2, shuffle=True,\n",
    "                                               random_state=1989).split(X_train)):\n",
    "    print('----------------------')\n",
    "    print('Training model #%d' % i)\n",
    "    print('----------------------')\n",
    "\n",
    "    xgb.fit(X_train[train_ind], y_train[train_ind],\n",
    "            eval_set=[(X_train[val_ind], y_train[val_ind])],\n",
    "            early_stopping_rounds=10, verbose=25)\n",
    "\n",
    "    y_test += xgb.predict(X_test, ntree_limit=xgb.best_ntree_limit)\n",
    "y_test /= 2"
   ]
  },
  {
   "cell_type": "code",
   "execution_count": 25,
   "metadata": {
    "collapsed": true
   },
   "outputs": [],
   "source": [
    "# need to transform into 1D array\n",
    "type_of_target(y_train)\n",
    "\n",
    "label_encoder = LabelEncoder()\n",
    "y_train = label_encoder.fit_transform(y_train)"
   ]
  },
  {
   "cell_type": "code",
   "execution_count": 26,
   "metadata": {},
   "outputs": [
    {
     "name": "stderr",
     "output_type": "stream",
     "text": [
      "/home/searoc/anaconda2/lib/python2.7/site-packages/sklearn/preprocessing/label.py:151: DeprecationWarning: The truth value of an empty array is ambiguous. Returning False, but in future this will result in an error. Use `array.size > 0` to check that an array is not empty.\n",
      "  if diff:\n",
      "/home/searoc/anaconda2/lib/python2.7/site-packages/sklearn/preprocessing/label.py:151: DeprecationWarning: The truth value of an empty array is ambiguous. Returning False, but in future this will result in an error. Use `array.size > 0` to check that an array is not empty.\n",
      "  if diff:\n",
      "/home/searoc/anaconda2/lib/python2.7/site-packages/sklearn/preprocessing/label.py:151: DeprecationWarning: The truth value of an empty array is ambiguous. Returning False, but in future this will result in an error. Use `array.size > 0` to check that an array is not empty.\n",
      "  if diff:\n",
      "/home/searoc/anaconda2/lib/python2.7/site-packages/sklearn/preprocessing/label.py:151: DeprecationWarning: The truth value of an empty array is ambiguous. Returning False, but in future this will result in an error. Use `array.size > 0` to check that an array is not empty.\n",
      "  if diff:\n",
      "/home/searoc/anaconda2/lib/python2.7/site-packages/sklearn/preprocessing/label.py:151: DeprecationWarning: The truth value of an empty array is ambiguous. Returning False, but in future this will result in an error. Use `array.size > 0` to check that an array is not empty.\n",
      "  if diff:\n",
      "/home/searoc/anaconda2/lib/python2.7/site-packages/sklearn/preprocessing/label.py:151: DeprecationWarning: The truth value of an empty array is ambiguous. Returning False, but in future this will result in an error. Use `array.size > 0` to check that an array is not empty.\n",
      "  if diff:\n",
      "/home/searoc/anaconda2/lib/python2.7/site-packages/sklearn/preprocessing/label.py:151: DeprecationWarning: The truth value of an empty array is ambiguous. Returning False, but in future this will result in an error. Use `array.size > 0` to check that an array is not empty.\n",
      "  if diff:\n",
      "/home/searoc/anaconda2/lib/python2.7/site-packages/sklearn/preprocessing/label.py:151: DeprecationWarning: The truth value of an empty array is ambiguous. Returning False, but in future this will result in an error. Use `array.size > 0` to check that an array is not empty.\n",
      "  if diff:\n",
      "/home/searoc/anaconda2/lib/python2.7/site-packages/sklearn/preprocessing/label.py:151: DeprecationWarning: The truth value of an empty array is ambiguous. Returning False, but in future this will result in an error. Use `array.size > 0` to check that an array is not empty.\n",
      "  if diff:\n"
     ]
    },
    {
     "name": "stdout",
     "output_type": "stream",
     "text": [
      "Accuracy: 95.74% (8.50%)\n"
     ]
    },
    {
     "name": "stderr",
     "output_type": "stream",
     "text": [
      "/home/searoc/anaconda2/lib/python2.7/site-packages/sklearn/preprocessing/label.py:151: DeprecationWarning: The truth value of an empty array is ambiguous. Returning False, but in future this will result in an error. Use `array.size > 0` to check that an array is not empty.\n",
      "  if diff:\n"
     ]
    }
   ],
   "source": [
    "from xgboost import XGBClassifier\n",
    "\n",
    "# CV model\n",
    "model = XGBClassifier()\n",
    "kfold = StratifiedKFold(n_splits=10, random_state=7)\n",
    "results = cross_val_score(model, X_train, y_train, cv=kfold)\n",
    "print(\"Accuracy: %.2f%% (%.2f%%)\" % (results.mean()*100, results.std()*100))"
   ]
  },
  {
   "cell_type": "code",
   "execution_count": null,
   "metadata": {
    "collapsed": true
   },
   "outputs": [],
   "source": []
  }
 ],
 "metadata": {
  "kernelspec": {
   "display_name": "Python 3",
   "language": "python",
   "name": "python3"
  },
  "language_info": {
   "codemirror_mode": {
    "name": "ipython",
    "version": 3
   },
   "file_extension": ".py",
   "mimetype": "text/x-python",
   "name": "python",
   "nbconvert_exporter": "python",
   "pygments_lexer": "ipython3",
   "version": "3.6.8"
  }
 },
 "nbformat": 4,
 "nbformat_minor": 2
}
