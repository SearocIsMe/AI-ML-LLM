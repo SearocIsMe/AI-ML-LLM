{
 "cells": [
  {
   "cell_type": "code",
   "execution_count": 1,
   "metadata": {
    "scrolled": false
   },
   "outputs": [],
   "source": [
    "# load basics library\n",
    "import pandas as pd\n",
    "import numpy as np\n",
    "import calendar\n",
    "from sklearn.cluster import MiniBatchKMeans\n",
    "from sklearn.model_selection import train_test_split\n",
    "import xgboost as xgb\n",
    "\n",
    "from sklearn.model_selection import train_test_split\n",
    "from sklearn.model_selection import KFold\n",
    "from xgboost import XGBRegressor\n",
    "from sklearn.model_selection import StratifiedKFold\n",
    "from sklearn.model_selection import cross_val_score\n",
    "from sklearn.preprocessing import LabelEncoder\n",
    "from sklearn.utils.multiclass import type_of_target"
   ]
  },
  {
   "cell_type": "code",
   "execution_count": 2,
   "metadata": {},
   "outputs": [],
   "source": [
    "def clean_data(df):\n",
    "    df_ = df.copy()\n",
    "    # remove the 2016-01-23 data since its too less comapre others days,\n",
    "    # maybe quality is not good\n",
    "    # df_ = df_[(df_.pickup_date != '2016-01-23') & (df_.dropoff_date != '2016-01-23')]\n",
    "    # potential passenger_count outlier\n",
    "    df_ = df_[(df_['passenger_count'] <= 6) & (df_['passenger_count'] > 0)]\n",
    "    return df_\n",
    "\n",
    "### ================================================ ###\n",
    "\n",
    "\n",
    "def load_data():\n",
    "    df_train = pd.read_csv('../../data/train.csv')\n",
    "    df_test = pd.read_csv('../../data/test.csv')\n",
    "    # sample train data for fast job\n",
    "    # df_train = df_train.sample(n=100)\n",
    "    # clean train data\n",
    "    df_train_ = clean_data(df_train)\n",
    "    df_test = clean_data(df_test)\n",
    "    # merge train and test data for fast process and let model view test data when training as well\n",
    "    df_all = pd.concat([df_train_, df_test], axis=0)\n",
    "    df_train.shape, df_test.shape\n",
    "    df_train.dtypes\n",
    "    return df_all, df_train_, df_test"
   ]
  },
  {
   "cell_type": "code",
   "execution_count": 3,
   "metadata": {},
   "outputs": [],
   "source": [
    "def get_predictor():\n",
    "    features = ['VendorID',\n",
    "                'RatecodeID',\n",
    "                'PULocationID',\n",
    "                'DOLocationID',\n",
    "                'passenger_count',\n",
    "                'trip_distance',\n",
    "                'fare_amount',\n",
    "                'extra',\n",
    "                'tolls_amount',\n",
    "                'total_amount',\n",
    "                'payment_type',\n",
    "                'duration',\n",
    "                'day_of_week',\n",
    "                'speed',\n",
    "                'tip']\n",
    "    return features"
   ]
  },
  {
   "cell_type": "code",
   "execution_count": 4,
   "metadata": {},
   "outputs": [],
   "source": [
    "def label_data_asArray():\n",
    "    df_train, df_test = load_data()\n",
    "    # modeling\n",
    "    features = get_predictor()\n",
    "    X_train = df_train[features].values\n",
    "    y_train = df_train['tip_amount'].values\n",
    "\n",
    "    X_test = df_test[features].values\n",
    "    y_test = df_test['tip_amount'].values\n",
    "\n",
    "    y_train = np.ravel(y_train)\n",
    "    y_test = np.ravel(y_test)\n",
    "    print (\"dataset loaded......\")\n",
    "    return X_train, y_train, X_test, y_test"
   ]
  },
  {
   "cell_type": "code",
   "execution_count": 5,
   "metadata": {},
   "outputs": [],
   "source": [
    "#check missing \n",
    "def check_missing(dataset):\n",
    "    dataset.apply(lambda x: sum(x.isnull()))"
   ]
  },
  {
   "cell_type": "code",
   "execution_count": 6,
   "metadata": {},
   "outputs": [],
   "source": [
    "def load_dataSet():\n",
    "    df_all_, df_train, df_test = load_data()\n",
    "    print (df_all_.head(2))\n",
    "    # modeling\n",
    "    features = get_predictor()\n",
    "    X_train = df_all_[features]\n",
    "    y_train = df_all_[\"tip_amount\"]\n",
    "\n",
    "    X_test = df_test[features]\n",
    "    y_test = df_test[\"tip_amount\"]\n",
    "    X_train.shape, y_train.shape, X_test.shape, y_test.shape\n",
    "    return X_train, y_train, X_test, y_test"
   ]
  },
  {
   "cell_type": "code",
   "execution_count": null,
   "metadata": {},
   "outputs": [],
   "source": []
  }
 ],
 "metadata": {
  "kernelspec": {
   "display_name": "Python 3",
   "language": "python",
   "name": "python3"
  },
  "language_info": {
   "codemirror_mode": {
    "name": "ipython",
    "version": 3
   },
   "file_extension": ".py",
   "mimetype": "text/x-python",
   "name": "python",
   "nbconvert_exporter": "python",
   "pygments_lexer": "ipython3",
   "version": "3.7.3"
  }
 },
 "nbformat": 4,
 "nbformat_minor": 2
}
