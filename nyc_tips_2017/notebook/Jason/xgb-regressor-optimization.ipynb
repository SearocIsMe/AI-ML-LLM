{
 "cells": [
  {
   "cell_type": "code",
   "execution_count": 1,
   "metadata": {},
   "outputs": [
    {
     "name": "stdout",
     "output_type": "stream",
     "text": [
      "importing Jupyter notebook from common_func.ipynb\n"
     ]
    }
   ],
   "source": [
    "# load basics library\n",
    "import datetime\n",
    "import pandas as pd\n",
    "import numpy as np\n",
    "import calendar\n",
    "from sklearn.cluster import MiniBatchKMeans\n",
    "from tpot import TPOTRegressor\n",
    "from sklearn.model_selection import train_test_split\n",
    "import xgboost as xgb\n",
    "from xgboost import XGBRegressor\n",
    "from xgboost import XGBClassifier\n",
    "from sklearn.svm.libsvm import cross_validation\n",
    "from sklearn.model_selection import *\n",
    "from sklearn.utils import shuffle\n",
    "from sklearn.ensemble import RandomForestClassifier\n",
    "from sklearn.preprocessing import *\n",
    "from sklearn.metrics import *\n",
    "from sklearn.utils.multiclass import type_of_target\n",
    "\n",
    "'''use this model_selection rather than grid-server,\n",
    "#  https://stackovlem o ferflow.com/questions/40257492/gridsearchcv-typeerror-stratifiedkfold-object-is-not-iterable?rq=1\n",
    "#  can solve problem of “'StratifiedKFold' object is not iterable”\n",
    "'''\n",
    "from sklearn.model_selection import GridSearchCV\n",
    "\n",
    "\n",
    "#import commond.ipynb from same folder\n",
    "import import_ipynb\n",
    "from common_func import *"
   ]
  },
  {
   "cell_type": "code",
   "execution_count": 2,
   "metadata": {},
   "outputs": [
    {
     "data": {
      "text/plain": [
       "dict_keys(['explained_variance', 'r2', 'neg_median_absolute_error', 'neg_mean_absolute_error', 'neg_mean_squared_error', 'neg_mean_squared_log_error', 'accuracy', 'roc_auc', 'balanced_accuracy', 'average_precision', 'neg_log_loss', 'brier_score_loss', 'adjusted_rand_score', 'homogeneity_score', 'completeness_score', 'v_measure_score', 'mutual_info_score', 'adjusted_mutual_info_score', 'normalized_mutual_info_score', 'fowlkes_mallows_score', 'precision', 'precision_macro', 'precision_micro', 'precision_samples', 'precision_weighted', 'recall', 'recall_macro', 'recall_micro', 'recall_samples', 'recall_weighted', 'f1', 'f1_macro', 'f1_micro', 'f1_samples', 'f1_weighted'])"
      ]
     },
     "execution_count": 2,
     "metadata": {},
     "output_type": "execute_result"
    }
   ],
   "source": [
    "SCORERS.keys()"
   ]
  },
  {
   "cell_type": "markdown",
   "metadata": {},
   "source": [
    "## Scoring\tFunction\tComment\n",
    "\n",
    "####　Classification\t \t \n",
    "‘accuracy’\tmetrics.accuracy_score\t \n",
    "‘balanced_accuracy’\tmetrics.balanced_accuracy_score\tfor binary targets\n",
    "‘average_precision’\tmetrics.average_precision_score\t \n",
    "‘brier_score_loss’\tmetrics.brier_score_loss\t \n",
    "‘f1’\tmetrics.f1_score\tfor binary targets\n",
    "‘f1_micro’\tmetrics.f1_score\tmicro-averaged\n",
    "‘f1_macro’\tmetrics.f1_score\tmacro-aeraged\n",
    "‘f1_weighted’\tmetrics.f1_score\tweighted average\n",
    "‘f1_samples’\tmetrics.f1_score\tby multilabel sample\n",
    "‘neg_log_loss’\tmetrics.log_loss\trequires predict_proba support\n",
    "‘precision’ etc.\tmetrics.precision_score\tsuffixes apply as with ‘f1’\n",
    "‘recall’ etc.\tmetrics.recall_score\tsuffixes apply as with ‘f1’\n",
    "‘roc_auc’\tmetrics.roc_auc_score\t \n",
    "\n",
    "####　Clustering\t \t \n",
    "‘adjusted_mutual_info_score’\tmetrics.adjusted_mutual_info_score\t \n",
    "‘adjusted_rand_score’\tmetrics.adjusted_rand_score\t \n",
    "‘completeness_score’\tmetrics.completeness_score\t \n",
    "‘fowlkes_mallows_score’\tmetrics.fowlkes_mallows_score\t \n",
    "‘homogeneity_score’\tmetrics.homogeneity_score\t \n",
    "‘mutual_info_score’\tmetrics.mutual_info_score\t \n",
    "‘normalized_mutual_info_score’\tmetrics.normalized_mutual_info_score\t \n",
    "‘v_measure_score’\tmetrics.v_measure_score\t \n",
    "\n",
    "####　Regression\t \t \n",
    "‘explained_variance’\tmetrics.explained_variance_score\t \n",
    "‘neg_mean_absolute_error’\tmetrics.mean_absolute_error\t \n",
    "‘neg_mean_squared_error’\tmetrics.mean_squared_error\t \n",
    "‘neg_mean_squared_log_error’\tmetrics.mean_squared_log_error\t \n",
    "‘neg_median_absolute_error’\tmetrics.median_absolute_error\t \n",
    "‘r2’\tmetrics.r2_score\t "
   ]
  },
  {
   "cell_type": "code",
   "execution_count": 3,
   "metadata": {},
   "outputs": [
    {
     "name": "stdout",
     "output_type": "stream",
     "text": [
      "   VendorID lpep_pickup_datetime lpep_dropoff_datetime store_and_fwd_flag  \\\n",
      "0         2  2017-01-07 12:47:25   2017-01-07 13:07:19                  N   \n",
      "1         2  2017-01-21 12:21:04   2017-01-21 12:22:57                  N   \n",
      "\n",
      "   RatecodeID  PULocationID  DOLocationID  passenger_count  trip_distance  \\\n",
      "0           1            40           141              1.0           2.91   \n",
      "1           1            74            74              1.0           0.36   \n",
      "\n",
      "   fare_amount ...   ehail_fee  improvement_surcharge  total_amount  \\\n",
      "0         13.0 ...         NaN                    0.3         16.56   \n",
      "1          3.5 ...         NaN                    0.3          4.30   \n",
      "\n",
      "   payment_type  trip_type  duration  day_of_week  weekend      speed  tip  \n",
      "0             1        1.0    1194.0            5        1   8.773869    1  \n",
      "1             2        1.0     113.0            5        1  11.469027    0  \n",
      "\n",
      "[2 rows x 24 columns]\n"
     ]
    }
   ],
   "source": [
    "X_train, y_train, X_test, y_test = load_dataSet()\n",
    "X_train, y_train, X_test, y_test = X_train.values, y_train.values, X_test.values, y_test.values"
   ]
  },
  {
   "cell_type": "markdown",
   "metadata": {},
   "source": [
    "## since Size of dataset is very big, it's chosed 5000 data point as input."
   ]
  },
  {
   "cell_type": "code",
   "execution_count": 4,
   "metadata": {},
   "outputs": [],
   "source": [
    "#X_train = X_train[:5000]\n",
    "#y_train = y_train[:5000]\n",
    "\n",
    "length = X_train.shape[0]\n",
    "# scale data since DL model is sentive to feature order of magnitude\n",
    "scalarX, scalarY = MinMaxScaler(), MinMaxScaler()\n",
    "scalarX.fit(X_train)\n",
    "scalarY.fit(y_train.reshape(length,1))\n",
    "X_train_scaled = scalarX.transform(X_train)\n",
    "y_train_scaled = scalarY.transform(y_train.reshape(length,1))\n",
    "\n",
    "length = X_test.shape[0]\n",
    "# scale data since DL model is sentive to feature order of magnitude\n",
    "scalarX, scalarY = MinMaxScaler(), MinMaxScaler()\n",
    "scalarX.fit(X_test)\n",
    "scalarY.fit(y_test.reshape(length,1))\n",
    "X_test_scaled = scalarX.transform(X_test)\n",
    "y_test_scaled = scalarY.transform(y_test.reshape(length,1))"
   ]
  },
  {
   "cell_type": "code",
   "execution_count": 5,
   "metadata": {},
   "outputs": [
    {
     "data": {
      "text/plain": [
       "((2086637, 15), (2086637, 1), (1019792, 15), (1019792, 1))"
      ]
     },
     "execution_count": 5,
     "metadata": {},
     "output_type": "execute_result"
    }
   ],
   "source": [
    "X_train_scaled.shape, y_train_scaled.shape, X_test_scaled.shape, y_test_scaled.shape"
   ]
  },
  {
   "cell_type": "code",
   "execution_count": 6,
   "metadata": {},
   "outputs": [],
   "source": [
    "##　https://xgboost.readthedocs.io/en/latest/parameter.html?highlight=objective"
   ]
  },
  {
   "cell_type": "code",
   "execution_count": null,
   "metadata": {},
   "outputs": [],
   "source": [
    "start_time  = datetime.datetime.now()\n",
    "\n",
    "# Various hyper-parameters to tune\n",
    "xgb1 = XGBRegressor()\n",
    "parameters = {'nthread':[6], #when use hyperthread, xgboost may become slower\n",
    "              'objective':['reg:linear'],\n",
    "              'learning_rate': [0.01, 0.02, .05], #so called `eta` value\n",
    "              'max_depth': [5, 6, 7, 9, 12],\n",
    "              'min_child_weight': [4, 6, 8],\n",
    "              'silent': [1],\n",
    "              'subsample': [0.8, 0.9],\n",
    "              'colsample_bytree': [0.7],\n",
    "              'n_estimators': [500, 600],\n",
    "              'tree_method': ['gpu_hist']}\n",
    "\n",
    "xgb_grid = GridSearchCV(xgb1,\n",
    "                        parameters,\n",
    "                        cv = 2,\n",
    "                        n_jobs = 8,\n",
    "                        verbose=True)\n",
    "\n",
    "xgb_grid.fit(X_train_scaled, y_train_scaled)\n",
    "end_time = datetime.datetime.now()\n",
    "    \n",
    "print(xgb_grid.best_score_)\n",
    "print(xgb_grid.best_params_)"
   ]
  },
  {
   "cell_type": "code",
   "execution_count": null,
   "metadata": {},
   "outputs": [],
   "source": [
    "print('Training Done..., Time Cost: %d' % ((end_time - start_time).seconds))"
   ]
  },
  {
   "cell_type": "code",
   "execution_count": 47,
   "metadata": {},
   "outputs": [
    {
     "name": "stdout",
     "output_type": "stream",
     "text": [
      "/bin/sh: 1: Syntax error: word unexpected (expecting \")\")\r\n"
     ]
    }
   ],
   "source": [
    "## with GPU is enabled,\n",
    "\n",
    "\n",
    "![GPU](\"../picture/GPU.png\")"
   ]
  },
  {
   "cell_type": "code",
   "execution_count": 13,
   "metadata": {},
   "outputs": [],
   "source": [
    "xlf = xgb.XGBRegressor(max_depth=12,\n",
    "                       tree_method='gpu_hist',\n",
    "                       objective='reg:linear',\n",
    "                       learning_rate=0.05,\n",
    "                       n_estimators=600,\n",
    "                       silent=True,\n",
    "                       gamma=0,\n",
    "                       min_child_weight=8,\n",
    "                       max_delta_step=0,\n",
    "                       subsample=0.8,\n",
    "                       colsample_bytree=0.7,\n",
    "                       colsample_bylevel=1,\n",
    "                       reg_alpha=1e0,\n",
    "                       reg_lambda=0,\n",
    "                       scale_pos_weight=1,\n",
    "                       seed=9,\n",
    "                       missing=None,\n",
    "                       nthread=6)"
   ]
  },
  {
   "cell_type": "code",
   "execution_count": 8,
   "metadata": {
    "scrolled": true
   },
   "outputs": [
    {
     "name": "stdout",
     "output_type": "stream",
     "text": [
      "   VendorID lpep_pickup_datetime lpep_dropoff_datetime store_and_fwd_flag  \\\n",
      "0         2  2017-01-07 12:47:25   2017-01-07 13:07:19                  N   \n",
      "1         2  2017-01-21 12:21:04   2017-01-21 12:22:57                  N   \n",
      "\n",
      "   RatecodeID  PULocationID  DOLocationID  passenger_count  trip_distance  \\\n",
      "0           1            40           141              1.0           2.91   \n",
      "1           1            74            74              1.0           0.36   \n",
      "\n",
      "   fare_amount ...   ehail_fee  improvement_surcharge  total_amount  \\\n",
      "0         13.0 ...         NaN                    0.3         16.56   \n",
      "1          3.5 ...         NaN                    0.3          4.30   \n",
      "\n",
      "   payment_type  trip_type  duration  day_of_week  weekend      speed  tip  \n",
      "0             1        1.0    1194.0            5        1   8.773869    1  \n",
      "1             2        1.0     113.0            5        1  11.469027    0  \n",
      "\n",
      "[2 rows x 24 columns]\n"
     ]
    }
   ],
   "source": [
    "X_train, y_train, X_test, y_test = load_dataSet()\n",
    "X_train, y_train, X_test, y_test = X_train.values, y_train.values, X_test.values, y_test.values"
   ]
  },
  {
   "cell_type": "code",
   "execution_count": 15,
   "metadata": {},
   "outputs": [],
   "source": [
    "length = X_test.shape[0]\n",
    "# scale data since DL model is sentive to feature order of magnitude\n",
    "scalarX, scalarY = MinMaxScaler(), MinMaxScaler()\n",
    "scalarX.fit(X_test)\n",
    "scalarY.fit(y_test.reshape(length,1))\n",
    "X_test_scaled = scalarX.transform(X_test)\n",
    "y_test_scaled = scalarY.transform(y_test.reshape(length,1))"
   ]
  },
  {
   "cell_type": "code",
   "execution_count": 10,
   "metadata": {},
   "outputs": [
    {
     "data": {
      "text/plain": [
       "((1019792, 15), (1019792, 1))"
      ]
     },
     "execution_count": 10,
     "metadata": {},
     "output_type": "execute_result"
    }
   ],
   "source": [
    "X_test_scaled.shape, y_test_scaled.shape\n"
   ]
  },
  {
   "cell_type": "code",
   "execution_count": 11,
   "metadata": {},
   "outputs": [],
   "source": [
    "eval_sets = [(X_train_scaled, y_train_scaled), (X_test_scaled, y_test_scaled)]\n",
    "eval_metrics = [\"mae\",\"error\",\"rmse\"]"
   ]
  },
  {
   "cell_type": "code",
   "execution_count": 14,
   "metadata": {},
   "outputs": [
    {
     "name": "stdout",
     "output_type": "stream",
     "text": [
      "[0]\tvalidation_0-mae:0.471429\tvalidation_0-error:0.003773\tvalidation_0-rmse:0.471476\tvalidation_1-mae:0.471389\tvalidation_1-error:0.003813\tvalidation_1-rmse:0.47144\n",
      "Multiple eval metrics have been passed: 'validation_1-rmse' will be used for early stopping.\n",
      "\n",
      "Will train until validation_1-rmse hasn't improved in 500 rounds.\n",
      "[1]\tvalidation_0-mae:0.44787\tvalidation_0-error:0.003773\tvalidation_0-rmse:0.447915\tvalidation_1-mae:0.447832\tvalidation_1-error:0.003813\tvalidation_1-rmse:0.447881\n",
      "[2]\tvalidation_0-mae:0.425485\tvalidation_0-error:0.003773\tvalidation_0-rmse:0.425527\tvalidation_1-mae:0.425449\tvalidation_1-error:0.003813\tvalidation_1-rmse:0.425494\n",
      "[3]\tvalidation_0-mae:0.404218\tvalidation_0-error:0.003773\tvalidation_0-rmse:0.404259\tvalidation_1-mae:0.404183\tvalidation_1-error:0.003813\tvalidation_1-rmse:0.404228\n",
      "[4]\tvalidation_0-mae:0.384014\tvalidation_0-error:0.003773\tvalidation_0-rmse:0.384054\tvalidation_1-mae:0.383982\tvalidation_1-error:0.003813\tvalidation_1-rmse:0.384024\n",
      "[5]\tvalidation_0-mae:0.364824\tvalidation_0-error:0.003773\tvalidation_0-rmse:0.364865\tvalidation_1-mae:0.364794\tvalidation_1-error:0.003813\tvalidation_1-rmse:0.364837\n",
      "[6]\tvalidation_0-mae:0.346589\tvalidation_0-error:0.003773\tvalidation_0-rmse:0.346628\tvalidation_1-mae:0.346561\tvalidation_1-error:0.003813\tvalidation_1-rmse:0.346603\n",
      "[7]\tvalidation_0-mae:0.329265\tvalidation_0-error:0.003773\tvalidation_0-rmse:0.329303\tvalidation_1-mae:0.329238\tvalidation_1-error:0.003813\tvalidation_1-rmse:0.329279\n",
      "[8]\tvalidation_0-mae:0.312822\tvalidation_0-error:0.003773\tvalidation_0-rmse:0.312859\tvalidation_1-mae:0.312789\tvalidation_1-error:0.003813\tvalidation_1-rmse:0.312828\n",
      "[9]\tvalidation_0-mae:0.297185\tvalidation_0-error:0.003773\tvalidation_0-rmse:0.297222\tvalidation_1-mae:0.297154\tvalidation_1-error:0.003813\tvalidation_1-rmse:0.297192\n",
      "[10]\tvalidation_0-mae:0.282335\tvalidation_0-error:0.003773\tvalidation_0-rmse:0.282369\tvalidation_1-mae:0.282304\tvalidation_1-error:0.003813\tvalidation_1-rmse:0.282341\n",
      "[11]\tvalidation_0-mae:0.268227\tvalidation_0-error:0.003773\tvalidation_0-rmse:0.26826\tvalidation_1-mae:0.268198\tvalidation_1-error:0.003813\tvalidation_1-rmse:0.268233\n",
      "[12]\tvalidation_0-mae:0.254824\tvalidation_0-error:0.003773\tvalidation_0-rmse:0.254856\tvalidation_1-mae:0.254796\tvalidation_1-error:0.003813\tvalidation_1-rmse:0.25483\n",
      "[13]\tvalidation_0-mae:0.242092\tvalidation_0-error:0.003773\tvalidation_0-rmse:0.242123\tvalidation_1-mae:0.242064\tvalidation_1-error:0.003813\tvalidation_1-rmse:0.242096\n",
      "[14]\tvalidation_0-mae:0.229993\tvalidation_0-error:0.003773\tvalidation_0-rmse:0.230023\tvalidation_1-mae:0.229966\tvalidation_1-error:0.003813\tvalidation_1-rmse:0.229998\n",
      "[15]\tvalidation_0-mae:0.218499\tvalidation_0-error:0.003773\tvalidation_0-rmse:0.21853\tvalidation_1-mae:0.218474\tvalidation_1-error:0.003813\tvalidation_1-rmse:0.218506\n",
      "[16]\tvalidation_0-mae:0.20758\tvalidation_0-error:0.003773\tvalidation_0-rmse:0.20761\tvalidation_1-mae:0.207555\tvalidation_1-error:0.003813\tvalidation_1-rmse:0.207587\n",
      "[17]\tvalidation_0-mae:0.197206\tvalidation_0-error:0.003773\tvalidation_0-rmse:0.197237\tvalidation_1-mae:0.197184\tvalidation_1-error:0.003813\tvalidation_1-rmse:0.197216\n",
      "[18]\tvalidation_0-mae:0.187355\tvalidation_0-error:0.003773\tvalidation_0-rmse:0.187384\tvalidation_1-mae:0.187333\tvalidation_1-error:0.003813\tvalidation_1-rmse:0.187364\n",
      "[19]\tvalidation_0-mae:0.177993\tvalidation_0-error:0.003773\tvalidation_0-rmse:0.178023\tvalidation_1-mae:0.177972\tvalidation_1-error:0.003813\tvalidation_1-rmse:0.178004\n",
      "[20]\tvalidation_0-mae:0.169097\tvalidation_0-error:0.003773\tvalidation_0-rmse:0.169127\tvalidation_1-mae:0.169077\tvalidation_1-error:0.003813\tvalidation_1-rmse:0.169109\n",
      "[21]\tvalidation_0-mae:0.16065\tvalidation_0-error:0.003773\tvalidation_0-rmse:0.160679\tvalidation_1-mae:0.160631\tvalidation_1-error:0.003813\tvalidation_1-rmse:0.160662\n",
      "[22]\tvalidation_0-mae:0.152626\tvalidation_0-error:0.003773\tvalidation_0-rmse:0.152655\tvalidation_1-mae:0.152607\tvalidation_1-error:0.003813\tvalidation_1-rmse:0.152638\n",
      "[23]\tvalidation_0-mae:0.145002\tvalidation_0-error:0.003773\tvalidation_0-rmse:0.14503\tvalidation_1-mae:0.144984\tvalidation_1-error:0.003813\tvalidation_1-rmse:0.145014\n",
      "[24]\tvalidation_0-mae:0.137759\tvalidation_0-error:0.003773\tvalidation_0-rmse:0.137787\tvalidation_1-mae:0.137742\tvalidation_1-error:0.003813\tvalidation_1-rmse:0.137772\n",
      "[25]\tvalidation_0-mae:0.130877\tvalidation_0-error:0.003773\tvalidation_0-rmse:0.130905\tvalidation_1-mae:0.13086\tvalidation_1-error:0.003813\tvalidation_1-rmse:0.130891\n",
      "[26]\tvalidation_0-mae:0.12434\tvalidation_0-error:0.003773\tvalidation_0-rmse:0.124367\tvalidation_1-mae:0.124324\tvalidation_1-error:0.003813\tvalidation_1-rmse:0.124354\n",
      "[27]\tvalidation_0-mae:0.118133\tvalidation_0-error:0.003773\tvalidation_0-rmse:0.11816\tvalidation_1-mae:0.118116\tvalidation_1-error:0.003813\tvalidation_1-rmse:0.118146\n",
      "[28]\tvalidation_0-mae:0.11223\tvalidation_0-error:0.003773\tvalidation_0-rmse:0.112259\tvalidation_1-mae:0.112214\tvalidation_1-error:0.003813\tvalidation_1-rmse:0.112245\n",
      "[29]\tvalidation_0-mae:0.106632\tvalidation_0-error:0.003773\tvalidation_0-rmse:0.106661\tvalidation_1-mae:0.106616\tvalidation_1-error:0.003813\tvalidation_1-rmse:0.106648\n",
      "[30]\tvalidation_0-mae:0.101308\tvalidation_0-error:0.003773\tvalidation_0-rmse:0.101338\tvalidation_1-mae:0.101293\tvalidation_1-error:0.003813\tvalidation_1-rmse:0.101326\n",
      "[31]\tvalidation_0-mae:0.096246\tvalidation_0-error:0.003773\tvalidation_0-rmse:0.096277\tvalidation_1-mae:0.096231\tvalidation_1-error:0.003813\tvalidation_1-rmse:0.096265\n",
      "[32]\tvalidation_0-mae:0.09144\tvalidation_0-error:0.003773\tvalidation_0-rmse:0.091471\tvalidation_1-mae:0.091425\tvalidation_1-error:0.003813\tvalidation_1-rmse:0.091461\n",
      "[33]\tvalidation_0-mae:0.086872\tvalidation_0-error:0.003773\tvalidation_0-rmse:0.086904\tvalidation_1-mae:0.086857\tvalidation_1-error:0.003813\tvalidation_1-rmse:0.086894\n",
      "[34]\tvalidation_0-mae:0.082536\tvalidation_0-error:0.003773\tvalidation_0-rmse:0.082569\tvalidation_1-mae:0.082521\tvalidation_1-error:0.003813\tvalidation_1-rmse:0.082559\n",
      "[35]\tvalidation_0-mae:0.078421\tvalidation_0-error:0.003773\tvalidation_0-rmse:0.078454\tvalidation_1-mae:0.078407\tvalidation_1-error:0.003813\tvalidation_1-rmse:0.078446\n",
      "[36]\tvalidation_0-mae:0.074508\tvalidation_0-error:0.003773\tvalidation_0-rmse:0.074542\tvalidation_1-mae:0.074494\tvalidation_1-error:0.003813\tvalidation_1-rmse:0.074534\n",
      "[37]\tvalidation_0-mae:0.070788\tvalidation_0-error:0.003773\tvalidation_0-rmse:0.070823\tvalidation_1-mae:0.070775\tvalidation_1-error:0.003813\tvalidation_1-rmse:0.070816\n",
      "[38]\tvalidation_0-mae:0.067255\tvalidation_0-error:0.003773\tvalidation_0-rmse:0.06729\tvalidation_1-mae:0.067241\tvalidation_1-error:0.003813\tvalidation_1-rmse:0.067284\n",
      "[39]\tvalidation_0-mae:0.063898\tvalidation_0-error:0.003773\tvalidation_0-rmse:0.063935\tvalidation_1-mae:0.063885\tvalidation_1-error:0.003813\tvalidation_1-rmse:0.063929\n",
      "[40]\tvalidation_0-mae:0.06071\tvalidation_0-error:0.003773\tvalidation_0-rmse:0.060747\tvalidation_1-mae:0.060697\tvalidation_1-error:0.003813\tvalidation_1-rmse:0.060742\n",
      "[41]\tvalidation_0-mae:0.057682\tvalidation_0-error:0.003773\tvalidation_0-rmse:0.05772\tvalidation_1-mae:0.057669\tvalidation_1-error:0.003813\tvalidation_1-rmse:0.057716\n",
      "[42]\tvalidation_0-mae:0.054804\tvalidation_0-error:0.003773\tvalidation_0-rmse:0.054844\tvalidation_1-mae:0.054791\tvalidation_1-error:0.003813\tvalidation_1-rmse:0.05484\n",
      "[43]\tvalidation_0-mae:0.052067\tvalidation_0-error:0.003773\tvalidation_0-rmse:0.052109\tvalidation_1-mae:0.052054\tvalidation_1-error:0.003813\tvalidation_1-rmse:0.052106\n",
      "[44]\tvalidation_0-mae:0.04947\tvalidation_0-error:0.003773\tvalidation_0-rmse:0.049513\tvalidation_1-mae:0.049457\tvalidation_1-error:0.003813\tvalidation_1-rmse:0.049511\n",
      "[45]\tvalidation_0-mae:0.047\tvalidation_0-error:0.003773\tvalidation_0-rmse:0.047045\tvalidation_1-mae:0.046987\tvalidation_1-error:0.003813\tvalidation_1-rmse:0.047044\n",
      "[46]\tvalidation_0-mae:0.044656\tvalidation_0-error:0.003773\tvalidation_0-rmse:0.044703\tvalidation_1-mae:0.044643\tvalidation_1-error:0.003813\tvalidation_1-rmse:0.044703\n",
      "[47]\tvalidation_0-mae:0.042428\tvalidation_0-error:0.003773\tvalidation_0-rmse:0.042477\tvalidation_1-mae:0.042416\tvalidation_1-error:0.003813\tvalidation_1-rmse:0.042478\n",
      "[48]\tvalidation_0-mae:0.040312\tvalidation_0-error:0.003773\tvalidation_0-rmse:0.040364\tvalidation_1-mae:0.0403\tvalidation_1-error:0.003813\tvalidation_1-rmse:0.040365\n"
     ]
    },
    {
     "name": "stdout",
     "output_type": "stream",
     "text": [
      "[49]\tvalidation_0-mae:0.038302\tvalidation_0-error:0.003773\tvalidation_0-rmse:0.038356\tvalidation_1-mae:0.038289\tvalidation_1-error:0.003813\tvalidation_1-rmse:0.038358\n",
      "[50]\tvalidation_0-mae:0.036394\tvalidation_0-error:0.003773\tvalidation_0-rmse:0.03645\tvalidation_1-mae:0.03638\tvalidation_1-error:0.003813\tvalidation_1-rmse:0.036453\n",
      "[51]\tvalidation_0-mae:0.034579\tvalidation_0-error:0.003773\tvalidation_0-rmse:0.034639\tvalidation_1-mae:0.034565\tvalidation_1-error:0.003813\tvalidation_1-rmse:0.034641\n",
      "[52]\tvalidation_0-mae:0.032856\tvalidation_0-error:0.003773\tvalidation_0-rmse:0.032918\tvalidation_1-mae:0.032842\tvalidation_1-error:0.003813\tvalidation_1-rmse:0.032921\n",
      "[53]\tvalidation_0-mae:0.031219\tvalidation_0-error:0.003773\tvalidation_0-rmse:0.031284\tvalidation_1-mae:0.031204\tvalidation_1-error:0.003813\tvalidation_1-rmse:0.031288\n",
      "[54]\tvalidation_0-mae:0.029662\tvalidation_0-error:0.003773\tvalidation_0-rmse:0.02973\tvalidation_1-mae:0.029647\tvalidation_1-error:0.003813\tvalidation_1-rmse:0.029735\n",
      "[55]\tvalidation_0-mae:0.028185\tvalidation_0-error:0.003773\tvalidation_0-rmse:0.028256\tvalidation_1-mae:0.02817\tvalidation_1-error:0.003813\tvalidation_1-rmse:0.028262\n",
      "[56]\tvalidation_0-mae:0.026782\tvalidation_0-error:0.003773\tvalidation_0-rmse:0.026857\tvalidation_1-mae:0.026767\tvalidation_1-error:0.003813\tvalidation_1-rmse:0.026865\n",
      "[57]\tvalidation_0-mae:0.025448\tvalidation_0-error:0.003773\tvalidation_0-rmse:0.025526\tvalidation_1-mae:0.025433\tvalidation_1-error:0.003813\tvalidation_1-rmse:0.025535\n",
      "[58]\tvalidation_0-mae:0.024178\tvalidation_0-error:0.003773\tvalidation_0-rmse:0.02426\tvalidation_1-mae:0.024163\tvalidation_1-error:0.003813\tvalidation_1-rmse:0.024271\n",
      "[59]\tvalidation_0-mae:0.022972\tvalidation_0-error:0.003773\tvalidation_0-rmse:0.023059\tvalidation_1-mae:0.022958\tvalidation_1-error:0.003813\tvalidation_1-rmse:0.023072\n",
      "[60]\tvalidation_0-mae:0.021828\tvalidation_0-error:0.003773\tvalidation_0-rmse:0.02192\tvalidation_1-mae:0.021814\tvalidation_1-error:0.003813\tvalidation_1-rmse:0.021934\n",
      "[61]\tvalidation_0-mae:0.020741\tvalidation_0-error:0.003773\tvalidation_0-rmse:0.020836\tvalidation_1-mae:0.020726\tvalidation_1-error:0.003813\tvalidation_1-rmse:0.020852\n",
      "[62]\tvalidation_0-mae:0.019707\tvalidation_0-error:0.003773\tvalidation_0-rmse:0.019808\tvalidation_1-mae:0.019693\tvalidation_1-error:0.003813\tvalidation_1-rmse:0.019825\n",
      "[63]\tvalidation_0-mae:0.018725\tvalidation_0-error:0.003773\tvalidation_0-rmse:0.018831\tvalidation_1-mae:0.018712\tvalidation_1-error:0.003813\tvalidation_1-rmse:0.018851\n",
      "[64]\tvalidation_0-mae:0.017792\tvalidation_0-error:0.003773\tvalidation_0-rmse:0.017904\tvalidation_1-mae:0.017778\tvalidation_1-error:0.003813\tvalidation_1-rmse:0.017926\n",
      "[65]\tvalidation_0-mae:0.016906\tvalidation_0-error:0.003773\tvalidation_0-rmse:0.017024\tvalidation_1-mae:0.016892\tvalidation_1-error:0.003813\tvalidation_1-rmse:0.017048\n",
      "[66]\tvalidation_0-mae:0.016064\tvalidation_0-error:0.003773\tvalidation_0-rmse:0.016187\tvalidation_1-mae:0.01605\tvalidation_1-error:0.003813\tvalidation_1-rmse:0.016214\n",
      "[67]\tvalidation_0-mae:0.015266\tvalidation_0-error:0.003773\tvalidation_0-rmse:0.015396\tvalidation_1-mae:0.015252\tvalidation_1-error:0.003813\tvalidation_1-rmse:0.015424\n",
      "[68]\tvalidation_0-mae:0.014506\tvalidation_0-error:0.003773\tvalidation_0-rmse:0.014643\tvalidation_1-mae:0.014492\tvalidation_1-error:0.003813\tvalidation_1-rmse:0.014674\n",
      "[69]\tvalidation_0-mae:0.013784\tvalidation_0-error:0.003773\tvalidation_0-rmse:0.013928\tvalidation_1-mae:0.013771\tvalidation_1-error:0.003813\tvalidation_1-rmse:0.013961\n",
      "[70]\tvalidation_0-mae:0.013099\tvalidation_0-error:0.003773\tvalidation_0-rmse:0.01325\tvalidation_1-mae:0.013086\tvalidation_1-error:0.003813\tvalidation_1-rmse:0.013286\n",
      "[71]\tvalidation_0-mae:0.012447\tvalidation_0-error:0.003773\tvalidation_0-rmse:0.012606\tvalidation_1-mae:0.012434\tvalidation_1-error:0.003813\tvalidation_1-rmse:0.012645\n",
      "[72]\tvalidation_0-mae:0.011828\tvalidation_0-error:0.003773\tvalidation_0-rmse:0.011995\tvalidation_1-mae:0.011815\tvalidation_1-error:0.003813\tvalidation_1-rmse:0.012037\n",
      "[73]\tvalidation_0-mae:0.01124\tvalidation_0-error:0.003773\tvalidation_0-rmse:0.011415\tvalidation_1-mae:0.011227\tvalidation_1-error:0.003813\tvalidation_1-rmse:0.01146\n",
      "[74]\tvalidation_0-mae:0.010682\tvalidation_0-error:0.003773\tvalidation_0-rmse:0.010865\tvalidation_1-mae:0.010669\tvalidation_1-error:0.003813\tvalidation_1-rmse:0.010913\n",
      "[75]\tvalidation_0-mae:0.010152\tvalidation_0-error:0.003773\tvalidation_0-rmse:0.010345\tvalidation_1-mae:0.010139\tvalidation_1-error:0.003813\tvalidation_1-rmse:0.010396\n",
      "[76]\tvalidation_0-mae:0.009648\tvalidation_0-error:0.003773\tvalidation_0-rmse:0.00985\tvalidation_1-mae:0.009635\tvalidation_1-error:0.003813\tvalidation_1-rmse:0.009904\n",
      "[77]\tvalidation_0-mae:0.00917\tvalidation_0-error:0.003773\tvalidation_0-rmse:0.009382\tvalidation_1-mae:0.009157\tvalidation_1-error:0.003813\tvalidation_1-rmse:0.00944\n",
      "[78]\tvalidation_0-mae:0.008716\tvalidation_0-error:0.003773\tvalidation_0-rmse:0.008938\tvalidation_1-mae:0.008703\tvalidation_1-error:0.003813\tvalidation_1-rmse:0.009\n",
      "[79]\tvalidation_0-mae:0.008284\tvalidation_0-error:0.003773\tvalidation_0-rmse:0.008517\tvalidation_1-mae:0.008271\tvalidation_1-error:0.003813\tvalidation_1-rmse:0.008582\n",
      "[80]\tvalidation_0-mae:0.007874\tvalidation_0-error:0.003773\tvalidation_0-rmse:0.008119\tvalidation_1-mae:0.007861\tvalidation_1-error:0.003813\tvalidation_1-rmse:0.008188\n",
      "[81]\tvalidation_0-mae:0.007485\tvalidation_0-error:0.003773\tvalidation_0-rmse:0.007742\tvalidation_1-mae:0.007472\tvalidation_1-error:0.003813\tvalidation_1-rmse:0.007815\n",
      "[82]\tvalidation_0-mae:0.007115\tvalidation_0-error:0.003773\tvalidation_0-rmse:0.007384\tvalidation_1-mae:0.007102\tvalidation_1-error:0.003813\tvalidation_1-rmse:0.00746\n",
      "[83]\tvalidation_0-mae:0.006764\tvalidation_0-error:0.003773\tvalidation_0-rmse:0.007046\tvalidation_1-mae:0.006751\tvalidation_1-error:0.003813\tvalidation_1-rmse:0.007127\n",
      "[84]\tvalidation_0-mae:0.006431\tvalidation_0-error:0.003773\tvalidation_0-rmse:0.006727\tvalidation_1-mae:0.006418\tvalidation_1-error:0.003813\tvalidation_1-rmse:0.006812\n",
      "[85]\tvalidation_0-mae:0.006115\tvalidation_0-error:0.003773\tvalidation_0-rmse:0.006424\tvalidation_1-mae:0.006102\tvalidation_1-error:0.003813\tvalidation_1-rmse:0.006514\n",
      "[86]\tvalidation_0-mae:0.005814\tvalidation_0-error:0.003773\tvalidation_0-rmse:0.006137\tvalidation_1-mae:0.005801\tvalidation_1-error:0.003813\tvalidation_1-rmse:0.006232\n",
      "[87]\tvalidation_0-mae:0.005529\tvalidation_0-error:0.003773\tvalidation_0-rmse:0.005867\tvalidation_1-mae:0.005516\tvalidation_1-error:0.003813\tvalidation_1-rmse:0.005966\n",
      "[88]\tvalidation_0-mae:0.005258\tvalidation_0-error:0.003773\tvalidation_0-rmse:0.005612\tvalidation_1-mae:0.005245\tvalidation_1-error:0.003813\tvalidation_1-rmse:0.005717\n",
      "[89]\tvalidation_0-mae:0.005\tvalidation_0-error:0.003773\tvalidation_0-rmse:0.005371\tvalidation_1-mae:0.004988\tvalidation_1-error:0.003813\tvalidation_1-rmse:0.00548\n",
      "[90]\tvalidation_0-mae:0.004756\tvalidation_0-error:0.003773\tvalidation_0-rmse:0.005144\tvalidation_1-mae:0.004744\tvalidation_1-error:0.003813\tvalidation_1-rmse:0.005259\n",
      "[91]\tvalidation_0-mae:0.004525\tvalidation_0-error:0.003773\tvalidation_0-rmse:0.00493\tvalidation_1-mae:0.004513\tvalidation_1-error:0.003813\tvalidation_1-rmse:0.005051\n",
      "[92]\tvalidation_0-mae:0.004306\tvalidation_0-error:0.003773\tvalidation_0-rmse:0.004729\tvalidation_1-mae:0.004294\tvalidation_1-error:0.003813\tvalidation_1-rmse:0.004855\n",
      "[93]\tvalidation_0-mae:0.004098\tvalidation_0-error:0.003773\tvalidation_0-rmse:0.00454\tvalidation_1-mae:0.004086\tvalidation_1-error:0.003813\tvalidation_1-rmse:0.004672\n",
      "[94]\tvalidation_0-mae:0.003901\tvalidation_0-error:0.003773\tvalidation_0-rmse:0.004362\tvalidation_1-mae:0.003888\tvalidation_1-error:0.003813\tvalidation_1-rmse:0.0045\n",
      "[95]\tvalidation_0-mae:0.003713\tvalidation_0-error:0.003773\tvalidation_0-rmse:0.004193\tvalidation_1-mae:0.0037\tvalidation_1-error:0.003813\tvalidation_1-rmse:0.004337\n",
      "[96]\tvalidation_0-mae:0.003534\tvalidation_0-error:0.003773\tvalidation_0-rmse:0.004034\tvalidation_1-mae:0.003522\tvalidation_1-error:0.003813\tvalidation_1-rmse:0.004185\n",
      "[97]\tvalidation_0-mae:0.003365\tvalidation_0-error:0.003773\tvalidation_0-rmse:0.003886\tvalidation_1-mae:0.003353\tvalidation_1-error:0.003813\tvalidation_1-rmse:0.004043\n",
      "[98]\tvalidation_0-mae:0.003204\tvalidation_0-error:0.003773\tvalidation_0-rmse:0.003747\tvalidation_1-mae:0.003192\tvalidation_1-error:0.003813\tvalidation_1-rmse:0.003909\n"
     ]
    },
    {
     "name": "stdout",
     "output_type": "stream",
     "text": [
      "[99]\tvalidation_0-mae:0.003052\tvalidation_0-error:0.003773\tvalidation_0-rmse:0.003616\tvalidation_1-mae:0.00304\tvalidation_1-error:0.003813\tvalidation_1-rmse:0.003785\n",
      "[100]\tvalidation_0-mae:0.002908\tvalidation_0-error:0.003773\tvalidation_0-rmse:0.003494\tvalidation_1-mae:0.002896\tvalidation_1-error:0.003813\tvalidation_1-rmse:0.00367\n",
      "[101]\tvalidation_0-mae:0.002771\tvalidation_0-error:0.003773\tvalidation_0-rmse:0.00338\tvalidation_1-mae:0.002759\tvalidation_1-error:0.003813\tvalidation_1-rmse:0.003561\n",
      "[102]\tvalidation_0-mae:0.002641\tvalidation_0-error:0.003773\tvalidation_0-rmse:0.003273\tvalidation_1-mae:0.002629\tvalidation_1-error:0.003813\tvalidation_1-rmse:0.003461\n",
      "[103]\tvalidation_0-mae:0.002518\tvalidation_0-error:0.003773\tvalidation_0-rmse:0.003175\tvalidation_1-mae:0.002507\tvalidation_1-error:0.003813\tvalidation_1-rmse:0.003369\n",
      "[104]\tvalidation_0-mae:0.002402\tvalidation_0-error:0.003773\tvalidation_0-rmse:0.003083\tvalidation_1-mae:0.002391\tvalidation_1-error:0.003813\tvalidation_1-rmse:0.003283\n",
      "[105]\tvalidation_0-mae:0.002293\tvalidation_0-error:0.003773\tvalidation_0-rmse:0.002998\tvalidation_1-mae:0.002282\tvalidation_1-error:0.003813\tvalidation_1-rmse:0.003205\n",
      "[106]\tvalidation_0-mae:0.002188\tvalidation_0-error:0.003773\tvalidation_0-rmse:0.002916\tvalidation_1-mae:0.002177\tvalidation_1-error:0.003813\tvalidation_1-rmse:0.003126\n",
      "[107]\tvalidation_0-mae:0.002089\tvalidation_0-error:0.003773\tvalidation_0-rmse:0.00284\tvalidation_1-mae:0.002077\tvalidation_1-error:0.003813\tvalidation_1-rmse:0.003056\n",
      "[108]\tvalidation_0-mae:0.001994\tvalidation_0-error:0.003773\tvalidation_0-rmse:0.00277\tvalidation_1-mae:0.001983\tvalidation_1-error:0.003813\tvalidation_1-rmse:0.002991\n",
      "[109]\tvalidation_0-mae:0.001906\tvalidation_0-error:0.003773\tvalidation_0-rmse:0.002707\tvalidation_1-mae:0.001895\tvalidation_1-error:0.003813\tvalidation_1-rmse:0.002933\n",
      "[110]\tvalidation_0-mae:0.001822\tvalidation_0-error:0.003773\tvalidation_0-rmse:0.002649\tvalidation_1-mae:0.001811\tvalidation_1-error:0.003813\tvalidation_1-rmse:0.002881\n",
      "[111]\tvalidation_0-mae:0.001742\tvalidation_0-error:0.003773\tvalidation_0-rmse:0.002594\tvalidation_1-mae:0.001731\tvalidation_1-error:0.003813\tvalidation_1-rmse:0.00283\n",
      "[112]\tvalidation_0-mae:0.001667\tvalidation_0-error:0.003773\tvalidation_0-rmse:0.002543\tvalidation_1-mae:0.001656\tvalidation_1-error:0.003813\tvalidation_1-rmse:0.002784\n",
      "[113]\tvalidation_0-mae:0.001595\tvalidation_0-error:0.003773\tvalidation_0-rmse:0.002496\tvalidation_1-mae:0.001585\tvalidation_1-error:0.003813\tvalidation_1-rmse:0.002741\n",
      "[114]\tvalidation_0-mae:0.001527\tvalidation_0-error:0.003773\tvalidation_0-rmse:0.002452\tvalidation_1-mae:0.001517\tvalidation_1-error:0.003813\tvalidation_1-rmse:0.002702\n",
      "[115]\tvalidation_0-mae:0.001464\tvalidation_0-error:0.003773\tvalidation_0-rmse:0.002413\tvalidation_1-mae:0.001454\tvalidation_1-error:0.003813\tvalidation_1-rmse:0.002666\n",
      "[116]\tvalidation_0-mae:0.001403\tvalidation_0-error:0.003773\tvalidation_0-rmse:0.002376\tvalidation_1-mae:0.001393\tvalidation_1-error:0.003813\tvalidation_1-rmse:0.002631\n",
      "[117]\tvalidation_0-mae:0.001346\tvalidation_0-error:0.003773\tvalidation_0-rmse:0.002343\tvalidation_1-mae:0.001336\tvalidation_1-error:0.003813\tvalidation_1-rmse:0.002602\n",
      "[118]\tvalidation_0-mae:0.001293\tvalidation_0-error:0.003773\tvalidation_0-rmse:0.002313\tvalidation_1-mae:0.001283\tvalidation_1-error:0.003813\tvalidation_1-rmse:0.002576\n",
      "[119]\tvalidation_0-mae:0.001241\tvalidation_0-error:0.003773\tvalidation_0-rmse:0.002284\tvalidation_1-mae:0.001231\tvalidation_1-error:0.003813\tvalidation_1-rmse:0.002549\n",
      "[120]\tvalidation_0-mae:0.001193\tvalidation_0-error:0.003773\tvalidation_0-rmse:0.002258\tvalidation_1-mae:0.001183\tvalidation_1-error:0.003813\tvalidation_1-rmse:0.002527\n",
      "[121]\tvalidation_0-mae:0.001148\tvalidation_0-error:0.003773\tvalidation_0-rmse:0.002235\tvalidation_1-mae:0.001138\tvalidation_1-error:0.003813\tvalidation_1-rmse:0.002507\n",
      "[122]\tvalidation_0-mae:0.001105\tvalidation_0-error:0.003773\tvalidation_0-rmse:0.002214\tvalidation_1-mae:0.001096\tvalidation_1-error:0.003813\tvalidation_1-rmse:0.002489\n",
      "[123]\tvalidation_0-mae:0.001064\tvalidation_0-error:0.003773\tvalidation_0-rmse:0.002194\tvalidation_1-mae:0.001055\tvalidation_1-error:0.003813\tvalidation_1-rmse:0.00247\n",
      "[124]\tvalidation_0-mae:0.001025\tvalidation_0-error:0.003773\tvalidation_0-rmse:0.002174\tvalidation_1-mae:0.001016\tvalidation_1-error:0.003813\tvalidation_1-rmse:0.002452\n",
      "[125]\tvalidation_0-mae:0.000988\tvalidation_0-error:0.003773\tvalidation_0-rmse:0.002155\tvalidation_1-mae:0.000979\tvalidation_1-error:0.003813\tvalidation_1-rmse:0.002435\n",
      "[126]\tvalidation_0-mae:0.000953\tvalidation_0-error:0.003773\tvalidation_0-rmse:0.002139\tvalidation_1-mae:0.000944\tvalidation_1-error:0.003813\tvalidation_1-rmse:0.002421\n",
      "[127]\tvalidation_0-mae:0.000921\tvalidation_0-error:0.003773\tvalidation_0-rmse:0.002126\tvalidation_1-mae:0.000913\tvalidation_1-error:0.003813\tvalidation_1-rmse:0.002409\n",
      "[128]\tvalidation_0-mae:0.00089\tvalidation_0-error:0.003773\tvalidation_0-rmse:0.002112\tvalidation_1-mae:0.000882\tvalidation_1-error:0.003813\tvalidation_1-rmse:0.002397\n",
      "[129]\tvalidation_0-mae:0.000861\tvalidation_0-error:0.003773\tvalidation_0-rmse:0.0021\tvalidation_1-mae:0.000854\tvalidation_1-error:0.003813\tvalidation_1-rmse:0.002387\n",
      "[130]\tvalidation_0-mae:0.000834\tvalidation_0-error:0.003773\tvalidation_0-rmse:0.002089\tvalidation_1-mae:0.000827\tvalidation_1-error:0.003813\tvalidation_1-rmse:0.002378\n",
      "[131]\tvalidation_0-mae:0.000808\tvalidation_0-error:0.003773\tvalidation_0-rmse:0.002079\tvalidation_1-mae:0.000801\tvalidation_1-error:0.003813\tvalidation_1-rmse:0.002368\n",
      "[132]\tvalidation_0-mae:0.000783\tvalidation_0-error:0.003773\tvalidation_0-rmse:0.002068\tvalidation_1-mae:0.000776\tvalidation_1-error:0.003813\tvalidation_1-rmse:0.002357\n",
      "[133]\tvalidation_0-mae:0.000761\tvalidation_0-error:0.003773\tvalidation_0-rmse:0.002061\tvalidation_1-mae:0.000754\tvalidation_1-error:0.003813\tvalidation_1-rmse:0.002351\n",
      "[134]\tvalidation_0-mae:0.000739\tvalidation_0-error:0.003773\tvalidation_0-rmse:0.002051\tvalidation_1-mae:0.000732\tvalidation_1-error:0.003813\tvalidation_1-rmse:0.002343\n",
      "[135]\tvalidation_0-mae:0.000719\tvalidation_0-error:0.003773\tvalidation_0-rmse:0.002045\tvalidation_1-mae:0.000713\tvalidation_1-error:0.003813\tvalidation_1-rmse:0.002338\n",
      "[136]\tvalidation_0-mae:0.0007\tvalidation_0-error:0.003773\tvalidation_0-rmse:0.002039\tvalidation_1-mae:0.000694\tvalidation_1-error:0.003813\tvalidation_1-rmse:0.002333\n",
      "[137]\tvalidation_0-mae:0.000682\tvalidation_0-error:0.003773\tvalidation_0-rmse:0.002034\tvalidation_1-mae:0.000677\tvalidation_1-error:0.003813\tvalidation_1-rmse:0.002328\n",
      "[138]\tvalidation_0-mae:0.000665\tvalidation_0-error:0.003773\tvalidation_0-rmse:0.002027\tvalidation_1-mae:0.00066\tvalidation_1-error:0.003813\tvalidation_1-rmse:0.002321\n",
      "[139]\tvalidation_0-mae:0.00065\tvalidation_0-error:0.003773\tvalidation_0-rmse:0.002023\tvalidation_1-mae:0.000644\tvalidation_1-error:0.003813\tvalidation_1-rmse:0.002318\n",
      "[140]\tvalidation_0-mae:0.000635\tvalidation_0-error:0.003773\tvalidation_0-rmse:0.002019\tvalidation_1-mae:0.00063\tvalidation_1-error:0.003813\tvalidation_1-rmse:0.002314\n",
      "[141]\tvalidation_0-mae:0.00062\tvalidation_0-error:0.003773\tvalidation_0-rmse:0.002014\tvalidation_1-mae:0.000615\tvalidation_1-error:0.003813\tvalidation_1-rmse:0.00231\n",
      "[142]\tvalidation_0-mae:0.000606\tvalidation_0-error:0.003773\tvalidation_0-rmse:0.002011\tvalidation_1-mae:0.000602\tvalidation_1-error:0.003813\tvalidation_1-rmse:0.002308\n",
      "[143]\tvalidation_0-mae:0.000593\tvalidation_0-error:0.003773\tvalidation_0-rmse:0.002007\tvalidation_1-mae:0.000588\tvalidation_1-error:0.003813\tvalidation_1-rmse:0.002304\n",
      "[144]\tvalidation_0-mae:0.000581\tvalidation_0-error:0.003773\tvalidation_0-rmse:0.002002\tvalidation_1-mae:0.000576\tvalidation_1-error:0.003813\tvalidation_1-rmse:0.002298\n",
      "[145]\tvalidation_0-mae:0.000569\tvalidation_0-error:0.003773\tvalidation_0-rmse:0.001999\tvalidation_1-mae:0.000565\tvalidation_1-error:0.003813\tvalidation_1-rmse:0.002296\n",
      "[146]\tvalidation_0-mae:0.000559\tvalidation_0-error:0.003773\tvalidation_0-rmse:0.001996\tvalidation_1-mae:0.000555\tvalidation_1-error:0.003813\tvalidation_1-rmse:0.002294\n",
      "[147]\tvalidation_0-mae:0.000548\tvalidation_0-error:0.003773\tvalidation_0-rmse:0.001992\tvalidation_1-mae:0.000544\tvalidation_1-error:0.003813\tvalidation_1-rmse:0.002289\n"
     ]
    },
    {
     "name": "stdout",
     "output_type": "stream",
     "text": [
      "[148]\tvalidation_0-mae:0.000539\tvalidation_0-error:0.003773\tvalidation_0-rmse:0.001989\tvalidation_1-mae:0.000535\tvalidation_1-error:0.003813\tvalidation_1-rmse:0.002286\n",
      "[149]\tvalidation_0-mae:0.00053\tvalidation_0-error:0.003773\tvalidation_0-rmse:0.001987\tvalidation_1-mae:0.000527\tvalidation_1-error:0.003813\tvalidation_1-rmse:0.002285\n",
      "[150]\tvalidation_0-mae:0.000522\tvalidation_0-error:0.003773\tvalidation_0-rmse:0.001986\tvalidation_1-mae:0.000519\tvalidation_1-error:0.003813\tvalidation_1-rmse:0.002283\n",
      "[151]\tvalidation_0-mae:0.000514\tvalidation_0-error:0.003773\tvalidation_0-rmse:0.001984\tvalidation_1-mae:0.000512\tvalidation_1-error:0.003813\tvalidation_1-rmse:0.002282\n",
      "[152]\tvalidation_0-mae:0.000506\tvalidation_0-error:0.003773\tvalidation_0-rmse:0.001982\tvalidation_1-mae:0.000504\tvalidation_1-error:0.003813\tvalidation_1-rmse:0.00228\n",
      "[153]\tvalidation_0-mae:0.000499\tvalidation_0-error:0.003773\tvalidation_0-rmse:0.00198\tvalidation_1-mae:0.000496\tvalidation_1-error:0.003813\tvalidation_1-rmse:0.002279\n",
      "[154]\tvalidation_0-mae:0.000491\tvalidation_0-error:0.003773\tvalidation_0-rmse:0.001977\tvalidation_1-mae:0.000489\tvalidation_1-error:0.003813\tvalidation_1-rmse:0.002275\n",
      "[155]\tvalidation_0-mae:0.000484\tvalidation_0-error:0.003773\tvalidation_0-rmse:0.001974\tvalidation_1-mae:0.000482\tvalidation_1-error:0.003813\tvalidation_1-rmse:0.002271\n",
      "[156]\tvalidation_0-mae:0.000478\tvalidation_0-error:0.003773\tvalidation_0-rmse:0.001972\tvalidation_1-mae:0.000476\tvalidation_1-error:0.003813\tvalidation_1-rmse:0.00227\n",
      "[157]\tvalidation_0-mae:0.000471\tvalidation_0-error:0.003773\tvalidation_0-rmse:0.00197\tvalidation_1-mae:0.000469\tvalidation_1-error:0.003813\tvalidation_1-rmse:0.002268\n",
      "[158]\tvalidation_0-mae:0.000466\tvalidation_0-error:0.003773\tvalidation_0-rmse:0.001967\tvalidation_1-mae:0.000464\tvalidation_1-error:0.003813\tvalidation_1-rmse:0.002264\n",
      "[159]\tvalidation_0-mae:0.00046\tvalidation_0-error:0.003773\tvalidation_0-rmse:0.001964\tvalidation_1-mae:0.000459\tvalidation_1-error:0.003813\tvalidation_1-rmse:0.002261\n",
      "[160]\tvalidation_0-mae:0.000456\tvalidation_0-error:0.003773\tvalidation_0-rmse:0.001963\tvalidation_1-mae:0.000454\tvalidation_1-error:0.003813\tvalidation_1-rmse:0.002259\n",
      "[161]\tvalidation_0-mae:0.000451\tvalidation_0-error:0.003773\tvalidation_0-rmse:0.001962\tvalidation_1-mae:0.00045\tvalidation_1-error:0.003813\tvalidation_1-rmse:0.002258\n",
      "[162]\tvalidation_0-mae:0.000447\tvalidation_0-error:0.003773\tvalidation_0-rmse:0.001959\tvalidation_1-mae:0.000446\tvalidation_1-error:0.003813\tvalidation_1-rmse:0.002255\n",
      "[163]\tvalidation_0-mae:0.000443\tvalidation_0-error:0.003773\tvalidation_0-rmse:0.001958\tvalidation_1-mae:0.000442\tvalidation_1-error:0.003813\tvalidation_1-rmse:0.002253\n",
      "[164]\tvalidation_0-mae:0.000438\tvalidation_0-error:0.003773\tvalidation_0-rmse:0.001956\tvalidation_1-mae:0.000438\tvalidation_1-error:0.003813\tvalidation_1-rmse:0.002251\n",
      "[165]\tvalidation_0-mae:0.000435\tvalidation_0-error:0.003773\tvalidation_0-rmse:0.001955\tvalidation_1-mae:0.000435\tvalidation_1-error:0.003813\tvalidation_1-rmse:0.002251\n",
      "[166]\tvalidation_0-mae:0.000432\tvalidation_0-error:0.003773\tvalidation_0-rmse:0.001953\tvalidation_1-mae:0.000431\tvalidation_1-error:0.003813\tvalidation_1-rmse:0.002249\n",
      "[167]\tvalidation_0-mae:0.000429\tvalidation_0-error:0.003773\tvalidation_0-rmse:0.001951\tvalidation_1-mae:0.000429\tvalidation_1-error:0.003813\tvalidation_1-rmse:0.002245\n",
      "[168]\tvalidation_0-mae:0.000425\tvalidation_0-error:0.003773\tvalidation_0-rmse:0.001949\tvalidation_1-mae:0.000426\tvalidation_1-error:0.003813\tvalidation_1-rmse:0.002243\n",
      "[169]\tvalidation_0-mae:0.000422\tvalidation_0-error:0.003773\tvalidation_0-rmse:0.001947\tvalidation_1-mae:0.000422\tvalidation_1-error:0.003813\tvalidation_1-rmse:0.002239\n",
      "[170]\tvalidation_0-mae:0.00042\tvalidation_0-error:0.003773\tvalidation_0-rmse:0.001946\tvalidation_1-mae:0.00042\tvalidation_1-error:0.003813\tvalidation_1-rmse:0.002239\n",
      "[171]\tvalidation_0-mae:0.000418\tvalidation_0-error:0.003773\tvalidation_0-rmse:0.001946\tvalidation_1-mae:0.000418\tvalidation_1-error:0.003813\tvalidation_1-rmse:0.002239\n",
      "[172]\tvalidation_0-mae:0.000415\tvalidation_0-error:0.003773\tvalidation_0-rmse:0.001944\tvalidation_1-mae:0.000416\tvalidation_1-error:0.003813\tvalidation_1-rmse:0.002237\n",
      "[173]\tvalidation_0-mae:0.000413\tvalidation_0-error:0.003773\tvalidation_0-rmse:0.001942\tvalidation_1-mae:0.000414\tvalidation_1-error:0.003813\tvalidation_1-rmse:0.002235\n",
      "[174]\tvalidation_0-mae:0.000411\tvalidation_0-error:0.003773\tvalidation_0-rmse:0.001941\tvalidation_1-mae:0.000412\tvalidation_1-error:0.003813\tvalidation_1-rmse:0.002234\n",
      "[175]\tvalidation_0-mae:0.000409\tvalidation_0-error:0.003773\tvalidation_0-rmse:0.001939\tvalidation_1-mae:0.00041\tvalidation_1-error:0.003813\tvalidation_1-rmse:0.002232\n",
      "[176]\tvalidation_0-mae:0.000408\tvalidation_0-error:0.003773\tvalidation_0-rmse:0.001939\tvalidation_1-mae:0.000409\tvalidation_1-error:0.003813\tvalidation_1-rmse:0.002232\n",
      "[177]\tvalidation_0-mae:0.000406\tvalidation_0-error:0.003773\tvalidation_0-rmse:0.001937\tvalidation_1-mae:0.000407\tvalidation_1-error:0.003813\tvalidation_1-rmse:0.002229\n",
      "[178]\tvalidation_0-mae:0.000404\tvalidation_0-error:0.003773\tvalidation_0-rmse:0.001934\tvalidation_1-mae:0.000405\tvalidation_1-error:0.003813\tvalidation_1-rmse:0.002226\n",
      "[179]\tvalidation_0-mae:0.000403\tvalidation_0-error:0.003773\tvalidation_0-rmse:0.001934\tvalidation_1-mae:0.000404\tvalidation_1-error:0.003813\tvalidation_1-rmse:0.002225\n",
      "[180]\tvalidation_0-mae:0.000401\tvalidation_0-error:0.003773\tvalidation_0-rmse:0.001933\tvalidation_1-mae:0.000403\tvalidation_1-error:0.003813\tvalidation_1-rmse:0.002224\n",
      "[181]\tvalidation_0-mae:0.000401\tvalidation_0-error:0.003773\tvalidation_0-rmse:0.001932\tvalidation_1-mae:0.000402\tvalidation_1-error:0.003813\tvalidation_1-rmse:0.002223\n",
      "[182]\tvalidation_0-mae:0.000399\tvalidation_0-error:0.003773\tvalidation_0-rmse:0.00193\tvalidation_1-mae:0.000401\tvalidation_1-error:0.003813\tvalidation_1-rmse:0.002221\n",
      "[183]\tvalidation_0-mae:0.000399\tvalidation_0-error:0.003773\tvalidation_0-rmse:0.001929\tvalidation_1-mae:0.0004\tvalidation_1-error:0.003813\tvalidation_1-rmse:0.00222\n",
      "[184]\tvalidation_0-mae:0.000398\tvalidation_0-error:0.003773\tvalidation_0-rmse:0.001929\tvalidation_1-mae:0.0004\tvalidation_1-error:0.003813\tvalidation_1-rmse:0.002219\n",
      "[185]\tvalidation_0-mae:0.000397\tvalidation_0-error:0.003773\tvalidation_0-rmse:0.001929\tvalidation_1-mae:0.000399\tvalidation_1-error:0.003813\tvalidation_1-rmse:0.002219\n",
      "[186]\tvalidation_0-mae:0.000397\tvalidation_0-error:0.003773\tvalidation_0-rmse:0.001929\tvalidation_1-mae:0.000399\tvalidation_1-error:0.003813\tvalidation_1-rmse:0.002219\n",
      "[187]\tvalidation_0-mae:0.000396\tvalidation_0-error:0.003773\tvalidation_0-rmse:0.001928\tvalidation_1-mae:0.000398\tvalidation_1-error:0.003813\tvalidation_1-rmse:0.002218\n",
      "[188]\tvalidation_0-mae:0.000395\tvalidation_0-error:0.003773\tvalidation_0-rmse:0.001927\tvalidation_1-mae:0.000397\tvalidation_1-error:0.003813\tvalidation_1-rmse:0.002217\n",
      "[189]\tvalidation_0-mae:0.000395\tvalidation_0-error:0.003773\tvalidation_0-rmse:0.001926\tvalidation_1-mae:0.000397\tvalidation_1-error:0.003813\tvalidation_1-rmse:0.002216\n",
      "[190]\tvalidation_0-mae:0.000394\tvalidation_0-error:0.003773\tvalidation_0-rmse:0.001925\tvalidation_1-mae:0.000396\tvalidation_1-error:0.003813\tvalidation_1-rmse:0.002214\n",
      "[191]\tvalidation_0-mae:0.000393\tvalidation_0-error:0.003773\tvalidation_0-rmse:0.001924\tvalidation_1-mae:0.000396\tvalidation_1-error:0.003813\tvalidation_1-rmse:0.002214\n",
      "[192]\tvalidation_0-mae:0.000393\tvalidation_0-error:0.003773\tvalidation_0-rmse:0.001923\tvalidation_1-mae:0.000395\tvalidation_1-error:0.003813\tvalidation_1-rmse:0.002213\n",
      "[193]\tvalidation_0-mae:0.000392\tvalidation_0-error:0.003773\tvalidation_0-rmse:0.001922\tvalidation_1-mae:0.000394\tvalidation_1-error:0.003813\tvalidation_1-rmse:0.002212\n",
      "[194]\tvalidation_0-mae:0.000391\tvalidation_0-error:0.003773\tvalidation_0-rmse:0.00192\tvalidation_1-mae:0.000394\tvalidation_1-error:0.003813\tvalidation_1-rmse:0.002209\n",
      "[195]\tvalidation_0-mae:0.000391\tvalidation_0-error:0.003773\tvalidation_0-rmse:0.00192\tvalidation_1-mae:0.000394\tvalidation_1-error:0.003813\tvalidation_1-rmse:0.002209\n",
      "[196]\tvalidation_0-mae:0.00039\tvalidation_0-error:0.003773\tvalidation_0-rmse:0.001919\tvalidation_1-mae:0.000393\tvalidation_1-error:0.003813\tvalidation_1-rmse:0.002208\n"
     ]
    },
    {
     "name": "stdout",
     "output_type": "stream",
     "text": [
      "[197]\tvalidation_0-mae:0.00039\tvalidation_0-error:0.003773\tvalidation_0-rmse:0.001919\tvalidation_1-mae:0.000393\tvalidation_1-error:0.003813\tvalidation_1-rmse:0.002208\n",
      "[198]\tvalidation_0-mae:0.000389\tvalidation_0-error:0.003773\tvalidation_0-rmse:0.001918\tvalidation_1-mae:0.000392\tvalidation_1-error:0.003813\tvalidation_1-rmse:0.002207\n",
      "[199]\tvalidation_0-mae:0.000389\tvalidation_0-error:0.003773\tvalidation_0-rmse:0.001918\tvalidation_1-mae:0.000392\tvalidation_1-error:0.003813\tvalidation_1-rmse:0.002206\n",
      "[200]\tvalidation_0-mae:0.000389\tvalidation_0-error:0.003773\tvalidation_0-rmse:0.001917\tvalidation_1-mae:0.000392\tvalidation_1-error:0.003813\tvalidation_1-rmse:0.002206\n",
      "[201]\tvalidation_0-mae:0.000389\tvalidation_0-error:0.003773\tvalidation_0-rmse:0.001916\tvalidation_1-mae:0.000392\tvalidation_1-error:0.003813\tvalidation_1-rmse:0.002205\n",
      "[202]\tvalidation_0-mae:0.000388\tvalidation_0-error:0.003773\tvalidation_0-rmse:0.001914\tvalidation_1-mae:0.000391\tvalidation_1-error:0.003813\tvalidation_1-rmse:0.002203\n",
      "[203]\tvalidation_0-mae:0.000388\tvalidation_0-error:0.003773\tvalidation_0-rmse:0.001913\tvalidation_1-mae:0.000391\tvalidation_1-error:0.003813\tvalidation_1-rmse:0.002202\n",
      "[204]\tvalidation_0-mae:0.000388\tvalidation_0-error:0.003773\tvalidation_0-rmse:0.001913\tvalidation_1-mae:0.000391\tvalidation_1-error:0.003813\tvalidation_1-rmse:0.002201\n",
      "[205]\tvalidation_0-mae:0.000387\tvalidation_0-error:0.003773\tvalidation_0-rmse:0.001912\tvalidation_1-mae:0.000391\tvalidation_1-error:0.003813\tvalidation_1-rmse:0.0022\n",
      "[206]\tvalidation_0-mae:0.000387\tvalidation_0-error:0.003773\tvalidation_0-rmse:0.001912\tvalidation_1-mae:0.000391\tvalidation_1-error:0.003813\tvalidation_1-rmse:0.0022\n",
      "[207]\tvalidation_0-mae:0.000387\tvalidation_0-error:0.003773\tvalidation_0-rmse:0.001911\tvalidation_1-mae:0.00039\tvalidation_1-error:0.003813\tvalidation_1-rmse:0.002199\n",
      "[208]\tvalidation_0-mae:0.000387\tvalidation_0-error:0.003773\tvalidation_0-rmse:0.00191\tvalidation_1-mae:0.00039\tvalidation_1-error:0.003813\tvalidation_1-rmse:0.002198\n",
      "[209]\tvalidation_0-mae:0.000387\tvalidation_0-error:0.003773\tvalidation_0-rmse:0.00191\tvalidation_1-mae:0.00039\tvalidation_1-error:0.003813\tvalidation_1-rmse:0.002198\n",
      "[210]\tvalidation_0-mae:0.000387\tvalidation_0-error:0.003773\tvalidation_0-rmse:0.001909\tvalidation_1-mae:0.00039\tvalidation_1-error:0.003813\tvalidation_1-rmse:0.002196\n",
      "[211]\tvalidation_0-mae:0.000386\tvalidation_0-error:0.003773\tvalidation_0-rmse:0.001907\tvalidation_1-mae:0.00039\tvalidation_1-error:0.003813\tvalidation_1-rmse:0.002194\n",
      "[212]\tvalidation_0-mae:0.000386\tvalidation_0-error:0.003773\tvalidation_0-rmse:0.001905\tvalidation_1-mae:0.00039\tvalidation_1-error:0.003813\tvalidation_1-rmse:0.002191\n",
      "[213]\tvalidation_0-mae:0.000386\tvalidation_0-error:0.003773\tvalidation_0-rmse:0.001904\tvalidation_1-mae:0.000389\tvalidation_1-error:0.003813\tvalidation_1-rmse:0.002189\n",
      "[214]\tvalidation_0-mae:0.000385\tvalidation_0-error:0.003773\tvalidation_0-rmse:0.001903\tvalidation_1-mae:0.000389\tvalidation_1-error:0.003813\tvalidation_1-rmse:0.002189\n",
      "[215]\tvalidation_0-mae:0.000385\tvalidation_0-error:0.003773\tvalidation_0-rmse:0.001902\tvalidation_1-mae:0.000389\tvalidation_1-error:0.003813\tvalidation_1-rmse:0.002187\n",
      "[216]\tvalidation_0-mae:0.000385\tvalidation_0-error:0.003773\tvalidation_0-rmse:0.0019\tvalidation_1-mae:0.000389\tvalidation_1-error:0.003813\tvalidation_1-rmse:0.002185\n",
      "[217]\tvalidation_0-mae:0.000385\tvalidation_0-error:0.003773\tvalidation_0-rmse:0.0019\tvalidation_1-mae:0.000389\tvalidation_1-error:0.003813\tvalidation_1-rmse:0.002185\n",
      "[218]\tvalidation_0-mae:0.000385\tvalidation_0-error:0.003773\tvalidation_0-rmse:0.0019\tvalidation_1-mae:0.000389\tvalidation_1-error:0.003813\tvalidation_1-rmse:0.002185\n",
      "[219]\tvalidation_0-mae:0.000385\tvalidation_0-error:0.003773\tvalidation_0-rmse:0.001899\tvalidation_1-mae:0.000389\tvalidation_1-error:0.003813\tvalidation_1-rmse:0.002184\n",
      "[220]\tvalidation_0-mae:0.000385\tvalidation_0-error:0.003773\tvalidation_0-rmse:0.001898\tvalidation_1-mae:0.000389\tvalidation_1-error:0.003813\tvalidation_1-rmse:0.002182\n",
      "[221]\tvalidation_0-mae:0.000385\tvalidation_0-error:0.003773\tvalidation_0-rmse:0.001897\tvalidation_1-mae:0.000388\tvalidation_1-error:0.003813\tvalidation_1-rmse:0.00218\n",
      "[222]\tvalidation_0-mae:0.000384\tvalidation_0-error:0.003773\tvalidation_0-rmse:0.001896\tvalidation_1-mae:0.000388\tvalidation_1-error:0.003813\tvalidation_1-rmse:0.00218\n",
      "[223]\tvalidation_0-mae:0.000384\tvalidation_0-error:0.003773\tvalidation_0-rmse:0.001896\tvalidation_1-mae:0.000388\tvalidation_1-error:0.003813\tvalidation_1-rmse:0.00218\n",
      "[224]\tvalidation_0-mae:0.000384\tvalidation_0-error:0.003773\tvalidation_0-rmse:0.001895\tvalidation_1-mae:0.000388\tvalidation_1-error:0.003813\tvalidation_1-rmse:0.002179\n",
      "[225]\tvalidation_0-mae:0.000384\tvalidation_0-error:0.003773\tvalidation_0-rmse:0.001895\tvalidation_1-mae:0.000388\tvalidation_1-error:0.003813\tvalidation_1-rmse:0.002179\n",
      "[226]\tvalidation_0-mae:0.000384\tvalidation_0-error:0.003773\tvalidation_0-rmse:0.001895\tvalidation_1-mae:0.000388\tvalidation_1-error:0.003813\tvalidation_1-rmse:0.002178\n",
      "[227]\tvalidation_0-mae:0.000383\tvalidation_0-error:0.003773\tvalidation_0-rmse:0.001892\tvalidation_1-mae:0.000387\tvalidation_1-error:0.003813\tvalidation_1-rmse:0.002175\n",
      "[228]\tvalidation_0-mae:0.000383\tvalidation_0-error:0.003773\tvalidation_0-rmse:0.001892\tvalidation_1-mae:0.000387\tvalidation_1-error:0.003813\tvalidation_1-rmse:0.002175\n",
      "[229]\tvalidation_0-mae:0.000383\tvalidation_0-error:0.003773\tvalidation_0-rmse:0.001891\tvalidation_1-mae:0.000387\tvalidation_1-error:0.003813\tvalidation_1-rmse:0.002174\n",
      "[230]\tvalidation_0-mae:0.000383\tvalidation_0-error:0.003773\tvalidation_0-rmse:0.001891\tvalidation_1-mae:0.000387\tvalidation_1-error:0.003813\tvalidation_1-rmse:0.002174\n",
      "[231]\tvalidation_0-mae:0.000383\tvalidation_0-error:0.003773\tvalidation_0-rmse:0.00189\tvalidation_1-mae:0.000387\tvalidation_1-error:0.003813\tvalidation_1-rmse:0.002173\n",
      "[232]\tvalidation_0-mae:0.000383\tvalidation_0-error:0.003773\tvalidation_0-rmse:0.001889\tvalidation_1-mae:0.000387\tvalidation_1-error:0.003813\tvalidation_1-rmse:0.002172\n",
      "[233]\tvalidation_0-mae:0.000383\tvalidation_0-error:0.003773\tvalidation_0-rmse:0.001889\tvalidation_1-mae:0.000387\tvalidation_1-error:0.003813\tvalidation_1-rmse:0.002172\n",
      "[234]\tvalidation_0-mae:0.000382\tvalidation_0-error:0.003773\tvalidation_0-rmse:0.001888\tvalidation_1-mae:0.000386\tvalidation_1-error:0.003813\tvalidation_1-rmse:0.002171\n",
      "[235]\tvalidation_0-mae:0.000382\tvalidation_0-error:0.003773\tvalidation_0-rmse:0.001887\tvalidation_1-mae:0.000386\tvalidation_1-error:0.003813\tvalidation_1-rmse:0.002169\n",
      "[236]\tvalidation_0-mae:0.000382\tvalidation_0-error:0.003773\tvalidation_0-rmse:0.001886\tvalidation_1-mae:0.000386\tvalidation_1-error:0.003813\tvalidation_1-rmse:0.002168\n",
      "[237]\tvalidation_0-mae:0.000382\tvalidation_0-error:0.003773\tvalidation_0-rmse:0.001885\tvalidation_1-mae:0.000386\tvalidation_1-error:0.003813\tvalidation_1-rmse:0.002167\n",
      "[238]\tvalidation_0-mae:0.000381\tvalidation_0-error:0.003773\tvalidation_0-rmse:0.001885\tvalidation_1-mae:0.000386\tvalidation_1-error:0.003813\tvalidation_1-rmse:0.002166\n",
      "[239]\tvalidation_0-mae:0.000381\tvalidation_0-error:0.003773\tvalidation_0-rmse:0.001884\tvalidation_1-mae:0.000385\tvalidation_1-error:0.003813\tvalidation_1-rmse:0.002165\n",
      "[240]\tvalidation_0-mae:0.000381\tvalidation_0-error:0.003773\tvalidation_0-rmse:0.001882\tvalidation_1-mae:0.000385\tvalidation_1-error:0.003813\tvalidation_1-rmse:0.002163\n",
      "[241]\tvalidation_0-mae:0.000381\tvalidation_0-error:0.003773\tvalidation_0-rmse:0.001882\tvalidation_1-mae:0.000385\tvalidation_1-error:0.003813\tvalidation_1-rmse:0.002162\n",
      "[242]\tvalidation_0-mae:0.00038\tvalidation_0-error:0.003773\tvalidation_0-rmse:0.00188\tvalidation_1-mae:0.000385\tvalidation_1-error:0.003813\tvalidation_1-rmse:0.00216\n",
      "[243]\tvalidation_0-mae:0.00038\tvalidation_0-error:0.003773\tvalidation_0-rmse:0.001879\tvalidation_1-mae:0.000384\tvalidation_1-error:0.003813\tvalidation_1-rmse:0.002159\n",
      "[244]\tvalidation_0-mae:0.00038\tvalidation_0-error:0.003773\tvalidation_0-rmse:0.001879\tvalidation_1-mae:0.000384\tvalidation_1-error:0.003813\tvalidation_1-rmse:0.002159\n",
      "[245]\tvalidation_0-mae:0.00038\tvalidation_0-error:0.003773\tvalidation_0-rmse:0.001877\tvalidation_1-mae:0.000384\tvalidation_1-error:0.003813\tvalidation_1-rmse:0.002157\n"
     ]
    },
    {
     "name": "stdout",
     "output_type": "stream",
     "text": [
      "[246]\tvalidation_0-mae:0.00038\tvalidation_0-error:0.003773\tvalidation_0-rmse:0.001876\tvalidation_1-mae:0.000384\tvalidation_1-error:0.003813\tvalidation_1-rmse:0.002157\n",
      "[247]\tvalidation_0-mae:0.00038\tvalidation_0-error:0.003773\tvalidation_0-rmse:0.001875\tvalidation_1-mae:0.000384\tvalidation_1-error:0.003813\tvalidation_1-rmse:0.002155\n",
      "[248]\tvalidation_0-mae:0.000379\tvalidation_0-error:0.003773\tvalidation_0-rmse:0.001874\tvalidation_1-mae:0.000384\tvalidation_1-error:0.003813\tvalidation_1-rmse:0.002153\n",
      "[249]\tvalidation_0-mae:0.000379\tvalidation_0-error:0.003773\tvalidation_0-rmse:0.001873\tvalidation_1-mae:0.000383\tvalidation_1-error:0.003813\tvalidation_1-rmse:0.002152\n",
      "[250]\tvalidation_0-mae:0.000378\tvalidation_0-error:0.003773\tvalidation_0-rmse:0.001873\tvalidation_1-mae:0.000383\tvalidation_1-error:0.003813\tvalidation_1-rmse:0.002152\n",
      "[251]\tvalidation_0-mae:0.000378\tvalidation_0-error:0.003773\tvalidation_0-rmse:0.001872\tvalidation_1-mae:0.000383\tvalidation_1-error:0.003813\tvalidation_1-rmse:0.002151\n",
      "[252]\tvalidation_0-mae:0.000378\tvalidation_0-error:0.003773\tvalidation_0-rmse:0.001871\tvalidation_1-mae:0.000382\tvalidation_1-error:0.003813\tvalidation_1-rmse:0.00215\n",
      "[253]\tvalidation_0-mae:0.000377\tvalidation_0-error:0.003773\tvalidation_0-rmse:0.001869\tvalidation_1-mae:0.000382\tvalidation_1-error:0.003813\tvalidation_1-rmse:0.002146\n",
      "[254]\tvalidation_0-mae:0.000377\tvalidation_0-error:0.003773\tvalidation_0-rmse:0.001869\tvalidation_1-mae:0.000382\tvalidation_1-error:0.003813\tvalidation_1-rmse:0.002146\n",
      "[255]\tvalidation_0-mae:0.000377\tvalidation_0-error:0.003773\tvalidation_0-rmse:0.001869\tvalidation_1-mae:0.000382\tvalidation_1-error:0.003813\tvalidation_1-rmse:0.002146\n",
      "[256]\tvalidation_0-mae:0.000377\tvalidation_0-error:0.003773\tvalidation_0-rmse:0.001867\tvalidation_1-mae:0.000381\tvalidation_1-error:0.003813\tvalidation_1-rmse:0.002145\n",
      "[257]\tvalidation_0-mae:0.000377\tvalidation_0-error:0.003773\tvalidation_0-rmse:0.001867\tvalidation_1-mae:0.000381\tvalidation_1-error:0.003813\tvalidation_1-rmse:0.002145\n",
      "[258]\tvalidation_0-mae:0.000377\tvalidation_0-error:0.003773\tvalidation_0-rmse:0.001867\tvalidation_1-mae:0.000381\tvalidation_1-error:0.003813\tvalidation_1-rmse:0.002145\n",
      "[259]\tvalidation_0-mae:0.000377\tvalidation_0-error:0.003773\tvalidation_0-rmse:0.001867\tvalidation_1-mae:0.000381\tvalidation_1-error:0.003813\tvalidation_1-rmse:0.002144\n",
      "[260]\tvalidation_0-mae:0.000377\tvalidation_0-error:0.003773\tvalidation_0-rmse:0.001865\tvalidation_1-mae:0.000381\tvalidation_1-error:0.003813\tvalidation_1-rmse:0.002142\n",
      "[261]\tvalidation_0-mae:0.000377\tvalidation_0-error:0.003773\tvalidation_0-rmse:0.001865\tvalidation_1-mae:0.000381\tvalidation_1-error:0.003813\tvalidation_1-rmse:0.002142\n",
      "[262]\tvalidation_0-mae:0.000377\tvalidation_0-error:0.003773\tvalidation_0-rmse:0.001865\tvalidation_1-mae:0.000381\tvalidation_1-error:0.003813\tvalidation_1-rmse:0.002142\n",
      "[263]\tvalidation_0-mae:0.000376\tvalidation_0-error:0.003773\tvalidation_0-rmse:0.001864\tvalidation_1-mae:0.000381\tvalidation_1-error:0.003813\tvalidation_1-rmse:0.002141\n",
      "[264]\tvalidation_0-mae:0.000376\tvalidation_0-error:0.003773\tvalidation_0-rmse:0.001864\tvalidation_1-mae:0.000381\tvalidation_1-error:0.003813\tvalidation_1-rmse:0.002141\n",
      "[265]\tvalidation_0-mae:0.000376\tvalidation_0-error:0.003773\tvalidation_0-rmse:0.001863\tvalidation_1-mae:0.000381\tvalidation_1-error:0.003813\tvalidation_1-rmse:0.00214\n",
      "[266]\tvalidation_0-mae:0.000376\tvalidation_0-error:0.003773\tvalidation_0-rmse:0.001863\tvalidation_1-mae:0.000381\tvalidation_1-error:0.003813\tvalidation_1-rmse:0.00214\n",
      "[267]\tvalidation_0-mae:0.000376\tvalidation_0-error:0.003773\tvalidation_0-rmse:0.001861\tvalidation_1-mae:0.00038\tvalidation_1-error:0.003813\tvalidation_1-rmse:0.002138\n",
      "[268]\tvalidation_0-mae:0.000376\tvalidation_0-error:0.003773\tvalidation_0-rmse:0.00186\tvalidation_1-mae:0.00038\tvalidation_1-error:0.003813\tvalidation_1-rmse:0.002136\n",
      "[269]\tvalidation_0-mae:0.000375\tvalidation_0-error:0.003773\tvalidation_0-rmse:0.00186\tvalidation_1-mae:0.00038\tvalidation_1-error:0.003813\tvalidation_1-rmse:0.002135\n",
      "[270]\tvalidation_0-mae:0.000375\tvalidation_0-error:0.003773\tvalidation_0-rmse:0.001859\tvalidation_1-mae:0.00038\tvalidation_1-error:0.003813\tvalidation_1-rmse:0.002135\n",
      "[271]\tvalidation_0-mae:0.000375\tvalidation_0-error:0.003773\tvalidation_0-rmse:0.001859\tvalidation_1-mae:0.00038\tvalidation_1-error:0.003813\tvalidation_1-rmse:0.002134\n",
      "[272]\tvalidation_0-mae:0.000375\tvalidation_0-error:0.003773\tvalidation_0-rmse:0.001859\tvalidation_1-mae:0.00038\tvalidation_1-error:0.003813\tvalidation_1-rmse:0.002134\n",
      "[273]\tvalidation_0-mae:0.000375\tvalidation_0-error:0.003773\tvalidation_0-rmse:0.001858\tvalidation_1-mae:0.00038\tvalidation_1-error:0.003813\tvalidation_1-rmse:0.002134\n",
      "[274]\tvalidation_0-mae:0.000375\tvalidation_0-error:0.003773\tvalidation_0-rmse:0.001858\tvalidation_1-mae:0.00038\tvalidation_1-error:0.003813\tvalidation_1-rmse:0.002133\n",
      "[275]\tvalidation_0-mae:0.000375\tvalidation_0-error:0.003773\tvalidation_0-rmse:0.001858\tvalidation_1-mae:0.00038\tvalidation_1-error:0.003813\tvalidation_1-rmse:0.002133\n",
      "[276]\tvalidation_0-mae:0.000375\tvalidation_0-error:0.003773\tvalidation_0-rmse:0.001858\tvalidation_1-mae:0.000379\tvalidation_1-error:0.003813\tvalidation_1-rmse:0.002133\n",
      "[277]\tvalidation_0-mae:0.000375\tvalidation_0-error:0.003773\tvalidation_0-rmse:0.001857\tvalidation_1-mae:0.000379\tvalidation_1-error:0.003813\tvalidation_1-rmse:0.002131\n",
      "[278]\tvalidation_0-mae:0.000375\tvalidation_0-error:0.003773\tvalidation_0-rmse:0.001856\tvalidation_1-mae:0.000379\tvalidation_1-error:0.003813\tvalidation_1-rmse:0.002131\n",
      "[279]\tvalidation_0-mae:0.000374\tvalidation_0-error:0.003773\tvalidation_0-rmse:0.001856\tvalidation_1-mae:0.000379\tvalidation_1-error:0.003813\tvalidation_1-rmse:0.00213\n",
      "[280]\tvalidation_0-mae:0.000373\tvalidation_0-error:0.003773\tvalidation_0-rmse:0.001854\tvalidation_1-mae:0.000378\tvalidation_1-error:0.003813\tvalidation_1-rmse:0.002129\n",
      "[281]\tvalidation_0-mae:0.000373\tvalidation_0-error:0.003773\tvalidation_0-rmse:0.001854\tvalidation_1-mae:0.000378\tvalidation_1-error:0.003813\tvalidation_1-rmse:0.002128\n",
      "[282]\tvalidation_0-mae:0.000373\tvalidation_0-error:0.003773\tvalidation_0-rmse:0.001852\tvalidation_1-mae:0.000378\tvalidation_1-error:0.003813\tvalidation_1-rmse:0.002127\n",
      "[283]\tvalidation_0-mae:0.000373\tvalidation_0-error:0.003773\tvalidation_0-rmse:0.001851\tvalidation_1-mae:0.000378\tvalidation_1-error:0.003813\tvalidation_1-rmse:0.002126\n",
      "[284]\tvalidation_0-mae:0.000373\tvalidation_0-error:0.003773\tvalidation_0-rmse:0.001851\tvalidation_1-mae:0.000378\tvalidation_1-error:0.003813\tvalidation_1-rmse:0.002126\n",
      "[285]\tvalidation_0-mae:0.000371\tvalidation_0-error:0.003773\tvalidation_0-rmse:0.00185\tvalidation_1-mae:0.000376\tvalidation_1-error:0.003813\tvalidation_1-rmse:0.002125\n",
      "[286]\tvalidation_0-mae:0.000371\tvalidation_0-error:0.003773\tvalidation_0-rmse:0.001849\tvalidation_1-mae:0.000376\tvalidation_1-error:0.003813\tvalidation_1-rmse:0.002124\n",
      "[287]\tvalidation_0-mae:0.000371\tvalidation_0-error:0.003773\tvalidation_0-rmse:0.001849\tvalidation_1-mae:0.000376\tvalidation_1-error:0.003813\tvalidation_1-rmse:0.002124\n",
      "[288]\tvalidation_0-mae:0.000371\tvalidation_0-error:0.003773\tvalidation_0-rmse:0.001849\tvalidation_1-mae:0.000376\tvalidation_1-error:0.003813\tvalidation_1-rmse:0.002123\n",
      "[289]\tvalidation_0-mae:0.00037\tvalidation_0-error:0.003773\tvalidation_0-rmse:0.001848\tvalidation_1-mae:0.000375\tvalidation_1-error:0.003813\tvalidation_1-rmse:0.002122\n",
      "[290]\tvalidation_0-mae:0.00037\tvalidation_0-error:0.003773\tvalidation_0-rmse:0.001846\tvalidation_1-mae:0.000375\tvalidation_1-error:0.003813\tvalidation_1-rmse:0.00212\n",
      "[291]\tvalidation_0-mae:0.00037\tvalidation_0-error:0.003773\tvalidation_0-rmse:0.001846\tvalidation_1-mae:0.000375\tvalidation_1-error:0.003813\tvalidation_1-rmse:0.00212\n",
      "[292]\tvalidation_0-mae:0.00037\tvalidation_0-error:0.003773\tvalidation_0-rmse:0.001846\tvalidation_1-mae:0.000375\tvalidation_1-error:0.003813\tvalidation_1-rmse:0.002119\n",
      "[293]\tvalidation_0-mae:0.000369\tvalidation_0-error:0.003773\tvalidation_0-rmse:0.001845\tvalidation_1-mae:0.000374\tvalidation_1-error:0.003813\tvalidation_1-rmse:0.002119\n",
      "[294]\tvalidation_0-mae:0.000369\tvalidation_0-error:0.003773\tvalidation_0-rmse:0.001845\tvalidation_1-mae:0.000374\tvalidation_1-error:0.003813\tvalidation_1-rmse:0.002118\n"
     ]
    },
    {
     "name": "stdout",
     "output_type": "stream",
     "text": [
      "[295]\tvalidation_0-mae:0.000369\tvalidation_0-error:0.003773\tvalidation_0-rmse:0.001844\tvalidation_1-mae:0.000374\tvalidation_1-error:0.003813\tvalidation_1-rmse:0.002118\n",
      "[296]\tvalidation_0-mae:0.000369\tvalidation_0-error:0.003773\tvalidation_0-rmse:0.001844\tvalidation_1-mae:0.000374\tvalidation_1-error:0.003813\tvalidation_1-rmse:0.002118\n",
      "[297]\tvalidation_0-mae:0.000369\tvalidation_0-error:0.003773\tvalidation_0-rmse:0.001844\tvalidation_1-mae:0.000374\tvalidation_1-error:0.003813\tvalidation_1-rmse:0.002118\n",
      "[298]\tvalidation_0-mae:0.000369\tvalidation_0-error:0.003773\tvalidation_0-rmse:0.001844\tvalidation_1-mae:0.000374\tvalidation_1-error:0.003813\tvalidation_1-rmse:0.002118\n",
      "[299]\tvalidation_0-mae:0.000369\tvalidation_0-error:0.003773\tvalidation_0-rmse:0.001844\tvalidation_1-mae:0.000374\tvalidation_1-error:0.003813\tvalidation_1-rmse:0.002117\n",
      "[300]\tvalidation_0-mae:0.000369\tvalidation_0-error:0.003773\tvalidation_0-rmse:0.001844\tvalidation_1-mae:0.000374\tvalidation_1-error:0.003813\tvalidation_1-rmse:0.002117\n",
      "[301]\tvalidation_0-mae:0.000369\tvalidation_0-error:0.003773\tvalidation_0-rmse:0.001842\tvalidation_1-mae:0.000374\tvalidation_1-error:0.003813\tvalidation_1-rmse:0.002114\n",
      "[302]\tvalidation_0-mae:0.000369\tvalidation_0-error:0.003773\tvalidation_0-rmse:0.001841\tvalidation_1-mae:0.000374\tvalidation_1-error:0.003813\tvalidation_1-rmse:0.002114\n",
      "[303]\tvalidation_0-mae:0.000368\tvalidation_0-error:0.003773\tvalidation_0-rmse:0.00184\tvalidation_1-mae:0.000373\tvalidation_1-error:0.003813\tvalidation_1-rmse:0.002112\n",
      "[304]\tvalidation_0-mae:0.000368\tvalidation_0-error:0.003773\tvalidation_0-rmse:0.001839\tvalidation_1-mae:0.000373\tvalidation_1-error:0.003813\tvalidation_1-rmse:0.002111\n",
      "[305]\tvalidation_0-mae:0.000368\tvalidation_0-error:0.003773\tvalidation_0-rmse:0.001838\tvalidation_1-mae:0.000373\tvalidation_1-error:0.003813\tvalidation_1-rmse:0.00211\n",
      "[306]\tvalidation_0-mae:0.000368\tvalidation_0-error:0.003773\tvalidation_0-rmse:0.001837\tvalidation_1-mae:0.000373\tvalidation_1-error:0.003813\tvalidation_1-rmse:0.002108\n",
      "[307]\tvalidation_0-mae:0.000368\tvalidation_0-error:0.003773\tvalidation_0-rmse:0.001837\tvalidation_1-mae:0.000372\tvalidation_1-error:0.003813\tvalidation_1-rmse:0.002108\n",
      "[308]\tvalidation_0-mae:0.000367\tvalidation_0-error:0.003773\tvalidation_0-rmse:0.001836\tvalidation_1-mae:0.000372\tvalidation_1-error:0.003813\tvalidation_1-rmse:0.002108\n",
      "[309]\tvalidation_0-mae:0.000367\tvalidation_0-error:0.003773\tvalidation_0-rmse:0.001835\tvalidation_1-mae:0.000372\tvalidation_1-error:0.003813\tvalidation_1-rmse:0.002106\n",
      "[310]\tvalidation_0-mae:0.000367\tvalidation_0-error:0.003773\tvalidation_0-rmse:0.001834\tvalidation_1-mae:0.000372\tvalidation_1-error:0.003813\tvalidation_1-rmse:0.002105\n",
      "[311]\tvalidation_0-mae:0.000366\tvalidation_0-error:0.003773\tvalidation_0-rmse:0.001833\tvalidation_1-mae:0.000371\tvalidation_1-error:0.003813\tvalidation_1-rmse:0.002104\n",
      "[312]\tvalidation_0-mae:0.000366\tvalidation_0-error:0.003773\tvalidation_0-rmse:0.001832\tvalidation_1-mae:0.000371\tvalidation_1-error:0.003813\tvalidation_1-rmse:0.002103\n",
      "[313]\tvalidation_0-mae:0.000366\tvalidation_0-error:0.003773\tvalidation_0-rmse:0.001832\tvalidation_1-mae:0.000371\tvalidation_1-error:0.003813\tvalidation_1-rmse:0.002103\n",
      "[314]\tvalidation_0-mae:0.000366\tvalidation_0-error:0.003773\tvalidation_0-rmse:0.001832\tvalidation_1-mae:0.000371\tvalidation_1-error:0.003813\tvalidation_1-rmse:0.002103\n",
      "[315]\tvalidation_0-mae:0.000366\tvalidation_0-error:0.003773\tvalidation_0-rmse:0.001831\tvalidation_1-mae:0.000371\tvalidation_1-error:0.003813\tvalidation_1-rmse:0.002102\n",
      "[316]\tvalidation_0-mae:0.000365\tvalidation_0-error:0.003773\tvalidation_0-rmse:0.00183\tvalidation_1-mae:0.00037\tvalidation_1-error:0.003813\tvalidation_1-rmse:0.002101\n",
      "[317]\tvalidation_0-mae:0.000365\tvalidation_0-error:0.003773\tvalidation_0-rmse:0.001829\tvalidation_1-mae:0.00037\tvalidation_1-error:0.003813\tvalidation_1-rmse:0.0021\n",
      "[318]\tvalidation_0-mae:0.000365\tvalidation_0-error:0.003773\tvalidation_0-rmse:0.001829\tvalidation_1-mae:0.00037\tvalidation_1-error:0.003813\tvalidation_1-rmse:0.002099\n",
      "[319]\tvalidation_0-mae:0.000364\tvalidation_0-error:0.003773\tvalidation_0-rmse:0.001828\tvalidation_1-mae:0.000369\tvalidation_1-error:0.003813\tvalidation_1-rmse:0.002099\n",
      "[320]\tvalidation_0-mae:0.000364\tvalidation_0-error:0.003773\tvalidation_0-rmse:0.001827\tvalidation_1-mae:0.000369\tvalidation_1-error:0.003813\tvalidation_1-rmse:0.002097\n",
      "[321]\tvalidation_0-mae:0.000364\tvalidation_0-error:0.003773\tvalidation_0-rmse:0.001826\tvalidation_1-mae:0.000369\tvalidation_1-error:0.003813\tvalidation_1-rmse:0.002095\n",
      "[322]\tvalidation_0-mae:0.000364\tvalidation_0-error:0.003773\tvalidation_0-rmse:0.001824\tvalidation_1-mae:0.000369\tvalidation_1-error:0.003813\tvalidation_1-rmse:0.002093\n",
      "[323]\tvalidation_0-mae:0.000364\tvalidation_0-error:0.003773\tvalidation_0-rmse:0.001824\tvalidation_1-mae:0.000369\tvalidation_1-error:0.003813\tvalidation_1-rmse:0.002093\n",
      "[324]\tvalidation_0-mae:0.000364\tvalidation_0-error:0.003773\tvalidation_0-rmse:0.001824\tvalidation_1-mae:0.000369\tvalidation_1-error:0.003813\tvalidation_1-rmse:0.002092\n",
      "[325]\tvalidation_0-mae:0.000364\tvalidation_0-error:0.003773\tvalidation_0-rmse:0.001823\tvalidation_1-mae:0.000369\tvalidation_1-error:0.003813\tvalidation_1-rmse:0.002092\n",
      "[326]\tvalidation_0-mae:0.000364\tvalidation_0-error:0.003773\tvalidation_0-rmse:0.001822\tvalidation_1-mae:0.000369\tvalidation_1-error:0.003813\tvalidation_1-rmse:0.002091\n",
      "[327]\tvalidation_0-mae:0.000363\tvalidation_0-error:0.003773\tvalidation_0-rmse:0.001822\tvalidation_1-mae:0.000369\tvalidation_1-error:0.003813\tvalidation_1-rmse:0.002091\n",
      "[328]\tvalidation_0-mae:0.000363\tvalidation_0-error:0.003773\tvalidation_0-rmse:0.001822\tvalidation_1-mae:0.000368\tvalidation_1-error:0.003813\tvalidation_1-rmse:0.00209\n",
      "[329]\tvalidation_0-mae:0.000362\tvalidation_0-error:0.003773\tvalidation_0-rmse:0.001821\tvalidation_1-mae:0.000367\tvalidation_1-error:0.003813\tvalidation_1-rmse:0.002089\n",
      "[330]\tvalidation_0-mae:0.000362\tvalidation_0-error:0.003773\tvalidation_0-rmse:0.001821\tvalidation_1-mae:0.000367\tvalidation_1-error:0.003813\tvalidation_1-rmse:0.002089\n",
      "[331]\tvalidation_0-mae:0.000362\tvalidation_0-error:0.003772\tvalidation_0-rmse:0.00182\tvalidation_1-mae:0.000367\tvalidation_1-error:0.003812\tvalidation_1-rmse:0.002089\n",
      "[332]\tvalidation_0-mae:0.000362\tvalidation_0-error:0.003772\tvalidation_0-rmse:0.001819\tvalidation_1-mae:0.000367\tvalidation_1-error:0.003812\tvalidation_1-rmse:0.002087\n",
      "[333]\tvalidation_0-mae:0.000361\tvalidation_0-error:0.003772\tvalidation_0-rmse:0.001819\tvalidation_1-mae:0.000366\tvalidation_1-error:0.003812\tvalidation_1-rmse:0.002087\n",
      "[334]\tvalidation_0-mae:0.000361\tvalidation_0-error:0.003772\tvalidation_0-rmse:0.001818\tvalidation_1-mae:0.000366\tvalidation_1-error:0.003812\tvalidation_1-rmse:0.002085\n",
      "[335]\tvalidation_0-mae:0.000361\tvalidation_0-error:0.003772\tvalidation_0-rmse:0.001818\tvalidation_1-mae:0.000366\tvalidation_1-error:0.003812\tvalidation_1-rmse:0.002085\n",
      "[336]\tvalidation_0-mae:0.000361\tvalidation_0-error:0.003772\tvalidation_0-rmse:0.001817\tvalidation_1-mae:0.000366\tvalidation_1-error:0.003812\tvalidation_1-rmse:0.002084\n",
      "[337]\tvalidation_0-mae:0.00036\tvalidation_0-error:0.003772\tvalidation_0-rmse:0.001816\tvalidation_1-mae:0.000365\tvalidation_1-error:0.003812\tvalidation_1-rmse:0.002083\n",
      "[338]\tvalidation_0-mae:0.000359\tvalidation_0-error:0.003772\tvalidation_0-rmse:0.001816\tvalidation_1-mae:0.000364\tvalidation_1-error:0.003812\tvalidation_1-rmse:0.002083\n",
      "[339]\tvalidation_0-mae:0.000359\tvalidation_0-error:0.003772\tvalidation_0-rmse:0.001815\tvalidation_1-mae:0.000364\tvalidation_1-error:0.003812\tvalidation_1-rmse:0.002082\n",
      "[340]\tvalidation_0-mae:0.000359\tvalidation_0-error:0.003772\tvalidation_0-rmse:0.001814\tvalidation_1-mae:0.000364\tvalidation_1-error:0.003812\tvalidation_1-rmse:0.002081\n",
      "[341]\tvalidation_0-mae:0.000358\tvalidation_0-error:0.003772\tvalidation_0-rmse:0.001813\tvalidation_1-mae:0.000364\tvalidation_1-error:0.003812\tvalidation_1-rmse:0.002079\n",
      "[342]\tvalidation_0-mae:0.000358\tvalidation_0-error:0.003772\tvalidation_0-rmse:0.001813\tvalidation_1-mae:0.000363\tvalidation_1-error:0.003812\tvalidation_1-rmse:0.002079\n",
      "[343]\tvalidation_0-mae:0.000358\tvalidation_0-error:0.003772\tvalidation_0-rmse:0.001811\tvalidation_1-mae:0.000363\tvalidation_1-error:0.003812\tvalidation_1-rmse:0.002077\n"
     ]
    },
    {
     "name": "stdout",
     "output_type": "stream",
     "text": [
      "[344]\tvalidation_0-mae:0.000358\tvalidation_0-error:0.003772\tvalidation_0-rmse:0.001811\tvalidation_1-mae:0.000363\tvalidation_1-error:0.003812\tvalidation_1-rmse:0.002077\n",
      "[345]\tvalidation_0-mae:0.000357\tvalidation_0-error:0.003772\tvalidation_0-rmse:0.001811\tvalidation_1-mae:0.000362\tvalidation_1-error:0.003812\tvalidation_1-rmse:0.002077\n",
      "[346]\tvalidation_0-mae:0.000357\tvalidation_0-error:0.003772\tvalidation_0-rmse:0.001811\tvalidation_1-mae:0.000362\tvalidation_1-error:0.003812\tvalidation_1-rmse:0.002076\n",
      "[347]\tvalidation_0-mae:0.000357\tvalidation_0-error:0.003772\tvalidation_0-rmse:0.001811\tvalidation_1-mae:0.000362\tvalidation_1-error:0.003812\tvalidation_1-rmse:0.002076\n",
      "[348]\tvalidation_0-mae:0.000357\tvalidation_0-error:0.003772\tvalidation_0-rmse:0.00181\tvalidation_1-mae:0.000362\tvalidation_1-error:0.003812\tvalidation_1-rmse:0.002076\n",
      "[349]\tvalidation_0-mae:0.000357\tvalidation_0-error:0.003772\tvalidation_0-rmse:0.001809\tvalidation_1-mae:0.000362\tvalidation_1-error:0.003812\tvalidation_1-rmse:0.002074\n",
      "[350]\tvalidation_0-mae:0.000357\tvalidation_0-error:0.003772\tvalidation_0-rmse:0.001808\tvalidation_1-mae:0.000362\tvalidation_1-error:0.003812\tvalidation_1-rmse:0.002073\n",
      "[351]\tvalidation_0-mae:0.000356\tvalidation_0-error:0.003772\tvalidation_0-rmse:0.001807\tvalidation_1-mae:0.000362\tvalidation_1-error:0.003812\tvalidation_1-rmse:0.002071\n",
      "[352]\tvalidation_0-mae:0.000356\tvalidation_0-error:0.003772\tvalidation_0-rmse:0.001806\tvalidation_1-mae:0.000361\tvalidation_1-error:0.003812\tvalidation_1-rmse:0.00207\n",
      "[353]\tvalidation_0-mae:0.000356\tvalidation_0-error:0.003772\tvalidation_0-rmse:0.001806\tvalidation_1-mae:0.000361\tvalidation_1-error:0.003812\tvalidation_1-rmse:0.00207\n",
      "[354]\tvalidation_0-mae:0.000356\tvalidation_0-error:0.003772\tvalidation_0-rmse:0.001806\tvalidation_1-mae:0.000361\tvalidation_1-error:0.003812\tvalidation_1-rmse:0.002069\n",
      "[355]\tvalidation_0-mae:0.000356\tvalidation_0-error:0.003772\tvalidation_0-rmse:0.001805\tvalidation_1-mae:0.000361\tvalidation_1-error:0.003812\tvalidation_1-rmse:0.002069\n",
      "[356]\tvalidation_0-mae:0.000356\tvalidation_0-error:0.003772\tvalidation_0-rmse:0.001804\tvalidation_1-mae:0.000361\tvalidation_1-error:0.003812\tvalidation_1-rmse:0.002067\n",
      "[357]\tvalidation_0-mae:0.000356\tvalidation_0-error:0.003772\tvalidation_0-rmse:0.001804\tvalidation_1-mae:0.000361\tvalidation_1-error:0.003812\tvalidation_1-rmse:0.002067\n",
      "[358]\tvalidation_0-mae:0.000356\tvalidation_0-error:0.003772\tvalidation_0-rmse:0.001804\tvalidation_1-mae:0.000361\tvalidation_1-error:0.003812\tvalidation_1-rmse:0.002067\n",
      "[359]\tvalidation_0-mae:0.000356\tvalidation_0-error:0.003772\tvalidation_0-rmse:0.001804\tvalidation_1-mae:0.000361\tvalidation_1-error:0.003812\tvalidation_1-rmse:0.002067\n",
      "[360]\tvalidation_0-mae:0.000356\tvalidation_0-error:0.003772\tvalidation_0-rmse:0.001803\tvalidation_1-mae:0.000361\tvalidation_1-error:0.003812\tvalidation_1-rmse:0.002067\n",
      "[361]\tvalidation_0-mae:0.000355\tvalidation_0-error:0.003772\tvalidation_0-rmse:0.001803\tvalidation_1-mae:0.000361\tvalidation_1-error:0.003812\tvalidation_1-rmse:0.002066\n",
      "[362]\tvalidation_0-mae:0.000355\tvalidation_0-error:0.003772\tvalidation_0-rmse:0.001803\tvalidation_1-mae:0.000361\tvalidation_1-error:0.003812\tvalidation_1-rmse:0.002066\n",
      "[363]\tvalidation_0-mae:0.000355\tvalidation_0-error:0.003772\tvalidation_0-rmse:0.001802\tvalidation_1-mae:0.000361\tvalidation_1-error:0.003812\tvalidation_1-rmse:0.002065\n",
      "[364]\tvalidation_0-mae:0.000355\tvalidation_0-error:0.003772\tvalidation_0-rmse:0.001801\tvalidation_1-mae:0.000361\tvalidation_1-error:0.003812\tvalidation_1-rmse:0.002064\n",
      "[365]\tvalidation_0-mae:0.000355\tvalidation_0-error:0.003772\tvalidation_0-rmse:0.001801\tvalidation_1-mae:0.00036\tvalidation_1-error:0.003812\tvalidation_1-rmse:0.002063\n",
      "[366]\tvalidation_0-mae:0.000355\tvalidation_0-error:0.003772\tvalidation_0-rmse:0.001801\tvalidation_1-mae:0.00036\tvalidation_1-error:0.003812\tvalidation_1-rmse:0.002063\n",
      "[367]\tvalidation_0-mae:0.000355\tvalidation_0-error:0.003772\tvalidation_0-rmse:0.001801\tvalidation_1-mae:0.00036\tvalidation_1-error:0.003812\tvalidation_1-rmse:0.002063\n",
      "[368]\tvalidation_0-mae:0.000355\tvalidation_0-error:0.003772\tvalidation_0-rmse:0.0018\tvalidation_1-mae:0.00036\tvalidation_1-error:0.003812\tvalidation_1-rmse:0.002063\n",
      "[369]\tvalidation_0-mae:0.000355\tvalidation_0-error:0.003772\tvalidation_0-rmse:0.0018\tvalidation_1-mae:0.00036\tvalidation_1-error:0.003812\tvalidation_1-rmse:0.002063\n",
      "[370]\tvalidation_0-mae:0.000354\tvalidation_0-error:0.003772\tvalidation_0-rmse:0.001799\tvalidation_1-mae:0.00036\tvalidation_1-error:0.003812\tvalidation_1-rmse:0.002062\n",
      "[371]\tvalidation_0-mae:0.000354\tvalidation_0-error:0.003772\tvalidation_0-rmse:0.001799\tvalidation_1-mae:0.00036\tvalidation_1-error:0.003812\tvalidation_1-rmse:0.002061\n",
      "[372]\tvalidation_0-mae:0.000354\tvalidation_0-error:0.003772\tvalidation_0-rmse:0.001799\tvalidation_1-mae:0.00036\tvalidation_1-error:0.003812\tvalidation_1-rmse:0.002061\n",
      "[373]\tvalidation_0-mae:0.000354\tvalidation_0-error:0.003772\tvalidation_0-rmse:0.001798\tvalidation_1-mae:0.000359\tvalidation_1-error:0.003812\tvalidation_1-rmse:0.002061\n",
      "[374]\tvalidation_0-mae:0.000354\tvalidation_0-error:0.003772\tvalidation_0-rmse:0.001798\tvalidation_1-mae:0.000359\tvalidation_1-error:0.003812\tvalidation_1-rmse:0.002061\n",
      "[375]\tvalidation_0-mae:0.000354\tvalidation_0-error:0.003772\tvalidation_0-rmse:0.001798\tvalidation_1-mae:0.000359\tvalidation_1-error:0.003812\tvalidation_1-rmse:0.002061\n",
      "[376]\tvalidation_0-mae:0.000354\tvalidation_0-error:0.003772\tvalidation_0-rmse:0.001798\tvalidation_1-mae:0.000359\tvalidation_1-error:0.003812\tvalidation_1-rmse:0.00206\n",
      "[377]\tvalidation_0-mae:0.000354\tvalidation_0-error:0.003772\tvalidation_0-rmse:0.001798\tvalidation_1-mae:0.000359\tvalidation_1-error:0.003812\tvalidation_1-rmse:0.00206\n",
      "[378]\tvalidation_0-mae:0.000354\tvalidation_0-error:0.003772\tvalidation_0-rmse:0.001797\tvalidation_1-mae:0.000359\tvalidation_1-error:0.003812\tvalidation_1-rmse:0.00206\n",
      "[379]\tvalidation_0-mae:0.000354\tvalidation_0-error:0.003772\tvalidation_0-rmse:0.001797\tvalidation_1-mae:0.000359\tvalidation_1-error:0.003812\tvalidation_1-rmse:0.00206\n",
      "[380]\tvalidation_0-mae:0.000353\tvalidation_0-error:0.003772\tvalidation_0-rmse:0.001797\tvalidation_1-mae:0.000359\tvalidation_1-error:0.003812\tvalidation_1-rmse:0.002059\n",
      "[381]\tvalidation_0-mae:0.000353\tvalidation_0-error:0.003772\tvalidation_0-rmse:0.001796\tvalidation_1-mae:0.000358\tvalidation_1-error:0.003812\tvalidation_1-rmse:0.002059\n",
      "[382]\tvalidation_0-mae:0.000352\tvalidation_0-error:0.003772\tvalidation_0-rmse:0.001796\tvalidation_1-mae:0.000358\tvalidation_1-error:0.003812\tvalidation_1-rmse:0.002058\n",
      "[383]\tvalidation_0-mae:0.000352\tvalidation_0-error:0.003772\tvalidation_0-rmse:0.001795\tvalidation_1-mae:0.000358\tvalidation_1-error:0.003812\tvalidation_1-rmse:0.002057\n",
      "[384]\tvalidation_0-mae:0.000352\tvalidation_0-error:0.003772\tvalidation_0-rmse:0.001795\tvalidation_1-mae:0.000358\tvalidation_1-error:0.003812\tvalidation_1-rmse:0.002057\n",
      "[385]\tvalidation_0-mae:0.000352\tvalidation_0-error:0.003772\tvalidation_0-rmse:0.001794\tvalidation_1-mae:0.000357\tvalidation_1-error:0.003812\tvalidation_1-rmse:0.002056\n",
      "[386]\tvalidation_0-mae:0.000352\tvalidation_0-error:0.003772\tvalidation_0-rmse:0.001794\tvalidation_1-mae:0.000357\tvalidation_1-error:0.003812\tvalidation_1-rmse:0.002055\n",
      "[387]\tvalidation_0-mae:0.000352\tvalidation_0-error:0.003772\tvalidation_0-rmse:0.001794\tvalidation_1-mae:0.000357\tvalidation_1-error:0.003812\tvalidation_1-rmse:0.002055\n",
      "[388]\tvalidation_0-mae:0.000352\tvalidation_0-error:0.003772\tvalidation_0-rmse:0.001793\tvalidation_1-mae:0.000357\tvalidation_1-error:0.003812\tvalidation_1-rmse:0.002055\n",
      "[389]\tvalidation_0-mae:0.000352\tvalidation_0-error:0.003772\tvalidation_0-rmse:0.001793\tvalidation_1-mae:0.000357\tvalidation_1-error:0.003812\tvalidation_1-rmse:0.002055\n",
      "[390]\tvalidation_0-mae:0.000352\tvalidation_0-error:0.003772\tvalidation_0-rmse:0.001793\tvalidation_1-mae:0.000357\tvalidation_1-error:0.003812\tvalidation_1-rmse:0.002054\n",
      "[391]\tvalidation_0-mae:0.000352\tvalidation_0-error:0.003772\tvalidation_0-rmse:0.001792\tvalidation_1-mae:0.000357\tvalidation_1-error:0.003812\tvalidation_1-rmse:0.002053\n",
      "[392]\tvalidation_0-mae:0.000352\tvalidation_0-error:0.003772\tvalidation_0-rmse:0.001791\tvalidation_1-mae:0.000357\tvalidation_1-error:0.003812\tvalidation_1-rmse:0.002052\n"
     ]
    },
    {
     "name": "stdout",
     "output_type": "stream",
     "text": [
      "[393]\tvalidation_0-mae:0.000351\tvalidation_0-error:0.003772\tvalidation_0-rmse:0.001791\tvalidation_1-mae:0.000357\tvalidation_1-error:0.003812\tvalidation_1-rmse:0.002051\n",
      "[394]\tvalidation_0-mae:0.000351\tvalidation_0-error:0.003772\tvalidation_0-rmse:0.00179\tvalidation_1-mae:0.000356\tvalidation_1-error:0.003812\tvalidation_1-rmse:0.002051\n",
      "[395]\tvalidation_0-mae:0.000351\tvalidation_0-error:0.003772\tvalidation_0-rmse:0.00179\tvalidation_1-mae:0.000356\tvalidation_1-error:0.003812\tvalidation_1-rmse:0.002049\n",
      "[396]\tvalidation_0-mae:0.000351\tvalidation_0-error:0.003772\tvalidation_0-rmse:0.001789\tvalidation_1-mae:0.000356\tvalidation_1-error:0.003812\tvalidation_1-rmse:0.002049\n",
      "[397]\tvalidation_0-mae:0.000351\tvalidation_0-error:0.003772\tvalidation_0-rmse:0.001789\tvalidation_1-mae:0.000356\tvalidation_1-error:0.003812\tvalidation_1-rmse:0.002049\n",
      "[398]\tvalidation_0-mae:0.000351\tvalidation_0-error:0.003772\tvalidation_0-rmse:0.001788\tvalidation_1-mae:0.000356\tvalidation_1-error:0.003812\tvalidation_1-rmse:0.002048\n",
      "[399]\tvalidation_0-mae:0.000351\tvalidation_0-error:0.003772\tvalidation_0-rmse:0.001788\tvalidation_1-mae:0.000356\tvalidation_1-error:0.003812\tvalidation_1-rmse:0.002047\n",
      "[400]\tvalidation_0-mae:0.000351\tvalidation_0-error:0.003772\tvalidation_0-rmse:0.001788\tvalidation_1-mae:0.000356\tvalidation_1-error:0.003812\tvalidation_1-rmse:0.002047\n",
      "[401]\tvalidation_0-mae:0.000351\tvalidation_0-error:0.003772\tvalidation_0-rmse:0.001788\tvalidation_1-mae:0.000356\tvalidation_1-error:0.003812\tvalidation_1-rmse:0.002047\n",
      "[402]\tvalidation_0-mae:0.00035\tvalidation_0-error:0.003772\tvalidation_0-rmse:0.001787\tvalidation_1-mae:0.000356\tvalidation_1-error:0.003812\tvalidation_1-rmse:0.002047\n",
      "[403]\tvalidation_0-mae:0.00035\tvalidation_0-error:0.003772\tvalidation_0-rmse:0.001787\tvalidation_1-mae:0.000356\tvalidation_1-error:0.003812\tvalidation_1-rmse:0.002046\n",
      "[404]\tvalidation_0-mae:0.00035\tvalidation_0-error:0.003772\tvalidation_0-rmse:0.001787\tvalidation_1-mae:0.000356\tvalidation_1-error:0.003812\tvalidation_1-rmse:0.002046\n",
      "[405]\tvalidation_0-mae:0.00035\tvalidation_0-error:0.003772\tvalidation_0-rmse:0.001787\tvalidation_1-mae:0.000356\tvalidation_1-error:0.003812\tvalidation_1-rmse:0.002046\n",
      "[406]\tvalidation_0-mae:0.00035\tvalidation_0-error:0.003772\tvalidation_0-rmse:0.001786\tvalidation_1-mae:0.000355\tvalidation_1-error:0.003812\tvalidation_1-rmse:0.002045\n",
      "[407]\tvalidation_0-mae:0.00035\tvalidation_0-error:0.003772\tvalidation_0-rmse:0.001786\tvalidation_1-mae:0.000355\tvalidation_1-error:0.003812\tvalidation_1-rmse:0.002045\n",
      "[408]\tvalidation_0-mae:0.00035\tvalidation_0-error:0.003772\tvalidation_0-rmse:0.001785\tvalidation_1-mae:0.000355\tvalidation_1-error:0.003812\tvalidation_1-rmse:0.002044\n",
      "[409]\tvalidation_0-mae:0.000349\tvalidation_0-error:0.003772\tvalidation_0-rmse:0.001785\tvalidation_1-mae:0.000355\tvalidation_1-error:0.003812\tvalidation_1-rmse:0.002043\n",
      "[410]\tvalidation_0-mae:0.000349\tvalidation_0-error:0.003772\tvalidation_0-rmse:0.001784\tvalidation_1-mae:0.000354\tvalidation_1-error:0.003812\tvalidation_1-rmse:0.002043\n",
      "[411]\tvalidation_0-mae:0.000349\tvalidation_0-error:0.003772\tvalidation_0-rmse:0.001784\tvalidation_1-mae:0.000354\tvalidation_1-error:0.003812\tvalidation_1-rmse:0.002042\n",
      "[412]\tvalidation_0-mae:0.000349\tvalidation_0-error:0.003772\tvalidation_0-rmse:0.001783\tvalidation_1-mae:0.000354\tvalidation_1-error:0.003812\tvalidation_1-rmse:0.002041\n",
      "[413]\tvalidation_0-mae:0.000349\tvalidation_0-error:0.003772\tvalidation_0-rmse:0.001782\tvalidation_1-mae:0.000354\tvalidation_1-error:0.003812\tvalidation_1-rmse:0.002041\n",
      "[414]\tvalidation_0-mae:0.000349\tvalidation_0-error:0.003772\tvalidation_0-rmse:0.001782\tvalidation_1-mae:0.000354\tvalidation_1-error:0.003812\tvalidation_1-rmse:0.002041\n",
      "[415]\tvalidation_0-mae:0.000348\tvalidation_0-error:0.003772\tvalidation_0-rmse:0.001782\tvalidation_1-mae:0.000354\tvalidation_1-error:0.003812\tvalidation_1-rmse:0.00204\n",
      "[416]\tvalidation_0-mae:0.000348\tvalidation_0-error:0.003772\tvalidation_0-rmse:0.001782\tvalidation_1-mae:0.000354\tvalidation_1-error:0.003812\tvalidation_1-rmse:0.00204\n",
      "[417]\tvalidation_0-mae:0.000348\tvalidation_0-error:0.003772\tvalidation_0-rmse:0.001781\tvalidation_1-mae:0.000354\tvalidation_1-error:0.003812\tvalidation_1-rmse:0.002038\n",
      "[418]\tvalidation_0-mae:0.000347\tvalidation_0-error:0.003772\tvalidation_0-rmse:0.00178\tvalidation_1-mae:0.000353\tvalidation_1-error:0.003812\tvalidation_1-rmse:0.002038\n",
      "[419]\tvalidation_0-mae:0.000347\tvalidation_0-error:0.003772\tvalidation_0-rmse:0.001779\tvalidation_1-mae:0.000353\tvalidation_1-error:0.003812\tvalidation_1-rmse:0.002037\n",
      "[420]\tvalidation_0-mae:0.000347\tvalidation_0-error:0.003772\tvalidation_0-rmse:0.001779\tvalidation_1-mae:0.000352\tvalidation_1-error:0.003812\tvalidation_1-rmse:0.002036\n",
      "[421]\tvalidation_0-mae:0.000346\tvalidation_0-error:0.003772\tvalidation_0-rmse:0.001779\tvalidation_1-mae:0.000352\tvalidation_1-error:0.003812\tvalidation_1-rmse:0.002036\n",
      "[422]\tvalidation_0-mae:0.000346\tvalidation_0-error:0.003772\tvalidation_0-rmse:0.001778\tvalidation_1-mae:0.000351\tvalidation_1-error:0.003812\tvalidation_1-rmse:0.002035\n",
      "[423]\tvalidation_0-mae:0.000346\tvalidation_0-error:0.003772\tvalidation_0-rmse:0.001778\tvalidation_1-mae:0.000351\tvalidation_1-error:0.003812\tvalidation_1-rmse:0.002035\n",
      "[424]\tvalidation_0-mae:0.000345\tvalidation_0-error:0.003772\tvalidation_0-rmse:0.001777\tvalidation_1-mae:0.000351\tvalidation_1-error:0.003812\tvalidation_1-rmse:0.002035\n",
      "[425]\tvalidation_0-mae:0.000345\tvalidation_0-error:0.003772\tvalidation_0-rmse:0.001777\tvalidation_1-mae:0.000351\tvalidation_1-error:0.003812\tvalidation_1-rmse:0.002034\n",
      "[426]\tvalidation_0-mae:0.000345\tvalidation_0-error:0.003772\tvalidation_0-rmse:0.001777\tvalidation_1-mae:0.000351\tvalidation_1-error:0.003812\tvalidation_1-rmse:0.002034\n",
      "[427]\tvalidation_0-mae:0.000345\tvalidation_0-error:0.003771\tvalidation_0-rmse:0.001777\tvalidation_1-mae:0.000351\tvalidation_1-error:0.003811\tvalidation_1-rmse:0.002034\n",
      "[428]\tvalidation_0-mae:0.000345\tvalidation_0-error:0.003771\tvalidation_0-rmse:0.001776\tvalidation_1-mae:0.000351\tvalidation_1-error:0.003811\tvalidation_1-rmse:0.002033\n",
      "[429]\tvalidation_0-mae:0.000345\tvalidation_0-error:0.003771\tvalidation_0-rmse:0.001776\tvalidation_1-mae:0.000351\tvalidation_1-error:0.003811\tvalidation_1-rmse:0.002032\n",
      "[430]\tvalidation_0-mae:0.000345\tvalidation_0-error:0.003771\tvalidation_0-rmse:0.001774\tvalidation_1-mae:0.00035\tvalidation_1-error:0.003811\tvalidation_1-rmse:0.002031\n",
      "[431]\tvalidation_0-mae:0.000345\tvalidation_0-error:0.003771\tvalidation_0-rmse:0.001774\tvalidation_1-mae:0.00035\tvalidation_1-error:0.003811\tvalidation_1-rmse:0.00203\n",
      "[432]\tvalidation_0-mae:0.000344\tvalidation_0-error:0.003771\tvalidation_0-rmse:0.001774\tvalidation_1-mae:0.00035\tvalidation_1-error:0.003811\tvalidation_1-rmse:0.00203\n",
      "[433]\tvalidation_0-mae:0.000344\tvalidation_0-error:0.003771\tvalidation_0-rmse:0.001774\tvalidation_1-mae:0.00035\tvalidation_1-error:0.003811\tvalidation_1-rmse:0.00203\n",
      "[434]\tvalidation_0-mae:0.000344\tvalidation_0-error:0.003771\tvalidation_0-rmse:0.001773\tvalidation_1-mae:0.00035\tvalidation_1-error:0.003811\tvalidation_1-rmse:0.00203\n",
      "[435]\tvalidation_0-mae:0.000344\tvalidation_0-error:0.003771\tvalidation_0-rmse:0.001773\tvalidation_1-mae:0.00035\tvalidation_1-error:0.003811\tvalidation_1-rmse:0.00203\n",
      "[436]\tvalidation_0-mae:0.000344\tvalidation_0-error:0.003771\tvalidation_0-rmse:0.001772\tvalidation_1-mae:0.00035\tvalidation_1-error:0.003811\tvalidation_1-rmse:0.002029\n",
      "[437]\tvalidation_0-mae:0.000344\tvalidation_0-error:0.003771\tvalidation_0-rmse:0.001772\tvalidation_1-mae:0.00035\tvalidation_1-error:0.003811\tvalidation_1-rmse:0.002028\n",
      "[438]\tvalidation_0-mae:0.000344\tvalidation_0-error:0.003771\tvalidation_0-rmse:0.001772\tvalidation_1-mae:0.00035\tvalidation_1-error:0.003811\tvalidation_1-rmse:0.002028\n",
      "[439]\tvalidation_0-mae:0.000344\tvalidation_0-error:0.003771\tvalidation_0-rmse:0.001772\tvalidation_1-mae:0.00035\tvalidation_1-error:0.003811\tvalidation_1-rmse:0.002028\n",
      "[440]\tvalidation_0-mae:0.000344\tvalidation_0-error:0.003771\tvalidation_0-rmse:0.001771\tvalidation_1-mae:0.000349\tvalidation_1-error:0.003811\tvalidation_1-rmse:0.002027\n",
      "[441]\tvalidation_0-mae:0.000343\tvalidation_0-error:0.003771\tvalidation_0-rmse:0.001771\tvalidation_1-mae:0.000349\tvalidation_1-error:0.003811\tvalidation_1-rmse:0.002027\n"
     ]
    },
    {
     "name": "stdout",
     "output_type": "stream",
     "text": [
      "[442]\tvalidation_0-mae:0.000343\tvalidation_0-error:0.003771\tvalidation_0-rmse:0.00177\tvalidation_1-mae:0.000348\tvalidation_1-error:0.003811\tvalidation_1-rmse:0.002027\n",
      "[443]\tvalidation_0-mae:0.000343\tvalidation_0-error:0.003771\tvalidation_0-rmse:0.00177\tvalidation_1-mae:0.000348\tvalidation_1-error:0.003811\tvalidation_1-rmse:0.002026\n",
      "[444]\tvalidation_0-mae:0.000342\tvalidation_0-error:0.003771\tvalidation_0-rmse:0.00177\tvalidation_1-mae:0.000348\tvalidation_1-error:0.003811\tvalidation_1-rmse:0.002026\n",
      "[445]\tvalidation_0-mae:0.000342\tvalidation_0-error:0.003771\tvalidation_0-rmse:0.00177\tvalidation_1-mae:0.000348\tvalidation_1-error:0.003811\tvalidation_1-rmse:0.002026\n",
      "[446]\tvalidation_0-mae:0.000342\tvalidation_0-error:0.003771\tvalidation_0-rmse:0.001769\tvalidation_1-mae:0.000348\tvalidation_1-error:0.003811\tvalidation_1-rmse:0.002026\n",
      "[447]\tvalidation_0-mae:0.000342\tvalidation_0-error:0.003771\tvalidation_0-rmse:0.001769\tvalidation_1-mae:0.000348\tvalidation_1-error:0.003811\tvalidation_1-rmse:0.002025\n",
      "[448]\tvalidation_0-mae:0.000342\tvalidation_0-error:0.003771\tvalidation_0-rmse:0.001769\tvalidation_1-mae:0.000348\tvalidation_1-error:0.003811\tvalidation_1-rmse:0.002025\n",
      "[449]\tvalidation_0-mae:0.000342\tvalidation_0-error:0.003771\tvalidation_0-rmse:0.001769\tvalidation_1-mae:0.000347\tvalidation_1-error:0.003811\tvalidation_1-rmse:0.002025\n",
      "[450]\tvalidation_0-mae:0.000342\tvalidation_0-error:0.003771\tvalidation_0-rmse:0.001768\tvalidation_1-mae:0.000347\tvalidation_1-error:0.003811\tvalidation_1-rmse:0.002025\n",
      "[451]\tvalidation_0-mae:0.000342\tvalidation_0-error:0.003771\tvalidation_0-rmse:0.001768\tvalidation_1-mae:0.000347\tvalidation_1-error:0.003811\tvalidation_1-rmse:0.002024\n",
      "[452]\tvalidation_0-mae:0.000342\tvalidation_0-error:0.003771\tvalidation_0-rmse:0.001768\tvalidation_1-mae:0.000347\tvalidation_1-error:0.003811\tvalidation_1-rmse:0.002024\n",
      "[453]\tvalidation_0-mae:0.000342\tvalidation_0-error:0.003771\tvalidation_0-rmse:0.001767\tvalidation_1-mae:0.000347\tvalidation_1-error:0.003811\tvalidation_1-rmse:0.002023\n",
      "[454]\tvalidation_0-mae:0.000341\tvalidation_0-error:0.003771\tvalidation_0-rmse:0.001767\tvalidation_1-mae:0.000347\tvalidation_1-error:0.003811\tvalidation_1-rmse:0.002023\n",
      "[455]\tvalidation_0-mae:0.000341\tvalidation_0-error:0.003771\tvalidation_0-rmse:0.001767\tvalidation_1-mae:0.000347\tvalidation_1-error:0.003811\tvalidation_1-rmse:0.002022\n",
      "[456]\tvalidation_0-mae:0.000341\tvalidation_0-error:0.003771\tvalidation_0-rmse:0.001766\tvalidation_1-mae:0.000346\tvalidation_1-error:0.003811\tvalidation_1-rmse:0.002022\n",
      "[457]\tvalidation_0-mae:0.000341\tvalidation_0-error:0.003771\tvalidation_0-rmse:0.001766\tvalidation_1-mae:0.000346\tvalidation_1-error:0.003811\tvalidation_1-rmse:0.002022\n",
      "[458]\tvalidation_0-mae:0.000341\tvalidation_0-error:0.003771\tvalidation_0-rmse:0.001766\tvalidation_1-mae:0.000346\tvalidation_1-error:0.003811\tvalidation_1-rmse:0.002022\n",
      "[459]\tvalidation_0-mae:0.000341\tvalidation_0-error:0.003771\tvalidation_0-rmse:0.001766\tvalidation_1-mae:0.000346\tvalidation_1-error:0.003811\tvalidation_1-rmse:0.002022\n",
      "[460]\tvalidation_0-mae:0.000341\tvalidation_0-error:0.003771\tvalidation_0-rmse:0.001766\tvalidation_1-mae:0.000346\tvalidation_1-error:0.003811\tvalidation_1-rmse:0.002022\n",
      "[461]\tvalidation_0-mae:0.000341\tvalidation_0-error:0.003771\tvalidation_0-rmse:0.001766\tvalidation_1-mae:0.000346\tvalidation_1-error:0.003811\tvalidation_1-rmse:0.002022\n",
      "[462]\tvalidation_0-mae:0.00034\tvalidation_0-error:0.003771\tvalidation_0-rmse:0.001765\tvalidation_1-mae:0.000346\tvalidation_1-error:0.003811\tvalidation_1-rmse:0.002021\n",
      "[463]\tvalidation_0-mae:0.00034\tvalidation_0-error:0.003771\tvalidation_0-rmse:0.001765\tvalidation_1-mae:0.000346\tvalidation_1-error:0.003811\tvalidation_1-rmse:0.002021\n",
      "[464]\tvalidation_0-mae:0.00034\tvalidation_0-error:0.003771\tvalidation_0-rmse:0.001765\tvalidation_1-mae:0.000346\tvalidation_1-error:0.003811\tvalidation_1-rmse:0.00202\n",
      "[465]\tvalidation_0-mae:0.00034\tvalidation_0-error:0.003771\tvalidation_0-rmse:0.001763\tvalidation_1-mae:0.000346\tvalidation_1-error:0.003811\tvalidation_1-rmse:0.002018\n",
      "[466]\tvalidation_0-mae:0.00034\tvalidation_0-error:0.003771\tvalidation_0-rmse:0.001763\tvalidation_1-mae:0.000346\tvalidation_1-error:0.003811\tvalidation_1-rmse:0.002018\n",
      "[467]\tvalidation_0-mae:0.00034\tvalidation_0-error:0.003771\tvalidation_0-rmse:0.001763\tvalidation_1-mae:0.000346\tvalidation_1-error:0.003811\tvalidation_1-rmse:0.002017\n",
      "[468]\tvalidation_0-mae:0.00034\tvalidation_0-error:0.003771\tvalidation_0-rmse:0.001762\tvalidation_1-mae:0.000346\tvalidation_1-error:0.003811\tvalidation_1-rmse:0.002017\n",
      "[469]\tvalidation_0-mae:0.00034\tvalidation_0-error:0.003771\tvalidation_0-rmse:0.001762\tvalidation_1-mae:0.000346\tvalidation_1-error:0.003811\tvalidation_1-rmse:0.002016\n",
      "[470]\tvalidation_0-mae:0.00034\tvalidation_0-error:0.003771\tvalidation_0-rmse:0.001762\tvalidation_1-mae:0.000345\tvalidation_1-error:0.003811\tvalidation_1-rmse:0.002016\n",
      "[471]\tvalidation_0-mae:0.00034\tvalidation_0-error:0.003771\tvalidation_0-rmse:0.001762\tvalidation_1-mae:0.000345\tvalidation_1-error:0.003811\tvalidation_1-rmse:0.002016\n",
      "[472]\tvalidation_0-mae:0.00034\tvalidation_0-error:0.003771\tvalidation_0-rmse:0.001761\tvalidation_1-mae:0.000345\tvalidation_1-error:0.003811\tvalidation_1-rmse:0.002016\n",
      "[473]\tvalidation_0-mae:0.00034\tvalidation_0-error:0.003771\tvalidation_0-rmse:0.001761\tvalidation_1-mae:0.000345\tvalidation_1-error:0.003811\tvalidation_1-rmse:0.002015\n",
      "[474]\tvalidation_0-mae:0.00034\tvalidation_0-error:0.003771\tvalidation_0-rmse:0.001761\tvalidation_1-mae:0.000345\tvalidation_1-error:0.003811\tvalidation_1-rmse:0.002015\n",
      "[475]\tvalidation_0-mae:0.00034\tvalidation_0-error:0.003771\tvalidation_0-rmse:0.001761\tvalidation_1-mae:0.000345\tvalidation_1-error:0.003811\tvalidation_1-rmse:0.002015\n",
      "[476]\tvalidation_0-mae:0.00034\tvalidation_0-error:0.003771\tvalidation_0-rmse:0.001761\tvalidation_1-mae:0.000345\tvalidation_1-error:0.003811\tvalidation_1-rmse:0.002015\n",
      "[477]\tvalidation_0-mae:0.00034\tvalidation_0-error:0.003771\tvalidation_0-rmse:0.001761\tvalidation_1-mae:0.000345\tvalidation_1-error:0.003811\tvalidation_1-rmse:0.002015\n",
      "[478]\tvalidation_0-mae:0.000339\tvalidation_0-error:0.003771\tvalidation_0-rmse:0.00176\tvalidation_1-mae:0.000345\tvalidation_1-error:0.003811\tvalidation_1-rmse:0.002015\n",
      "[479]\tvalidation_0-mae:0.000339\tvalidation_0-error:0.003771\tvalidation_0-rmse:0.00176\tvalidation_1-mae:0.000345\tvalidation_1-error:0.003811\tvalidation_1-rmse:0.002015\n",
      "[480]\tvalidation_0-mae:0.000339\tvalidation_0-error:0.003771\tvalidation_0-rmse:0.00176\tvalidation_1-mae:0.000345\tvalidation_1-error:0.003811\tvalidation_1-rmse:0.002015\n",
      "[481]\tvalidation_0-mae:0.000339\tvalidation_0-error:0.003771\tvalidation_0-rmse:0.001759\tvalidation_1-mae:0.000344\tvalidation_1-error:0.003811\tvalidation_1-rmse:0.002013\n",
      "[482]\tvalidation_0-mae:0.000339\tvalidation_0-error:0.003771\tvalidation_0-rmse:0.001758\tvalidation_1-mae:0.000344\tvalidation_1-error:0.003811\tvalidation_1-rmse:0.002012\n",
      "[483]\tvalidation_0-mae:0.000339\tvalidation_0-error:0.003771\tvalidation_0-rmse:0.001758\tvalidation_1-mae:0.000344\tvalidation_1-error:0.003811\tvalidation_1-rmse:0.002012\n",
      "[484]\tvalidation_0-mae:0.000338\tvalidation_0-error:0.003771\tvalidation_0-rmse:0.001758\tvalidation_1-mae:0.000344\tvalidation_1-error:0.003811\tvalidation_1-rmse:0.002011\n",
      "[485]\tvalidation_0-mae:0.000338\tvalidation_0-error:0.003771\tvalidation_0-rmse:0.001757\tvalidation_1-mae:0.000344\tvalidation_1-error:0.003811\tvalidation_1-rmse:0.002011\n",
      "[486]\tvalidation_0-mae:0.000338\tvalidation_0-error:0.003771\tvalidation_0-rmse:0.001757\tvalidation_1-mae:0.000344\tvalidation_1-error:0.003811\tvalidation_1-rmse:0.002011\n",
      "[487]\tvalidation_0-mae:0.000338\tvalidation_0-error:0.003771\tvalidation_0-rmse:0.001757\tvalidation_1-mae:0.000344\tvalidation_1-error:0.003811\tvalidation_1-rmse:0.00201\n",
      "[488]\tvalidation_0-mae:0.000338\tvalidation_0-error:0.003771\tvalidation_0-rmse:0.001757\tvalidation_1-mae:0.000343\tvalidation_1-error:0.003811\tvalidation_1-rmse:0.00201\n",
      "[489]\tvalidation_0-mae:0.000338\tvalidation_0-error:0.003771\tvalidation_0-rmse:0.001757\tvalidation_1-mae:0.000343\tvalidation_1-error:0.003811\tvalidation_1-rmse:0.00201\n",
      "[490]\tvalidation_0-mae:0.000338\tvalidation_0-error:0.003771\tvalidation_0-rmse:0.001757\tvalidation_1-mae:0.000343\tvalidation_1-error:0.003811\tvalidation_1-rmse:0.00201\n"
     ]
    },
    {
     "name": "stdout",
     "output_type": "stream",
     "text": [
      "[491]\tvalidation_0-mae:0.000338\tvalidation_0-error:0.003771\tvalidation_0-rmse:0.001755\tvalidation_1-mae:0.000343\tvalidation_1-error:0.003811\tvalidation_1-rmse:0.002008\n",
      "[492]\tvalidation_0-mae:0.000337\tvalidation_0-error:0.003771\tvalidation_0-rmse:0.001755\tvalidation_1-mae:0.000343\tvalidation_1-error:0.003811\tvalidation_1-rmse:0.002008\n",
      "[493]\tvalidation_0-mae:0.000337\tvalidation_0-error:0.003771\tvalidation_0-rmse:0.001755\tvalidation_1-mae:0.000343\tvalidation_1-error:0.003811\tvalidation_1-rmse:0.002008\n",
      "[494]\tvalidation_0-mae:0.000337\tvalidation_0-error:0.003771\tvalidation_0-rmse:0.001755\tvalidation_1-mae:0.000343\tvalidation_1-error:0.003811\tvalidation_1-rmse:0.002008\n",
      "[495]\tvalidation_0-mae:0.000337\tvalidation_0-error:0.003771\tvalidation_0-rmse:0.001755\tvalidation_1-mae:0.000343\tvalidation_1-error:0.003811\tvalidation_1-rmse:0.002007\n",
      "[496]\tvalidation_0-mae:0.000337\tvalidation_0-error:0.003771\tvalidation_0-rmse:0.001755\tvalidation_1-mae:0.000342\tvalidation_1-error:0.003811\tvalidation_1-rmse:0.002007\n",
      "[497]\tvalidation_0-mae:0.000337\tvalidation_0-error:0.003771\tvalidation_0-rmse:0.001753\tvalidation_1-mae:0.000342\tvalidation_1-error:0.003811\tvalidation_1-rmse:0.002005\n",
      "[498]\tvalidation_0-mae:0.000336\tvalidation_0-error:0.003771\tvalidation_0-rmse:0.001753\tvalidation_1-mae:0.000342\tvalidation_1-error:0.003811\tvalidation_1-rmse:0.002004\n",
      "[499]\tvalidation_0-mae:0.000336\tvalidation_0-error:0.003771\tvalidation_0-rmse:0.001752\tvalidation_1-mae:0.000342\tvalidation_1-error:0.003811\tvalidation_1-rmse:0.002004\n",
      "[500]\tvalidation_0-mae:0.000336\tvalidation_0-error:0.003771\tvalidation_0-rmse:0.001752\tvalidation_1-mae:0.000342\tvalidation_1-error:0.003811\tvalidation_1-rmse:0.002004\n",
      "[501]\tvalidation_0-mae:0.000336\tvalidation_0-error:0.003771\tvalidation_0-rmse:0.001751\tvalidation_1-mae:0.000342\tvalidation_1-error:0.003811\tvalidation_1-rmse:0.002002\n",
      "[502]\tvalidation_0-mae:0.000336\tvalidation_0-error:0.003771\tvalidation_0-rmse:0.001751\tvalidation_1-mae:0.000341\tvalidation_1-error:0.003811\tvalidation_1-rmse:0.002002\n",
      "[503]\tvalidation_0-mae:0.000336\tvalidation_0-error:0.003771\tvalidation_0-rmse:0.001751\tvalidation_1-mae:0.000341\tvalidation_1-error:0.003811\tvalidation_1-rmse:0.002002\n",
      "[504]\tvalidation_0-mae:0.000336\tvalidation_0-error:0.003771\tvalidation_0-rmse:0.001751\tvalidation_1-mae:0.000341\tvalidation_1-error:0.003811\tvalidation_1-rmse:0.002002\n",
      "[505]\tvalidation_0-mae:0.000336\tvalidation_0-error:0.003771\tvalidation_0-rmse:0.001751\tvalidation_1-mae:0.000341\tvalidation_1-error:0.003811\tvalidation_1-rmse:0.002002\n",
      "[506]\tvalidation_0-mae:0.000336\tvalidation_0-error:0.003771\tvalidation_0-rmse:0.001751\tvalidation_1-mae:0.000341\tvalidation_1-error:0.003811\tvalidation_1-rmse:0.002002\n",
      "[507]\tvalidation_0-mae:0.000336\tvalidation_0-error:0.003771\tvalidation_0-rmse:0.001751\tvalidation_1-mae:0.000341\tvalidation_1-error:0.003811\tvalidation_1-rmse:0.002002\n",
      "[508]\tvalidation_0-mae:0.000336\tvalidation_0-error:0.003771\tvalidation_0-rmse:0.00175\tvalidation_1-mae:0.000341\tvalidation_1-error:0.003811\tvalidation_1-rmse:0.002001\n",
      "[509]\tvalidation_0-mae:0.000335\tvalidation_0-error:0.003771\tvalidation_0-rmse:0.00175\tvalidation_1-mae:0.000341\tvalidation_1-error:0.003811\tvalidation_1-rmse:0.002001\n",
      "[510]\tvalidation_0-mae:0.000335\tvalidation_0-error:0.003771\tvalidation_0-rmse:0.001749\tvalidation_1-mae:0.000341\tvalidation_1-error:0.003811\tvalidation_1-rmse:0.002\n",
      "[511]\tvalidation_0-mae:0.000335\tvalidation_0-error:0.003771\tvalidation_0-rmse:0.001749\tvalidation_1-mae:0.000341\tvalidation_1-error:0.003811\tvalidation_1-rmse:0.002\n",
      "[512]\tvalidation_0-mae:0.000335\tvalidation_0-error:0.003771\tvalidation_0-rmse:0.001749\tvalidation_1-mae:0.000341\tvalidation_1-error:0.003811\tvalidation_1-rmse:0.002\n",
      "[513]\tvalidation_0-mae:0.000335\tvalidation_0-error:0.003771\tvalidation_0-rmse:0.001749\tvalidation_1-mae:0.000341\tvalidation_1-error:0.003811\tvalidation_1-rmse:0.001999\n",
      "[514]\tvalidation_0-mae:0.000335\tvalidation_0-error:0.003771\tvalidation_0-rmse:0.001748\tvalidation_1-mae:0.00034\tvalidation_1-error:0.003811\tvalidation_1-rmse:0.001999\n",
      "[515]\tvalidation_0-mae:0.000335\tvalidation_0-error:0.003771\tvalidation_0-rmse:0.001748\tvalidation_1-mae:0.00034\tvalidation_1-error:0.003811\tvalidation_1-rmse:0.001999\n",
      "[516]\tvalidation_0-mae:0.000335\tvalidation_0-error:0.003771\tvalidation_0-rmse:0.001748\tvalidation_1-mae:0.00034\tvalidation_1-error:0.003811\tvalidation_1-rmse:0.001999\n",
      "[517]\tvalidation_0-mae:0.000334\tvalidation_0-error:0.003771\tvalidation_0-rmse:0.001747\tvalidation_1-mae:0.00034\tvalidation_1-error:0.003811\tvalidation_1-rmse:0.001998\n",
      "[518]\tvalidation_0-mae:0.000334\tvalidation_0-error:0.003771\tvalidation_0-rmse:0.001747\tvalidation_1-mae:0.00034\tvalidation_1-error:0.003811\tvalidation_1-rmse:0.001997\n",
      "[519]\tvalidation_0-mae:0.000334\tvalidation_0-error:0.003771\tvalidation_0-rmse:0.001747\tvalidation_1-mae:0.00034\tvalidation_1-error:0.003811\tvalidation_1-rmse:0.001998\n",
      "[520]\tvalidation_0-mae:0.000334\tvalidation_0-error:0.003771\tvalidation_0-rmse:0.001747\tvalidation_1-mae:0.00034\tvalidation_1-error:0.003811\tvalidation_1-rmse:0.001997\n",
      "[521]\tvalidation_0-mae:0.000334\tvalidation_0-error:0.003771\tvalidation_0-rmse:0.001747\tvalidation_1-mae:0.00034\tvalidation_1-error:0.003811\tvalidation_1-rmse:0.001997\n",
      "[522]\tvalidation_0-mae:0.000334\tvalidation_0-error:0.003771\tvalidation_0-rmse:0.001746\tvalidation_1-mae:0.00034\tvalidation_1-error:0.003811\tvalidation_1-rmse:0.001997\n",
      "[523]\tvalidation_0-mae:0.000334\tvalidation_0-error:0.003771\tvalidation_0-rmse:0.001746\tvalidation_1-mae:0.00034\tvalidation_1-error:0.003811\tvalidation_1-rmse:0.001997\n",
      "[524]\tvalidation_0-mae:0.000334\tvalidation_0-error:0.003771\tvalidation_0-rmse:0.001746\tvalidation_1-mae:0.00034\tvalidation_1-error:0.003811\tvalidation_1-rmse:0.001997\n",
      "[525]\tvalidation_0-mae:0.000334\tvalidation_0-error:0.003771\tvalidation_0-rmse:0.001746\tvalidation_1-mae:0.00034\tvalidation_1-error:0.003811\tvalidation_1-rmse:0.001997\n",
      "[526]\tvalidation_0-mae:0.000334\tvalidation_0-error:0.003771\tvalidation_0-rmse:0.001745\tvalidation_1-mae:0.00034\tvalidation_1-error:0.003811\tvalidation_1-rmse:0.001996\n",
      "[527]\tvalidation_0-mae:0.000334\tvalidation_0-error:0.003771\tvalidation_0-rmse:0.001745\tvalidation_1-mae:0.00034\tvalidation_1-error:0.003811\tvalidation_1-rmse:0.001996\n",
      "[528]\tvalidation_0-mae:0.000334\tvalidation_0-error:0.003771\tvalidation_0-rmse:0.001745\tvalidation_1-mae:0.00034\tvalidation_1-error:0.003811\tvalidation_1-rmse:0.001996\n",
      "[529]\tvalidation_0-mae:0.000334\tvalidation_0-error:0.003771\tvalidation_0-rmse:0.001745\tvalidation_1-mae:0.00034\tvalidation_1-error:0.003811\tvalidation_1-rmse:0.001996\n",
      "[530]\tvalidation_0-mae:0.000334\tvalidation_0-error:0.003771\tvalidation_0-rmse:0.001744\tvalidation_1-mae:0.000339\tvalidation_1-error:0.003811\tvalidation_1-rmse:0.001995\n",
      "[531]\tvalidation_0-mae:0.000334\tvalidation_0-error:0.003771\tvalidation_0-rmse:0.001744\tvalidation_1-mae:0.000339\tvalidation_1-error:0.003811\tvalidation_1-rmse:0.001995\n",
      "[532]\tvalidation_0-mae:0.000334\tvalidation_0-error:0.003771\tvalidation_0-rmse:0.001744\tvalidation_1-mae:0.000339\tvalidation_1-error:0.003811\tvalidation_1-rmse:0.001994\n",
      "[533]\tvalidation_0-mae:0.000334\tvalidation_0-error:0.003771\tvalidation_0-rmse:0.001743\tvalidation_1-mae:0.000339\tvalidation_1-error:0.003811\tvalidation_1-rmse:0.001992\n",
      "[534]\tvalidation_0-mae:0.000334\tvalidation_0-error:0.003771\tvalidation_0-rmse:0.001743\tvalidation_1-mae:0.000339\tvalidation_1-error:0.003811\tvalidation_1-rmse:0.001992\n",
      "[535]\tvalidation_0-mae:0.000333\tvalidation_0-error:0.003771\tvalidation_0-rmse:0.001742\tvalidation_1-mae:0.000339\tvalidation_1-error:0.003811\tvalidation_1-rmse:0.001992\n",
      "[536]\tvalidation_0-mae:0.000333\tvalidation_0-error:0.003771\tvalidation_0-rmse:0.001741\tvalidation_1-mae:0.000339\tvalidation_1-error:0.003811\tvalidation_1-rmse:0.001991\n",
      "[537]\tvalidation_0-mae:0.000333\tvalidation_0-error:0.003771\tvalidation_0-rmse:0.00174\tvalidation_1-mae:0.000339\tvalidation_1-error:0.003811\tvalidation_1-rmse:0.001989\n",
      "[538]\tvalidation_0-mae:0.000333\tvalidation_0-error:0.003771\tvalidation_0-rmse:0.00174\tvalidation_1-mae:0.000339\tvalidation_1-error:0.003811\tvalidation_1-rmse:0.001989\n",
      "[539]\tvalidation_0-mae:0.000333\tvalidation_0-error:0.003771\tvalidation_0-rmse:0.00174\tvalidation_1-mae:0.000339\tvalidation_1-error:0.003811\tvalidation_1-rmse:0.001989\n"
     ]
    },
    {
     "name": "stdout",
     "output_type": "stream",
     "text": [
      "[540]\tvalidation_0-mae:0.000333\tvalidation_0-error:0.003771\tvalidation_0-rmse:0.001739\tvalidation_1-mae:0.000338\tvalidation_1-error:0.003811\tvalidation_1-rmse:0.001988\n",
      "[541]\tvalidation_0-mae:0.000333\tvalidation_0-error:0.003771\tvalidation_0-rmse:0.001739\tvalidation_1-mae:0.000338\tvalidation_1-error:0.003811\tvalidation_1-rmse:0.001988\n",
      "[542]\tvalidation_0-mae:0.000333\tvalidation_0-error:0.003771\tvalidation_0-rmse:0.001739\tvalidation_1-mae:0.000338\tvalidation_1-error:0.003811\tvalidation_1-rmse:0.001988\n",
      "[543]\tvalidation_0-mae:0.000333\tvalidation_0-error:0.003771\tvalidation_0-rmse:0.001738\tvalidation_1-mae:0.000338\tvalidation_1-error:0.003811\tvalidation_1-rmse:0.001987\n",
      "[544]\tvalidation_0-mae:0.000333\tvalidation_0-error:0.003771\tvalidation_0-rmse:0.001738\tvalidation_1-mae:0.000338\tvalidation_1-error:0.003811\tvalidation_1-rmse:0.001986\n",
      "[545]\tvalidation_0-mae:0.000332\tvalidation_0-error:0.003771\tvalidation_0-rmse:0.001737\tvalidation_1-mae:0.000338\tvalidation_1-error:0.003811\tvalidation_1-rmse:0.001986\n",
      "[546]\tvalidation_0-mae:0.000332\tvalidation_0-error:0.003771\tvalidation_0-rmse:0.001737\tvalidation_1-mae:0.000338\tvalidation_1-error:0.003811\tvalidation_1-rmse:0.001986\n",
      "[547]\tvalidation_0-mae:0.000332\tvalidation_0-error:0.003771\tvalidation_0-rmse:0.001737\tvalidation_1-mae:0.000338\tvalidation_1-error:0.003811\tvalidation_1-rmse:0.001986\n",
      "[548]\tvalidation_0-mae:0.000332\tvalidation_0-error:0.003771\tvalidation_0-rmse:0.001737\tvalidation_1-mae:0.000338\tvalidation_1-error:0.003811\tvalidation_1-rmse:0.001985\n",
      "[549]\tvalidation_0-mae:0.000332\tvalidation_0-error:0.003771\tvalidation_0-rmse:0.001737\tvalidation_1-mae:0.000338\tvalidation_1-error:0.003811\tvalidation_1-rmse:0.001985\n",
      "[550]\tvalidation_0-mae:0.000332\tvalidation_0-error:0.003771\tvalidation_0-rmse:0.001737\tvalidation_1-mae:0.000337\tvalidation_1-error:0.003811\tvalidation_1-rmse:0.001985\n",
      "[551]\tvalidation_0-mae:0.000332\tvalidation_0-error:0.003771\tvalidation_0-rmse:0.001737\tvalidation_1-mae:0.000337\tvalidation_1-error:0.003811\tvalidation_1-rmse:0.001985\n",
      "[552]\tvalidation_0-mae:0.000331\tvalidation_0-error:0.003771\tvalidation_0-rmse:0.001736\tvalidation_1-mae:0.000337\tvalidation_1-error:0.003811\tvalidation_1-rmse:0.001985\n",
      "[553]\tvalidation_0-mae:0.000331\tvalidation_0-error:0.003771\tvalidation_0-rmse:0.001736\tvalidation_1-mae:0.000337\tvalidation_1-error:0.003811\tvalidation_1-rmse:0.001984\n",
      "[554]\tvalidation_0-mae:0.000331\tvalidation_0-error:0.003771\tvalidation_0-rmse:0.001736\tvalidation_1-mae:0.000337\tvalidation_1-error:0.003811\tvalidation_1-rmse:0.001984\n",
      "[555]\tvalidation_0-mae:0.000331\tvalidation_0-error:0.003771\tvalidation_0-rmse:0.001735\tvalidation_1-mae:0.000337\tvalidation_1-error:0.003811\tvalidation_1-rmse:0.001983\n",
      "[556]\tvalidation_0-mae:0.000331\tvalidation_0-error:0.003771\tvalidation_0-rmse:0.001735\tvalidation_1-mae:0.000337\tvalidation_1-error:0.003811\tvalidation_1-rmse:0.001983\n",
      "[557]\tvalidation_0-mae:0.000331\tvalidation_0-error:0.003771\tvalidation_0-rmse:0.001735\tvalidation_1-mae:0.000337\tvalidation_1-error:0.003811\tvalidation_1-rmse:0.001983\n",
      "[558]\tvalidation_0-mae:0.000331\tvalidation_0-error:0.003771\tvalidation_0-rmse:0.001735\tvalidation_1-mae:0.000337\tvalidation_1-error:0.003811\tvalidation_1-rmse:0.001983\n",
      "[559]\tvalidation_0-mae:0.000331\tvalidation_0-error:0.003771\tvalidation_0-rmse:0.001734\tvalidation_1-mae:0.000337\tvalidation_1-error:0.003811\tvalidation_1-rmse:0.001982\n",
      "[560]\tvalidation_0-mae:0.000331\tvalidation_0-error:0.003771\tvalidation_0-rmse:0.001734\tvalidation_1-mae:0.000336\tvalidation_1-error:0.003811\tvalidation_1-rmse:0.001982\n",
      "[561]\tvalidation_0-mae:0.000331\tvalidation_0-error:0.003771\tvalidation_0-rmse:0.001734\tvalidation_1-mae:0.000336\tvalidation_1-error:0.003811\tvalidation_1-rmse:0.001982\n",
      "[562]\tvalidation_0-mae:0.00033\tvalidation_0-error:0.003771\tvalidation_0-rmse:0.001734\tvalidation_1-mae:0.000336\tvalidation_1-error:0.003811\tvalidation_1-rmse:0.001981\n",
      "[563]\tvalidation_0-mae:0.00033\tvalidation_0-error:0.003771\tvalidation_0-rmse:0.001734\tvalidation_1-mae:0.000336\tvalidation_1-error:0.003811\tvalidation_1-rmse:0.001981\n",
      "[564]\tvalidation_0-mae:0.00033\tvalidation_0-error:0.003771\tvalidation_0-rmse:0.001734\tvalidation_1-mae:0.000336\tvalidation_1-error:0.003811\tvalidation_1-rmse:0.001981\n",
      "[565]\tvalidation_0-mae:0.00033\tvalidation_0-error:0.003771\tvalidation_0-rmse:0.001733\tvalidation_1-mae:0.000336\tvalidation_1-error:0.003811\tvalidation_1-rmse:0.00198\n",
      "[566]\tvalidation_0-mae:0.00033\tvalidation_0-error:0.003771\tvalidation_0-rmse:0.001733\tvalidation_1-mae:0.000336\tvalidation_1-error:0.003811\tvalidation_1-rmse:0.00198\n",
      "[567]\tvalidation_0-mae:0.00033\tvalidation_0-error:0.003771\tvalidation_0-rmse:0.001733\tvalidation_1-mae:0.000336\tvalidation_1-error:0.003811\tvalidation_1-rmse:0.00198\n",
      "[568]\tvalidation_0-mae:0.00033\tvalidation_0-error:0.003771\tvalidation_0-rmse:0.001732\tvalidation_1-mae:0.000336\tvalidation_1-error:0.003811\tvalidation_1-rmse:0.00198\n",
      "[569]\tvalidation_0-mae:0.00033\tvalidation_0-error:0.003771\tvalidation_0-rmse:0.001732\tvalidation_1-mae:0.000336\tvalidation_1-error:0.003811\tvalidation_1-rmse:0.00198\n",
      "[570]\tvalidation_0-mae:0.00033\tvalidation_0-error:0.003771\tvalidation_0-rmse:0.001732\tvalidation_1-mae:0.000336\tvalidation_1-error:0.003811\tvalidation_1-rmse:0.00198\n",
      "[571]\tvalidation_0-mae:0.00033\tvalidation_0-error:0.003771\tvalidation_0-rmse:0.001732\tvalidation_1-mae:0.000335\tvalidation_1-error:0.003811\tvalidation_1-rmse:0.001979\n",
      "[572]\tvalidation_0-mae:0.00033\tvalidation_0-error:0.003771\tvalidation_0-rmse:0.001732\tvalidation_1-mae:0.000335\tvalidation_1-error:0.003811\tvalidation_1-rmse:0.001979\n",
      "[573]\tvalidation_0-mae:0.00033\tvalidation_0-error:0.003771\tvalidation_0-rmse:0.001732\tvalidation_1-mae:0.000335\tvalidation_1-error:0.003811\tvalidation_1-rmse:0.001979\n",
      "[574]\tvalidation_0-mae:0.00033\tvalidation_0-error:0.003771\tvalidation_0-rmse:0.001731\tvalidation_1-mae:0.000335\tvalidation_1-error:0.003811\tvalidation_1-rmse:0.001979\n",
      "[575]\tvalidation_0-mae:0.000329\tvalidation_0-error:0.003771\tvalidation_0-rmse:0.001731\tvalidation_1-mae:0.000335\tvalidation_1-error:0.003811\tvalidation_1-rmse:0.001978\n",
      "[576]\tvalidation_0-mae:0.000329\tvalidation_0-error:0.003771\tvalidation_0-rmse:0.001731\tvalidation_1-mae:0.000335\tvalidation_1-error:0.003811\tvalidation_1-rmse:0.001978\n",
      "[577]\tvalidation_0-mae:0.000329\tvalidation_0-error:0.003771\tvalidation_0-rmse:0.00173\tvalidation_1-mae:0.000335\tvalidation_1-error:0.003811\tvalidation_1-rmse:0.001978\n",
      "[578]\tvalidation_0-mae:0.000329\tvalidation_0-error:0.003771\tvalidation_0-rmse:0.00173\tvalidation_1-mae:0.000335\tvalidation_1-error:0.003811\tvalidation_1-rmse:0.001977\n",
      "[579]\tvalidation_0-mae:0.000329\tvalidation_0-error:0.003771\tvalidation_0-rmse:0.00173\tvalidation_1-mae:0.000335\tvalidation_1-error:0.003811\tvalidation_1-rmse:0.001977\n",
      "[580]\tvalidation_0-mae:0.000329\tvalidation_0-error:0.003771\tvalidation_0-rmse:0.00173\tvalidation_1-mae:0.000334\tvalidation_1-error:0.003811\tvalidation_1-rmse:0.001976\n",
      "[581]\tvalidation_0-mae:0.000329\tvalidation_0-error:0.003771\tvalidation_0-rmse:0.001729\tvalidation_1-mae:0.000334\tvalidation_1-error:0.003811\tvalidation_1-rmse:0.001976\n",
      "[582]\tvalidation_0-mae:0.000329\tvalidation_0-error:0.003771\tvalidation_0-rmse:0.001729\tvalidation_1-mae:0.000334\tvalidation_1-error:0.003811\tvalidation_1-rmse:0.001976\n",
      "[583]\tvalidation_0-mae:0.000328\tvalidation_0-error:0.003771\tvalidation_0-rmse:0.001729\tvalidation_1-mae:0.000334\tvalidation_1-error:0.003811\tvalidation_1-rmse:0.001976\n",
      "[584]\tvalidation_0-mae:0.000328\tvalidation_0-error:0.003771\tvalidation_0-rmse:0.001729\tvalidation_1-mae:0.000334\tvalidation_1-error:0.003811\tvalidation_1-rmse:0.001976\n",
      "[585]\tvalidation_0-mae:0.000328\tvalidation_0-error:0.003771\tvalidation_0-rmse:0.001729\tvalidation_1-mae:0.000334\tvalidation_1-error:0.003811\tvalidation_1-rmse:0.001976\n",
      "[586]\tvalidation_0-mae:0.000328\tvalidation_0-error:0.003771\tvalidation_0-rmse:0.001729\tvalidation_1-mae:0.000334\tvalidation_1-error:0.003811\tvalidation_1-rmse:0.001976\n",
      "[587]\tvalidation_0-mae:0.000328\tvalidation_0-error:0.003771\tvalidation_0-rmse:0.001729\tvalidation_1-mae:0.000334\tvalidation_1-error:0.003811\tvalidation_1-rmse:0.001975\n",
      "[588]\tvalidation_0-mae:0.000328\tvalidation_0-error:0.003771\tvalidation_0-rmse:0.001728\tvalidation_1-mae:0.000334\tvalidation_1-error:0.003811\tvalidation_1-rmse:0.001975\n"
     ]
    },
    {
     "name": "stdout",
     "output_type": "stream",
     "text": [
      "[589]\tvalidation_0-mae:0.000328\tvalidation_0-error:0.003771\tvalidation_0-rmse:0.001728\tvalidation_1-mae:0.000334\tvalidation_1-error:0.003811\tvalidation_1-rmse:0.001974\n",
      "[590]\tvalidation_0-mae:0.000328\tvalidation_0-error:0.003771\tvalidation_0-rmse:0.001728\tvalidation_1-mae:0.000334\tvalidation_1-error:0.003811\tvalidation_1-rmse:0.001974\n",
      "[591]\tvalidation_0-mae:0.000328\tvalidation_0-error:0.003771\tvalidation_0-rmse:0.001727\tvalidation_1-mae:0.000334\tvalidation_1-error:0.003811\tvalidation_1-rmse:0.001973\n",
      "[592]\tvalidation_0-mae:0.000328\tvalidation_0-error:0.003771\tvalidation_0-rmse:0.001727\tvalidation_1-mae:0.000334\tvalidation_1-error:0.003811\tvalidation_1-rmse:0.001973\n",
      "[593]\tvalidation_0-mae:0.000327\tvalidation_0-error:0.003771\tvalidation_0-rmse:0.001727\tvalidation_1-mae:0.000333\tvalidation_1-error:0.003811\tvalidation_1-rmse:0.001973\n",
      "[594]\tvalidation_0-mae:0.000327\tvalidation_0-error:0.003771\tvalidation_0-rmse:0.001726\tvalidation_1-mae:0.000333\tvalidation_1-error:0.003811\tvalidation_1-rmse:0.001972\n",
      "[595]\tvalidation_0-mae:0.000327\tvalidation_0-error:0.003771\tvalidation_0-rmse:0.001726\tvalidation_1-mae:0.000333\tvalidation_1-error:0.003811\tvalidation_1-rmse:0.001972\n",
      "[596]\tvalidation_0-mae:0.000327\tvalidation_0-error:0.003771\tvalidation_0-rmse:0.001726\tvalidation_1-mae:0.000333\tvalidation_1-error:0.003811\tvalidation_1-rmse:0.001972\n",
      "[597]\tvalidation_0-mae:0.000327\tvalidation_0-error:0.003771\tvalidation_0-rmse:0.001726\tvalidation_1-mae:0.000333\tvalidation_1-error:0.003811\tvalidation_1-rmse:0.001972\n",
      "[598]\tvalidation_0-mae:0.000327\tvalidation_0-error:0.003771\tvalidation_0-rmse:0.001726\tvalidation_1-mae:0.000333\tvalidation_1-error:0.003811\tvalidation_1-rmse:0.001972\n",
      "[599]\tvalidation_0-mae:0.000327\tvalidation_0-error:0.003771\tvalidation_0-rmse:0.001725\tvalidation_1-mae:0.000333\tvalidation_1-error:0.003811\tvalidation_1-rmse:0.001971\n"
     ]
    },
    {
     "data": {
      "text/plain": [
       "XGBRegressor(base_score=0.5, booster='gbtree', colsample_bylevel=1,\n",
       "       colsample_bytree=0.7, gamma=0, learning_rate=0.05, max_delta_step=0,\n",
       "       max_depth=12, min_child_weight=8, missing=None, n_estimators=600,\n",
       "       n_jobs=1, nthread=6, objective='reg:linear', random_state=0,\n",
       "       reg_alpha=1.0, reg_lambda=0, scale_pos_weight=1, seed=9,\n",
       "       silent=True, subsample=0.8, tree_method='gpu_hist')"
      ]
     },
     "execution_count": 14,
     "metadata": {},
     "output_type": "execute_result"
    }
   ],
   "source": [
    "xlf.fit(X_train_scaled, \n",
    "        y_train_scaled, \n",
    "        eval_set=eval_sets, \n",
    "        verbose=True, \n",
    "        eval_metric=eval_metrics, \n",
    "        early_stopping_rounds=500)"
   ]
  },
  {
   "cell_type": "code",
   "execution_count": 16,
   "metadata": {},
   "outputs": [],
   "source": [
    "train_x, val_x, train_y, val_y = train_test_split(X_train_scaled, y_train_scaled, test_size = 0.30, random_state=1)"
   ]
  },
  {
   "cell_type": "code",
   "execution_count": 17,
   "metadata": {},
   "outputs": [],
   "source": [
    "fit_params={'early_stopping_rounds': 30, \n",
    "            'eval_metric': 'rmse',\n",
    "            'verbose': False,\n",
    "            'eval_set': [[val_x, val_y]]}\n",
    "xgb_cv = cross_val_score(xlf, train_x, train_y, \n",
    "                         cv = 5, \n",
    "                         scoring = 'neg_mean_absolute_error',\n",
    "                         fit_params = fit_params)"
   ]
  },
  {
   "cell_type": "code",
   "execution_count": 18,
   "metadata": {},
   "outputs": [
    {
     "name": "stdout",
     "output_type": "stream",
     "text": [
      "Cross validation scores: [-0.00037391 -0.00038812 -0.00038898 -0.00037234 -0.00037381]\n",
      "Mean=-0.0004, Var=0.0000\n"
     ]
    }
   ],
   "source": [
    "print(\"Cross validation scores:\", xgb_cv)\n",
    "print(\"Mean={0:0.4f}, Var={1:0.4f}\".format(np.mean(xgb_cv), np.var(xgb_cv)))"
   ]
  },
  {
   "cell_type": "code",
   "execution_count": 19,
   "metadata": {},
   "outputs": [],
   "source": [
    "xgb_acc = cross_val_score(xlf, train_x, train_y, \n",
    "                         cv = 5, \n",
    "                         scoring = 'r2',\n",
    "                         fit_params = fit_params)"
   ]
  },
  {
   "cell_type": "code",
   "execution_count": 20,
   "metadata": {},
   "outputs": [
    {
     "name": "stdout",
     "output_type": "stream",
     "text": [
      "Cross validation scores of accuracy [0.88126198 0.91217333 0.92780538 0.84769413 0.89836213]\n"
     ]
    }
   ],
   "source": [
    "print(\"Cross validation scores of accuracy\", xgb_acc)"
   ]
  },
  {
   "cell_type": "markdown",
   "metadata": {},
   "source": [
    "## get the prediction and inverse transform back"
   ]
  },
  {
   "cell_type": "code",
   "execution_count": 25,
   "metadata": {},
   "outputs": [],
   "source": [
    "test_dataset = pd.DataFrame()\n",
    "test_dataset['Prediction'] = np.expm1(xlf.predict(X_test_scaled))\n",
    "filename = 'tip_amount-prediction.csv'\n",
    "pd.DataFrame({'tip_amount': test_dataset.Prediction}).to_csv(filename, index=False)"
   ]
  },
  {
   "cell_type": "code",
   "execution_count": 26,
   "metadata": {},
   "outputs": [
    {
     "name": "stdout",
     "output_type": "stream",
     "text": [
      "0    0.000109\n",
      "1    0.003105\n",
      "2    0.000005\n",
      "3    0.005974\n",
      "4   -0.000048\n",
      "Name: Prediction, dtype: float32\n",
      "1019792\n"
     ]
    }
   ],
   "source": [
    "print(test_dataset['Prediction'].head())\n",
    "print(test_dataset['Prediction'].count())"
   ]
  },
  {
   "cell_type": "code",
   "execution_count": 29,
   "metadata": {},
   "outputs": [
    {
     "data": {
      "text/plain": [
       "(1019792, 1)"
      ]
     },
     "execution_count": 29,
     "metadata": {},
     "output_type": "execute_result"
    }
   ],
   "source": [
    "test_dataset.shape"
   ]
  },
  {
   "cell_type": "code",
   "execution_count": 31,
   "metadata": {},
   "outputs": [],
   "source": [
    "y_prediction = scalarY.inverse_transform(test_dataset['Prediction'].values.reshape(test_dataset.shape[0],1))"
   ]
  },
  {
   "cell_type": "code",
   "execution_count": 34,
   "metadata": {},
   "outputs": [
    {
     "name": "stdout",
     "output_type": "stream",
     "text": [
      "[[ 3.3142291e-02]\n",
      " [ 9.4074166e-01]\n",
      " [ 1.5802723e-03]\n",
      " ...\n",
      " [ 1.3854591e+00]\n",
      " [-4.4352625e-02]\n",
      " [ 1.6968850e+00]]\n"
     ]
    }
   ],
   "source": [
    "print(y_prediction)\n"
   ]
  },
  {
   "cell_type": "code",
   "execution_count": 36,
   "metadata": {},
   "outputs": [
    {
     "data": {
      "text/plain": [
       "0.9367478125840831"
      ]
     },
     "execution_count": 36,
     "metadata": {},
     "output_type": "execute_result"
    }
   ],
   "source": [
    "r2_score(y_test, y_prediction)"
   ]
  },
  {
   "cell_type": "code",
   "execution_count": null,
   "metadata": {},
   "outputs": [],
   "source": []
  }
 ],
 "metadata": {
  "kernelspec": {
   "display_name": "Python 3",
   "language": "python",
   "name": "python3"
  },
  "language_info": {
   "codemirror_mode": {
    "name": "ipython",
    "version": 3
   },
   "file_extension": ".py",
   "mimetype": "text/x-python",
   "name": "python",
   "nbconvert_exporter": "python",
   "pygments_lexer": "ipython3",
   "version": "3.6.8"
  }
 },
 "nbformat": 4,
 "nbformat_minor": 2
}
