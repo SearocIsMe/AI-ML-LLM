{
 "cells": [
  {
   "cell_type": "code",
   "execution_count": 1,
   "metadata": {},
   "outputs": [
    {
     "name": "stderr",
     "output_type": "stream",
     "text": [
      "Using TensorFlow backend.\n"
     ]
    },
    {
     "name": "stdout",
     "output_type": "stream",
     "text": [
      "importing Jupyter notebook from common.ipynb\n"
     ]
    }
   ],
   "source": [
    "# python 3\n",
    "# -*- coding: utf-8 -*-\n",
    "# load basics library\n",
    "import pandas as pd\n",
    "import numpy as np\n",
    "import calendar\n",
    "from sklearn.cluster import MiniBatchKMeans\n",
    "from sklearn import preprocessing\n",
    "from sklearn.preprocessing import StandardScaler\n",
    "from tpot import TPOTRegressor\n",
    "# DL\n",
    "from keras.models import Sequential\n",
    "from keras.layers import Dense\n",
    "from keras import regularizers, callbacks, optimizers\n",
    "from keras.layers import BatchNormalization\n",
    "from keras.callbacks import EarlyStopping\n",
    "#import commond.ipynb from same folder\n",
    "import import_ipynb\n",
    "from common import *"
   ]
  },
  {
   "cell_type": "code",
   "execution_count": 2,
   "metadata": {},
   "outputs": [],
   "source": [
    "# cnn model\n",
    "from numpy import mean\n",
    "from numpy import std\n",
    "from numpy import dstack\n",
    "from matplotlib import pyplot\n",
    "from keras.models import Sequential\n",
    "from keras.layers import Dense\n",
    "from keras.layers import Flatten\n",
    "from keras.layers import Dropout\n",
    "from keras.layers.convolutional import Conv1D\n",
    "from keras.layers.convolutional import MaxPooling1D\n",
    "from keras.utils import to_categorical\n"
   ]
  },
  {
   "cell_type": "code",
   "execution_count": 3,
   "metadata": {},
   "outputs": [],
   "source": [
    "# fit and evaluate a model\n",
    "def evaluate_model(trainX, trainy, testX, testy, verbose_flag=1):\n",
    "    verbose, epochs, batch_size = 0, 10, 32\n",
    "    n_timesteps, n_features, n_outputs = trainX.shape[0], trainX.shape[1], trainy.shape[0]\n",
    "    model = Sequential()\n",
    "    model.add(Conv1D(filters=64, kernel_size=3, activation='relu', input_shape=(n_features, 1)))\n",
    "    model.add(Conv1D(filters=64, kernel_size=3, activation='relu'))\n",
    "    model.add(Dropout(0.5))\n",
    "    model.add(MaxPooling1D(pool_size=3))\n",
    "    model.add(Flatten())\n",
    "    model.add(Dense(100, activation='relu'))\n",
    "    model.add(Dense(n_outputs, activation='softmax'))\n",
    "    model.compile(loss='sparse_categorical_crossentropy', optimizer='adam', metrics=['accuracy'])\n",
    "    print(model.summary())\n",
    "    # fit network\n",
    "    model.fit(trainX, trainy, epochs=epochs, batch_size=batch_size, verbose=verbose)\n",
    "    # evaluate model\n",
    "    _, accuracy = model.evaluate(testX, testy, batch_size=batch_size, verbose=verbose_flag)\n",
    "    return accuracy\n"
   ]
  },
  {
   "cell_type": "code",
   "execution_count": 4,
   "metadata": {},
   "outputs": [],
   "source": [
    "# fit and evaluate a model\n",
    "def evaluate_model_small(trainX, trainy, testX, testy, verbose_flag, earlystop):\n",
    "    verbose, epochs, batch_size = verbose_flag, 10, 32\n",
    "    n_timesteps, n_features, n_outputs = trainX.shape[0], trainX.shape[1], trainy.shape[0]\n",
    "    model = Sequential()\n",
    "    model.add(Conv1D(filters=128, kernel_size=2, activation='relu', input_shape=(n_features, 1)))\n",
    "    model.add(Dropout(0.5))\n",
    "    model.add(MaxPooling1D(pool_size=2))\n",
    "    model.add(Flatten())\n",
    "    model.add(Dense(512, activation='relu'))\n",
    "    model.add(Dropout(0.55))\n",
    "    model.add(Dense(256, kernel_initializer='glorot_uniform', activation='relu'))\n",
    "    model.add(Dropout(0.45))\n",
    "    model.add(Dense(1))\n",
    "    model.compile(loss='mean_squared_error', optimizer='adam', metrics=['accuracy'])\n",
    "    print(model.summary())\n",
    "    # fit network\n",
    "    model.fit(trainX, trainy, epochs=epochs, batch_size=batch_size, verbose=verbose, callbacks=[earlystop], shuffle=True)\n",
    "    # evaluate model\n",
    "    _, accuracy = model.evaluate(testX, testy, batch_size=batch_size, verbose=verbose)\n",
    "    return accuracy, model"
   ]
  },
  {
   "cell_type": "code",
   "execution_count": 5,
   "metadata": {},
   "outputs": [],
   "source": [
    "# summarize scores\n",
    "def summarize_results(scores):\n",
    "    print(scores)\n",
    "    m, s = mean(scores), std(scores)\n",
    "    print('Accuracy: %.3f%% (+/-%.3f)' % (m, s))\n"
   ]
  },
  {
   "cell_type": "code",
   "execution_count": 6,
   "metadata": {},
   "outputs": [],
   "source": [
    "# run an experiment\n",
    "def run_experiment(repeats=10):\n",
    "    # load data\n",
    "    trainX, trainy, testX, testy = load_dataSet()\n",
    "    print(\"trainX shape: \", trainX.shape)\n",
    "    print(\"trainy shape: \", trainy.shape)\n",
    "    print(\"testX  shape: \", testX.shape)\n",
    "    print(\"testy  shape: \", testy.shape)\n",
    "    trainX, scaler_trainX = preprocess_data(trainX.values)\n",
    "    trainy = trainy.values\n",
    "    testX, scaler_testX = preprocess_data(testX.values)\n",
    "    testy = testy.values\n",
    "    \n",
    "    trainX = trainX.reshape((trainX.shape[0], trainX.shape[1], 1))\n",
    "    #trainy = trainy.reshape(trainy.shape[0], 1)\n",
    "    testX = testX.reshape((testX.shape[0], testX.shape[1], 1))\n",
    "    #testy = testy.reshape(testy.shape[0], 1)\n",
    "    \n",
    "    print(\"trainX shape: \", trainX.shape)\n",
    "    print(\"trainy shape: \", trainy.shape)\n",
    "    print(\"testX  shape: \", testX.shape)\n",
    "    print(\"testy  shape: \", testy.shape)\n",
    "    \n",
    "    # simple early stopping\n",
    "    es = EarlyStopping(monitor='loss', mode='min', verbose=1)\n",
    "    # repeat experiment\n",
    "    scores = list()\n",
    "    models  = list()\n",
    "    for r in range(repeats):\n",
    "        score, model = evaluate_model_small(trainX, trainy, testX, testy, 1, es)\n",
    "        score = score * 100.0\n",
    "        print('>#%d: %.3f' % (r+1, score))\n",
    "        scores.append(score)\n",
    "        models.append(model)\n",
    "    # summarize results\n",
    "    summarize_results(scores)\n",
    "    return scores, models"
   ]
  },
  {
   "cell_type": "code",
   "execution_count": 7,
   "metadata": {
    "scrolled": true
   },
   "outputs": [
    {
     "name": "stdout",
     "output_type": "stream",
     "text": [
      "   VendorID lpep_pickup_datetime lpep_dropoff_datetime store_and_fwd_flag  \\\n",
      "0         2  2017-01-07 12:47:25   2017-01-07 13:07:19                  N   \n",
      "1         2  2017-01-21 12:21:04   2017-01-21 12:22:57                  N   \n",
      "\n",
      "   RatecodeID  PULocationID  DOLocationID  passenger_count  trip_distance  \\\n",
      "0           1            40           141              1.0           2.91   \n",
      "1           1            74            74              1.0           0.36   \n",
      "\n",
      "   fare_amount ...   ehail_fee  improvement_surcharge  total_amount  \\\n",
      "0         13.0 ...         NaN                    0.3         16.56   \n",
      "1          3.5 ...         NaN                    0.3          4.30   \n",
      "\n",
      "   payment_type  trip_type  duration  day_of_week  weekend      speed  tip  \n",
      "0             1        1.0    1194.0            5        1   8.773869    1  \n",
      "1             2        1.0     113.0            5        1  11.469027    0  \n",
      "\n",
      "[2 rows x 24 columns]\n",
      "trainX shape:  (2086637, 15)\n",
      "trainy shape:  (2086637,)\n",
      "testX  shape:  (1019792, 15)\n",
      "testy  shape:  (1019792,)\n",
      "trainX shape:  (2086637, 15, 1)\n",
      "trainy shape:  (2086637,)\n",
      "testX  shape:  (1019792, 15, 1)\n",
      "testy  shape:  (1019792,)\n",
      "_________________________________________________________________\n",
      "Layer (type)                 Output Shape              Param #   \n",
      "=================================================================\n",
      "conv1d_1 (Conv1D)            (None, 14, 128)           384       \n",
      "_________________________________________________________________\n",
      "dropout_1 (Dropout)          (None, 14, 128)           0         \n",
      "_________________________________________________________________\n",
      "max_pooling1d_1 (MaxPooling1 (None, 7, 128)            0         \n",
      "_________________________________________________________________\n",
      "flatten_1 (Flatten)          (None, 896)               0         \n",
      "_________________________________________________________________\n",
      "dense_1 (Dense)              (None, 512)               459264    \n",
      "_________________________________________________________________\n",
      "dropout_2 (Dropout)          (None, 512)               0         \n",
      "_________________________________________________________________\n",
      "dense_2 (Dense)              (None, 256)               131328    \n",
      "_________________________________________________________________\n",
      "dropout_3 (Dropout)          (None, 256)               0         \n",
      "_________________________________________________________________\n",
      "dense_3 (Dense)              (None, 1)                 257       \n",
      "=================================================================\n",
      "Total params: 591,233\n",
      "Trainable params: 591,233\n",
      "Non-trainable params: 0\n",
      "_________________________________________________________________\n",
      "None\n",
      "Epoch 1/10\n",
      "2086637/2086637 [==============================] - 991s 475us/step - loss: 1.9198 - acc: 0.6008\n",
      "Epoch 2/10\n",
      "2086637/2086637 [==============================] - 623s 299us/step - loss: 1.6059 - acc: 0.6030\n",
      "Epoch 3/10\n",
      "2086637/2086637 [==============================] - 434s 208us/step - loss: 1.1428 - acc: 0.6033\n",
      "Epoch 4/10\n",
      "2086637/2086637 [==============================] - 482s 231us/step - loss: 1.4261 - acc: 0.6035\n",
      "Epoch 00004: early stopping\n",
      "1019792/1019792 [==============================] - 64s 62us/step\n",
      ">#1: 60.447\n",
      "[60.44703233600577]\n",
      "Accuracy: 60.447% (+/-0.000)\n"
     ]
    }
   ],
   "source": [
    "# run the experiment\n",
    "scores, models = run_experiment(1)\n"
   ]
  },
  {
   "cell_type": "code",
   "execution_count": 9,
   "metadata": {},
   "outputs": [
    {
     "name": "stdout",
     "output_type": "stream",
     "text": [
      "   VendorID lpep_pickup_datetime lpep_dropoff_datetime store_and_fwd_flag  \\\n",
      "0         2  2017-01-07 12:47:25   2017-01-07 13:07:19                  N   \n",
      "1         2  2017-01-21 12:21:04   2017-01-21 12:22:57                  N   \n",
      "\n",
      "   RatecodeID  PULocationID  DOLocationID  passenger_count  trip_distance  \\\n",
      "0           1            40           141              1.0           2.91   \n",
      "1           1            74            74              1.0           0.36   \n",
      "\n",
      "   fare_amount ...   ehail_fee  improvement_surcharge  total_amount  \\\n",
      "0         13.0 ...         NaN                    0.3         16.56   \n",
      "1          3.5 ...         NaN                    0.3          4.30   \n",
      "\n",
      "   payment_type  trip_type  duration  day_of_week  weekend      speed  tip  \n",
      "0             1        1.0    1194.0            5        1   8.773869    1  \n",
      "1             2        1.0     113.0            5        1  11.469027    0  \n",
      "\n",
      "[2 rows x 24 columns]\n",
      "trainX shape:  (2086637, 15)\n",
      "trainy shape:  (2086637,)\n",
      "testX  shape:  (1019792, 15)\n",
      "testy  shape:  (1019792,)\n"
     ]
    },
    {
     "ename": "TypeError",
     "evalue": "must be real number, not list",
     "output_type": "error",
     "traceback": [
      "\u001b[0;31m---------------------------------------------------------------------------\u001b[0m",
      "\u001b[0;31mTypeError\u001b[0m                                 Traceback (most recent call last)",
      "\u001b[0;32m<ipython-input-9-477b11fc591a>\u001b[0m in \u001b[0;36m<module>\u001b[0;34m\u001b[0m\n\u001b[1;32m     17\u001b[0m \u001b[0mtrain_mse\u001b[0m \u001b[0;34m=\u001b[0m \u001b[0mmodel\u001b[0m\u001b[0;34m.\u001b[0m\u001b[0mevaluate\u001b[0m\u001b[0;34m(\u001b[0m\u001b[0mtrainX\u001b[0m\u001b[0;34m,\u001b[0m \u001b[0mtrainy\u001b[0m\u001b[0;34m,\u001b[0m \u001b[0mverbose\u001b[0m\u001b[0;34m=\u001b[0m\u001b[0;36m0\u001b[0m\u001b[0;34m)\u001b[0m\u001b[0;34m\u001b[0m\u001b[0;34m\u001b[0m\u001b[0m\n\u001b[1;32m     18\u001b[0m \u001b[0mtest_mse\u001b[0m \u001b[0;34m=\u001b[0m \u001b[0mmodel\u001b[0m\u001b[0;34m.\u001b[0m\u001b[0mevaluate\u001b[0m\u001b[0;34m(\u001b[0m\u001b[0mtestX\u001b[0m\u001b[0;34m,\u001b[0m \u001b[0mtesty\u001b[0m\u001b[0;34m,\u001b[0m \u001b[0mverbose\u001b[0m\u001b[0;34m=\u001b[0m\u001b[0;36m0\u001b[0m\u001b[0;34m)\u001b[0m\u001b[0;34m\u001b[0m\u001b[0;34m\u001b[0m\u001b[0m\n\u001b[0;32m---> 19\u001b[0;31m \u001b[0mprint\u001b[0m\u001b[0;34m(\u001b[0m\u001b[0;34m'Train: %.3f, Test: %.3f'\u001b[0m \u001b[0;34m%\u001b[0m \u001b[0;34m(\u001b[0m\u001b[0mtrain_mse\u001b[0m\u001b[0;34m,\u001b[0m \u001b[0mtest_mse\u001b[0m\u001b[0;34m)\u001b[0m\u001b[0;34m)\u001b[0m\u001b[0;34m\u001b[0m\u001b[0;34m\u001b[0m\u001b[0m\n\u001b[0m\u001b[1;32m     20\u001b[0m \u001b[0;31m# plot loss during training\u001b[0m\u001b[0;34m\u001b[0m\u001b[0;34m\u001b[0m\u001b[0;34m\u001b[0m\u001b[0m\n\u001b[1;32m     21\u001b[0m \u001b[0mpyplot\u001b[0m\u001b[0;34m.\u001b[0m\u001b[0mtitle\u001b[0m\u001b[0;34m(\u001b[0m\u001b[0;34m'Mean Squared Error'\u001b[0m\u001b[0;34m)\u001b[0m\u001b[0;34m\u001b[0m\u001b[0;34m\u001b[0m\u001b[0m\n",
      "\u001b[0;31mTypeError\u001b[0m: must be real number, not list"
     ]
    }
   ],
   "source": [
    "model = models.pop(0)\n",
    "\n",
    "trainX, trainy, testX, testy = load_dataSet()\n",
    "print(\"trainX shape: \", trainX.shape)\n",
    "print(\"trainy shape: \", trainy.shape)\n",
    "print(\"testX  shape: \", testX.shape)\n",
    "print(\"testy  shape: \", testy.shape)\n",
    "trainX, scaler_trainX = preprocess_data(trainX.values)\n",
    "trainy = trainy.values\n",
    "testX, scaler_testX = preprocess_data(testX.values)\n",
    "testy = testy.values\n",
    "\n",
    "trainX = trainX.reshape((trainX.shape[0], trainX.shape[1], 1))\n",
    "testX = testX.reshape((testX.shape[0], testX.shape[1], 1))\n",
    "\n",
    "# evaluate the model\n",
    "train_mse = model.evaluate(trainX, trainy, verbose=0)\n",
    "test_mse = model.evaluate(testX, testy, verbose=0)\n"
   ]
  },
  {
   "cell_type": "code",
   "execution_count": 21,
   "metadata": {},
   "outputs": [
    {
     "name": "stdout",
     "output_type": "stream",
     "text": [
      "Train: [0.9947428778673609, 0.6039421327237264]\n",
      "Test: [1.212166221699563, 0.6044703233600577]\n"
     ]
    },
    {
     "ename": "TypeError",
     "evalue": "'History' object is not subscriptable",
     "output_type": "error",
     "traceback": [
      "\u001b[0;31m---------------------------------------------------------------------------\u001b[0m",
      "\u001b[0;31mTypeError\u001b[0m                                 Traceback (most recent call last)",
      "\u001b[0;32m<ipython-input-21-a1b352960a0e>\u001b[0m in \u001b[0;36m<module>\u001b[0;34m\u001b[0m\n\u001b[1;32m      3\u001b[0m \u001b[0;31m# plot loss during training\u001b[0m\u001b[0;34m\u001b[0m\u001b[0;34m\u001b[0m\u001b[0;34m\u001b[0m\u001b[0m\n\u001b[1;32m      4\u001b[0m \u001b[0mpyplot\u001b[0m\u001b[0;34m.\u001b[0m\u001b[0mtitle\u001b[0m\u001b[0;34m(\u001b[0m\u001b[0;34m'Mean Squared Error'\u001b[0m\u001b[0;34m)\u001b[0m\u001b[0;34m\u001b[0m\u001b[0;34m\u001b[0m\u001b[0m\n\u001b[0;32m----> 5\u001b[0;31m \u001b[0mpyplot\u001b[0m\u001b[0;34m.\u001b[0m\u001b[0mplot\u001b[0m\u001b[0;34m(\u001b[0m\u001b[0mmodel\u001b[0m\u001b[0;34m.\u001b[0m\u001b[0mhistory\u001b[0m\u001b[0;34m[\u001b[0m\u001b[0;34m'loss'\u001b[0m\u001b[0;34m]\u001b[0m\u001b[0;34m,\u001b[0m \u001b[0mlabel\u001b[0m\u001b[0;34m=\u001b[0m\u001b[0;34m'train'\u001b[0m\u001b[0;34m)\u001b[0m\u001b[0;34m\u001b[0m\u001b[0;34m\u001b[0m\u001b[0m\n\u001b[0m\u001b[1;32m      6\u001b[0m \u001b[0mpyplot\u001b[0m\u001b[0;34m.\u001b[0m\u001b[0mplot\u001b[0m\u001b[0;34m(\u001b[0m\u001b[0mmodel\u001b[0m\u001b[0;34m.\u001b[0m\u001b[0mhistory\u001b[0m\u001b[0;34m[\u001b[0m\u001b[0;34m'val_loss'\u001b[0m\u001b[0;34m]\u001b[0m\u001b[0;34m,\u001b[0m \u001b[0mlabel\u001b[0m\u001b[0;34m=\u001b[0m\u001b[0;34m'test'\u001b[0m\u001b[0;34m)\u001b[0m\u001b[0;34m\u001b[0m\u001b[0;34m\u001b[0m\u001b[0m\n\u001b[1;32m      7\u001b[0m \u001b[0mpyplot\u001b[0m\u001b[0;34m.\u001b[0m\u001b[0mlegend\u001b[0m\u001b[0;34m(\u001b[0m\u001b[0;34m)\u001b[0m\u001b[0;34m\u001b[0m\u001b[0;34m\u001b[0m\u001b[0m\n",
      "\u001b[0;31mTypeError\u001b[0m: 'History' object is not subscriptable"
     ]
    },
    {
     "data": {
      "image/png": "[encoded data removed]",
      "text/plain": [
       "<Figure size 432x288 with 1 Axes>"
      ]
     },
     "metadata": {
      "needs_background": "light"
     },
     "output_type": "display_data"
    }
   ],
   "source": [
    "print('Train: %s'% str(train_mse))\n",
    "print('Test: %s'% str(test_mse))\n",
    "# plot loss during training\n",
    "pyplot.title('Mean Squared Error')\n",
    "pyplot.plot(model.history['loss'], label='train')\n",
    "pyplot.plot(model.history['val_loss'], label='test')\n",
    "pyplot.legend()\n",
    "pyplot.show()"
   ]
  },
  {
   "cell_type": "code",
   "execution_count": 16,
   "metadata": {},
   "outputs": [
    {
     "ename": "AttributeError",
     "evalue": "'list' object has no attribute 'shape'",
     "output_type": "error",
     "traceback": [
      "\u001b[0;31m---------------------------------------------------------------------------\u001b[0m",
      "\u001b[0;31mAttributeError\u001b[0m                            Traceback (most recent call last)",
      "\u001b[0;32m<ipython-input-16-d926216ddcbe>\u001b[0m in \u001b[0;36m<module>\u001b[0;34m\u001b[0m\n\u001b[0;32m----> 1\u001b[0;31m \u001b[0mtrain_mse\u001b[0m\u001b[0;34m.\u001b[0m\u001b[0mshape\u001b[0m\u001b[0;34m\u001b[0m\u001b[0;34m\u001b[0m\u001b[0m\n\u001b[0m",
      "\u001b[0;31mAttributeError\u001b[0m: 'list' object has no attribute 'shape'"
     ]
    }
   ],
   "source": [
    "train_mse"
   ]
  },
  {
   "cell_type": "code",
   "execution_count": null,
   "metadata": {},
   "outputs": [],
   "source": []
  }
 ],
 "metadata": {
  "kernelspec": {
   "display_name": "Python 3",
   "language": "python",
   "name": "python3"
  },
  "language_info": {
   "codemirror_mode": {
    "name": "ipython",
    "version": 3
   },
   "file_extension": ".py",
   "mimetype": "text/x-python",
   "name": "python",
   "nbconvert_exporter": "python",
   "pygments_lexer": "ipython3",
   "version": "3.6.8"
  }
 },
 "nbformat": 4,
 "nbformat_minor": 2
}
