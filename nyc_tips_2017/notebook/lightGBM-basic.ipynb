{
 "cells": [
  {
   "cell_type": "code",
   "execution_count": 1,
   "metadata": {},
   "outputs": [
    {
     "name": "stderr",
     "output_type": "stream",
     "text": [
      "Using TensorFlow backend.\n"
     ]
    },
    {
     "name": "stdout",
     "output_type": "stream",
     "text": [
      "importing Jupyter notebook from common.ipynb\n"
     ]
    }
   ],
   "source": [
    "# python 3\n",
    "# -*- coding: utf-8 -*-\n",
    "# load basics library\n",
    "import pandas as pd\n",
    "import numpy as np\n",
    "import calendar\n",
    "from sklearn.cluster import MiniBatchKMeans\n",
    "from sklearn import preprocessing\n",
    "from sklearn.preprocessing import StandardScaler\n",
    "from tpot import TPOTRegressor\n",
    "# DL\n",
    "from keras.models import Sequential\n",
    "from keras.layers import Dense\n",
    "from keras import regularizers, callbacks, optimizers\n",
    "from keras.layers import BatchNormalization\n",
    "from keras.callbacks import EarlyStopping\n",
    "#import commond.ipynb from same folder\n",
    "import import_ipynb\n",
    "from common import *\n",
    "\n",
    "import lightgbm as lgbm"
   ]
  },
  {
   "cell_type": "code",
   "execution_count": 2,
   "metadata": {},
   "outputs": [],
   "source": [
    "params = {\n",
    "        'boosting_type':'gbdt',\n",
    "        'objective': 'regression',\n",
    "        'nthread': 4,\n",
    "        'num_leaves': 31,\n",
    "        'learning_rate': 0.05,\n",
    "        'max_depth': -1,\n",
    "        'subsample': 0.8,\n",
    "        'bagging_fraction' : 1,\n",
    "        'max_bin' : 5000 ,\n",
    "        'bagging_freq': 20,\n",
    "        'colsample_bytree': 0.6,\n",
    "        'metric': 'rmse',\n",
    "        'min_split_gain': 0.5,\n",
    "        'min_child_weight': 1,\n",
    "        'min_child_samples': 10,\n",
    "        'scale_pos_weight':1,\n",
    "        'zero_as_missing': True,\n",
    "        'seed':0,\n",
    "        'num_rounds':50000\n",
    "}"
   ]
  },
  {
   "cell_type": "code",
   "execution_count": 30,
   "metadata": {},
   "outputs": [],
   "source": [
    "def LGBMmodel(X_train,X_test,y_train,y_test,params):\n",
    "    matrix_train = lgbm.Dataset(X_train, y_train)\n",
    "    matrix_test = lgbm.Dataset(X_test, y_test)\n",
    "    model=lgbm.train(params=params,\n",
    "                    train_set=matrix_train,\n",
    "                    num_boost_round=100000, \n",
    "                    early_stopping_rounds=500,\n",
    "                    verbose_eval=100,\n",
    "                    valid_sets=matrix_test)\n",
    "    return model"
   ]
  },
  {
   "cell_type": "code",
   "execution_count": 31,
   "metadata": {},
   "outputs": [
    {
     "name": "stdout",
     "output_type": "stream",
     "text": [
      "   VendorID lpep_pickup_datetime lpep_dropoff_datetime store_and_fwd_flag  \\\n",
      "0         2  2017-01-07 12:47:25   2017-01-07 13:07:19                  N   \n",
      "1         2  2017-01-21 12:21:04   2017-01-21 12:22:57                  N   \n",
      "\n",
      "   RatecodeID  PULocationID  DOLocationID  passenger_count  trip_distance  \\\n",
      "0           1            40           141              1.0           2.91   \n",
      "1           1            74            74              1.0           0.36   \n",
      "\n",
      "   fare_amount ...   ehail_fee  improvement_surcharge  total_amount  \\\n",
      "0         13.0 ...         NaN                    0.3         16.56   \n",
      "1          3.5 ...         NaN                    0.3          4.30   \n",
      "\n",
      "   payment_type  trip_type  duration  day_of_week  weekend      speed  tip  \n",
      "0             1        1.0    1194.0            5        1   8.773869    1  \n",
      "1             2        1.0     113.0            5        1  11.469027    0  \n",
      "\n",
      "[2 rows x 24 columns]\n",
      "trainX shape:  (2086637, 15)\n",
      "trainy shape:  (2086637,)\n",
      "testX  shape:  (1019792, 15)\n",
      "testy  shape:  (1019792,)\n",
      "trainX shape:  (2086637, 15)\n",
      "trainy shape:  (2086637,)\n",
      "testX  shape:  (1019792, 15)\n",
      "testy  shape:  (1019792,)\n"
     ]
    }
   ],
   "source": [
    "# load data\n",
    "trainX, trainy, testX, testy = load_dataSet()\n",
    "print(\"trainX shape: \", trainX.shape)\n",
    "print(\"trainy shape: \", trainy.shape)\n",
    "print(\"testX  shape: \", testX.shape)\n",
    "print(\"testy  shape: \", testy.shape)\n",
    "trainX, scaler_trainX = preprocess_data(trainX.values)\n",
    "trainy = trainy.values\n",
    "testX, scaler_testX = preprocess_data(testX.values)\n",
    "testy = testy.values\n",
    "\n",
    "# trainX = trainX.reshape((trainX.shape[0], trainX.shape[1], 1))\n",
    "# trainy = trainy.reshape(trainy.shape[0], 1)\n",
    "# testX = testX.reshape((testX.shape[0], testX.shape[1], 1))\n",
    "# testy = testy.reshape(testy.shape[0], 1)\n",
    "\n",
    "print(\"trainX shape: \", trainX.shape)\n",
    "print(\"trainy shape: \", trainy.shape)\n",
    "print(\"testX  shape: \", testX.shape)\n",
    "print(\"testy  shape: \", testy.shape)"
   ]
  },
  {
   "cell_type": "code",
   "execution_count": 32,
   "metadata": {},
   "outputs": [
    {
     "name": "stderr",
     "output_type": "stream",
     "text": [
      "/home/searoc/anaconda3/envs/py3/lib/python3.6/site-packages/lightgbm/engine.py:113: UserWarning: Found `num_rounds` in params. Will use it instead of argument\n",
      "  warnings.warn(\"Found `{}` in params. Will use it instead of argument\".format(alias))\n"
     ]
    },
    {
     "name": "stdout",
     "output_type": "stream",
     "text": [
      "Training until validation scores don't improve for 500 rounds.\n",
      "[100]\tvalid_0's rmse: 0.592003\n",
      "[200]\tvalid_0's rmse: 0.481735\n",
      "[300]\tvalid_0's rmse: 0.430252\n",
      "[400]\tvalid_0's rmse: 0.445195\n",
      "[500]\tvalid_0's rmse: 0.442466\n",
      "[600]\tvalid_0's rmse: 0.446671\n",
      "[700]\tvalid_0's rmse: 0.445546\n",
      "[800]\tvalid_0's rmse: 0.452282\n",
      "Early stopping, best iteration is:\n",
      "[334]\tvalid_0's rmse: 0.428654\n"
     ]
    }
   ],
   "source": [
    "# Train the model\n",
    "#trainy = np.ravel(trainy)\n",
    "#testy = np.ravel(testy)\n",
    "model = LGBMmodel(trainX,testX,trainy,testy,params)\n"
   ]
  },
  {
   "cell_type": "code",
   "execution_count": null,
   "metadata": {},
   "outputs": [],
   "source": []
  }
 ],
 "metadata": {
  "kernelspec": {
   "display_name": "Python 3",
   "language": "python",
   "name": "python3"
  },
  "language_info": {
   "codemirror_mode": {
    "name": "ipython",
    "version": 3
   },
   "file_extension": ".py",
   "mimetype": "text/x-python",
   "name": "python",
   "nbconvert_exporter": "python",
   "pygments_lexer": "ipython3",
   "version": "3.6.8"
  }
 },
 "nbformat": 4,
 "nbformat_minor": 2
}
