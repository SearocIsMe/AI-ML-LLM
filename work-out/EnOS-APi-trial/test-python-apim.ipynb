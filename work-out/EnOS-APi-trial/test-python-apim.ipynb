{
 "cells": [
  {
   "cell_type": "code",
   "execution_count": 11,
   "metadata": {},
   "outputs": [
    {
     "name": "stdout",
     "output_type": "stream",
     "text": [
      "HTTP Error 404: Not Found\n",
      "null\n"
     ]
    }
   ],
   "source": [
    "import datetime\n",
    "import json\n",
    "import pprint\n",
    "from poseidon import poseidon\n",
    "\n",
    "appkey = '3dc2597b-e232-45db-bb16-e94443deb7f3'\n",
    "appsecret = 'd1768b8c-4be1-4b8a-8315-3f370f6228a5'\n",
    "address = 'https://apim-ppe1.envisioniot.com'\n",
    "\n",
    "def test_sgms_api():\n",
    "    try:\n",
    "        urlAsset = '%s/apim-instance-partner/sgms-config/v1/doe/grouplist' % address\n",
    "        req = poseidon.urlopen(appkey, appsecret, urlAsset)\n",
    "        return req;\n",
    "    except Exception as err:\n",
    "        print(err)\n",
    "        \n",
    "parsed = test_sgms_api()\n",
    "print(json.dumps(parsed, indent=2, sort_keys=True))"
   ]
  },
  {
   "cell_type": "code",
   "execution_count": null,
   "metadata": {},
   "outputs": [],
   "source": []
  }
 ],
 "metadata": {
  "kernelspec": {
   "display_name": "Python 3",
   "language": "python",
   "name": "python3"
  },
  "language_info": {
   "codemirror_mode": {
    "name": "ipython",
    "version": 3
   },
   "file_extension": ".py",
   "mimetype": "text/x-python",
   "name": "python",
   "nbconvert_exporter": "python",
   "pygments_lexer": "ipython3",
   "version": "3.7.9"
  }
 },
 "nbformat": 4,
 "nbformat_minor": 4
}
