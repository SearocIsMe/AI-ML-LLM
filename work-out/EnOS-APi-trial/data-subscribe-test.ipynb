{
 "cells": [
  {
   "cell_type": "markdown",
   "metadata": {},
   "source": [
    "##here mainly to verify and provide guidance to use the data-subscription\n",
    "##Refers from https://github.com/EnvisionIot/enos-subscription-service-sdk-python"
   ]
  },
  {
   "cell_type": "code",
   "execution_count": 13,
   "metadata": {},
   "outputs": [],
   "source": [
    "import datetime\n",
    "import sys\n",
    "import pandas as pd\n",
    "import sqlalchemy\n",
    "import numpy as np\n",
    "import gc\n",
    "import json\n",
    "import pprint\n",
    "from poseidon import poseidon\n",
    "from datetime import datetime, timedelta\n",
    "from dateutil.relativedelta import relativedelta\n",
    "import threading\n",
    "import multiprocessing\n",
    "import uuid\n",
    "\n",
    "from enos_subscribe import DataClient\n",
    "from enos_subscribe import OfflineClient\n",
    "#import commond.ipynb from same folder\n",
    "import import_ipynb\n",
    "from common import *\n",
    "from conf_ppe import *"
   ]
  },
  {
   "cell_type": "code",
   "execution_count": 2,
   "metadata": {},
   "outputs": [
    {
     "data": {
      "text/plain": [
       "5"
      ]
     },
     "execution_count": 2,
     "metadata": {},
     "output_type": "execute_result"
    }
   ],
   "source": [
    "threading.activeCount()"
   ]
  },
  {
   "cell_type": "code",
   "execution_count": 4,
   "metadata": {},
   "outputs": [],
   "source": [
    "# Code Sample for Consuming Subscribed Real-time Data\n",
    "def realtime_subscribe():\n",
    "    client = DataClient(host=dataSubscription_endpoint, port=dataSubscription_port,\n",
    "                            access_key=appkey,\n",
    "                            access_secret=appsecret)\n",
    "\n",
    "    client.subscribe(sub_id='sub-1599055477895')\n",
    "\n",
    "    for message in client:\n",
    "        print(message)"
   ]
  },
  {
   "cell_type": "code",
   "execution_count": 5,
   "metadata": {},
   "outputs": [],
   "source": [
    "# Code Sample for Consuming Subscribed offline Data\n",
    "def offline_subscribe():\n",
    "    client = OfflineClient(host=dataSubscription_endpoint, port=dataSubscription_port,\n",
    "                            access_key=appkey,\n",
    "                            access_secret=appsecret)\n",
    "\n",
    "    client.subscribe(sub_id='sub-1619152134052')\n",
    "\n",
    "    for message in client:\n",
    "        print(message)"
   ]
  },
  {
   "cell_type": "code",
   "execution_count": 6,
   "metadata": {},
   "outputs": [],
   "source": [
    "jobs = []"
   ]
  },
  {
   "cell_type": "code",
   "execution_count": 18,
   "metadata": {},
   "outputs": [
    {
     "name": "stderr",
     "output_type": "stream",
     "text": [
      "DEBUG:enos_subscribe.core:config the subscription client\n",
      "INFO:enos_subscribe.core:start the subscription client\n",
      "DEBUG:enos_subscribe.core:config the subscription client\n",
      "INFO:enos_subscribe.core:start the subscription client\n",
      "INFO:enos_subscribe.core:Send auth: accessKey: \"3dc2597b-e232-45db-bb16-e94443deb7f3\"\n",
      "subId: \"sub-1599055477895\"\n",
      "sign: \"adea068a9ecc1fd8d699e23d32eb8bc3dd8b5837328e428afa1af11827dde701\"\n",
      "subType: 0\n",
      "\n",
      "INFO:enos_subscribe.core:Send auth: accessKey: \"3dc2597b-e232-45db-bb16-e94443deb7f3\"\n",
      "subId: \"sub-1619152134052\"\n",
      "sign: \"1bd510b9d77f1dc87c3f71b5fcdc444119e5e512d548b4035125bd13e4f53d98\"\n",
      "subType: 3\n",
      "\n",
      "DEBUG:enos_subscribe.core:receive message, expect auth response: ack: 0\n",
      "\n",
      "INFO:enos_subscribe.core:Send sub request: category: 0\n",
      "clientId: \"MacBook-Pro-2.local\"\n",
      "subId: \"sub-1599055477895\"\n",
      "accessKey: \"3dc2597b-e232-45db-bb16-e94443deb7f3\"\n",
      "consumerGroup: \"DefaultConsumerGroup\"\n",
      "\n",
      "DEBUG:enos_subscribe.core:receive message, expect auth response: ack: 0\n",
      "\n",
      "INFO:enos_subscribe.core:Send sub request: category: 3\n",
      "clientId: \"MacBook-Pro-2.local\"\n",
      "subId: \"sub-1619152134052\"\n",
      "accessKey: \"3dc2597b-e232-45db-bb16-e94443deb7f3\"\n",
      "consumerGroup: \"DefaultConsumerGroup\"\n",
      "\n",
      "INFO:enos_subscribe.core:Sub success\n",
      "INFO:enos_subscribe.core:Sub success\n"
     ]
    },
    {
     "name": "stdout",
     "output_type": "stream",
     "text": [
      "{\"orgId\":\"o15897810838641\",\"modelId\":\"VPP_Grid\",\"modelIdPath\":\"/VPP_Grid\",\"payload\":[{\"assetId\":\"G3qdKBUw\",\"time\":1619152200000,\"points\":\"{\\\"active_power\\\":19.062763672,\\\"average_power\\\":19.046}\"}]}\n",
      "{\"orgId\":\"o15897810838641\",\"modelId\":\"VPP_EMMS\",\"modelIdPath\":\"/VPP_EMMS\",\"payload\":[{\"assetId\":\"f2U0fnOf\",\"time\":1619152200000,\"points\":\"{\\\"usep_price\\\":85.75,\\\"fr_price\\\":1}\"}]}\n",
      "{\"orgId\":\"o15897810838641\",\"modelId\":\"VPP_EMMS\",\"modelIdPath\":\"/VPP_EMMS\",\"payload\":[{\"assetId\":\"f2U0fnOf\",\"time\":1619157600000,\"points\":\"{\\\"b_q\\\":0.77,\\\"b_p\\\":5.06}\"}]}\n",
      "{\"orgId\":\"o15897810838641\",\"modelId\":\"VPP_BESS\",\"modelIdPath\":\"/VPP_BESS\",\"payload\":[{\"assetId\":\"kN8bRrzG\",\"time\":1619154000000,\"points\":\"{\\\"discharge_energy_interval\\\":0,\\\"charge_energy_interval\\\":0}\"}]}\n",
      "{\"orgId\":\"o15897810838641\",\"modelId\":\"VPP_BESS\",\"modelIdPath\":\"/VPP_BESS\",\"payload\":[{\"assetId\":\"kN8bRrzG\",\"time\":1619154000000,\"points\":\"{\\\"active_power\\\":0,\\\"average_charge_power\\\":0,\\\"average_discharge_power\\\":0,\\\"soh\\\":100}\"}]}\n"
     ]
    },
    {
     "name": "stderr",
     "output_type": "stream",
     "text": [
      "DEBUG:enos_subscribe.core:Commit Offsets: commits {\n",
      "  topic: \"SUBSCRIPTION_sub-1599055477895\"\n",
      "  partition: 1\n",
      "  offset: 1\n",
      "}\n",
      "commits {\n",
      "  topic: \"SUBSCRIPTION_sub-1599055477895\"\n",
      "  partition: 2\n",
      "  offset: 197\n",
      "}\n",
      "\n"
     ]
    },
    {
     "name": "stdout",
     "output_type": "stream",
     "text": [
      "{\"orgId\":\"o15897810838641\",\"modelId\":\"VPP_BESS\",\"modelIdPath\":\"/VPP_BESS\",\"payload\":[{\"assetId\":\"kN8bRrzG\",\"time\":1619154000000,\"points\":\"{\\\"soc\\\":53}\"}]}\n"
     ]
    },
    {
     "name": "stderr",
     "output_type": "stream",
     "text": [
      "DEBUG:enos_subscribe.core:Commit Offsets: commits {\n",
      "  topic: \"SUBSCRIPTION_sub-1599055477895\"\n",
      "  partition: 2\n",
      "  offset: 198\n",
      "}\n",
      "\n"
     ]
    },
    {
     "name": "stdout",
     "output_type": "stream",
     "text": [
      "{\"orgId\":\"o15897810838641\",\"modelId\":\"VPP_Grid\",\"modelIdPath\":\"/VPP_Grid\",\"payload\":[{\"assetId\":\"G3qdKBUw\",\"time\":1619154000000,\"points\":\"{\\\"active_power\\\":19.074350586,\\\"average_power\\\":18.862}\"}]}\n"
     ]
    },
    {
     "name": "stderr",
     "output_type": "stream",
     "text": [
      "DEBUG:enos_subscribe.core:Commit Offsets: commits {\n",
      "  topic: \"SUBSCRIPTION_sub-1599055477895\"\n",
      "  partition: 1\n",
      "  offset: 2\n",
      "}\n",
      "\n"
     ]
    },
    {
     "name": "stdout",
     "output_type": "stream",
     "text": [
      "{\"orgId\":\"o15897810838641\",\"modelId\":\"VPP_BESS\",\"modelIdPath\":\"/VPP_BESS\",\"payload\":[{\"assetId\":\"kN8bRrzG\",\"time\":1619154000000,\"points\":\"{\\\"charge_cycle_day_es\\\":0.965383,\\\"discharge_energy_day_es\\\":7.683731,\\\"charge_energy_day_es\\\":1.930766,\\\"discharge_cycle_day_es\\\":3.8418655}\"}]}\n"
     ]
    },
    {
     "name": "stderr",
     "output_type": "stream",
     "text": [
      "DEBUG:enos_subscribe.core:Commit Offsets: commits {\n",
      "  topic: \"SUBSCRIPTION_sub-1599055477895\"\n",
      "  partition: 2\n",
      "  offset: 199\n",
      "}\n",
      "\n"
     ]
    },
    {
     "name": "stdout",
     "output_type": "stream",
     "text": [
      "{\"orgId\":\"o15897810838641\",\"modelId\":\"VPP_BESS\",\"modelIdPath\":\"/VPP_BESS\",\"payload\":[{\"assetId\":\"kN8bRrzG\",\"time\":1619154000000,\"points\":\"{\\\"discharge_energy_day_fr\\\":99.48500566,\\\"charge_energy_day_fr\\\":77.89833006,\\\"discharge_cycle_day_fr\\\":49.74250283,\\\"charge_cycle_day_fr\\\":38.94916503}\"}]}\n"
     ]
    },
    {
     "name": "stderr",
     "output_type": "stream",
     "text": [
      "DEBUG:enos_subscribe.core:Commit Offsets: commits {\n",
      "  topic: \"SUBSCRIPTION_sub-1599055477895\"\n",
      "  partition: 2\n",
      "  offset: 200\n",
      "}\n",
      "\n"
     ]
    },
    {
     "name": "stdout",
     "output_type": "stream",
     "text": [
      "{\"orgId\":\"o15897810838641\",\"modelId\":\"VPP_Solar\",\"modelIdPath\":\"/VPP_Solar\",\"payload\":[{\"assetId\":\"F65VAZMG\",\"time\":1619154000000,\"points\":\"{\\\"active_power\\\":3.434563749,\\\"average_power\\\":3.434618}\"}]}\n"
     ]
    },
    {
     "name": "stderr",
     "output_type": "stream",
     "text": [
      "DEBUG:enos_subscribe.core:Commit Offsets: commits {\n",
      "  topic: \"SUBSCRIPTION_sub-1599055477895\"\n",
      "  partition: 2\n",
      "  offset: 201\n",
      "}\n",
      "\n"
     ]
    },
    {
     "name": "stdout",
     "output_type": "stream",
     "text": [
      "{\"orgId\":\"o15897810838641\",\"modelId\":\"VPP_BESS\",\"modelIdPath\":\"/VPP_BESS\",\"payload\":[{\"assetId\":\"kN8bRrzG\",\"time\":1619154000000,\"points\":\"{\\\"active_power\\\":0,\\\"average_charge_power\\\":0,\\\"average_discharge_power\\\":0,\\\"soh\\\":100}\"}]}\n"
     ]
    },
    {
     "name": "stderr",
     "output_type": "stream",
     "text": [
      "DEBUG:enos_subscribe.core:Commit Offsets: commits {\n",
      "  topic: \"SUBSCRIPTION_sub-1599055477895\"\n",
      "  partition: 2\n",
      "  offset: 202\n",
      "}\n",
      "\n"
     ]
    },
    {
     "name": "stdout",
     "output_type": "stream",
     "text": [
      "{\"orgId\":\"o15897810838641\",\"modelId\":\"VPP_EMMS\",\"modelIdPath\":\"/VPP_EMMS\",\"payload\":[{\"assetId\":\"f2U0fnOf\",\"time\":1619154000000,\"points\":\"{\\\"usep_price\\\":86.88,\\\"fr_price\\\":1.33}\"}]}\n"
     ]
    },
    {
     "name": "stderr",
     "output_type": "stream",
     "text": [
      "DEBUG:enos_subscribe.core:Commit Offsets: commits {\n",
      "  topic: \"SUBSCRIPTION_sub-1599055477895\"\n",
      "  partition: 2\n",
      "  offset: 203\n",
      "}\n",
      "\n"
     ]
    },
    {
     "name": "stdout",
     "output_type": "stream",
     "text": [
      "{\"orgId\":\"o15897810838641\",\"modelId\":\"VPP_Grid\",\"modelIdPath\":\"/VPP_Grid\",\"payload\":[{\"assetId\":\"G3qdKBUw\",\"time\":1619154000000,\"points\":\"{\\\"active_power\\\":19.074350586,\\\"average_power\\\":18.862}\"}]}\n"
     ]
    },
    {
     "name": "stderr",
     "output_type": "stream",
     "text": [
      "DEBUG:enos_subscribe.core:Commit Offsets: commits {\n",
      "  topic: \"SUBSCRIPTION_sub-1599055477895\"\n",
      "  partition: 1\n",
      "  offset: 3\n",
      "}\n",
      "\n"
     ]
    },
    {
     "name": "stdout",
     "output_type": "stream",
     "text": [
      "{\"orgId\":\"o15897810838641\",\"modelId\":\"VPP_EMMS\",\"modelIdPath\":\"/VPP_EMMS\",\"payload\":[{\"assetId\":\"f2U0fnOf\",\"time\":1619154000000,\"points\":\"{\\\"market_quantity\\\":125.67}\"}]}\n"
     ]
    },
    {
     "name": "stderr",
     "output_type": "stream",
     "text": [
      "DEBUG:enos_subscribe.core:Commit Offsets: commits {\n",
      "  topic: \"SUBSCRIPTION_sub-1599055477895\"\n",
      "  partition: 2\n",
      "  offset: 204\n",
      "}\n",
      "\n"
     ]
    },
    {
     "name": "stdout",
     "output_type": "stream",
     "text": [
      "{\"orgId\":\"o15897810838641\",\"modelId\":\"VPP_Solar\",\"modelIdPath\":\"/VPP_Solar\",\"payload\":[{\"assetId\":\"F65VAZMG\",\"time\":1619154000000,\"points\":\"{\\\"active_power\\\":3.434563749,\\\"average_power\\\":3.434618}\"}]}\n"
     ]
    },
    {
     "name": "stderr",
     "output_type": "stream",
     "text": [
      "DEBUG:enos_subscribe.core:Commit Offsets: commits {\n",
      "  topic: \"SUBSCRIPTION_sub-1599055477895\"\n",
      "  partition: 2\n",
      "  offset: 205\n",
      "}\n",
      "\n"
     ]
    },
    {
     "name": "stdout",
     "output_type": "stream",
     "text": [
      "{\"orgId\":\"o15897810838641\",\"modelId\":\"VPP_EMMS\",\"modelIdPath\":\"/VPP_EMMS\",\"payload\":[{\"assetId\":\"f2U0fnOf\",\"time\":1619154000000,\"points\":\"{\\\"usep_price\\\":86.88,\\\"fr_price\\\":1.33}\"}]}\n"
     ]
    },
    {
     "name": "stderr",
     "output_type": "stream",
     "text": [
      "DEBUG:enos_subscribe.core:Commit Offsets: commits {\n",
      "  topic: \"SUBSCRIPTION_sub-1599055477895\"\n",
      "  partition: 2\n",
      "  offset: 206\n",
      "}\n",
      "\n",
      "--- Logging error ---\n",
      "--- Logging error ---\n",
      "Traceback (most recent call last):\n",
      "Traceback (most recent call last):\n",
      "  File \"/Library/Frameworks/Python.framework/Versions/3.7/lib/python3.7/site-packages/enos_subscribe/core.py\", line 252, in send_and_recv\n",
      "    message_recv = self.ws.recv()\n",
      "  File \"/Library/Frameworks/Python.framework/Versions/3.7/lib/python3.7/site-packages/enos_subscribe/core.py\", line 252, in send_and_recv\n",
      "    message_recv = self.ws.recv()\n",
      "  File \"/Library/Frameworks/Python.framework/Versions/3.7/lib/python3.7/site-packages/websocket/_core.py\", line 314, in recv\n",
      "    opcode, data = self.recv_data()\n",
      "  File \"/Library/Frameworks/Python.framework/Versions/3.7/lib/python3.7/site-packages/websocket/_core.py\", line 314, in recv\n",
      "    opcode, data = self.recv_data()\n",
      "  File \"/Library/Frameworks/Python.framework/Versions/3.7/lib/python3.7/site-packages/websocket/_core.py\", line 331, in recv_data\n",
      "    opcode, frame = self.recv_data_frame(control_frame)\n",
      "  File \"/Library/Frameworks/Python.framework/Versions/3.7/lib/python3.7/site-packages/websocket/_core.py\", line 331, in recv_data\n",
      "    opcode, frame = self.recv_data_frame(control_frame)\n",
      "  File \"/Library/Frameworks/Python.framework/Versions/3.7/lib/python3.7/site-packages/websocket/_core.py\", line 344, in recv_data_frame\n",
      "    frame = self.recv_frame()\n",
      "  File \"/Library/Frameworks/Python.framework/Versions/3.7/lib/python3.7/site-packages/websocket/_core.py\", line 344, in recv_data_frame\n",
      "    frame = self.recv_frame()\n",
      "  File \"/Library/Frameworks/Python.framework/Versions/3.7/lib/python3.7/site-packages/websocket/_core.py\", line 378, in recv_frame\n",
      "    return self.frame_buffer.recv_frame()\n",
      "  File \"/Library/Frameworks/Python.framework/Versions/3.7/lib/python3.7/site-packages/websocket/_core.py\", line 378, in recv_frame\n",
      "    return self.frame_buffer.recv_frame()\n",
      "  File \"/Library/Frameworks/Python.framework/Versions/3.7/lib/python3.7/site-packages/websocket/_abnf.py\", line 361, in recv_frame\n",
      "    self.recv_header()\n",
      "  File \"/Library/Frameworks/Python.framework/Versions/3.7/lib/python3.7/site-packages/websocket/_abnf.py\", line 361, in recv_frame\n",
      "    self.recv_header()\n",
      "  File \"/Library/Frameworks/Python.framework/Versions/3.7/lib/python3.7/site-packages/websocket/_abnf.py\", line 309, in recv_header\n",
      "    header = self.recv_strict(2)\n",
      "  File \"/Library/Frameworks/Python.framework/Versions/3.7/lib/python3.7/site-packages/websocket/_abnf.py\", line 309, in recv_header\n",
      "    header = self.recv_strict(2)\n",
      "  File \"/Library/Frameworks/Python.framework/Versions/3.7/lib/python3.7/site-packages/websocket/_abnf.py\", line 396, in recv_strict\n",
      "    bytes_ = self.recv(min(16384, shortage))\n",
      "  File \"/Library/Frameworks/Python.framework/Versions/3.7/lib/python3.7/site-packages/websocket/_abnf.py\", line 396, in recv_strict\n",
      "    bytes_ = self.recv(min(16384, shortage))\n",
      "  File \"/Library/Frameworks/Python.framework/Versions/3.7/lib/python3.7/site-packages/websocket/_core.py\", line 453, in _recv\n",
      "    return recv(self.sock, bufsize)\n",
      "  File \"/Library/Frameworks/Python.framework/Versions/3.7/lib/python3.7/site-packages/websocket/_core.py\", line 453, in _recv\n",
      "    return recv(self.sock, bufsize)\n",
      "  File \"/Library/Frameworks/Python.framework/Versions/3.7/lib/python3.7/site-packages/websocket/_socket.py\", line 102, in recv\n",
      "    bytes_ = _recv()\n",
      "  File \"/Library/Frameworks/Python.framework/Versions/3.7/lib/python3.7/site-packages/websocket/_socket.py\", line 102, in recv\n",
      "    bytes_ = _recv()\n",
      "  File \"/Library/Frameworks/Python.framework/Versions/3.7/lib/python3.7/site-packages/websocket/_socket.py\", line 84, in _recv\n",
      "    return sock.recv(bufsize)\n",
      "  File \"/Library/Frameworks/Python.framework/Versions/3.7/lib/python3.7/site-packages/websocket/_socket.py\", line 84, in _recv\n",
      "    return sock.recv(bufsize)\n",
      "TimeoutError: [Errno 60] Operation timed out\n",
      "TimeoutError: [Errno 60] Operation timed out\n",
      "\n",
      "During handling of the above exception, another exception occurred:\n",
      "\n",
      "\n",
      "During handling of the above exception, another exception occurred:\n",
      "\n",
      "Traceback (most recent call last):\n",
      "Traceback (most recent call last):\n",
      "  File \"/Library/Frameworks/Python.framework/Versions/3.7/lib/python3.7/logging/__init__.py\", line 1025, in emit\n",
      "    msg = self.format(record)\n",
      "  File \"/Library/Frameworks/Python.framework/Versions/3.7/lib/python3.7/logging/__init__.py\", line 1025, in emit\n",
      "    msg = self.format(record)\n",
      "  File \"/Library/Frameworks/Python.framework/Versions/3.7/lib/python3.7/logging/__init__.py\", line 869, in format\n",
      "    return fmt.format(record)\n",
      "  File \"/Library/Frameworks/Python.framework/Versions/3.7/lib/python3.7/logging/__init__.py\", line 869, in format\n",
      "    return fmt.format(record)\n",
      "  File \"/Library/Frameworks/Python.framework/Versions/3.7/lib/python3.7/logging/__init__.py\", line 608, in format\n",
      "    record.message = record.getMessage()\n",
      "  File \"/Library/Frameworks/Python.framework/Versions/3.7/lib/python3.7/logging/__init__.py\", line 608, in format\n",
      "    record.message = record.getMessage()\n",
      "  File \"/Library/Frameworks/Python.framework/Versions/3.7/lib/python3.7/logging/__init__.py\", line 369, in getMessage\n",
      "    msg = msg % self.args\n",
      "  File \"/Library/Frameworks/Python.framework/Versions/3.7/lib/python3.7/logging/__init__.py\", line 369, in getMessage\n",
      "    msg = msg % self.args\n",
      "TypeError: not all arguments converted during string formatting\n",
      "TypeError: not all arguments converted during string formatting\n",
      "Call stack:\n",
      "Call stack:\n",
      "  File \"/Library/Frameworks/Python.framework/Versions/3.7/lib/python3.7/site-packages/enos_subscribe/core.py\", line 89, in run\n",
      "    ws_client.pull_once()\n",
      "  File \"/Library/Frameworks/Python.framework/Versions/3.7/lib/python3.7/site-packages/enos_subscribe/core.py\", line 89, in run\n",
      "    ws_client.pull_once()\n",
      "  File \"/Library/Frameworks/Python.framework/Versions/3.7/lib/python3.7/site-packages/enos_subscribe/core.py\", line 226, in pull_once\n",
      "    message = self.send_and_recv(pull_bytes)\n",
      "  File \"/Library/Frameworks/Python.framework/Versions/3.7/lib/python3.7/site-packages/enos_subscribe/core.py\", line 226, in pull_once\n",
      "    message = self.send_and_recv(pull_bytes)\n",
      "  File \"/Library/Frameworks/Python.framework/Versions/3.7/lib/python3.7/site-packages/enos_subscribe/core.py\", line 257, in send_and_recv\n",
      "    log.error('Error occur', e)\n",
      "  File \"/Library/Frameworks/Python.framework/Versions/3.7/lib/python3.7/site-packages/enos_subscribe/core.py\", line 257, in send_and_recv\n",
      "    log.error('Error occur', e)\n",
      "Message: 'Error occur'\n",
      "Arguments: (TimeoutError(60, 'Operation timed out'),)\n",
      "Message: 'Error occur'\n",
      "Arguments: (TimeoutError(60, 'Operation timed out'),)\n",
      "INFO:enos_subscribe.core:start the subscription client\n",
      "INFO:enos_subscribe.core:start the subscription client\n",
      "INFO:enos_subscribe.core:Send auth: accessKey: \"3dc2597b-e232-45db-bb16-e94443deb7f3\"\n",
      "subId: \"sub-1599055477895\"\n",
      "sign: \"adea068a9ecc1fd8d699e23d32eb8bc3dd8b5837328e428afa1af11827dde701\"\n",
      "subType: 0\n",
      "\n",
      "INFO:enos_subscribe.core:Send auth: accessKey: \"3dc2597b-e232-45db-bb16-e94443deb7f3\"\n",
      "subId: \"sub-1619152134052\"\n",
      "sign: \"1bd510b9d77f1dc87c3f71b5fcdc444119e5e512d548b4035125bd13e4f53d98\"\n",
      "subType: 3\n",
      "\n",
      "DEBUG:enos_subscribe.core:receive message, expect auth response: ack: 0\n",
      "\n",
      "INFO:enos_subscribe.core:Send sub request: category: 0\n",
      "clientId: \"MacBook-Pro-2.local\"\n",
      "subId: \"sub-1599055477895\"\n",
      "accessKey: \"3dc2597b-e232-45db-bb16-e94443deb7f3\"\n",
      "consumerGroup: \"DefaultConsumerGroup\"\n",
      "\n",
      "DEBUG:enos_subscribe.core:receive message, expect auth response: ack: 0\n",
      "\n",
      "INFO:enos_subscribe.core:Send sub request: category: 3\n",
      "clientId: \"MacBook-Pro-2.local\"\n",
      "subId: \"sub-1619152134052\"\n",
      "accessKey: \"3dc2597b-e232-45db-bb16-e94443deb7f3\"\n",
      "consumerGroup: \"DefaultConsumerGroup\"\n",
      "\n",
      "INFO:enos_subscribe.core:Sub success\n",
      "Unhandled exception in thread started by <function run at 0x7febe10fb0e0>\n",
      "INFO:enos_subscribe.core:Sub success\n",
      "Unhandled exception in thread started by <function run at 0x7febe10fb0e0>\n"
     ]
    },
    {
     "ename": "TimeoutError",
     "evalue": "[Errno 60] Operation timed out",
     "output_type": "error",
     "traceback": [
      "\u001b[0;31m---------------------------------------------------------------------------\u001b[0m",
      "\u001b[0;31mTimeoutError\u001b[0m                              Traceback (most recent call last)",
      "\u001b[0;32m/Library/Frameworks/Python.framework/Versions/3.7/lib/python3.7/site-packages/enos_subscribe/core.py\u001b[0m in \u001b[0;36mrun\u001b[0;34m(*args)\u001b[0m\n\u001b[1;32m     87\u001b[0m         \u001b[0;32mif\u001b[0m \u001b[0mepoch\u001b[0m \u001b[0;34m!=\u001b[0m \u001b[0mws_client\u001b[0m\u001b[0;34m.\u001b[0m\u001b[0mepoch\u001b[0m\u001b[0;34m:\u001b[0m\u001b[0;34m\u001b[0m\u001b[0;34m\u001b[0m\u001b[0m\n\u001b[1;32m     88\u001b[0m             \u001b[0;32mreturn\u001b[0m\u001b[0;34m\u001b[0m\u001b[0;34m\u001b[0m\u001b[0m\n\u001b[0;32m---> 89\u001b[0;31m         \u001b[0mws_client\u001b[0m\u001b[0;34m.\u001b[0m\u001b[0mpull_once\u001b[0m\u001b[0;34m(\u001b[0m\u001b[0;34m)\u001b[0m\u001b[0;34m\u001b[0m\u001b[0;34m\u001b[0m\u001b[0m\n\u001b[0m\u001b[1;32m     90\u001b[0m     \u001b[0mlog\u001b[0m\u001b[0;34m.\u001b[0m\u001b[0minfo\u001b[0m\u001b[0;34m(\u001b[0m\u001b[0;34m\"socket already closed\"\u001b[0m\u001b[0;34m)\u001b[0m\u001b[0;34m\u001b[0m\u001b[0;34m\u001b[0m\u001b[0m\n\u001b[1;32m     91\u001b[0m \u001b[0;34m\u001b[0m\u001b[0m\n",
      "\u001b[0;32m/Library/Frameworks/Python.framework/Versions/3.7/lib/python3.7/site-packages/enos_subscribe/core.py\u001b[0m in \u001b[0;36mpull_once\u001b[0;34m(self)\u001b[0m\n\u001b[1;32m    224\u001b[0m         \u001b[0mpull_bytes\u001b[0m \u001b[0;34m=\u001b[0m \u001b[0mbuild_pkg\u001b[0m\u001b[0;34m(\u001b[0m\u001b[0m_MESSAGE_MAP\u001b[0m\u001b[0;34m[\u001b[0m\u001b[0msub_pb2\u001b[0m\u001b[0;34m.\u001b[0m\u001b[0mPullReq\u001b[0m\u001b[0;34m]\u001b[0m\u001b[0;34m,\u001b[0m \u001b[0mpull_req\u001b[0m\u001b[0;34m.\u001b[0m\u001b[0mSerializeToString\u001b[0m\u001b[0;34m(\u001b[0m\u001b[0;34m)\u001b[0m\u001b[0;34m)\u001b[0m\u001b[0;34m\u001b[0m\u001b[0;34m\u001b[0m\u001b[0m\n\u001b[1;32m    225\u001b[0m \u001b[0;34m\u001b[0m\u001b[0m\n\u001b[0;32m--> 226\u001b[0;31m         \u001b[0mmessage\u001b[0m \u001b[0;34m=\u001b[0m \u001b[0mself\u001b[0m\u001b[0;34m.\u001b[0m\u001b[0msend_and_recv\u001b[0m\u001b[0;34m(\u001b[0m\u001b[0mpull_bytes\u001b[0m\u001b[0;34m)\u001b[0m\u001b[0;34m\u001b[0m\u001b[0;34m\u001b[0m\u001b[0m\n\u001b[0m\u001b[1;32m    227\u001b[0m \u001b[0;34m\u001b[0m\u001b[0m\n\u001b[1;32m    228\u001b[0m         \u001b[0mmessage_type\u001b[0m\u001b[0;34m,\u001b[0m \u001b[0mmessage_real\u001b[0m \u001b[0;34m=\u001b[0m \u001b[0mpkg_parser\u001b[0m\u001b[0;34m(\u001b[0m\u001b[0mmessage\u001b[0m\u001b[0;34m)\u001b[0m\u001b[0;34m\u001b[0m\u001b[0;34m\u001b[0m\u001b[0m\n",
      "\u001b[0;32m/Library/Frameworks/Python.framework/Versions/3.7/lib/python3.7/site-packages/enos_subscribe/core.py\u001b[0m in \u001b[0;36msend_and_recv\u001b[0;34m(self, message_to_send, need_recv)\u001b[0m\n\u001b[1;32m    258\u001b[0m             \u001b[0mself\u001b[0m\u001b[0;34m.\u001b[0m\u001b[0mconnected\u001b[0m \u001b[0;34m=\u001b[0m \u001b[0;32mFalse\u001b[0m\u001b[0;34m\u001b[0m\u001b[0;34m\u001b[0m\u001b[0m\n\u001b[1;32m    259\u001b[0m             \u001b[0mself\u001b[0m\u001b[0;34m.\u001b[0m\u001b[0mreconnect\u001b[0m\u001b[0;34m(\u001b[0m\u001b[0;34m)\u001b[0m\u001b[0;34m\u001b[0m\u001b[0;34m\u001b[0m\u001b[0m\n\u001b[0;32m--> 260\u001b[0;31m             \u001b[0;32mraise\u001b[0m \u001b[0me\u001b[0m\u001b[0;34m\u001b[0m\u001b[0;34m\u001b[0m\u001b[0m\n\u001b[0m\u001b[1;32m    261\u001b[0m         \u001b[0;32mfinally\u001b[0m\u001b[0;34m:\u001b[0m\u001b[0;34m\u001b[0m\u001b[0;34m\u001b[0m\u001b[0m\n\u001b[1;32m    262\u001b[0m             \u001b[0mself\u001b[0m\u001b[0;34m.\u001b[0m\u001b[0mlock\u001b[0m\u001b[0;34m.\u001b[0m\u001b[0mrelease\u001b[0m\u001b[0;34m(\u001b[0m\u001b[0;34m)\u001b[0m\u001b[0;34m\u001b[0m\u001b[0;34m\u001b[0m\u001b[0m\n",
      "\u001b[0;32m/Library/Frameworks/Python.framework/Versions/3.7/lib/python3.7/site-packages/enos_subscribe/core.py\u001b[0m in \u001b[0;36msend_and_recv\u001b[0;34m(self, message_to_send, need_recv)\u001b[0m\n\u001b[1;32m    250\u001b[0m             \u001b[0;32mif\u001b[0m \u001b[0mneed_recv\u001b[0m\u001b[0;34m:\u001b[0m\u001b[0;34m\u001b[0m\u001b[0;34m\u001b[0m\u001b[0m\n\u001b[1;32m    251\u001b[0m                 \u001b[0mself\u001b[0m\u001b[0;34m.\u001b[0m\u001b[0mws\u001b[0m\u001b[0;34m.\u001b[0m\u001b[0msend\u001b[0m\u001b[0;34m(\u001b[0m\u001b[0mmessage_to_send\u001b[0m\u001b[0;34m,\u001b[0m \u001b[0mwebsocket\u001b[0m\u001b[0;34m.\u001b[0m\u001b[0mABNF\u001b[0m\u001b[0;34m.\u001b[0m\u001b[0mOPCODE_BINARY\u001b[0m\u001b[0;34m)\u001b[0m\u001b[0;34m\u001b[0m\u001b[0;34m\u001b[0m\u001b[0m\n\u001b[0;32m--> 252\u001b[0;31m                 \u001b[0mmessage_recv\u001b[0m \u001b[0;34m=\u001b[0m \u001b[0mself\u001b[0m\u001b[0;34m.\u001b[0m\u001b[0mws\u001b[0m\u001b[0;34m.\u001b[0m\u001b[0mrecv\u001b[0m\u001b[0;34m(\u001b[0m\u001b[0;34m)\u001b[0m\u001b[0;34m\u001b[0m\u001b[0;34m\u001b[0m\u001b[0m\n\u001b[0m\u001b[1;32m    253\u001b[0m                 \u001b[0;32mreturn\u001b[0m \u001b[0mmessage_recv\u001b[0m\u001b[0;34m\u001b[0m\u001b[0;34m\u001b[0m\u001b[0m\n\u001b[1;32m    254\u001b[0m             \u001b[0;32melse\u001b[0m\u001b[0;34m:\u001b[0m\u001b[0;34m\u001b[0m\u001b[0;34m\u001b[0m\u001b[0m\n",
      "\u001b[0;32m/Library/Frameworks/Python.framework/Versions/3.7/lib/python3.7/site-packages/websocket/_core.py\u001b[0m in \u001b[0;36mrecv\u001b[0;34m(self)\u001b[0m\n\u001b[1;32m    312\u001b[0m         \"\"\"\n\u001b[1;32m    313\u001b[0m         \u001b[0;32mwith\u001b[0m \u001b[0mself\u001b[0m\u001b[0;34m.\u001b[0m\u001b[0mreadlock\u001b[0m\u001b[0;34m:\u001b[0m\u001b[0;34m\u001b[0m\u001b[0;34m\u001b[0m\u001b[0m\n\u001b[0;32m--> 314\u001b[0;31m             \u001b[0mopcode\u001b[0m\u001b[0;34m,\u001b[0m \u001b[0mdata\u001b[0m \u001b[0;34m=\u001b[0m \u001b[0mself\u001b[0m\u001b[0;34m.\u001b[0m\u001b[0mrecv_data\u001b[0m\u001b[0;34m(\u001b[0m\u001b[0;34m)\u001b[0m\u001b[0;34m\u001b[0m\u001b[0;34m\u001b[0m\u001b[0m\n\u001b[0m\u001b[1;32m    315\u001b[0m         \u001b[0;32mif\u001b[0m \u001b[0msix\u001b[0m\u001b[0;34m.\u001b[0m\u001b[0mPY3\u001b[0m \u001b[0;32mand\u001b[0m \u001b[0mopcode\u001b[0m \u001b[0;34m==\u001b[0m \u001b[0mABNF\u001b[0m\u001b[0;34m.\u001b[0m\u001b[0mOPCODE_TEXT\u001b[0m\u001b[0;34m:\u001b[0m\u001b[0;34m\u001b[0m\u001b[0;34m\u001b[0m\u001b[0m\n\u001b[1;32m    316\u001b[0m             \u001b[0;32mreturn\u001b[0m \u001b[0mdata\u001b[0m\u001b[0;34m.\u001b[0m\u001b[0mdecode\u001b[0m\u001b[0;34m(\u001b[0m\u001b[0;34m\"utf-8\"\u001b[0m\u001b[0;34m)\u001b[0m\u001b[0;34m\u001b[0m\u001b[0;34m\u001b[0m\u001b[0m\n",
      "\u001b[0;32m/Library/Frameworks/Python.framework/Versions/3.7/lib/python3.7/site-packages/websocket/_core.py\u001b[0m in \u001b[0;36mrecv_data\u001b[0;34m(self, control_frame)\u001b[0m\n\u001b[1;32m    329\u001b[0m         \u001b[0;32mreturn\u001b[0m  \u001b[0mvalue\u001b[0m\u001b[0;34m:\u001b[0m \u001b[0mtuple\u001b[0m \u001b[0mof\u001b[0m \u001b[0moperation\u001b[0m \u001b[0mcode\u001b[0m \u001b[0;32mand\u001b[0m \u001b[0mstring\u001b[0m\u001b[0;34m(\u001b[0m\u001b[0mbyte\u001b[0m \u001b[0marray\u001b[0m\u001b[0;34m)\u001b[0m \u001b[0mvalue\u001b[0m\u001b[0;34m.\u001b[0m\u001b[0;34m\u001b[0m\u001b[0;34m\u001b[0m\u001b[0m\n\u001b[1;32m    330\u001b[0m         \"\"\"\n\u001b[0;32m--> 331\u001b[0;31m         \u001b[0mopcode\u001b[0m\u001b[0;34m,\u001b[0m \u001b[0mframe\u001b[0m \u001b[0;34m=\u001b[0m \u001b[0mself\u001b[0m\u001b[0;34m.\u001b[0m\u001b[0mrecv_data_frame\u001b[0m\u001b[0;34m(\u001b[0m\u001b[0mcontrol_frame\u001b[0m\u001b[0;34m)\u001b[0m\u001b[0;34m\u001b[0m\u001b[0;34m\u001b[0m\u001b[0m\n\u001b[0m\u001b[1;32m    332\u001b[0m         \u001b[0;32mreturn\u001b[0m \u001b[0mopcode\u001b[0m\u001b[0;34m,\u001b[0m \u001b[0mframe\u001b[0m\u001b[0;34m.\u001b[0m\u001b[0mdata\u001b[0m\u001b[0;34m\u001b[0m\u001b[0;34m\u001b[0m\u001b[0m\n\u001b[1;32m    333\u001b[0m \u001b[0;34m\u001b[0m\u001b[0m\n",
      "\u001b[0;32m/Library/Frameworks/Python.framework/Versions/3.7/lib/python3.7/site-packages/websocket/_core.py\u001b[0m in \u001b[0;36mrecv_data_frame\u001b[0;34m(self, control_frame)\u001b[0m\n\u001b[1;32m    342\u001b[0m         \"\"\"\n\u001b[1;32m    343\u001b[0m         \u001b[0;32mwhile\u001b[0m \u001b[0;32mTrue\u001b[0m\u001b[0;34m:\u001b[0m\u001b[0;34m\u001b[0m\u001b[0;34m\u001b[0m\u001b[0m\n\u001b[0;32m--> 344\u001b[0;31m             \u001b[0mframe\u001b[0m \u001b[0;34m=\u001b[0m \u001b[0mself\u001b[0m\u001b[0;34m.\u001b[0m\u001b[0mrecv_frame\u001b[0m\u001b[0;34m(\u001b[0m\u001b[0;34m)\u001b[0m\u001b[0;34m\u001b[0m\u001b[0;34m\u001b[0m\u001b[0m\n\u001b[0m\u001b[1;32m    345\u001b[0m             \u001b[0;32mif\u001b[0m \u001b[0;32mnot\u001b[0m \u001b[0mframe\u001b[0m\u001b[0;34m:\u001b[0m\u001b[0;34m\u001b[0m\u001b[0;34m\u001b[0m\u001b[0m\n\u001b[1;32m    346\u001b[0m                 \u001b[0;31m# handle error:\u001b[0m\u001b[0;34m\u001b[0m\u001b[0;34m\u001b[0m\u001b[0;34m\u001b[0m\u001b[0m\n",
      "\u001b[0;32m/Library/Frameworks/Python.framework/Versions/3.7/lib/python3.7/site-packages/websocket/_core.py\u001b[0m in \u001b[0;36mrecv_frame\u001b[0;34m(self)\u001b[0m\n\u001b[1;32m    376\u001b[0m         \u001b[0;32mreturn\u001b[0m \u001b[0mvalue\u001b[0m\u001b[0;34m:\u001b[0m \u001b[0mABNF\u001b[0m \u001b[0mframe\u001b[0m \u001b[0mobject\u001b[0m\u001b[0;34m.\u001b[0m\u001b[0;34m\u001b[0m\u001b[0;34m\u001b[0m\u001b[0m\n\u001b[1;32m    377\u001b[0m         \"\"\"\n\u001b[0;32m--> 378\u001b[0;31m         \u001b[0;32mreturn\u001b[0m \u001b[0mself\u001b[0m\u001b[0;34m.\u001b[0m\u001b[0mframe_buffer\u001b[0m\u001b[0;34m.\u001b[0m\u001b[0mrecv_frame\u001b[0m\u001b[0;34m(\u001b[0m\u001b[0;34m)\u001b[0m\u001b[0;34m\u001b[0m\u001b[0;34m\u001b[0m\u001b[0m\n\u001b[0m\u001b[1;32m    379\u001b[0m \u001b[0;34m\u001b[0m\u001b[0m\n\u001b[1;32m    380\u001b[0m     \u001b[0;32mdef\u001b[0m \u001b[0msend_close\u001b[0m\u001b[0;34m(\u001b[0m\u001b[0mself\u001b[0m\u001b[0;34m,\u001b[0m \u001b[0mstatus\u001b[0m\u001b[0;34m=\u001b[0m\u001b[0mSTATUS_NORMAL\u001b[0m\u001b[0;34m,\u001b[0m \u001b[0mreason\u001b[0m\u001b[0;34m=\u001b[0m\u001b[0msix\u001b[0m\u001b[0;34m.\u001b[0m\u001b[0mb\u001b[0m\u001b[0;34m(\u001b[0m\u001b[0;34m\"\"\u001b[0m\u001b[0;34m)\u001b[0m\u001b[0;34m)\u001b[0m\u001b[0;34m:\u001b[0m\u001b[0;34m\u001b[0m\u001b[0;34m\u001b[0m\u001b[0m\n",
      "\u001b[0;32m/Library/Frameworks/Python.framework/Versions/3.7/lib/python3.7/site-packages/websocket/_abnf.py\u001b[0m in \u001b[0;36mrecv_frame\u001b[0;34m(self)\u001b[0m\n\u001b[1;32m    359\u001b[0m             \u001b[0;31m# Header\u001b[0m\u001b[0;34m\u001b[0m\u001b[0;34m\u001b[0m\u001b[0;34m\u001b[0m\u001b[0m\n\u001b[1;32m    360\u001b[0m             \u001b[0;32mif\u001b[0m \u001b[0mself\u001b[0m\u001b[0;34m.\u001b[0m\u001b[0mhas_received_header\u001b[0m\u001b[0;34m(\u001b[0m\u001b[0;34m)\u001b[0m\u001b[0;34m:\u001b[0m\u001b[0;34m\u001b[0m\u001b[0;34m\u001b[0m\u001b[0m\n\u001b[0;32m--> 361\u001b[0;31m                 \u001b[0mself\u001b[0m\u001b[0;34m.\u001b[0m\u001b[0mrecv_header\u001b[0m\u001b[0;34m(\u001b[0m\u001b[0;34m)\u001b[0m\u001b[0;34m\u001b[0m\u001b[0;34m\u001b[0m\u001b[0m\n\u001b[0m\u001b[1;32m    362\u001b[0m             \u001b[0;34m(\u001b[0m\u001b[0mfin\u001b[0m\u001b[0;34m,\u001b[0m \u001b[0mrsv1\u001b[0m\u001b[0;34m,\u001b[0m \u001b[0mrsv2\u001b[0m\u001b[0;34m,\u001b[0m \u001b[0mrsv3\u001b[0m\u001b[0;34m,\u001b[0m \u001b[0mopcode\u001b[0m\u001b[0;34m,\u001b[0m \u001b[0mhas_mask\u001b[0m\u001b[0;34m,\u001b[0m \u001b[0m_\u001b[0m\u001b[0;34m)\u001b[0m \u001b[0;34m=\u001b[0m \u001b[0mself\u001b[0m\u001b[0;34m.\u001b[0m\u001b[0mheader\u001b[0m\u001b[0;34m\u001b[0m\u001b[0;34m\u001b[0m\u001b[0m\n\u001b[1;32m    363\u001b[0m \u001b[0;34m\u001b[0m\u001b[0m\n",
      "\u001b[0;32m/Library/Frameworks/Python.framework/Versions/3.7/lib/python3.7/site-packages/websocket/_abnf.py\u001b[0m in \u001b[0;36mrecv_header\u001b[0;34m(self)\u001b[0m\n\u001b[1;32m    307\u001b[0m \u001b[0;34m\u001b[0m\u001b[0m\n\u001b[1;32m    308\u001b[0m     \u001b[0;32mdef\u001b[0m \u001b[0mrecv_header\u001b[0m\u001b[0;34m(\u001b[0m\u001b[0mself\u001b[0m\u001b[0;34m)\u001b[0m\u001b[0;34m:\u001b[0m\u001b[0;34m\u001b[0m\u001b[0;34m\u001b[0m\u001b[0m\n\u001b[0;32m--> 309\u001b[0;31m         \u001b[0mheader\u001b[0m \u001b[0;34m=\u001b[0m \u001b[0mself\u001b[0m\u001b[0;34m.\u001b[0m\u001b[0mrecv_strict\u001b[0m\u001b[0;34m(\u001b[0m\u001b[0;36m2\u001b[0m\u001b[0;34m)\u001b[0m\u001b[0;34m\u001b[0m\u001b[0;34m\u001b[0m\u001b[0m\n\u001b[0m\u001b[1;32m    310\u001b[0m         \u001b[0mb1\u001b[0m \u001b[0;34m=\u001b[0m \u001b[0mheader\u001b[0m\u001b[0;34m[\u001b[0m\u001b[0;36m0\u001b[0m\u001b[0;34m]\u001b[0m\u001b[0;34m\u001b[0m\u001b[0;34m\u001b[0m\u001b[0m\n\u001b[1;32m    311\u001b[0m \u001b[0;34m\u001b[0m\u001b[0m\n",
      "\u001b[0;32m/Library/Frameworks/Python.framework/Versions/3.7/lib/python3.7/site-packages/websocket/_abnf.py\u001b[0m in \u001b[0;36mrecv_strict\u001b[0;34m(self, bufsize)\u001b[0m\n\u001b[1;32m    394\u001b[0m             \u001b[0;31m# buffers allocated and then shrunk, which results in\u001b[0m\u001b[0;34m\u001b[0m\u001b[0;34m\u001b[0m\u001b[0;34m\u001b[0m\u001b[0m\n\u001b[1;32m    395\u001b[0m             \u001b[0;31m# fragmentation.\u001b[0m\u001b[0;34m\u001b[0m\u001b[0;34m\u001b[0m\u001b[0;34m\u001b[0m\u001b[0m\n\u001b[0;32m--> 396\u001b[0;31m             \u001b[0mbytes_\u001b[0m \u001b[0;34m=\u001b[0m \u001b[0mself\u001b[0m\u001b[0;34m.\u001b[0m\u001b[0mrecv\u001b[0m\u001b[0;34m(\u001b[0m\u001b[0mmin\u001b[0m\u001b[0;34m(\u001b[0m\u001b[0;36m16384\u001b[0m\u001b[0;34m,\u001b[0m \u001b[0mshortage\u001b[0m\u001b[0;34m)\u001b[0m\u001b[0;34m)\u001b[0m\u001b[0;34m\u001b[0m\u001b[0;34m\u001b[0m\u001b[0m\n\u001b[0m\u001b[1;32m    397\u001b[0m             \u001b[0mself\u001b[0m\u001b[0;34m.\u001b[0m\u001b[0mrecv_buffer\u001b[0m\u001b[0;34m.\u001b[0m\u001b[0mappend\u001b[0m\u001b[0;34m(\u001b[0m\u001b[0mbytes_\u001b[0m\u001b[0;34m)\u001b[0m\u001b[0;34m\u001b[0m\u001b[0;34m\u001b[0m\u001b[0m\n\u001b[1;32m    398\u001b[0m             \u001b[0mshortage\u001b[0m \u001b[0;34m-=\u001b[0m \u001b[0mlen\u001b[0m\u001b[0;34m(\u001b[0m\u001b[0mbytes_\u001b[0m\u001b[0;34m)\u001b[0m\u001b[0;34m\u001b[0m\u001b[0;34m\u001b[0m\u001b[0m\n",
      "\u001b[0;32m/Library/Frameworks/Python.framework/Versions/3.7/lib/python3.7/site-packages/websocket/_core.py\u001b[0m in \u001b[0;36m_recv\u001b[0;34m(self, bufsize)\u001b[0m\n\u001b[1;32m    451\u001b[0m     \u001b[0;32mdef\u001b[0m \u001b[0m_recv\u001b[0m\u001b[0;34m(\u001b[0m\u001b[0mself\u001b[0m\u001b[0;34m,\u001b[0m \u001b[0mbufsize\u001b[0m\u001b[0;34m)\u001b[0m\u001b[0;34m:\u001b[0m\u001b[0;34m\u001b[0m\u001b[0;34m\u001b[0m\u001b[0m\n\u001b[1;32m    452\u001b[0m         \u001b[0;32mtry\u001b[0m\u001b[0;34m:\u001b[0m\u001b[0;34m\u001b[0m\u001b[0;34m\u001b[0m\u001b[0m\n\u001b[0;32m--> 453\u001b[0;31m             \u001b[0;32mreturn\u001b[0m \u001b[0mrecv\u001b[0m\u001b[0;34m(\u001b[0m\u001b[0mself\u001b[0m\u001b[0;34m.\u001b[0m\u001b[0msock\u001b[0m\u001b[0;34m,\u001b[0m \u001b[0mbufsize\u001b[0m\u001b[0;34m)\u001b[0m\u001b[0;34m\u001b[0m\u001b[0;34m\u001b[0m\u001b[0m\n\u001b[0m\u001b[1;32m    454\u001b[0m         \u001b[0;32mexcept\u001b[0m \u001b[0mWebSocketConnectionClosedException\u001b[0m\u001b[0;34m:\u001b[0m\u001b[0;34m\u001b[0m\u001b[0;34m\u001b[0m\u001b[0m\n\u001b[1;32m    455\u001b[0m             \u001b[0;32mif\u001b[0m \u001b[0mself\u001b[0m\u001b[0;34m.\u001b[0m\u001b[0msock\u001b[0m\u001b[0;34m:\u001b[0m\u001b[0;34m\u001b[0m\u001b[0;34m\u001b[0m\u001b[0m\n",
      "\u001b[0;32m/Library/Frameworks/Python.framework/Versions/3.7/lib/python3.7/site-packages/websocket/_socket.py\u001b[0m in \u001b[0;36mrecv\u001b[0;34m(sock, bufsize)\u001b[0m\n\u001b[1;32m    100\u001b[0m             \u001b[0mbytes_\u001b[0m \u001b[0;34m=\u001b[0m \u001b[0msock\u001b[0m\u001b[0;34m.\u001b[0m\u001b[0mrecv\u001b[0m\u001b[0;34m(\u001b[0m\u001b[0mbufsize\u001b[0m\u001b[0;34m)\u001b[0m\u001b[0;34m\u001b[0m\u001b[0;34m\u001b[0m\u001b[0m\n\u001b[1;32m    101\u001b[0m         \u001b[0;32melse\u001b[0m\u001b[0;34m:\u001b[0m\u001b[0;34m\u001b[0m\u001b[0;34m\u001b[0m\u001b[0m\n\u001b[0;32m--> 102\u001b[0;31m             \u001b[0mbytes_\u001b[0m \u001b[0;34m=\u001b[0m \u001b[0m_recv\u001b[0m\u001b[0;34m(\u001b[0m\u001b[0;34m)\u001b[0m\u001b[0;34m\u001b[0m\u001b[0;34m\u001b[0m\u001b[0m\n\u001b[0m\u001b[1;32m    103\u001b[0m     \u001b[0;32mexcept\u001b[0m \u001b[0msocket\u001b[0m\u001b[0;34m.\u001b[0m\u001b[0mtimeout\u001b[0m \u001b[0;32mas\u001b[0m \u001b[0me\u001b[0m\u001b[0;34m:\u001b[0m\u001b[0;34m\u001b[0m\u001b[0;34m\u001b[0m\u001b[0m\n\u001b[1;32m    104\u001b[0m         \u001b[0mmessage\u001b[0m \u001b[0;34m=\u001b[0m \u001b[0mextract_err_message\u001b[0m\u001b[0;34m(\u001b[0m\u001b[0me\u001b[0m\u001b[0;34m)\u001b[0m\u001b[0;34m\u001b[0m\u001b[0;34m\u001b[0m\u001b[0m\n",
      "\u001b[0;32m/Library/Frameworks/Python.framework/Versions/3.7/lib/python3.7/site-packages/websocket/_socket.py\u001b[0m in \u001b[0;36m_recv\u001b[0;34m()\u001b[0m\n\u001b[1;32m     82\u001b[0m     \u001b[0;32mdef\u001b[0m \u001b[0m_recv\u001b[0m\u001b[0;34m(\u001b[0m\u001b[0;34m)\u001b[0m\u001b[0;34m:\u001b[0m\u001b[0;34m\u001b[0m\u001b[0;34m\u001b[0m\u001b[0m\n\u001b[1;32m     83\u001b[0m         \u001b[0;32mtry\u001b[0m\u001b[0;34m:\u001b[0m\u001b[0;34m\u001b[0m\u001b[0;34m\u001b[0m\u001b[0m\n\u001b[0;32m---> 84\u001b[0;31m             \u001b[0;32mreturn\u001b[0m \u001b[0msock\u001b[0m\u001b[0;34m.\u001b[0m\u001b[0mrecv\u001b[0m\u001b[0;34m(\u001b[0m\u001b[0mbufsize\u001b[0m\u001b[0;34m)\u001b[0m\u001b[0;34m\u001b[0m\u001b[0;34m\u001b[0m\u001b[0m\n\u001b[0m\u001b[1;32m     85\u001b[0m         \u001b[0;32mexcept\u001b[0m \u001b[0mSSLWantReadError\u001b[0m\u001b[0;34m:\u001b[0m\u001b[0;34m\u001b[0m\u001b[0;34m\u001b[0m\u001b[0m\n\u001b[1;32m     86\u001b[0m             \u001b[0;32mpass\u001b[0m\u001b[0;34m\u001b[0m\u001b[0;34m\u001b[0m\u001b[0m\n",
      "\u001b[0;31mTimeoutError\u001b[0m: [Errno 60] Operation timed out"
     ]
    },
    {
     "ename": "TimeoutError",
     "evalue": "[Errno 60] Operation timed out",
     "output_type": "error",
     "traceback": [
      "\u001b[0;31m---------------------------------------------------------------------------\u001b[0m",
      "\u001b[0;31mTimeoutError\u001b[0m                              Traceback (most recent call last)",
      "\u001b[0;32m/Library/Frameworks/Python.framework/Versions/3.7/lib/python3.7/site-packages/enos_subscribe/core.py\u001b[0m in \u001b[0;36mrun\u001b[0;34m(*args)\u001b[0m\n\u001b[1;32m     87\u001b[0m         \u001b[0;32mif\u001b[0m \u001b[0mepoch\u001b[0m \u001b[0;34m!=\u001b[0m \u001b[0mws_client\u001b[0m\u001b[0;34m.\u001b[0m\u001b[0mepoch\u001b[0m\u001b[0;34m:\u001b[0m\u001b[0;34m\u001b[0m\u001b[0;34m\u001b[0m\u001b[0m\n\u001b[1;32m     88\u001b[0m             \u001b[0;32mreturn\u001b[0m\u001b[0;34m\u001b[0m\u001b[0;34m\u001b[0m\u001b[0m\n\u001b[0;32m---> 89\u001b[0;31m         \u001b[0mws_client\u001b[0m\u001b[0;34m.\u001b[0m\u001b[0mpull_once\u001b[0m\u001b[0;34m(\u001b[0m\u001b[0;34m)\u001b[0m\u001b[0;34m\u001b[0m\u001b[0;34m\u001b[0m\u001b[0m\n\u001b[0m\u001b[1;32m     90\u001b[0m     \u001b[0mlog\u001b[0m\u001b[0;34m.\u001b[0m\u001b[0minfo\u001b[0m\u001b[0;34m(\u001b[0m\u001b[0;34m\"socket already closed\"\u001b[0m\u001b[0;34m)\u001b[0m\u001b[0;34m\u001b[0m\u001b[0;34m\u001b[0m\u001b[0m\n\u001b[1;32m     91\u001b[0m \u001b[0;34m\u001b[0m\u001b[0m\n",
      "\u001b[0;32m/Library/Frameworks/Python.framework/Versions/3.7/lib/python3.7/site-packages/enos_subscribe/core.py\u001b[0m in \u001b[0;36mpull_once\u001b[0;34m(self)\u001b[0m\n\u001b[1;32m    224\u001b[0m         \u001b[0mpull_bytes\u001b[0m \u001b[0;34m=\u001b[0m \u001b[0mbuild_pkg\u001b[0m\u001b[0;34m(\u001b[0m\u001b[0m_MESSAGE_MAP\u001b[0m\u001b[0;34m[\u001b[0m\u001b[0msub_pb2\u001b[0m\u001b[0;34m.\u001b[0m\u001b[0mPullReq\u001b[0m\u001b[0;34m]\u001b[0m\u001b[0;34m,\u001b[0m \u001b[0mpull_req\u001b[0m\u001b[0;34m.\u001b[0m\u001b[0mSerializeToString\u001b[0m\u001b[0;34m(\u001b[0m\u001b[0;34m)\u001b[0m\u001b[0;34m)\u001b[0m\u001b[0;34m\u001b[0m\u001b[0;34m\u001b[0m\u001b[0m\n\u001b[1;32m    225\u001b[0m \u001b[0;34m\u001b[0m\u001b[0m\n\u001b[0;32m--> 226\u001b[0;31m         \u001b[0mmessage\u001b[0m \u001b[0;34m=\u001b[0m \u001b[0mself\u001b[0m\u001b[0;34m.\u001b[0m\u001b[0msend_and_recv\u001b[0m\u001b[0;34m(\u001b[0m\u001b[0mpull_bytes\u001b[0m\u001b[0;34m)\u001b[0m\u001b[0;34m\u001b[0m\u001b[0;34m\u001b[0m\u001b[0m\n\u001b[0m\u001b[1;32m    227\u001b[0m \u001b[0;34m\u001b[0m\u001b[0m\n\u001b[1;32m    228\u001b[0m         \u001b[0mmessage_type\u001b[0m\u001b[0;34m,\u001b[0m \u001b[0mmessage_real\u001b[0m \u001b[0;34m=\u001b[0m \u001b[0mpkg_parser\u001b[0m\u001b[0;34m(\u001b[0m\u001b[0mmessage\u001b[0m\u001b[0;34m)\u001b[0m\u001b[0;34m\u001b[0m\u001b[0;34m\u001b[0m\u001b[0m\n",
      "\u001b[0;32m/Library/Frameworks/Python.framework/Versions/3.7/lib/python3.7/site-packages/enos_subscribe/core.py\u001b[0m in \u001b[0;36msend_and_recv\u001b[0;34m(self, message_to_send, need_recv)\u001b[0m\n\u001b[1;32m    258\u001b[0m             \u001b[0mself\u001b[0m\u001b[0;34m.\u001b[0m\u001b[0mconnected\u001b[0m \u001b[0;34m=\u001b[0m \u001b[0;32mFalse\u001b[0m\u001b[0;34m\u001b[0m\u001b[0;34m\u001b[0m\u001b[0m\n\u001b[1;32m    259\u001b[0m             \u001b[0mself\u001b[0m\u001b[0;34m.\u001b[0m\u001b[0mreconnect\u001b[0m\u001b[0;34m(\u001b[0m\u001b[0;34m)\u001b[0m\u001b[0;34m\u001b[0m\u001b[0;34m\u001b[0m\u001b[0m\n\u001b[0;32m--> 260\u001b[0;31m             \u001b[0;32mraise\u001b[0m \u001b[0me\u001b[0m\u001b[0;34m\u001b[0m\u001b[0;34m\u001b[0m\u001b[0m\n\u001b[0m\u001b[1;32m    261\u001b[0m         \u001b[0;32mfinally\u001b[0m\u001b[0;34m:\u001b[0m\u001b[0;34m\u001b[0m\u001b[0;34m\u001b[0m\u001b[0m\n\u001b[1;32m    262\u001b[0m             \u001b[0mself\u001b[0m\u001b[0;34m.\u001b[0m\u001b[0mlock\u001b[0m\u001b[0;34m.\u001b[0m\u001b[0mrelease\u001b[0m\u001b[0;34m(\u001b[0m\u001b[0;34m)\u001b[0m\u001b[0;34m\u001b[0m\u001b[0;34m\u001b[0m\u001b[0m\n",
      "\u001b[0;32m/Library/Frameworks/Python.framework/Versions/3.7/lib/python3.7/site-packages/enos_subscribe/core.py\u001b[0m in \u001b[0;36msend_and_recv\u001b[0;34m(self, message_to_send, need_recv)\u001b[0m\n\u001b[1;32m    250\u001b[0m             \u001b[0;32mif\u001b[0m \u001b[0mneed_recv\u001b[0m\u001b[0;34m:\u001b[0m\u001b[0;34m\u001b[0m\u001b[0;34m\u001b[0m\u001b[0m\n\u001b[1;32m    251\u001b[0m                 \u001b[0mself\u001b[0m\u001b[0;34m.\u001b[0m\u001b[0mws\u001b[0m\u001b[0;34m.\u001b[0m\u001b[0msend\u001b[0m\u001b[0;34m(\u001b[0m\u001b[0mmessage_to_send\u001b[0m\u001b[0;34m,\u001b[0m \u001b[0mwebsocket\u001b[0m\u001b[0;34m.\u001b[0m\u001b[0mABNF\u001b[0m\u001b[0;34m.\u001b[0m\u001b[0mOPCODE_BINARY\u001b[0m\u001b[0;34m)\u001b[0m\u001b[0;34m\u001b[0m\u001b[0;34m\u001b[0m\u001b[0m\n\u001b[0;32m--> 252\u001b[0;31m                 \u001b[0mmessage_recv\u001b[0m \u001b[0;34m=\u001b[0m \u001b[0mself\u001b[0m\u001b[0;34m.\u001b[0m\u001b[0mws\u001b[0m\u001b[0;34m.\u001b[0m\u001b[0mrecv\u001b[0m\u001b[0;34m(\u001b[0m\u001b[0;34m)\u001b[0m\u001b[0;34m\u001b[0m\u001b[0;34m\u001b[0m\u001b[0m\n\u001b[0m\u001b[1;32m    253\u001b[0m                 \u001b[0;32mreturn\u001b[0m \u001b[0mmessage_recv\u001b[0m\u001b[0;34m\u001b[0m\u001b[0;34m\u001b[0m\u001b[0m\n\u001b[1;32m    254\u001b[0m             \u001b[0;32melse\u001b[0m\u001b[0;34m:\u001b[0m\u001b[0;34m\u001b[0m\u001b[0;34m\u001b[0m\u001b[0m\n",
      "\u001b[0;32m/Library/Frameworks/Python.framework/Versions/3.7/lib/python3.7/site-packages/websocket/_core.py\u001b[0m in \u001b[0;36mrecv\u001b[0;34m(self)\u001b[0m\n\u001b[1;32m    312\u001b[0m         \"\"\"\n\u001b[1;32m    313\u001b[0m         \u001b[0;32mwith\u001b[0m \u001b[0mself\u001b[0m\u001b[0;34m.\u001b[0m\u001b[0mreadlock\u001b[0m\u001b[0;34m:\u001b[0m\u001b[0;34m\u001b[0m\u001b[0;34m\u001b[0m\u001b[0m\n\u001b[0;32m--> 314\u001b[0;31m             \u001b[0mopcode\u001b[0m\u001b[0;34m,\u001b[0m \u001b[0mdata\u001b[0m \u001b[0;34m=\u001b[0m \u001b[0mself\u001b[0m\u001b[0;34m.\u001b[0m\u001b[0mrecv_data\u001b[0m\u001b[0;34m(\u001b[0m\u001b[0;34m)\u001b[0m\u001b[0;34m\u001b[0m\u001b[0;34m\u001b[0m\u001b[0m\n\u001b[0m\u001b[1;32m    315\u001b[0m         \u001b[0;32mif\u001b[0m \u001b[0msix\u001b[0m\u001b[0;34m.\u001b[0m\u001b[0mPY3\u001b[0m \u001b[0;32mand\u001b[0m \u001b[0mopcode\u001b[0m \u001b[0;34m==\u001b[0m \u001b[0mABNF\u001b[0m\u001b[0;34m.\u001b[0m\u001b[0mOPCODE_TEXT\u001b[0m\u001b[0;34m:\u001b[0m\u001b[0;34m\u001b[0m\u001b[0;34m\u001b[0m\u001b[0m\n\u001b[1;32m    316\u001b[0m             \u001b[0;32mreturn\u001b[0m \u001b[0mdata\u001b[0m\u001b[0;34m.\u001b[0m\u001b[0mdecode\u001b[0m\u001b[0;34m(\u001b[0m\u001b[0;34m\"utf-8\"\u001b[0m\u001b[0;34m)\u001b[0m\u001b[0;34m\u001b[0m\u001b[0;34m\u001b[0m\u001b[0m\n",
      "\u001b[0;32m/Library/Frameworks/Python.framework/Versions/3.7/lib/python3.7/site-packages/websocket/_core.py\u001b[0m in \u001b[0;36mrecv_data\u001b[0;34m(self, control_frame)\u001b[0m\n\u001b[1;32m    329\u001b[0m         \u001b[0;32mreturn\u001b[0m  \u001b[0mvalue\u001b[0m\u001b[0;34m:\u001b[0m \u001b[0mtuple\u001b[0m \u001b[0mof\u001b[0m \u001b[0moperation\u001b[0m \u001b[0mcode\u001b[0m \u001b[0;32mand\u001b[0m \u001b[0mstring\u001b[0m\u001b[0;34m(\u001b[0m\u001b[0mbyte\u001b[0m \u001b[0marray\u001b[0m\u001b[0;34m)\u001b[0m \u001b[0mvalue\u001b[0m\u001b[0;34m.\u001b[0m\u001b[0;34m\u001b[0m\u001b[0;34m\u001b[0m\u001b[0m\n\u001b[1;32m    330\u001b[0m         \"\"\"\n\u001b[0;32m--> 331\u001b[0;31m         \u001b[0mopcode\u001b[0m\u001b[0;34m,\u001b[0m \u001b[0mframe\u001b[0m \u001b[0;34m=\u001b[0m \u001b[0mself\u001b[0m\u001b[0;34m.\u001b[0m\u001b[0mrecv_data_frame\u001b[0m\u001b[0;34m(\u001b[0m\u001b[0mcontrol_frame\u001b[0m\u001b[0;34m)\u001b[0m\u001b[0;34m\u001b[0m\u001b[0;34m\u001b[0m\u001b[0m\n\u001b[0m\u001b[1;32m    332\u001b[0m         \u001b[0;32mreturn\u001b[0m \u001b[0mopcode\u001b[0m\u001b[0;34m,\u001b[0m \u001b[0mframe\u001b[0m\u001b[0;34m.\u001b[0m\u001b[0mdata\u001b[0m\u001b[0;34m\u001b[0m\u001b[0;34m\u001b[0m\u001b[0m\n\u001b[1;32m    333\u001b[0m \u001b[0;34m\u001b[0m\u001b[0m\n",
      "\u001b[0;32m/Library/Frameworks/Python.framework/Versions/3.7/lib/python3.7/site-packages/websocket/_core.py\u001b[0m in \u001b[0;36mrecv_data_frame\u001b[0;34m(self, control_frame)\u001b[0m\n\u001b[1;32m    342\u001b[0m         \"\"\"\n\u001b[1;32m    343\u001b[0m         \u001b[0;32mwhile\u001b[0m \u001b[0;32mTrue\u001b[0m\u001b[0;34m:\u001b[0m\u001b[0;34m\u001b[0m\u001b[0;34m\u001b[0m\u001b[0m\n\u001b[0;32m--> 344\u001b[0;31m             \u001b[0mframe\u001b[0m \u001b[0;34m=\u001b[0m \u001b[0mself\u001b[0m\u001b[0;34m.\u001b[0m\u001b[0mrecv_frame\u001b[0m\u001b[0;34m(\u001b[0m\u001b[0;34m)\u001b[0m\u001b[0;34m\u001b[0m\u001b[0;34m\u001b[0m\u001b[0m\n\u001b[0m\u001b[1;32m    345\u001b[0m             \u001b[0;32mif\u001b[0m \u001b[0;32mnot\u001b[0m \u001b[0mframe\u001b[0m\u001b[0;34m:\u001b[0m\u001b[0;34m\u001b[0m\u001b[0;34m\u001b[0m\u001b[0m\n\u001b[1;32m    346\u001b[0m                 \u001b[0;31m# handle error:\u001b[0m\u001b[0;34m\u001b[0m\u001b[0;34m\u001b[0m\u001b[0;34m\u001b[0m\u001b[0m\n",
      "\u001b[0;32m/Library/Frameworks/Python.framework/Versions/3.7/lib/python3.7/site-packages/websocket/_core.py\u001b[0m in \u001b[0;36mrecv_frame\u001b[0;34m(self)\u001b[0m\n\u001b[1;32m    376\u001b[0m         \u001b[0;32mreturn\u001b[0m \u001b[0mvalue\u001b[0m\u001b[0;34m:\u001b[0m \u001b[0mABNF\u001b[0m \u001b[0mframe\u001b[0m \u001b[0mobject\u001b[0m\u001b[0;34m.\u001b[0m\u001b[0;34m\u001b[0m\u001b[0;34m\u001b[0m\u001b[0m\n\u001b[1;32m    377\u001b[0m         \"\"\"\n\u001b[0;32m--> 378\u001b[0;31m         \u001b[0;32mreturn\u001b[0m \u001b[0mself\u001b[0m\u001b[0;34m.\u001b[0m\u001b[0mframe_buffer\u001b[0m\u001b[0;34m.\u001b[0m\u001b[0mrecv_frame\u001b[0m\u001b[0;34m(\u001b[0m\u001b[0;34m)\u001b[0m\u001b[0;34m\u001b[0m\u001b[0;34m\u001b[0m\u001b[0m\n\u001b[0m\u001b[1;32m    379\u001b[0m \u001b[0;34m\u001b[0m\u001b[0m\n\u001b[1;32m    380\u001b[0m     \u001b[0;32mdef\u001b[0m \u001b[0msend_close\u001b[0m\u001b[0;34m(\u001b[0m\u001b[0mself\u001b[0m\u001b[0;34m,\u001b[0m \u001b[0mstatus\u001b[0m\u001b[0;34m=\u001b[0m\u001b[0mSTATUS_NORMAL\u001b[0m\u001b[0;34m,\u001b[0m \u001b[0mreason\u001b[0m\u001b[0;34m=\u001b[0m\u001b[0msix\u001b[0m\u001b[0;34m.\u001b[0m\u001b[0mb\u001b[0m\u001b[0;34m(\u001b[0m\u001b[0;34m\"\"\u001b[0m\u001b[0;34m)\u001b[0m\u001b[0;34m)\u001b[0m\u001b[0;34m:\u001b[0m\u001b[0;34m\u001b[0m\u001b[0;34m\u001b[0m\u001b[0m\n",
      "\u001b[0;32m/Library/Frameworks/Python.framework/Versions/3.7/lib/python3.7/site-packages/websocket/_abnf.py\u001b[0m in \u001b[0;36mrecv_frame\u001b[0;34m(self)\u001b[0m\n\u001b[1;32m    359\u001b[0m             \u001b[0;31m# Header\u001b[0m\u001b[0;34m\u001b[0m\u001b[0;34m\u001b[0m\u001b[0;34m\u001b[0m\u001b[0m\n\u001b[1;32m    360\u001b[0m             \u001b[0;32mif\u001b[0m \u001b[0mself\u001b[0m\u001b[0;34m.\u001b[0m\u001b[0mhas_received_header\u001b[0m\u001b[0;34m(\u001b[0m\u001b[0;34m)\u001b[0m\u001b[0;34m:\u001b[0m\u001b[0;34m\u001b[0m\u001b[0;34m\u001b[0m\u001b[0m\n\u001b[0;32m--> 361\u001b[0;31m                 \u001b[0mself\u001b[0m\u001b[0;34m.\u001b[0m\u001b[0mrecv_header\u001b[0m\u001b[0;34m(\u001b[0m\u001b[0;34m)\u001b[0m\u001b[0;34m\u001b[0m\u001b[0;34m\u001b[0m\u001b[0m\n\u001b[0m\u001b[1;32m    362\u001b[0m             \u001b[0;34m(\u001b[0m\u001b[0mfin\u001b[0m\u001b[0;34m,\u001b[0m \u001b[0mrsv1\u001b[0m\u001b[0;34m,\u001b[0m \u001b[0mrsv2\u001b[0m\u001b[0;34m,\u001b[0m \u001b[0mrsv3\u001b[0m\u001b[0;34m,\u001b[0m \u001b[0mopcode\u001b[0m\u001b[0;34m,\u001b[0m \u001b[0mhas_mask\u001b[0m\u001b[0;34m,\u001b[0m \u001b[0m_\u001b[0m\u001b[0;34m)\u001b[0m \u001b[0;34m=\u001b[0m \u001b[0mself\u001b[0m\u001b[0;34m.\u001b[0m\u001b[0mheader\u001b[0m\u001b[0;34m\u001b[0m\u001b[0;34m\u001b[0m\u001b[0m\n\u001b[1;32m    363\u001b[0m \u001b[0;34m\u001b[0m\u001b[0m\n",
      "\u001b[0;32m/Library/Frameworks/Python.framework/Versions/3.7/lib/python3.7/site-packages/websocket/_abnf.py\u001b[0m in \u001b[0;36mrecv_header\u001b[0;34m(self)\u001b[0m\n\u001b[1;32m    307\u001b[0m \u001b[0;34m\u001b[0m\u001b[0m\n\u001b[1;32m    308\u001b[0m     \u001b[0;32mdef\u001b[0m \u001b[0mrecv_header\u001b[0m\u001b[0;34m(\u001b[0m\u001b[0mself\u001b[0m\u001b[0;34m)\u001b[0m\u001b[0;34m:\u001b[0m\u001b[0;34m\u001b[0m\u001b[0;34m\u001b[0m\u001b[0m\n\u001b[0;32m--> 309\u001b[0;31m         \u001b[0mheader\u001b[0m \u001b[0;34m=\u001b[0m \u001b[0mself\u001b[0m\u001b[0;34m.\u001b[0m\u001b[0mrecv_strict\u001b[0m\u001b[0;34m(\u001b[0m\u001b[0;36m2\u001b[0m\u001b[0;34m)\u001b[0m\u001b[0;34m\u001b[0m\u001b[0;34m\u001b[0m\u001b[0m\n\u001b[0m\u001b[1;32m    310\u001b[0m         \u001b[0mb1\u001b[0m \u001b[0;34m=\u001b[0m \u001b[0mheader\u001b[0m\u001b[0;34m[\u001b[0m\u001b[0;36m0\u001b[0m\u001b[0;34m]\u001b[0m\u001b[0;34m\u001b[0m\u001b[0;34m\u001b[0m\u001b[0m\n\u001b[1;32m    311\u001b[0m \u001b[0;34m\u001b[0m\u001b[0m\n",
      "\u001b[0;32m/Library/Frameworks/Python.framework/Versions/3.7/lib/python3.7/site-packages/websocket/_abnf.py\u001b[0m in \u001b[0;36mrecv_strict\u001b[0;34m(self, bufsize)\u001b[0m\n\u001b[1;32m    394\u001b[0m             \u001b[0;31m# buffers allocated and then shrunk, which results in\u001b[0m\u001b[0;34m\u001b[0m\u001b[0;34m\u001b[0m\u001b[0;34m\u001b[0m\u001b[0m\n\u001b[1;32m    395\u001b[0m             \u001b[0;31m# fragmentation.\u001b[0m\u001b[0;34m\u001b[0m\u001b[0;34m\u001b[0m\u001b[0;34m\u001b[0m\u001b[0m\n\u001b[0;32m--> 396\u001b[0;31m             \u001b[0mbytes_\u001b[0m \u001b[0;34m=\u001b[0m \u001b[0mself\u001b[0m\u001b[0;34m.\u001b[0m\u001b[0mrecv\u001b[0m\u001b[0;34m(\u001b[0m\u001b[0mmin\u001b[0m\u001b[0;34m(\u001b[0m\u001b[0;36m16384\u001b[0m\u001b[0;34m,\u001b[0m \u001b[0mshortage\u001b[0m\u001b[0;34m)\u001b[0m\u001b[0;34m)\u001b[0m\u001b[0;34m\u001b[0m\u001b[0;34m\u001b[0m\u001b[0m\n\u001b[0m\u001b[1;32m    397\u001b[0m             \u001b[0mself\u001b[0m\u001b[0;34m.\u001b[0m\u001b[0mrecv_buffer\u001b[0m\u001b[0;34m.\u001b[0m\u001b[0mappend\u001b[0m\u001b[0;34m(\u001b[0m\u001b[0mbytes_\u001b[0m\u001b[0;34m)\u001b[0m\u001b[0;34m\u001b[0m\u001b[0;34m\u001b[0m\u001b[0m\n\u001b[1;32m    398\u001b[0m             \u001b[0mshortage\u001b[0m \u001b[0;34m-=\u001b[0m \u001b[0mlen\u001b[0m\u001b[0;34m(\u001b[0m\u001b[0mbytes_\u001b[0m\u001b[0;34m)\u001b[0m\u001b[0;34m\u001b[0m\u001b[0;34m\u001b[0m\u001b[0m\n",
      "\u001b[0;32m/Library/Frameworks/Python.framework/Versions/3.7/lib/python3.7/site-packages/websocket/_core.py\u001b[0m in \u001b[0;36m_recv\u001b[0;34m(self, bufsize)\u001b[0m\n\u001b[1;32m    451\u001b[0m     \u001b[0;32mdef\u001b[0m \u001b[0m_recv\u001b[0m\u001b[0;34m(\u001b[0m\u001b[0mself\u001b[0m\u001b[0;34m,\u001b[0m \u001b[0mbufsize\u001b[0m\u001b[0;34m)\u001b[0m\u001b[0;34m:\u001b[0m\u001b[0;34m\u001b[0m\u001b[0;34m\u001b[0m\u001b[0m\n\u001b[1;32m    452\u001b[0m         \u001b[0;32mtry\u001b[0m\u001b[0;34m:\u001b[0m\u001b[0;34m\u001b[0m\u001b[0;34m\u001b[0m\u001b[0m\n\u001b[0;32m--> 453\u001b[0;31m             \u001b[0;32mreturn\u001b[0m \u001b[0mrecv\u001b[0m\u001b[0;34m(\u001b[0m\u001b[0mself\u001b[0m\u001b[0;34m.\u001b[0m\u001b[0msock\u001b[0m\u001b[0;34m,\u001b[0m \u001b[0mbufsize\u001b[0m\u001b[0;34m)\u001b[0m\u001b[0;34m\u001b[0m\u001b[0;34m\u001b[0m\u001b[0m\n\u001b[0m\u001b[1;32m    454\u001b[0m         \u001b[0;32mexcept\u001b[0m \u001b[0mWebSocketConnectionClosedException\u001b[0m\u001b[0;34m:\u001b[0m\u001b[0;34m\u001b[0m\u001b[0;34m\u001b[0m\u001b[0m\n\u001b[1;32m    455\u001b[0m             \u001b[0;32mif\u001b[0m \u001b[0mself\u001b[0m\u001b[0;34m.\u001b[0m\u001b[0msock\u001b[0m\u001b[0;34m:\u001b[0m\u001b[0;34m\u001b[0m\u001b[0;34m\u001b[0m\u001b[0m\n",
      "\u001b[0;32m/Library/Frameworks/Python.framework/Versions/3.7/lib/python3.7/site-packages/websocket/_socket.py\u001b[0m in \u001b[0;36mrecv\u001b[0;34m(sock, bufsize)\u001b[0m\n\u001b[1;32m    100\u001b[0m             \u001b[0mbytes_\u001b[0m \u001b[0;34m=\u001b[0m \u001b[0msock\u001b[0m\u001b[0;34m.\u001b[0m\u001b[0mrecv\u001b[0m\u001b[0;34m(\u001b[0m\u001b[0mbufsize\u001b[0m\u001b[0;34m)\u001b[0m\u001b[0;34m\u001b[0m\u001b[0;34m\u001b[0m\u001b[0m\n\u001b[1;32m    101\u001b[0m         \u001b[0;32melse\u001b[0m\u001b[0;34m:\u001b[0m\u001b[0;34m\u001b[0m\u001b[0;34m\u001b[0m\u001b[0m\n\u001b[0;32m--> 102\u001b[0;31m             \u001b[0mbytes_\u001b[0m \u001b[0;34m=\u001b[0m \u001b[0m_recv\u001b[0m\u001b[0;34m(\u001b[0m\u001b[0;34m)\u001b[0m\u001b[0;34m\u001b[0m\u001b[0;34m\u001b[0m\u001b[0m\n\u001b[0m\u001b[1;32m    103\u001b[0m     \u001b[0;32mexcept\u001b[0m \u001b[0msocket\u001b[0m\u001b[0;34m.\u001b[0m\u001b[0mtimeout\u001b[0m \u001b[0;32mas\u001b[0m \u001b[0me\u001b[0m\u001b[0;34m:\u001b[0m\u001b[0;34m\u001b[0m\u001b[0;34m\u001b[0m\u001b[0m\n\u001b[1;32m    104\u001b[0m         \u001b[0mmessage\u001b[0m \u001b[0;34m=\u001b[0m \u001b[0mextract_err_message\u001b[0m\u001b[0;34m(\u001b[0m\u001b[0me\u001b[0m\u001b[0;34m)\u001b[0m\u001b[0;34m\u001b[0m\u001b[0;34m\u001b[0m\u001b[0m\n",
      "\u001b[0;32m/Library/Frameworks/Python.framework/Versions/3.7/lib/python3.7/site-packages/websocket/_socket.py\u001b[0m in \u001b[0;36m_recv\u001b[0;34m()\u001b[0m\n\u001b[1;32m     82\u001b[0m     \u001b[0;32mdef\u001b[0m \u001b[0m_recv\u001b[0m\u001b[0;34m(\u001b[0m\u001b[0;34m)\u001b[0m\u001b[0;34m:\u001b[0m\u001b[0;34m\u001b[0m\u001b[0;34m\u001b[0m\u001b[0m\n\u001b[1;32m     83\u001b[0m         \u001b[0;32mtry\u001b[0m\u001b[0;34m:\u001b[0m\u001b[0;34m\u001b[0m\u001b[0;34m\u001b[0m\u001b[0m\n\u001b[0;32m---> 84\u001b[0;31m             \u001b[0;32mreturn\u001b[0m \u001b[0msock\u001b[0m\u001b[0;34m.\u001b[0m\u001b[0mrecv\u001b[0m\u001b[0;34m(\u001b[0m\u001b[0mbufsize\u001b[0m\u001b[0;34m)\u001b[0m\u001b[0;34m\u001b[0m\u001b[0;34m\u001b[0m\u001b[0m\n\u001b[0m\u001b[1;32m     85\u001b[0m         \u001b[0;32mexcept\u001b[0m \u001b[0mSSLWantReadError\u001b[0m\u001b[0;34m:\u001b[0m\u001b[0;34m\u001b[0m\u001b[0;34m\u001b[0m\u001b[0m\n\u001b[1;32m     86\u001b[0m             \u001b[0;32mpass\u001b[0m\u001b[0;34m\u001b[0m\u001b[0;34m\u001b[0m\u001b[0m\n",
      "\u001b[0;31mTimeoutError\u001b[0m: [Errno 60] Operation timed out"
     ]
    },
    {
     "name": "stdout",
     "output_type": "stream",
     "text": [
      "{\"orgId\":\"o15897810838641\",\"modelId\":\"VPP_Grid\",\"modelIdPath\":\"/VPP_Grid\",\"payload\":[{\"assetId\":\"G3qdKBUw\",\"time\":1619154000000,\"points\":\"{\\\"active_power\\\":19.074350586,\\\"average_power\\\":18.862}\"}]}\n"
     ]
    },
    {
     "name": "stderr",
     "output_type": "stream",
     "text": [
      "DEBUG:enos_subscribe.core:Commit Offsets: commits {\n",
      "  topic: \"SUBSCRIPTION_sub-1599055477895\"\n",
      "  partition: 1\n",
      "  offset: 3\n",
      "}\n",
      "\n"
     ]
    },
    {
     "name": "stdout",
     "output_type": "stream",
     "text": [
      "{\"orgId\":\"o15897810838641\",\"modelId\":\"VPP_Grid\",\"modelIdPath\":\"/VPP_Grid\",\"payload\":[{\"assetId\":\"G3qdKBUw\",\"time\":1619155800000,\"points\":\"{\\\"active_power\\\":19.84089502,\\\"average_power\\\":19.552}\"}]}\n"
     ]
    },
    {
     "name": "stderr",
     "output_type": "stream",
     "text": [
      "DEBUG:enos_subscribe.core:Commit Offsets: commits {\n",
      "  topic: \"SUBSCRIPTION_sub-1599055477895\"\n",
      "  partition: 1\n",
      "  offset: 4\n",
      "}\n",
      "\n"
     ]
    },
    {
     "name": "stdout",
     "output_type": "stream",
     "text": [
      "{\"orgId\":\"o15897810838641\",\"modelId\":\"VPP_Grid\",\"modelIdPath\":\"/VPP_Grid\",\"payload\":[{\"assetId\":\"G3qdKBUw\",\"time\":1619155800000,\"points\":\"{\\\"active_power\\\":19.84089502,\\\"average_power\\\":19.552}\"}]}\n"
     ]
    },
    {
     "name": "stderr",
     "output_type": "stream",
     "text": [
      "DEBUG:enos_subscribe.core:Commit Offsets: commits {\n",
      "  topic: \"SUBSCRIPTION_sub-1599055477895\"\n",
      "  partition: 1\n",
      "  offset: 5\n",
      "}\n",
      "\n"
     ]
    },
    {
     "name": "stdout",
     "output_type": "stream",
     "text": [
      "{\"orgId\":\"o15897810838641\",\"modelId\":\"VPP_Grid\",\"modelIdPath\":\"/VPP_Grid\",\"payload\":[{\"assetId\":\"G3qdKBUw\",\"time\":1619157600000,\"points\":\"{\\\"active_power\\\":19.784233398,\\\"average_power\\\":19.951}\"}]}\n"
     ]
    },
    {
     "name": "stderr",
     "output_type": "stream",
     "text": [
      "DEBUG:enos_subscribe.core:Commit Offsets: commits {\n",
      "  topic: \"SUBSCRIPTION_sub-1599055477895\"\n",
      "  partition: 1\n",
      "  offset: 6\n",
      "}\n",
      "\n"
     ]
    },
    {
     "name": "stdout",
     "output_type": "stream",
     "text": [
      "{\"orgId\":\"o15897810838641\",\"modelId\":\"VPP_Grid\",\"modelIdPath\":\"/VPP_Grid\",\"payload\":[{\"assetId\":\"G3qdKBUw\",\"time\":1619157600000,\"points\":\"{\\\"active_power\\\":19.784233398,\\\"average_power\\\":19.951}\"}]}\n"
     ]
    },
    {
     "name": "stderr",
     "output_type": "stream",
     "text": [
      "DEBUG:enos_subscribe.core:Commit Offsets: commits {\n",
      "  topic: \"SUBSCRIPTION_sub-1599055477895\"\n",
      "  partition: 1\n",
      "  offset: 7\n",
      "}\n",
      "\n"
     ]
    },
    {
     "name": "stdout",
     "output_type": "stream",
     "text": [
      "{\"orgId\":\"o15897810838641\",\"modelId\":\"VPP_Grid\",\"modelIdPath\":\"/VPP_Grid\",\"payload\":[{\"assetId\":\"G3qdKBUw\",\"time\":1619159400000,\"points\":\"{\\\"active_power\\\":21.138425292,\\\"average_power\\\":20.883}\"}]}\n"
     ]
    },
    {
     "name": "stderr",
     "output_type": "stream",
     "text": [
      "DEBUG:enos_subscribe.core:Commit Offsets: commits {\n",
      "  topic: \"SUBSCRIPTION_sub-1599055477895\"\n",
      "  partition: 1\n",
      "  offset: 8\n",
      "}\n",
      "\n"
     ]
    },
    {
     "name": "stdout",
     "output_type": "stream",
     "text": [
      "{\"orgId\":\"o15897810838641\",\"modelId\":\"VPP_Grid\",\"modelIdPath\":\"/VPP_Grid\",\"payload\":[{\"assetId\":\"G3qdKBUw\",\"time\":1619159400000,\"points\":\"{\\\"active_power\\\":21.138425292,\\\"average_power\\\":20.883}\"}]}\n"
     ]
    },
    {
     "name": "stderr",
     "output_type": "stream",
     "text": [
      "DEBUG:enos_subscribe.core:Commit Offsets: commits {\n",
      "  topic: \"SUBSCRIPTION_sub-1599055477895\"\n",
      "  partition: 1\n",
      "  offset: 9\n",
      "}\n",
      "\n"
     ]
    },
    {
     "name": "stdout",
     "output_type": "stream",
     "text": [
      "{\"orgId\":\"o15897810838641\",\"modelId\":\"VPP_Grid\",\"modelIdPath\":\"/VPP_Grid\",\"payload\":[{\"assetId\":\"G3qdKBUw\",\"time\":1619161200000,\"points\":\"{\\\"active_power\\\":19.867711425,\\\"average_power\\\":20.2255}\"}]}\n"
     ]
    },
    {
     "name": "stderr",
     "output_type": "stream",
     "text": [
      "DEBUG:enos_subscribe.core:Commit Offsets: commits {\n",
      "  topic: \"SUBSCRIPTION_sub-1599055477895\"\n",
      "  partition: 1\n",
      "  offset: 10\n",
      "}\n",
      "\n"
     ]
    },
    {
     "name": "stdout",
     "output_type": "stream",
     "text": [
      "{\"orgId\":\"o15897810838641\",\"modelId\":\"VPP_Grid\",\"modelIdPath\":\"/VPP_Grid\",\"payload\":[{\"assetId\":\"G3qdKBUw\",\"time\":1619161200000,\"points\":\"{\\\"active_power\\\":19.867711425,\\\"average_power\\\":20.2255}\"}]}\n"
     ]
    },
    {
     "name": "stderr",
     "output_type": "stream",
     "text": [
      "DEBUG:enos_subscribe.core:Commit Offsets: commits {\n",
      "  topic: \"SUBSCRIPTION_sub-1599055477895\"\n",
      "  partition: 1\n",
      "  offset: 11\n",
      "}\n",
      "\n"
     ]
    },
    {
     "name": "stdout",
     "output_type": "stream",
     "text": [
      "{\"orgId\":\"o15897810838641\",\"modelId\":\"VPP_Grid\",\"modelIdPath\":\"/VPP_Grid\",\"payload\":[{\"assetId\":\"G3qdKBUw\",\"time\":1619163000000,\"points\":\"{\\\"active_power\\\":20.899423341,\\\"average_power\\\":20.557}\"}]}\n"
     ]
    },
    {
     "name": "stderr",
     "output_type": "stream",
     "text": [
      "DEBUG:enos_subscribe.core:Commit Offsets: commits {\n",
      "  topic: \"SUBSCRIPTION_sub-1599055477895\"\n",
      "  partition: 1\n",
      "  offset: 12\n",
      "}\n",
      "\n"
     ]
    },
    {
     "name": "stdout",
     "output_type": "stream",
     "text": [
      "{\"orgId\":\"o15897810838641\",\"modelId\":\"VPP_Grid\",\"modelIdPath\":\"/VPP_Grid\",\"payload\":[{\"assetId\":\"G3qdKBUw\",\"time\":1619163000000,\"points\":\"{\\\"active_power\\\":20.899423341,\\\"average_power\\\":20.557}\"}]}\n"
     ]
    },
    {
     "name": "stderr",
     "output_type": "stream",
     "text": [
      "DEBUG:enos_subscribe.core:Commit Offsets: commits {\n",
      "  topic: \"SUBSCRIPTION_sub-1599055477895\"\n",
      "  partition: 1\n",
      "  offset: 13\n",
      "}\n",
      "\n"
     ]
    },
    {
     "name": "stdout",
     "output_type": "stream",
     "text": [
      "{\"orgId\":\"o15897810838641\",\"modelId\":\"VPP_Grid\",\"modelIdPath\":\"/VPP_Grid\",\"payload\":[{\"assetId\":\"G3qdKBUw\",\"time\":1619164800000,\"points\":\"{\\\"active_power\\\":19.539114258,\\\"average_power\\\":20.167}\"}]}\n"
     ]
    },
    {
     "name": "stderr",
     "output_type": "stream",
     "text": [
      "DEBUG:enos_subscribe.core:Commit Offsets: commits {\n",
      "  topic: \"SUBSCRIPTION_sub-1599055477895\"\n",
      "  partition: 1\n",
      "  offset: 14\n",
      "}\n",
      "\n"
     ]
    },
    {
     "name": "stdout",
     "output_type": "stream",
     "text": [
      "{\"orgId\":\"o15897810838641\",\"modelId\":\"VPP_Grid\",\"modelIdPath\":\"/VPP_Grid\",\"payload\":[{\"assetId\":\"G3qdKBUw\",\"time\":1619164800000,\"points\":\"{\\\"active_power\\\":19.539114258,\\\"average_power\\\":20.167}\"}]}\n"
     ]
    },
    {
     "name": "stderr",
     "output_type": "stream",
     "text": [
      "DEBUG:enos_subscribe.core:Commit Offsets: commits {\n",
      "  topic: \"SUBSCRIPTION_sub-1599055477895\"\n",
      "  partition: 1\n",
      "  offset: 15\n",
      "}\n",
      "\n"
     ]
    },
    {
     "name": "stdout",
     "output_type": "stream",
     "text": [
      "{\"orgId\":\"o15897810838641\",\"modelId\":\"VPP_Grid\",\"modelIdPath\":\"/VPP_Grid\",\"payload\":[{\"assetId\":\"G3qdKBUw\",\"time\":1619166600000,\"points\":\"{\\\"active_power\\\":20.003321289000002,\\\"average_power\\\":19.823}\"}]}\n"
     ]
    },
    {
     "name": "stderr",
     "output_type": "stream",
     "text": [
      "DEBUG:enos_subscribe.core:Commit Offsets: commits {\n",
      "  topic: \"SUBSCRIPTION_sub-1599055477895\"\n",
      "  partition: 1\n",
      "  offset: 16\n",
      "}\n",
      "\n"
     ]
    },
    {
     "name": "stdout",
     "output_type": "stream",
     "text": [
      "{\"orgId\":\"o15897810838641\",\"modelId\":\"VPP_Grid\",\"modelIdPath\":\"/VPP_Grid\",\"payload\":[{\"assetId\":\"G3qdKBUw\",\"time\":1619166600000,\"points\":\"{\\\"active_power\\\":20.003321289000002,\\\"average_power\\\":19.823}\"}]}\n"
     ]
    },
    {
     "name": "stderr",
     "output_type": "stream",
     "text": [
      "DEBUG:enos_subscribe.core:Commit Offsets: commits {\n",
      "  topic: \"SUBSCRIPTION_sub-1599055477895\"\n",
      "  partition: 1\n",
      "  offset: 17\n",
      "}\n",
      "\n"
     ]
    },
    {
     "name": "stdout",
     "output_type": "stream",
     "text": [
      "{\"orgId\":\"o15897810838641\",\"modelId\":\"VPP_Grid\",\"modelIdPath\":\"/VPP_Grid\",\"payload\":[{\"assetId\":\"G3qdKBUw\",\"time\":1619168400000,\"points\":\"{\\\"active_power\\\":20.119259277,\\\"average_power\\\":20.2495}\"}]}\n"
     ]
    },
    {
     "name": "stderr",
     "output_type": "stream",
     "text": [
      "DEBUG:enos_subscribe.core:Commit Offsets: commits {\n",
      "  topic: \"SUBSCRIPTION_sub-1599055477895\"\n",
      "  partition: 1\n",
      "  offset: 18\n",
      "}\n",
      "\n"
     ]
    },
    {
     "name": "stdout",
     "output_type": "stream",
     "text": [
      "{\"orgId\":\"o15897810838641\",\"modelId\":\"VPP_Grid\",\"modelIdPath\":\"/VPP_Grid\",\"payload\":[{\"assetId\":\"G3qdKBUw\",\"time\":1619168400000,\"points\":\"{\\\"active_power\\\":20.119259277,\\\"average_power\\\":20.2495}\"}]}\n"
     ]
    },
    {
     "name": "stderr",
     "output_type": "stream",
     "text": [
      "DEBUG:enos_subscribe.core:Commit Offsets: commits {\n",
      "  topic: \"SUBSCRIPTION_sub-1599055477895\"\n",
      "  partition: 1\n",
      "  offset: 19\n",
      "}\n",
      "\n"
     ]
    },
    {
     "name": "stdout",
     "output_type": "stream",
     "text": [
      "{\"orgId\":\"o15897810838641\",\"modelId\":\"VPP_EMMS\",\"modelIdPath\":\"/VPP_EMMS\",\"payload\":[{\"assetId\":\"f2U0fnOf\",\"time\":1619154000000,\"points\":\"{\\\"usep_price\\\":86.88,\\\"fr_price\\\":1.33}\"}]}\n"
     ]
    },
    {
     "name": "stderr",
     "output_type": "stream",
     "text": [
      "DEBUG:enos_subscribe.core:Commit Offsets: commits {\n",
      "  topic: \"SUBSCRIPTION_sub-1599055477895\"\n",
      "  partition: 2\n",
      "  offset: 206\n",
      "}\n",
      "\n"
     ]
    },
    {
     "name": "stdout",
     "output_type": "stream",
     "text": [
      "{\"orgId\":\"o15897810838641\",\"modelId\":\"VPP_EMMS\",\"modelIdPath\":\"/VPP_EMMS\",\"payload\":[{\"assetId\":\"f2U0fnOf\",\"time\":1619159400000,\"points\":\"{\\\"b_q\\\":0.77,\\\"b_p\\\":4.79}\"}]}\n"
     ]
    },
    {
     "name": "stderr",
     "output_type": "stream",
     "text": [
      "DEBUG:enos_subscribe.core:Commit Offsets: commits {\n",
      "  topic: \"SUBSCRIPTION_sub-1599055477895\"\n",
      "  partition: 2\n",
      "  offset: 207\n",
      "}\n",
      "\n"
     ]
    },
    {
     "name": "stdout",
     "output_type": "stream",
     "text": [
      "{\"orgId\":\"o15897810838641\",\"modelId\":\"VPP_BESS\",\"modelIdPath\":\"/VPP_BESS\",\"payload\":[{\"assetId\":\"kN8bRrzG\",\"time\":1619155800000,\"points\":\"{\\\"discharge_energy_interval\\\":0,\\\"charge_energy_interval\\\":0}\"}]}\n"
     ]
    },
    {
     "name": "stderr",
     "output_type": "stream",
     "text": [
      "DEBUG:enos_subscribe.core:Commit Offsets: commits {\n",
      "  topic: \"SUBSCRIPTION_sub-1599055477895\"\n",
      "  partition: 2\n",
      "  offset: 208\n",
      "}\n",
      "\n"
     ]
    },
    {
     "name": "stdout",
     "output_type": "stream",
     "text": [
      "{\"orgId\":\"o15897810838641\",\"modelId\":\"VPP_BESS\",\"modelIdPath\":\"/VPP_BESS\",\"payload\":[{\"assetId\":\"kN8bRrzG\",\"time\":1619155800000,\"points\":\"{\\\"active_power\\\":0,\\\"average_charge_power\\\":0,\\\"average_discharge_power\\\":0,\\\"soh\\\":100}\"}]}\n"
     ]
    },
    {
     "name": "stderr",
     "output_type": "stream",
     "text": [
      "DEBUG:enos_subscribe.core:Commit Offsets: commits {\n",
      "  topic: \"SUBSCRIPTION_sub-1599055477895\"\n",
      "  partition: 2\n",
      "  offset: 209\n",
      "}\n",
      "\n"
     ]
    },
    {
     "name": "stdout",
     "output_type": "stream",
     "text": [
      "{\"orgId\":\"o15897810838641\",\"modelId\":\"VPP_BESS\",\"modelIdPath\":\"/VPP_BESS\",\"payload\":[{\"assetId\":\"kN8bRrzG\",\"time\":1619155800000,\"points\":\"{\\\"soc\\\":53}\"}]}\n"
     ]
    },
    {
     "name": "stderr",
     "output_type": "stream",
     "text": [
      "DEBUG:enos_subscribe.core:Commit Offsets: commits {\n",
      "  topic: \"SUBSCRIPTION_sub-1599055477895\"\n",
      "  partition: 2\n",
      "  offset: 210\n",
      "}\n",
      "\n"
     ]
    },
    {
     "name": "stdout",
     "output_type": "stream",
     "text": [
      "{\"orgId\":\"o15897810838641\",\"modelId\":\"VPP_BESS\",\"modelIdPath\":\"/VPP_BESS\",\"payload\":[{\"assetId\":\"kN8bRrzG\",\"time\":1619155800000,\"points\":\"{\\\"charge_cycle_day_es\\\":0.965383,\\\"discharge_energy_day_es\\\":7.683731,\\\"charge_energy_day_es\\\":1.930766,\\\"discharge_cycle_day_es\\\":3.8418655}\"}]}\n"
     ]
    },
    {
     "name": "stderr",
     "output_type": "stream",
     "text": [
      "DEBUG:enos_subscribe.core:Commit Offsets: commits {\n",
      "  topic: \"SUBSCRIPTION_sub-1599055477895\"\n",
      "  partition: 2\n",
      "  offset: 211\n",
      "}\n",
      "\n"
     ]
    },
    {
     "name": "stdout",
     "output_type": "stream",
     "text": [
      "{\"orgId\":\"o15897810838641\",\"modelId\":\"VPP_BESS\",\"modelIdPath\":\"/VPP_BESS\",\"payload\":[{\"assetId\":\"kN8bRrzG\",\"time\":1619155800000,\"points\":\"{\\\"discharge_energy_day_fr\\\":99.48500566,\\\"charge_energy_day_fr\\\":77.89833006,\\\"discharge_cycle_day_fr\\\":49.74250283,\\\"charge_cycle_day_fr\\\":38.94916503}\"}]}\n"
     ]
    },
    {
     "name": "stderr",
     "output_type": "stream",
     "text": [
      "DEBUG:enos_subscribe.core:Commit Offsets: commits {\n",
      "  topic: \"SUBSCRIPTION_sub-1599055477895\"\n",
      "  partition: 2\n",
      "  offset: 212\n",
      "}\n",
      "\n"
     ]
    },
    {
     "name": "stdout",
     "output_type": "stream",
     "text": [
      "{\"orgId\":\"o15897810838641\",\"modelId\":\"VPP_Solar\",\"modelIdPath\":\"/VPP_Solar\",\"payload\":[{\"assetId\":\"F65VAZMG\",\"time\":1619155800000,\"points\":\"{\\\"active_power\\\":3.304195595,\\\"average_power\\\":3.30409}\"}]}\n"
     ]
    },
    {
     "name": "stderr",
     "output_type": "stream",
     "text": [
      "DEBUG:enos_subscribe.core:Commit Offsets: commits {\n",
      "  topic: \"SUBSCRIPTION_sub-1599055477895\"\n",
      "  partition: 2\n",
      "  offset: 213\n",
      "}\n",
      "\n"
     ]
    },
    {
     "name": "stdout",
     "output_type": "stream",
     "text": [
      "{\"orgId\":\"o15897810838641\",\"modelId\":\"VPP_BESS\",\"modelIdPath\":\"/VPP_BESS\",\"payload\":[{\"assetId\":\"kN8bRrzG\",\"time\":1619155800000,\"points\":\"{\\\"active_power\\\":0,\\\"average_charge_power\\\":0,\\\"average_discharge_power\\\":0,\\\"soh\\\":100}\"}]}\n"
     ]
    },
    {
     "name": "stderr",
     "output_type": "stream",
     "text": [
      "DEBUG:enos_subscribe.core:Commit Offsets: commits {\n",
      "  topic: \"SUBSCRIPTION_sub-1599055477895\"\n",
      "  partition: 2\n",
      "  offset: 214\n",
      "}\n",
      "\n"
     ]
    },
    {
     "name": "stdout",
     "output_type": "stream",
     "text": [
      "{\"orgId\":\"o15897810838641\",\"modelId\":\"VPP_EMMS\",\"modelIdPath\":\"/VPP_EMMS\",\"payload\":[{\"assetId\":\"f2U0fnOf\",\"time\":1619155800000,\"points\":\"{\\\"usep_price\\\":89.18,\\\"fr_price\\\":2.58}\"}]}\n"
     ]
    },
    {
     "name": "stderr",
     "output_type": "stream",
     "text": [
      "DEBUG:enos_subscribe.core:Commit Offsets: commits {\n",
      "  topic: \"SUBSCRIPTION_sub-1599055477895\"\n",
      "  partition: 2\n",
      "  offset: 215\n",
      "}\n",
      "\n"
     ]
    },
    {
     "name": "stdout",
     "output_type": "stream",
     "text": [
      "{\"orgId\":\"o15897810838641\",\"modelId\":\"VPP_EMMS\",\"modelIdPath\":\"/VPP_EMMS\",\"payload\":[{\"assetId\":\"f2U0fnOf\",\"time\":1619155800000,\"points\":\"{\\\"market_quantity\\\":126.46}\"}]}\n"
     ]
    },
    {
     "name": "stderr",
     "output_type": "stream",
     "text": [
      "DEBUG:enos_subscribe.core:Commit Offsets: commits {\n",
      "  topic: \"SUBSCRIPTION_sub-1599055477895\"\n",
      "  partition: 2\n",
      "  offset: 216\n",
      "}\n",
      "\n"
     ]
    },
    {
     "name": "stdout",
     "output_type": "stream",
     "text": [
      "{\"orgId\":\"o15897810838641\",\"modelId\":\"VPP_Solar\",\"modelIdPath\":\"/VPP_Solar\",\"payload\":[{\"assetId\":\"F65VAZMG\",\"time\":1619155800000,\"points\":\"{\\\"active_power\\\":3.304195595,\\\"average_power\\\":3.30409}\"}]}\n"
     ]
    },
    {
     "name": "stderr",
     "output_type": "stream",
     "text": [
      "DEBUG:enos_subscribe.core:Commit Offsets: commits {\n",
      "  topic: \"SUBSCRIPTION_sub-1599055477895\"\n",
      "  partition: 2\n",
      "  offset: 217\n",
      "}\n",
      "\n"
     ]
    },
    {
     "name": "stdout",
     "output_type": "stream",
     "text": [
      "{\"orgId\":\"o15897810838641\",\"modelId\":\"VPP_EMMS\",\"modelIdPath\":\"/VPP_EMMS\",\"payload\":[{\"assetId\":\"f2U0fnOf\",\"time\":1619155800000,\"points\":\"{\\\"usep_price\\\":89.18,\\\"fr_price\\\":2.58}\"}]}\n"
     ]
    },
    {
     "name": "stderr",
     "output_type": "stream",
     "text": [
      "DEBUG:enos_subscribe.core:Commit Offsets: commits {\n",
      "  topic: \"SUBSCRIPTION_sub-1599055477895\"\n",
      "  partition: 2\n",
      "  offset: 218\n",
      "}\n",
      "\n"
     ]
    },
    {
     "name": "stdout",
     "output_type": "stream",
     "text": [
      "{\"orgId\":\"o15897810838641\",\"modelId\":\"VPP_Solar\",\"modelIdPath\":\"/VPP_Solar\",\"payload\":[{\"assetId\":\"F65VAZMG\",\"time\":1619083800000,\"points\":\"{\\\"average_power\\\":0.7545100000071}\"}]}\n"
     ]
    },
    {
     "name": "stderr",
     "output_type": "stream",
     "text": [
      "DEBUG:enos_subscribe.core:Commit Offsets: commits {\n",
      "  topic: \"SUBSCRIPTION_sub-1599055477895\"\n",
      "  partition: 2\n",
      "  offset: 219\n",
      "}\n",
      "\n"
     ]
    },
    {
     "name": "stdout",
     "output_type": "stream",
     "text": [
      "{\"orgId\":\"o15897810838641\",\"modelId\":\"VPP_Solar\",\"modelIdPath\":\"/VPP_Solar\",\"payload\":[{\"assetId\":\"F65VAZMG\",\"time\":1619083800000,\"points\":\"{\\\"average_power\\\":0.7545100000071}\"}]}\n"
     ]
    },
    {
     "name": "stderr",
     "output_type": "stream",
     "text": [
      "DEBUG:enos_subscribe.core:Commit Offsets: commits {\n",
      "  topic: \"SUBSCRIPTION_sub-1599055477895\"\n",
      "  partition: 2\n",
      "  offset: 220\n",
      "}\n",
      "\n"
     ]
    },
    {
     "name": "stdout",
     "output_type": "stream",
     "text": [
      "{\"orgId\":\"o15897810838641\",\"modelId\":\"VPP_Solar\",\"modelIdPath\":\"/VPP_Solar\",\"payload\":[{\"assetId\":\"F65VAZMG\",\"time\":1619083800000,\"points\":\"{\\\"average_power\\\":0.7545100000071}\"}]}\n"
     ]
    },
    {
     "name": "stderr",
     "output_type": "stream",
     "text": [
      "DEBUG:enos_subscribe.core:Commit Offsets: commits {\n",
      "  topic: \"SUBSCRIPTION_sub-1599055477895\"\n",
      "  partition: 2\n",
      "  offset: 221\n",
      "}\n",
      "\n"
     ]
    },
    {
     "name": "stdout",
     "output_type": "stream",
     "text": [
      "{\"orgId\":\"o15897810838641\",\"modelId\":\"VPP_Solar\",\"modelIdPath\":\"/VPP_Solar\",\"payload\":[{\"assetId\":\"F65VAZMG\",\"time\":1619082000000,\"points\":\"{\\\"average_power\\\":1.92020199998284}\"}]}\n"
     ]
    },
    {
     "name": "stderr",
     "output_type": "stream",
     "text": [
      "DEBUG:enos_subscribe.core:Commit Offsets: commits {\n",
      "  topic: \"SUBSCRIPTION_sub-1599055477895\"\n",
      "  partition: 2\n",
      "  offset: 222\n",
      "}\n",
      "\n"
     ]
    },
    {
     "name": "stdout",
     "output_type": "stream",
     "text": [
      "{\"orgId\":\"o15897810838641\",\"modelId\":\"VPP_EMMS\",\"modelIdPath\":\"/VPP_EMMS\",\"payload\":[{\"assetId\":\"f2U0fnOf\",\"time\":1619161200000,\"points\":\"{\\\"b_q\\\":0.77,\\\"b_p\\\":4.79}\"}]}\n"
     ]
    },
    {
     "name": "stderr",
     "output_type": "stream",
     "text": [
      "DEBUG:enos_subscribe.core:Commit Offsets: commits {\n",
      "  topic: \"SUBSCRIPTION_sub-1599055477895\"\n",
      "  partition: 2\n",
      "  offset: 223\n",
      "}\n",
      "\n"
     ]
    },
    {
     "name": "stdout",
     "output_type": "stream",
     "text": [
      "{\"orgId\":\"o15897810838641\",\"modelId\":\"VPP_Solar\",\"modelIdPath\":\"/VPP_Solar\",\"payload\":[{\"assetId\":\"F65VAZMG\",\"time\":1619082000000,\"points\":\"{\\\"average_power\\\":1.92020199998284}\"}]}\n"
     ]
    },
    {
     "name": "stderr",
     "output_type": "stream",
     "text": [
      "DEBUG:enos_subscribe.core:Commit Offsets: commits {\n",
      "  topic: \"SUBSCRIPTION_sub-1599055477895\"\n",
      "  partition: 2\n",
      "  offset: 224\n",
      "}\n",
      "\n"
     ]
    },
    {
     "name": "stdout",
     "output_type": "stream",
     "text": [
      "{\"orgId\":\"o15897810838641\",\"modelId\":\"VPP_Solar\",\"modelIdPath\":\"/VPP_Solar\",\"payload\":[{\"assetId\":\"F65VAZMG\",\"time\":1619082000000,\"points\":\"{\\\"average_power\\\":1.92020199998284}\"}]}\n"
     ]
    },
    {
     "name": "stderr",
     "output_type": "stream",
     "text": [
      "DEBUG:enos_subscribe.core:Commit Offsets: commits {\n",
      "  topic: \"SUBSCRIPTION_sub-1599055477895\"\n",
      "  partition: 2\n",
      "  offset: 225\n",
      "}\n",
      "\n"
     ]
    },
    {
     "name": "stdout",
     "output_type": "stream",
     "text": [
      "{\"orgId\":\"o15897810838641\",\"modelId\":\"VPP_Solar\",\"modelIdPath\":\"/VPP_Solar\",\"payload\":[{\"assetId\":\"F65VAZMG\",\"time\":1619083800000,\"points\":\"{\\\"average_power\\\":0.7545100000071}\"}]}\n"
     ]
    },
    {
     "name": "stderr",
     "output_type": "stream",
     "text": [
      "DEBUG:enos_subscribe.core:Commit Offsets: commits {\n",
      "  topic: \"SUBSCRIPTION_sub-1599055477895\"\n",
      "  partition: 2\n",
      "  offset: 226\n",
      "}\n",
      "\n"
     ]
    },
    {
     "name": "stdout",
     "output_type": "stream",
     "text": [
      "{\"orgId\":\"o15897810838641\",\"modelId\":\"VPP_BESS\",\"modelIdPath\":\"/VPP_BESS\",\"payload\":[{\"assetId\":\"kN8bRrzG\",\"time\":1619157600000,\"points\":\"{\\\"discharge_energy_interval\\\":0,\\\"charge_energy_interval\\\":0}\"}]}\n"
     ]
    },
    {
     "name": "stderr",
     "output_type": "stream",
     "text": [
      "DEBUG:enos_subscribe.core:Commit Offsets: commits {\n",
      "  topic: \"SUBSCRIPTION_sub-1599055477895\"\n",
      "  partition: 2\n",
      "  offset: 227\n",
      "}\n",
      "\n"
     ]
    },
    {
     "name": "stdout",
     "output_type": "stream",
     "text": [
      "{\"orgId\":\"o15897810838641\",\"modelId\":\"VPP_BESS\",\"modelIdPath\":\"/VPP_BESS\",\"payload\":[{\"assetId\":\"kN8bRrzG\",\"time\":1619157600000,\"points\":\"{\\\"active_power\\\":0,\\\"average_charge_power\\\":0,\\\"average_discharge_power\\\":0,\\\"soh\\\":100}\"}]}\n"
     ]
    },
    {
     "name": "stderr",
     "output_type": "stream",
     "text": [
      "DEBUG:enos_subscribe.core:Commit Offsets: commits {\n",
      "  topic: \"SUBSCRIPTION_sub-1599055477895\"\n",
      "  partition: 2\n",
      "  offset: 228\n",
      "}\n",
      "\n"
     ]
    },
    {
     "name": "stdout",
     "output_type": "stream",
     "text": [
      "{\"orgId\":\"o15897810838641\",\"modelId\":\"VPP_BESS\",\"modelIdPath\":\"/VPP_BESS\",\"payload\":[{\"assetId\":\"kN8bRrzG\",\"time\":1619157600000,\"points\":\"{\\\"soc\\\":53}\"}]}\n"
     ]
    },
    {
     "name": "stderr",
     "output_type": "stream",
     "text": [
      "DEBUG:enos_subscribe.core:Commit Offsets: commits {\n",
      "  topic: \"SUBSCRIPTION_sub-1599055477895\"\n",
      "  partition: 2\n",
      "  offset: 229\n",
      "}\n",
      "\n"
     ]
    },
    {
     "name": "stdout",
     "output_type": "stream",
     "text": [
      "{\"orgId\":\"o15897810838641\",\"modelId\":\"VPP_BESS\",\"modelIdPath\":\"/VPP_BESS\",\"payload\":[{\"assetId\":\"kN8bRrzG\",\"time\":1619157600000,\"points\":\"{\\\"charge_cycle_day_es\\\":0.965383,\\\"discharge_energy_day_es\\\":7.683731,\\\"charge_energy_day_es\\\":1.930766,\\\"discharge_cycle_day_es\\\":3.8418655}\"}]}\n"
     ]
    },
    {
     "name": "stderr",
     "output_type": "stream",
     "text": [
      "DEBUG:enos_subscribe.core:Commit Offsets: commits {\n",
      "  topic: \"SUBSCRIPTION_sub-1599055477895\"\n",
      "  partition: 2\n",
      "  offset: 230\n",
      "}\n",
      "\n"
     ]
    },
    {
     "name": "stdout",
     "output_type": "stream",
     "text": [
      "{\"orgId\":\"o15897810838641\",\"modelId\":\"VPP_BESS\",\"modelIdPath\":\"/VPP_BESS\",\"payload\":[{\"assetId\":\"kN8bRrzG\",\"time\":1619157600000,\"points\":\"{\\\"discharge_energy_day_fr\\\":99.48500566,\\\"charge_energy_day_fr\\\":77.89833006,\\\"discharge_cycle_day_fr\\\":49.74250283,\\\"charge_cycle_day_fr\\\":38.94916503}\"}]}\n"
     ]
    },
    {
     "name": "stderr",
     "output_type": "stream",
     "text": [
      "DEBUG:enos_subscribe.core:Commit Offsets: commits {\n",
      "  topic: \"SUBSCRIPTION_sub-1599055477895\"\n",
      "  partition: 2\n",
      "  offset: 231\n",
      "}\n",
      "\n"
     ]
    },
    {
     "name": "stdout",
     "output_type": "stream",
     "text": [
      "{\"orgId\":\"o15897810838641\",\"modelId\":\"VPP_Solar\",\"modelIdPath\":\"/VPP_Solar\",\"payload\":[{\"assetId\":\"F65VAZMG\",\"time\":1619157600000,\"points\":\"{\\\"active_power\\\":3.533003614,\\\"average_power\\\":3.53289}\"}]}\n"
     ]
    },
    {
     "name": "stderr",
     "output_type": "stream",
     "text": [
      "DEBUG:enos_subscribe.core:Commit Offsets: commits {\n",
      "  topic: \"SUBSCRIPTION_sub-1599055477895\"\n",
      "  partition: 2\n",
      "  offset: 232\n",
      "}\n",
      "\n"
     ]
    },
    {
     "name": "stdout",
     "output_type": "stream",
     "text": [
      "{\"orgId\":\"o15897810838641\",\"modelId\":\"VPP_BESS\",\"modelIdPath\":\"/VPP_BESS\",\"payload\":[{\"assetId\":\"kN8bRrzG\",\"time\":1619157600000,\"points\":\"{\\\"active_power\\\":0,\\\"average_charge_power\\\":0,\\\"average_discharge_power\\\":0,\\\"soh\\\":100}\"}]}\n"
     ]
    },
    {
     "name": "stderr",
     "output_type": "stream",
     "text": [
      "DEBUG:enos_subscribe.core:Commit Offsets: commits {\n",
      "  topic: \"SUBSCRIPTION_sub-1599055477895\"\n",
      "  partition: 2\n",
      "  offset: 233\n",
      "}\n",
      "\n"
     ]
    },
    {
     "name": "stdout",
     "output_type": "stream",
     "text": [
      "{\"orgId\":\"o15897810838641\",\"modelId\":\"VPP_EMMS\",\"modelIdPath\":\"/VPP_EMMS\",\"payload\":[{\"assetId\":\"f2U0fnOf\",\"time\":1619157600000,\"points\":\"{\\\"usep_price\\\":90.18,\\\"fr_price\\\":2.49}\"}]}\n"
     ]
    },
    {
     "name": "stderr",
     "output_type": "stream",
     "text": [
      "DEBUG:enos_subscribe.core:Commit Offsets: commits {\n",
      "  topic: \"SUBSCRIPTION_sub-1599055477895\"\n",
      "  partition: 2\n",
      "  offset: 234\n",
      "}\n",
      "\n"
     ]
    },
    {
     "name": "stdout",
     "output_type": "stream",
     "text": [
      "{\"orgId\":\"o15897810838641\",\"modelId\":\"VPP_EMMS\",\"modelIdPath\":\"/VPP_EMMS\",\"payload\":[{\"assetId\":\"f2U0fnOf\",\"time\":1619157600000,\"points\":\"{\\\"market_quantity\\\":123.38}\"}]}\n"
     ]
    },
    {
     "name": "stderr",
     "output_type": "stream",
     "text": [
      "DEBUG:enos_subscribe.core:Commit Offsets: commits {\n",
      "  topic: \"SUBSCRIPTION_sub-1599055477895\"\n",
      "  partition: 2\n",
      "  offset: 235\n",
      "}\n",
      "\n"
     ]
    },
    {
     "name": "stdout",
     "output_type": "stream",
     "text": [
      "{\"orgId\":\"o15897810838641\",\"modelId\":\"VPP_Solar\",\"modelIdPath\":\"/VPP_Solar\",\"payload\":[{\"assetId\":\"F65VAZMG\",\"time\":1619157600000,\"points\":\"{\\\"active_power\\\":3.533003614,\\\"average_power\\\":3.53289}\"}]}\n"
     ]
    },
    {
     "name": "stderr",
     "output_type": "stream",
     "text": [
      "DEBUG:enos_subscribe.core:Commit Offsets: commits {\n",
      "  topic: \"SUBSCRIPTION_sub-1599055477895\"\n",
      "  partition: 2\n",
      "  offset: 236\n",
      "}\n",
      "\n"
     ]
    },
    {
     "name": "stdout",
     "output_type": "stream",
     "text": [
      "{\"orgId\":\"o15897810838641\",\"modelId\":\"VPP_EMMS\",\"modelIdPath\":\"/VPP_EMMS\",\"payload\":[{\"assetId\":\"f2U0fnOf\",\"time\":1619157600000,\"points\":\"{\\\"s_q\\\":0,\\\"bid_result\\\":2}\"}]}\n"
     ]
    },
    {
     "name": "stderr",
     "output_type": "stream",
     "text": [
      "DEBUG:enos_subscribe.core:Commit Offsets: commits {\n",
      "  topic: \"SUBSCRIPTION_sub-1599055477895\"\n",
      "  partition: 2\n",
      "  offset: 237\n",
      "}\n",
      "\n"
     ]
    },
    {
     "name": "stdout",
     "output_type": "stream",
     "text": [
      "{\"orgId\":\"o15897810838641\",\"modelId\":\"VPP_EMMS\",\"modelIdPath\":\"/VPP_EMMS\",\"payload\":[{\"assetId\":\"f2U0fnOf\",\"time\":1619157600000,\"points\":\"{\\\"usep_price\\\":90.18,\\\"fr_price\\\":2.49}\"}]}\n"
     ]
    },
    {
     "name": "stderr",
     "output_type": "stream",
     "text": [
      "DEBUG:enos_subscribe.core:Commit Offsets: commits {\n",
      "  topic: \"SUBSCRIPTION_sub-1599055477895\"\n",
      "  partition: 2\n",
      "  offset: 238\n",
      "}\n",
      "\n"
     ]
    },
    {
     "name": "stdout",
     "output_type": "stream",
     "text": [
      "{\"orgId\":\"o15897810838641\",\"modelId\":\"VPP_EMMS\",\"modelIdPath\":\"/VPP_EMMS\",\"payload\":[{\"assetId\":\"f2U0fnOf\",\"time\":1619163000000,\"points\":\"{\\\"b_q\\\":0.77,\\\"b_p\\\":4.79}\"}]}\n"
     ]
    },
    {
     "name": "stderr",
     "output_type": "stream",
     "text": [
      "DEBUG:enos_subscribe.core:Commit Offsets: commits {\n",
      "  topic: \"SUBSCRIPTION_sub-1599055477895\"\n",
      "  partition: 2\n",
      "  offset: 239\n",
      "}\n",
      "\n"
     ]
    },
    {
     "name": "stdout",
     "output_type": "stream",
     "text": [
      "{\"orgId\":\"o15897810838641\",\"modelId\":\"VPP_BESS\",\"modelIdPath\":\"/VPP_BESS\",\"payload\":[{\"assetId\":\"kN8bRrzG\",\"time\":1619159400000,\"points\":\"{\\\"discharge_energy_interval\\\":1.0E-4,\\\"charge_energy_interval\\\":0}\"}]}\n"
     ]
    },
    {
     "name": "stderr",
     "output_type": "stream",
     "text": [
      "DEBUG:enos_subscribe.core:Commit Offsets: commits {\n",
      "  topic: \"SUBSCRIPTION_sub-1599055477895\"\n",
      "  partition: 2\n",
      "  offset: 240\n",
      "}\n",
      "\n"
     ]
    },
    {
     "name": "stdout",
     "output_type": "stream",
     "text": [
      "{\"orgId\":\"o15897810838641\",\"modelId\":\"VPP_BESS\",\"modelIdPath\":\"/VPP_BESS\",\"payload\":[{\"assetId\":\"kN8bRrzG\",\"time\":1619159400000,\"points\":\"{\\\"active_power\\\":0.006019676,\\\"average_charge_power\\\":0,\\\"average_discharge_power\\\":2.0E-4,\\\"soh\\\":100}\"}]}\n"
     ]
    },
    {
     "name": "stderr",
     "output_type": "stream",
     "text": [
      "DEBUG:enos_subscribe.core:Commit Offsets: commits {\n",
      "  topic: \"SUBSCRIPTION_sub-1599055477895\"\n",
      "  partition: 2\n",
      "  offset: 241\n",
      "}\n",
      "\n"
     ]
    },
    {
     "name": "stdout",
     "output_type": "stream",
     "text": [
      "{\"orgId\":\"o15897810838641\",\"modelId\":\"VPP_BESS\",\"modelIdPath\":\"/VPP_BESS\",\"payload\":[{\"assetId\":\"kN8bRrzG\",\"time\":1619159400000,\"points\":\"{\\\"soc\\\":52.995}\"}]}\n"
     ]
    },
    {
     "name": "stderr",
     "output_type": "stream",
     "text": [
      "DEBUG:enos_subscribe.core:Commit Offsets: commits {\n",
      "  topic: \"SUBSCRIPTION_sub-1599055477895\"\n",
      "  partition: 2\n",
      "  offset: 242\n",
      "}\n",
      "\n"
     ]
    },
    {
     "name": "stdout",
     "output_type": "stream",
     "text": [
      "{\"orgId\":\"o15897810838641\",\"modelId\":\"VPP_BESS\",\"modelIdPath\":\"/VPP_BESS\",\"payload\":[{\"assetId\":\"kN8bRrzG\",\"time\":1619159400000,\"points\":\"{\\\"charge_cycle_day_es\\\":0.965383,\\\"discharge_energy_day_es\\\":7.683731,\\\"charge_energy_day_es\\\":1.930766,\\\"discharge_cycle_day_es\\\":3.8418655}\"}]}\n"
     ]
    },
    {
     "name": "stderr",
     "output_type": "stream",
     "text": [
      "DEBUG:enos_subscribe.core:Commit Offsets: commits {\n",
      "  topic: \"SUBSCRIPTION_sub-1599055477895\"\n",
      "  partition: 2\n",
      "  offset: 243\n",
      "}\n",
      "\n"
     ]
    },
    {
     "name": "stdout",
     "output_type": "stream",
     "text": [
      "{\"orgId\":\"o15897810838641\",\"modelId\":\"VPP_BESS\",\"modelIdPath\":\"/VPP_BESS\",\"payload\":[{\"assetId\":\"kN8bRrzG\",\"time\":1619159400000,\"points\":\"{\\\"discharge_energy_day_fr\\\":99.48510566,\\\"charge_energy_day_fr\\\":77.89833006,\\\"discharge_cycle_day_fr\\\":49.74255283,\\\"charge_cycle_day_fr\\\":38.94916503}\"}]}\n"
     ]
    },
    {
     "name": "stderr",
     "output_type": "stream",
     "text": [
      "DEBUG:enos_subscribe.core:Commit Offsets: commits {\n",
      "  topic: \"SUBSCRIPTION_sub-1599055477895\"\n",
      "  partition: 2\n",
      "  offset: 244\n",
      "}\n",
      "\n"
     ]
    },
    {
     "name": "stdout",
     "output_type": "stream",
     "text": [
      "{\"orgId\":\"o15897810838641\",\"modelId\":\"VPP_Solar\",\"modelIdPath\":\"/VPP_Solar\",\"payload\":[{\"assetId\":\"F65VAZMG\",\"time\":1619159400000,\"points\":\"{\\\"active_power\\\":1.8406978369999998,\\\"average_power\\\":1.840782}\"}]}\n"
     ]
    },
    {
     "name": "stderr",
     "output_type": "stream",
     "text": [
      "DEBUG:enos_subscribe.core:Commit Offsets: commits {\n",
      "  topic: \"SUBSCRIPTION_sub-1599055477895\"\n",
      "  partition: 2\n",
      "  offset: 245\n",
      "}\n",
      "\n"
     ]
    },
    {
     "name": "stdout",
     "output_type": "stream",
     "text": [
      "{\"orgId\":\"o15897810838641\",\"modelId\":\"VPP_BESS\",\"modelIdPath\":\"/VPP_BESS\",\"payload\":[{\"assetId\":\"kN8bRrzG\",\"time\":1619159400000,\"points\":\"{\\\"active_power\\\":0.006019676,\\\"average_charge_power\\\":0,\\\"average_discharge_power\\\":2.0E-4,\\\"soh\\\":100}\"}]}\n"
     ]
    },
    {
     "name": "stderr",
     "output_type": "stream",
     "text": [
      "DEBUG:enos_subscribe.core:Commit Offsets: commits {\n",
      "  topic: \"SUBSCRIPTION_sub-1599055477895\"\n",
      "  partition: 2\n",
      "  offset: 246\n",
      "}\n",
      "\n"
     ]
    },
    {
     "name": "stdout",
     "output_type": "stream",
     "text": [
      "{\"orgId\":\"o15897810838641\",\"modelId\":\"VPP_EMMS\",\"modelIdPath\":\"/VPP_EMMS\",\"payload\":[{\"assetId\":\"f2U0fnOf\",\"time\":1619159400000,\"points\":\"{\\\"usep_price\\\":90.31,\\\"fr_price\\\":2.54}\"}]}\n"
     ]
    },
    {
     "name": "stderr",
     "output_type": "stream",
     "text": [
      "DEBUG:enos_subscribe.core:Commit Offsets: commits {\n",
      "  topic: \"SUBSCRIPTION_sub-1599055477895\"\n",
      "  partition: 2\n",
      "  offset: 247\n",
      "}\n",
      "\n"
     ]
    },
    {
     "name": "stdout",
     "output_type": "stream",
     "text": [
      "{\"orgId\":\"o15897810838641\",\"modelId\":\"VPP_EMMS\",\"modelIdPath\":\"/VPP_EMMS\",\"payload\":[{\"assetId\":\"f2U0fnOf\",\"time\":1619159400000,\"points\":\"{\\\"market_quantity\\\":120.97}\"}]}\n"
     ]
    },
    {
     "name": "stderr",
     "output_type": "stream",
     "text": [
      "DEBUG:enos_subscribe.core:Commit Offsets: commits {\n",
      "  topic: \"SUBSCRIPTION_sub-1599055477895\"\n",
      "  partition: 2\n",
      "  offset: 248\n",
      "}\n",
      "\n"
     ]
    },
    {
     "name": "stdout",
     "output_type": "stream",
     "text": [
      "{\"orgId\":\"o15897810838641\",\"modelId\":\"VPP_Solar\",\"modelIdPath\":\"/VPP_Solar\",\"payload\":[{\"assetId\":\"F65VAZMG\",\"time\":1619159400000,\"points\":\"{\\\"active_power\\\":1.8406978369999998,\\\"average_power\\\":1.840782}\"}]}\n"
     ]
    },
    {
     "name": "stderr",
     "output_type": "stream",
     "text": [
      "DEBUG:enos_subscribe.core:Commit Offsets: commits {\n",
      "  topic: \"SUBSCRIPTION_sub-1599055477895\"\n",
      "  partition: 2\n",
      "  offset: 249\n",
      "}\n",
      "\n"
     ]
    },
    {
     "name": "stdout",
     "output_type": "stream",
     "text": [
      "{\"orgId\":\"o15897810838641\",\"modelId\":\"VPP_EMMS\",\"modelIdPath\":\"/VPP_EMMS\",\"payload\":[{\"assetId\":\"f2U0fnOf\",\"time\":1619159400000,\"points\":\"{\\\"s_q\\\":0.02,\\\"bid_result\\\":1}\"}]}\n"
     ]
    },
    {
     "name": "stderr",
     "output_type": "stream",
     "text": [
      "DEBUG:enos_subscribe.core:Commit Offsets: commits {\n",
      "  topic: \"SUBSCRIPTION_sub-1599055477895\"\n",
      "  partition: 2\n",
      "  offset: 250\n",
      "}\n",
      "\n"
     ]
    },
    {
     "name": "stdout",
     "output_type": "stream",
     "text": [
      "{\"orgId\":\"o15897810838641\",\"modelId\":\"VPP_EMMS\",\"modelIdPath\":\"/VPP_EMMS\",\"payload\":[{\"assetId\":\"f2U0fnOf\",\"time\":1619159400000,\"points\":\"{\\\"usep_price\\\":90.31,\\\"fr_price\\\":2.54}\"}]}\n"
     ]
    },
    {
     "name": "stderr",
     "output_type": "stream",
     "text": [
      "DEBUG:enos_subscribe.core:Commit Offsets: commits {\n",
      "  topic: \"SUBSCRIPTION_sub-1599055477895\"\n",
      "  partition: 2\n",
      "  offset: 251\n",
      "}\n",
      "\n"
     ]
    },
    {
     "name": "stdout",
     "output_type": "stream",
     "text": [
      "{\"orgId\":\"o15897810838641\",\"modelId\":\"VPP_EMMS\",\"modelIdPath\":\"/VPP_EMMS\",\"payload\":[{\"assetId\":\"f2U0fnOf\",\"time\":1619164800000,\"points\":\"{\\\"b_q\\\":0.77,\\\"b_p\\\":4.79}\"}]}\n"
     ]
    },
    {
     "name": "stderr",
     "output_type": "stream",
     "text": [
      "DEBUG:enos_subscribe.core:Commit Offsets: commits {\n",
      "  topic: \"SUBSCRIPTION_sub-1599055477895\"\n",
      "  partition: 2\n",
      "  offset: 252\n",
      "}\n",
      "\n"
     ]
    },
    {
     "name": "stdout",
     "output_type": "stream",
     "text": [
      "{\"orgId\":\"o15897810838641\",\"modelId\":\"VPP_BESS\",\"modelIdPath\":\"/VPP_BESS\",\"payload\":[{\"assetId\":\"kN8bRrzG\",\"time\":1619161200000,\"points\":\"{\\\"discharge_energy_interval\\\":0.001212,\\\"charge_energy_interval\\\":0.001263}\"}]}\n"
     ]
    },
    {
     "name": "stderr",
     "output_type": "stream",
     "text": [
      "DEBUG:enos_subscribe.core:Commit Offsets: commits {\n",
      "  topic: \"SUBSCRIPTION_sub-1599055477895\"\n",
      "  partition: 2\n",
      "  offset: 253\n",
      "}\n",
      "\n"
     ]
    },
    {
     "name": "stdout",
     "output_type": "stream",
     "text": [
      "{\"orgId\":\"o15897810838641\",\"modelId\":\"VPP_BESS\",\"modelIdPath\":\"/VPP_BESS\",\"payload\":[{\"assetId\":\"kN8bRrzG\",\"time\":1619161200000,\"points\":\"{\\\"active_power\\\":0,\\\"average_charge_power\\\":0.002526,\\\"average_discharge_power\\\":0.002424,\\\"soh\\\":100}\"}]}\n"
     ]
    },
    {
     "name": "stderr",
     "output_type": "stream",
     "text": [
      "DEBUG:enos_subscribe.core:Commit Offsets: commits {\n",
      "  topic: \"SUBSCRIPTION_sub-1599055477895\"\n",
      "  partition: 2\n",
      "  offset: 254\n",
      "}\n",
      "\n"
     ]
    },
    {
     "name": "stdout",
     "output_type": "stream",
     "text": [
      "{\"orgId\":\"o15897810838641\",\"modelId\":\"VPP_BESS\",\"modelIdPath\":\"/VPP_BESS\",\"payload\":[{\"assetId\":\"kN8bRrzG\",\"time\":1619161200000,\"points\":\"{\\\"soc\\\":52.998}\"}]}\n"
     ]
    },
    {
     "name": "stderr",
     "output_type": "stream",
     "text": [
      "DEBUG:enos_subscribe.core:Commit Offsets: commits {\n",
      "  topic: \"SUBSCRIPTION_sub-1599055477895\"\n",
      "  partition: 2\n",
      "  offset: 255\n",
      "}\n",
      "\n"
     ]
    },
    {
     "name": "stdout",
     "output_type": "stream",
     "text": [
      "{\"orgId\":\"o15897810838641\",\"modelId\":\"VPP_BESS\",\"modelIdPath\":\"/VPP_BESS\",\"payload\":[{\"assetId\":\"kN8bRrzG\",\"time\":1619161200000,\"points\":\"{\\\"charge_cycle_day_es\\\":0.965383,\\\"discharge_energy_day_es\\\":7.683731,\\\"charge_energy_day_es\\\":1.930766,\\\"discharge_cycle_day_es\\\":3.8418655}\"}]}\n"
     ]
    },
    {
     "name": "stderr",
     "output_type": "stream",
     "text": [
      "DEBUG:enos_subscribe.core:Commit Offsets: commits {\n",
      "  topic: \"SUBSCRIPTION_sub-1599055477895\"\n",
      "  partition: 2\n",
      "  offset: 256\n",
      "}\n",
      "\n"
     ]
    },
    {
     "name": "stdout",
     "output_type": "stream",
     "text": [
      "{\"orgId\":\"o15897810838641\",\"modelId\":\"VPP_BESS\",\"modelIdPath\":\"/VPP_BESS\",\"payload\":[{\"assetId\":\"kN8bRrzG\",\"time\":1619161200000,\"points\":\"{\\\"discharge_energy_day_fr\\\":99.48631766,\\\"charge_energy_day_fr\\\":77.89959306,\\\"discharge_cycle_day_fr\\\":49.74315883,\\\"charge_cycle_day_fr\\\":38.94979653}\"}]}\n"
     ]
    },
    {
     "name": "stderr",
     "output_type": "stream",
     "text": [
      "DEBUG:enos_subscribe.core:Commit Offsets: commits {\n",
      "  topic: \"SUBSCRIPTION_sub-1599055477895\"\n",
      "  partition: 2\n",
      "  offset: 257\n",
      "}\n",
      "\n"
     ]
    },
    {
     "name": "stdout",
     "output_type": "stream",
     "text": [
      "{\"orgId\":\"o15897810838641\",\"modelId\":\"VPP_BESS\",\"modelIdPath\":\"/VPP_BESS\",\"payload\":[{\"assetId\":\"kN8bRrzG\",\"time\":1619161200000,\"points\":\"{\\\"active_power\\\":0,\\\"average_charge_power\\\":0.002526,\\\"average_discharge_power\\\":0.002424,\\\"soh\\\":100}\"}]}\n"
     ]
    },
    {
     "name": "stderr",
     "output_type": "stream",
     "text": [
      "DEBUG:enos_subscribe.core:Commit Offsets: commits {\n",
      "  topic: \"SUBSCRIPTION_sub-1599055477895\"\n",
      "  partition: 2\n",
      "  offset: 258\n",
      "}\n",
      "\n"
     ]
    },
    {
     "name": "stdout",
     "output_type": "stream",
     "text": [
      "{\"orgId\":\"o15897810838641\",\"modelId\":\"VPP_Solar\",\"modelIdPath\":\"/VPP_Solar\",\"payload\":[{\"assetId\":\"F65VAZMG\",\"time\":1619161200000,\"points\":\"{\\\"active_power\\\":2.80920168,\\\"average_power\\\":2.809152}\"}]}\n"
     ]
    },
    {
     "name": "stderr",
     "output_type": "stream",
     "text": [
      "DEBUG:enos_subscribe.core:Commit Offsets: commits {\n",
      "  topic: \"SUBSCRIPTION_sub-1599055477895\"\n",
      "  partition: 2\n",
      "  offset: 259\n",
      "}\n",
      "\n"
     ]
    },
    {
     "name": "stdout",
     "output_type": "stream",
     "text": [
      "{\"orgId\":\"o15897810838641\",\"modelId\":\"VPP_EMMS\",\"modelIdPath\":\"/VPP_EMMS\",\"payload\":[{\"assetId\":\"f2U0fnOf\",\"time\":1619161200000,\"points\":\"{\\\"usep_price\\\":90.21,\\\"fr_price\\\":2.49}\"}]}\n"
     ]
    },
    {
     "name": "stderr",
     "output_type": "stream",
     "text": [
      "DEBUG:enos_subscribe.core:Commit Offsets: commits {\n",
      "  topic: \"SUBSCRIPTION_sub-1599055477895\"\n",
      "  partition: 2\n",
      "  offset: 260\n",
      "}\n",
      "\n"
     ]
    },
    {
     "name": "stdout",
     "output_type": "stream",
     "text": [
      "{\"orgId\":\"o15897810838641\",\"modelId\":\"VPP_EMMS\",\"modelIdPath\":\"/VPP_EMMS\",\"payload\":[{\"assetId\":\"f2U0fnOf\",\"time\":1619161200000,\"points\":\"{\\\"market_quantity\\\":111.32}\"}]}\n"
     ]
    },
    {
     "name": "stderr",
     "output_type": "stream",
     "text": [
      "DEBUG:enos_subscribe.core:Commit Offsets: commits {\n",
      "  topic: \"SUBSCRIPTION_sub-1599055477895\"\n",
      "  partition: 2\n",
      "  offset: 261\n",
      "}\n",
      "\n"
     ]
    },
    {
     "name": "stdout",
     "output_type": "stream",
     "text": [
      "{\"orgId\":\"o15897810838641\",\"modelId\":\"VPP_Solar\",\"modelIdPath\":\"/VPP_Solar\",\"payload\":[{\"assetId\":\"F65VAZMG\",\"time\":1619161200000,\"points\":\"{\\\"active_power\\\":2.80920168,\\\"average_power\\\":2.809152}\"}]}\n"
     ]
    },
    {
     "name": "stderr",
     "output_type": "stream",
     "text": [
      "DEBUG:enos_subscribe.core:Commit Offsets: commits {\n",
      "  topic: \"SUBSCRIPTION_sub-1599055477895\"\n",
      "  partition: 2\n",
      "  offset: 262\n",
      "}\n",
      "\n"
     ]
    },
    {
     "name": "stdout",
     "output_type": "stream",
     "text": [
      "{\"orgId\":\"o15897810838641\",\"modelId\":\"VPP_EMMS\",\"modelIdPath\":\"/VPP_EMMS\",\"payload\":[{\"assetId\":\"f2U0fnOf\",\"time\":1619161200000,\"points\":\"{\\\"usep_price\\\":90.21,\\\"fr_price\\\":2.49}\"}]}\n"
     ]
    },
    {
     "name": "stderr",
     "output_type": "stream",
     "text": [
      "DEBUG:enos_subscribe.core:Commit Offsets: commits {\n",
      "  topic: \"SUBSCRIPTION_sub-1599055477895\"\n",
      "  partition: 2\n",
      "  offset: 263\n",
      "}\n",
      "\n"
     ]
    },
    {
     "name": "stdout",
     "output_type": "stream",
     "text": [
      "{\"orgId\":\"o15897810838641\",\"modelId\":\"VPP_EMMS\",\"modelIdPath\":\"/VPP_EMMS\",\"payload\":[{\"assetId\":\"f2U0fnOf\",\"time\":1619166600000,\"points\":\"{\\\"b_q\\\":0.77,\\\"b_p\\\":4.79}\"}]}\n"
     ]
    },
    {
     "name": "stderr",
     "output_type": "stream",
     "text": [
      "DEBUG:enos_subscribe.core:Commit Offsets: commits {\n",
      "  topic: \"SUBSCRIPTION_sub-1599055477895\"\n",
      "  partition: 2\n",
      "  offset: 264\n",
      "}\n",
      "\n"
     ]
    },
    {
     "name": "stdout",
     "output_type": "stream",
     "text": [
      "{\"orgId\":\"o15897810838641\",\"modelId\":\"VPP_BESS\",\"modelIdPath\":\"/VPP_BESS\",\"payload\":[{\"assetId\":\"kN8bRrzG\",\"time\":1619163000000,\"points\":\"{\\\"discharge_energy_interval\\\":0,\\\"charge_energy_interval\\\":0}\"}]}\n"
     ]
    },
    {
     "name": "stderr",
     "output_type": "stream",
     "text": [
      "DEBUG:enos_subscribe.core:Commit Offsets: commits {\n",
      "  topic: \"SUBSCRIPTION_sub-1599055477895\"\n",
      "  partition: 2\n",
      "  offset: 265\n",
      "}\n",
      "\n"
     ]
    },
    {
     "name": "stdout",
     "output_type": "stream",
     "text": [
      "{\"orgId\":\"o15897810838641\",\"modelId\":\"VPP_BESS\",\"modelIdPath\":\"/VPP_BESS\",\"payload\":[{\"assetId\":\"kN8bRrzG\",\"time\":1619163000000,\"points\":\"{\\\"active_power\\\":0,\\\"average_charge_power\\\":0,\\\"average_discharge_power\\\":0,\\\"soh\\\":100}\"}]}\n"
     ]
    },
    {
     "name": "stderr",
     "output_type": "stream",
     "text": [
      "DEBUG:enos_subscribe.core:Commit Offsets: commits {\n",
      "  topic: \"SUBSCRIPTION_sub-1599055477895\"\n",
      "  partition: 2\n",
      "  offset: 266\n",
      "}\n",
      "\n"
     ]
    },
    {
     "name": "stdout",
     "output_type": "stream",
     "text": [
      "{\"orgId\":\"o15897810838641\",\"modelId\":\"VPP_BESS\",\"modelIdPath\":\"/VPP_BESS\",\"payload\":[{\"assetId\":\"kN8bRrzG\",\"time\":1619163000000,\"points\":\"{\\\"soc\\\":52.998}\"}]}\n"
     ]
    },
    {
     "name": "stderr",
     "output_type": "stream",
     "text": [
      "DEBUG:enos_subscribe.core:Commit Offsets: commits {\n",
      "  topic: \"SUBSCRIPTION_sub-1599055477895\"\n",
      "  partition: 2\n",
      "  offset: 267\n",
      "}\n",
      "\n"
     ]
    },
    {
     "name": "stdout",
     "output_type": "stream",
     "text": [
      "{\"orgId\":\"o15897810838641\",\"modelId\":\"VPP_BESS\",\"modelIdPath\":\"/VPP_BESS\",\"payload\":[{\"assetId\":\"kN8bRrzG\",\"time\":1619163000000,\"points\":\"{\\\"charge_cycle_day_es\\\":0.965383,\\\"discharge_energy_day_es\\\":7.683731,\\\"charge_energy_day_es\\\":1.930766,\\\"discharge_cycle_day_es\\\":3.8418655}\"}]}\n"
     ]
    },
    {
     "name": "stderr",
     "output_type": "stream",
     "text": [
      "DEBUG:enos_subscribe.core:Commit Offsets: commits {\n",
      "  topic: \"SUBSCRIPTION_sub-1599055477895\"\n",
      "  partition: 2\n",
      "  offset: 268\n",
      "}\n",
      "\n"
     ]
    },
    {
     "name": "stdout",
     "output_type": "stream",
     "text": [
      "{\"orgId\":\"o15897810838641\",\"modelId\":\"VPP_BESS\",\"modelIdPath\":\"/VPP_BESS\",\"payload\":[{\"assetId\":\"kN8bRrzG\",\"time\":1619163000000,\"points\":\"{\\\"discharge_energy_day_fr\\\":99.48631766,\\\"charge_energy_day_fr\\\":77.89959306,\\\"discharge_cycle_day_fr\\\":49.74315883,\\\"charge_cycle_day_fr\\\":38.94979653}\"}]}\n"
     ]
    },
    {
     "name": "stderr",
     "output_type": "stream",
     "text": [
      "DEBUG:enos_subscribe.core:Commit Offsets: commits {\n",
      "  topic: \"SUBSCRIPTION_sub-1599055477895\"\n",
      "  partition: 2\n",
      "  offset: 269\n",
      "}\n",
      "\n"
     ]
    },
    {
     "name": "stdout",
     "output_type": "stream",
     "text": [
      "{\"orgId\":\"o15897810838641\",\"modelId\":\"VPP_Solar\",\"modelIdPath\":\"/VPP_Solar\",\"payload\":[{\"assetId\":\"F65VAZMG\",\"time\":1619163000000,\"points\":\"{\\\"active_power\\\":1.5636012799999999,\\\"average_power\\\":1.563686}\"}]}\n"
     ]
    },
    {
     "name": "stderr",
     "output_type": "stream",
     "text": [
      "DEBUG:enos_subscribe.core:Commit Offsets: commits {\n",
      "  topic: \"SUBSCRIPTION_sub-1599055477895\"\n",
      "  partition: 2\n",
      "  offset: 270\n",
      "}\n",
      "\n"
     ]
    },
    {
     "name": "stdout",
     "output_type": "stream",
     "text": [
      "{\"orgId\":\"o15897810838641\",\"modelId\":\"VPP_BESS\",\"modelIdPath\":\"/VPP_BESS\",\"payload\":[{\"assetId\":\"kN8bRrzG\",\"time\":1619163000000,\"points\":\"{\\\"active_power\\\":0,\\\"average_charge_power\\\":0,\\\"average_discharge_power\\\":0,\\\"soh\\\":100}\"}]}\n"
     ]
    },
    {
     "name": "stderr",
     "output_type": "stream",
     "text": [
      "DEBUG:enos_subscribe.core:Commit Offsets: commits {\n",
      "  topic: \"SUBSCRIPTION_sub-1599055477895\"\n",
      "  partition: 2\n",
      "  offset: 271\n",
      "}\n",
      "\n"
     ]
    },
    {
     "name": "stdout",
     "output_type": "stream",
     "text": [
      "{\"orgId\":\"o15897810838641\",\"modelId\":\"VPP_EMMS\",\"modelIdPath\":\"/VPP_EMMS\",\"payload\":[{\"assetId\":\"f2U0fnOf\",\"time\":1619163000000,\"points\":\"{\\\"usep_price\\\":90.17,\\\"fr_price\\\":2.48}\"}]}\n"
     ]
    },
    {
     "name": "stderr",
     "output_type": "stream",
     "text": [
      "DEBUG:enos_subscribe.core:Commit Offsets: commits {\n",
      "  topic: \"SUBSCRIPTION_sub-1599055477895\"\n",
      "  partition: 2\n",
      "  offset: 272\n",
      "}\n",
      "\n"
     ]
    },
    {
     "name": "stdout",
     "output_type": "stream",
     "text": [
      "{\"orgId\":\"o15897810838641\",\"modelId\":\"VPP_EMMS\",\"modelIdPath\":\"/VPP_EMMS\",\"payload\":[{\"assetId\":\"f2U0fnOf\",\"time\":1619163000000,\"points\":\"{\\\"market_quantity\\\":111.69}\"}]}\n"
     ]
    },
    {
     "name": "stderr",
     "output_type": "stream",
     "text": [
      "DEBUG:enos_subscribe.core:Commit Offsets: commits {\n",
      "  topic: \"SUBSCRIPTION_sub-1599055477895\"\n",
      "  partition: 2\n",
      "  offset: 273\n",
      "}\n",
      "\n"
     ]
    },
    {
     "name": "stdout",
     "output_type": "stream",
     "text": [
      "{\"orgId\":\"o15897810838641\",\"modelId\":\"VPP_Solar\",\"modelIdPath\":\"/VPP_Solar\",\"payload\":[{\"assetId\":\"F65VAZMG\",\"time\":1619163000000,\"points\":\"{\\\"active_power\\\":1.5636012799999999,\\\"average_power\\\":1.563686}\"}]}\n"
     ]
    },
    {
     "name": "stderr",
     "output_type": "stream",
     "text": [
      "DEBUG:enos_subscribe.core:Commit Offsets: commits {\n",
      "  topic: \"SUBSCRIPTION_sub-1599055477895\"\n",
      "  partition: 2\n",
      "  offset: 274\n",
      "}\n",
      "\n"
     ]
    },
    {
     "name": "stdout",
     "output_type": "stream",
     "text": [
      "{\"orgId\":\"o15897810838641\",\"modelId\":\"VPP_EMMS\",\"modelIdPath\":\"/VPP_EMMS\",\"payload\":[{\"assetId\":\"f2U0fnOf\",\"time\":1619163000000,\"points\":\"{\\\"s_q\\\":0,\\\"bid_result\\\":2}\"}]}\n"
     ]
    },
    {
     "name": "stderr",
     "output_type": "stream",
     "text": [
      "DEBUG:enos_subscribe.core:Commit Offsets: commits {\n",
      "  topic: \"SUBSCRIPTION_sub-1599055477895\"\n",
      "  partition: 2\n",
      "  offset: 275\n",
      "}\n",
      "\n"
     ]
    },
    {
     "name": "stdout",
     "output_type": "stream",
     "text": [
      "{\"orgId\":\"o15897810838641\",\"modelId\":\"VPP_EMMS\",\"modelIdPath\":\"/VPP_EMMS\",\"payload\":[{\"assetId\":\"f2U0fnOf\",\"time\":1619163000000,\"points\":\"{\\\"usep_price\\\":90.17,\\\"fr_price\\\":2.48}\"}]}\n"
     ]
    },
    {
     "name": "stderr",
     "output_type": "stream",
     "text": [
      "DEBUG:enos_subscribe.core:Commit Offsets: commits {\n",
      "  topic: \"SUBSCRIPTION_sub-1599055477895\"\n",
      "  partition: 2\n",
      "  offset: 276\n",
      "}\n",
      "\n"
     ]
    },
    {
     "name": "stdout",
     "output_type": "stream",
     "text": [
      "{\"orgId\":\"o15897810838641\",\"modelId\":\"VPP_EMMS\",\"modelIdPath\":\"/VPP_EMMS\",\"payload\":[{\"assetId\":\"f2U0fnOf\",\"time\":1619168400000,\"points\":\"{\\\"b_q\\\":0.77,\\\"b_p\\\":4.79}\"}]}\n"
     ]
    },
    {
     "name": "stderr",
     "output_type": "stream",
     "text": [
      "DEBUG:enos_subscribe.core:Commit Offsets: commits {\n",
      "  topic: \"SUBSCRIPTION_sub-1599055477895\"\n",
      "  partition: 2\n",
      "  offset: 277\n",
      "}\n",
      "\n"
     ]
    },
    {
     "name": "stdout",
     "output_type": "stream",
     "text": [
      "{\"orgId\":\"o15897810838641\",\"modelId\":\"VPP_BESS\",\"modelIdPath\":\"/VPP_BESS\",\"payload\":[{\"assetId\":\"kN8bRrzG\",\"time\":1619164800000,\"points\":\"{\\\"discharge_energy_interval\\\":0,\\\"charge_energy_interval\\\":0}\"}]}\n"
     ]
    },
    {
     "name": "stderr",
     "output_type": "stream",
     "text": [
      "DEBUG:enos_subscribe.core:Commit Offsets: commits {\n",
      "  topic: \"SUBSCRIPTION_sub-1599055477895\"\n",
      "  partition: 2\n",
      "  offset: 278\n",
      "}\n",
      "\n"
     ]
    },
    {
     "name": "stdout",
     "output_type": "stream",
     "text": [
      "{\"orgId\":\"o15897810838641\",\"modelId\":\"VPP_BESS\",\"modelIdPath\":\"/VPP_BESS\",\"payload\":[{\"assetId\":\"kN8bRrzG\",\"time\":1619164800000,\"points\":\"{\\\"active_power\\\":0,\\\"average_charge_power\\\":0,\\\"average_discharge_power\\\":0,\\\"soh\\\":100}\"}]}\n"
     ]
    },
    {
     "name": "stderr",
     "output_type": "stream",
     "text": [
      "DEBUG:enos_subscribe.core:Commit Offsets: commits {\n",
      "  topic: \"SUBSCRIPTION_sub-1599055477895\"\n",
      "  partition: 2\n",
      "  offset: 279\n",
      "}\n",
      "\n"
     ]
    },
    {
     "name": "stdout",
     "output_type": "stream",
     "text": [
      "{\"orgId\":\"o15897810838641\",\"modelId\":\"VPP_BESS\",\"modelIdPath\":\"/VPP_BESS\",\"payload\":[{\"assetId\":\"kN8bRrzG\",\"time\":1619164800000,\"points\":\"{\\\"soc\\\":52.998}\"}]}\n"
     ]
    },
    {
     "name": "stderr",
     "output_type": "stream",
     "text": [
      "DEBUG:enos_subscribe.core:Commit Offsets: commits {\n",
      "  topic: \"SUBSCRIPTION_sub-1599055477895\"\n",
      "  partition: 2\n",
      "  offset: 280\n",
      "}\n",
      "\n"
     ]
    },
    {
     "name": "stdout",
     "output_type": "stream",
     "text": [
      "{\"orgId\":\"o15897810838641\",\"modelId\":\"VPP_BESS\",\"modelIdPath\":\"/VPP_BESS\",\"payload\":[{\"assetId\":\"kN8bRrzG\",\"time\":1619164800000,\"points\":\"{\\\"charge_cycle_day_es\\\":0.965383,\\\"discharge_energy_day_es\\\":7.683731,\\\"charge_energy_day_es\\\":1.930766,\\\"discharge_cycle_day_es\\\":3.8418655}\"}]}\n"
     ]
    },
    {
     "name": "stderr",
     "output_type": "stream",
     "text": [
      "DEBUG:enos_subscribe.core:Commit Offsets: commits {\n",
      "  topic: \"SUBSCRIPTION_sub-1599055477895\"\n",
      "  partition: 2\n",
      "  offset: 281\n",
      "}\n",
      "\n"
     ]
    },
    {
     "name": "stdout",
     "output_type": "stream",
     "text": [
      "{\"orgId\":\"o15897810838641\",\"modelId\":\"VPP_BESS\",\"modelIdPath\":\"/VPP_BESS\",\"payload\":[{\"assetId\":\"kN8bRrzG\",\"time\":1619164800000,\"points\":\"{\\\"discharge_energy_day_fr\\\":99.48631766,\\\"charge_energy_day_fr\\\":77.89959306,\\\"discharge_cycle_day_fr\\\":49.74315883,\\\"charge_cycle_day_fr\\\":38.94979653}\"}]}\n"
     ]
    },
    {
     "name": "stderr",
     "output_type": "stream",
     "text": [
      "DEBUG:enos_subscribe.core:Commit Offsets: commits {\n",
      "  topic: \"SUBSCRIPTION_sub-1599055477895\"\n",
      "  partition: 2\n",
      "  offset: 282\n",
      "}\n",
      "\n"
     ]
    },
    {
     "name": "stdout",
     "output_type": "stream",
     "text": [
      "{\"orgId\":\"o15897810838641\",\"modelId\":\"VPP_BESS\",\"modelIdPath\":\"/VPP_BESS\",\"payload\":[{\"assetId\":\"kN8bRrzG\",\"time\":1619164800000,\"points\":\"{\\\"active_power\\\":0,\\\"average_charge_power\\\":0,\\\"average_discharge_power\\\":0,\\\"soh\\\":100}\"}]}\n"
     ]
    },
    {
     "name": "stderr",
     "output_type": "stream",
     "text": [
      "DEBUG:enos_subscribe.core:Commit Offsets: commits {\n",
      "  topic: \"SUBSCRIPTION_sub-1599055477895\"\n",
      "  partition: 2\n",
      "  offset: 283\n",
      "}\n",
      "\n"
     ]
    },
    {
     "name": "stdout",
     "output_type": "stream",
     "text": [
      "{\"orgId\":\"o15897810838641\",\"modelId\":\"VPP_Solar\",\"modelIdPath\":\"/VPP_Solar\",\"payload\":[{\"assetId\":\"F65VAZMG\",\"time\":1619164800000,\"points\":\"{\\\"active_power\\\":1.7178658909999998,\\\"average_power\\\":1.71761}\"}]}\n"
     ]
    },
    {
     "name": "stderr",
     "output_type": "stream",
     "text": [
      "DEBUG:enos_subscribe.core:Commit Offsets: commits {\n",
      "  topic: \"SUBSCRIPTION_sub-1599055477895\"\n",
      "  partition: 2\n",
      "  offset: 284\n",
      "}\n",
      "\n"
     ]
    },
    {
     "name": "stdout",
     "output_type": "stream",
     "text": [
      "{\"orgId\":\"o15897810838641\",\"modelId\":\"VPP_EMMS\",\"modelIdPath\":\"/VPP_EMMS\",\"payload\":[{\"assetId\":\"f2U0fnOf\",\"time\":1619164800000,\"points\":\"{\\\"usep_price\\\":89.55,\\\"fr_price\\\":2.48}\"}]}\n"
     ]
    },
    {
     "name": "stderr",
     "output_type": "stream",
     "text": [
      "DEBUG:enos_subscribe.core:Commit Offsets: commits {\n",
      "  topic: \"SUBSCRIPTION_sub-1599055477895\"\n",
      "  partition: 2\n",
      "  offset: 285\n",
      "}\n",
      "\n"
     ]
    },
    {
     "name": "stdout",
     "output_type": "stream",
     "text": [
      "{\"orgId\":\"o15897810838641\",\"modelId\":\"VPP_EMMS\",\"modelIdPath\":\"/VPP_EMMS\",\"payload\":[{\"assetId\":\"f2U0fnOf\",\"time\":1619164800000,\"points\":\"{\\\"market_quantity\\\":110.44}\"}]}\n"
     ]
    },
    {
     "name": "stderr",
     "output_type": "stream",
     "text": [
      "DEBUG:enos_subscribe.core:Commit Offsets: commits {\n",
      "  topic: \"SUBSCRIPTION_sub-1599055477895\"\n",
      "  partition: 2\n",
      "  offset: 286\n",
      "}\n",
      "\n"
     ]
    },
    {
     "name": "stdout",
     "output_type": "stream",
     "text": [
      "{\"orgId\":\"o15897810838641\",\"modelId\":\"VPP_Solar\",\"modelIdPath\":\"/VPP_Solar\",\"payload\":[{\"assetId\":\"F65VAZMG\",\"time\":1619164800000,\"points\":\"{\\\"active_power\\\":1.7178658909999998,\\\"average_power\\\":1.71761}\"}]}\n"
     ]
    },
    {
     "name": "stderr",
     "output_type": "stream",
     "text": [
      "DEBUG:enos_subscribe.core:Commit Offsets: commits {\n",
      "  topic: \"SUBSCRIPTION_sub-1599055477895\"\n",
      "  partition: 2\n",
      "  offset: 287\n",
      "}\n",
      "\n"
     ]
    },
    {
     "name": "stdout",
     "output_type": "stream",
     "text": [
      "{\"orgId\":\"o15897810838641\",\"modelId\":\"VPP_EMMS\",\"modelIdPath\":\"/VPP_EMMS\",\"payload\":[{\"assetId\":\"f2U0fnOf\",\"time\":1619164800000,\"points\":\"{\\\"s_q\\\":0,\\\"bid_result\\\":2}\"}]}\n"
     ]
    },
    {
     "name": "stderr",
     "output_type": "stream",
     "text": [
      "DEBUG:enos_subscribe.core:Commit Offsets: commits {\n",
      "  topic: \"SUBSCRIPTION_sub-1599055477895\"\n",
      "  partition: 2\n",
      "  offset: 288\n",
      "}\n",
      "\n"
     ]
    },
    {
     "name": "stdout",
     "output_type": "stream",
     "text": [
      "{\"orgId\":\"o15897810838641\",\"modelId\":\"VPP_EMMS\",\"modelIdPath\":\"/VPP_EMMS\",\"payload\":[{\"assetId\":\"f2U0fnOf\",\"time\":1619164800000,\"points\":\"{\\\"usep_price\\\":89.55,\\\"fr_price\\\":2.48}\"}]}\n"
     ]
    },
    {
     "name": "stderr",
     "output_type": "stream",
     "text": [
      "DEBUG:enos_subscribe.core:Commit Offsets: commits {\n",
      "  topic: \"SUBSCRIPTION_sub-1599055477895\"\n",
      "  partition: 2\n",
      "  offset: 289\n",
      "}\n",
      "\n"
     ]
    },
    {
     "name": "stdout",
     "output_type": "stream",
     "text": [
      "{\"orgId\":\"o15897810838641\",\"modelId\":\"VPP_EMMS\",\"modelIdPath\":\"/VPP_EMMS\",\"payload\":[{\"assetId\":\"f2U0fnOf\",\"time\":1619170200000,\"points\":\"{\\\"b_q\\\":0.77,\\\"b_p\\\":5.03}\"}]}\n"
     ]
    },
    {
     "name": "stderr",
     "output_type": "stream",
     "text": [
      "DEBUG:enos_subscribe.core:Commit Offsets: commits {\n",
      "  topic: \"SUBSCRIPTION_sub-1599055477895\"\n",
      "  partition: 2\n",
      "  offset: 290\n",
      "}\n",
      "\n"
     ]
    },
    {
     "name": "stdout",
     "output_type": "stream",
     "text": [
      "{\"orgId\":\"o15897810838641\",\"modelId\":\"VPP_BESS\",\"modelIdPath\":\"/VPP_BESS\",\"payload\":[{\"assetId\":\"kN8bRrzG\",\"time\":1619166600000,\"points\":\"{\\\"discharge_energy_interval\\\":0,\\\"charge_energy_interval\\\":0}\"}]}\n"
     ]
    },
    {
     "name": "stderr",
     "output_type": "stream",
     "text": [
      "DEBUG:enos_subscribe.core:Commit Offsets: commits {\n",
      "  topic: \"SUBSCRIPTION_sub-1599055477895\"\n",
      "  partition: 2\n",
      "  offset: 291\n",
      "}\n",
      "\n"
     ]
    },
    {
     "name": "stdout",
     "output_type": "stream",
     "text": [
      "{\"orgId\":\"o15897810838641\",\"modelId\":\"VPP_BESS\",\"modelIdPath\":\"/VPP_BESS\",\"payload\":[{\"assetId\":\"kN8bRrzG\",\"time\":1619166600000,\"points\":\"{\\\"active_power\\\":0,\\\"average_charge_power\\\":0,\\\"average_discharge_power\\\":0,\\\"soh\\\":100}\"}]}\n"
     ]
    },
    {
     "name": "stderr",
     "output_type": "stream",
     "text": [
      "DEBUG:enos_subscribe.core:Commit Offsets: commits {\n",
      "  topic: \"SUBSCRIPTION_sub-1599055477895\"\n",
      "  partition: 2\n",
      "  offset: 292\n",
      "}\n",
      "\n"
     ]
    },
    {
     "name": "stdout",
     "output_type": "stream",
     "text": [
      "{\"orgId\":\"o15897810838641\",\"modelId\":\"VPP_BESS\",\"modelIdPath\":\"/VPP_BESS\",\"payload\":[{\"assetId\":\"kN8bRrzG\",\"time\":1619166600000,\"points\":\"{\\\"soc\\\":52.998}\"}]}\n"
     ]
    },
    {
     "name": "stderr",
     "output_type": "stream",
     "text": [
      "DEBUG:enos_subscribe.core:Commit Offsets: commits {\n",
      "  topic: \"SUBSCRIPTION_sub-1599055477895\"\n",
      "  partition: 2\n",
      "  offset: 293\n",
      "}\n",
      "\n"
     ]
    },
    {
     "name": "stdout",
     "output_type": "stream",
     "text": [
      "{\"orgId\":\"o15897810838641\",\"modelId\":\"VPP_BESS\",\"modelIdPath\":\"/VPP_BESS\",\"payload\":[{\"assetId\":\"kN8bRrzG\",\"time\":1619166600000,\"points\":\"{\\\"discharge_energy_day_fr\\\":99.48631766,\\\"charge_energy_day_fr\\\":77.89959306,\\\"discharge_cycle_day_fr\\\":49.74315883,\\\"charge_cycle_day_fr\\\":38.94979653}\"}]}\n"
     ]
    },
    {
     "name": "stderr",
     "output_type": "stream",
     "text": [
      "DEBUG:enos_subscribe.core:Commit Offsets: commits {\n",
      "  topic: \"SUBSCRIPTION_sub-1599055477895\"\n",
      "  partition: 2\n",
      "  offset: 294\n",
      "}\n",
      "\n"
     ]
    },
    {
     "name": "stdout",
     "output_type": "stream",
     "text": [
      "{\"orgId\":\"o15897810838641\",\"modelId\":\"VPP_BESS\",\"modelIdPath\":\"/VPP_BESS\",\"payload\":[{\"assetId\":\"kN8bRrzG\",\"time\":1619166600000,\"points\":\"{\\\"charge_cycle_day_es\\\":0.965383,\\\"discharge_energy_day_es\\\":7.683731,\\\"charge_energy_day_es\\\":1.930766,\\\"discharge_cycle_day_es\\\":3.8418655}\"}]}\n"
     ]
    },
    {
     "name": "stderr",
     "output_type": "stream",
     "text": [
      "DEBUG:enos_subscribe.core:Commit Offsets: commits {\n",
      "  topic: \"SUBSCRIPTION_sub-1599055477895\"\n",
      "  partition: 2\n",
      "  offset: 295\n",
      "}\n",
      "\n"
     ]
    },
    {
     "name": "stdout",
     "output_type": "stream",
     "text": [
      "{\"orgId\":\"o15897810838641\",\"modelId\":\"VPP_Solar\",\"modelIdPath\":\"/VPP_Solar\",\"payload\":[{\"assetId\":\"F65VAZMG\",\"time\":1619166600000,\"points\":\"{\\\"active_power\\\":2.000596324,\\\"average_power\\\":2.000736}\"}]}\n"
     ]
    },
    {
     "name": "stderr",
     "output_type": "stream",
     "text": [
      "DEBUG:enos_subscribe.core:Commit Offsets: commits {\n",
      "  topic: \"SUBSCRIPTION_sub-1599055477895\"\n",
      "  partition: 2\n",
      "  offset: 296\n",
      "}\n",
      "\n"
     ]
    },
    {
     "name": "stdout",
     "output_type": "stream",
     "text": [
      "{\"orgId\":\"o15897810838641\",\"modelId\":\"VPP_BESS\",\"modelIdPath\":\"/VPP_BESS\",\"payload\":[{\"assetId\":\"kN8bRrzG\",\"time\":1619166600000,\"points\":\"{\\\"active_power\\\":0,\\\"average_charge_power\\\":0,\\\"average_discharge_power\\\":0,\\\"soh\\\":100}\"}]}\n"
     ]
    },
    {
     "name": "stderr",
     "output_type": "stream",
     "text": [
      "DEBUG:enos_subscribe.core:Commit Offsets: commits {\n",
      "  topic: \"SUBSCRIPTION_sub-1599055477895\"\n",
      "  partition: 2\n",
      "  offset: 297\n",
      "}\n",
      "\n"
     ]
    },
    {
     "name": "stdout",
     "output_type": "stream",
     "text": [
      "{\"orgId\":\"o15897810838641\",\"modelId\":\"VPP_EMMS\",\"modelIdPath\":\"/VPP_EMMS\",\"payload\":[{\"assetId\":\"f2U0fnOf\",\"time\":1619166600000,\"points\":\"{\\\"usep_price\\\":88.27,\\\"fr_price\\\":1.83}\"}]}\n"
     ]
    },
    {
     "name": "stderr",
     "output_type": "stream",
     "text": [
      "DEBUG:enos_subscribe.core:Commit Offsets: commits {\n",
      "  topic: \"SUBSCRIPTION_sub-1599055477895\"\n",
      "  partition: 2\n",
      "  offset: 298\n",
      "}\n",
      "\n"
     ]
    },
    {
     "name": "stdout",
     "output_type": "stream",
     "text": [
      "{\"orgId\":\"o15897810838641\",\"modelId\":\"VPP_EMMS\",\"modelIdPath\":\"/VPP_EMMS\",\"payload\":[{\"assetId\":\"f2U0fnOf\",\"time\":1619166600000,\"points\":\"{\\\"market_quantity\\\":123.17}\"}]}\n"
     ]
    },
    {
     "name": "stderr",
     "output_type": "stream",
     "text": [
      "DEBUG:enos_subscribe.core:Commit Offsets: commits {\n",
      "  topic: \"SUBSCRIPTION_sub-1599055477895\"\n",
      "  partition: 2\n",
      "  offset: 299\n",
      "}\n",
      "\n"
     ]
    },
    {
     "name": "stdout",
     "output_type": "stream",
     "text": [
      "{\"orgId\":\"o15897810838641\",\"modelId\":\"VPP_Solar\",\"modelIdPath\":\"/VPP_Solar\",\"payload\":[{\"assetId\":\"F65VAZMG\",\"time\":1619166600000,\"points\":\"{\\\"active_power\\\":2.000596324,\\\"average_power\\\":2.000736}\"}]}\n"
     ]
    },
    {
     "name": "stderr",
     "output_type": "stream",
     "text": [
      "DEBUG:enos_subscribe.core:Commit Offsets: commits {\n",
      "  topic: \"SUBSCRIPTION_sub-1599055477895\"\n",
      "  partition: 2\n",
      "  offset: 300\n",
      "}\n",
      "\n"
     ]
    },
    {
     "name": "stdout",
     "output_type": "stream",
     "text": [
      "{\"orgId\":\"o15897810838641\",\"modelId\":\"VPP_EMMS\",\"modelIdPath\":\"/VPP_EMMS\",\"payload\":[{\"assetId\":\"f2U0fnOf\",\"time\":1619166600000,\"points\":\"{\\\"s_q\\\":0,\\\"bid_result\\\":2}\"}]}\n"
     ]
    },
    {
     "name": "stderr",
     "output_type": "stream",
     "text": [
      "DEBUG:enos_subscribe.core:Commit Offsets: commits {\n",
      "  topic: \"SUBSCRIPTION_sub-1599055477895\"\n",
      "  partition: 2\n",
      "  offset: 301\n",
      "}\n",
      "\n"
     ]
    },
    {
     "name": "stdout",
     "output_type": "stream",
     "text": [
      "{\"orgId\":\"o15897810838641\",\"modelId\":\"VPP_EMMS\",\"modelIdPath\":\"/VPP_EMMS\",\"payload\":[{\"assetId\":\"f2U0fnOf\",\"time\":1619166600000,\"points\":\"{\\\"usep_price\\\":88.27,\\\"fr_price\\\":1.83}\"}]}\n"
     ]
    },
    {
     "name": "stderr",
     "output_type": "stream",
     "text": [
      "DEBUG:enos_subscribe.core:Commit Offsets: commits {\n",
      "  topic: \"SUBSCRIPTION_sub-1599055477895\"\n",
      "  partition: 2\n",
      "  offset: 302\n",
      "}\n",
      "\n"
     ]
    },
    {
     "name": "stdout",
     "output_type": "stream",
     "text": [
      "{\"orgId\":\"o15897810838641\",\"modelId\":\"VPP_EMMS\",\"modelIdPath\":\"/VPP_EMMS\",\"payload\":[{\"assetId\":\"f2U0fnOf\",\"time\":1619172000000,\"points\":\"{\\\"b_q\\\":0.77,\\\"b_p\\\":8.22}\"}]}\n"
     ]
    },
    {
     "name": "stderr",
     "output_type": "stream",
     "text": [
      "DEBUG:enos_subscribe.core:Commit Offsets: commits {\n",
      "  topic: \"SUBSCRIPTION_sub-1599055477895\"\n",
      "  partition: 2\n",
      "  offset: 303\n",
      "}\n",
      "\n"
     ]
    },
    {
     "name": "stdout",
     "output_type": "stream",
     "text": [
      "{\"orgId\":\"o15897810838641\",\"modelId\":\"VPP_BESS\",\"modelIdPath\":\"/VPP_BESS\",\"payload\":[{\"assetId\":\"kN8bRrzG\",\"time\":1619168400000,\"points\":\"{\\\"discharge_energy_interval\\\":0,\\\"charge_energy_interval\\\":0}\"}]}\n"
     ]
    },
    {
     "name": "stderr",
     "output_type": "stream",
     "text": [
      "DEBUG:enos_subscribe.core:Commit Offsets: commits {\n",
      "  topic: \"SUBSCRIPTION_sub-1599055477895\"\n",
      "  partition: 2\n",
      "  offset: 304\n",
      "}\n",
      "\n"
     ]
    },
    {
     "name": "stdout",
     "output_type": "stream",
     "text": [
      "{\"orgId\":\"o15897810838641\",\"modelId\":\"VPP_BESS\",\"modelIdPath\":\"/VPP_BESS\",\"payload\":[{\"assetId\":\"kN8bRrzG\",\"time\":1619168400000,\"points\":\"{\\\"active_power\\\":0,\\\"average_charge_power\\\":0,\\\"average_discharge_power\\\":0,\\\"soh\\\":100}\"}]}\n"
     ]
    },
    {
     "name": "stderr",
     "output_type": "stream",
     "text": [
      "DEBUG:enos_subscribe.core:Commit Offsets: commits {\n",
      "  topic: \"SUBSCRIPTION_sub-1599055477895\"\n",
      "  partition: 2\n",
      "  offset: 305\n",
      "}\n",
      "\n"
     ]
    },
    {
     "name": "stdout",
     "output_type": "stream",
     "text": [
      "{\"orgId\":\"o15897810838641\",\"modelId\":\"VPP_BESS\",\"modelIdPath\":\"/VPP_BESS\",\"payload\":[{\"assetId\":\"kN8bRrzG\",\"time\":1619168400000,\"points\":\"{\\\"soc\\\":52.998}\"}]}\n"
     ]
    },
    {
     "name": "stderr",
     "output_type": "stream",
     "text": [
      "DEBUG:enos_subscribe.core:Commit Offsets: commits {\n",
      "  topic: \"SUBSCRIPTION_sub-1599055477895\"\n",
      "  partition: 2\n",
      "  offset: 306\n",
      "}\n",
      "\n"
     ]
    },
    {
     "name": "stdout",
     "output_type": "stream",
     "text": [
      "{\"orgId\":\"o15897810838641\",\"modelId\":\"VPP_BESS\",\"modelIdPath\":\"/VPP_BESS\",\"payload\":[{\"assetId\":\"kN8bRrzG\",\"time\":1619168400000,\"points\":\"{\\\"charge_cycle_day_es\\\":0.965383,\\\"discharge_energy_day_es\\\":7.683731,\\\"charge_energy_day_es\\\":1.930766,\\\"discharge_cycle_day_es\\\":3.8418655}\"}]}\n"
     ]
    },
    {
     "name": "stderr",
     "output_type": "stream",
     "text": [
      "DEBUG:enos_subscribe.core:Commit Offsets: commits {\n",
      "  topic: \"SUBSCRIPTION_sub-1599055477895\"\n",
      "  partition: 2\n",
      "  offset: 307\n",
      "}\n",
      "\n"
     ]
    },
    {
     "name": "stdout",
     "output_type": "stream",
     "text": [
      "{\"orgId\":\"o15897810838641\",\"modelId\":\"VPP_BESS\",\"modelIdPath\":\"/VPP_BESS\",\"payload\":[{\"assetId\":\"kN8bRrzG\",\"time\":1619168400000,\"points\":\"{\\\"discharge_energy_day_fr\\\":99.48631766,\\\"charge_energy_day_fr\\\":77.89959306,\\\"discharge_cycle_day_fr\\\":49.74315883,\\\"charge_cycle_day_fr\\\":38.94979653}\"}]}\n"
     ]
    },
    {
     "name": "stderr",
     "output_type": "stream",
     "text": [
      "DEBUG:enos_subscribe.core:Commit Offsets: commits {\n",
      "  topic: \"SUBSCRIPTION_sub-1599055477895\"\n",
      "  partition: 2\n",
      "  offset: 308\n",
      "}\n",
      "\n"
     ]
    },
    {
     "name": "stdout",
     "output_type": "stream",
     "text": [
      "{\"orgId\":\"o15897810838641\",\"modelId\":\"VPP_Solar\",\"modelIdPath\":\"/VPP_Solar\",\"payload\":[{\"assetId\":\"F65VAZMG\",\"time\":1619168400000,\"points\":\"{\\\"active_power\\\":1.0924902799999998,\\\"average_power\\\":1.092344}\"}]}\n"
     ]
    },
    {
     "name": "stderr",
     "output_type": "stream",
     "text": [
      "DEBUG:enos_subscribe.core:Commit Offsets: commits {\n",
      "  topic: \"SUBSCRIPTION_sub-1599055477895\"\n",
      "  partition: 2\n",
      "  offset: 309\n",
      "}\n",
      "\n"
     ]
    },
    {
     "name": "stdout",
     "output_type": "stream",
     "text": [
      "{\"orgId\":\"o15897810838641\",\"modelId\":\"VPP_BESS\",\"modelIdPath\":\"/VPP_BESS\",\"payload\":[{\"assetId\":\"kN8bRrzG\",\"time\":1619168400000,\"points\":\"{\\\"active_power\\\":0,\\\"average_charge_power\\\":0,\\\"average_discharge_power\\\":0,\\\"soh\\\":100}\"}]}\n"
     ]
    },
    {
     "name": "stderr",
     "output_type": "stream",
     "text": [
      "DEBUG:enos_subscribe.core:Commit Offsets: commits {\n",
      "  topic: \"SUBSCRIPTION_sub-1599055477895\"\n",
      "  partition: 2\n",
      "  offset: 310\n",
      "}\n",
      "\n"
     ]
    },
    {
     "name": "stdout",
     "output_type": "stream",
     "text": [
      "{\"orgId\":\"o15897810838641\",\"modelId\":\"VPP_EMMS\",\"modelIdPath\":\"/VPP_EMMS\",\"payload\":[{\"assetId\":\"f2U0fnOf\",\"time\":1619168400000,\"points\":\"{\\\"usep_price\\\":85.91,\\\"fr_price\\\":1}\"}]}\n"
     ]
    },
    {
     "name": "stderr",
     "output_type": "stream",
     "text": [
      "DEBUG:enos_subscribe.core:Commit Offsets: commits {\n",
      "  topic: \"SUBSCRIPTION_sub-1599055477895\"\n",
      "  partition: 2\n",
      "  offset: 311\n",
      "}\n",
      "\n"
     ]
    },
    {
     "name": "stdout",
     "output_type": "stream",
     "text": [
      "{\"orgId\":\"o15897810838641\",\"modelId\":\"VPP_EMMS\",\"modelIdPath\":\"/VPP_EMMS\",\"payload\":[{\"assetId\":\"f2U0fnOf\",\"time\":1619168400000,\"points\":\"{\\\"market_quantity\\\":121.27}\"}]}\n"
     ]
    },
    {
     "name": "stderr",
     "output_type": "stream",
     "text": [
      "DEBUG:enos_subscribe.core:Commit Offsets: commits {\n",
      "  topic: \"SUBSCRIPTION_sub-1599055477895\"\n",
      "  partition: 2\n",
      "  offset: 312\n",
      "}\n",
      "\n"
     ]
    },
    {
     "name": "stdout",
     "output_type": "stream",
     "text": [
      "{\"orgId\":\"o15897810838641\",\"modelId\":\"VPP_Solar\",\"modelIdPath\":\"/VPP_Solar\",\"payload\":[{\"assetId\":\"F65VAZMG\",\"time\":1619168400000,\"points\":\"{\\\"active_power\\\":1.0924902799999998,\\\"average_power\\\":1.092344}\"}]}\n"
     ]
    },
    {
     "name": "stderr",
     "output_type": "stream",
     "text": [
      "DEBUG:enos_subscribe.core:Commit Offsets: commits {\n",
      "  topic: \"SUBSCRIPTION_sub-1599055477895\"\n",
      "  partition: 2\n",
      "  offset: 313\n",
      "}\n",
      "\n"
     ]
    },
    {
     "name": "stdout",
     "output_type": "stream",
     "text": [
      "{\"orgId\":\"o15897810838641\",\"modelId\":\"VPP_EMMS\",\"modelIdPath\":\"/VPP_EMMS\",\"payload\":[{\"assetId\":\"f2U0fnOf\",\"time\":1619168400000,\"points\":\"{\\\"s_q\\\":0,\\\"bid_result\\\":2}\"}]}\n"
     ]
    },
    {
     "name": "stderr",
     "output_type": "stream",
     "text": [
      "DEBUG:enos_subscribe.core:Commit Offsets: commits {\n",
      "  topic: \"SUBSCRIPTION_sub-1599055477895\"\n",
      "  partition: 2\n",
      "  offset: 314\n",
      "}\n",
      "\n"
     ]
    },
    {
     "name": "stdout",
     "output_type": "stream",
     "text": [
      "{\"orgId\":\"o15897810838641\",\"modelId\":\"VPP_EMMS\",\"modelIdPath\":\"/VPP_EMMS\",\"payload\":[{\"assetId\":\"f2U0fnOf\",\"time\":1619168400000,\"points\":\"{\\\"usep_price\\\":85.91,\\\"fr_price\\\":1}\"}]}\n"
     ]
    },
    {
     "name": "stderr",
     "output_type": "stream",
     "text": [
      "DEBUG:enos_subscribe.core:Commit Offsets: commits {\n",
      "  topic: \"SUBSCRIPTION_sub-1599055477895\"\n",
      "  partition: 2\n",
      "  offset: 315\n",
      "}\n",
      "\n"
     ]
    },
    {
     "name": "stdout",
     "output_type": "stream",
     "text": [
      "{\"orgId\":\"o15897810838641\",\"modelId\":\"VPP_EMMS\",\"modelIdPath\":\"/VPP_EMMS\",\"payload\":[{\"assetId\":\"f2U0fnOf\",\"time\":1619173800000,\"points\":\"{\\\"b_q\\\":0.77,\\\"b_p\\\":8.22}\"}]}\n"
     ]
    },
    {
     "name": "stderr",
     "output_type": "stream",
     "text": [
      "DEBUG:enos_subscribe.core:Commit Offsets: commits {\n",
      "  topic: \"SUBSCRIPTION_sub-1599055477895\"\n",
      "  partition: 2\n",
      "  offset: 316\n",
      "}\n",
      "\n"
     ]
    },
    {
     "name": "stdout",
     "output_type": "stream",
     "text": [
      "{\"orgId\":\"o15897810838641\",\"modelId\":\"VPP_BESS\",\"modelIdPath\":\"/VPP_BESS\",\"payload\":[{\"assetId\":\"kN8bRrzG\",\"time\":1619170200000,\"points\":\"{\\\"discharge_energy_interval\\\":0,\\\"charge_energy_interval\\\":0}\"}]}\n"
     ]
    },
    {
     "name": "stderr",
     "output_type": "stream",
     "text": [
      "DEBUG:enos_subscribe.core:Commit Offsets: commits {\n",
      "  topic: \"SUBSCRIPTION_sub-1599055477895\"\n",
      "  partition: 2\n",
      "  offset: 317\n",
      "}\n",
      "\n"
     ]
    },
    {
     "name": "stdout",
     "output_type": "stream",
     "text": [
      "{\"orgId\":\"o15897810838641\",\"modelId\":\"VPP_BESS\",\"modelIdPath\":\"/VPP_BESS\",\"payload\":[{\"assetId\":\"kN8bRrzG\",\"time\":1619170200000,\"points\":\"{\\\"active_power\\\":0,\\\"average_charge_power\\\":0,\\\"average_discharge_power\\\":0,\\\"soh\\\":100}\"}]}\n"
     ]
    },
    {
     "name": "stderr",
     "output_type": "stream",
     "text": [
      "DEBUG:enos_subscribe.core:Commit Offsets: commits {\n",
      "  topic: \"SUBSCRIPTION_sub-1599055477895\"\n",
      "  partition: 2\n",
      "  offset: 318\n",
      "}\n",
      "\n"
     ]
    },
    {
     "name": "stdout",
     "output_type": "stream",
     "text": [
      "{\"orgId\":\"o15897810838641\",\"modelId\":\"VPP_BESS\",\"modelIdPath\":\"/VPP_BESS\",\"payload\":[{\"assetId\":\"kN8bRrzG\",\"time\":1619170200000,\"points\":\"{\\\"soc\\\":52.998}\"}]}\n"
     ]
    },
    {
     "name": "stderr",
     "output_type": "stream",
     "text": [
      "DEBUG:enos_subscribe.core:Commit Offsets: commits {\n",
      "  topic: \"SUBSCRIPTION_sub-1599055477895\"\n",
      "  partition: 2\n",
      "  offset: 319\n",
      "}\n",
      "\n"
     ]
    },
    {
     "name": "stdout",
     "output_type": "stream",
     "text": [
      "{\"orgId\":\"o15897810838641\",\"modelId\":\"VPP_Grid\",\"modelIdPath\":\"/VPP_Grid\",\"payload\":[{\"assetId\":\"G3qdKBUw\",\"time\":1619170200000,\"points\":\"{\\\"active_power\\\":20.857699708,\\\"average_power\\\":20.706}\"}]}\n"
     ]
    },
    {
     "name": "stderr",
     "output_type": "stream",
     "text": [
      "DEBUG:enos_subscribe.core:Commit Offsets: commits {\n",
      "  topic: \"SUBSCRIPTION_sub-1599055477895\"\n",
      "  partition: 1\n",
      "  offset: 20\n",
      "}\n",
      "\n"
     ]
    },
    {
     "name": "stdout",
     "output_type": "stream",
     "text": [
      "{\"orgId\":\"o15897810838641\",\"modelId\":\"VPP_BESS\",\"modelIdPath\":\"/VPP_BESS\",\"payload\":[{\"assetId\":\"kN8bRrzG\",\"time\":1619170200000,\"points\":\"{\\\"discharge_energy_day_fr\\\":99.48631766,\\\"charge_energy_day_fr\\\":77.89959306,\\\"discharge_cycle_day_fr\\\":49.74315883,\\\"charge_cycle_day_fr\\\":38.94979653}\"}]}\n"
     ]
    },
    {
     "name": "stderr",
     "output_type": "stream",
     "text": [
      "DEBUG:enos_subscribe.core:Commit Offsets: commits {\n",
      "  topic: \"SUBSCRIPTION_sub-1599055477895\"\n",
      "  partition: 2\n",
      "  offset: 320\n",
      "}\n",
      "\n"
     ]
    },
    {
     "name": "stdout",
     "output_type": "stream",
     "text": [
      "{\"orgId\":\"o15897810838641\",\"modelId\":\"VPP_BESS\",\"modelIdPath\":\"/VPP_BESS\",\"payload\":[{\"assetId\":\"kN8bRrzG\",\"time\":1619170200000,\"points\":\"{\\\"charge_cycle_day_es\\\":0.965383,\\\"discharge_energy_day_es\\\":7.683731,\\\"charge_energy_day_es\\\":1.930766,\\\"discharge_cycle_day_es\\\":3.8418655}\"}]}\n"
     ]
    },
    {
     "name": "stderr",
     "output_type": "stream",
     "text": [
      "DEBUG:enos_subscribe.core:Commit Offsets: commits {\n",
      "  topic: \"SUBSCRIPTION_sub-1599055477895\"\n",
      "  partition: 2\n",
      "  offset: 321\n",
      "}\n",
      "\n"
     ]
    },
    {
     "name": "stdout",
     "output_type": "stream",
     "text": [
      "{\"orgId\":\"o15897810838641\",\"modelId\":\"VPP_Solar\",\"modelIdPath\":\"/VPP_Solar\",\"payload\":[{\"assetId\":\"F65VAZMG\",\"time\":1619170200000,\"points\":\"{\\\"active_power\\\":0.541970471,\\\"average_power\\\":0.542152}\"}]}\n"
     ]
    },
    {
     "name": "stderr",
     "output_type": "stream",
     "text": [
      "DEBUG:enos_subscribe.core:Commit Offsets: commits {\n",
      "  topic: \"SUBSCRIPTION_sub-1599055477895\"\n",
      "  partition: 2\n",
      "  offset: 322\n",
      "}\n",
      "\n"
     ]
    },
    {
     "name": "stdout",
     "output_type": "stream",
     "text": [
      "{\"orgId\":\"o15897810838641\",\"modelId\":\"VPP_BESS\",\"modelIdPath\":\"/VPP_BESS\",\"payload\":[{\"assetId\":\"kN8bRrzG\",\"time\":1619170200000,\"points\":\"{\\\"active_power\\\":0,\\\"average_charge_power\\\":0,\\\"average_discharge_power\\\":0,\\\"soh\\\":100}\"}]}\n"
     ]
    },
    {
     "name": "stderr",
     "output_type": "stream",
     "text": [
      "DEBUG:enos_subscribe.core:Commit Offsets: commits {\n",
      "  topic: \"SUBSCRIPTION_sub-1599055477895\"\n",
      "  partition: 2\n",
      "  offset: 323\n",
      "}\n",
      "\n"
     ]
    },
    {
     "name": "stdout",
     "output_type": "stream",
     "text": [
      "{\"orgId\":\"o15897810838641\",\"modelId\":\"VPP_EMMS\",\"modelIdPath\":\"/VPP_EMMS\",\"payload\":[{\"assetId\":\"f2U0fnOf\",\"time\":1619170200000,\"points\":\"{\\\"usep_price\\\":84.71,\\\"fr_price\\\":1.1}\"}]}\n"
     ]
    },
    {
     "name": "stderr",
     "output_type": "stream",
     "text": [
      "DEBUG:enos_subscribe.core:Commit Offsets: commits {\n",
      "  topic: \"SUBSCRIPTION_sub-1599055477895\"\n",
      "  partition: 2\n",
      "  offset: 324\n",
      "}\n",
      "\n"
     ]
    },
    {
     "name": "stdout",
     "output_type": "stream",
     "text": [
      "{\"orgId\":\"o15897810838641\",\"modelId\":\"VPP_Grid\",\"modelIdPath\":\"/VPP_Grid\",\"payload\":[{\"assetId\":\"G3qdKBUw\",\"time\":1619170200000,\"points\":\"{\\\"active_power\\\":20.857699708,\\\"average_power\\\":20.706}\"}]}\n"
     ]
    },
    {
     "name": "stderr",
     "output_type": "stream",
     "text": [
      "DEBUG:enos_subscribe.core:Commit Offsets: commits {\n",
      "  topic: \"SUBSCRIPTION_sub-1599055477895\"\n",
      "  partition: 1\n",
      "  offset: 21\n",
      "}\n",
      "\n"
     ]
    },
    {
     "name": "stdout",
     "output_type": "stream",
     "text": [
      "{\"orgId\":\"o15897810838641\",\"modelId\":\"VPP_EMMS\",\"modelIdPath\":\"/VPP_EMMS\",\"payload\":[{\"assetId\":\"f2U0fnOf\",\"time\":1619170200000,\"points\":\"{\\\"market_quantity\\\":128.73}\"}]}\n"
     ]
    },
    {
     "name": "stderr",
     "output_type": "stream",
     "text": [
      "DEBUG:enos_subscribe.core:Commit Offsets: commits {\n",
      "  topic: \"SUBSCRIPTION_sub-1599055477895\"\n",
      "  partition: 2\n",
      "  offset: 325\n",
      "}\n",
      "\n"
     ]
    },
    {
     "name": "stdout",
     "output_type": "stream",
     "text": [
      "{\"orgId\":\"o15897810838641\",\"modelId\":\"VPP_Solar\",\"modelIdPath\":\"/VPP_Solar\",\"payload\":[{\"assetId\":\"F65VAZMG\",\"time\":1619170200000,\"points\":\"{\\\"active_power\\\":0.541970471,\\\"average_power\\\":0.542152}\"}]}\n"
     ]
    },
    {
     "name": "stderr",
     "output_type": "stream",
     "text": [
      "DEBUG:enos_subscribe.core:Commit Offsets: commits {\n",
      "  topic: \"SUBSCRIPTION_sub-1599055477895\"\n",
      "  partition: 2\n",
      "  offset: 326\n",
      "}\n",
      "\n"
     ]
    },
    {
     "name": "stdout",
     "output_type": "stream",
     "text": [
      "{\"orgId\":\"o15897810838641\",\"modelId\":\"VPP_EMMS\",\"modelIdPath\":\"/VPP_EMMS\",\"payload\":[{\"assetId\":\"f2U0fnOf\",\"time\":1619170200000,\"points\":\"{\\\"s_q\\\":0,\\\"bid_result\\\":2}\"}]}\n"
     ]
    },
    {
     "name": "stderr",
     "output_type": "stream",
     "text": [
      "DEBUG:enos_subscribe.core:Commit Offsets: commits {\n",
      "  topic: \"SUBSCRIPTION_sub-1599055477895\"\n",
      "  partition: 2\n",
      "  offset: 327\n",
      "}\n",
      "\n"
     ]
    }
   ],
   "source": [
    "#star above jobs\n",
    "realtime_subscribe_name = uuid.uuid4().hex\n",
    "p = multiprocessing.Process(target=realtime_subscribe, name=realtime_subscribe_name)\n",
    "jobs.append(p)\n",
    "p.start()\n",
    "\n",
    "offline_subscribe_name = uuid.uuid4().hex\n",
    "p = multiprocessing.Process(target=offline_subscribe, name=offline_subscribe_name)\n",
    "jobs.append(p)\n",
    "p.start()"
   ]
  },
  {
   "cell_type": "code",
   "execution_count": 17,
   "metadata": {},
   "outputs": [
    {
     "name": "stdout",
     "output_type": "stream",
     "text": [
      "process Process-1 is terminated\n",
      "process Process-2 is terminated\n",
      "process 8605f239d42d4e64996cc89de6464d6d is terminated\n",
      "process f0782ca36d7140849c8b662ba4822b1d is terminated\n"
     ]
    }
   ],
   "source": [
    "#stop all jobs\n",
    "for p in jobs:\n",
    "    p.terminate()\n",
    "    p.join()\n",
    "    print('process %s is terminated' % p.name )"
   ]
  },
  {
   "cell_type": "code",
   "execution_count": null,
   "metadata": {},
   "outputs": [],
   "source": []
  }
 ],
 "metadata": {
  "kernelspec": {
   "display_name": "Python 3",
   "language": "python",
   "name": "python3"
  },
  "language_info": {
   "codemirror_mode": {
    "name": "ipython",
    "version": 3
   },
   "file_extension": ".py",
   "mimetype": "text/x-python",
   "name": "python",
   "nbconvert_exporter": "python",
   "pygments_lexer": "ipython3",
   "version": "3.7.9"
  }
 },
 "nbformat": 4,
 "nbformat_minor": 4
}
