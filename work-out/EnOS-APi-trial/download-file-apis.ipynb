{
 "cells": [
  {
   "cell_type": "code",
   "execution_count": 1,
   "metadata": {},
   "outputs": [
    {
     "name": "stdout",
     "output_type": "stream",
     "text": [
      "importing Jupyter notebook from conf_ppe.ipynb\n",
      "importing Jupyter notebook from common.ipynb\n",
      "03 Aug 2020 DAQ FilesPQC887\n"
     ]
    }
   ],
   "source": [
    "import datetime\n",
    "import json\n",
    "import requests\n",
    "import pprint\n",
    "from poseidon import poseidon\n",
    "from urllib.request import pathname2url\n",
    "from hashlib import sha256\n",
    "import hashlib\n",
    "import calendar\n",
    "import time\n",
    "#import commond.ipynb from same folder\n",
    "import import_ipynb\n",
    "from conf_ppe import *\n",
    "from common import *"
   ]
  },
  {
   "cell_type": "code",
   "execution_count": 2,
   "metadata": {},
   "outputs": [],
   "source": [
    "def download_file(address, orgId, file_path, assetId):\n",
    "    try:\n",
    "        urlAsset = '%s/connect-service/v2.1/files?action=download&orgId=%s&fileUri=%s&assetId=%s&category=feature' % (address, orgId, file_path, assetId)\n",
    "        print(urlAsset)\n",
    "        req = poseidon.urlopen(appkey, appsecret, urlAsset)\n",
    "        return req;\n",
    "    except Exception as err:\n",
    "        print(err)   "
   ]
  },
  {
   "cell_type": "code",
   "execution_count": 3,
   "metadata": {},
   "outputs": [],
   "source": [
    "def encrypt_string(hash_string):\n",
    "    sha_signature = hashlib.sha256(hash_string.encode()).hexdigest()\n",
    "    return sha_signature"
   ]
  },
  {
   "cell_type": "code",
   "execution_count": 4,
   "metadata": {},
   "outputs": [],
   "source": [
    "def get_access_token(address, body):\n",
    "    try:\n",
    "        custom_header = {'content-type': 'application/json'}\n",
    "        urlAsset = '%s/apim-token-service/v2.0/token/get' % (address)\n",
    "        print(urlAsset)\n",
    "        req = requests.post(urlAsset, data = json.dumps(body), headers = custom_header)\n",
    "        output = req.json()\n",
    "        result = output['data']['accessToken']\n",
    "        return result\n",
    "    except Exception as err:\n",
    "        print(err)   "
   ]
  },
  {
   "cell_type": "code",
   "execution_count": 5,
   "metadata": {},
   "outputs": [],
   "source": [
    "def getTokenRequestBody():\n",
    "    try:\n",
    "        timestamp = int(round(time.time() * 1000))\n",
    "        unixtime = timestamp\n",
    "        sign = '{}{}{}'.format(appkey, unixtime, appsecret).lower()\n",
    "        print(sign)\n",
    "        encrypted_code = encrypt_string(sign)\n",
    "\n",
    "        payload = {\n",
    "            \"appKey\": appkey,\n",
    "            \"encryption\": encrypted_code,\n",
    "            \"timestamp\": unixtime\n",
    "        }\n",
    "        print(payload)\n",
    "        return payload\n",
    "    except Exception as err:\n",
    "        print(err) "
   ]
  },
  {
   "cell_type": "code",
   "execution_count": 6,
   "metadata": {},
   "outputs": [
    {
     "name": "stdout",
     "output_type": "stream",
     "text": [
      "3dc2597b-e232-45db-bb16-e94443deb7f31615469761038d1768b8c-4be1-4b8a-8315-3f370f6228a5\n",
      "{'appKey': '3dc2597b-e232-45db-bb16-e94443deb7f3', 'encryption': '1ff650ca12b6ed3740b598bd45b5ffb36a72ff1937775c1e7afd40c3154a3b5b', 'timestamp': 1615469761038}\n",
      "address: https://apim-ppe1.envisioniot.com\n",
      "https://apim-ppe1.envisioniot.com/apim-token-service/v2.0/token/get\n",
      "99ab7cb07f198973304f14ede41784e9c52f4de877ceb56b5ce5e0904045665d\n"
     ]
    }
   ],
   "source": [
    "requestBody = getTokenRequestBody()\n",
    "print('address: %s' % (address))\n",
    "parsed = get_access_token(address, requestBody)\n",
    "\n",
    "print(parsed)"
   ]
  },
  {
   "cell_type": "code",
   "execution_count": 17,
   "metadata": {},
   "outputs": [],
   "source": [
    "def upload_mp(token_API_address, integration_address, org_id, asset_id):\n",
    "    try:\n",
    "        requestBody = getTokenRequestBody()\n",
    "        token = get_access_token(token_API_address, requestBody)\n",
    "                     \n",
    "        custom_header = {'content-type': 'application/json',\n",
    "            'apim-accesstoken': token\n",
    "        }\n",
    "        print('header = %s' % custom_header)\n",
    "        body  = {\n",
    "            \"method\": \"integration.measurepoint.post\",\n",
    "            \"version\": \"1.1\",\n",
    "            \"params\":[        \n",
    "                        {\n",
    "                            \"assetId\": \"tR7u5in2\",\n",
    "                            \"time\": int(round(time.time() * 1000)),\n",
    "                            \"measurepoints\": {\n",
    "                                \"demand_max_ytd\": 12.09000012\n",
    "                            }\n",
    "                        }\n",
    "                    ]\n",
    "            }\n",
    "        print('body = %s' % json.dumps(body))\n",
    "        urlAsset = '%s/connect-service/v2.1/integration?action=postMeasurepoint&orgId=%s' % (integration_address, org_id)\n",
    "        print('Upload Measurement Point: %s' % urlAsset)\n",
    "        response = requests.post(urlAsset, data = json.dumps(body), headers = custom_header)\n",
    "        print('output: %s' % response)\n",
    "        return response             \n",
    "    except Exception as err:\n",
    "        print(err)"
   ]
  },
  {
   "cell_type": "code",
   "execution_count": 8,
   "metadata": {},
   "outputs": [
    {
     "name": "stdout",
     "output_type": "stream",
     "text": [
      "3dc2597b-e232-45db-bb16-e94443deb7f31615260616685d1768b8c-4be1-4b8a-8315-3f370f6228a5\n",
      "{'appKey': '3dc2597b-e232-45db-bb16-e94443deb7f3', 'encryption': 'b2c7d7bfd4a6e9496a4155dcf02136260c39a8b693d5d5222ee55037db297a21', 'timestamp': 1615260616685}\n",
      "https://apim-ppe1.envisioniot.com/apim-token-service/v2.0/token/get\n",
      "header = {'content-type': 'application/json', 'apim-accesstoken': 'ccd112edb9b19bb99f79581d66a0c2be391fecbbc651cba4ca6e5c9db0306973'}\n",
      "body = {\"method\": \"integration.measurepoint.post\", \"version\": \"1.1\", \"params\": [{\"assetId\": \"tR7u5in2\", \"time\": 1615260616767, \"measurepoints\": {\"demand_max_ytd\": 12.09000012}}]}\n",
      "Upload Measurement Point: https://iot-http-integration-ppe1.envisioniot.com/connect-service/v2.1/integration?action=postMeasurepoint&orgId=o15897810838641\n",
      "output: <Response [403]>\n",
      "<Response [403]>\n"
     ]
    }
   ],
   "source": [
    "parsed = upload_mp(address, integration_address, orgId, assetId)\n",
    "\n",
    "print(parsed)"
   ]
  },
  {
   "cell_type": "code",
   "execution_count": null,
   "metadata": {},
   "outputs": [],
   "source": []
  }
 ],
 "metadata": {
  "kernelspec": {
   "display_name": "Python 3",
   "language": "python",
   "name": "python3"
  },
  "language_info": {
   "codemirror_mode": {
    "name": "ipython",
    "version": 3
   },
   "file_extension": ".py",
   "mimetype": "text/x-python",
   "name": "python",
   "nbconvert_exporter": "python",
   "pygments_lexer": "ipython3",
   "version": "3.7.9"
  }
 },
 "nbformat": 4,
 "nbformat_minor": 4
}
