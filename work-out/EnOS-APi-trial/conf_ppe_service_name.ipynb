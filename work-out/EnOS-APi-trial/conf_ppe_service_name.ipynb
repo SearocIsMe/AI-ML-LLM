{
 "cells": [
  {
   "cell_type": "code",
   "execution_count": null,
   "metadata": {},
   "outputs": [],
   "source": [
    "appkey = '3dc2597b-e232-45db-bb16-e94443deb7f3'\n",
    "appsecret = 'd1768b8c-4be1-4b8a-8315-3f370f6228a5'\n",
    "address = 'http://apim-apigw.enos.svc.cluster.local:8000'\n",
    "assetId = 'ZcOrVdNa'\n",
    "orgId = 'o15897810838641'\n",
    "treeId = '9vdR7v9h'\n",
    "integration_address = 'http://iot-http-broker.enos.svc:8080'"
   ]
  }
 ],
 "metadata": {
  "kernelspec": {
   "display_name": "Python 3.8.2 64-bit",
   "language": "python",
   "name": "python38264bit531043c9d6c841678785eac43c0bb573"
  },
  "language_info": {
   "codemirror_mode": {
    "name": "ipython",
    "version": 3
   },
   "file_extension": ".py",
   "mimetype": "text/x-python",
   "name": "python",
   "nbconvert_exporter": "python",
   "pygments_lexer": "ipython3",
   "version": "3.8.2"
  }
 },
 "nbformat": 4,
 "nbformat_minor": 4
}
