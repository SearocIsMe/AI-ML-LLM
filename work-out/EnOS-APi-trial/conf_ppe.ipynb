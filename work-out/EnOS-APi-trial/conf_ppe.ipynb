{
 "cells": [
  {
   "cell_type": "code",
   "execution_count": 1,
   "metadata": {},
   "outputs": [],
   "source": [
    "appkey = '3dc2597b-e232-45db-bb16-e94443deb7f3'\n",
    "appsecret = 'd1768b8c-4be1-4b8a-8315-3f370f6228a5'\n",
    "address = 'https://apim-ppe1.envisioniot.com'\n",
    "assetId = 'ZcOrVdNa'\n",
    "orgId = 'o15897810838641'\n",
    "treeId = '9vdR7v9h'\n",
    "substation = ['MainSub_01', 'MainSub_03', 'MainSub_02']\n",
    "substationIds = ['ZcOrVdNa', 'rgzLjVwc', 'ooBROdU2']\n",
    "mpName  = \"Active_Energy_OnMinute\"\n",
    "folder_name = \"c:/2-Envision/KOM/\"\n",
    "integration_address = 'https://iot-http-integration-ppe1.envisioniot.com'"
   ]
  },
  {
   "cell_type": "code",
   "execution_count": null,
   "metadata": {},
   "outputs": [],
   "source": []
  },
  {
   "cell_type": "code",
   "execution_count": null,
   "metadata": {},
   "outputs": [],
   "source": []
  }
 ],
 "metadata": {
  "kernelspec": {
   "display_name": "Python 3",
   "language": "python",
   "name": "python3"
  },
  "language_info": {
   "codemirror_mode": {
    "name": "ipython",
    "version": 3
   },
   "file_extension": ".py",
   "mimetype": "text/x-python",
   "name": "python",
   "nbconvert_exporter": "python",
   "pygments_lexer": "ipython3",
   "version": "3.7.9"
  }
 },
 "nbformat": 4,
 "nbformat_minor": 4
}
