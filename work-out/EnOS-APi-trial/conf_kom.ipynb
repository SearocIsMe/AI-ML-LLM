{
 "cells": [
  {
   "cell_type": "code",
   "execution_count": 1,
   "metadata": {},
   "outputs": [],
   "source": [
    "appkey = 'c5e02d0b-3e87-4f41-bb86-329bc4481487'\n",
    "appsecret = '4f548fa3-0b0d-4416-a847-28908baab344'\n",
    "address = 'https://ag-keppel1.envisioniot.com'\n",
    "orgId = 'o15517493411281'\n",
    "\n",
    "treeId = 'ToY67rxc'                                      ## asset tree ID containing the below substation\\\n",
    "substation = ['MainSub_01', 'MainSub_03', 'MainSub_02']  ## substation name\n",
    "substationIds = ['2Z86rfOS', '5QM4Useo', 'bu4eboNR']     ## substation assetId\n",
    "\n",
    "mpName  = \"Active_Power_Minute\"                          ## default measurement point name whose TS data will be exported        \n",
    "folder_name = \"/Users/searoc/Documents/test\"             ## folder of the exported datafile. file name is created by the name of mp."
   ]
  },
  {
   "cell_type": "code",
   "execution_count": null,
   "metadata": {},
   "outputs": [],
   "source": []
  }
 ],
 "metadata": {
  "kernelspec": {
   "display_name": "Python 3",
   "language": "python",
   "name": "python3"
  },
  "language_info": {
   "codemirror_mode": {
    "name": "ipython",
    "version": 3
   },
   "file_extension": ".py",
   "mimetype": "text/x-python",
   "name": "python",
   "nbconvert_exporter": "python",
   "pygments_lexer": "ipython3",
   "version": "3.7.9"
  }
 },
 "nbformat": 4,
 "nbformat_minor": 4
}
