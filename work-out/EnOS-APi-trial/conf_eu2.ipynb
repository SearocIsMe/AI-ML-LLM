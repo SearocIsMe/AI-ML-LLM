{
 "cells": [
  {
   "cell_type": "code",
   "execution_count": 1,
   "metadata": {},
   "outputs": [],
   "source": [
    "appkey = '42e775c4-ff0f-4bb5-af69-1dd21efc656b'\n",
    "appsecret = 'e9298fe1-28cd-4f51-a4cd-8a9d96eef64c'\n",
    "address = 'https://ag-eu2.envisioniot.com'\n",
    "assetId = 'UUlDJ8aC'\n",
    "orgId = 'o16111351788701'\n",
    "treeId = '4RhTfHdN'\n",
    "substation = ['MainSub_01', 'MainSub_03', 'MainSub_02']\n",
    "substationIds = ['ZcOrVdNa', 'rgzLjVwc', 'ooBROdU2']\n",
    "mpName  = \"Active_Energy_OnMinute\"\n",
    "folder_name = \"c:/2-Envision/KOM/\"\n",
    "integration_address = 'https://iot-http-integration-eu2.envisioniot.com'"
   ]
  },
  {
   "cell_type": "code",
   "execution_count": null,
   "metadata": {},
   "outputs": [],
   "source": []
  }
 ],
 "metadata": {
  "kernelspec": {
   "display_name": "Python 3",
   "language": "python",
   "name": "python3"
  },
  "language_info": {
   "codemirror_mode": {
    "name": "ipython",
    "version": 3
   },
   "file_extension": ".py",
   "mimetype": "text/x-python",
   "name": "python",
   "nbconvert_exporter": "python",
   "pygments_lexer": "ipython3",
   "version": "3.7.9"
  }
 },
 "nbformat": 4,
 "nbformat_minor": 4
}
