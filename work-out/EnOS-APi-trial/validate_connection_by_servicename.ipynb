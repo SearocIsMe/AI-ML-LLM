{
 "cells": [
  {
   "cell_type": "code",
   "execution_count": null,
   "metadata": {},
   "outputs": [],
   "source": [
    "import datetime\n",
    "import json\n",
    "import requests\n",
    "import pprint\n",
    "from hashlib import sha256\n",
    "import hashlib\n",
    "import time\n",
    "#import commond.ipynb from same folder\n",
    "import import_ipynb\n",
    "from conf_ppe_service_name import *\n",
    "from common import *"
   ]
  },
  {
   "cell_type": "code",
   "execution_count": null,
   "metadata": {},
   "outputs": [],
   "source": [
    "def encrypt_string(hash_string):\n",
    "    sha_signature = hashlib.sha256(hash_string.encode()).hexdigest()\n",
    "    return sha_signature"
   ]
  },
  {
   "cell_type": "code",
   "execution_count": null,
   "metadata": {},
   "outputs": [],
   "source": [
    "def get_access_token(address, body):\n",
    "    try:\n",
    "        custom_header = {'content-type': 'application/json'}\n",
    "        urlAsset = '%s/apim-token-service/v2.0/token/get' % (address)\n",
    "        print(urlAsset)\n",
    "        req = requests.post(urlAsset, data = json.dumps(body), headers = custom_header)\n",
    "        output = req.json()\n",
    "        result = output['data']['accessToken']\n",
    "        return result\n",
    "    except Exception as err:\n",
    "        print(err)  "
   ]
  },
  {
   "cell_type": "code",
   "execution_count": null,
   "metadata": {},
   "outputs": [],
   "source": [
    "def getTokenRequestBody():\n",
    "    try:\n",
    "        timestamp = int(round(time.time() * 1000))\n",
    "        unixtime = timestamp\n",
    "        sign = '{}{}{}'.format(appkey, unixtime, appsecret).lower()\n",
    "        print(sign)\n",
    "        encrypted_code = encrypt_string(sign)\n",
    "\n",
    "        payload = {\n",
    "            \"appKey\": appkey,\n",
    "            \"encryption\": encrypted_code,\n",
    "            \"timestamp\": unixtime\n",
    "        }\n",
    "        print(payload)\n",
    "        return payload\n",
    "    except Exception as err:\n",
    "        print(err) "
   ]
  },
  {
   "cell_type": "code",
   "execution_count": null,
   "metadata": {},
   "outputs": [],
   "source": [
    "requestBody = getTokenRequestBody()\n",
    "print('address: %s' % (address))\n",
    "parsed = get_access_token(address, requestBody)\n",
    "\n",
    "print(parsed)"
   ]
  }
 ],
 "metadata": {
  "kernelspec": {
   "display_name": "Python 3.8.2 64-bit",
   "language": "python",
   "name": "python38264bit531043c9d6c841678785eac43c0bb573"
  },
  "language_info": {
   "codemirror_mode": {
    "name": "ipython",
    "version": 3
   },
   "file_extension": ".py",
   "mimetype": "text/x-python",
   "name": "python",
   "nbconvert_exporter": "python",
   "pygments_lexer": "ipython3",
   "version": "3.8.2"
  }
 },
 "nbformat": 4,
 "nbformat_minor": 4
}
