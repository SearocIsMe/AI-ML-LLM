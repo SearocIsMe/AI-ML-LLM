{
 "cells": [
  {
   "cell_type": "code",
   "execution_count": 5,
   "metadata": {},
   "outputs": [],
   "source": [
    "import datetime\n",
    "import json\n",
    "import pprint\n",
    "from poseidon import poseidon\n",
    "\n",
    "accessKey = '9818b034-8a3e-478c-b848-2e3ab835b914'\n",
    "secretKey = '70a3dc98-6a6f-4102-b9bb-80865201213a'\n",
    "latitude = 1.3521\n",
    "longitude = 103.8198\n",
    "    \n",
    "# full apis is https://ag-eu2.envisioniot.com/apim-instance-partner/forecast/v1/predictions\n",
    "address = 'https://ag-cn5.envisioniot.com'\n",
    " \n",
    "def test_weather_api():\n",
    "    try:\n",
    "        urlAsset = '%s/en-weather/v2/api/forecast/pro/hourly?weatherelement=%s&longtitue=%s&latitude=%s&metadata=true' \\\n",
    "        % (address, 'Hourly', longitude, latitude)\n",
    "        print(urlAsset)\n",
    "        req = poseidon.urlopen(accessKey, secretKey, urlAsset)\n",
    "        return req;\n",
    "    except Exception as err:\n",
    "        print(err)"
   ]
  },
  {
   "cell_type": "code",
   "execution_count": 6,
   "metadata": {},
   "outputs": [
    {
     "name": "stdout",
     "output_type": "stream",
     "text": [
      "https://ag-cn5.envisioniot.com/en-weather/v2/api/forecast/pro/hourly?weatherelement=Hourly&longtitue=103.8198&latitude=1.3521&metadata=true\n",
      "HTTP Error 400: \n",
      "null\n"
     ]
    }
   ],
   "source": [
    "parsed = test_weather_api()\n",
    "print(json.dumps(parsed, indent=2, sort_keys=True))"
   ]
  },
  {
   "cell_type": "code",
   "execution_count": null,
   "metadata": {},
   "outputs": [],
   "source": []
  }
 ],
 "metadata": {
  "kernelspec": {
   "display_name": "Python 3",
   "language": "python",
   "name": "python3"
  },
  "language_info": {
   "codemirror_mode": {
    "name": "ipython",
    "version": 3
   },
   "file_extension": ".py",
   "mimetype": "text/x-python",
   "name": "python",
   "nbconvert_exporter": "python",
   "pygments_lexer": "ipython3",
   "version": "3.7.9"
  }
 },
 "nbformat": 4,
 "nbformat_minor": 4
}
