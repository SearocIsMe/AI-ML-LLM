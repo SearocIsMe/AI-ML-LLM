{
 "cells": [
  {
   "cell_type": "code",
   "execution_count": 1,
   "metadata": {},
   "outputs": [
    {
     "name": "stdout",
     "output_type": "stream",
     "text": [
      "importing Jupyter notebook from conf_ppe.ipynb\n",
      "importing Jupyter notebook from common.ipynb\n",
      "03 Aug 2020 DAQ FilesPQC887\n"
     ]
    }
   ],
   "source": [
    "import datetime\n",
    "import sys\n",
    "import numpy as np\n",
    "import gc\n",
    "import json\n",
    "import pprint\n",
    "from poseidon import poseidon\n",
    "from datetime import datetime , timedelta\n",
    "from dateutil.relativedelta import relativedelta\n",
    "\n",
    "#import commond.ipynb from same folder\n",
    "import import_ipynb\n",
    "from conf_ppe import *\n",
    "from common import *"
   ]
  },
  {
   "cell_type": "code",
   "execution_count": 14,
   "metadata": {},
   "outputs": [],
   "source": [
    "#http://wiki.envisioncn.com/pages/viewpage.action?pageId=16562301#id-%E6%A8%A1%E5%9E%8BOpenAPI-2.2UpdateThingModel\n",
    "\n",
    "def deleteMp(model_id, mp_ids):\n",
    "    try:\n",
    "        urlAsset = '%s/model-service/v2.1/thing-models?orgId=%s&action=update' % (\n",
    "            address, orgId)\n",
    "        requestBody = {\n",
    "            \"modelId\": \"%s\" % model_id,\n",
    "            \"featuresToDelete\": mp_ids\n",
    "        }\n",
    "        print(urlAsset)\n",
    "        req = poseidon.urlopen(appkey, appsecret, urlAsset, requestBody)\n",
    "        return req;\n",
    "    except Exception as err:\n",
    "        print(err)    "
   ]
  },
  {
   "cell_type": "code",
   "execution_count": 16,
   "metadata": {},
   "outputs": [
    {
     "name": "stdout",
     "output_type": "stream",
     "text": [
      "https://apim-ppe1.envisioniot.com/model-service/v2.1/thing-models?orgId=o15897810838641&action=update\n",
      "{\n",
      "  \"code\": 0,\n",
      "  \"data\": null,\n",
      "  \"msg\": \"OK\",\n",
      "  \"requestId\": \"99b4fcfb-454b-4ac8-832e-047f2b84357a\"\n",
      "}\n"
     ]
    }
   ],
   "source": [
    "parsed = deleteMp(\"DOE_config\", [\"ts_cc\", \"ts_energyprice\"])\n",
    "\n",
    "print(json.dumps(parsed, indent=2, sort_keys=True))"
   ]
  },
  {
   "cell_type": "code",
   "execution_count": null,
   "metadata": {},
   "outputs": [],
   "source": []
  }
 ],
 "metadata": {
  "kernelspec": {
   "display_name": "Python 3",
   "language": "python",
   "name": "python3"
  },
  "language_info": {
   "codemirror_mode": {
    "name": "ipython",
    "version": 3
   },
   "file_extension": ".py",
   "mimetype": "text/x-python",
   "name": "python",
   "nbconvert_exporter": "python",
   "pygments_lexer": "ipython3",
   "version": "3.7.9"
  }
 },
 "nbformat": 4,
 "nbformat_minor": 4
}
