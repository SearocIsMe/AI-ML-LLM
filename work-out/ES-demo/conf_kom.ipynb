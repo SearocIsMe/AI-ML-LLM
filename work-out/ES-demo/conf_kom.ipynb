{
 "cells": [
  {
   "cell_type": "code",
   "execution_count": 1,
   "metadata": {},
   "outputs": [],
   "source": [
    "appkey = 'c5e02d0b-3e87-4f41-bb86-329bc4481487'\n",
    "appsecret = '4f548fa3-0b0d-4416-a847-28908baab344'\n",
    "address = 'https://ag-keppel1.envisioniot.com'\n",
    "assetId = '2Z86rfOS'\n",
    "orgId = 'o15517493411281'\n",
    "treeId = 'ToY67rxc'\n",
    "substation = ['MainSub_01', 'MainSub_03', 'MainSub_02']\n",
    "substationIds = ['2Z86rfOS', '5QM4Useo', 'bu4eboNR']\n",
    "mpName  = \"Active_Power_Minute\"\n",
    "folder_name = \"c:/2-Envision/KOM/\""
   ]
  },
  {
   "cell_type": "code",
   "execution_count": null,
   "metadata": {},
   "outputs": [],
   "source": []
  }
 ],
 "metadata": {
  "kernelspec": {
   "display_name": "Python 3",
   "language": "python",
   "name": "python3"
  },
  "language_info": {
   "codemirror_mode": {
    "name": "ipython",
    "version": 3
   },
   "file_extension": ".py",
   "mimetype": "text/x-python",
   "name": "python",
   "nbconvert_exporter": "python",
   "pygments_lexer": "ipython3",
   "version": "3.8.3"
  }
 },
 "nbformat": 4,
 "nbformat_minor": 4
}
