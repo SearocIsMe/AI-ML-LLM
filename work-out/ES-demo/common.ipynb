{
 "cells": [
  {
   "cell_type": "code",
   "execution_count": 1,
   "metadata": {},
   "outputs": [],
   "source": [
    "import pandas as pd\n",
    "import numpy as np\n",
    "import calendar\n",
    "import os.path\n",
    "#conding=utf8  \n",
    "import os "
   ]
  },
  {
   "cell_type": "code",
   "execution_count": 2,
   "metadata": {},
   "outputs": [],
   "source": [
    "def get_interests_columns():\n",
    "    cols = [\n",
    "        'Date',\n",
    "        'Time',\n",
    "        'Comm Status',\n",
    "        'CraneNumber',\n",
    "        'Weight',\n",
    "        'Frequency',\n",
    "        'Spreader_20FT',\n",
    "        'Spreader_40FT',\n",
    "        'Spreader_45FT',\n",
    "        'Spreader_Twin',\n",
    "        'Twistlock',\n",
    "        'OT_Control STS_Hoist Up (Controller)',\n",
    "        'OT_Control STS_Hoist Down (Controller)',\n",
    "        'OT_Control STS_Trolley Forward (Controller)',\n",
    "        'OT_Control STS_Trolley Reverse (Controller)',\n",
    "        'Phase A Current',\n",
    "        'Phase B Current',\n",
    "        'Phase C Current',\n",
    "        'Average Current',\n",
    "        'Neutral Current',\n",
    "        'Voltage Vab',\n",
    "        'Voltage Vbc',\n",
    "        'Voltage Vca',\n",
    "        '3 Phase Real Power',\n",
    "        '3 Phase Reactive Power',\n",
    "        '3 Phase Apparent Power',\n",
    "        '3 Phase Positive Real Energy Used',\n",
    "        '3 Phase Negative Real Energy Used',\n",
    "        '3 Phase Positive Reactive Energy Used',\n",
    "        '3 Phase Negative Reactive Energy Used',\n",
    "        '3 Phase Apparent Energy',\n",
    "        'OT_Control STS_Gantry Right (Controller)',\n",
    "        'OT_Control STS_Gantry Left (Controller)',\n",
    "        'OT_Control STS_Boom Up (Controller)',\n",
    "        'OT_Control STS_Boom Down (Controller)',\n",
    "        'Trolley Position',\n",
    "        'Load Cell1 Data',\n",
    "        'Load Cell2 Data',\n",
    "        'Load Cell3 Data',\n",
    "        'Load Cell4 Data',\n",
    "        'SP STS_Landed']\n",
    "    return cols\n",
    "\n"
   ]
  },
  {
   "cell_type": "code",
   "execution_count": 3,
   "metadata": {},
   "outputs": [],
   "source": [
    "def get_interests_columns_simple():\n",
    "    cols = [\n",
    "        'Weight',\n",
    "        'Frequency',\n",
    "        'Spreader_20FT',\n",
    "        'Spreader_40FT',\n",
    "        'Spreader_45FT',\n",
    "        'Spreader_Twin',\n",
    "        'OT_Control STS_Hoist Up (Controller)',\n",
    "        'OT_Control STS_Hoist Down (Controller)',\n",
    "        'OT_Control STS_Trolley Forward (Controller)',\n",
    "        'OT_Control STS_Trolley Reverse (Controller)',\n",
    "        'Phase A Current',\n",
    "        'Phase B Current',\n",
    "        'Phase C Current',\n",
    "        'Average Current',\n",
    "        'Neutral Current',\n",
    "        'Voltage Vab',\n",
    "        'Voltage Vbc',\n",
    "        'Voltage Vca',\n",
    "        '3 Phase Real Power',\n",
    "        '3 Phase Reactive Power',\n",
    "        '3 Phase Apparent Power',\n",
    "        '3 Phase Positive Real Energy Used',\n",
    "        '3 Phase Negative Real Energy Used',\n",
    "        '3 Phase Positive Reactive Energy Used',\n",
    "        '3 Phase Negative Reactive Energy Used',\n",
    "        '3 Phase Apparent Energy',\n",
    "        'OT_Control STS_Gantry Right (Controller)',\n",
    "        'OT_Control STS_Gantry Left (Controller)',\n",
    "        'OT_Control STS_Boom Up (Controller)',\n",
    "        'OT_Control STS_Boom Down (Controller)',\n",
    "        'Trolley Position',\n",
    "        'Load Cell1 Data',\n",
    "        'Load Cell2 Data',\n",
    "        'Load Cell3 Data',\n",
    "        'Load Cell4 Data',\n",
    "        'SP STS_Landed']\n",
    "    return cols"
   ]
  },
  {
   "cell_type": "code",
   "execution_count": 4,
   "metadata": {},
   "outputs": [],
   "source": [
    "def get_psa_columns_code():\n",
    "    cols = [\n",
    "        'Date',\n",
    "        'Time',\n",
    "        'CraneNumber',\n",
    "        'MW9142',\n",
    "        'MW9143',\n",
    "        'MW9144',\n",
    "        'MW9145',\n",
    "        'MW9136'\n",
    "        ]\n",
    "    return cols"
   ]
  },
  {
   "cell_type": "code",
   "execution_count": 2,
   "metadata": {},
   "outputs": [],
   "source": [
    "def load_data(file_name):\n",
    "    df_all = pd.read_csv(file_name, error_bad_lines=False, delimiter=\",\", header=[0], skiprows=[1])\n",
    "    #print (df_all.head())\n",
    "    df_all.columns = df_all.columns.str.strip() # remove tail spaces.\n",
    "    df_all.columns.tolist()\n",
    "    cols = get_interests_columns_simple()\n",
    "    try:\n",
    "        subset = df_all[cols]\n",
    "        return subset\n",
    "    except KeyError:\n",
    "        print(KeyError)\n",
    "        return None"
   ]
  },
  {
   "cell_type": "code",
   "execution_count": 7,
   "metadata": {},
   "outputs": [],
   "source": [
    "def load_zip_data(file_name):\n",
    "    df_all = pd.read_csv(file_name,engine='python', compression='zip', error_bad_lines=False, delimiter=\",\", header=[0], skiprows=[0])\n",
    "    # print (df_all.head())\n",
    "    df_all.columns = df_all.columns.str.strip() # remove tail spaces.\n",
    "    df_all.columns.tolist()\n",
    "    cols = get_psa_columns_code()\n",
    "    try:\n",
    "        subset = df_all[cols]\n",
    "        return subset\n",
    "    except KeyError:\n",
    "        print('%s, Does not contain expected columns' % file_name)\n",
    "        return None"
   ]
  },
  {
   "cell_type": "code",
   "execution_count": 6,
   "metadata": {},
   "outputs": [],
   "source": [
    "def get_file_list(folder_name, ext=\"csv\", b_print=False):\n",
    "    g = os.walk(folder_name)  \n",
    "    f = []\n",
    "    for path,dir_list,file_list in g:  \n",
    "        for file_name in file_list:  \n",
    "            if file_name.endswith(\".\" + ext):\n",
    "                file_name = os.path.join(path, file_name)\n",
    "                if b_print == True :\n",
    "                    print(file_name)\n",
    "                f.append(file_name)\n",
    "    return f"
   ]
  },
  {
   "cell_type": "code",
   "execution_count": 7,
   "metadata": {},
   "outputs": [],
   "source": [
    "def export_dataset(dataframe, file_name, folder_name):\n",
    "    if not dataframe.empty:\n",
    "        dataframe.to_csv(folder_name + '/' +file_name + '.csv', index=False, sep=',');\n",
    "        return True\n",
    "    \n",
    "    return False\n",
    "    "
   ]
  },
  {
   "cell_type": "code",
   "execution_count": 6,
   "metadata": {},
   "outputs": [
    {
     "data": {
      "text/plain": [
       "'\\nDate\\nTime\\nComm Status\\nCraneNumber\\nWeight\\nFrequency\\nSpreader_20FT\\nSpreader_40FT\\nSpreader_45FT\\nSpreader_Twin\\nTwistlock\\nOT_Control\\nSTS_Hoist Up (Controller)\\nOT_Control STS_Hoist Down (Controller)\\nOT_Control STS_Trolley Forward (Controller)\\nOT_Control STS_Trolley Reverse (Controller)\\nPhase A Current -> not exist\\nPhase B Current\\nPhase C Current\\nAverage Current\\nNeutral Current -> not exist\\nVoltage Vab\\nVoltage Vab\\nVoltage Vbc\\nVoltage Vbc\\nVoltage Vca\\nVoltage Vca\\n3 Phase Real Power (KW)\\n3 Phase Real Power (KW)\\n3 Phase Reactive Power (Kvar)\\n3 Phase Reactive Power (Kvar)\\n3 Phase Apparent Power (KVA)\\n3 Phase Apparent Power (KVA)\\n3 Phase Positive Real Energy Used (KWH)\\n3 Phase Positive Real Energy Used (KWH)\\n3 Phase Negative Real Energy Used (KWh)\\n3 Phase Negative Real Energy Used (KWh)\\n3 Phase Positive Reactive Energy Used (Kvarh)\\n3 Phase Positive Reactive Energy Used (Kvarh)\\n3 Phase Negative Reactive Energy Used (Kvarh)\\n3 Phase Negative Reactive Energy Used (Kvarh)\\n3 Phase Apparent Energy (KVAh) -> not exist\\n3 Phase Apparent Energy (KVAh)\\nOT_Control STS_Gantry Right (Controller)\\nOT_Control STS_Gantry Left (Controller)\\nOT_Control STS_Boom Up (Controller)\\nOT_Control STS_Boom Down (Controller)\\nLoad Cell1 Data\\nLoad Cell2 Data\\nLoad Cell3 Data\\nLoad Cell4 Data\\nSP STS_Landed\\n'"
      ]
     },
     "execution_count": 6,
     "metadata": {},
     "output_type": "execute_result"
    }
   ],
   "source": [
    "\"\"\"\n",
    "Date\n",
    "Time\n",
    "Comm Status\n",
    "CraneNumber\n",
    "Weight\n",
    "Frequency\n",
    "Spreader_20FT\n",
    "Spreader_40FT\n",
    "Spreader_45FT\n",
    "Spreader_Twin\n",
    "Twistlock\n",
    "OT_Control\n",
    "STS_Hoist Up (Controller)\n",
    "OT_Control STS_Hoist Down (Controller)\n",
    "OT_Control STS_Trolley Forward (Controller)\n",
    "OT_Control STS_Trolley Reverse (Controller)\n",
    "Phase A Current -> not exist\n",
    "Phase B Current\n",
    "Phase C Current\n",
    "Average Current\n",
    "Neutral Current -> not exist\n",
    "Voltage Vab\n",
    "Voltage Vab\n",
    "Voltage Vbc\n",
    "Voltage Vbc\n",
    "Voltage Vca\n",
    "Voltage Vca\n",
    "3 Phase Real Power (KW)\n",
    "3 Phase Real Power (KW)\n",
    "3 Phase Reactive Power (Kvar)\n",
    "3 Phase Reactive Power (Kvar)\n",
    "3 Phase Apparent Power (KVA)\n",
    "3 Phase Apparent Power (KVA)\n",
    "3 Phase Positive Real Energy Used (KWH)\n",
    "3 Phase Positive Real Energy Used (KWH)\n",
    "3 Phase Negative Real Energy Used (KWh)\n",
    "3 Phase Negative Real Energy Used (KWh)\n",
    "3 Phase Positive Reactive Energy Used (Kvarh)\n",
    "3 Phase Positive Reactive Energy Used (Kvarh)\n",
    "3 Phase Negative Reactive Energy Used (Kvarh)\n",
    "3 Phase Negative Reactive Energy Used (Kvarh)\n",
    "3 Phase Apparent Energy (KVAh) -> not exist\n",
    "3 Phase Apparent Energy (KVAh)\n",
    "OT_Control STS_Gantry Right (Controller)\n",
    "OT_Control STS_Gantry Left (Controller)\n",
    "OT_Control STS_Boom Up (Controller)\n",
    "OT_Control STS_Boom Down (Controller)\n",
    "Load Cell1 Data\n",
    "Load Cell2 Data\n",
    "Load Cell3 Data\n",
    "Load Cell4 Data\n",
    "SP STS_Landed\n",
    "\"\"\""
   ]
  },
  {
   "cell_type": "code",
   "execution_count": 37,
   "metadata": {},
   "outputs": [],
   "source": [
    "# function to get parent \n",
    "def getParent(path, levels): \n",
    "    fileName = os.path.basename(path);\n",
    "    current_dir =  os.path.abspath(os.path.dirname(fileName))\n",
    "    #print('current_dir: ' + current_dir)\n",
    "    parent_dir = os.path.abspath(path + str(levels))\n",
    "    #print('parent_dir: ' + parent_dir)\n",
    "    return (path.replace(parent_dir,'').replace(fileName,'').replace('/', ''))"
   ]
  },
  {
   "cell_type": "code",
   "execution_count": 38,
   "metadata": {},
   "outputs": [
    {
     "name": "stdout",
     "output_type": "stream",
     "text": [
      "03 Aug 2020 DAQ FilesPQC887\n"
     ]
    }
   ],
   "source": [
    "path = '/media/searoc/4T-backup/30-Envision/03 Aug 2020 DAQ Files/PQC887/gfg.txt'\n",
    "ss = getParent(path, \"/../../../\")\n",
    "print(ss)"
   ]
  },
  {
   "cell_type": "code",
   "execution_count": null,
   "metadata": {},
   "outputs": [],
   "source": []
  }
 ],
 "metadata": {
  "kernelspec": {
   "display_name": "Python 3",
   "language": "python",
   "name": "python3"
  },
  "language_info": {
   "codemirror_mode": {
    "name": "ipython",
    "version": 3
   },
   "file_extension": ".py",
   "mimetype": "text/x-python",
   "name": "python",
   "nbconvert_exporter": "python",
   "pygments_lexer": "ipython3",
   "version": "3.7.3"
  }
 },
 "nbformat": 4,
 "nbformat_minor": 2
}
