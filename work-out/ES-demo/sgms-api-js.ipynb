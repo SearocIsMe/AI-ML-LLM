{
 "cells": [
  {
   "cell_type": "code",
   "execution_count": 62,
   "metadata": {},
   "outputs": [],
   "source": [
    "const request = require('request');\n",
    "const axios = require('axios');\n",
    "var crypto = require('crypto');\n",
    "var util = require('util');"
   ]
  },
  {
   "cell_type": "code",
   "execution_count": 63,
   "metadata": {},
   "outputs": [],
   "source": [
    "var appkey = '3dc2597b-e232-45db-bb16-e94443deb7f3'\n",
    "var appsecret = 'd1768b8c-4be1-4b8a-8315-3f370f6228a5'\n",
    "var address = 'https://apim-ppe1.envisioniot.com'"
   ]
  },
  {
   "cell_type": "code",
   "execution_count": 64,
   "metadata": {},
   "outputs": [],
   "source": [
    "function sha256(message) {\n",
    "  // encode as UTF-8\n",
    "  const msgBuffer = new TextEncoder('utf-8').encode(message);\n",
    "\n",
    "  // hash the message\n",
    "  const hashBuffer = crypto.createHash('sha256').digest('SHA-256', msgBuffer);\n",
    "\n",
    "  // convert ArrayBuffer to Array\n",
    "  const hashArray = Array.from(new Uint8Array(hashBuffer));\n",
    "\n",
    "  // convert bytes to hex string\n",
    "  const hashHex = hashArray.map(b => ('00' + b.toString(16)).slice(-2)).join('');\n",
    "  console.log(hashHex);\n",
    "  return hashHex;\n",
    "}\n"
   ]
  },
  {
   "cell_type": "code",
   "execution_count": 65,
   "metadata": {},
   "outputs": [
    {
     "name": "stdout",
     "output_type": "stream",
     "text": [
      "Uint8Array [\n",
      "   51, 100,  99, 50,  53, 57,  55,  98, 45, 101,  50, 51,\n",
      "   50,  45,  52, 53, 100, 98,  45,  98, 98,  49,  54, 45,\n",
      "  101,  57,  52, 52,  52, 51, 100, 101, 98,  55, 102, 51,\n",
      "   49,  54,  48, 56,  49, 48,  49,  51, 48,  49,  49, 54,\n",
      "   55, 100,  49, 55,  54, 56,  98,  56, 99,  45,  52, 98,\n",
      "  101,  49,  45, 52,  98, 56,  97,  45, 56,  51,  49, 53,\n",
      "   45,  51, 102, 51,  55, 48, 102,  54, 50,  50,  56, 97,\n",
      "   53\n",
      "]\n",
      "b0bd7616fe4984e0b8b371041283e0fea3a531c6605693cb148b14ea86372944\n"
     ]
    }
   ],
   "source": [
    "var hash = crypto.createHash('sha256');\n",
    "var tsNow = Date.now()\n",
    "var code = appkey.concat(tsNow).concat(appsecret);\n",
    "const msgBuffer = new TextEncoder('utf-8').encode(code);\n",
    "\n",
    "console.log(msgBuffer);\n",
    "codeOutput = hash.update(msgBuffer).digest('hex')\n",
    "console.log(codeOutput);"
   ]
  },
  {
   "cell_type": "code",
   "execution_count": 66,
   "metadata": {},
   "outputs": [
    {
     "name": "stdout",
     "output_type": "stream",
     "text": [
      "{\"appKey\":\"3dc2597b-e232-45db-bb16-e94443deb7f3\",\"encryption\":\"b0bd7616fe4984e0b8b371041283e0fea3a531c6605693cb148b14ea86372944\",\"timestamp\":1608101301167}\n"
     ]
    }
   ],
   "source": [
    "var stuff = {\n",
    "    \"appKey\":appkey,\n",
    "    \"encryption\":codeOutput,\n",
    "    \"timestamp\": tsNow\n",
    "};\n",
    "\n",
    "var bodyJson = JSON.stringify(stuff);\n",
    "console.log(bodyJson);\n"
   ]
  },
  {
   "cell_type": "code",
   "execution_count": 67,
   "metadata": {},
   "outputs": [
    {
     "name": "stdout",
     "output_type": "stream",
     "text": [
      "{\n",
      "  status: 0,\n",
      "  msg: 'SUCCESS',\n",
      "  business: 'apim-token-service',\n",
      "  data: {\n",
      "    accessToken: '94ab49e00ca4b07b833c8a12abc2a6a19ca807fed49e751ffcc258f82b04ea4c',\n",
      "    expire: 2546\n",
      "  }\n",
      "}\n"
     ]
    }
   ],
   "source": [
    "axios({\n",
    "    method: 'post',\n",
    "    headers: { 'Content-Type': 'application/json' },\n",
    "    url: util.format('%s%s', address, '/apim-token-service/v2.0/token/get'),\n",
    "    data: bodyJson\n",
    "  }).then(function (response) {\n",
    "    console.log(response.data);\n",
    "  });"
   ]
  },
  {
   "cell_type": "code",
   "execution_count": 68,
   "metadata": {},
   "outputs": [],
   "source": [
    "function sha256(msg) { \n",
    "    var hash = crypto.createHash('sha256');\n",
    "    const msgBuffer = new TextEncoder('utf-8').encode(msg);\n",
    "    hashHex = hash.update(msgBuffer).digest('hex')\n",
    "    console.log(codeOutput);\n",
    "    return hashHex;\n",
    "}"
   ]
  },
  {
   "cell_type": "code",
   "execution_count": 76,
   "metadata": {},
   "outputs": [
    {
     "name": "stdout",
     "output_type": "stream",
     "text": [
      "94ab49e00ca4b07b833c8a12abc2a6a19ca807fed49e751ffcc258f82b04ea4c1608102093529d1768b8c-4be1-4b8a-8315-3f370f6228a5\n",
      "b0bd7616fe4984e0b8b371041283e0fea3a531c6605693cb148b14ea86372944\n"
     ]
    },
    {
     "data": {
      "text/plain": [
       "'4cf336c427f0d912bbbe1b158afb6b72a8dfdb5e922d10741f789d300aa9cca0'"
      ]
     },
     "execution_count": 76,
     "metadata": {},
     "output_type": "execute_result"
    }
   ],
   "source": [
    "\n",
    "var timeNow = Date.now();\n",
    "var paramsData = '';\n",
    "var accessToken ='94ab49e00ca4b07b833c8a12abc2a6a19ca807fed49e751ffcc258f82b04ea4c';\n",
    "var signData = accessToken.concat(paramsData).concat(timeNow).concat(appsecret);\n",
    "\n",
    "console.log(signData);\n",
    "signData = sha256(signData)\n"
   ]
  },
  {
   "cell_type": "code",
   "execution_count": 77,
   "metadata": {},
   "outputs": [],
   "source": [
    "var headerValue = {\n",
    "    'apim-accesstoken': '94ab49e00ca4b07b833c8a12abc2a6a19ca807fed49e751ffcc258f82b04ea4c',\n",
    "    'apim-signature': signData,\n",
    "    'apim-timestamp': timeNow\n",
    "}\n"
   ]
  },
  {
   "cell_type": "code",
   "execution_count": 78,
   "metadata": {},
   "outputs": [
    {
     "name": "stdout",
     "output_type": "stream",
     "text": [
      "{\n",
      "  'apim-accesstoken': '94ab49e00ca4b07b833c8a12abc2a6a19ca807fed49e751ffcc258f82b04ea4c',\n",
      "  'apim-signature': '4cf336c427f0d912bbbe1b158afb6b72a8dfdb5e922d10741f789d300aa9cca0',\n",
      "  'apim-timestamp': 1608102093529\n",
      "}\n",
      "{\n",
      "  code: 200,\n",
      "  msg: 'OK',\n",
      "  requestId: '21830661-ebed-4bb1-bdbc-b3d76a23a8ab',\n",
      "  data: [ 'market', 'system', 'grid', 'bess', 'network' ]\n",
      "}\n"
     ]
    }
   ],
   "source": [
    "\n",
    "console.log(headerValue);\n",
    "\n",
    "axios({\n",
    "    method: 'get',\n",
    "    headers: headerValue,\n",
    "    url: util.format('%s%s', address, '/apim-instance-partner/sgms-config/v1/doe/grouplist')\n",
    "  }).then(function (response) {\n",
    "    console.log(response.data);\n",
    "  });"
   ]
  },
  {
   "cell_type": "code",
   "execution_count": 79,
   "metadata": {},
   "outputs": [
    {
     "name": "stdout",
     "output_type": "stream",
     "text": [
      "{\n",
      "  code: 200,\n",
      "  msg: 'OK',\n",
      "  requestId: '40b70a3f-0f10-4faa-ad72-f8f7323172b1',\n",
      "  data: [ 'market', 'system', 'grid', 'bess', 'network' ]\n",
      "}\n"
     ]
    }
   ],
   "source": [
    "axios.get(util.format('%s%s', address, '/apim-instance-partner/sgms-config/v1/doe/grouplist'), {\n",
    "  headers: headerValue\n",
    "})\n",
    ".then((res) => {\n",
    "  console.log(res.data)\n",
    "})\n",
    ".catch((error) => {\n",
    "  console.error(error)\n",
    "})"
   ]
  },
  {
   "cell_type": "code",
   "execution_count": null,
   "metadata": {},
   "outputs": [],
   "source": []
  }
 ],
 "metadata": {
  "kernelspec": {
   "display_name": "Javascript (Node.js)",
   "language": "javascript",
   "name": "javascript"
  },
  "language_info": {
   "file_extension": ".js",
   "mimetype": "application/javascript",
   "name": "javascript",
   "version": "12.14.1"
  }
 },
 "nbformat": 4,
 "nbformat_minor": 4
}
