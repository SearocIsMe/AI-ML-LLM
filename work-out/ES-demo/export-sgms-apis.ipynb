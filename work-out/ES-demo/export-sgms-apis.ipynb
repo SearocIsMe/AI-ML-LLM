{
 "cells": [
  {
   "cell_type": "code",
   "execution_count": 1,
   "metadata": {},
   "outputs": [
    {
     "name": "stdout",
     "output_type": "stream",
     "text": [
      "importing Jupyter notebook from conf_eu2.ipynb\n",
      "importing Jupyter notebook from common.ipynb\n",
      "03 Aug 2020 DAQ FilesPQC887\n"
     ]
    }
   ],
   "source": [
    "import datetime\n",
    "import json\n",
    "import pprint\n",
    "from poseidon import poseidon\n",
    "\n",
    "#import commond.ipynb from same folder\n",
    "import import_ipynb\n",
    "from conf_eu2 import *\n",
    "from common import *"
   ]
  },
  {
   "cell_type": "code",
   "execution_count": 2,
   "metadata": {},
   "outputs": [],
   "source": [
    "def test_sgms_api():\n",
    "    try:\n",
    "        urlAsset = '%s/apim-instance-partner/sgms-config/v1/doe/grouplist' % (address)\n",
    "        req = poseidon.urlopen(appkey, appsecret, urlAsset)\n",
    "        return req;\n",
    "    except Exception as err:\n",
    "        print(err)   "
   ]
  },
  {
   "cell_type": "code",
   "execution_count": 3,
   "metadata": {},
   "outputs": [
    {
     "name": "stdout",
     "output_type": "stream",
     "text": [
      "HTTP Error 400: Bad Request\n",
      "null\n"
     ]
    }
   ],
   "source": [
    "parsed = test_sgms_api()\n",
    "\n",
    "print(json.dumps(parsed, indent=2, sort_keys=True))"
   ]
  },
  {
   "cell_type": "code",
   "execution_count": null,
   "metadata": {},
   "outputs": [],
   "source": []
  }
 ],
 "metadata": {
  "kernelspec": {
   "display_name": "Python 3",
   "language": "python",
   "name": "python3"
  },
  "language_info": {
   "codemirror_mode": {
    "name": "ipython",
    "version": 3
   },
   "file_extension": ".py",
   "mimetype": "text/x-python",
   "name": "python",
   "nbconvert_exporter": "python",
   "pygments_lexer": "ipython3",
   "version": "3.7.9"
  }
 },
 "nbformat": 4,
 "nbformat_minor": 4
}
