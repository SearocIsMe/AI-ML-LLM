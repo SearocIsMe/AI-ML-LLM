{
 "cells": [
  {
   "cell_type": "code",
   "execution_count": 1,
   "metadata": {},
   "outputs": [
    {
     "name": "stdout",
     "output_type": "stream",
     "text": [
      "importing Jupyter notebook from common.ipynb\n"
     ]
    }
   ],
   "source": [
    "import pandas as pd\n",
    "import numpy as np\n",
    "import calendar\n",
    "import os\n",
    "\n",
    "from datetime import datetime\n",
    "from elasticsearch import Elasticsearch,helpers\n",
    "from elasticsearch.helpers import parallel_bulk\n",
    "from elasticsearch.helpers import streaming_bulk\n",
    "from es_pandas import es_pandas\n",
    "\n",
    "# 导入datetime库\n",
    "import datetime\n",
    "import random\n",
    "#import modin.pandas as mpd\n",
    "\n",
    "#import commond.ipynb from same folder\n",
    "import import_ipynb\n",
    "from common import *"
   ]
  },
  {
   "cell_type": "code",
   "execution_count": 2,
   "metadata": {},
   "outputs": [
    {
     "data": {
      "text/html": [
       "<div>\n",
       "<style scoped>\n",
       "    .dataframe tbody tr th:only-of-type {\n",
       "        vertical-align: middle;\n",
       "    }\n",
       "\n",
       "    .dataframe tbody tr th {\n",
       "        vertical-align: top;\n",
       "    }\n",
       "\n",
       "    .dataframe thead th {\n",
       "        text-align: right;\n",
       "    }\n",
       "</style>\n",
       "<table border=\"1\" class=\"dataframe\">\n",
       "  <thead>\n",
       "    <tr style=\"text-align: right;\">\n",
       "      <th></th>\n",
       "      <th>Date</th>\n",
       "      <th>Time</th>\n",
       "      <th>Comm Status</th>\n",
       "      <th>CraneNumber</th>\n",
       "      <th>Weight</th>\n",
       "      <th>Frequency</th>\n",
       "      <th>Spreader_20FT</th>\n",
       "      <th>Spreader_40FT</th>\n",
       "      <th>Spreader_45FT</th>\n",
       "      <th>Spreader_Twin</th>\n",
       "      <th>...</th>\n",
       "      <th>OT_Control STS_Gantry Right (Controller)</th>\n",
       "      <th>OT_Control STS_Gantry Left (Controller)</th>\n",
       "      <th>OT_Control STS_Boom Up (Controller)</th>\n",
       "      <th>OT_Control STS_Boom Down (Controller)</th>\n",
       "      <th>Trolley Position</th>\n",
       "      <th>Load Cell1 Data</th>\n",
       "      <th>Load Cell2 Data</th>\n",
       "      <th>Load Cell3 Data</th>\n",
       "      <th>Load Cell4 Data</th>\n",
       "      <th>SP STS_Landed</th>\n",
       "    </tr>\n",
       "  </thead>\n",
       "  <tbody>\n",
       "    <tr>\n",
       "      <th>0</th>\n",
       "      <td>93</td>\n",
       "      <td>33</td>\n",
       "      <td>32</td>\n",
       "      <td>91</td>\n",
       "      <td>81</td>\n",
       "      <td>42</td>\n",
       "      <td>94</td>\n",
       "      <td>39</td>\n",
       "      <td>36</td>\n",
       "      <td>30</td>\n",
       "      <td>...</td>\n",
       "      <td>69</td>\n",
       "      <td>13</td>\n",
       "      <td>0</td>\n",
       "      <td>54</td>\n",
       "      <td>36</td>\n",
       "      <td>85</td>\n",
       "      <td>98</td>\n",
       "      <td>34</td>\n",
       "      <td>78</td>\n",
       "      <td>99</td>\n",
       "    </tr>\n",
       "    <tr>\n",
       "      <th>1</th>\n",
       "      <td>78</td>\n",
       "      <td>92</td>\n",
       "      <td>91</td>\n",
       "      <td>0</td>\n",
       "      <td>90</td>\n",
       "      <td>28</td>\n",
       "      <td>82</td>\n",
       "      <td>20</td>\n",
       "      <td>46</td>\n",
       "      <td>4</td>\n",
       "      <td>...</td>\n",
       "      <td>83</td>\n",
       "      <td>98</td>\n",
       "      <td>90</td>\n",
       "      <td>13</td>\n",
       "      <td>44</td>\n",
       "      <td>53</td>\n",
       "      <td>0</td>\n",
       "      <td>97</td>\n",
       "      <td>37</td>\n",
       "      <td>80</td>\n",
       "    </tr>\n",
       "    <tr>\n",
       "      <th>2</th>\n",
       "      <td>99</td>\n",
       "      <td>32</td>\n",
       "      <td>96</td>\n",
       "      <td>87</td>\n",
       "      <td>49</td>\n",
       "      <td>66</td>\n",
       "      <td>58</td>\n",
       "      <td>89</td>\n",
       "      <td>94</td>\n",
       "      <td>49</td>\n",
       "      <td>...</td>\n",
       "      <td>51</td>\n",
       "      <td>28</td>\n",
       "      <td>46</td>\n",
       "      <td>19</td>\n",
       "      <td>77</td>\n",
       "      <td>59</td>\n",
       "      <td>2</td>\n",
       "      <td>22</td>\n",
       "      <td>58</td>\n",
       "      <td>83</td>\n",
       "    </tr>\n",
       "    <tr>\n",
       "      <th>3</th>\n",
       "      <td>23</td>\n",
       "      <td>80</td>\n",
       "      <td>23</td>\n",
       "      <td>74</td>\n",
       "      <td>46</td>\n",
       "      <td>80</td>\n",
       "      <td>13</td>\n",
       "      <td>75</td>\n",
       "      <td>85</td>\n",
       "      <td>11</td>\n",
       "      <td>...</td>\n",
       "      <td>14</td>\n",
       "      <td>94</td>\n",
       "      <td>31</td>\n",
       "      <td>65</td>\n",
       "      <td>77</td>\n",
       "      <td>22</td>\n",
       "      <td>91</td>\n",
       "      <td>26</td>\n",
       "      <td>61</td>\n",
       "      <td>82</td>\n",
       "    </tr>\n",
       "    <tr>\n",
       "      <th>4</th>\n",
       "      <td>63</td>\n",
       "      <td>5</td>\n",
       "      <td>53</td>\n",
       "      <td>51</td>\n",
       "      <td>31</td>\n",
       "      <td>10</td>\n",
       "      <td>89</td>\n",
       "      <td>22</td>\n",
       "      <td>82</td>\n",
       "      <td>67</td>\n",
       "      <td>...</td>\n",
       "      <td>67</td>\n",
       "      <td>5</td>\n",
       "      <td>50</td>\n",
       "      <td>21</td>\n",
       "      <td>21</td>\n",
       "      <td>41</td>\n",
       "      <td>94</td>\n",
       "      <td>51</td>\n",
       "      <td>59</td>\n",
       "      <td>91</td>\n",
       "    </tr>\n",
       "    <tr>\n",
       "      <th>5</th>\n",
       "      <td>78</td>\n",
       "      <td>24</td>\n",
       "      <td>80</td>\n",
       "      <td>18</td>\n",
       "      <td>54</td>\n",
       "      <td>9</td>\n",
       "      <td>53</td>\n",
       "      <td>95</td>\n",
       "      <td>31</td>\n",
       "      <td>56</td>\n",
       "      <td>...</td>\n",
       "      <td>47</td>\n",
       "      <td>20</td>\n",
       "      <td>76</td>\n",
       "      <td>96</td>\n",
       "      <td>89</td>\n",
       "      <td>8</td>\n",
       "      <td>33</td>\n",
       "      <td>95</td>\n",
       "      <td>9</td>\n",
       "      <td>94</td>\n",
       "    </tr>\n",
       "    <tr>\n",
       "      <th>6</th>\n",
       "      <td>65</td>\n",
       "      <td>31</td>\n",
       "      <td>94</td>\n",
       "      <td>21</td>\n",
       "      <td>22</td>\n",
       "      <td>38</td>\n",
       "      <td>12</td>\n",
       "      <td>38</td>\n",
       "      <td>49</td>\n",
       "      <td>10</td>\n",
       "      <td>...</td>\n",
       "      <td>46</td>\n",
       "      <td>85</td>\n",
       "      <td>17</td>\n",
       "      <td>10</td>\n",
       "      <td>86</td>\n",
       "      <td>23</td>\n",
       "      <td>11</td>\n",
       "      <td>45</td>\n",
       "      <td>32</td>\n",
       "      <td>94</td>\n",
       "    </tr>\n",
       "    <tr>\n",
       "      <th>7</th>\n",
       "      <td>56</td>\n",
       "      <td>79</td>\n",
       "      <td>66</td>\n",
       "      <td>59</td>\n",
       "      <td>84</td>\n",
       "      <td>79</td>\n",
       "      <td>1</td>\n",
       "      <td>81</td>\n",
       "      <td>29</td>\n",
       "      <td>96</td>\n",
       "      <td>...</td>\n",
       "      <td>90</td>\n",
       "      <td>71</td>\n",
       "      <td>62</td>\n",
       "      <td>41</td>\n",
       "      <td>15</td>\n",
       "      <td>13</td>\n",
       "      <td>67</td>\n",
       "      <td>40</td>\n",
       "      <td>44</td>\n",
       "      <td>8</td>\n",
       "    </tr>\n",
       "    <tr>\n",
       "      <th>8</th>\n",
       "      <td>25</td>\n",
       "      <td>85</td>\n",
       "      <td>83</td>\n",
       "      <td>75</td>\n",
       "      <td>21</td>\n",
       "      <td>19</td>\n",
       "      <td>99</td>\n",
       "      <td>75</td>\n",
       "      <td>23</td>\n",
       "      <td>51</td>\n",
       "      <td>...</td>\n",
       "      <td>71</td>\n",
       "      <td>25</td>\n",
       "      <td>69</td>\n",
       "      <td>71</td>\n",
       "      <td>21</td>\n",
       "      <td>94</td>\n",
       "      <td>6</td>\n",
       "      <td>9</td>\n",
       "      <td>15</td>\n",
       "      <td>22</td>\n",
       "    </tr>\n",
       "    <tr>\n",
       "      <th>9</th>\n",
       "      <td>59</td>\n",
       "      <td>88</td>\n",
       "      <td>99</td>\n",
       "      <td>76</td>\n",
       "      <td>78</td>\n",
       "      <td>64</td>\n",
       "      <td>81</td>\n",
       "      <td>16</td>\n",
       "      <td>59</td>\n",
       "      <td>49</td>\n",
       "      <td>...</td>\n",
       "      <td>68</td>\n",
       "      <td>7</td>\n",
       "      <td>51</td>\n",
       "      <td>79</td>\n",
       "      <td>30</td>\n",
       "      <td>82</td>\n",
       "      <td>34</td>\n",
       "      <td>84</td>\n",
       "      <td>74</td>\n",
       "      <td>96</td>\n",
       "    </tr>\n",
       "    <tr>\n",
       "      <th>10</th>\n",
       "      <td>54</td>\n",
       "      <td>16</td>\n",
       "      <td>80</td>\n",
       "      <td>53</td>\n",
       "      <td>37</td>\n",
       "      <td>16</td>\n",
       "      <td>31</td>\n",
       "      <td>15</td>\n",
       "      <td>98</td>\n",
       "      <td>83</td>\n",
       "      <td>...</td>\n",
       "      <td>9</td>\n",
       "      <td>3</td>\n",
       "      <td>16</td>\n",
       "      <td>98</td>\n",
       "      <td>12</td>\n",
       "      <td>25</td>\n",
       "      <td>44</td>\n",
       "      <td>17</td>\n",
       "      <td>44</td>\n",
       "      <td>31</td>\n",
       "    </tr>\n",
       "    <tr>\n",
       "      <th>11</th>\n",
       "      <td>82</td>\n",
       "      <td>39</td>\n",
       "      <td>63</td>\n",
       "      <td>89</td>\n",
       "      <td>8</td>\n",
       "      <td>55</td>\n",
       "      <td>71</td>\n",
       "      <td>20</td>\n",
       "      <td>69</td>\n",
       "      <td>14</td>\n",
       "      <td>...</td>\n",
       "      <td>96</td>\n",
       "      <td>70</td>\n",
       "      <td>11</td>\n",
       "      <td>10</td>\n",
       "      <td>59</td>\n",
       "      <td>28</td>\n",
       "      <td>79</td>\n",
       "      <td>89</td>\n",
       "      <td>17</td>\n",
       "      <td>18</td>\n",
       "    </tr>\n",
       "    <tr>\n",
       "      <th>12</th>\n",
       "      <td>82</td>\n",
       "      <td>97</td>\n",
       "      <td>38</td>\n",
       "      <td>25</td>\n",
       "      <td>29</td>\n",
       "      <td>36</td>\n",
       "      <td>51</td>\n",
       "      <td>84</td>\n",
       "      <td>48</td>\n",
       "      <td>47</td>\n",
       "      <td>...</td>\n",
       "      <td>21</td>\n",
       "      <td>7</td>\n",
       "      <td>25</td>\n",
       "      <td>40</td>\n",
       "      <td>11</td>\n",
       "      <td>72</td>\n",
       "      <td>39</td>\n",
       "      <td>41</td>\n",
       "      <td>55</td>\n",
       "      <td>57</td>\n",
       "    </tr>\n",
       "    <tr>\n",
       "      <th>13</th>\n",
       "      <td>52</td>\n",
       "      <td>58</td>\n",
       "      <td>92</td>\n",
       "      <td>18</td>\n",
       "      <td>2</td>\n",
       "      <td>37</td>\n",
       "      <td>26</td>\n",
       "      <td>38</td>\n",
       "      <td>20</td>\n",
       "      <td>3</td>\n",
       "      <td>...</td>\n",
       "      <td>59</td>\n",
       "      <td>26</td>\n",
       "      <td>37</td>\n",
       "      <td>57</td>\n",
       "      <td>61</td>\n",
       "      <td>3</td>\n",
       "      <td>31</td>\n",
       "      <td>90</td>\n",
       "      <td>80</td>\n",
       "      <td>50</td>\n",
       "    </tr>\n",
       "    <tr>\n",
       "      <th>14</th>\n",
       "      <td>27</td>\n",
       "      <td>22</td>\n",
       "      <td>15</td>\n",
       "      <td>13</td>\n",
       "      <td>96</td>\n",
       "      <td>73</td>\n",
       "      <td>32</td>\n",
       "      <td>24</td>\n",
       "      <td>71</td>\n",
       "      <td>5</td>\n",
       "      <td>...</td>\n",
       "      <td>5</td>\n",
       "      <td>72</td>\n",
       "      <td>35</td>\n",
       "      <td>25</td>\n",
       "      <td>1</td>\n",
       "      <td>5</td>\n",
       "      <td>16</td>\n",
       "      <td>45</td>\n",
       "      <td>46</td>\n",
       "      <td>95</td>\n",
       "    </tr>\n",
       "  </tbody>\n",
       "</table>\n",
       "<p>15 rows × 41 columns</p>\n",
       "</div>"
      ],
      "text/plain": [
       "    Date  Time  Comm Status  CraneNumber  Weight  Frequency  Spreader_20FT  \\\n",
       "0     93    33           32           91      81         42             94   \n",
       "1     78    92           91            0      90         28             82   \n",
       "2     99    32           96           87      49         66             58   \n",
       "3     23    80           23           74      46         80             13   \n",
       "4     63     5           53           51      31         10             89   \n",
       "5     78    24           80           18      54          9             53   \n",
       "6     65    31           94           21      22         38             12   \n",
       "7     56    79           66           59      84         79              1   \n",
       "8     25    85           83           75      21         19             99   \n",
       "9     59    88           99           76      78         64             81   \n",
       "10    54    16           80           53      37         16             31   \n",
       "11    82    39           63           89       8         55             71   \n",
       "12    82    97           38           25      29         36             51   \n",
       "13    52    58           92           18       2         37             26   \n",
       "14    27    22           15           13      96         73             32   \n",
       "\n",
       "    Spreader_40FT  Spreader_45FT  Spreader_Twin  ...  \\\n",
       "0              39             36             30  ...   \n",
       "1              20             46              4  ...   \n",
       "2              89             94             49  ...   \n",
       "3              75             85             11  ...   \n",
       "4              22             82             67  ...   \n",
       "5              95             31             56  ...   \n",
       "6              38             49             10  ...   \n",
       "7              81             29             96  ...   \n",
       "8              75             23             51  ...   \n",
       "9              16             59             49  ...   \n",
       "10             15             98             83  ...   \n",
       "11             20             69             14  ...   \n",
       "12             84             48             47  ...   \n",
       "13             38             20              3  ...   \n",
       "14             24             71              5  ...   \n",
       "\n",
       "    OT_Control STS_Gantry Right (Controller)  \\\n",
       "0                                         69   \n",
       "1                                         83   \n",
       "2                                         51   \n",
       "3                                         14   \n",
       "4                                         67   \n",
       "5                                         47   \n",
       "6                                         46   \n",
       "7                                         90   \n",
       "8                                         71   \n",
       "9                                         68   \n",
       "10                                         9   \n",
       "11                                        96   \n",
       "12                                        21   \n",
       "13                                        59   \n",
       "14                                         5   \n",
       "\n",
       "    OT_Control STS_Gantry Left (Controller)  \\\n",
       "0                                        13   \n",
       "1                                        98   \n",
       "2                                        28   \n",
       "3                                        94   \n",
       "4                                         5   \n",
       "5                                        20   \n",
       "6                                        85   \n",
       "7                                        71   \n",
       "8                                        25   \n",
       "9                                         7   \n",
       "10                                        3   \n",
       "11                                       70   \n",
       "12                                        7   \n",
       "13                                       26   \n",
       "14                                       72   \n",
       "\n",
       "    OT_Control STS_Boom Up (Controller)  \\\n",
       "0                                     0   \n",
       "1                                    90   \n",
       "2                                    46   \n",
       "3                                    31   \n",
       "4                                    50   \n",
       "5                                    76   \n",
       "6                                    17   \n",
       "7                                    62   \n",
       "8                                    69   \n",
       "9                                    51   \n",
       "10                                   16   \n",
       "11                                   11   \n",
       "12                                   25   \n",
       "13                                   37   \n",
       "14                                   35   \n",
       "\n",
       "    OT_Control STS_Boom Down (Controller)  Trolley Position  Load Cell1 Data  \\\n",
       "0                                      54                36               85   \n",
       "1                                      13                44               53   \n",
       "2                                      19                77               59   \n",
       "3                                      65                77               22   \n",
       "4                                      21                21               41   \n",
       "5                                      96                89                8   \n",
       "6                                      10                86               23   \n",
       "7                                      41                15               13   \n",
       "8                                      71                21               94   \n",
       "9                                      79                30               82   \n",
       "10                                     98                12               25   \n",
       "11                                     10                59               28   \n",
       "12                                     40                11               72   \n",
       "13                                     57                61                3   \n",
       "14                                     25                 1                5   \n",
       "\n",
       "    Load Cell2 Data  Load Cell3 Data  Load Cell4 Data  SP STS_Landed  \n",
       "0                98               34               78             99  \n",
       "1                 0               97               37             80  \n",
       "2                 2               22               58             83  \n",
       "3                91               26               61             82  \n",
       "4                94               51               59             91  \n",
       "5                33               95                9             94  \n",
       "6                11               45               32             94  \n",
       "7                67               40               44              8  \n",
       "8                 6                9               15             22  \n",
       "9                34               84               74             96  \n",
       "10               44               17               44             31  \n",
       "11               79               89               17             18  \n",
       "12               39               41               55             57  \n",
       "13               31               90               80             50  \n",
       "14               16               45               46             95  \n",
       "\n",
       "[15 rows x 41 columns]"
      ]
     },
     "execution_count": 2,
     "metadata": {},
     "output_type": "execute_result"
    }
   ],
   "source": [
    "# generate nums of rows in dataframe\n",
    "def random_dataframe(nums):\n",
    "    #using numpy's randint\n",
    "   df = pd.DataFrame(np.random.randint(0,nums,size=(15, 41)), columns=list(get_interests_columns()))\n",
    "   return df\n",
    "\n",
    "ds = random_dataframe(100)\n",
    "ds\n"
   ]
  },
  {
   "cell_type": "code",
   "execution_count": 3,
   "metadata": {},
   "outputs": [],
   "source": [
    "def callback_ingestion(data_set):\n",
    "    # Information of es cluseter\n",
    "    es_host = 'localhost:9200'\n",
    "    index = 'wholeyear_daq_index'\n",
    "\n",
    "    # crete es_pandas instance\n",
    "    ep = es_pandas(es_host)\n",
    "    # init template if you want\n",
    "    doc_type = 'records'\n",
    "\n",
    "    ep.init_es_tmpl(data_set, doc_type)\n",
    "\n",
    "    # Example of write data to es, use the template you create\n",
    "    ep.to_es(data_set, index, doc_type=doc_type, thread_count=4, chunk_size=7200)\n"
   ]
  },
  {
   "cell_type": "code",
   "execution_count": 7,
   "metadata": {},
   "outputs": [],
   "source": [
    "def print_time(msg):\n",
    "    # datetime object containing current date and time\n",
    "    now = datetime.datetime.now()\n",
    "    # dd/mm/YY H:M:S\n",
    "    dt_string = now.strftime(\"%Y-%m-%d %H:%M:%S.%f%Z\")\n",
    "    print(msg+dt_string)"
   ]
  },
  {
   "cell_type": "code",
   "execution_count": 16,
   "metadata": {},
   "outputs": [],
   "source": [
    "# return dataframe by timerange\n",
    "def ingest_bulk_dataframe(start_date, end_date, crane_number, callback=None):\n",
    "    # 获取时间间隔\n",
    "    delta = end_date - start_date\n",
    "    \n",
    "    ds = pd.DataFrame()\n",
    "    const_ds = pd.DataFrame()\n",
    "\n",
    "    const_ds.at[0, \"CraneNumber\"] = crane_number\n",
    "    const_ds.at[1, \"CraneNumber\"] = crane_number\n",
    "    const_ds.at[0, \"Twistlock\"] = 0\n",
    "    const_ds.at[1, \"Twistlock\"] = 1\n",
    "    const_ds.at[0, \"Comm Status\"] = 'OK'\n",
    "    const_ds.at[1, \"Comm Status\"] = 'False'\n",
    "    const_ds.at[0, \"Asset Type\"] = 'QC'\n",
    "    const_ds.at[1, \"Asset Type\"] = 'YC'\n",
    "    \n",
    "    col_list = get_interests_columns_simple()\n",
    "    # 遍历获得每一个时间点\n",
    "    for i in range(int(delta.total_seconds())+1):\n",
    "        #print_time(\"randint\")\n",
    "        ss = random.randint(10, 100)\n",
    "        temp = start_date + datetime.timedelta(seconds=i)\n",
    "        dt1 = temp + datetime.timedelta(milliseconds=ss)\n",
    "        dt2 = dt1 + datetime.timedelta(milliseconds=500)\n",
    "        \n",
    "        #print_time(\"start create df \")\n",
    "        df = pd.DataFrame(np.random.randint(10,1000,size=(2, len(col_list))), columns=list(col_list))\n",
    "        #print_time(\"finish create df \")\n",
    "        \n",
    "        df.at[0, \"timestamp\"] = dt1.astimezone().isoformat()\n",
    "        df.at[1, \"timestamp\"] = dt2.astimezone().isoformat()\n",
    "\n",
    "        #print_time(\"finish add df \")\n",
    "        new_df = pd.concat([df, const_ds], axis=1)\n",
    "        del df\n",
    "        #print_time(\"finish cancat df \")\n",
    "        ds = pd.concat([ds, new_df], axis=0)\n",
    "        #ds = ds.append(new_df)\n",
    "        #print(ds)\n",
    "        #print_time(\"finish append df \")\n",
    "        \n",
    "        if ds.shape[0] >= 14400:\n",
    "           #print_time(\"start ingestion to ES \")\n",
    "           callback(ds)\n",
    "           print_time(\"finish ingestion to ES \")\n",
    "           msg = dt2.strftime(\"%d-%b-%Y (%H:%M:%S.%f)\")\n",
    "           print('Ingest %s  is completed!' % msg)\n",
    "           ds = ds[0:0]\n",
    "           \n",
    "    if ds.shape[0] > 0:\n",
    "       callback(ds) \n"
   ]
  },
  {
   "cell_type": "code",
   "execution_count": null,
   "metadata": {
    "scrolled": false
   },
   "outputs": [
    {
     "name": "stderr",
     "output_type": "stream",
     "text": [
      " 93% (13489 of 14400) |################  | Elapsed Time: 0:00:00 ETA:   0:00:00"
     ]
    },
    {
     "name": "stdout",
     "output_type": "stream",
     "text": [
      "finish ingestion to ES 2020-07-05T20:23:17.336252\n",
      "Ingest 01-Jan-2020 (02:00:00.550000)  is completed!\n"
     ]
    },
    {
     "name": "stderr",
     "output_type": "stream",
     "text": [
      " 89% (12942 of 14400) |################  | Elapsed Time: 0:00:00 ETA:   0:00:00"
     ]
    },
    {
     "name": "stdout",
     "output_type": "stream",
     "text": [
      "finish ingestion to ES 2020-07-05T20:23:46.964032\n",
      "Ingest 01-Jan-2020 (04:00:00.594000)  is completed!\n"
     ]
    },
    {
     "name": "stderr",
     "output_type": "stream",
     "text": [
      " 98% (14218 of 14400) |################# | Elapsed Time: 0:00:00 ETA:   0:00:00"
     ]
    },
    {
     "name": "stdout",
     "output_type": "stream",
     "text": [
      "finish ingestion to ES 2020-07-05T20:24:16.105529\n",
      "Ingest 01-Jan-2020 (06:00:00.592000)  is completed!\n"
     ]
    },
    {
     "name": "stderr",
     "output_type": "stream",
     "text": [
      " 94% (13671 of 14400) |################# | Elapsed Time: 0:00:00 ETA:   0:00:00"
     ]
    },
    {
     "name": "stdout",
     "output_type": "stream",
     "text": [
      "finish ingestion to ES 2020-07-05T20:24:45.101118\n",
      "Ingest 01-Jan-2020 (08:00:00.528000)  is completed!\n"
     ]
    },
    {
     "name": "stderr",
     "output_type": "stream",
     "text": [
      " 89% (12942 of 14400) |################  | Elapsed Time: 0:00:00 ETA:   0:00:00"
     ]
    },
    {
     "name": "stdout",
     "output_type": "stream",
     "text": [
      "finish ingestion to ES 2020-07-05T20:25:13.988300\n",
      "Ingest 01-Jan-2020 (10:00:00.528000)  is completed!\n"
     ]
    },
    {
     "name": "stderr",
     "output_type": "stream",
     "text": [
      " 97% (14036 of 14400) |################# | Elapsed Time: 0:00:00 ETA:   0:00:00"
     ]
    },
    {
     "name": "stdout",
     "output_type": "stream",
     "text": [
      "finish ingestion to ES 2020-07-05T20:25:42.813576\n",
      "Ingest 01-Jan-2020 (12:00:00.546000)  is completed!\n"
     ]
    },
    {
     "name": "stderr",
     "output_type": "stream",
     "text": [
      " 92% (13307 of 14400) |################  | Elapsed Time: 0:00:00 ETA:   0:00:00"
     ]
    },
    {
     "name": "stdout",
     "output_type": "stream",
     "text": [
      "finish ingestion to ES 2020-07-05T20:26:11.573417\n",
      "Ingest 01-Jan-2020 (14:00:00.553000)  is completed!\n"
     ]
    },
    {
     "name": "stderr",
     "output_type": "stream",
     "text": [
      " 89% (12942 of 14400) |################  | Elapsed Time: 0:00:00 ETA:   0:00:00"
     ]
    },
    {
     "name": "stdout",
     "output_type": "stream",
     "text": [
      "finish ingestion to ES 2020-07-05T20:26:40.560382\n",
      "Ingest 01-Jan-2020 (16:00:00.512000)  is completed!\n"
     ]
    },
    {
     "name": "stderr",
     "output_type": "stream",
     "text": [
      " 98% (14218 of 14400) |################# | Elapsed Time: 0:00:00 ETA:   0:00:00"
     ]
    },
    {
     "name": "stdout",
     "output_type": "stream",
     "text": [
      "finish ingestion to ES 2020-07-05T20:27:09.674430\n",
      "Ingest 01-Jan-2020 (18:00:00.537000)  is completed!\n"
     ]
    },
    {
     "name": "stderr",
     "output_type": "stream",
     "text": [
      " 93% (13489 of 14400) |################  | Elapsed Time: 0:00:00 ETA:   0:00:00"
     ]
    },
    {
     "name": "stdout",
     "output_type": "stream",
     "text": [
      "finish ingestion to ES 2020-07-05T20:27:38.713373\n",
      "Ingest 01-Jan-2020 (20:00:00.595000)  is completed!\n"
     ]
    },
    {
     "name": "stderr",
     "output_type": "stream",
     "text": [
      " 89% (12942 of 14400) |################  | Elapsed Time: 0:00:00 ETA:   0:00:00"
     ]
    },
    {
     "name": "stdout",
     "output_type": "stream",
     "text": [
      "finish ingestion to ES 2020-07-05T20:28:07.954221\n",
      "Ingest 01-Jan-2020 (22:00:00.542000)  is completed!\n"
     ]
    },
    {
     "name": "stderr",
     "output_type": "stream",
     "text": [
      " 89% (12942 of 14400) |################  | Elapsed Time: 0:00:00 ETA:   0:00:00"
     ]
    },
    {
     "name": "stdout",
     "output_type": "stream",
     "text": [
      "finish ingestion to ES 2020-07-05T20:28:37.116452\n",
      "Ingest 02-Jan-2020 (00:00:00.586000)  is completed!\n"
     ]
    },
    {
     "name": "stderr",
     "output_type": "stream",
     "text": [
      " 96% (13854 of 14400) |################# | Elapsed Time: 0:00:00 ETA:   0:00:00"
     ]
    },
    {
     "name": "stdout",
     "output_type": "stream",
     "text": [
      "finish ingestion to ES 2020-07-05T20:29:06.710688\n",
      "Ingest 02-Jan-2020 (02:00:00.561000)  is completed!\n"
     ]
    },
    {
     "name": "stderr",
     "output_type": "stream",
     "text": [
      " 89% (12942 of 14400) |################  | Elapsed Time: 0:00:00 ETA:   0:00:00"
     ]
    },
    {
     "name": "stdout",
     "output_type": "stream",
     "text": [
      "finish ingestion to ES 2020-07-05T20:29:35.658053\n",
      "Ingest 02-Jan-2020 (04:00:00.566000)  is completed!\n"
     ]
    },
    {
     "name": "stderr",
     "output_type": "stream",
     "text": [
      " 98% (14218 of 14400) |################# | Elapsed Time: 0:00:00 ETA:   0:00:00"
     ]
    },
    {
     "name": "stdout",
     "output_type": "stream",
     "text": [
      "finish ingestion to ES 2020-07-05T20:30:04.413947\n",
      "Ingest 02-Jan-2020 (06:00:00.569000)  is completed!\n"
     ]
    },
    {
     "name": "stderr",
     "output_type": "stream",
     "text": [
      " 98% (14218 of 14400) |################# | Elapsed Time: 0:00:00 ETA:   0:00:00"
     ]
    },
    {
     "name": "stdout",
     "output_type": "stream",
     "text": [
      "finish ingestion to ES 2020-07-05T20:30:33.389675\n",
      "Ingest 02-Jan-2020 (08:00:00.544000)  is completed!\n"
     ]
    },
    {
     "name": "stderr",
     "output_type": "stream",
     "text": [
      " 98% (14218 of 14400) |################# | Elapsed Time: 0:00:00 ETA:   0:00:00"
     ]
    },
    {
     "name": "stdout",
     "output_type": "stream",
     "text": [
      "finish ingestion to ES 2020-07-05T20:31:02.448952\n",
      "Ingest 02-Jan-2020 (10:00:00.520000)  is completed!\n"
     ]
    },
    {
     "name": "stderr",
     "output_type": "stream",
     "text": [
      " 89% (12942 of 14400) |################  | Elapsed Time: 0:00:00 ETA:   0:00:00"
     ]
    },
    {
     "name": "stdout",
     "output_type": "stream",
     "text": [
      "finish ingestion to ES 2020-07-05T20:31:31.386036\n",
      "Ingest 02-Jan-2020 (12:00:00.591000)  is completed!\n"
     ]
    },
    {
     "name": "stderr",
     "output_type": "stream",
     "text": [
      " 89% (12942 of 14400) |################  | Elapsed Time: 0:00:00 ETA:   0:00:00"
     ]
    },
    {
     "name": "stdout",
     "output_type": "stream",
     "text": [
      "finish ingestion to ES 2020-07-05T20:31:59.933845\n",
      "Ingest 02-Jan-2020 (14:00:00.544000)  is completed!\n"
     ]
    },
    {
     "name": "stderr",
     "output_type": "stream",
     "text": [
      " 89% (12942 of 14400) |################  | Elapsed Time: 0:00:00 ETA:   0:00:00"
     ]
    },
    {
     "name": "stdout",
     "output_type": "stream",
     "text": [
      "finish ingestion to ES 2020-07-05T20:32:28.548615\n",
      "Ingest 02-Jan-2020 (16:00:00.542000)  is completed!\n"
     ]
    },
    {
     "name": "stderr",
     "output_type": "stream",
     "text": [
      " 91% (13125 of 14400) |################  | Elapsed Time: 0:00:00 ETA:   0:00:00"
     ]
    },
    {
     "name": "stdout",
     "output_type": "stream",
     "text": [
      "finish ingestion to ES 2020-07-05T20:32:57.178778\n",
      "Ingest 02-Jan-2020 (18:00:00.558000)  is completed!\n"
     ]
    },
    {
     "name": "stderr",
     "output_type": "stream",
     "text": [
      " 89% (12942 of 14400) |################  | Elapsed Time: 0:00:00 ETA:   0:00:00"
     ]
    },
    {
     "name": "stdout",
     "output_type": "stream",
     "text": [
      "finish ingestion to ES 2020-07-05T20:33:25.806431\n",
      "Ingest 02-Jan-2020 (20:00:00.540000)  is completed!\n"
     ]
    },
    {
     "name": "stderr",
     "output_type": "stream",
     "text": [
      " 89% (12942 of 14400) |################  | Elapsed Time: 0:00:00 ETA:   0:00:00"
     ]
    },
    {
     "name": "stdout",
     "output_type": "stream",
     "text": [
      "finish ingestion to ES 2020-07-05T20:33:54.297997\n",
      "Ingest 02-Jan-2020 (22:00:00.541000)  is completed!\n"
     ]
    },
    {
     "name": "stderr",
     "output_type": "stream",
     "text": [
      " 94% (13671 of 14400) |################# | Elapsed Time: 0:00:00 ETA:   0:00:00"
     ]
    },
    {
     "name": "stdout",
     "output_type": "stream",
     "text": [
      "finish ingestion to ES 2020-07-05T20:34:23.046911\n",
      "Ingest 03-Jan-2020 (00:00:00.589000)  is completed!\n"
     ]
    },
    {
     "name": "stderr",
     "output_type": "stream",
     "text": [
      " 97% (14036 of 14400) |################# | Elapsed Time: 0:00:00 ETA:   0:00:00"
     ]
    },
    {
     "name": "stdout",
     "output_type": "stream",
     "text": [
      "finish ingestion to ES 2020-07-05T20:34:52.166705\n",
      "Ingest 03-Jan-2020 (02:00:00.562000)  is completed!\n"
     ]
    },
    {
     "name": "stderr",
     "output_type": "stream",
     "text": [
      " 89% (12942 of 14400) |################  | Elapsed Time: 0:00:00 ETA:   0:00:00"
     ]
    },
    {
     "name": "stdout",
     "output_type": "stream",
     "text": [
      "finish ingestion to ES 2020-07-05T20:35:20.925903\n",
      "Ingest 03-Jan-2020 (04:00:00.519000)  is completed!\n"
     ]
    },
    {
     "name": "stderr",
     "output_type": "stream",
     "text": [
      " 94% (13671 of 14400) |################# | Elapsed Time: 0:00:00 ETA:   0:00:00"
     ]
    },
    {
     "name": "stdout",
     "output_type": "stream",
     "text": [
      "finish ingestion to ES 2020-07-05T20:35:49.900351\n",
      "Ingest 03-Jan-2020 (06:00:00.579000)  is completed!\n"
     ]
    },
    {
     "name": "stderr",
     "output_type": "stream",
     "text": [
      " 89% (12942 of 14400) |################  | Elapsed Time: 0:00:00 ETA:   0:00:00"
     ]
    },
    {
     "name": "stdout",
     "output_type": "stream",
     "text": [
      "finish ingestion to ES 2020-07-05T20:36:18.890475\n",
      "Ingest 03-Jan-2020 (08:00:00.539000)  is completed!\n"
     ]
    },
    {
     "name": "stderr",
     "output_type": "stream",
     "text": [
      " 89% (12942 of 14400) |################  | Elapsed Time: 0:00:00 ETA:   0:00:00"
     ]
    },
    {
     "name": "stdout",
     "output_type": "stream",
     "text": [
      "finish ingestion to ES 2020-07-05T20:36:47.714999\n",
      "Ingest 03-Jan-2020 (10:00:00.519000)  is completed!\n"
     ]
    },
    {
     "name": "stderr",
     "output_type": "stream",
     "text": [
      " 89% (12942 of 14400) |################  | Elapsed Time: 0:00:00 ETA:   0:00:00"
     ]
    },
    {
     "name": "stdout",
     "output_type": "stream",
     "text": [
      "finish ingestion to ES 2020-07-05T20:37:16.615690\n",
      "Ingest 03-Jan-2020 (12:00:00.598000)  is completed!\n"
     ]
    },
    {
     "name": "stderr",
     "output_type": "stream",
     "text": [
      " 97% (14036 of 14400) |################# | Elapsed Time: 0:00:00 ETA:   0:00:00"
     ]
    },
    {
     "name": "stdout",
     "output_type": "stream",
     "text": [
      "finish ingestion to ES 2020-07-05T20:37:45.591355\n",
      "Ingest 03-Jan-2020 (14:00:00.563000)  is completed!\n"
     ]
    },
    {
     "name": "stderr",
     "output_type": "stream",
     "text": [
      " 89% (12942 of 14400) |################  | Elapsed Time: 0:00:00 ETA:   0:00:00"
     ]
    },
    {
     "name": "stdout",
     "output_type": "stream",
     "text": [
      "finish ingestion to ES 2020-07-05T20:38:14.538541\n",
      "Ingest 03-Jan-2020 (16:00:00.595000)  is completed!\n"
     ]
    },
    {
     "name": "stderr",
     "output_type": "stream",
     "text": [
      " 96% (13854 of 14400) |################# | Elapsed Time: 0:00:00 ETA:   0:00:00"
     ]
    },
    {
     "name": "stdout",
     "output_type": "stream",
     "text": [
      "finish ingestion to ES 2020-07-05T20:38:43.831257\n",
      "Ingest 03-Jan-2020 (18:00:00.599000)  is completed!\n"
     ]
    },
    {
     "name": "stderr",
     "output_type": "stream",
     "text": [
      " 97% (14036 of 14400) |################# | Elapsed Time: 0:00:00 ETA:   0:00:00"
     ]
    },
    {
     "name": "stdout",
     "output_type": "stream",
     "text": [
      "finish ingestion to ES 2020-07-05T20:39:13.438936\n",
      "Ingest 03-Jan-2020 (20:00:00.520000)  is completed!\n"
     ]
    },
    {
     "name": "stderr",
     "output_type": "stream",
     "text": [
      " 89% (12942 of 14400) |################  | Elapsed Time: 0:00:00 ETA:   0:00:00"
     ]
    },
    {
     "name": "stdout",
     "output_type": "stream",
     "text": [
      "finish ingestion to ES 2020-07-05T20:39:43.411112\n",
      "Ingest 03-Jan-2020 (22:00:00.583000)  is completed!\n"
     ]
    },
    {
     "name": "stderr",
     "output_type": "stream",
     "text": [
      " 96% (13854 of 14400) |################# | Elapsed Time: 0:00:00 ETA:   0:00:00"
     ]
    },
    {
     "name": "stdout",
     "output_type": "stream",
     "text": [
      "finish ingestion to ES 2020-07-05T20:40:12.754987\n",
      "Ingest 04-Jan-2020 (00:00:00.522000)  is completed!\n"
     ]
    },
    {
     "name": "stderr",
     "output_type": "stream",
     "text": [
      " 98% (14218 of 14400) |################# | Elapsed Time: 0:00:00 ETA:   0:00:00"
     ]
    },
    {
     "name": "stdout",
     "output_type": "stream",
     "text": [
      "finish ingestion to ES 2020-07-05T20:40:41.995710\n",
      "Ingest 04-Jan-2020 (02:00:00.581000)  is completed!\n"
     ]
    },
    {
     "name": "stderr",
     "output_type": "stream",
     "text": [
      " 89% (12942 of 14400) |################  | Elapsed Time: 0:00:00 ETA:   0:00:00"
     ]
    },
    {
     "name": "stdout",
     "output_type": "stream",
     "text": [
      "finish ingestion to ES 2020-07-05T20:41:11.627824\n",
      "Ingest 04-Jan-2020 (04:00:00.587000)  is completed!\n"
     ]
    },
    {
     "name": "stderr",
     "output_type": "stream",
     "text": [
      " 92% (13307 of 14400) |################  | Elapsed Time: 0:00:00 ETA:   0:00:00"
     ]
    },
    {
     "name": "stdout",
     "output_type": "stream",
     "text": [
      "finish ingestion to ES 2020-07-05T20:41:41.121123\n",
      "Ingest 04-Jan-2020 (06:00:00.567000)  is completed!\n"
     ]
    },
    {
     "name": "stderr",
     "output_type": "stream",
     "text": [
      " 89% (12942 of 14400) |################  | Elapsed Time: 0:00:00 ETA:   0:00:00"
     ]
    },
    {
     "name": "stdout",
     "output_type": "stream",
     "text": [
      "finish ingestion to ES 2020-07-05T20:42:10.729254\n",
      "Ingest 04-Jan-2020 (08:00:00.538000)  is completed!\n"
     ]
    },
    {
     "name": "stderr",
     "output_type": "stream",
     "text": [
      " 89% (12942 of 14400) |################  | Elapsed Time: 0:00:00 ETA:   0:00:00"
     ]
    },
    {
     "name": "stdout",
     "output_type": "stream",
     "text": [
      "finish ingestion to ES 2020-07-05T20:42:40.481528\n",
      "Ingest 04-Jan-2020 (10:00:00.584000)  is completed!\n"
     ]
    },
    {
     "name": "stderr",
     "output_type": "stream",
     "text": [
      " 94% (13671 of 14400) |################# | Elapsed Time: 0:00:00 ETA:   0:00:00"
     ]
    },
    {
     "name": "stdout",
     "output_type": "stream",
     "text": [
      "finish ingestion to ES 2020-07-05T20:43:09.911010\n",
      "Ingest 04-Jan-2020 (12:00:00.584000)  is completed!\n"
     ]
    },
    {
     "name": "stderr",
     "output_type": "stream",
     "text": [
      " 97% (14036 of 14400) |################# | Elapsed Time: 0:00:00 ETA:   0:00:00"
     ]
    },
    {
     "name": "stdout",
     "output_type": "stream",
     "text": [
      "finish ingestion to ES 2020-07-05T20:43:39.469447\n",
      "Ingest 04-Jan-2020 (14:00:00.586000)  is completed!\n"
     ]
    },
    {
     "name": "stderr",
     "output_type": "stream",
     "text": [
      " 98% (14218 of 14400) |################# | Elapsed Time: 0:00:00 ETA:   0:00:00"
     ]
    },
    {
     "name": "stdout",
     "output_type": "stream",
     "text": [
      "finish ingestion to ES 2020-07-05T20:44:08.880818\n",
      "Ingest 04-Jan-2020 (16:00:00.558000)  is completed!\n"
     ]
    },
    {
     "name": "stderr",
     "output_type": "stream",
     "text": [
      " 93% (13489 of 14400) |################  | Elapsed Time: 0:00:00 ETA:   0:00:00"
     ]
    },
    {
     "name": "stdout",
     "output_type": "stream",
     "text": [
      "finish ingestion to ES 2020-07-05T20:44:38.264141\n",
      "Ingest 04-Jan-2020 (18:00:00.573000)  is completed!\n"
     ]
    },
    {
     "name": "stderr",
     "output_type": "stream",
     "text": [
      " 97% (14036 of 14400) |################# | Elapsed Time: 0:00:00 ETA:   0:00:00"
     ]
    },
    {
     "name": "stdout",
     "output_type": "stream",
     "text": [
      "finish ingestion to ES 2020-07-05T20:45:07.188809\n",
      "Ingest 04-Jan-2020 (20:00:00.577000)  is completed!\n"
     ]
    },
    {
     "name": "stderr",
     "output_type": "stream",
     "text": [
      " 98% (14218 of 14400) |################# | Elapsed Time: 0:00:00 ETA:   0:00:00"
     ]
    },
    {
     "name": "stdout",
     "output_type": "stream",
     "text": [
      "finish ingestion to ES 2020-07-05T20:45:36.056017\n",
      "Ingest 04-Jan-2020 (22:00:00.584000)  is completed!\n"
     ]
    },
    {
     "name": "stderr",
     "output_type": "stream",
     "text": [
      " 89% (12942 of 14400) |################  | Elapsed Time: 0:00:00 ETA:   0:00:00"
     ]
    },
    {
     "name": "stdout",
     "output_type": "stream",
     "text": [
      "finish ingestion to ES 2020-07-05T20:46:05.333735\n",
      "Ingest 05-Jan-2020 (00:00:00.553000)  is completed!\n"
     ]
    },
    {
     "name": "stderr",
     "output_type": "stream",
     "text": [
      " 97% (14036 of 14400) |################# | Elapsed Time: 0:00:00 ETA:   0:00:00"
     ]
    },
    {
     "name": "stdout",
     "output_type": "stream",
     "text": [
      "finish ingestion to ES 2020-07-05T20:46:34.502371\n",
      "Ingest 05-Jan-2020 (02:00:00.594000)  is completed!\n"
     ]
    },
    {
     "name": "stderr",
     "output_type": "stream",
     "text": [
      " 89% (12942 of 14400) |################  | Elapsed Time: 0:00:00 ETA:   0:00:00"
     ]
    },
    {
     "name": "stdout",
     "output_type": "stream",
     "text": [
      "finish ingestion to ES 2020-07-05T20:47:04.694724\n",
      "Ingest 05-Jan-2020 (04:00:00.534000)  is completed!\n"
     ]
    },
    {
     "name": "stderr",
     "output_type": "stream",
     "text": [
      " 89% (12942 of 14400) |################  | Elapsed Time: 0:00:00 ETA:   0:00:00"
     ]
    },
    {
     "name": "stdout",
     "output_type": "stream",
     "text": [
      "finish ingestion to ES 2020-07-05T20:47:34.447038\n",
      "Ingest 05-Jan-2020 (06:00:00.599000)  is completed!\n"
     ]
    },
    {
     "name": "stderr",
     "output_type": "stream",
     "text": [
      " 89% (12942 of 14400) |################  | Elapsed Time: 0:00:00 ETA:   0:00:00"
     ]
    },
    {
     "name": "stdout",
     "output_type": "stream",
     "text": [
      "finish ingestion to ES 2020-07-05T20:48:03.732106\n",
      "Ingest 05-Jan-2020 (08:00:00.527000)  is completed!\n"
     ]
    },
    {
     "name": "stderr",
     "output_type": "stream",
     "text": [
      " 98% (14218 of 14400) |################# | Elapsed Time: 0:00:00 ETA:   0:00:00"
     ]
    },
    {
     "name": "stdout",
     "output_type": "stream",
     "text": [
      "finish ingestion to ES 2020-07-05T20:48:33.810580\n",
      "Ingest 05-Jan-2020 (10:00:00.561000)  is completed!\n"
     ]
    },
    {
     "name": "stderr",
     "output_type": "stream",
     "text": [
      " 89% (12942 of 14400) |################  | Elapsed Time: 0:00:00 ETA:   0:00:00"
     ]
    },
    {
     "name": "stdout",
     "output_type": "stream",
     "text": [
      "finish ingestion to ES 2020-07-05T20:49:03.426331\n",
      "Ingest 05-Jan-2020 (12:00:00.511000)  is completed!\n"
     ]
    },
    {
     "name": "stderr",
     "output_type": "stream",
     "text": [
      " 89% (12942 of 14400) |################  | Elapsed Time: 0:00:00 ETA:   0:00:00"
     ]
    },
    {
     "name": "stdout",
     "output_type": "stream",
     "text": [
      "finish ingestion to ES 2020-07-05T20:49:33.040068\n",
      "Ingest 05-Jan-2020 (14:00:00.512000)  is completed!\n"
     ]
    },
    {
     "name": "stderr",
     "output_type": "stream",
     "text": [
      " 98% (14218 of 14400) |################# | Elapsed Time: 0:00:00 ETA:   0:00:00"
     ]
    },
    {
     "name": "stdout",
     "output_type": "stream",
     "text": [
      "finish ingestion to ES 2020-07-05T20:50:02.485138\n",
      "Ingest 05-Jan-2020 (16:00:00.557000)  is completed!\n"
     ]
    },
    {
     "name": "stderr",
     "output_type": "stream",
     "text": [
      " 92% (13307 of 14400) |################  | Elapsed Time: 0:00:00 ETA:   0:00:00"
     ]
    },
    {
     "name": "stdout",
     "output_type": "stream",
     "text": [
      "finish ingestion to ES 2020-07-05T20:50:32.173548\n",
      "Ingest 05-Jan-2020 (18:00:00.514000)  is completed!\n"
     ]
    },
    {
     "name": "stderr",
     "output_type": "stream",
     "text": [
      " 89% (12942 of 14400) |################  | Elapsed Time: 0:00:00 ETA:   0:00:00"
     ]
    },
    {
     "name": "stdout",
     "output_type": "stream",
     "text": [
      "finish ingestion to ES 2020-07-05T20:51:01.555348\n",
      "Ingest 05-Jan-2020 (20:00:00.548000)  is completed!\n"
     ]
    },
    {
     "name": "stderr",
     "output_type": "stream",
     "text": [
      " 98% (14218 of 14400) |################# | Elapsed Time: 0:00:00 ETA:   0:00:00"
     ]
    },
    {
     "name": "stdout",
     "output_type": "stream",
     "text": [
      "finish ingestion to ES 2020-07-05T20:51:30.369579\n",
      "Ingest 05-Jan-2020 (22:00:00.519000)  is completed!\n"
     ]
    },
    {
     "name": "stderr",
     "output_type": "stream",
     "text": [
      " 92% (13307 of 14400) |################  | Elapsed Time: 0:00:00 ETA:   0:00:00"
     ]
    },
    {
     "name": "stdout",
     "output_type": "stream",
     "text": [
      "finish ingestion to ES 2020-07-05T20:51:59.126218\n",
      "Ingest 06-Jan-2020 (00:00:00.528000)  is completed!\n"
     ]
    },
    {
     "name": "stderr",
     "output_type": "stream",
     "text": [
      " 91% (13125 of 14400) |################  | Elapsed Time: 0:00:00 ETA:   0:00:00"
     ]
    },
    {
     "name": "stdout",
     "output_type": "stream",
     "text": [
      "finish ingestion to ES 2020-07-05T20:52:27.909870\n",
      "Ingest 06-Jan-2020 (02:00:00.540000)  is completed!\n"
     ]
    },
    {
     "name": "stderr",
     "output_type": "stream",
     "text": [
      " 89% (12942 of 14400) |################  | Elapsed Time: 0:00:00 ETA:   0:00:00"
     ]
    },
    {
     "name": "stdout",
     "output_type": "stream",
     "text": [
      "finish ingestion to ES 2020-07-05T20:52:56.667058\n",
      "Ingest 06-Jan-2020 (04:00:00.572000)  is completed!\n"
     ]
    },
    {
     "name": "stderr",
     "output_type": "stream",
     "text": [
      " 96% (13854 of 14400) |################# | Elapsed Time: 0:00:00 ETA:   0:00:00"
     ]
    },
    {
     "name": "stdout",
     "output_type": "stream",
     "text": [
      "finish ingestion to ES 2020-07-05T20:53:25.463688\n",
      "Ingest 06-Jan-2020 (06:00:00.587000)  is completed!\n"
     ]
    },
    {
     "name": "stderr",
     "output_type": "stream",
     "text": [
      " 89% (12942 of 14400) |################  | Elapsed Time: 0:00:00 ETA:   0:00:00"
     ]
    },
    {
     "name": "stdout",
     "output_type": "stream",
     "text": [
      "finish ingestion to ES 2020-07-05T20:53:54.255770\n",
      "Ingest 06-Jan-2020 (08:00:00.552000)  is completed!\n"
     ]
    },
    {
     "name": "stderr",
     "output_type": "stream",
     "text": [
      " 89% (12942 of 14400) |################  | Elapsed Time: 0:00:00 ETA:   0:00:00"
     ]
    },
    {
     "name": "stdout",
     "output_type": "stream",
     "text": [
      "finish ingestion to ES 2020-07-05T20:54:23.420455\n",
      "Ingest 06-Jan-2020 (10:00:00.543000)  is completed!\n"
     ]
    },
    {
     "name": "stderr",
     "output_type": "stream",
     "text": [
      " 98% (14218 of 14400) |################# | Elapsed Time: 0:00:00 ETA:   0:00:00"
     ]
    },
    {
     "name": "stdout",
     "output_type": "stream",
     "text": [
      "finish ingestion to ES 2020-07-05T20:54:52.479098\n",
      "Ingest 06-Jan-2020 (12:00:00.573000)  is completed!\n"
     ]
    },
    {
     "name": "stderr",
     "output_type": "stream",
     "text": [
      " 97% (14036 of 14400) |################# | Elapsed Time: 0:00:00 ETA:   0:00:00"
     ]
    },
    {
     "name": "stdout",
     "output_type": "stream",
     "text": [
      "finish ingestion to ES 2020-07-05T20:55:21.832705\n",
      "Ingest 06-Jan-2020 (14:00:00.568000)  is completed!\n"
     ]
    },
    {
     "name": "stderr",
     "output_type": "stream",
     "text": [
      " 89% (12942 of 14400) |################  | Elapsed Time: 0:00:00 ETA:   0:00:00"
     ]
    },
    {
     "name": "stdout",
     "output_type": "stream",
     "text": [
      "finish ingestion to ES 2020-07-05T20:55:50.917787\n",
      "Ingest 06-Jan-2020 (16:00:00.548000)  is completed!\n"
     ]
    },
    {
     "name": "stderr",
     "output_type": "stream",
     "text": [
      " 97% (14036 of 14400) |################# | Elapsed Time: 0:00:00 ETA:   0:00:00"
     ]
    },
    {
     "name": "stdout",
     "output_type": "stream",
     "text": [
      "finish ingestion to ES 2020-07-05T20:56:20.148451\n",
      "Ingest 06-Jan-2020 (18:00:00.578000)  is completed!\n"
     ]
    },
    {
     "name": "stderr",
     "output_type": "stream",
     "text": [
      " 89% (12942 of 14400) |################  | Elapsed Time: 0:00:00 ETA:   0:00:00"
     ]
    },
    {
     "name": "stdout",
     "output_type": "stream",
     "text": [
      "finish ingestion to ES 2020-07-05T20:56:48.980906\n",
      "Ingest 06-Jan-2020 (20:00:00.513000)  is completed!\n"
     ]
    },
    {
     "name": "stderr",
     "output_type": "stream",
     "text": [
      " 91% (13125 of 14400) |################  | Elapsed Time: 0:00:00 ETA:   0:00:00"
     ]
    },
    {
     "name": "stdout",
     "output_type": "stream",
     "text": [
      "finish ingestion to ES 2020-07-05T20:57:18.904119\n",
      "Ingest 06-Jan-2020 (22:00:00.528000)  is completed!\n"
     ]
    }
   ],
   "source": [
    "# ingest whole year data for all crane\n",
    "for i in range(1):\n",
    "    crane = 'PQC' + str(random.randint(500, 900))\n",
    "    # 创建开始时间点和结束时间点\n",
    "    dt_start = datetime.datetime(2020,1,1,0,0,1)\n",
    "    dt_end =   datetime.datetime(2021,1,1,0,0,0)\n",
    "    ingest_bulk_dataframe(dt_start, dt_end, crane, callback_ingestion)\n",
    "    print('Ingest %s  is completed!' % crane)"
   ]
  },
  {
   "cell_type": "code",
   "execution_count": 53,
   "metadata": {},
   "outputs": [
    {
     "name": "stdout",
     "output_type": "stream",
     "text": [
      "31449842 04/07/2020 22:00:51.846222\n",
      "31449841.0 04/07/2020 22:00:51.846875\n"
     ]
    }
   ],
   "source": [
    "dt_start = datetime.datetime(2017,1,1,0,0,1)\n",
    "dt_end =   datetime.datetime(2017,12,31,0,4,2)\n",
    "\n",
    "delta = dt_end - dt_start\n",
    "print_time(str(delta.days*24*60*60+delta.seconds+1))\n",
    "print_time(str(delta.total_seconds()))\n"
   ]
  },
  {
   "cell_type": "code",
   "execution_count": 7,
   "metadata": {},
   "outputs": [],
   "source": [
    "def get_day_time_range(start_day, end_day):\n",
    "    # 获取时间间隔\n",
    "    delta = start_day - start_day\n",
    "    ds = pd.DataFrame()\n",
    "    \n",
    "    for i in range(delta.days+1):\n",
    "        df.at[0, \"Start\"] = start_day.date"
   ]
  },
  {
   "cell_type": "code",
   "execution_count": null,
   "metadata": {},
   "outputs": [],
   "source": []
  }
 ],
 "metadata": {
  "kernelspec": {
   "display_name": "Python 3",
   "language": "python",
   "name": "python3"
  },
  "language_info": {
   "codemirror_mode": {
    "name": "ipython",
    "version": 3
   },
   "file_extension": ".py",
   "mimetype": "text/x-python",
   "name": "python",
   "nbconvert_exporter": "python",
   "pygments_lexer": "ipython3",
   "version": "3.7.3"
  }
 },
 "nbformat": 4,
 "nbformat_minor": 2
}
