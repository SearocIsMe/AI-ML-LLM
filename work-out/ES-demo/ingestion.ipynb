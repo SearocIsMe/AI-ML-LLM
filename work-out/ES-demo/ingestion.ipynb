{
 "cells": [
  {
   "cell_type": "code",
   "execution_count": 1,
   "metadata": {},
   "outputs": [
    {
     "name": "stdout",
     "output_type": "stream",
     "text": [
      "importing Jupyter notebook from common.ipynb\n",
      "03 Aug 2020 DAQ FilesPQC887\n"
     ]
    }
   ],
   "source": [
    "import pandas as pd\n",
    "import numpy as np\n",
    "import calendar\n",
    "import os\n",
    "\n",
    "from datetime import datetime\n",
    "from elasticsearch import Elasticsearch,helpers\n",
    "from elasticsearch.helpers import parallel_bulk\n",
    "from elasticsearch.helpers import streaming_bulk\n",
    "from es_pandas import es_pandas\n",
    "\n",
    "#import commond.ipynb from same folder\n",
    "import import_ipynb\n",
    "from common import *"
   ]
  },
  {
   "cell_type": "code",
   "execution_count": 7,
   "metadata": {},
   "outputs": [],
   "source": [
    "filePath = '/Users/searoc/Documents/4-Envision/PSA/Data From PSA/DAQ&PMS Data from PSA/For Envison/PRD DAQ Files- Quay Cranes'\n",
    "fileName = 'Complete_DAQ_LOG_20191026_2200.csv'\n",
    "\n",
    "# this port number 80 is a must\n",
    "es_host = \"http://elasticsearch-7.apaas-ppe1.eniot.io:80\""
   ]
  },
  {
   "cell_type": "code",
   "execution_count": 8,
   "metadata": {},
   "outputs": [],
   "source": [
    "csv_file = filePath+fileName\n",
    "json_file = 'sample-11-may-2021.json'\n",
    "\n",
    "def export_to_json(csv_file, json_file):\n",
    "    ds_ = load_data(csv_file)\n",
    "    print(ds_.head())\n",
    "    ds_.to_json(json_file, orient='records')\n",
    "    print('done!')"
   ]
  },
  {
   "cell_type": "code",
   "execution_count": 9,
   "metadata": {},
   "outputs": [],
   "source": [
    "ep = es_pandas(es_host)"
   ]
  },
  {
   "cell_type": "code",
   "execution_count": 12,
   "metadata": {},
   "outputs": [],
   "source": [
    "def ingest_from_folder(path, es_host, index):\n",
    "    # crete es_pandas instance\n",
    "    ep = es_pandas(es_host)\n",
    "    # init template if you want\n",
    "    doc_type = 'demo'\n",
    "\n",
    "    \n",
    "    g = os.walk(path)  \n",
    "\n",
    "    load_template = False\n",
    "    for path,dir_list,file_list in g:  \n",
    "        for file_name in file_list:  \n",
    "            if file_name.endswith(\".csv\"):\n",
    "                file_name_ = os.path.join(path, file_name)\n",
    "                print(file_name_)\n",
    "                ds_ = load_data(file_name_)\n",
    "                if ds_ is None:\n",
    "                    continue\n",
    "                #ep.init_es_tmpl(ds_, doc_type)\n",
    "                ds_['timestamp'] = ds_['Date'].astype(str) + ' ' + ds_['Time']\n",
    "                ds_.drop(['Date', 'Time'], axis=1)\n",
    "                try:\n",
    "                    ds_['timestamp'] = pd.to_datetime(ds_['timestamp'], format=\"%d/%m/%Y %H:%M:%S.%f\", errors='raise')\n",
    "                except Exception as e:\n",
    "                    print('to_datetime error (parsing \"unparseable\"):\\n\\t' + str(e))\n",
    "                    continue\n",
    "                # Example of write data to es, use the template you create\n",
    "                ep.to_es(ds_, index, doc_type=doc_type, thread_count=5, chunk_size=100, request_timeout=30)\n",
    "                del ds_\n",
    "                print('Ingest %s is completed!' % file_name_)\n",
    "   "
   ]
  },
  {
   "cell_type": "code",
   "execution_count": 13,
   "metadata": {},
   "outputs": [
    {
     "name": "stdout",
     "output_type": "stream",
     "text": [
      "/Users/searoc/Documents/4-Envision/PSA/Data From PSA/DAQ&PMS Data from PSA/For Envison/PRD DAQ Files- Quay Cranes/PQC886/DAQ_Log-10-24-2019/Complete_DAQ_LOG_20191024_0800.csv\n"
     ]
    },
    {
     "name": "stderr",
     "output_type": "stream",
     "text": [
      " 99% (7001 of 7030) |################### | Elapsed Time: 0:00:29 ETA:   0:00:00"
     ]
    },
    {
     "name": "stdout",
     "output_type": "stream",
     "text": [
      "Ingest /Users/searoc/Documents/4-Envision/PSA/Data From PSA/DAQ&PMS Data from PSA/For Envison/PRD DAQ Files- Quay Cranes/PQC886/DAQ_Log-10-24-2019/Complete_DAQ_LOG_20191024_0800.csv is completed!\n",
      "/Users/searoc/Documents/4-Envision/PSA/Data From PSA/DAQ&PMS Data from PSA/For Envison/PRD DAQ Files- Quay Cranes/PQC886/DAQ_Log-10-24-2019/Complete_DAQ_LOG_20191024_1100.csv\n"
     ]
    },
    {
     "name": "stderr",
     "output_type": "stream",
     "text": [
      " 99% (7001 of 7031) |################### | Elapsed Time: 0:00:31 ETA:   0:00:00"
     ]
    },
    {
     "name": "stdout",
     "output_type": "stream",
     "text": [
      "Ingest /Users/searoc/Documents/4-Envision/PSA/Data From PSA/DAQ&PMS Data from PSA/For Envison/PRD DAQ Files- Quay Cranes/PQC886/DAQ_Log-10-24-2019/Complete_DAQ_LOG_20191024_1100.csv is completed!\n",
      "/Users/searoc/Documents/4-Envision/PSA/Data From PSA/DAQ&PMS Data from PSA/For Envison/PRD DAQ Files- Quay Cranes/PQC886/DAQ_Log-10-24-2019/Complete_DAQ_LOG_20191024_1300.csv\n"
     ]
    },
    {
     "name": "stderr",
     "output_type": "stream",
     "text": [
      " 99% (7001 of 7031) |################### | Elapsed Time: 0:00:33 ETA:   0:00:00"
     ]
    },
    {
     "name": "stdout",
     "output_type": "stream",
     "text": [
      "Ingest /Users/searoc/Documents/4-Envision/PSA/Data From PSA/DAQ&PMS Data from PSA/For Envison/PRD DAQ Files- Quay Cranes/PQC886/DAQ_Log-10-24-2019/Complete_DAQ_LOG_20191024_1300.csv is completed!\n",
      "/Users/searoc/Documents/4-Envision/PSA/Data From PSA/DAQ&PMS Data from PSA/For Envison/PRD DAQ Files- Quay Cranes/PQC886/DAQ_Log-10-24-2019/Complete_DAQ_LOG_20191024_1700.csv\n"
     ]
    },
    {
     "name": "stderr",
     "output_type": "stream",
     "text": [
      " 98% (6901 of 7027) |################### | Elapsed Time: 0:00:33 ETA:   0:00:01"
     ]
    },
    {
     "name": "stdout",
     "output_type": "stream",
     "text": [
      "Ingest /Users/searoc/Documents/4-Envision/PSA/Data From PSA/DAQ&PMS Data from PSA/For Envison/PRD DAQ Files- Quay Cranes/PQC886/DAQ_Log-10-24-2019/Complete_DAQ_LOG_20191024_1700.csv is completed!\n",
      "/Users/searoc/Documents/4-Envision/PSA/Data From PSA/DAQ&PMS Data from PSA/For Envison/PRD DAQ Files- Quay Cranes/PQC886/DAQ_Log-10-24-2019/Complete_DAQ_LOG_20191024_1500.csv\n"
     ]
    },
    {
     "name": "stderr",
     "output_type": "stream",
     "text": [
      " 99% (7001 of 7030) |################### | Elapsed Time: 0:00:30 ETA:   0:00:00"
     ]
    },
    {
     "name": "stdout",
     "output_type": "stream",
     "text": [
      "Ingest /Users/searoc/Documents/4-Envision/PSA/Data From PSA/DAQ&PMS Data from PSA/For Envison/PRD DAQ Files- Quay Cranes/PQC886/DAQ_Log-10-24-2019/Complete_DAQ_LOG_20191024_1500.csv is completed!\n",
      "/Users/searoc/Documents/4-Envision/PSA/Data From PSA/DAQ&PMS Data from PSA/For Envison/PRD DAQ Files- Quay Cranes/PQC886/DAQ_Log-10-24-2019/Complete_DAQ_LOG_20191024_1200.csv\n"
     ]
    },
    {
     "name": "stderr",
     "output_type": "stream",
     "text": [
      " 98% (6901 of 7028) |################### | Elapsed Time: 0:00:36 ETA:   0:00:00"
     ]
    },
    {
     "name": "stdout",
     "output_type": "stream",
     "text": [
      "Ingest /Users/searoc/Documents/4-Envision/PSA/Data From PSA/DAQ&PMS Data from PSA/For Envison/PRD DAQ Files- Quay Cranes/PQC886/DAQ_Log-10-24-2019/Complete_DAQ_LOG_20191024_1200.csv is completed!\n",
      "/Users/searoc/Documents/4-Envision/PSA/Data From PSA/DAQ&PMS Data from PSA/For Envison/PRD DAQ Files- Quay Cranes/PQC886/DAQ_Log-10-24-2019/Complete_DAQ_LOG_20191024_1000.csv\n"
     ]
    },
    {
     "name": "stderr",
     "output_type": "stream",
     "text": [
      " 99% (7001 of 7030) |################### | Elapsed Time: 0:00:36 ETA:   0:00:00"
     ]
    },
    {
     "name": "stdout",
     "output_type": "stream",
     "text": [
      "Ingest /Users/searoc/Documents/4-Envision/PSA/Data From PSA/DAQ&PMS Data from PSA/For Envison/PRD DAQ Files- Quay Cranes/PQC886/DAQ_Log-10-24-2019/Complete_DAQ_LOG_20191024_1000.csv is completed!\n",
      "/Users/searoc/Documents/4-Envision/PSA/Data From PSA/DAQ&PMS Data from PSA/For Envison/PRD DAQ Files- Quay Cranes/PQC886/DAQ_Log-10-24-2019/Complete_DAQ_LOG_20191024_1400.csv\n"
     ]
    },
    {
     "name": "stderr",
     "output_type": "stream",
     "text": [
      " 98% (6901 of 7030) |################### | Elapsed Time: 0:00:39 ETA:   0:00:00"
     ]
    },
    {
     "name": "stdout",
     "output_type": "stream",
     "text": [
      "Ingest /Users/searoc/Documents/4-Envision/PSA/Data From PSA/DAQ&PMS Data from PSA/For Envison/PRD DAQ Files- Quay Cranes/PQC886/DAQ_Log-10-24-2019/Complete_DAQ_LOG_20191024_1400.csv is completed!\n",
      "/Users/searoc/Documents/4-Envision/PSA/Data From PSA/DAQ&PMS Data from PSA/For Envison/PRD DAQ Files- Quay Cranes/PQC886/DAQ_Log-10-24-2019/Complete_DAQ_LOG_20191024_1600.csv\n"
     ]
    },
    {
     "name": "stderr",
     "output_type": "stream",
     "text": [
      " 99% (7001 of 7041) |################### | Elapsed Time: 0:00:34 ETA:   0:00:00"
     ]
    },
    {
     "name": "stdout",
     "output_type": "stream",
     "text": [
      "Ingest /Users/searoc/Documents/4-Envision/PSA/Data From PSA/DAQ&PMS Data from PSA/For Envison/PRD DAQ Files- Quay Cranes/PQC886/DAQ_Log-10-24-2019/Complete_DAQ_LOG_20191024_1600.csv is completed!\n",
      "/Users/searoc/Documents/4-Envision/PSA/Data From PSA/DAQ&PMS Data from PSA/For Envison/PRD DAQ Files- Quay Cranes/PQC886/DAQ_Log-10-24-2019/Complete_DAQ_LOG_20191024_0300.csv\n"
     ]
    },
    {
     "name": "stderr",
     "output_type": "stream",
     "text": [
      " 99% (7001 of 7031) |################### | Elapsed Time: 0:00:33 ETA:   0:00:00"
     ]
    },
    {
     "name": "stdout",
     "output_type": "stream",
     "text": [
      "Ingest /Users/searoc/Documents/4-Envision/PSA/Data From PSA/DAQ&PMS Data from PSA/For Envison/PRD DAQ Files- Quay Cranes/PQC886/DAQ_Log-10-24-2019/Complete_DAQ_LOG_20191024_0300.csv is completed!\n",
      "/Users/searoc/Documents/4-Envision/PSA/Data From PSA/DAQ&PMS Data from PSA/For Envison/PRD DAQ Files- Quay Cranes/PQC886/DAQ_Log-10-24-2019/Complete_DAQ_LOG_20191024_0100.csv\n"
     ]
    },
    {
     "name": "stderr",
     "output_type": "stream",
     "text": [
      " 99% (7001 of 7031) |################### | Elapsed Time: 0:00:35 ETA:   0:00:00"
     ]
    },
    {
     "name": "stdout",
     "output_type": "stream",
     "text": [
      "Ingest /Users/searoc/Documents/4-Envision/PSA/Data From PSA/DAQ&PMS Data from PSA/For Envison/PRD DAQ Files- Quay Cranes/PQC886/DAQ_Log-10-24-2019/Complete_DAQ_LOG_20191024_0100.csv is completed!\n",
      "/Users/searoc/Documents/4-Envision/PSA/Data From PSA/DAQ&PMS Data from PSA/For Envison/PRD DAQ Files- Quay Cranes/PQC886/DAQ_Log-10-24-2019/Complete_DAQ_LOG_20191024_1800.csv\n"
     ]
    },
    {
     "name": "stderr",
     "output_type": "stream",
     "text": [
      " 99% (7001 of 7018) |################### | Elapsed Time: 0:00:33 ETA:   0:00:00"
     ]
    },
    {
     "name": "stdout",
     "output_type": "stream",
     "text": [
      "Ingest /Users/searoc/Documents/4-Envision/PSA/Data From PSA/DAQ&PMS Data from PSA/For Envison/PRD DAQ Files- Quay Cranes/PQC886/DAQ_Log-10-24-2019/Complete_DAQ_LOG_20191024_1800.csv is completed!\n",
      "/Users/searoc/Documents/4-Envision/PSA/Data From PSA/DAQ&PMS Data from PSA/For Envison/PRD DAQ Files- Quay Cranes/PQC886/DAQ_Log-10-24-2019/Complete_DAQ_LOG_20191024_2100.csv\n"
     ]
    },
    {
     "name": "stderr",
     "output_type": "stream",
     "text": [
      " 99% (7001 of 7015) |################### | Elapsed Time: 0:00:35 ETA:   0:00:00"
     ]
    },
    {
     "name": "stdout",
     "output_type": "stream",
     "text": [
      "Ingest /Users/searoc/Documents/4-Envision/PSA/Data From PSA/DAQ&PMS Data from PSA/For Envison/PRD DAQ Files- Quay Cranes/PQC886/DAQ_Log-10-24-2019/Complete_DAQ_LOG_20191024_2100.csv is completed!\n",
      "/Users/searoc/Documents/4-Envision/PSA/Data From PSA/DAQ&PMS Data from PSA/For Envison/PRD DAQ Files- Quay Cranes/PQC886/DAQ_Log-10-24-2019/Complete_DAQ_LOG_20191024_0500.csv\n"
     ]
    },
    {
     "name": "stderr",
     "output_type": "stream",
     "text": [
      " 99% (7001 of 7030) |################### | Elapsed Time: 0:00:34 ETA:   0:00:00"
     ]
    },
    {
     "name": "stdout",
     "output_type": "stream",
     "text": [
      "Ingest /Users/searoc/Documents/4-Envision/PSA/Data From PSA/DAQ&PMS Data from PSA/For Envison/PRD DAQ Files- Quay Cranes/PQC886/DAQ_Log-10-24-2019/Complete_DAQ_LOG_20191024_0500.csv is completed!\n",
      "/Users/searoc/Documents/4-Envision/PSA/Data From PSA/DAQ&PMS Data from PSA/For Envison/PRD DAQ Files- Quay Cranes/PQC886/DAQ_Log-10-24-2019/Complete_DAQ_LOG_20191024_0700.csv\n"
     ]
    },
    {
     "name": "stderr",
     "output_type": "stream",
     "text": [
      " 98% (6901 of 7028) |################### | Elapsed Time: 0:00:42 ETA:   0:00:00"
     ]
    },
    {
     "name": "stdout",
     "output_type": "stream",
     "text": [
      "Ingest /Users/searoc/Documents/4-Envision/PSA/Data From PSA/DAQ&PMS Data from PSA/For Envison/PRD DAQ Files- Quay Cranes/PQC886/DAQ_Log-10-24-2019/Complete_DAQ_LOG_20191024_0700.csv is completed!\n",
      "/Users/searoc/Documents/4-Envision/PSA/Data From PSA/DAQ&PMS Data from PSA/For Envison/PRD DAQ Files- Quay Cranes/PQC886/DAQ_Log-10-24-2019/Complete_DAQ_LOG_20191024_2300.csv\n"
     ]
    },
    {
     "name": "stderr",
     "output_type": "stream",
     "text": [
      " 99% (7001 of 7016) |################### | Elapsed Time: 0:00:38 ETA:   0:00:00"
     ]
    },
    {
     "name": "stdout",
     "output_type": "stream",
     "text": [
      "Ingest /Users/searoc/Documents/4-Envision/PSA/Data From PSA/DAQ&PMS Data from PSA/For Envison/PRD DAQ Files- Quay Cranes/PQC886/DAQ_Log-10-24-2019/Complete_DAQ_LOG_20191024_2300.csv is completed!\n",
      "/Users/searoc/Documents/4-Envision/PSA/Data From PSA/DAQ&PMS Data from PSA/For Envison/PRD DAQ Files- Quay Cranes/PQC886/DAQ_Log-10-24-2019/Complete_DAQ_LOG_20191024_0000.csv\n",
      "\n",
      "ERROR: time data '24/10/2019 00:01.' does not match format '%d/%m/%Y %H:%M:%S.%f' (match)\n",
      "/Users/searoc/Documents/4-Envision/PSA/Data From PSA/DAQ&PMS Data from PSA/For Envison/PRD DAQ Files- Quay Cranes/PQC886/DAQ_Log-10-24-2019/Complete_DAQ_LOG_20191024_1900.csv\n"
     ]
    },
    {
     "name": "stderr",
     "output_type": "stream",
     "text": [
      " 99% (7001 of 7015) |################### | Elapsed Time: 0:00:31 ETA:   0:00:00"
     ]
    },
    {
     "name": "stdout",
     "output_type": "stream",
     "text": [
      "Ingest /Users/searoc/Documents/4-Envision/PSA/Data From PSA/DAQ&PMS Data from PSA/For Envison/PRD DAQ Files- Quay Cranes/PQC886/DAQ_Log-10-24-2019/Complete_DAQ_LOG_20191024_1900.csv is completed!\n",
      "/Users/searoc/Documents/4-Envision/PSA/Data From PSA/DAQ&PMS Data from PSA/For Envison/PRD DAQ Files- Quay Cranes/PQC886/DAQ_Log-10-24-2019/Complete_DAQ_LOG_20191024_0200.csv\n"
     ]
    },
    {
     "name": "stderr",
     "output_type": "stream",
     "text": [
      " 99% (7001 of 7028) |################### | Elapsed Time: 0:00:29 ETA:   0:00:00"
     ]
    },
    {
     "name": "stdout",
     "output_type": "stream",
     "text": [
      "Ingest /Users/searoc/Documents/4-Envision/PSA/Data From PSA/DAQ&PMS Data from PSA/For Envison/PRD DAQ Files- Quay Cranes/PQC886/DAQ_Log-10-24-2019/Complete_DAQ_LOG_20191024_0200.csv is completed!\n",
      "/Users/searoc/Documents/4-Envision/PSA/Data From PSA/DAQ&PMS Data from PSA/For Envison/PRD DAQ Files- Quay Cranes/PQC886/DAQ_Log-10-24-2019/Complete_DAQ_LOG_20191024_0600.csv\n"
     ]
    },
    {
     "name": "stderr",
     "output_type": "stream",
     "text": [
      " 98% (6901 of 7031) |################### | Elapsed Time: 0:00:32 ETA:   0:00:00"
     ]
    },
    {
     "name": "stdout",
     "output_type": "stream",
     "text": [
      "Ingest /Users/searoc/Documents/4-Envision/PSA/Data From PSA/DAQ&PMS Data from PSA/For Envison/PRD DAQ Files- Quay Cranes/PQC886/DAQ_Log-10-24-2019/Complete_DAQ_LOG_20191024_0600.csv is completed!\n",
      "/Users/searoc/Documents/4-Envision/PSA/Data From PSA/DAQ&PMS Data from PSA/For Envison/PRD DAQ Files- Quay Cranes/PQC886/DAQ_Log-10-24-2019/Complete_DAQ_LOG_20191024_2200.csv\n"
     ]
    },
    {
     "name": "stderr",
     "output_type": "stream",
     "text": [
      " 99% (7001 of 7013) |################### | Elapsed Time: 0:00:31 ETA:   0:00:00"
     ]
    },
    {
     "name": "stdout",
     "output_type": "stream",
     "text": [
      "Ingest /Users/searoc/Documents/4-Envision/PSA/Data From PSA/DAQ&PMS Data from PSA/For Envison/PRD DAQ Files- Quay Cranes/PQC886/DAQ_Log-10-24-2019/Complete_DAQ_LOG_20191024_2200.csv is completed!\n",
      "/Users/searoc/Documents/4-Envision/PSA/Data From PSA/DAQ&PMS Data from PSA/For Envison/PRD DAQ Files- Quay Cranes/PQC886/DAQ_Log-10-24-2019/Complete_DAQ_LOG_20191024_2000.csv\n"
     ]
    },
    {
     "name": "stderr",
     "output_type": "stream",
     "text": [
      " 99% (7001 of 7010) |################### | Elapsed Time: 0:00:32 ETA:   0:00:00"
     ]
    },
    {
     "name": "stdout",
     "output_type": "stream",
     "text": [
      "Ingest /Users/searoc/Documents/4-Envision/PSA/Data From PSA/DAQ&PMS Data from PSA/For Envison/PRD DAQ Files- Quay Cranes/PQC886/DAQ_Log-10-24-2019/Complete_DAQ_LOG_20191024_2000.csv is completed!\n",
      "/Users/searoc/Documents/4-Envision/PSA/Data From PSA/DAQ&PMS Data from PSA/For Envison/PRD DAQ Files- Quay Cranes/PQC886/DAQ_Log-10-24-2019/Complete_DAQ_LOG_20191024_0400.csv\n"
     ]
    },
    {
     "name": "stderr",
     "output_type": "stream",
     "text": [
      " 99% (7001 of 7031) |################### | Elapsed Time: 0:00:30 ETA:   0:00:00"
     ]
    },
    {
     "name": "stdout",
     "output_type": "stream",
     "text": [
      "Ingest /Users/searoc/Documents/4-Envision/PSA/Data From PSA/DAQ&PMS Data from PSA/For Envison/PRD DAQ Files- Quay Cranes/PQC886/DAQ_Log-10-24-2019/Complete_DAQ_LOG_20191024_0400.csv is completed!\n",
      "/Users/searoc/Documents/4-Envision/PSA/Data From PSA/DAQ&PMS Data from PSA/For Envison/PRD DAQ Files- Quay Cranes/PQC886/DAQ_Log-10-25-2019/DAQ_LOG_20191025_2100.csv\n",
      "<class 'KeyError'>\n",
      "/Users/searoc/Documents/4-Envision/PSA/Data From PSA/DAQ&PMS Data from PSA/For Envison/PRD DAQ Files- Quay Cranes/PQC886/DAQ_Log-10-25-2019/DAQ_LOG_20191025_0500.csv\n",
      "<class 'KeyError'>\n",
      "/Users/searoc/Documents/4-Envision/PSA/Data From PSA/DAQ&PMS Data from PSA/For Envison/PRD DAQ Files- Quay Cranes/PQC886/DAQ_Log-10-25-2019/DAQ_LOG_20191025_0700.csv\n",
      "<class 'KeyError'>\n",
      "/Users/searoc/Documents/4-Envision/PSA/Data From PSA/DAQ&PMS Data from PSA/For Envison/PRD DAQ Files- Quay Cranes/PQC886/DAQ_Log-10-25-2019/DAQ_LOG_20191025_2300.csv\n",
      "<class 'KeyError'>\n",
      "/Users/searoc/Documents/4-Envision/PSA/Data From PSA/DAQ&PMS Data from PSA/For Envison/PRD DAQ Files- Quay Cranes/PQC886/DAQ_Log-10-25-2019/DAQ_LOG_20191025_0300.csv\n",
      "<class 'KeyError'>\n",
      "/Users/searoc/Documents/4-Envision/PSA/Data From PSA/DAQ&PMS Data from PSA/For Envison/PRD DAQ Files- Quay Cranes/PQC886/DAQ_Log-10-25-2019/DAQ_LOG_20191025_0100.csv\n",
      "<class 'KeyError'>\n",
      "/Users/searoc/Documents/4-Envision/PSA/Data From PSA/DAQ&PMS Data from PSA/For Envison/PRD DAQ Files- Quay Cranes/PQC886/DAQ_Log-10-25-2019/DAQ_LOG_20191025_1800.csv\n",
      "<class 'KeyError'>\n",
      "/Users/searoc/Documents/4-Envision/PSA/Data From PSA/DAQ&PMS Data from PSA/For Envison/PRD DAQ Files- Quay Cranes/PQC886/DAQ_Log-10-25-2019/DAQ_LOG_20191025_0600.csv\n",
      "<class 'KeyError'>\n",
      "/Users/searoc/Documents/4-Envision/PSA/Data From PSA/DAQ&PMS Data from PSA/For Envison/PRD DAQ Files- Quay Cranes/PQC886/DAQ_Log-10-25-2019/DAQ_LOG_20191025_2200.csv\n",
      "<class 'KeyError'>\n",
      "/Users/searoc/Documents/4-Envision/PSA/Data From PSA/DAQ&PMS Data from PSA/For Envison/PRD DAQ Files- Quay Cranes/PQC886/DAQ_Log-10-25-2019/DAQ_LOG_20191025_2000.csv\n",
      "<class 'KeyError'>\n",
      "/Users/searoc/Documents/4-Envision/PSA/Data From PSA/DAQ&PMS Data from PSA/For Envison/PRD DAQ Files- Quay Cranes/PQC886/DAQ_Log-10-25-2019/DAQ_LOG_20191025_0400.csv\n",
      "<class 'KeyError'>\n",
      "/Users/searoc/Documents/4-Envision/PSA/Data From PSA/DAQ&PMS Data from PSA/For Envison/PRD DAQ Files- Quay Cranes/PQC886/DAQ_Log-10-25-2019/DAQ_LOG_20191025_0000.csv\n",
      "<class 'KeyError'>\n",
      "/Users/searoc/Documents/4-Envision/PSA/Data From PSA/DAQ&PMS Data from PSA/For Envison/PRD DAQ Files- Quay Cranes/PQC886/DAQ_Log-10-25-2019/DAQ_LOG_20191025_1900.csv\n",
      "<class 'KeyError'>\n",
      "/Users/searoc/Documents/4-Envision/PSA/Data From PSA/DAQ&PMS Data from PSA/For Envison/PRD DAQ Files- Quay Cranes/PQC886/DAQ_Log-10-25-2019/DAQ_LOG_20191025_0200.csv\n",
      "<class 'KeyError'>\n",
      "/Users/searoc/Documents/4-Envision/PSA/Data From PSA/DAQ&PMS Data from PSA/For Envison/PRD DAQ Files- Quay Cranes/PQC886/DAQ_Log-10-25-2019/DAQ_LOG_20191025_1700.csv\n",
      "<class 'KeyError'>\n",
      "/Users/searoc/Documents/4-Envision/PSA/Data From PSA/DAQ&PMS Data from PSA/For Envison/PRD DAQ Files- Quay Cranes/PQC886/DAQ_Log-10-25-2019/DAQ_LOG_20191025_1500.csv\n",
      "<class 'KeyError'>\n",
      "/Users/searoc/Documents/4-Envision/PSA/Data From PSA/DAQ&PMS Data from PSA/For Envison/PRD DAQ Files- Quay Cranes/PQC886/DAQ_Log-10-25-2019/DAQ_LOG_20191025_0800.csv\n",
      "<class 'KeyError'>\n",
      "/Users/searoc/Documents/4-Envision/PSA/Data From PSA/DAQ&PMS Data from PSA/For Envison/PRD DAQ Files- Quay Cranes/PQC886/DAQ_Log-10-25-2019/DAQ_LOG_20191025_1100.csv\n",
      "<class 'KeyError'>\n",
      "/Users/searoc/Documents/4-Envision/PSA/Data From PSA/DAQ&PMS Data from PSA/For Envison/PRD DAQ Files- Quay Cranes/PQC886/DAQ_Log-10-25-2019/DAQ_LOG_20191025_1300.csv\n",
      "<class 'KeyError'>\n",
      "/Users/searoc/Documents/4-Envision/PSA/Data From PSA/DAQ&PMS Data from PSA/For Envison/PRD DAQ Files- Quay Cranes/PQC886/DAQ_Log-10-25-2019/DAQ_LOG_20191025_1400.csv\n",
      "<class 'KeyError'>\n",
      "/Users/searoc/Documents/4-Envision/PSA/Data From PSA/DAQ&PMS Data from PSA/For Envison/PRD DAQ Files- Quay Cranes/PQC886/DAQ_Log-10-25-2019/DAQ_LOG_20191025_1600.csv\n",
      "<class 'KeyError'>\n",
      "/Users/searoc/Documents/4-Envision/PSA/Data From PSA/DAQ&PMS Data from PSA/For Envison/PRD DAQ Files- Quay Cranes/PQC886/DAQ_Log-10-25-2019/DAQ_LOG_20191025_1200.csv\n",
      "<class 'KeyError'>\n",
      "/Users/searoc/Documents/4-Envision/PSA/Data From PSA/DAQ&PMS Data from PSA/For Envison/PRD DAQ Files- Quay Cranes/PQC886/DAQ_Log-10-25-2019/DAQ_LOG_20191025_0900.csv\n",
      "<class 'KeyError'>\n",
      "/Users/searoc/Documents/4-Envision/PSA/Data From PSA/DAQ&PMS Data from PSA/For Envison/PRD DAQ Files- Quay Cranes/PQC886/DAQ_Log-10-25-2019/DAQ_LOG_20191025_1000.csv\n",
      "<class 'KeyError'>\n",
      "/Users/searoc/Documents/4-Envision/PSA/Data From PSA/DAQ&PMS Data from PSA/For Envison/PRD DAQ Files- Quay Cranes/PQC886/DAQ_Log-10-26-2019/Complete_DAQ_LOG_20191026_0700.csv\n"
     ]
    },
    {
     "name": "stderr",
     "output_type": "stream",
     "text": [
      " 99% (7001 of 7016) |################### | Elapsed Time: 0:00:32 ETA:   0:00:00"
     ]
    },
    {
     "name": "stdout",
     "output_type": "stream",
     "text": [
      "Ingest /Users/searoc/Documents/4-Envision/PSA/Data From PSA/DAQ&PMS Data from PSA/For Envison/PRD DAQ Files- Quay Cranes/PQC886/DAQ_Log-10-26-2019/Complete_DAQ_LOG_20191026_0700.csv is completed!\n",
      "/Users/searoc/Documents/4-Envision/PSA/Data From PSA/DAQ&PMS Data from PSA/For Envison/PRD DAQ Files- Quay Cranes/PQC886/DAQ_Log-10-26-2019/Complete_DAQ_LOG_20191026_2300.csv\n"
     ]
    },
    {
     "name": "stderr",
     "output_type": "stream",
     "text": [
      " 99% (7001 of 7015) |################### | Elapsed Time: 0:00:32 ETA:   0:00:00"
     ]
    },
    {
     "name": "stdout",
     "output_type": "stream",
     "text": [
      "Ingest /Users/searoc/Documents/4-Envision/PSA/Data From PSA/DAQ&PMS Data from PSA/For Envison/PRD DAQ Files- Quay Cranes/PQC886/DAQ_Log-10-26-2019/Complete_DAQ_LOG_20191026_2300.csv is completed!\n",
      "/Users/searoc/Documents/4-Envision/PSA/Data From PSA/DAQ&PMS Data from PSA/For Envison/PRD DAQ Files- Quay Cranes/PQC886/DAQ_Log-10-26-2019/Complete_DAQ_LOG_20191026_2100.csv\n"
     ]
    },
    {
     "name": "stderr",
     "output_type": "stream",
     "text": [
      " 99% (7001 of 7011) |################### | Elapsed Time: 0:00:31 ETA:   0:00:00"
     ]
    },
    {
     "name": "stdout",
     "output_type": "stream",
     "text": [
      "Ingest /Users/searoc/Documents/4-Envision/PSA/Data From PSA/DAQ&PMS Data from PSA/For Envison/PRD DAQ Files- Quay Cranes/PQC886/DAQ_Log-10-26-2019/Complete_DAQ_LOG_20191026_2100.csv is completed!\n",
      "/Users/searoc/Documents/4-Envision/PSA/Data From PSA/DAQ&PMS Data from PSA/For Envison/PRD DAQ Files- Quay Cranes/PQC886/DAQ_Log-10-26-2019/Complete_DAQ_LOG_20191026_0500.csv\n"
     ]
    },
    {
     "name": "stderr",
     "output_type": "stream",
     "text": [
      " 99% (7001 of 7014) |################### | Elapsed Time: 0:00:32 ETA:   0:00:00"
     ]
    },
    {
     "name": "stdout",
     "output_type": "stream",
     "text": [
      "Ingest /Users/searoc/Documents/4-Envision/PSA/Data From PSA/DAQ&PMS Data from PSA/For Envison/PRD DAQ Files- Quay Cranes/PQC886/DAQ_Log-10-26-2019/Complete_DAQ_LOG_20191026_0500.csv is completed!\n",
      "/Users/searoc/Documents/4-Envision/PSA/Data From PSA/DAQ&PMS Data from PSA/For Envison/PRD DAQ Files- Quay Cranes/PQC886/DAQ_Log-10-26-2019/Complete_DAQ_LOG_20191026_0100.csv\n"
     ]
    },
    {
     "name": "stderr",
     "output_type": "stream",
     "text": [
      " 99% (7001 of 7010) |################### | Elapsed Time: 0:00:38 ETA:   0:00:00"
     ]
    },
    {
     "name": "stdout",
     "output_type": "stream",
     "text": [
      "Ingest /Users/searoc/Documents/4-Envision/PSA/Data From PSA/DAQ&PMS Data from PSA/For Envison/PRD DAQ Files- Quay Cranes/PQC886/DAQ_Log-10-26-2019/Complete_DAQ_LOG_20191026_0100.csv is completed!\n",
      "/Users/searoc/Documents/4-Envision/PSA/Data From PSA/DAQ&PMS Data from PSA/For Envison/PRD DAQ Files- Quay Cranes/PQC886/DAQ_Log-10-26-2019/Complete_DAQ_LOG_20191026_1800.csv\n"
     ]
    },
    {
     "name": "stderr",
     "output_type": "stream",
     "text": [
      " 99% (7001 of 7015) |################### | Elapsed Time: 0:00:29 ETA:   0:00:00"
     ]
    },
    {
     "name": "stdout",
     "output_type": "stream",
     "text": [
      "Ingest /Users/searoc/Documents/4-Envision/PSA/Data From PSA/DAQ&PMS Data from PSA/For Envison/PRD DAQ Files- Quay Cranes/PQC886/DAQ_Log-10-26-2019/Complete_DAQ_LOG_20191026_1800.csv is completed!\n",
      "/Users/searoc/Documents/4-Envision/PSA/Data From PSA/DAQ&PMS Data from PSA/For Envison/PRD DAQ Files- Quay Cranes/PQC886/DAQ_Log-10-26-2019/Complete_DAQ_LOG_20191026_0300.csv\n"
     ]
    },
    {
     "name": "stderr",
     "output_type": "stream",
     "text": [
      " 99% (7001 of 7015) |################### | Elapsed Time: 0:00:31 ETA:   0:00:00"
     ]
    },
    {
     "name": "stdout",
     "output_type": "stream",
     "text": [
      "Ingest /Users/searoc/Documents/4-Envision/PSA/Data From PSA/DAQ&PMS Data from PSA/For Envison/PRD DAQ Files- Quay Cranes/PQC886/DAQ_Log-10-26-2019/Complete_DAQ_LOG_20191026_0300.csv is completed!\n",
      "/Users/searoc/Documents/4-Envision/PSA/Data From PSA/DAQ&PMS Data from PSA/For Envison/PRD DAQ Files- Quay Cranes/PQC886/DAQ_Log-10-26-2019/Complete_DAQ_LOG_20191026_2000.csv\n"
     ]
    },
    {
     "name": "stderr",
     "output_type": "stream",
     "text": [
      " 99% (7001 of 7011) |################### | Elapsed Time: 0:00:33 ETA:   0:00:00"
     ]
    },
    {
     "name": "stdout",
     "output_type": "stream",
     "text": [
      "Ingest /Users/searoc/Documents/4-Envision/PSA/Data From PSA/DAQ&PMS Data from PSA/For Envison/PRD DAQ Files- Quay Cranes/PQC886/DAQ_Log-10-26-2019/Complete_DAQ_LOG_20191026_2000.csv is completed!\n",
      "/Users/searoc/Documents/4-Envision/PSA/Data From PSA/DAQ&PMS Data from PSA/For Envison/PRD DAQ Files- Quay Cranes/PQC886/DAQ_Log-10-26-2019/Complete_DAQ_LOG_20191026_0400.csv\n"
     ]
    },
    {
     "name": "stderr",
     "output_type": "stream",
     "text": [
      " 99% (7001 of 7016) |################### | Elapsed Time: 0:00:32 ETA:   0:00:00"
     ]
    },
    {
     "name": "stdout",
     "output_type": "stream",
     "text": [
      "Ingest /Users/searoc/Documents/4-Envision/PSA/Data From PSA/DAQ&PMS Data from PSA/For Envison/PRD DAQ Files- Quay Cranes/PQC886/DAQ_Log-10-26-2019/Complete_DAQ_LOG_20191026_0400.csv is completed!\n",
      "/Users/searoc/Documents/4-Envision/PSA/Data From PSA/DAQ&PMS Data from PSA/For Envison/PRD DAQ Files- Quay Cranes/PQC886/DAQ_Log-10-26-2019/Complete_DAQ_LOG_20191026_0600.csv\n"
     ]
    },
    {
     "name": "stderr",
     "output_type": "stream",
     "text": [
      " 99% (7001 of 7011) |################### | Elapsed Time: 0:00:41 ETA:   0:00:00"
     ]
    },
    {
     "name": "stdout",
     "output_type": "stream",
     "text": [
      "Ingest /Users/searoc/Documents/4-Envision/PSA/Data From PSA/DAQ&PMS Data from PSA/For Envison/PRD DAQ Files- Quay Cranes/PQC886/DAQ_Log-10-26-2019/Complete_DAQ_LOG_20191026_0600.csv is completed!\n",
      "/Users/searoc/Documents/4-Envision/PSA/Data From PSA/DAQ&PMS Data from PSA/For Envison/PRD DAQ Files- Quay Cranes/PQC886/DAQ_Log-10-26-2019/Complete_DAQ_LOG_20191026_2200.csv\n"
     ]
    },
    {
     "name": "stderr",
     "output_type": "stream",
     "text": [
      " 99% (7001 of 7017) |################### | Elapsed Time: 0:00:39 ETA:   0:00:00"
     ]
    },
    {
     "name": "stdout",
     "output_type": "stream",
     "text": [
      "Ingest /Users/searoc/Documents/4-Envision/PSA/Data From PSA/DAQ&PMS Data from PSA/For Envison/PRD DAQ Files- Quay Cranes/PQC886/DAQ_Log-10-26-2019/Complete_DAQ_LOG_20191026_2200.csv is completed!\n",
      "/Users/searoc/Documents/4-Envision/PSA/Data From PSA/DAQ&PMS Data from PSA/For Envison/PRD DAQ Files- Quay Cranes/PQC886/DAQ_Log-10-26-2019/Complete_DAQ_LOG_20191026_0200.csv\n"
     ]
    },
    {
     "name": "stderr",
     "output_type": "stream",
     "text": [
      " 99% (7001 of 7017) |################### | Elapsed Time: 0:00:37 ETA:   0:00:00"
     ]
    },
    {
     "name": "stdout",
     "output_type": "stream",
     "text": [
      "Ingest /Users/searoc/Documents/4-Envision/PSA/Data From PSA/DAQ&PMS Data from PSA/For Envison/PRD DAQ Files- Quay Cranes/PQC886/DAQ_Log-10-26-2019/Complete_DAQ_LOG_20191026_0200.csv is completed!\n",
      "/Users/searoc/Documents/4-Envision/PSA/Data From PSA/DAQ&PMS Data from PSA/For Envison/PRD DAQ Files- Quay Cranes/PQC886/DAQ_Log-10-26-2019/Complete_DAQ_LOG_20191026_0000.csv\n"
     ]
    },
    {
     "name": "stderr",
     "output_type": "stream",
     "text": [
      " 99% (7001 of 7013) |################### | Elapsed Time: 0:00:52 ETA:   0:00:00"
     ]
    },
    {
     "name": "stdout",
     "output_type": "stream",
     "text": [
      "Ingest /Users/searoc/Documents/4-Envision/PSA/Data From PSA/DAQ&PMS Data from PSA/For Envison/PRD DAQ Files- Quay Cranes/PQC886/DAQ_Log-10-26-2019/Complete_DAQ_LOG_20191026_0000.csv is completed!\n",
      "/Users/searoc/Documents/4-Envision/PSA/Data From PSA/DAQ&PMS Data from PSA/For Envison/PRD DAQ Files- Quay Cranes/PQC886/DAQ_Log-10-26-2019/Complete_DAQ_LOG_20191026_1900.csv\n"
     ]
    },
    {
     "name": "stderr",
     "output_type": "stream",
     "text": [
      " 99% (7001 of 7017) |################### | Elapsed Time: 0:00:35 ETA:   0:00:00"
     ]
    },
    {
     "name": "stdout",
     "output_type": "stream",
     "text": [
      "Ingest /Users/searoc/Documents/4-Envision/PSA/Data From PSA/DAQ&PMS Data from PSA/For Envison/PRD DAQ Files- Quay Cranes/PQC886/DAQ_Log-10-26-2019/Complete_DAQ_LOG_20191026_1900.csv is completed!\n",
      "/Users/searoc/Documents/4-Envision/PSA/Data From PSA/DAQ&PMS Data from PSA/For Envison/PRD DAQ Files- Quay Cranes/PQC886/DAQ_Log-10-26-2019/Complete_DAQ_LOG_20191026_1500.csv\n"
     ]
    },
    {
     "name": "stderr",
     "output_type": "stream",
     "text": [
      " 98% (6901 of 7012) |################### | Elapsed Time: 0:00:41 ETA:   0:00:02"
     ]
    },
    {
     "name": "stdout",
     "output_type": "stream",
     "text": [
      "Ingest /Users/searoc/Documents/4-Envision/PSA/Data From PSA/DAQ&PMS Data from PSA/For Envison/PRD DAQ Files- Quay Cranes/PQC886/DAQ_Log-10-26-2019/Complete_DAQ_LOG_20191026_1500.csv is completed!\n",
      "/Users/searoc/Documents/4-Envision/PSA/Data From PSA/DAQ&PMS Data from PSA/For Envison/PRD DAQ Files- Quay Cranes/PQC886/DAQ_Log-10-26-2019/Complete_DAQ_LOG_20191026_1700.csv\n"
     ]
    },
    {
     "name": "stderr",
     "output_type": "stream",
     "text": [
      " 99% (7001 of 7017) |################### | Elapsed Time: 0:00:37 ETA:   0:00:00"
     ]
    },
    {
     "name": "stdout",
     "output_type": "stream",
     "text": [
      "Ingest /Users/searoc/Documents/4-Envision/PSA/Data From PSA/DAQ&PMS Data from PSA/For Envison/PRD DAQ Files- Quay Cranes/PQC886/DAQ_Log-10-26-2019/Complete_DAQ_LOG_20191026_1700.csv is completed!\n",
      "/Users/searoc/Documents/4-Envision/PSA/Data From PSA/DAQ&PMS Data from PSA/For Envison/PRD DAQ Files- Quay Cranes/PQC886/DAQ_Log-10-26-2019/Complete_DAQ_LOG_20191026_1300.csv\n"
     ]
    },
    {
     "name": "stderr",
     "output_type": "stream",
     "text": [
      " 99% (7001 of 7015) |################### | Elapsed Time: 0:00:45 ETA:   0:00:00"
     ]
    },
    {
     "name": "stdout",
     "output_type": "stream",
     "text": [
      "Ingest /Users/searoc/Documents/4-Envision/PSA/Data From PSA/DAQ&PMS Data from PSA/For Envison/PRD DAQ Files- Quay Cranes/PQC886/DAQ_Log-10-26-2019/Complete_DAQ_LOG_20191026_1300.csv is completed!\n",
      "/Users/searoc/Documents/4-Envision/PSA/Data From PSA/DAQ&PMS Data from PSA/For Envison/PRD DAQ Files- Quay Cranes/PQC886/DAQ_Log-10-26-2019/Complete_DAQ_LOG_20191026_0800.csv\n"
     ]
    },
    {
     "name": "stderr",
     "output_type": "stream",
     "text": [
      " 99% (7001 of 7013) |################### | Elapsed Time: 0:00:56 ETA:   0:00:00"
     ]
    },
    {
     "name": "stdout",
     "output_type": "stream",
     "text": [
      "Ingest /Users/searoc/Documents/4-Envision/PSA/Data From PSA/DAQ&PMS Data from PSA/For Envison/PRD DAQ Files- Quay Cranes/PQC886/DAQ_Log-10-26-2019/Complete_DAQ_LOG_20191026_0800.csv is completed!\n",
      "/Users/searoc/Documents/4-Envision/PSA/Data From PSA/DAQ&PMS Data from PSA/For Envison/PRD DAQ Files- Quay Cranes/PQC886/DAQ_Log-10-26-2019/Complete_DAQ_LOG_20191026_1100.csv\n"
     ]
    },
    {
     "name": "stderr",
     "output_type": "stream",
     "text": [
      " 99% (7001 of 7010) |################### | Elapsed Time: 0:00:44 ETA:   0:00:00"
     ]
    },
    {
     "name": "stdout",
     "output_type": "stream",
     "text": [
      "Ingest /Users/searoc/Documents/4-Envision/PSA/Data From PSA/DAQ&PMS Data from PSA/For Envison/PRD DAQ Files- Quay Cranes/PQC886/DAQ_Log-10-26-2019/Complete_DAQ_LOG_20191026_1100.csv is completed!\n",
      "/Users/searoc/Documents/4-Envision/PSA/Data From PSA/DAQ&PMS Data from PSA/For Envison/PRD DAQ Files- Quay Cranes/PQC886/DAQ_Log-10-26-2019/Complete_DAQ_LOG_20191026_1400.csv\n"
     ]
    },
    {
     "name": "stderr",
     "output_type": "stream",
     "text": [
      " 99% (7001 of 7017) |################### | Elapsed Time: 0:00:43 ETA:   0:00:00"
     ]
    },
    {
     "name": "stdout",
     "output_type": "stream",
     "text": [
      "Ingest /Users/searoc/Documents/4-Envision/PSA/Data From PSA/DAQ&PMS Data from PSA/For Envison/PRD DAQ Files- Quay Cranes/PQC886/DAQ_Log-10-26-2019/Complete_DAQ_LOG_20191026_1400.csv is completed!\n",
      "/Users/searoc/Documents/4-Envision/PSA/Data From PSA/DAQ&PMS Data from PSA/For Envison/PRD DAQ Files- Quay Cranes/PQC886/DAQ_Log-10-26-2019/Complete_DAQ_LOG_20191026_0900.csv\n"
     ]
    },
    {
     "name": "stderr",
     "output_type": "stream",
     "text": [
      " 99% (7001 of 7017) |################### | Elapsed Time: 0:00:40 ETA:   0:00:00"
     ]
    },
    {
     "name": "stdout",
     "output_type": "stream",
     "text": [
      "Ingest /Users/searoc/Documents/4-Envision/PSA/Data From PSA/DAQ&PMS Data from PSA/For Envison/PRD DAQ Files- Quay Cranes/PQC886/DAQ_Log-10-26-2019/Complete_DAQ_LOG_20191026_0900.csv is completed!\n",
      "/Users/searoc/Documents/4-Envision/PSA/Data From PSA/DAQ&PMS Data from PSA/For Envison/PRD DAQ Files- Quay Cranes/PQC886/DAQ_Log-10-26-2019/Complete_DAQ_LOG_20191026_1000.csv\n"
     ]
    },
    {
     "name": "stderr",
     "output_type": "stream",
     "text": [
      " 99% (7001 of 7013) |################### | Elapsed Time: 0:00:44 ETA:   0:00:00"
     ]
    },
    {
     "name": "stdout",
     "output_type": "stream",
     "text": [
      "Ingest /Users/searoc/Documents/4-Envision/PSA/Data From PSA/DAQ&PMS Data from PSA/For Envison/PRD DAQ Files- Quay Cranes/PQC886/DAQ_Log-10-26-2019/Complete_DAQ_LOG_20191026_1000.csv is completed!\n",
      "/Users/searoc/Documents/4-Envision/PSA/Data From PSA/DAQ&PMS Data from PSA/For Envison/PRD DAQ Files- Quay Cranes/PQC886/DAQ_Log-10-26-2019/Complete_DAQ_LOG_20191026_1200.csv\n"
     ]
    },
    {
     "name": "stderr",
     "output_type": "stream",
     "text": [
      " 99% (7001 of 7015) |################### | Elapsed Time: 0:00:48 ETA:   0:00:00"
     ]
    },
    {
     "name": "stdout",
     "output_type": "stream",
     "text": [
      "Ingest /Users/searoc/Documents/4-Envision/PSA/Data From PSA/DAQ&PMS Data from PSA/For Envison/PRD DAQ Files- Quay Cranes/PQC886/DAQ_Log-10-26-2019/Complete_DAQ_LOG_20191026_1200.csv is completed!\n",
      "/Users/searoc/Documents/4-Envision/PSA/Data From PSA/DAQ&PMS Data from PSA/For Envison/PRD DAQ Files- Quay Cranes/PQC888/DAQ_Log-10-24-2019/Complete_DAQ_LOG_20191024_0800.csv\n"
     ]
    },
    {
     "name": "stderr",
     "output_type": "stream",
     "text": [
      " 99% (7001 of 7008) |################### | Elapsed Time: 0:00:39 ETA:   0:00:00"
     ]
    },
    {
     "name": "stdout",
     "output_type": "stream",
     "text": [
      "Ingest /Users/searoc/Documents/4-Envision/PSA/Data From PSA/DAQ&PMS Data from PSA/For Envison/PRD DAQ Files- Quay Cranes/PQC888/DAQ_Log-10-24-2019/Complete_DAQ_LOG_20191024_0800.csv is completed!\n",
      "/Users/searoc/Documents/4-Envision/PSA/Data From PSA/DAQ&PMS Data from PSA/For Envison/PRD DAQ Files- Quay Cranes/PQC888/DAQ_Log-10-24-2019/Complete_DAQ_LOG_20191024_1100.csv\n"
     ]
    },
    {
     "name": "stderr",
     "output_type": "stream",
     "text": [
      " 99% (7001 of 7008) |################### | Elapsed Time: 0:00:39 ETA:   0:00:00"
     ]
    },
    {
     "name": "stdout",
     "output_type": "stream",
     "text": [
      "Ingest /Users/searoc/Documents/4-Envision/PSA/Data From PSA/DAQ&PMS Data from PSA/For Envison/PRD DAQ Files- Quay Cranes/PQC888/DAQ_Log-10-24-2019/Complete_DAQ_LOG_20191024_1100.csv is completed!\n",
      "/Users/searoc/Documents/4-Envision/PSA/Data From PSA/DAQ&PMS Data from PSA/For Envison/PRD DAQ Files- Quay Cranes/PQC888/DAQ_Log-10-24-2019/Complete_DAQ_LOG_20191024_1300.csv\n"
     ]
    },
    {
     "name": "stderr",
     "output_type": "stream",
     "text": [
      " 99% (7001 of 7008) |################### | Elapsed Time: 0:00:48 ETA:   0:00:00"
     ]
    },
    {
     "name": "stdout",
     "output_type": "stream",
     "text": [
      "Ingest /Users/searoc/Documents/4-Envision/PSA/Data From PSA/DAQ&PMS Data from PSA/For Envison/PRD DAQ Files- Quay Cranes/PQC888/DAQ_Log-10-24-2019/Complete_DAQ_LOG_20191024_1300.csv is completed!\n",
      "/Users/searoc/Documents/4-Envision/PSA/Data From PSA/DAQ&PMS Data from PSA/For Envison/PRD DAQ Files- Quay Cranes/PQC888/DAQ_Log-10-24-2019/Complete_DAQ_LOG_20191024_1700.csv\n"
     ]
    },
    {
     "name": "stderr",
     "output_type": "stream",
     "text": [
      " 99% (7001 of 7008) |################### | Elapsed Time: 0:00:46 ETA:   0:00:00"
     ]
    },
    {
     "name": "stdout",
     "output_type": "stream",
     "text": [
      "Ingest /Users/searoc/Documents/4-Envision/PSA/Data From PSA/DAQ&PMS Data from PSA/For Envison/PRD DAQ Files- Quay Cranes/PQC888/DAQ_Log-10-24-2019/Complete_DAQ_LOG_20191024_1700.csv is completed!\n",
      "/Users/searoc/Documents/4-Envision/PSA/Data From PSA/DAQ&PMS Data from PSA/For Envison/PRD DAQ Files- Quay Cranes/PQC888/DAQ_Log-10-24-2019/Complete_DAQ_LOG_20191024_1500.csv\n"
     ]
    },
    {
     "name": "stderr",
     "output_type": "stream",
     "text": [
      " 97% (6801 of 7008) |################### | Elapsed Time: 0:00:53 ETA:   0:00:04"
     ]
    },
    {
     "name": "stdout",
     "output_type": "stream",
     "text": [
      "Ingest /Users/searoc/Documents/4-Envision/PSA/Data From PSA/DAQ&PMS Data from PSA/For Envison/PRD DAQ Files- Quay Cranes/PQC888/DAQ_Log-10-24-2019/Complete_DAQ_LOG_20191024_1500.csv is completed!\n",
      "/Users/searoc/Documents/4-Envision/PSA/Data From PSA/DAQ&PMS Data from PSA/For Envison/PRD DAQ Files- Quay Cranes/PQC888/DAQ_Log-10-24-2019/Complete_DAQ_LOG_20191024_1200.csv\n"
     ]
    },
    {
     "name": "stderr",
     "output_type": "stream",
     "text": [
      " 99% (7001 of 7008) |################### | Elapsed Time: 0:00:45 ETA:   0:00:00"
     ]
    },
    {
     "name": "stdout",
     "output_type": "stream",
     "text": [
      "Ingest /Users/searoc/Documents/4-Envision/PSA/Data From PSA/DAQ&PMS Data from PSA/For Envison/PRD DAQ Files- Quay Cranes/PQC888/DAQ_Log-10-24-2019/Complete_DAQ_LOG_20191024_1200.csv is completed!\n",
      "/Users/searoc/Documents/4-Envision/PSA/Data From PSA/DAQ&PMS Data from PSA/For Envison/PRD DAQ Files- Quay Cranes/PQC888/DAQ_Log-10-24-2019/Complete_DAQ_LOG_20191024_1000.csv\n"
     ]
    },
    {
     "name": "stderr",
     "output_type": "stream",
     "text": [
      " 99% (7001 of 7007) |################### | Elapsed Time: 0:00:37 ETA:   0:00:00"
     ]
    },
    {
     "name": "stdout",
     "output_type": "stream",
     "text": [
      "Ingest /Users/searoc/Documents/4-Envision/PSA/Data From PSA/DAQ&PMS Data from PSA/For Envison/PRD DAQ Files- Quay Cranes/PQC888/DAQ_Log-10-24-2019/Complete_DAQ_LOG_20191024_1000.csv is completed!\n",
      "/Users/searoc/Documents/4-Envision/PSA/Data From PSA/DAQ&PMS Data from PSA/For Envison/PRD DAQ Files- Quay Cranes/PQC888/DAQ_Log-10-24-2019/Complete_DAQ_LOG_20191024_1400.csv\n"
     ]
    },
    {
     "name": "stderr",
     "output_type": "stream",
     "text": [
      " 99% (7001 of 7008) |################### | Elapsed Time: 0:00:40 ETA:   0:00:00"
     ]
    },
    {
     "name": "stdout",
     "output_type": "stream",
     "text": [
      "Ingest /Users/searoc/Documents/4-Envision/PSA/Data From PSA/DAQ&PMS Data from PSA/For Envison/PRD DAQ Files- Quay Cranes/PQC888/DAQ_Log-10-24-2019/Complete_DAQ_LOG_20191024_1400.csv is completed!\n",
      "/Users/searoc/Documents/4-Envision/PSA/Data From PSA/DAQ&PMS Data from PSA/For Envison/PRD DAQ Files- Quay Cranes/PQC888/DAQ_Log-10-24-2019/Complete_DAQ_LOG_20191024_1600.csv\n"
     ]
    },
    {
     "name": "stderr",
     "output_type": "stream",
     "text": [
      " 99% (7001 of 7008) |################### | Elapsed Time: 0:00:41 ETA:   0:00:00"
     ]
    },
    {
     "name": "stdout",
     "output_type": "stream",
     "text": [
      "Ingest /Users/searoc/Documents/4-Envision/PSA/Data From PSA/DAQ&PMS Data from PSA/For Envison/PRD DAQ Files- Quay Cranes/PQC888/DAQ_Log-10-24-2019/Complete_DAQ_LOG_20191024_1600.csv is completed!\n",
      "/Users/searoc/Documents/4-Envision/PSA/Data From PSA/DAQ&PMS Data from PSA/For Envison/PRD DAQ Files- Quay Cranes/PQC888/DAQ_Log-10-24-2019/Complete_DAQ_LOG_20191024_0300.csv\n"
     ]
    },
    {
     "name": "stderr",
     "output_type": "stream",
     "text": [
      " 99% (7001 of 7008) |################### | Elapsed Time: 0:00:31 ETA:   0:00:00"
     ]
    },
    {
     "name": "stdout",
     "output_type": "stream",
     "text": [
      "Ingest /Users/searoc/Documents/4-Envision/PSA/Data From PSA/DAQ&PMS Data from PSA/For Envison/PRD DAQ Files- Quay Cranes/PQC888/DAQ_Log-10-24-2019/Complete_DAQ_LOG_20191024_0300.csv is completed!\n",
      "/Users/searoc/Documents/4-Envision/PSA/Data From PSA/DAQ&PMS Data from PSA/For Envison/PRD DAQ Files- Quay Cranes/PQC888/DAQ_Log-10-24-2019/Complete_DAQ_LOG_20191024_0100.csv\n"
     ]
    },
    {
     "name": "stderr",
     "output_type": "stream",
     "text": [
      " 99% (7001 of 7008) |################### | Elapsed Time: 0:00:32 ETA:   0:00:00"
     ]
    },
    {
     "name": "stdout",
     "output_type": "stream",
     "text": [
      "Ingest /Users/searoc/Documents/4-Envision/PSA/Data From PSA/DAQ&PMS Data from PSA/For Envison/PRD DAQ Files- Quay Cranes/PQC888/DAQ_Log-10-24-2019/Complete_DAQ_LOG_20191024_0100.csv is completed!\n",
      "/Users/searoc/Documents/4-Envision/PSA/Data From PSA/DAQ&PMS Data from PSA/For Envison/PRD DAQ Files- Quay Cranes/PQC888/DAQ_Log-10-24-2019/Complete_DAQ_LOG_20191024_1800.csv\n"
     ]
    },
    {
     "name": "stderr",
     "output_type": "stream",
     "text": [
      " 99% (7001 of 7007) |################### | Elapsed Time: 0:00:39 ETA:   0:00:00"
     ]
    },
    {
     "name": "stdout",
     "output_type": "stream",
     "text": [
      "Ingest /Users/searoc/Documents/4-Envision/PSA/Data From PSA/DAQ&PMS Data from PSA/For Envison/PRD DAQ Files- Quay Cranes/PQC888/DAQ_Log-10-24-2019/Complete_DAQ_LOG_20191024_1800.csv is completed!\n",
      "/Users/searoc/Documents/4-Envision/PSA/Data From PSA/DAQ&PMS Data from PSA/For Envison/PRD DAQ Files- Quay Cranes/PQC888/DAQ_Log-10-24-2019/Complete_DAQ_LOG_20191024_2100.csv\n"
     ]
    },
    {
     "name": "stderr",
     "output_type": "stream",
     "text": [
      " 99% (7001 of 7008) |################### | Elapsed Time: 0:00:56 ETA:   0:00:00"
     ]
    },
    {
     "name": "stdout",
     "output_type": "stream",
     "text": [
      "Ingest /Users/searoc/Documents/4-Envision/PSA/Data From PSA/DAQ&PMS Data from PSA/For Envison/PRD DAQ Files- Quay Cranes/PQC888/DAQ_Log-10-24-2019/Complete_DAQ_LOG_20191024_2100.csv is completed!\n",
      "/Users/searoc/Documents/4-Envision/PSA/Data From PSA/DAQ&PMS Data from PSA/For Envison/PRD DAQ Files- Quay Cranes/PQC888/DAQ_Log-10-24-2019/Complete_DAQ_LOG_20191024_0500.csv\n"
     ]
    },
    {
     "name": "stderr",
     "output_type": "stream",
     "text": [
      " 99% (7001 of 7008) |################### | Elapsed Time: 0:00:35 ETA:   0:00:00"
     ]
    },
    {
     "name": "stdout",
     "output_type": "stream",
     "text": [
      "Ingest /Users/searoc/Documents/4-Envision/PSA/Data From PSA/DAQ&PMS Data from PSA/For Envison/PRD DAQ Files- Quay Cranes/PQC888/DAQ_Log-10-24-2019/Complete_DAQ_LOG_20191024_0500.csv is completed!\n",
      "/Users/searoc/Documents/4-Envision/PSA/Data From PSA/DAQ&PMS Data from PSA/For Envison/PRD DAQ Files- Quay Cranes/PQC888/DAQ_Log-10-24-2019/Complete_DAQ_LOG_20191024_0700.csv\n"
     ]
    },
    {
     "name": "stderr",
     "output_type": "stream",
     "text": [
      " 99% (7001 of 7008) |################### | Elapsed Time: 0:00:51 ETA:   0:00:00"
     ]
    },
    {
     "name": "stdout",
     "output_type": "stream",
     "text": [
      "Ingest /Users/searoc/Documents/4-Envision/PSA/Data From PSA/DAQ&PMS Data from PSA/For Envison/PRD DAQ Files- Quay Cranes/PQC888/DAQ_Log-10-24-2019/Complete_DAQ_LOG_20191024_0700.csv is completed!\n",
      "/Users/searoc/Documents/4-Envision/PSA/Data From PSA/DAQ&PMS Data from PSA/For Envison/PRD DAQ Files- Quay Cranes/PQC888/DAQ_Log-10-24-2019/Complete_DAQ_LOG_20191024_2300.csv\n"
     ]
    },
    {
     "name": "stderr",
     "output_type": "stream",
     "text": [
      " 99% (7001 of 7008) |################### | Elapsed Time: 0:00:55 ETA:   0:00:00"
     ]
    },
    {
     "name": "stdout",
     "output_type": "stream",
     "text": [
      "Ingest /Users/searoc/Documents/4-Envision/PSA/Data From PSA/DAQ&PMS Data from PSA/For Envison/PRD DAQ Files- Quay Cranes/PQC888/DAQ_Log-10-24-2019/Complete_DAQ_LOG_20191024_2300.csv is completed!\n",
      "/Users/searoc/Documents/4-Envision/PSA/Data From PSA/DAQ&PMS Data from PSA/For Envison/PRD DAQ Files- Quay Cranes/PQC888/DAQ_Log-10-24-2019/Complete_DAQ_LOG_20191024_0000.csv\n"
     ]
    },
    {
     "name": "stderr",
     "output_type": "stream",
     "text": [
      " 98% (6901 of 7007) |################### | Elapsed Time: 0:00:36 ETA:   0:00:00"
     ]
    },
    {
     "name": "stdout",
     "output_type": "stream",
     "text": [
      "Ingest /Users/searoc/Documents/4-Envision/PSA/Data From PSA/DAQ&PMS Data from PSA/For Envison/PRD DAQ Files- Quay Cranes/PQC888/DAQ_Log-10-24-2019/Complete_DAQ_LOG_20191024_0000.csv is completed!\n",
      "/Users/searoc/Documents/4-Envision/PSA/Data From PSA/DAQ&PMS Data from PSA/For Envison/PRD DAQ Files- Quay Cranes/PQC888/DAQ_Log-10-24-2019/Complete_DAQ_LOG_20191024_1900.csv\n"
     ]
    },
    {
     "name": "stderr",
     "output_type": "stream",
     "text": [
      " 99% (7001 of 7009) |################### | Elapsed Time: 0:00:36 ETA:   0:00:00"
     ]
    },
    {
     "name": "stdout",
     "output_type": "stream",
     "text": [
      "Ingest /Users/searoc/Documents/4-Envision/PSA/Data From PSA/DAQ&PMS Data from PSA/For Envison/PRD DAQ Files- Quay Cranes/PQC888/DAQ_Log-10-24-2019/Complete_DAQ_LOG_20191024_1900.csv is completed!\n",
      "/Users/searoc/Documents/4-Envision/PSA/Data From PSA/DAQ&PMS Data from PSA/For Envison/PRD DAQ Files- Quay Cranes/PQC888/DAQ_Log-10-24-2019/Complete_DAQ_LOG_20191024_0200.csv\n"
     ]
    },
    {
     "name": "stderr",
     "output_type": "stream",
     "text": [
      " 98% (6901 of 7008) |################### | Elapsed Time: 0:00:36 ETA:   0:00:00"
     ]
    },
    {
     "name": "stdout",
     "output_type": "stream",
     "text": [
      "Ingest /Users/searoc/Documents/4-Envision/PSA/Data From PSA/DAQ&PMS Data from PSA/For Envison/PRD DAQ Files- Quay Cranes/PQC888/DAQ_Log-10-24-2019/Complete_DAQ_LOG_20191024_0200.csv is completed!\n",
      "/Users/searoc/Documents/4-Envision/PSA/Data From PSA/DAQ&PMS Data from PSA/For Envison/PRD DAQ Files- Quay Cranes/PQC888/DAQ_Log-10-24-2019/Complete_DAQ_LOG_20191024_0600.csv\n"
     ]
    },
    {
     "name": "stderr",
     "output_type": "stream",
     "text": [
      " 99% (7001 of 7008) |################### | Elapsed Time: 0:00:38 ETA:   0:00:00"
     ]
    },
    {
     "name": "stdout",
     "output_type": "stream",
     "text": [
      "Ingest /Users/searoc/Documents/4-Envision/PSA/Data From PSA/DAQ&PMS Data from PSA/For Envison/PRD DAQ Files- Quay Cranes/PQC888/DAQ_Log-10-24-2019/Complete_DAQ_LOG_20191024_0600.csv is completed!\n",
      "/Users/searoc/Documents/4-Envision/PSA/Data From PSA/DAQ&PMS Data from PSA/For Envison/PRD DAQ Files- Quay Cranes/PQC888/DAQ_Log-10-24-2019/Complete_DAQ_LOG_20191024_2200.csv\n"
     ]
    },
    {
     "name": "stderr",
     "output_type": "stream",
     "text": [
      " 99% (7001 of 7007) |################### | Elapsed Time: 0:00:36 ETA:   0:00:00"
     ]
    },
    {
     "name": "stdout",
     "output_type": "stream",
     "text": [
      "Ingest /Users/searoc/Documents/4-Envision/PSA/Data From PSA/DAQ&PMS Data from PSA/For Envison/PRD DAQ Files- Quay Cranes/PQC888/DAQ_Log-10-24-2019/Complete_DAQ_LOG_20191024_2200.csv is completed!\n",
      "/Users/searoc/Documents/4-Envision/PSA/Data From PSA/DAQ&PMS Data from PSA/For Envison/PRD DAQ Files- Quay Cranes/PQC888/DAQ_Log-10-24-2019/Complete_DAQ_LOG_20191024_2000.csv\n"
     ]
    },
    {
     "name": "stderr",
     "output_type": "stream",
     "text": [
      " 99% (7001 of 7008) |################### | Elapsed Time: 0:00:36 ETA:   0:00:00"
     ]
    },
    {
     "name": "stdout",
     "output_type": "stream",
     "text": [
      "Ingest /Users/searoc/Documents/4-Envision/PSA/Data From PSA/DAQ&PMS Data from PSA/For Envison/PRD DAQ Files- Quay Cranes/PQC888/DAQ_Log-10-24-2019/Complete_DAQ_LOG_20191024_2000.csv is completed!\n",
      "/Users/searoc/Documents/4-Envision/PSA/Data From PSA/DAQ&PMS Data from PSA/For Envison/PRD DAQ Files- Quay Cranes/PQC888/DAQ_Log-10-24-2019/Complete_DAQ_LOG_20191024_0400.csv\n"
     ]
    },
    {
     "name": "stderr",
     "output_type": "stream",
     "text": [
      " 99% (7001 of 7008) |################### | Elapsed Time: 0:00:30 ETA:   0:00:00"
     ]
    },
    {
     "name": "stdout",
     "output_type": "stream",
     "text": [
      "Ingest /Users/searoc/Documents/4-Envision/PSA/Data From PSA/DAQ&PMS Data from PSA/For Envison/PRD DAQ Files- Quay Cranes/PQC888/DAQ_Log-10-24-2019/Complete_DAQ_LOG_20191024_0400.csv is completed!\n",
      "/Users/searoc/Documents/4-Envision/PSA/Data From PSA/DAQ&PMS Data from PSA/For Envison/PRD DAQ Files- Quay Cranes/PQC888/DAQ_Log-10-25-2019/Complete_DAQ_LOG_20191025_0800.csv\n"
     ]
    },
    {
     "name": "stderr",
     "output_type": "stream",
     "text": [
      " 99% (7001 of 7008) |################### | Elapsed Time: 0:00:35 ETA:   0:00:00"
     ]
    },
    {
     "name": "stdout",
     "output_type": "stream",
     "text": [
      "Ingest /Users/searoc/Documents/4-Envision/PSA/Data From PSA/DAQ&PMS Data from PSA/For Envison/PRD DAQ Files- Quay Cranes/PQC888/DAQ_Log-10-25-2019/Complete_DAQ_LOG_20191025_0800.csv is completed!\n",
      "/Users/searoc/Documents/4-Envision/PSA/Data From PSA/DAQ&PMS Data from PSA/For Envison/PRD DAQ Files- Quay Cranes/PQC888/DAQ_Log-10-25-2019/Complete_DAQ_LOG_20191025_1100.csv\n"
     ]
    },
    {
     "name": "stderr",
     "output_type": "stream",
     "text": [
      " 99% (7001 of 7008) |################### | Elapsed Time: 0:00:32 ETA:   0:00:00"
     ]
    },
    {
     "name": "stdout",
     "output_type": "stream",
     "text": [
      "Ingest /Users/searoc/Documents/4-Envision/PSA/Data From PSA/DAQ&PMS Data from PSA/For Envison/PRD DAQ Files- Quay Cranes/PQC888/DAQ_Log-10-25-2019/Complete_DAQ_LOG_20191025_1100.csv is completed!\n",
      "/Users/searoc/Documents/4-Envision/PSA/Data From PSA/DAQ&PMS Data from PSA/For Envison/PRD DAQ Files- Quay Cranes/PQC888/DAQ_Log-10-25-2019/Complete_DAQ_LOG_20191025_1300.csv\n"
     ]
    },
    {
     "name": "stderr",
     "output_type": "stream",
     "text": [
      " 99% (7001 of 7008) |################### | Elapsed Time: 0:00:31 ETA:   0:00:00"
     ]
    },
    {
     "name": "stdout",
     "output_type": "stream",
     "text": [
      "Ingest /Users/searoc/Documents/4-Envision/PSA/Data From PSA/DAQ&PMS Data from PSA/For Envison/PRD DAQ Files- Quay Cranes/PQC888/DAQ_Log-10-25-2019/Complete_DAQ_LOG_20191025_1300.csv is completed!\n",
      "/Users/searoc/Documents/4-Envision/PSA/Data From PSA/DAQ&PMS Data from PSA/For Envison/PRD DAQ Files- Quay Cranes/PQC888/DAQ_Log-10-25-2019/Complete_DAQ_LOG_20191025_1700.csv\n"
     ]
    },
    {
     "name": "stderr",
     "output_type": "stream",
     "text": [
      " 99% (7001 of 7008) |################### | Elapsed Time: 0:00:36 ETA:   0:00:00"
     ]
    },
    {
     "name": "stdout",
     "output_type": "stream",
     "text": [
      "Ingest /Users/searoc/Documents/4-Envision/PSA/Data From PSA/DAQ&PMS Data from PSA/For Envison/PRD DAQ Files- Quay Cranes/PQC888/DAQ_Log-10-25-2019/Complete_DAQ_LOG_20191025_1700.csv is completed!\n",
      "/Users/searoc/Documents/4-Envision/PSA/Data From PSA/DAQ&PMS Data from PSA/For Envison/PRD DAQ Files- Quay Cranes/PQC888/DAQ_Log-10-25-2019/Complete_DAQ_LOG_20191025_1500.csv\n"
     ]
    },
    {
     "name": "stderr",
     "output_type": "stream",
     "text": [
      " 99% (7001 of 7007) |################### | Elapsed Time: 0:00:32 ETA:   0:00:00"
     ]
    },
    {
     "name": "stdout",
     "output_type": "stream",
     "text": [
      "Ingest /Users/searoc/Documents/4-Envision/PSA/Data From PSA/DAQ&PMS Data from PSA/For Envison/PRD DAQ Files- Quay Cranes/PQC888/DAQ_Log-10-25-2019/Complete_DAQ_LOG_20191025_1500.csv is completed!\n",
      "/Users/searoc/Documents/4-Envision/PSA/Data From PSA/DAQ&PMS Data from PSA/For Envison/PRD DAQ Files- Quay Cranes/PQC888/DAQ_Log-10-25-2019/Complete_DAQ_LOG_20191025_1200.csv\n"
     ]
    },
    {
     "name": "stderr",
     "output_type": "stream",
     "text": [
      " 99% (7001 of 7008) |################### | Elapsed Time: 0:00:34 ETA:   0:00:00"
     ]
    },
    {
     "name": "stdout",
     "output_type": "stream",
     "text": [
      "Ingest /Users/searoc/Documents/4-Envision/PSA/Data From PSA/DAQ&PMS Data from PSA/For Envison/PRD DAQ Files- Quay Cranes/PQC888/DAQ_Log-10-25-2019/Complete_DAQ_LOG_20191025_1200.csv is completed!\n",
      "/Users/searoc/Documents/4-Envision/PSA/Data From PSA/DAQ&PMS Data from PSA/For Envison/PRD DAQ Files- Quay Cranes/PQC888/DAQ_Log-10-25-2019/Complete_DAQ_LOG_20191025_0900.csv\n"
     ]
    },
    {
     "name": "stderr",
     "output_type": "stream",
     "text": [
      " 99% (7001 of 7008) |################### | Elapsed Time: 0:00:32 ETA:   0:00:00"
     ]
    },
    {
     "name": "stdout",
     "output_type": "stream",
     "text": [
      "Ingest /Users/searoc/Documents/4-Envision/PSA/Data From PSA/DAQ&PMS Data from PSA/For Envison/PRD DAQ Files- Quay Cranes/PQC888/DAQ_Log-10-25-2019/Complete_DAQ_LOG_20191025_0900.csv is completed!\n",
      "/Users/searoc/Documents/4-Envision/PSA/Data From PSA/DAQ&PMS Data from PSA/For Envison/PRD DAQ Files- Quay Cranes/PQC888/DAQ_Log-10-25-2019/Complete_DAQ_LOG_20191025_1000.csv\n"
     ]
    },
    {
     "name": "stderr",
     "output_type": "stream",
     "text": [
      " 99% (7001 of 7008) |################### | Elapsed Time: 0:00:29 ETA:   0:00:00"
     ]
    },
    {
     "name": "stdout",
     "output_type": "stream",
     "text": [
      "Ingest /Users/searoc/Documents/4-Envision/PSA/Data From PSA/DAQ&PMS Data from PSA/For Envison/PRD DAQ Files- Quay Cranes/PQC888/DAQ_Log-10-25-2019/Complete_DAQ_LOG_20191025_1000.csv is completed!\n",
      "/Users/searoc/Documents/4-Envision/PSA/Data From PSA/DAQ&PMS Data from PSA/For Envison/PRD DAQ Files- Quay Cranes/PQC888/DAQ_Log-10-25-2019/Complete_DAQ_LOG_20191025_1400.csv\n"
     ]
    },
    {
     "name": "stderr",
     "output_type": "stream",
     "text": [
      " 98% (6901 of 7007) |################### | Elapsed Time: 0:00:29 ETA:   0:00:00"
     ]
    },
    {
     "name": "stdout",
     "output_type": "stream",
     "text": [
      "Ingest /Users/searoc/Documents/4-Envision/PSA/Data From PSA/DAQ&PMS Data from PSA/For Envison/PRD DAQ Files- Quay Cranes/PQC888/DAQ_Log-10-25-2019/Complete_DAQ_LOG_20191025_1400.csv is completed!\n",
      "/Users/searoc/Documents/4-Envision/PSA/Data From PSA/DAQ&PMS Data from PSA/For Envison/PRD DAQ Files- Quay Cranes/PQC888/DAQ_Log-10-25-2019/Complete_DAQ_LOG_20191025_1600.csv\n"
     ]
    },
    {
     "name": "stderr",
     "output_type": "stream",
     "text": [
      " 98% (6919 of 7007) |################### | Elapsed Time: 0:00:33 ETA:   0:00:01"
     ]
    },
    {
     "name": "stdout",
     "output_type": "stream",
     "text": [
      "Ingest /Users/searoc/Documents/4-Envision/PSA/Data From PSA/DAQ&PMS Data from PSA/For Envison/PRD DAQ Files- Quay Cranes/PQC888/DAQ_Log-10-25-2019/Complete_DAQ_LOG_20191025_1600.csv is completed!\n",
      "/Users/searoc/Documents/4-Envision/PSA/Data From PSA/DAQ&PMS Data from PSA/For Envison/PRD DAQ Files- Quay Cranes/PQC888/DAQ_Log-10-25-2019/Complete_DAQ_LOG_20191025_0300.csv\n"
     ]
    },
    {
     "name": "stderr",
     "output_type": "stream",
     "text": [
      " 99% (7001 of 7007) |################### | Elapsed Time: 0:00:38 ETA:   0:00:00"
     ]
    },
    {
     "name": "stdout",
     "output_type": "stream",
     "text": [
      "Ingest /Users/searoc/Documents/4-Envision/PSA/Data From PSA/DAQ&PMS Data from PSA/For Envison/PRD DAQ Files- Quay Cranes/PQC888/DAQ_Log-10-25-2019/Complete_DAQ_LOG_20191025_0300.csv is completed!\n",
      "/Users/searoc/Documents/4-Envision/PSA/Data From PSA/DAQ&PMS Data from PSA/For Envison/PRD DAQ Files- Quay Cranes/PQC888/DAQ_Log-10-25-2019/Complete_DAQ_LOG_20191025_0100.csv\n"
     ]
    },
    {
     "name": "stderr",
     "output_type": "stream",
     "text": [
      " 98% (6901 of 7008) |################### | Elapsed Time: 0:00:35 ETA:   0:00:00"
     ]
    },
    {
     "name": "stdout",
     "output_type": "stream",
     "text": [
      "Ingest /Users/searoc/Documents/4-Envision/PSA/Data From PSA/DAQ&PMS Data from PSA/For Envison/PRD DAQ Files- Quay Cranes/PQC888/DAQ_Log-10-25-2019/Complete_DAQ_LOG_20191025_0100.csv is completed!\n",
      "/Users/searoc/Documents/4-Envision/PSA/Data From PSA/DAQ&PMS Data from PSA/For Envison/PRD DAQ Files- Quay Cranes/PQC888/DAQ_Log-10-25-2019/Complete_DAQ_LOG_20191025_1800.csv\n"
     ]
    },
    {
     "name": "stderr",
     "output_type": "stream",
     "text": [
      " 99% (7001 of 7008) |################### | Elapsed Time: 0:00:39 ETA:   0:00:00"
     ]
    },
    {
     "name": "stdout",
     "output_type": "stream",
     "text": [
      "Ingest /Users/searoc/Documents/4-Envision/PSA/Data From PSA/DAQ&PMS Data from PSA/For Envison/PRD DAQ Files- Quay Cranes/PQC888/DAQ_Log-10-25-2019/Complete_DAQ_LOG_20191025_1800.csv is completed!\n",
      "/Users/searoc/Documents/4-Envision/PSA/Data From PSA/DAQ&PMS Data from PSA/For Envison/PRD DAQ Files- Quay Cranes/PQC888/DAQ_Log-10-25-2019/Complete_DAQ_LOG_20191025_2100.csv\n"
     ]
    },
    {
     "name": "stderr",
     "output_type": "stream",
     "text": [
      " 99% (7001 of 7008) |################### | Elapsed Time: 0:00:38 ETA:   0:00:00"
     ]
    },
    {
     "name": "stdout",
     "output_type": "stream",
     "text": [
      "Ingest /Users/searoc/Documents/4-Envision/PSA/Data From PSA/DAQ&PMS Data from PSA/For Envison/PRD DAQ Files- Quay Cranes/PQC888/DAQ_Log-10-25-2019/Complete_DAQ_LOG_20191025_2100.csv is completed!\n",
      "/Users/searoc/Documents/4-Envision/PSA/Data From PSA/DAQ&PMS Data from PSA/For Envison/PRD DAQ Files- Quay Cranes/PQC888/DAQ_Log-10-25-2019/Complete_DAQ_LOG_20191025_0500.csv\n"
     ]
    },
    {
     "name": "stderr",
     "output_type": "stream",
     "text": [
      " 99% (7001 of 7009) |################### | Elapsed Time: 0:00:41 ETA:   0:00:00"
     ]
    },
    {
     "name": "stdout",
     "output_type": "stream",
     "text": [
      "Ingest /Users/searoc/Documents/4-Envision/PSA/Data From PSA/DAQ&PMS Data from PSA/For Envison/PRD DAQ Files- Quay Cranes/PQC888/DAQ_Log-10-25-2019/Complete_DAQ_LOG_20191025_0500.csv is completed!\n",
      "/Users/searoc/Documents/4-Envision/PSA/Data From PSA/DAQ&PMS Data from PSA/For Envison/PRD DAQ Files- Quay Cranes/PQC888/DAQ_Log-10-25-2019/Complete_DAQ_LOG_20191025_0700.csv\n"
     ]
    },
    {
     "name": "stderr",
     "output_type": "stream",
     "text": [
      " 99% (7001 of 7008) |################### | Elapsed Time: 0:00:41 ETA:   0:00:00"
     ]
    },
    {
     "name": "stdout",
     "output_type": "stream",
     "text": [
      "Ingest /Users/searoc/Documents/4-Envision/PSA/Data From PSA/DAQ&PMS Data from PSA/For Envison/PRD DAQ Files- Quay Cranes/PQC888/DAQ_Log-10-25-2019/Complete_DAQ_LOG_20191025_0700.csv is completed!\n",
      "/Users/searoc/Documents/4-Envision/PSA/Data From PSA/DAQ&PMS Data from PSA/For Envison/PRD DAQ Files- Quay Cranes/PQC888/DAQ_Log-10-25-2019/Complete_DAQ_LOG_20191025_2300.csv\n"
     ]
    },
    {
     "name": "stderr",
     "output_type": "stream",
     "text": [
      " 98% (6901 of 7008) |################### | Elapsed Time: 0:00:34 ETA:   0:00:00"
     ]
    },
    {
     "name": "stdout",
     "output_type": "stream",
     "text": [
      "Ingest /Users/searoc/Documents/4-Envision/PSA/Data From PSA/DAQ&PMS Data from PSA/For Envison/PRD DAQ Files- Quay Cranes/PQC888/DAQ_Log-10-25-2019/Complete_DAQ_LOG_20191025_2300.csv is completed!\n",
      "/Users/searoc/Documents/4-Envision/PSA/Data From PSA/DAQ&PMS Data from PSA/For Envison/PRD DAQ Files- Quay Cranes/PQC888/DAQ_Log-10-25-2019/Complete_DAQ_LOG_20191025_0000.csv\n"
     ]
    },
    {
     "name": "stderr",
     "output_type": "stream",
     "text": [
      " 99% (7001 of 7008) |################### | Elapsed Time: 0:00:42 ETA:   0:00:00"
     ]
    },
    {
     "name": "stdout",
     "output_type": "stream",
     "text": [
      "Ingest /Users/searoc/Documents/4-Envision/PSA/Data From PSA/DAQ&PMS Data from PSA/For Envison/PRD DAQ Files- Quay Cranes/PQC888/DAQ_Log-10-25-2019/Complete_DAQ_LOG_20191025_0000.csv is completed!\n",
      "/Users/searoc/Documents/4-Envision/PSA/Data From PSA/DAQ&PMS Data from PSA/For Envison/PRD DAQ Files- Quay Cranes/PQC888/DAQ_Log-10-25-2019/Complete_DAQ_LOG_20191025_1900.csv\n"
     ]
    },
    {
     "name": "stderr",
     "output_type": "stream",
     "text": [
      " 99% (7001 of 7008) |################### | Elapsed Time: 0:00:44 ETA:   0:00:00"
     ]
    },
    {
     "name": "stdout",
     "output_type": "stream",
     "text": [
      "Ingest /Users/searoc/Documents/4-Envision/PSA/Data From PSA/DAQ&PMS Data from PSA/For Envison/PRD DAQ Files- Quay Cranes/PQC888/DAQ_Log-10-25-2019/Complete_DAQ_LOG_20191025_1900.csv is completed!\n",
      "/Users/searoc/Documents/4-Envision/PSA/Data From PSA/DAQ&PMS Data from PSA/For Envison/PRD DAQ Files- Quay Cranes/PQC888/DAQ_Log-10-25-2019/Complete_DAQ_LOG_20191025_0600.csv\n"
     ]
    },
    {
     "name": "stderr",
     "output_type": "stream",
     "text": [
      " 99% (7001 of 7007) |################### | Elapsed Time: 0:00:56 ETA:   0:00:00"
     ]
    },
    {
     "name": "stdout",
     "output_type": "stream",
     "text": [
      "Ingest /Users/searoc/Documents/4-Envision/PSA/Data From PSA/DAQ&PMS Data from PSA/For Envison/PRD DAQ Files- Quay Cranes/PQC888/DAQ_Log-10-25-2019/Complete_DAQ_LOG_20191025_0600.csv is completed!\n",
      "/Users/searoc/Documents/4-Envision/PSA/Data From PSA/DAQ&PMS Data from PSA/For Envison/PRD DAQ Files- Quay Cranes/PQC888/DAQ_Log-10-25-2019/Complete_DAQ_LOG_20191025_2200.csv\n"
     ]
    },
    {
     "name": "stderr",
     "output_type": "stream",
     "text": [
      " 99% (7001 of 7008) |################### | Elapsed Time: 0:00:36 ETA:   0:00:00"
     ]
    },
    {
     "name": "stdout",
     "output_type": "stream",
     "text": [
      "Ingest /Users/searoc/Documents/4-Envision/PSA/Data From PSA/DAQ&PMS Data from PSA/For Envison/PRD DAQ Files- Quay Cranes/PQC888/DAQ_Log-10-25-2019/Complete_DAQ_LOG_20191025_2200.csv is completed!\n",
      "/Users/searoc/Documents/4-Envision/PSA/Data From PSA/DAQ&PMS Data from PSA/For Envison/PRD DAQ Files- Quay Cranes/PQC888/DAQ_Log-10-25-2019/Complete_DAQ_LOG_20191025_2000.csv\n"
     ]
    },
    {
     "name": "stderr",
     "output_type": "stream",
     "text": [
      " 99% (7001 of 7008) |################### | Elapsed Time: 0:00:34 ETA:   0:00:00"
     ]
    },
    {
     "name": "stdout",
     "output_type": "stream",
     "text": [
      "Ingest /Users/searoc/Documents/4-Envision/PSA/Data From PSA/DAQ&PMS Data from PSA/For Envison/PRD DAQ Files- Quay Cranes/PQC888/DAQ_Log-10-25-2019/Complete_DAQ_LOG_20191025_2000.csv is completed!\n",
      "/Users/searoc/Documents/4-Envision/PSA/Data From PSA/DAQ&PMS Data from PSA/For Envison/PRD DAQ Files- Quay Cranes/PQC888/DAQ_Log-10-25-2019/Complete_DAQ_LOG_20191025_0400.csv\n"
     ]
    },
    {
     "name": "stderr",
     "output_type": "stream",
     "text": [
      " 99% (7001 of 7008) |################### | Elapsed Time: 0:00:39 ETA:   0:00:00"
     ]
    },
    {
     "name": "stdout",
     "output_type": "stream",
     "text": [
      "Ingest /Users/searoc/Documents/4-Envision/PSA/Data From PSA/DAQ&PMS Data from PSA/For Envison/PRD DAQ Files- Quay Cranes/PQC888/DAQ_Log-10-25-2019/Complete_DAQ_LOG_20191025_0400.csv is completed!\n",
      "/Users/searoc/Documents/4-Envision/PSA/Data From PSA/DAQ&PMS Data from PSA/For Envison/PRD DAQ Files- Quay Cranes/PQC888/DAQ_Log-10-26-2019/Complete_DAQ_LOG_20191026_0700.csv\n"
     ]
    },
    {
     "name": "stderr",
     "output_type": "stream",
     "text": [
      " 99% (7001 of 7008) |################### | Elapsed Time: 0:00:37 ETA:   0:00:00"
     ]
    },
    {
     "name": "stdout",
     "output_type": "stream",
     "text": [
      "Ingest /Users/searoc/Documents/4-Envision/PSA/Data From PSA/DAQ&PMS Data from PSA/For Envison/PRD DAQ Files- Quay Cranes/PQC888/DAQ_Log-10-26-2019/Complete_DAQ_LOG_20191026_0700.csv is completed!\n",
      "/Users/searoc/Documents/4-Envision/PSA/Data From PSA/DAQ&PMS Data from PSA/For Envison/PRD DAQ Files- Quay Cranes/PQC888/DAQ_Log-10-26-2019/Complete_DAQ_LOG_20191026_2300.csv\n"
     ]
    },
    {
     "name": "stderr",
     "output_type": "stream",
     "text": [
      " 99% (7001 of 7008) |################### | Elapsed Time: 0:00:32 ETA:   0:00:00"
     ]
    },
    {
     "name": "stdout",
     "output_type": "stream",
     "text": [
      "Ingest /Users/searoc/Documents/4-Envision/PSA/Data From PSA/DAQ&PMS Data from PSA/For Envison/PRD DAQ Files- Quay Cranes/PQC888/DAQ_Log-10-26-2019/Complete_DAQ_LOG_20191026_2300.csv is completed!\n",
      "/Users/searoc/Documents/4-Envision/PSA/Data From PSA/DAQ&PMS Data from PSA/For Envison/PRD DAQ Files- Quay Cranes/PQC888/DAQ_Log-10-26-2019/Complete_DAQ_LOG_20191026_2100.csv\n"
     ]
    },
    {
     "name": "stderr",
     "output_type": "stream",
     "text": [
      " 99% (7001 of 7008) |################### | Elapsed Time: 0:00:33 ETA:   0:00:00"
     ]
    },
    {
     "name": "stdout",
     "output_type": "stream",
     "text": [
      "Ingest /Users/searoc/Documents/4-Envision/PSA/Data From PSA/DAQ&PMS Data from PSA/For Envison/PRD DAQ Files- Quay Cranes/PQC888/DAQ_Log-10-26-2019/Complete_DAQ_LOG_20191026_2100.csv is completed!\n",
      "/Users/searoc/Documents/4-Envision/PSA/Data From PSA/DAQ&PMS Data from PSA/For Envison/PRD DAQ Files- Quay Cranes/PQC888/DAQ_Log-10-26-2019/Complete_DAQ_LOG_20191026_0500.csv\n"
     ]
    },
    {
     "name": "stderr",
     "output_type": "stream",
     "text": [
      " 99% (7001 of 7008) |################### | Elapsed Time: 0:00:42 ETA:   0:00:00"
     ]
    },
    {
     "name": "stdout",
     "output_type": "stream",
     "text": [
      "Ingest /Users/searoc/Documents/4-Envision/PSA/Data From PSA/DAQ&PMS Data from PSA/For Envison/PRD DAQ Files- Quay Cranes/PQC888/DAQ_Log-10-26-2019/Complete_DAQ_LOG_20191026_0500.csv is completed!\n",
      "/Users/searoc/Documents/4-Envision/PSA/Data From PSA/DAQ&PMS Data from PSA/For Envison/PRD DAQ Files- Quay Cranes/PQC888/DAQ_Log-10-26-2019/Complete_DAQ_LOG_20191026_0100.csv\n"
     ]
    },
    {
     "name": "stderr",
     "output_type": "stream",
     "text": [
      " 98% (6901 of 7008) |################### | Elapsed Time: 0:00:40 ETA:   0:00:00"
     ]
    },
    {
     "name": "stdout",
     "output_type": "stream",
     "text": [
      "Ingest /Users/searoc/Documents/4-Envision/PSA/Data From PSA/DAQ&PMS Data from PSA/For Envison/PRD DAQ Files- Quay Cranes/PQC888/DAQ_Log-10-26-2019/Complete_DAQ_LOG_20191026_0100.csv is completed!\n",
      "/Users/searoc/Documents/4-Envision/PSA/Data From PSA/DAQ&PMS Data from PSA/For Envison/PRD DAQ Files- Quay Cranes/PQC888/DAQ_Log-10-26-2019/Complete_DAQ_LOG_20191026_1800.csv\n"
     ]
    },
    {
     "name": "stderr",
     "output_type": "stream",
     "text": [
      " 99% (7001 of 7008) |################### | Elapsed Time: 0:00:36 ETA:   0:00:00"
     ]
    },
    {
     "name": "stdout",
     "output_type": "stream",
     "text": [
      "Ingest /Users/searoc/Documents/4-Envision/PSA/Data From PSA/DAQ&PMS Data from PSA/For Envison/PRD DAQ Files- Quay Cranes/PQC888/DAQ_Log-10-26-2019/Complete_DAQ_LOG_20191026_1800.csv is completed!\n",
      "/Users/searoc/Documents/4-Envision/PSA/Data From PSA/DAQ&PMS Data from PSA/For Envison/PRD DAQ Files- Quay Cranes/PQC888/DAQ_Log-10-26-2019/Complete_DAQ_LOG_20191026_0300.csv\n"
     ]
    },
    {
     "name": "stderr",
     "output_type": "stream",
     "text": [
      " 99% (7001 of 7008) |################### | Elapsed Time: 0:00:48 ETA:   0:00:00"
     ]
    },
    {
     "name": "stdout",
     "output_type": "stream",
     "text": [
      "Ingest /Users/searoc/Documents/4-Envision/PSA/Data From PSA/DAQ&PMS Data from PSA/For Envison/PRD DAQ Files- Quay Cranes/PQC888/DAQ_Log-10-26-2019/Complete_DAQ_LOG_20191026_0300.csv is completed!\n",
      "/Users/searoc/Documents/4-Envision/PSA/Data From PSA/DAQ&PMS Data from PSA/For Envison/PRD DAQ Files- Quay Cranes/PQC888/DAQ_Log-10-26-2019/Complete_DAQ_LOG_20191026_2000.csv\n"
     ]
    },
    {
     "name": "stderr",
     "output_type": "stream",
     "text": [
      " 99% (7001 of 7008) |################### | Elapsed Time: 0:00:55 ETA:   0:00:00"
     ]
    },
    {
     "name": "stdout",
     "output_type": "stream",
     "text": [
      "Ingest /Users/searoc/Documents/4-Envision/PSA/Data From PSA/DAQ&PMS Data from PSA/For Envison/PRD DAQ Files- Quay Cranes/PQC888/DAQ_Log-10-26-2019/Complete_DAQ_LOG_20191026_2000.csv is completed!\n",
      "/Users/searoc/Documents/4-Envision/PSA/Data From PSA/DAQ&PMS Data from PSA/For Envison/PRD DAQ Files- Quay Cranes/PQC888/DAQ_Log-10-26-2019/Complete_DAQ_LOG_20191026_0400.csv\n"
     ]
    },
    {
     "name": "stderr",
     "output_type": "stream",
     "text": [
      " 99% (7001 of 7008) |################### | Elapsed Time: 0:00:58 ETA:   0:00:00"
     ]
    },
    {
     "name": "stdout",
     "output_type": "stream",
     "text": [
      "Ingest /Users/searoc/Documents/4-Envision/PSA/Data From PSA/DAQ&PMS Data from PSA/For Envison/PRD DAQ Files- Quay Cranes/PQC888/DAQ_Log-10-26-2019/Complete_DAQ_LOG_20191026_0400.csv is completed!\n",
      "/Users/searoc/Documents/4-Envision/PSA/Data From PSA/DAQ&PMS Data from PSA/For Envison/PRD DAQ Files- Quay Cranes/PQC888/DAQ_Log-10-26-2019/Complete_DAQ_LOG_20191026_0600.csv\n"
     ]
    },
    {
     "name": "stderr",
     "output_type": "stream",
     "text": [
      " 99% (7001 of 7008) |################### | Elapsed Time: 0:00:51 ETA:   0:00:00"
     ]
    },
    {
     "name": "stdout",
     "output_type": "stream",
     "text": [
      "Ingest /Users/searoc/Documents/4-Envision/PSA/Data From PSA/DAQ&PMS Data from PSA/For Envison/PRD DAQ Files- Quay Cranes/PQC888/DAQ_Log-10-26-2019/Complete_DAQ_LOG_20191026_0600.csv is completed!\n",
      "/Users/searoc/Documents/4-Envision/PSA/Data From PSA/DAQ&PMS Data from PSA/For Envison/PRD DAQ Files- Quay Cranes/PQC888/DAQ_Log-10-26-2019/Complete_DAQ_LOG_20191026_2200.csv\n"
     ]
    },
    {
     "name": "stderr",
     "output_type": "stream",
     "text": [
      " 99% (7001 of 7008) |################### | Elapsed Time: 0:01:08 ETA:   0:00:00"
     ]
    },
    {
     "name": "stdout",
     "output_type": "stream",
     "text": [
      "Ingest /Users/searoc/Documents/4-Envision/PSA/Data From PSA/DAQ&PMS Data from PSA/For Envison/PRD DAQ Files- Quay Cranes/PQC888/DAQ_Log-10-26-2019/Complete_DAQ_LOG_20191026_2200.csv is completed!\n",
      "/Users/searoc/Documents/4-Envision/PSA/Data From PSA/DAQ&PMS Data from PSA/For Envison/PRD DAQ Files- Quay Cranes/PQC888/DAQ_Log-10-26-2019/Complete_DAQ_LOG_20191026_0200.csv\n"
     ]
    },
    {
     "name": "stderr",
     "output_type": "stream",
     "text": [
      " 98% (6901 of 7007) |################### | Elapsed Time: 0:00:46 ETA:   0:00:00"
     ]
    },
    {
     "name": "stdout",
     "output_type": "stream",
     "text": [
      "Ingest /Users/searoc/Documents/4-Envision/PSA/Data From PSA/DAQ&PMS Data from PSA/For Envison/PRD DAQ Files- Quay Cranes/PQC888/DAQ_Log-10-26-2019/Complete_DAQ_LOG_20191026_0200.csv is completed!\n",
      "/Users/searoc/Documents/4-Envision/PSA/Data From PSA/DAQ&PMS Data from PSA/For Envison/PRD DAQ Files- Quay Cranes/PQC888/DAQ_Log-10-26-2019/Complete_DAQ_LOG_20191026_0000.csv\n"
     ]
    },
    {
     "name": "stderr",
     "output_type": "stream",
     "text": [
      " 99% (7001 of 7008) |################### | Elapsed Time: 0:00:49 ETA:   0:00:00"
     ]
    },
    {
     "name": "stdout",
     "output_type": "stream",
     "text": [
      "Ingest /Users/searoc/Documents/4-Envision/PSA/Data From PSA/DAQ&PMS Data from PSA/For Envison/PRD DAQ Files- Quay Cranes/PQC888/DAQ_Log-10-26-2019/Complete_DAQ_LOG_20191026_0000.csv is completed!\n",
      "/Users/searoc/Documents/4-Envision/PSA/Data From PSA/DAQ&PMS Data from PSA/For Envison/PRD DAQ Files- Quay Cranes/PQC888/DAQ_Log-10-26-2019/Complete_DAQ_LOG_20191026_1900.csv\n"
     ]
    },
    {
     "name": "stderr",
     "output_type": "stream",
     "text": [
      " 99% (7001 of 7008) |################### | Elapsed Time: 0:00:39 ETA:   0:00:00"
     ]
    },
    {
     "name": "stdout",
     "output_type": "stream",
     "text": [
      "Ingest /Users/searoc/Documents/4-Envision/PSA/Data From PSA/DAQ&PMS Data from PSA/For Envison/PRD DAQ Files- Quay Cranes/PQC888/DAQ_Log-10-26-2019/Complete_DAQ_LOG_20191026_1900.csv is completed!\n",
      "/Users/searoc/Documents/4-Envision/PSA/Data From PSA/DAQ&PMS Data from PSA/For Envison/PRD DAQ Files- Quay Cranes/PQC888/DAQ_Log-10-26-2019/Complete_DAQ_LOG_20191026_1500.csv\n"
     ]
    },
    {
     "name": "stderr",
     "output_type": "stream",
     "text": [
      " 99% (7001 of 7008) |################### | Elapsed Time: 0:00:36 ETA:   0:00:00"
     ]
    },
    {
     "name": "stdout",
     "output_type": "stream",
     "text": [
      "Ingest /Users/searoc/Documents/4-Envision/PSA/Data From PSA/DAQ&PMS Data from PSA/For Envison/PRD DAQ Files- Quay Cranes/PQC888/DAQ_Log-10-26-2019/Complete_DAQ_LOG_20191026_1500.csv is completed!\n",
      "/Users/searoc/Documents/4-Envision/PSA/Data From PSA/DAQ&PMS Data from PSA/For Envison/PRD DAQ Files- Quay Cranes/PQC888/DAQ_Log-10-26-2019/Complete_DAQ_LOG_20191026_1700.csv\n"
     ]
    },
    {
     "name": "stderr",
     "output_type": "stream",
     "text": [
      " 99% (7001 of 7008) |################### | Elapsed Time: 0:00:42 ETA:   0:00:00"
     ]
    },
    {
     "name": "stdout",
     "output_type": "stream",
     "text": [
      "Ingest /Users/searoc/Documents/4-Envision/PSA/Data From PSA/DAQ&PMS Data from PSA/For Envison/PRD DAQ Files- Quay Cranes/PQC888/DAQ_Log-10-26-2019/Complete_DAQ_LOG_20191026_1700.csv is completed!\n",
      "/Users/searoc/Documents/4-Envision/PSA/Data From PSA/DAQ&PMS Data from PSA/For Envison/PRD DAQ Files- Quay Cranes/PQC888/DAQ_Log-10-26-2019/Complete_DAQ_LOG_20191026_1300.csv\n"
     ]
    },
    {
     "name": "stderr",
     "output_type": "stream",
     "text": [
      " 99% (7001 of 7008) |################### | Elapsed Time: 0:00:43 ETA:   0:00:00"
     ]
    },
    {
     "name": "stdout",
     "output_type": "stream",
     "text": [
      "Ingest /Users/searoc/Documents/4-Envision/PSA/Data From PSA/DAQ&PMS Data from PSA/For Envison/PRD DAQ Files- Quay Cranes/PQC888/DAQ_Log-10-26-2019/Complete_DAQ_LOG_20191026_1300.csv is completed!\n",
      "/Users/searoc/Documents/4-Envision/PSA/Data From PSA/DAQ&PMS Data from PSA/For Envison/PRD DAQ Files- Quay Cranes/PQC888/DAQ_Log-10-26-2019/Complete_DAQ_LOG_20191026_0800.csv\n"
     ]
    },
    {
     "name": "stderr",
     "output_type": "stream",
     "text": [
      " 99% (7001 of 7008) |################### | Elapsed Time: 0:00:40 ETA:   0:00:00"
     ]
    },
    {
     "name": "stdout",
     "output_type": "stream",
     "text": [
      "Ingest /Users/searoc/Documents/4-Envision/PSA/Data From PSA/DAQ&PMS Data from PSA/For Envison/PRD DAQ Files- Quay Cranes/PQC888/DAQ_Log-10-26-2019/Complete_DAQ_LOG_20191026_0800.csv is completed!\n",
      "/Users/searoc/Documents/4-Envision/PSA/Data From PSA/DAQ&PMS Data from PSA/For Envison/PRD DAQ Files- Quay Cranes/PQC888/DAQ_Log-10-26-2019/Complete_DAQ_LOG_20191026_1100.csv\n"
     ]
    },
    {
     "name": "stderr",
     "output_type": "stream",
     "text": [
      " 99% (7001 of 7008) |################### | Elapsed Time: 0:00:40 ETA:   0:00:00"
     ]
    },
    {
     "name": "stdout",
     "output_type": "stream",
     "text": [
      "Ingest /Users/searoc/Documents/4-Envision/PSA/Data From PSA/DAQ&PMS Data from PSA/For Envison/PRD DAQ Files- Quay Cranes/PQC888/DAQ_Log-10-26-2019/Complete_DAQ_LOG_20191026_1100.csv is completed!\n",
      "/Users/searoc/Documents/4-Envision/PSA/Data From PSA/DAQ&PMS Data from PSA/For Envison/PRD DAQ Files- Quay Cranes/PQC888/DAQ_Log-10-26-2019/Complete_DAQ_LOG_20191026_1600.csv\n"
     ]
    },
    {
     "name": "stderr",
     "output_type": "stream",
     "text": [
      " 99% (7001 of 7008) |################### | Elapsed Time: 0:00:41 ETA:   0:00:00"
     ]
    },
    {
     "name": "stdout",
     "output_type": "stream",
     "text": [
      "Ingest /Users/searoc/Documents/4-Envision/PSA/Data From PSA/DAQ&PMS Data from PSA/For Envison/PRD DAQ Files- Quay Cranes/PQC888/DAQ_Log-10-26-2019/Complete_DAQ_LOG_20191026_1600.csv is completed!\n",
      "/Users/searoc/Documents/4-Envision/PSA/Data From PSA/DAQ&PMS Data from PSA/For Envison/PRD DAQ Files- Quay Cranes/PQC888/DAQ_Log-10-26-2019/Complete_DAQ_LOG_20191026_1400.csv\n"
     ]
    },
    {
     "name": "stderr",
     "output_type": "stream",
     "text": [
      " 99% (7001 of 7008) |################### | Elapsed Time: 0:00:39 ETA:   0:00:00"
     ]
    },
    {
     "name": "stdout",
     "output_type": "stream",
     "text": [
      "Ingest /Users/searoc/Documents/4-Envision/PSA/Data From PSA/DAQ&PMS Data from PSA/For Envison/PRD DAQ Files- Quay Cranes/PQC888/DAQ_Log-10-26-2019/Complete_DAQ_LOG_20191026_1400.csv is completed!\n",
      "/Users/searoc/Documents/4-Envision/PSA/Data From PSA/DAQ&PMS Data from PSA/For Envison/PRD DAQ Files- Quay Cranes/PQC888/DAQ_Log-10-26-2019/Complete_DAQ_LOG_20191026_0900.csv\n"
     ]
    },
    {
     "name": "stderr",
     "output_type": "stream",
     "text": [
      " 99% (7001 of 7008) |################### | Elapsed Time: 0:00:40 ETA:   0:00:00"
     ]
    },
    {
     "name": "stdout",
     "output_type": "stream",
     "text": [
      "Ingest /Users/searoc/Documents/4-Envision/PSA/Data From PSA/DAQ&PMS Data from PSA/For Envison/PRD DAQ Files- Quay Cranes/PQC888/DAQ_Log-10-26-2019/Complete_DAQ_LOG_20191026_0900.csv is completed!\n",
      "/Users/searoc/Documents/4-Envision/PSA/Data From PSA/DAQ&PMS Data from PSA/For Envison/PRD DAQ Files- Quay Cranes/PQC888/DAQ_Log-10-26-2019/Complete_DAQ_LOG_20191026_1000.csv\n"
     ]
    },
    {
     "name": "stderr",
     "output_type": "stream",
     "text": [
      " 99% (7001 of 7008) |################### | Elapsed Time: 0:00:59 ETA:   0:00:00"
     ]
    },
    {
     "name": "stdout",
     "output_type": "stream",
     "text": [
      "Ingest /Users/searoc/Documents/4-Envision/PSA/Data From PSA/DAQ&PMS Data from PSA/For Envison/PRD DAQ Files- Quay Cranes/PQC888/DAQ_Log-10-26-2019/Complete_DAQ_LOG_20191026_1000.csv is completed!\n",
      "/Users/searoc/Documents/4-Envision/PSA/Data From PSA/DAQ&PMS Data from PSA/For Envison/PRD DAQ Files- Quay Cranes/PQC888/DAQ_Log-10-26-2019/Complete_DAQ_LOG_20191026_1200.csv\n"
     ]
    },
    {
     "name": "stderr",
     "output_type": "stream",
     "text": [
      " 99% (7001 of 7008) |################### | Elapsed Time: 0:00:43 ETA:   0:00:00"
     ]
    },
    {
     "name": "stdout",
     "output_type": "stream",
     "text": [
      "Ingest /Users/searoc/Documents/4-Envision/PSA/Data From PSA/DAQ&PMS Data from PSA/For Envison/PRD DAQ Files- Quay Cranes/PQC888/DAQ_Log-10-26-2019/Complete_DAQ_LOG_20191026_1200.csv is completed!\n",
      "/Users/searoc/Documents/4-Envision/PSA/Data From PSA/DAQ&PMS Data from PSA/For Envison/PRD DAQ Files- Quay Cranes/PQC887/DAQ_Log-10-24-2019/Complete_DAQ_LOG_20191024_0800.csv\n"
     ]
    },
    {
     "name": "stderr",
     "output_type": "stream",
     "text": [
      " 99% (7001 of 7008) |################### | Elapsed Time: 0:00:47 ETA:   0:00:00"
     ]
    },
    {
     "name": "stdout",
     "output_type": "stream",
     "text": [
      "Ingest /Users/searoc/Documents/4-Envision/PSA/Data From PSA/DAQ&PMS Data from PSA/For Envison/PRD DAQ Files- Quay Cranes/PQC887/DAQ_Log-10-24-2019/Complete_DAQ_LOG_20191024_0800.csv is completed!\n",
      "/Users/searoc/Documents/4-Envision/PSA/Data From PSA/DAQ&PMS Data from PSA/For Envison/PRD DAQ Files- Quay Cranes/PQC887/DAQ_Log-10-24-2019/Complete_DAQ_LOG_20191024_1100.csv\n"
     ]
    },
    {
     "name": "stderr",
     "output_type": "stream",
     "text": [
      " 99% (7001 of 7008) |################### | Elapsed Time: 0:00:53 ETA:   0:00:00"
     ]
    },
    {
     "name": "stdout",
     "output_type": "stream",
     "text": [
      "Ingest /Users/searoc/Documents/4-Envision/PSA/Data From PSA/DAQ&PMS Data from PSA/For Envison/PRD DAQ Files- Quay Cranes/PQC887/DAQ_Log-10-24-2019/Complete_DAQ_LOG_20191024_1100.csv is completed!\n",
      "/Users/searoc/Documents/4-Envision/PSA/Data From PSA/DAQ&PMS Data from PSA/For Envison/PRD DAQ Files- Quay Cranes/PQC887/DAQ_Log-10-24-2019/Complete_DAQ_LOG_20191024_1300.csv\n"
     ]
    },
    {
     "name": "stderr",
     "output_type": "stream",
     "text": [
      " 99% (7001 of 7008) |################### | Elapsed Time: 0:00:38 ETA:   0:00:00"
     ]
    },
    {
     "name": "stdout",
     "output_type": "stream",
     "text": [
      "Ingest /Users/searoc/Documents/4-Envision/PSA/Data From PSA/DAQ&PMS Data from PSA/For Envison/PRD DAQ Files- Quay Cranes/PQC887/DAQ_Log-10-24-2019/Complete_DAQ_LOG_20191024_1300.csv is completed!\n",
      "/Users/searoc/Documents/4-Envision/PSA/Data From PSA/DAQ&PMS Data from PSA/For Envison/PRD DAQ Files- Quay Cranes/PQC887/DAQ_Log-10-24-2019/Complete_DAQ_LOG_20191024_1700.csv\n"
     ]
    },
    {
     "name": "stderr",
     "output_type": "stream",
     "text": [
      " 99% (7001 of 7008) |################### | Elapsed Time: 0:00:34 ETA:   0:00:00"
     ]
    },
    {
     "name": "stdout",
     "output_type": "stream",
     "text": [
      "Ingest /Users/searoc/Documents/4-Envision/PSA/Data From PSA/DAQ&PMS Data from PSA/For Envison/PRD DAQ Files- Quay Cranes/PQC887/DAQ_Log-10-24-2019/Complete_DAQ_LOG_20191024_1700.csv is completed!\n",
      "/Users/searoc/Documents/4-Envision/PSA/Data From PSA/DAQ&PMS Data from PSA/For Envison/PRD DAQ Files- Quay Cranes/PQC887/DAQ_Log-10-24-2019/Complete_DAQ_LOG_20191024_1500.csv\n"
     ]
    },
    {
     "name": "stderr",
     "output_type": "stream",
     "text": [
      " 99% (7001 of 7008) |################### | Elapsed Time: 0:00:36 ETA:   0:00:00"
     ]
    },
    {
     "name": "stdout",
     "output_type": "stream",
     "text": [
      "Ingest /Users/searoc/Documents/4-Envision/PSA/Data From PSA/DAQ&PMS Data from PSA/For Envison/PRD DAQ Files- Quay Cranes/PQC887/DAQ_Log-10-24-2019/Complete_DAQ_LOG_20191024_1500.csv is completed!\n",
      "/Users/searoc/Documents/4-Envision/PSA/Data From PSA/DAQ&PMS Data from PSA/For Envison/PRD DAQ Files- Quay Cranes/PQC887/DAQ_Log-10-24-2019/Complete_DAQ_LOG_20191024_1200.csv\n"
     ]
    },
    {
     "name": "stderr",
     "output_type": "stream",
     "text": [
      " 99% (7001 of 7008) |################### | Elapsed Time: 0:00:34 ETA:   0:00:00"
     ]
    },
    {
     "name": "stdout",
     "output_type": "stream",
     "text": [
      "Ingest /Users/searoc/Documents/4-Envision/PSA/Data From PSA/DAQ&PMS Data from PSA/For Envison/PRD DAQ Files- Quay Cranes/PQC887/DAQ_Log-10-24-2019/Complete_DAQ_LOG_20191024_1200.csv is completed!\n",
      "/Users/searoc/Documents/4-Envision/PSA/Data From PSA/DAQ&PMS Data from PSA/For Envison/PRD DAQ Files- Quay Cranes/PQC887/DAQ_Log-10-24-2019/Complete_DAQ_LOG_20191024_0900.csv\n"
     ]
    },
    {
     "name": "stderr",
     "output_type": "stream",
     "text": [
      " 99% (7001 of 7008) |################### | Elapsed Time: 0:00:31 ETA:   0:00:00"
     ]
    },
    {
     "name": "stdout",
     "output_type": "stream",
     "text": [
      "Ingest /Users/searoc/Documents/4-Envision/PSA/Data From PSA/DAQ&PMS Data from PSA/For Envison/PRD DAQ Files- Quay Cranes/PQC887/DAQ_Log-10-24-2019/Complete_DAQ_LOG_20191024_0900.csv is completed!\n",
      "/Users/searoc/Documents/4-Envision/PSA/Data From PSA/DAQ&PMS Data from PSA/For Envison/PRD DAQ Files- Quay Cranes/PQC887/DAQ_Log-10-24-2019/Complete_DAQ_LOG_20191024_1000.csv\n"
     ]
    },
    {
     "name": "stderr",
     "output_type": "stream",
     "text": [
      " 99% (7001 of 7008) |################### | Elapsed Time: 0:00:36 ETA:   0:00:00"
     ]
    },
    {
     "name": "stdout",
     "output_type": "stream",
     "text": [
      "Ingest /Users/searoc/Documents/4-Envision/PSA/Data From PSA/DAQ&PMS Data from PSA/For Envison/PRD DAQ Files- Quay Cranes/PQC887/DAQ_Log-10-24-2019/Complete_DAQ_LOG_20191024_1000.csv is completed!\n",
      "/Users/searoc/Documents/4-Envision/PSA/Data From PSA/DAQ&PMS Data from PSA/For Envison/PRD DAQ Files- Quay Cranes/PQC887/DAQ_Log-10-24-2019/Complete_DAQ_LOG_20191024_1400.csv\n"
     ]
    },
    {
     "name": "stderr",
     "output_type": "stream",
     "text": [
      " 99% (7001 of 7008) |################### | Elapsed Time: 0:00:38 ETA:   0:00:00"
     ]
    },
    {
     "name": "stdout",
     "output_type": "stream",
     "text": [
      "Ingest /Users/searoc/Documents/4-Envision/PSA/Data From PSA/DAQ&PMS Data from PSA/For Envison/PRD DAQ Files- Quay Cranes/PQC887/DAQ_Log-10-24-2019/Complete_DAQ_LOG_20191024_1400.csv is completed!\n",
      "/Users/searoc/Documents/4-Envision/PSA/Data From PSA/DAQ&PMS Data from PSA/For Envison/PRD DAQ Files- Quay Cranes/PQC887/DAQ_Log-10-24-2019/Complete_DAQ_LOG_20191024_1600.csv\n"
     ]
    },
    {
     "name": "stderr",
     "output_type": "stream",
     "text": [
      " 99% (7001 of 7008) |################### | Elapsed Time: 0:00:34 ETA:   0:00:00"
     ]
    },
    {
     "name": "stdout",
     "output_type": "stream",
     "text": [
      "Ingest /Users/searoc/Documents/4-Envision/PSA/Data From PSA/DAQ&PMS Data from PSA/For Envison/PRD DAQ Files- Quay Cranes/PQC887/DAQ_Log-10-24-2019/Complete_DAQ_LOG_20191024_1600.csv is completed!\n",
      "/Users/searoc/Documents/4-Envision/PSA/Data From PSA/DAQ&PMS Data from PSA/For Envison/PRD DAQ Files- Quay Cranes/PQC887/DAQ_Log-10-24-2019/Complete_DAQ_LOG_20191024_0300.csv\n"
     ]
    },
    {
     "name": "stderr",
     "output_type": "stream",
     "text": [
      " 99% (7001 of 7008) |################### | Elapsed Time: 0:00:34 ETA:   0:00:00"
     ]
    },
    {
     "name": "stdout",
     "output_type": "stream",
     "text": [
      "Ingest /Users/searoc/Documents/4-Envision/PSA/Data From PSA/DAQ&PMS Data from PSA/For Envison/PRD DAQ Files- Quay Cranes/PQC887/DAQ_Log-10-24-2019/Complete_DAQ_LOG_20191024_0300.csv is completed!\n",
      "/Users/searoc/Documents/4-Envision/PSA/Data From PSA/DAQ&PMS Data from PSA/For Envison/PRD DAQ Files- Quay Cranes/PQC887/DAQ_Log-10-24-2019/Complete_DAQ_LOG_20191024_0100.csv\n"
     ]
    },
    {
     "name": "stderr",
     "output_type": "stream",
     "text": [
      " 99% (7001 of 7008) |################### | Elapsed Time: 0:00:42 ETA:   0:00:00"
     ]
    },
    {
     "name": "stdout",
     "output_type": "stream",
     "text": [
      "Ingest /Users/searoc/Documents/4-Envision/PSA/Data From PSA/DAQ&PMS Data from PSA/For Envison/PRD DAQ Files- Quay Cranes/PQC887/DAQ_Log-10-24-2019/Complete_DAQ_LOG_20191024_0100.csv is completed!\n",
      "/Users/searoc/Documents/4-Envision/PSA/Data From PSA/DAQ&PMS Data from PSA/For Envison/PRD DAQ Files- Quay Cranes/PQC887/DAQ_Log-10-24-2019/Complete_DAQ_LOG_20191024_1800.csv\n"
     ]
    },
    {
     "name": "stderr",
     "output_type": "stream",
     "text": [
      " 99% (7001 of 7008) |################### | Elapsed Time: 0:00:33 ETA:   0:00:00"
     ]
    },
    {
     "name": "stdout",
     "output_type": "stream",
     "text": [
      "Ingest /Users/searoc/Documents/4-Envision/PSA/Data From PSA/DAQ&PMS Data from PSA/For Envison/PRD DAQ Files- Quay Cranes/PQC887/DAQ_Log-10-24-2019/Complete_DAQ_LOG_20191024_1800.csv is completed!\n",
      "/Users/searoc/Documents/4-Envision/PSA/Data From PSA/DAQ&PMS Data from PSA/For Envison/PRD DAQ Files- Quay Cranes/PQC887/DAQ_Log-10-24-2019/Complete_DAQ_LOG_20191024_2100.csv\n"
     ]
    },
    {
     "name": "stderr",
     "output_type": "stream",
     "text": [
      " 99% (7001 of 7008) |################### | Elapsed Time: 0:00:37 ETA:   0:00:00"
     ]
    },
    {
     "name": "stdout",
     "output_type": "stream",
     "text": [
      "Ingest /Users/searoc/Documents/4-Envision/PSA/Data From PSA/DAQ&PMS Data from PSA/For Envison/PRD DAQ Files- Quay Cranes/PQC887/DAQ_Log-10-24-2019/Complete_DAQ_LOG_20191024_2100.csv is completed!\n",
      "/Users/searoc/Documents/4-Envision/PSA/Data From PSA/DAQ&PMS Data from PSA/For Envison/PRD DAQ Files- Quay Cranes/PQC887/DAQ_Log-10-24-2019/Complete_DAQ_LOG_20191024_0500.csv\n"
     ]
    },
    {
     "name": "stderr",
     "output_type": "stream",
     "text": [
      " 98% (6901 of 7008) |################### | Elapsed Time: 0:00:32 ETA:   0:00:00"
     ]
    },
    {
     "name": "stdout",
     "output_type": "stream",
     "text": [
      "Ingest /Users/searoc/Documents/4-Envision/PSA/Data From PSA/DAQ&PMS Data from PSA/For Envison/PRD DAQ Files- Quay Cranes/PQC887/DAQ_Log-10-24-2019/Complete_DAQ_LOG_20191024_0500.csv is completed!\n",
      "/Users/searoc/Documents/4-Envision/PSA/Data From PSA/DAQ&PMS Data from PSA/For Envison/PRD DAQ Files- Quay Cranes/PQC887/DAQ_Log-10-24-2019/Complete_DAQ_LOG_20191024_0700.csv\n"
     ]
    },
    {
     "name": "stderr",
     "output_type": "stream",
     "text": [
      " 98% (6901 of 7008) |################### | Elapsed Time: 0:00:40 ETA:   0:00:00"
     ]
    },
    {
     "name": "stdout",
     "output_type": "stream",
     "text": [
      "Ingest /Users/searoc/Documents/4-Envision/PSA/Data From PSA/DAQ&PMS Data from PSA/For Envison/PRD DAQ Files- Quay Cranes/PQC887/DAQ_Log-10-24-2019/Complete_DAQ_LOG_20191024_0700.csv is completed!\n",
      "/Users/searoc/Documents/4-Envision/PSA/Data From PSA/DAQ&PMS Data from PSA/For Envison/PRD DAQ Files- Quay Cranes/PQC887/DAQ_Log-10-24-2019/Complete_DAQ_LOG_20191024_2300.csv\n"
     ]
    },
    {
     "name": "stderr",
     "output_type": "stream",
     "text": [
      " 99% (7001 of 7008) |################### | Elapsed Time: 0:00:39 ETA:   0:00:00"
     ]
    },
    {
     "name": "stdout",
     "output_type": "stream",
     "text": [
      "Ingest /Users/searoc/Documents/4-Envision/PSA/Data From PSA/DAQ&PMS Data from PSA/For Envison/PRD DAQ Files- Quay Cranes/PQC887/DAQ_Log-10-24-2019/Complete_DAQ_LOG_20191024_2300.csv is completed!\n",
      "/Users/searoc/Documents/4-Envision/PSA/Data From PSA/DAQ&PMS Data from PSA/For Envison/PRD DAQ Files- Quay Cranes/PQC887/DAQ_Log-10-24-2019/Complete_DAQ_LOG_20191024_0000.csv\n"
     ]
    },
    {
     "name": "stderr",
     "output_type": "stream",
     "text": [
      " 99% (7001 of 7008) |################### | Elapsed Time: 0:00:38 ETA:   0:00:00"
     ]
    },
    {
     "name": "stdout",
     "output_type": "stream",
     "text": [
      "Ingest /Users/searoc/Documents/4-Envision/PSA/Data From PSA/DAQ&PMS Data from PSA/For Envison/PRD DAQ Files- Quay Cranes/PQC887/DAQ_Log-10-24-2019/Complete_DAQ_LOG_20191024_0000.csv is completed!\n",
      "/Users/searoc/Documents/4-Envision/PSA/Data From PSA/DAQ&PMS Data from PSA/For Envison/PRD DAQ Files- Quay Cranes/PQC887/DAQ_Log-10-24-2019/Complete_DAQ_LOG_20191024_1900.csv\n"
     ]
    },
    {
     "name": "stderr",
     "output_type": "stream",
     "text": [
      " 99% (7001 of 7008) |################### | Elapsed Time: 0:00:34 ETA:   0:00:00"
     ]
    },
    {
     "name": "stdout",
     "output_type": "stream",
     "text": [
      "Ingest /Users/searoc/Documents/4-Envision/PSA/Data From PSA/DAQ&PMS Data from PSA/For Envison/PRD DAQ Files- Quay Cranes/PQC887/DAQ_Log-10-24-2019/Complete_DAQ_LOG_20191024_1900.csv is completed!\n",
      "/Users/searoc/Documents/4-Envision/PSA/Data From PSA/DAQ&PMS Data from PSA/For Envison/PRD DAQ Files- Quay Cranes/PQC887/DAQ_Log-10-24-2019/Complete_DAQ_LOG_20191024_0200.csv\n"
     ]
    },
    {
     "name": "stderr",
     "output_type": "stream",
     "text": [
      " 99% (7001 of 7008) |################### | Elapsed Time: 0:00:30 ETA:   0:00:00"
     ]
    },
    {
     "name": "stdout",
     "output_type": "stream",
     "text": [
      "Ingest /Users/searoc/Documents/4-Envision/PSA/Data From PSA/DAQ&PMS Data from PSA/For Envison/PRD DAQ Files- Quay Cranes/PQC887/DAQ_Log-10-24-2019/Complete_DAQ_LOG_20191024_0200.csv is completed!\n",
      "/Users/searoc/Documents/4-Envision/PSA/Data From PSA/DAQ&PMS Data from PSA/For Envison/PRD DAQ Files- Quay Cranes/PQC887/DAQ_Log-10-24-2019/Complete_DAQ_LOG_20191024_0600.csv\n"
     ]
    },
    {
     "name": "stderr",
     "output_type": "stream",
     "text": [
      " 98% (6901 of 7008) |################### | Elapsed Time: 0:00:29 ETA:   0:00:00"
     ]
    },
    {
     "name": "stdout",
     "output_type": "stream",
     "text": [
      "Ingest /Users/searoc/Documents/4-Envision/PSA/Data From PSA/DAQ&PMS Data from PSA/For Envison/PRD DAQ Files- Quay Cranes/PQC887/DAQ_Log-10-24-2019/Complete_DAQ_LOG_20191024_0600.csv is completed!\n",
      "/Users/searoc/Documents/4-Envision/PSA/Data From PSA/DAQ&PMS Data from PSA/For Envison/PRD DAQ Files- Quay Cranes/PQC887/DAQ_Log-10-24-2019/Complete_DAQ_LOG_20191024_2200.csv\n"
     ]
    },
    {
     "name": "stderr",
     "output_type": "stream",
     "text": [
      " 99% (7001 of 7008) |################### | Elapsed Time: 0:00:31 ETA:   0:00:00"
     ]
    },
    {
     "name": "stdout",
     "output_type": "stream",
     "text": [
      "Ingest /Users/searoc/Documents/4-Envision/PSA/Data From PSA/DAQ&PMS Data from PSA/For Envison/PRD DAQ Files- Quay Cranes/PQC887/DAQ_Log-10-24-2019/Complete_DAQ_LOG_20191024_2200.csv is completed!\n",
      "/Users/searoc/Documents/4-Envision/PSA/Data From PSA/DAQ&PMS Data from PSA/For Envison/PRD DAQ Files- Quay Cranes/PQC887/DAQ_Log-10-24-2019/Complete_DAQ_LOG_20191024_2000.csv\n"
     ]
    },
    {
     "name": "stderr",
     "output_type": "stream",
     "text": [
      " 99% (7001 of 7008) |################### | Elapsed Time: 0:00:29 ETA:   0:00:00"
     ]
    },
    {
     "name": "stdout",
     "output_type": "stream",
     "text": [
      "Ingest /Users/searoc/Documents/4-Envision/PSA/Data From PSA/DAQ&PMS Data from PSA/For Envison/PRD DAQ Files- Quay Cranes/PQC887/DAQ_Log-10-24-2019/Complete_DAQ_LOG_20191024_2000.csv is completed!\n",
      "/Users/searoc/Documents/4-Envision/PSA/Data From PSA/DAQ&PMS Data from PSA/For Envison/PRD DAQ Files- Quay Cranes/PQC887/DAQ_Log-10-24-2019/Complete_DAQ_LOG_20191024_0400.csv\n"
     ]
    },
    {
     "name": "stderr",
     "output_type": "stream",
     "text": [
      " 99% (7001 of 7008) |################### | Elapsed Time: 0:00:31 ETA:   0:00:00"
     ]
    },
    {
     "name": "stdout",
     "output_type": "stream",
     "text": [
      "Ingest /Users/searoc/Documents/4-Envision/PSA/Data From PSA/DAQ&PMS Data from PSA/For Envison/PRD DAQ Files- Quay Cranes/PQC887/DAQ_Log-10-24-2019/Complete_DAQ_LOG_20191024_0400.csv is completed!\n",
      "/Users/searoc/Documents/4-Envision/PSA/Data From PSA/DAQ&PMS Data from PSA/For Envison/PRD DAQ Files- Quay Cranes/PQC887/DAQ_Log-10-25-2019/Complete_DAQ_LOG_20191025_0800.csv\n"
     ]
    },
    {
     "name": "stderr",
     "output_type": "stream",
     "text": [
      " 99% (7001 of 7008) |################### | Elapsed Time: 0:00:30 ETA:   0:00:00"
     ]
    },
    {
     "name": "stdout",
     "output_type": "stream",
     "text": [
      "Ingest /Users/searoc/Documents/4-Envision/PSA/Data From PSA/DAQ&PMS Data from PSA/For Envison/PRD DAQ Files- Quay Cranes/PQC887/DAQ_Log-10-25-2019/Complete_DAQ_LOG_20191025_0800.csv is completed!\n",
      "/Users/searoc/Documents/4-Envision/PSA/Data From PSA/DAQ&PMS Data from PSA/For Envison/PRD DAQ Files- Quay Cranes/PQC887/DAQ_Log-10-25-2019/Complete_DAQ_LOG_20191025_1100.csv\n"
     ]
    },
    {
     "name": "stderr",
     "output_type": "stream",
     "text": [
      " 99% (7001 of 7008) |################### | Elapsed Time: 0:00:26 ETA:   0:00:00"
     ]
    },
    {
     "name": "stdout",
     "output_type": "stream",
     "text": [
      "Ingest /Users/searoc/Documents/4-Envision/PSA/Data From PSA/DAQ&PMS Data from PSA/For Envison/PRD DAQ Files- Quay Cranes/PQC887/DAQ_Log-10-25-2019/Complete_DAQ_LOG_20191025_1100.csv is completed!\n",
      "/Users/searoc/Documents/4-Envision/PSA/Data From PSA/DAQ&PMS Data from PSA/For Envison/PRD DAQ Files- Quay Cranes/PQC887/DAQ_Log-10-25-2019/Complete_DAQ_LOG_20191025_1300.csv\n"
     ]
    },
    {
     "name": "stderr",
     "output_type": "stream",
     "text": [
      " 99% (7001 of 7008) |################### | Elapsed Time: 0:00:29 ETA:   0:00:00"
     ]
    },
    {
     "name": "stdout",
     "output_type": "stream",
     "text": [
      "Ingest /Users/searoc/Documents/4-Envision/PSA/Data From PSA/DAQ&PMS Data from PSA/For Envison/PRD DAQ Files- Quay Cranes/PQC887/DAQ_Log-10-25-2019/Complete_DAQ_LOG_20191025_1300.csv is completed!\n",
      "/Users/searoc/Documents/4-Envision/PSA/Data From PSA/DAQ&PMS Data from PSA/For Envison/PRD DAQ Files- Quay Cranes/PQC887/DAQ_Log-10-25-2019/Complete_DAQ_LOG_20191025_1700.csv\n"
     ]
    },
    {
     "name": "stderr",
     "output_type": "stream",
     "text": [
      " 99% (7001 of 7008) |################### | Elapsed Time: 0:00:28 ETA:   0:00:00"
     ]
    },
    {
     "name": "stdout",
     "output_type": "stream",
     "text": [
      "Ingest /Users/searoc/Documents/4-Envision/PSA/Data From PSA/DAQ&PMS Data from PSA/For Envison/PRD DAQ Files- Quay Cranes/PQC887/DAQ_Log-10-25-2019/Complete_DAQ_LOG_20191025_1700.csv is completed!\n",
      "/Users/searoc/Documents/4-Envision/PSA/Data From PSA/DAQ&PMS Data from PSA/For Envison/PRD DAQ Files- Quay Cranes/PQC887/DAQ_Log-10-25-2019/Complete_DAQ_LOG_20191025_1500.csv\n"
     ]
    },
    {
     "name": "stderr",
     "output_type": "stream",
     "text": [
      " 99% (7001 of 7008) |################### | Elapsed Time: 0:00:32 ETA:   0:00:00"
     ]
    },
    {
     "name": "stdout",
     "output_type": "stream",
     "text": [
      "Ingest /Users/searoc/Documents/4-Envision/PSA/Data From PSA/DAQ&PMS Data from PSA/For Envison/PRD DAQ Files- Quay Cranes/PQC887/DAQ_Log-10-25-2019/Complete_DAQ_LOG_20191025_1500.csv is completed!\n",
      "/Users/searoc/Documents/4-Envision/PSA/Data From PSA/DAQ&PMS Data from PSA/For Envison/PRD DAQ Files- Quay Cranes/PQC887/DAQ_Log-10-25-2019/Complete_DAQ_LOG_20191025_1200.csv\n"
     ]
    },
    {
     "name": "stderr",
     "output_type": "stream",
     "text": [
      " 98% (6901 of 7008) |################### | Elapsed Time: 0:00:30 ETA:   0:00:00"
     ]
    },
    {
     "name": "stdout",
     "output_type": "stream",
     "text": [
      "Ingest /Users/searoc/Documents/4-Envision/PSA/Data From PSA/DAQ&PMS Data from PSA/For Envison/PRD DAQ Files- Quay Cranes/PQC887/DAQ_Log-10-25-2019/Complete_DAQ_LOG_20191025_1200.csv is completed!\n",
      "/Users/searoc/Documents/4-Envision/PSA/Data From PSA/DAQ&PMS Data from PSA/For Envison/PRD DAQ Files- Quay Cranes/PQC887/DAQ_Log-10-25-2019/Complete_DAQ_LOG_20191025_0900.csv\n"
     ]
    },
    {
     "name": "stderr",
     "output_type": "stream",
     "text": [
      " 99% (7001 of 7008) |################### | Elapsed Time: 0:00:28 ETA:   0:00:00"
     ]
    },
    {
     "name": "stdout",
     "output_type": "stream",
     "text": [
      "Ingest /Users/searoc/Documents/4-Envision/PSA/Data From PSA/DAQ&PMS Data from PSA/For Envison/PRD DAQ Files- Quay Cranes/PQC887/DAQ_Log-10-25-2019/Complete_DAQ_LOG_20191025_0900.csv is completed!\n",
      "/Users/searoc/Documents/4-Envision/PSA/Data From PSA/DAQ&PMS Data from PSA/For Envison/PRD DAQ Files- Quay Cranes/PQC887/DAQ_Log-10-25-2019/Complete_DAQ_LOG_20191025_1000.csv\n"
     ]
    },
    {
     "name": "stderr",
     "output_type": "stream",
     "text": [
      " 99% (7001 of 7008) |################### | Elapsed Time: 0:00:32 ETA:   0:00:00"
     ]
    },
    {
     "name": "stdout",
     "output_type": "stream",
     "text": [
      "Ingest /Users/searoc/Documents/4-Envision/PSA/Data From PSA/DAQ&PMS Data from PSA/For Envison/PRD DAQ Files- Quay Cranes/PQC887/DAQ_Log-10-25-2019/Complete_DAQ_LOG_20191025_1000.csv is completed!\n",
      "/Users/searoc/Documents/4-Envision/PSA/Data From PSA/DAQ&PMS Data from PSA/For Envison/PRD DAQ Files- Quay Cranes/PQC887/DAQ_Log-10-25-2019/Complete_DAQ_LOG_20191025_1400.csv\n"
     ]
    },
    {
     "name": "stderr",
     "output_type": "stream",
     "text": [
      " 99% (7001 of 7007) |################### | Elapsed Time: 0:00:30 ETA:   0:00:00"
     ]
    },
    {
     "name": "stdout",
     "output_type": "stream",
     "text": [
      "Ingest /Users/searoc/Documents/4-Envision/PSA/Data From PSA/DAQ&PMS Data from PSA/For Envison/PRD DAQ Files- Quay Cranes/PQC887/DAQ_Log-10-25-2019/Complete_DAQ_LOG_20191025_1400.csv is completed!\n",
      "/Users/searoc/Documents/4-Envision/PSA/Data From PSA/DAQ&PMS Data from PSA/For Envison/PRD DAQ Files- Quay Cranes/PQC887/DAQ_Log-10-25-2019/Complete_DAQ_LOG_20191025_1600.csv\n"
     ]
    },
    {
     "name": "stderr",
     "output_type": "stream",
     "text": [
      " 97% (6801 of 7009) |################### | Elapsed Time: 0:00:27 ETA:   0:00:01"
     ]
    },
    {
     "name": "stdout",
     "output_type": "stream",
     "text": [
      "Ingest /Users/searoc/Documents/4-Envision/PSA/Data From PSA/DAQ&PMS Data from PSA/For Envison/PRD DAQ Files- Quay Cranes/PQC887/DAQ_Log-10-25-2019/Complete_DAQ_LOG_20191025_1600.csv is completed!\n",
      "/Users/searoc/Documents/4-Envision/PSA/Data From PSA/DAQ&PMS Data from PSA/For Envison/PRD DAQ Files- Quay Cranes/PQC887/DAQ_Log-10-25-2019/Complete_DAQ_LOG_20191025_0300.csv\n"
     ]
    },
    {
     "name": "stderr",
     "output_type": "stream",
     "text": [
      " 98% (6901 of 7008) |################### | Elapsed Time: 0:00:32 ETA:   0:00:00"
     ]
    },
    {
     "name": "stdout",
     "output_type": "stream",
     "text": [
      "Ingest /Users/searoc/Documents/4-Envision/PSA/Data From PSA/DAQ&PMS Data from PSA/For Envison/PRD DAQ Files- Quay Cranes/PQC887/DAQ_Log-10-25-2019/Complete_DAQ_LOG_20191025_0300.csv is completed!\n",
      "/Users/searoc/Documents/4-Envision/PSA/Data From PSA/DAQ&PMS Data from PSA/For Envison/PRD DAQ Files- Quay Cranes/PQC887/DAQ_Log-10-25-2019/Complete_DAQ_LOG_20191025_0100.csv\n"
     ]
    },
    {
     "name": "stderr",
     "output_type": "stream",
     "text": [
      " 99% (7001 of 7008) |################### | Elapsed Time: 0:00:48 ETA:   0:00:00"
     ]
    },
    {
     "name": "stdout",
     "output_type": "stream",
     "text": [
      "Ingest /Users/searoc/Documents/4-Envision/PSA/Data From PSA/DAQ&PMS Data from PSA/For Envison/PRD DAQ Files- Quay Cranes/PQC887/DAQ_Log-10-25-2019/Complete_DAQ_LOG_20191025_0100.csv is completed!\n",
      "/Users/searoc/Documents/4-Envision/PSA/Data From PSA/DAQ&PMS Data from PSA/For Envison/PRD DAQ Files- Quay Cranes/PQC887/DAQ_Log-10-25-2019/Complete_DAQ_LOG_20191025_1800.csv\n"
     ]
    },
    {
     "name": "stderr",
     "output_type": "stream",
     "text": [
      " 99% (7001 of 7007) |################### | Elapsed Time: 0:00:36 ETA:   0:00:00"
     ]
    },
    {
     "name": "stdout",
     "output_type": "stream",
     "text": [
      "Ingest /Users/searoc/Documents/4-Envision/PSA/Data From PSA/DAQ&PMS Data from PSA/For Envison/PRD DAQ Files- Quay Cranes/PQC887/DAQ_Log-10-25-2019/Complete_DAQ_LOG_20191025_1800.csv is completed!\n",
      "/Users/searoc/Documents/4-Envision/PSA/Data From PSA/DAQ&PMS Data from PSA/For Envison/PRD DAQ Files- Quay Cranes/PQC887/DAQ_Log-10-25-2019/Complete_DAQ_LOG_20191025_2100.csv\n"
     ]
    },
    {
     "name": "stderr",
     "output_type": "stream",
     "text": [
      " 99% (7001 of 7008) |################### | Elapsed Time: 0:00:34 ETA:   0:00:00"
     ]
    },
    {
     "name": "stdout",
     "output_type": "stream",
     "text": [
      "Ingest /Users/searoc/Documents/4-Envision/PSA/Data From PSA/DAQ&PMS Data from PSA/For Envison/PRD DAQ Files- Quay Cranes/PQC887/DAQ_Log-10-25-2019/Complete_DAQ_LOG_20191025_2100.csv is completed!\n",
      "/Users/searoc/Documents/4-Envision/PSA/Data From PSA/DAQ&PMS Data from PSA/For Envison/PRD DAQ Files- Quay Cranes/PQC887/DAQ_Log-10-25-2019/Complete_DAQ_LOG_20191025_0500.csv\n"
     ]
    },
    {
     "name": "stderr",
     "output_type": "stream",
     "text": [
      " 98% (6901 of 7008) |################### | Elapsed Time: 0:00:37 ETA:   0:00:01"
     ]
    },
    {
     "name": "stdout",
     "output_type": "stream",
     "text": [
      "Ingest /Users/searoc/Documents/4-Envision/PSA/Data From PSA/DAQ&PMS Data from PSA/For Envison/PRD DAQ Files- Quay Cranes/PQC887/DAQ_Log-10-25-2019/Complete_DAQ_LOG_20191025_0500.csv is completed!\n",
      "/Users/searoc/Documents/4-Envision/PSA/Data From PSA/DAQ&PMS Data from PSA/For Envison/PRD DAQ Files- Quay Cranes/PQC887/DAQ_Log-10-25-2019/Complete_DAQ_LOG_20191025_0700.csv\n"
     ]
    },
    {
     "name": "stderr",
     "output_type": "stream",
     "text": [
      " 99% (7001 of 7008) |################### | Elapsed Time: 0:00:29 ETA:   0:00:00"
     ]
    },
    {
     "name": "stdout",
     "output_type": "stream",
     "text": [
      "Ingest /Users/searoc/Documents/4-Envision/PSA/Data From PSA/DAQ&PMS Data from PSA/For Envison/PRD DAQ Files- Quay Cranes/PQC887/DAQ_Log-10-25-2019/Complete_DAQ_LOG_20191025_0700.csv is completed!\n",
      "/Users/searoc/Documents/4-Envision/PSA/Data From PSA/DAQ&PMS Data from PSA/For Envison/PRD DAQ Files- Quay Cranes/PQC887/DAQ_Log-10-25-2019/Complete_DAQ_LOG_20191025_2300.csv\n"
     ]
    },
    {
     "name": "stderr",
     "output_type": "stream",
     "text": [
      " 98% (6901 of 7008) |################### | Elapsed Time: 0:00:33 ETA:   0:00:00"
     ]
    },
    {
     "name": "stdout",
     "output_type": "stream",
     "text": [
      "Ingest /Users/searoc/Documents/4-Envision/PSA/Data From PSA/DAQ&PMS Data from PSA/For Envison/PRD DAQ Files- Quay Cranes/PQC887/DAQ_Log-10-25-2019/Complete_DAQ_LOG_20191025_2300.csv is completed!\n",
      "/Users/searoc/Documents/4-Envision/PSA/Data From PSA/DAQ&PMS Data from PSA/For Envison/PRD DAQ Files- Quay Cranes/PQC887/DAQ_Log-10-25-2019/Complete_DAQ_LOG_20191025_0000.csv\n"
     ]
    },
    {
     "name": "stderr",
     "output_type": "stream",
     "text": [
      " 99% (7001 of 7006) |################### | Elapsed Time: 0:00:31 ETA:   0:00:00"
     ]
    },
    {
     "name": "stdout",
     "output_type": "stream",
     "text": [
      "Ingest /Users/searoc/Documents/4-Envision/PSA/Data From PSA/DAQ&PMS Data from PSA/For Envison/PRD DAQ Files- Quay Cranes/PQC887/DAQ_Log-10-25-2019/Complete_DAQ_LOG_20191025_0000.csv is completed!\n",
      "/Users/searoc/Documents/4-Envision/PSA/Data From PSA/DAQ&PMS Data from PSA/For Envison/PRD DAQ Files- Quay Cranes/PQC887/DAQ_Log-10-25-2019/Complete_DAQ_LOG_20191025_1900.csv\n"
     ]
    },
    {
     "name": "stderr",
     "output_type": "stream",
     "text": [
      " 98% (6901 of 7008) |################### | Elapsed Time: 0:00:27 ETA:   0:00:00"
     ]
    },
    {
     "name": "stdout",
     "output_type": "stream",
     "text": [
      "Ingest /Users/searoc/Documents/4-Envision/PSA/Data From PSA/DAQ&PMS Data from PSA/For Envison/PRD DAQ Files- Quay Cranes/PQC887/DAQ_Log-10-25-2019/Complete_DAQ_LOG_20191025_1900.csv is completed!\n",
      "/Users/searoc/Documents/4-Envision/PSA/Data From PSA/DAQ&PMS Data from PSA/For Envison/PRD DAQ Files- Quay Cranes/PQC887/DAQ_Log-10-25-2019/Complete_DAQ_LOG_20191025_0200.csv\n"
     ]
    },
    {
     "name": "stderr",
     "output_type": "stream",
     "text": [
      " 99% (7001 of 7008) |################### | Elapsed Time: 0:00:27 ETA:   0:00:00"
     ]
    },
    {
     "name": "stdout",
     "output_type": "stream",
     "text": [
      "Ingest /Users/searoc/Documents/4-Envision/PSA/Data From PSA/DAQ&PMS Data from PSA/For Envison/PRD DAQ Files- Quay Cranes/PQC887/DAQ_Log-10-25-2019/Complete_DAQ_LOG_20191025_0200.csv is completed!\n",
      "/Users/searoc/Documents/4-Envision/PSA/Data From PSA/DAQ&PMS Data from PSA/For Envison/PRD DAQ Files- Quay Cranes/PQC887/DAQ_Log-10-25-2019/Complete_DAQ_LOG_20191025_0600.csv\n"
     ]
    },
    {
     "name": "stderr",
     "output_type": "stream",
     "text": [
      " 99% (7001 of 7008) |################### | Elapsed Time: 0:00:30 ETA:   0:00:00"
     ]
    },
    {
     "name": "stdout",
     "output_type": "stream",
     "text": [
      "Ingest /Users/searoc/Documents/4-Envision/PSA/Data From PSA/DAQ&PMS Data from PSA/For Envison/PRD DAQ Files- Quay Cranes/PQC887/DAQ_Log-10-25-2019/Complete_DAQ_LOG_20191025_0600.csv is completed!\n",
      "/Users/searoc/Documents/4-Envision/PSA/Data From PSA/DAQ&PMS Data from PSA/For Envison/PRD DAQ Files- Quay Cranes/PQC887/DAQ_Log-10-25-2019/Complete_DAQ_LOG_20191025_2200.csv\n"
     ]
    },
    {
     "name": "stderr",
     "output_type": "stream",
     "text": [
      " 99% (7001 of 7008) |################### | Elapsed Time: 0:00:27 ETA:   0:00:00"
     ]
    },
    {
     "name": "stdout",
     "output_type": "stream",
     "text": [
      "Ingest /Users/searoc/Documents/4-Envision/PSA/Data From PSA/DAQ&PMS Data from PSA/For Envison/PRD DAQ Files- Quay Cranes/PQC887/DAQ_Log-10-25-2019/Complete_DAQ_LOG_20191025_2200.csv is completed!\n",
      "/Users/searoc/Documents/4-Envision/PSA/Data From PSA/DAQ&PMS Data from PSA/For Envison/PRD DAQ Files- Quay Cranes/PQC887/DAQ_Log-10-25-2019/Complete_DAQ_LOG_20191025_2000.csv\n"
     ]
    },
    {
     "name": "stderr",
     "output_type": "stream",
     "text": [
      " 99% (7001 of 7008) |################### | Elapsed Time: 0:00:30 ETA:   0:00:00"
     ]
    },
    {
     "name": "stdout",
     "output_type": "stream",
     "text": [
      "Ingest /Users/searoc/Documents/4-Envision/PSA/Data From PSA/DAQ&PMS Data from PSA/For Envison/PRD DAQ Files- Quay Cranes/PQC887/DAQ_Log-10-25-2019/Complete_DAQ_LOG_20191025_2000.csv is completed!\n",
      "/Users/searoc/Documents/4-Envision/PSA/Data From PSA/DAQ&PMS Data from PSA/For Envison/PRD DAQ Files- Quay Cranes/PQC887/DAQ_Log-10-25-2019/Complete_DAQ_LOG_20191025_0400.csv\n"
     ]
    },
    {
     "name": "stderr",
     "output_type": "stream",
     "text": [
      " 99% (7001 of 7008) |################### | Elapsed Time: 0:00:32 ETA:   0:00:00"
     ]
    },
    {
     "name": "stdout",
     "output_type": "stream",
     "text": [
      "Ingest /Users/searoc/Documents/4-Envision/PSA/Data From PSA/DAQ&PMS Data from PSA/For Envison/PRD DAQ Files- Quay Cranes/PQC887/DAQ_Log-10-25-2019/Complete_DAQ_LOG_20191025_0400.csv is completed!\n",
      "/Users/searoc/Documents/4-Envision/PSA/Data From PSA/DAQ&PMS Data from PSA/For Envison/PRD DAQ Files- Quay Cranes/PQC887/DAQ_Log-10-26-2019/Complete_DAQ_LOG_20191026_0700.csv\n"
     ]
    },
    {
     "name": "stderr",
     "output_type": "stream",
     "text": [
      " 98% (6901 of 7008) |################### | Elapsed Time: 0:00:29 ETA:   0:00:00"
     ]
    },
    {
     "name": "stdout",
     "output_type": "stream",
     "text": [
      "Ingest /Users/searoc/Documents/4-Envision/PSA/Data From PSA/DAQ&PMS Data from PSA/For Envison/PRD DAQ Files- Quay Cranes/PQC887/DAQ_Log-10-26-2019/Complete_DAQ_LOG_20191026_0700.csv is completed!\n",
      "/Users/searoc/Documents/4-Envision/PSA/Data From PSA/DAQ&PMS Data from PSA/For Envison/PRD DAQ Files- Quay Cranes/PQC887/DAQ_Log-10-26-2019/Complete_DAQ_LOG_20191026_2300.csv\n"
     ]
    },
    {
     "name": "stderr",
     "output_type": "stream",
     "text": [
      " 98% (6901 of 7008) |################### | Elapsed Time: 0:00:30 ETA:   0:00:00"
     ]
    },
    {
     "name": "stdout",
     "output_type": "stream",
     "text": [
      "Ingest /Users/searoc/Documents/4-Envision/PSA/Data From PSA/DAQ&PMS Data from PSA/For Envison/PRD DAQ Files- Quay Cranes/PQC887/DAQ_Log-10-26-2019/Complete_DAQ_LOG_20191026_2300.csv is completed!\n",
      "/Users/searoc/Documents/4-Envision/PSA/Data From PSA/DAQ&PMS Data from PSA/For Envison/PRD DAQ Files- Quay Cranes/PQC887/DAQ_Log-10-26-2019/Complete_DAQ_LOG_20191026_2100.csv\n"
     ]
    },
    {
     "name": "stderr",
     "output_type": "stream",
     "text": [
      " 99% (7001 of 7008) |################### | Elapsed Time: 0:00:29 ETA:   0:00:00"
     ]
    },
    {
     "name": "stdout",
     "output_type": "stream",
     "text": [
      "Ingest /Users/searoc/Documents/4-Envision/PSA/Data From PSA/DAQ&PMS Data from PSA/For Envison/PRD DAQ Files- Quay Cranes/PQC887/DAQ_Log-10-26-2019/Complete_DAQ_LOG_20191026_2100.csv is completed!\n",
      "/Users/searoc/Documents/4-Envision/PSA/Data From PSA/DAQ&PMS Data from PSA/For Envison/PRD DAQ Files- Quay Cranes/PQC887/DAQ_Log-10-26-2019/Complete_DAQ_LOG_20191026_0500.csv\n"
     ]
    },
    {
     "name": "stderr",
     "output_type": "stream",
     "text": [
      " 99% (7001 of 7008) |################### | Elapsed Time: 0:00:32 ETA:   0:00:00"
     ]
    },
    {
     "name": "stdout",
     "output_type": "stream",
     "text": [
      "Ingest /Users/searoc/Documents/4-Envision/PSA/Data From PSA/DAQ&PMS Data from PSA/For Envison/PRD DAQ Files- Quay Cranes/PQC887/DAQ_Log-10-26-2019/Complete_DAQ_LOG_20191026_0500.csv is completed!\n",
      "/Users/searoc/Documents/4-Envision/PSA/Data From PSA/DAQ&PMS Data from PSA/For Envison/PRD DAQ Files- Quay Cranes/PQC887/DAQ_Log-10-26-2019/Complete_DAQ_LOG_20191026_0100.csv\n"
     ]
    },
    {
     "name": "stderr",
     "output_type": "stream",
     "text": [
      " 99% (7001 of 7008) |################### | Elapsed Time: 0:00:31 ETA:   0:00:00"
     ]
    },
    {
     "name": "stdout",
     "output_type": "stream",
     "text": [
      "Ingest /Users/searoc/Documents/4-Envision/PSA/Data From PSA/DAQ&PMS Data from PSA/For Envison/PRD DAQ Files- Quay Cranes/PQC887/DAQ_Log-10-26-2019/Complete_DAQ_LOG_20191026_0100.csv is completed!\n",
      "/Users/searoc/Documents/4-Envision/PSA/Data From PSA/DAQ&PMS Data from PSA/For Envison/PRD DAQ Files- Quay Cranes/PQC887/DAQ_Log-10-26-2019/Complete_DAQ_LOG_20191026_1800.csv\n"
     ]
    },
    {
     "name": "stderr",
     "output_type": "stream",
     "text": [
      " 99% (7001 of 7008) |################### | Elapsed Time: 0:00:33 ETA:   0:00:00"
     ]
    },
    {
     "name": "stdout",
     "output_type": "stream",
     "text": [
      "Ingest /Users/searoc/Documents/4-Envision/PSA/Data From PSA/DAQ&PMS Data from PSA/For Envison/PRD DAQ Files- Quay Cranes/PQC887/DAQ_Log-10-26-2019/Complete_DAQ_LOG_20191026_1800.csv is completed!\n",
      "/Users/searoc/Documents/4-Envision/PSA/Data From PSA/DAQ&PMS Data from PSA/For Envison/PRD DAQ Files- Quay Cranes/PQC887/DAQ_Log-10-26-2019/Complete_DAQ_LOG_20191026_0300.csv\n"
     ]
    },
    {
     "name": "stderr",
     "output_type": "stream",
     "text": [
      " 99% (7001 of 7008) |################### | Elapsed Time: 0:00:32 ETA:   0:00:00"
     ]
    },
    {
     "name": "stdout",
     "output_type": "stream",
     "text": [
      "Ingest /Users/searoc/Documents/4-Envision/PSA/Data From PSA/DAQ&PMS Data from PSA/For Envison/PRD DAQ Files- Quay Cranes/PQC887/DAQ_Log-10-26-2019/Complete_DAQ_LOG_20191026_0300.csv is completed!\n",
      "/Users/searoc/Documents/4-Envision/PSA/Data From PSA/DAQ&PMS Data from PSA/For Envison/PRD DAQ Files- Quay Cranes/PQC887/DAQ_Log-10-26-2019/Complete_DAQ_LOG_20191026_2000.csv\n"
     ]
    },
    {
     "name": "stderr",
     "output_type": "stream",
     "text": [
      " 98% (6901 of 7008) |################### | Elapsed Time: 0:00:29 ETA:   0:00:00"
     ]
    },
    {
     "name": "stdout",
     "output_type": "stream",
     "text": [
      "Ingest /Users/searoc/Documents/4-Envision/PSA/Data From PSA/DAQ&PMS Data from PSA/For Envison/PRD DAQ Files- Quay Cranes/PQC887/DAQ_Log-10-26-2019/Complete_DAQ_LOG_20191026_2000.csv is completed!\n",
      "/Users/searoc/Documents/4-Envision/PSA/Data From PSA/DAQ&PMS Data from PSA/For Envison/PRD DAQ Files- Quay Cranes/PQC887/DAQ_Log-10-26-2019/Complete_DAQ_LOG_20191026_0400.csv\n"
     ]
    },
    {
     "name": "stderr",
     "output_type": "stream",
     "text": [
      " 99% (7001 of 7008) |################### | Elapsed Time: 0:00:34 ETA:   0:00:00"
     ]
    },
    {
     "name": "stdout",
     "output_type": "stream",
     "text": [
      "Ingest /Users/searoc/Documents/4-Envision/PSA/Data From PSA/DAQ&PMS Data from PSA/For Envison/PRD DAQ Files- Quay Cranes/PQC887/DAQ_Log-10-26-2019/Complete_DAQ_LOG_20191026_0400.csv is completed!\n",
      "/Users/searoc/Documents/4-Envision/PSA/Data From PSA/DAQ&PMS Data from PSA/For Envison/PRD DAQ Files- Quay Cranes/PQC887/DAQ_Log-10-26-2019/Complete_DAQ_LOG_20191026_0600.csv\n"
     ]
    },
    {
     "name": "stderr",
     "output_type": "stream",
     "text": [
      " 99% (7001 of 7008) |################### | Elapsed Time: 0:00:31 ETA:   0:00:00"
     ]
    },
    {
     "name": "stdout",
     "output_type": "stream",
     "text": [
      "Ingest /Users/searoc/Documents/4-Envision/PSA/Data From PSA/DAQ&PMS Data from PSA/For Envison/PRD DAQ Files- Quay Cranes/PQC887/DAQ_Log-10-26-2019/Complete_DAQ_LOG_20191026_0600.csv is completed!\n",
      "/Users/searoc/Documents/4-Envision/PSA/Data From PSA/DAQ&PMS Data from PSA/For Envison/PRD DAQ Files- Quay Cranes/PQC887/DAQ_Log-10-26-2019/Complete_DAQ_LOG_20191026_2200.csv\n"
     ]
    },
    {
     "name": "stderr",
     "output_type": "stream",
     "text": [
      " 99% (7001 of 7008) |################### | Elapsed Time: 0:00:31 ETA:   0:00:00"
     ]
    },
    {
     "name": "stdout",
     "output_type": "stream",
     "text": [
      "Ingest /Users/searoc/Documents/4-Envision/PSA/Data From PSA/DAQ&PMS Data from PSA/For Envison/PRD DAQ Files- Quay Cranes/PQC887/DAQ_Log-10-26-2019/Complete_DAQ_LOG_20191026_2200.csv is completed!\n",
      "/Users/searoc/Documents/4-Envision/PSA/Data From PSA/DAQ&PMS Data from PSA/For Envison/PRD DAQ Files- Quay Cranes/PQC887/DAQ_Log-10-26-2019/Complete_DAQ_LOG_20191026_0200.csv\n"
     ]
    },
    {
     "name": "stderr",
     "output_type": "stream",
     "text": [
      "b'Skipping line 5232: expected 3754 fields, saw 5989\\n'\n",
      " 99% (7001 of 7005) |################### | Elapsed Time: 0:00:55 ETA:   0:00:00"
     ]
    },
    {
     "name": "stdout",
     "output_type": "stream",
     "text": [
      "Ingest /Users/searoc/Documents/4-Envision/PSA/Data From PSA/DAQ&PMS Data from PSA/For Envison/PRD DAQ Files- Quay Cranes/PQC887/DAQ_Log-10-26-2019/Complete_DAQ_LOG_20191026_0200.csv is completed!\n",
      "/Users/searoc/Documents/4-Envision/PSA/Data From PSA/DAQ&PMS Data from PSA/For Envison/PRD DAQ Files- Quay Cranes/PQC887/DAQ_Log-10-26-2019/Complete_DAQ_LOG_20191026_0000.csv\n"
     ]
    },
    {
     "name": "stderr",
     "output_type": "stream",
     "text": [
      " 99% (7001 of 7008) |################### | Elapsed Time: 0:00:37 ETA:   0:00:00"
     ]
    },
    {
     "name": "stdout",
     "output_type": "stream",
     "text": [
      "Ingest /Users/searoc/Documents/4-Envision/PSA/Data From PSA/DAQ&PMS Data from PSA/For Envison/PRD DAQ Files- Quay Cranes/PQC887/DAQ_Log-10-26-2019/Complete_DAQ_LOG_20191026_0000.csv is completed!\n",
      "/Users/searoc/Documents/4-Envision/PSA/Data From PSA/DAQ&PMS Data from PSA/For Envison/PRD DAQ Files- Quay Cranes/PQC887/DAQ_Log-10-26-2019/Complete_DAQ_LOG_20191026_1900.csv\n"
     ]
    },
    {
     "name": "stderr",
     "output_type": "stream",
     "text": [
      " 99% (7001 of 7008) |################### | Elapsed Time: 0:00:30 ETA:   0:00:00"
     ]
    },
    {
     "name": "stdout",
     "output_type": "stream",
     "text": [
      "Ingest /Users/searoc/Documents/4-Envision/PSA/Data From PSA/DAQ&PMS Data from PSA/For Envison/PRD DAQ Files- Quay Cranes/PQC887/DAQ_Log-10-26-2019/Complete_DAQ_LOG_20191026_1900.csv is completed!\n",
      "/Users/searoc/Documents/4-Envision/PSA/Data From PSA/DAQ&PMS Data from PSA/For Envison/PRD DAQ Files- Quay Cranes/PQC887/DAQ_Log-10-26-2019/Complete_DAQ_LOG_20191026_1500.csv\n"
     ]
    },
    {
     "name": "stderr",
     "output_type": "stream",
     "text": [
      " 99% (7001 of 7008) |################### | Elapsed Time: 0:00:34 ETA:   0:00:00"
     ]
    },
    {
     "name": "stdout",
     "output_type": "stream",
     "text": [
      "Ingest /Users/searoc/Documents/4-Envision/PSA/Data From PSA/DAQ&PMS Data from PSA/For Envison/PRD DAQ Files- Quay Cranes/PQC887/DAQ_Log-10-26-2019/Complete_DAQ_LOG_20191026_1500.csv is completed!\n",
      "/Users/searoc/Documents/4-Envision/PSA/Data From PSA/DAQ&PMS Data from PSA/For Envison/PRD DAQ Files- Quay Cranes/PQC887/DAQ_Log-10-26-2019/Complete_DAQ_LOG_20191026_1700.csv\n"
     ]
    },
    {
     "name": "stderr",
     "output_type": "stream",
     "text": [
      " 99% (7001 of 7008) |################### | Elapsed Time: 0:00:36 ETA:   0:00:00"
     ]
    },
    {
     "name": "stdout",
     "output_type": "stream",
     "text": [
      "Ingest /Users/searoc/Documents/4-Envision/PSA/Data From PSA/DAQ&PMS Data from PSA/For Envison/PRD DAQ Files- Quay Cranes/PQC887/DAQ_Log-10-26-2019/Complete_DAQ_LOG_20191026_1700.csv is completed!\n",
      "/Users/searoc/Documents/4-Envision/PSA/Data From PSA/DAQ&PMS Data from PSA/For Envison/PRD DAQ Files- Quay Cranes/PQC887/DAQ_Log-10-26-2019/Complete_DAQ_LOG_20191026_1300.csv\n"
     ]
    },
    {
     "name": "stderr",
     "output_type": "stream",
     "text": [
      " 99% (7001 of 7008) |################### | Elapsed Time: 0:00:35 ETA:   0:00:00"
     ]
    },
    {
     "name": "stdout",
     "output_type": "stream",
     "text": [
      "Ingest /Users/searoc/Documents/4-Envision/PSA/Data From PSA/DAQ&PMS Data from PSA/For Envison/PRD DAQ Files- Quay Cranes/PQC887/DAQ_Log-10-26-2019/Complete_DAQ_LOG_20191026_1300.csv is completed!\n",
      "/Users/searoc/Documents/4-Envision/PSA/Data From PSA/DAQ&PMS Data from PSA/For Envison/PRD DAQ Files- Quay Cranes/PQC887/DAQ_Log-10-26-2019/Complete_DAQ_LOG_20191026_0800.csv\n"
     ]
    },
    {
     "name": "stderr",
     "output_type": "stream",
     "text": [
      " 99% (7001 of 7008) |################### | Elapsed Time: 0:00:36 ETA:   0:00:00"
     ]
    },
    {
     "name": "stdout",
     "output_type": "stream",
     "text": [
      "Ingest /Users/searoc/Documents/4-Envision/PSA/Data From PSA/DAQ&PMS Data from PSA/For Envison/PRD DAQ Files- Quay Cranes/PQC887/DAQ_Log-10-26-2019/Complete_DAQ_LOG_20191026_0800.csv is completed!\n",
      "/Users/searoc/Documents/4-Envision/PSA/Data From PSA/DAQ&PMS Data from PSA/For Envison/PRD DAQ Files- Quay Cranes/PQC887/DAQ_Log-10-26-2019/Complete_DAQ_LOG_20191026_1100.csv\n"
     ]
    },
    {
     "name": "stderr",
     "output_type": "stream",
     "text": [
      " 99% (7001 of 7008) |################### | Elapsed Time: 0:00:35 ETA:   0:00:00"
     ]
    },
    {
     "name": "stdout",
     "output_type": "stream",
     "text": [
      "Ingest /Users/searoc/Documents/4-Envision/PSA/Data From PSA/DAQ&PMS Data from PSA/For Envison/PRD DAQ Files- Quay Cranes/PQC887/DAQ_Log-10-26-2019/Complete_DAQ_LOG_20191026_1100.csv is completed!\n",
      "/Users/searoc/Documents/4-Envision/PSA/Data From PSA/DAQ&PMS Data from PSA/For Envison/PRD DAQ Files- Quay Cranes/PQC887/DAQ_Log-10-26-2019/Complete_DAQ_LOG_20191026_1600.csv\n"
     ]
    },
    {
     "name": "stderr",
     "output_type": "stream",
     "text": [
      " 98% (6901 of 7008) |################### | Elapsed Time: 0:00:41 ETA:   0:00:00"
     ]
    },
    {
     "name": "stdout",
     "output_type": "stream",
     "text": [
      "Ingest /Users/searoc/Documents/4-Envision/PSA/Data From PSA/DAQ&PMS Data from PSA/For Envison/PRD DAQ Files- Quay Cranes/PQC887/DAQ_Log-10-26-2019/Complete_DAQ_LOG_20191026_1600.csv is completed!\n",
      "/Users/searoc/Documents/4-Envision/PSA/Data From PSA/DAQ&PMS Data from PSA/For Envison/PRD DAQ Files- Quay Cranes/PQC887/DAQ_Log-10-26-2019/Complete_DAQ_LOG_20191026_1400.csv\n"
     ]
    },
    {
     "name": "stderr",
     "output_type": "stream",
     "text": [
      " 99% (7001 of 7008) |################### | Elapsed Time: 0:00:36 ETA:   0:00:00"
     ]
    },
    {
     "name": "stdout",
     "output_type": "stream",
     "text": [
      "Ingest /Users/searoc/Documents/4-Envision/PSA/Data From PSA/DAQ&PMS Data from PSA/For Envison/PRD DAQ Files- Quay Cranes/PQC887/DAQ_Log-10-26-2019/Complete_DAQ_LOG_20191026_1400.csv is completed!\n",
      "/Users/searoc/Documents/4-Envision/PSA/Data From PSA/DAQ&PMS Data from PSA/For Envison/PRD DAQ Files- Quay Cranes/PQC887/DAQ_Log-10-26-2019/Complete_DAQ_LOG_20191026_0900.csv\n"
     ]
    },
    {
     "name": "stderr",
     "output_type": "stream",
     "text": [
      " 99% (7001 of 7008) |################### | Elapsed Time: 0:00:31 ETA:   0:00:00"
     ]
    },
    {
     "name": "stdout",
     "output_type": "stream",
     "text": [
      "Ingest /Users/searoc/Documents/4-Envision/PSA/Data From PSA/DAQ&PMS Data from PSA/For Envison/PRD DAQ Files- Quay Cranes/PQC887/DAQ_Log-10-26-2019/Complete_DAQ_LOG_20191026_0900.csv is completed!\n",
      "/Users/searoc/Documents/4-Envision/PSA/Data From PSA/DAQ&PMS Data from PSA/For Envison/PRD DAQ Files- Quay Cranes/PQC887/DAQ_Log-10-26-2019/Complete_DAQ_LOG_20191026_1000.csv\n"
     ]
    },
    {
     "name": "stderr",
     "output_type": "stream",
     "text": [
      " 99% (7001 of 7008) |################### | Elapsed Time: 0:00:30 ETA:   0:00:00"
     ]
    },
    {
     "name": "stdout",
     "output_type": "stream",
     "text": [
      "Ingest /Users/searoc/Documents/4-Envision/PSA/Data From PSA/DAQ&PMS Data from PSA/For Envison/PRD DAQ Files- Quay Cranes/PQC887/DAQ_Log-10-26-2019/Complete_DAQ_LOG_20191026_1000.csv is completed!\n",
      "/Users/searoc/Documents/4-Envision/PSA/Data From PSA/DAQ&PMS Data from PSA/For Envison/PRD DAQ Files- Quay Cranes/PQC887/DAQ_Log-10-26-2019/Complete_DAQ_LOG_20191026_1200.csv\n"
     ]
    },
    {
     "name": "stderr",
     "output_type": "stream",
     "text": [
      " 99% (7001 of 7008) |################### | Elapsed Time: 0:00:37 ETA:   0:00:00"
     ]
    },
    {
     "name": "stdout",
     "output_type": "stream",
     "text": [
      "Ingest /Users/searoc/Documents/4-Envision/PSA/Data From PSA/DAQ&PMS Data from PSA/For Envison/PRD DAQ Files- Quay Cranes/PQC887/DAQ_Log-10-26-2019/Complete_DAQ_LOG_20191026_1200.csv is completed!\n"
     ]
    }
   ],
   "source": [
    "# Information of es cluseter\n",
    "index = 'raw_daq_index'\n",
    "\n",
    "ingest_from_folder(filePath, es_host, index)"
   ]
  },
  {
   "cell_type": "code",
   "execution_count": 29,
   "metadata": {},
   "outputs": [
    {
     "data": {
      "text/html": [
       "<div>\n",
       "<style scoped>\n",
       "    .dataframe tbody tr th:only-of-type {\n",
       "        vertical-align: middle;\n",
       "    }\n",
       "\n",
       "    .dataframe tbody tr th {\n",
       "        vertical-align: top;\n",
       "    }\n",
       "\n",
       "    .dataframe thead th {\n",
       "        text-align: right;\n",
       "    }\n",
       "</style>\n",
       "<table border=\"1\" class=\"dataframe\">\n",
       "  <thead>\n",
       "    <tr style=\"text-align: right;\">\n",
       "      <th></th>\n",
       "      <th>Weight</th>\n",
       "      <th>Frequency</th>\n",
       "      <th>Spreader_20FT</th>\n",
       "      <th>Spreader_40FT</th>\n",
       "      <th>Spreader_45FT</th>\n",
       "      <th>Spreader_Twin</th>\n",
       "      <th>OT_Control STS_Hoist Up (Controller)</th>\n",
       "      <th>OT_Control STS_Hoist Down (Controller)</th>\n",
       "      <th>OT_Control STS_Trolley Forward (Controller)</th>\n",
       "      <th>OT_Control STS_Trolley Reverse (Controller)</th>\n",
       "      <th>...</th>\n",
       "      <th>OT_Control STS_Gantry Right (Controller)</th>\n",
       "      <th>OT_Control STS_Gantry Left (Controller)</th>\n",
       "      <th>OT_Control STS_Boom Up (Controller)</th>\n",
       "      <th>OT_Control STS_Boom Down (Controller)</th>\n",
       "      <th>Trolley Position</th>\n",
       "      <th>Load Cell1 Data</th>\n",
       "      <th>Load Cell2 Data</th>\n",
       "      <th>Load Cell3 Data</th>\n",
       "      <th>Load Cell4 Data</th>\n",
       "      <th>SP STS_Landed</th>\n",
       "    </tr>\n",
       "  </thead>\n",
       "  <tbody>\n",
       "    <tr>\n",
       "      <th>0</th>\n",
       "      <td>-1189</td>\n",
       "      <td>5003</td>\n",
       "      <td>0</td>\n",
       "      <td>1</td>\n",
       "      <td>0</td>\n",
       "      <td>0</td>\n",
       "      <td>0</td>\n",
       "      <td>0</td>\n",
       "      <td>0</td>\n",
       "      <td>0</td>\n",
       "      <td>...</td>\n",
       "      <td>0</td>\n",
       "      <td>0</td>\n",
       "      <td>0</td>\n",
       "      <td>0</td>\n",
       "      <td>5422</td>\n",
       "      <td>184</td>\n",
       "      <td>159</td>\n",
       "      <td>210</td>\n",
       "      <td>158</td>\n",
       "      <td>1</td>\n",
       "    </tr>\n",
       "    <tr>\n",
       "      <th>1</th>\n",
       "      <td>-1151</td>\n",
       "      <td>5003</td>\n",
       "      <td>0</td>\n",
       "      <td>1</td>\n",
       "      <td>0</td>\n",
       "      <td>0</td>\n",
       "      <td>0</td>\n",
       "      <td>0</td>\n",
       "      <td>0</td>\n",
       "      <td>0</td>\n",
       "      <td>...</td>\n",
       "      <td>0</td>\n",
       "      <td>0</td>\n",
       "      <td>0</td>\n",
       "      <td>0</td>\n",
       "      <td>5422</td>\n",
       "      <td>199</td>\n",
       "      <td>173</td>\n",
       "      <td>223</td>\n",
       "      <td>154</td>\n",
       "      <td>1</td>\n",
       "    </tr>\n",
       "    <tr>\n",
       "      <th>2</th>\n",
       "      <td>-1197</td>\n",
       "      <td>5004</td>\n",
       "      <td>0</td>\n",
       "      <td>1</td>\n",
       "      <td>0</td>\n",
       "      <td>0</td>\n",
       "      <td>0</td>\n",
       "      <td>0</td>\n",
       "      <td>0</td>\n",
       "      <td>0</td>\n",
       "      <td>...</td>\n",
       "      <td>0</td>\n",
       "      <td>0</td>\n",
       "      <td>0</td>\n",
       "      <td>0</td>\n",
       "      <td>5422</td>\n",
       "      <td>187</td>\n",
       "      <td>149</td>\n",
       "      <td>202</td>\n",
       "      <td>165</td>\n",
       "      <td>1</td>\n",
       "    </tr>\n",
       "    <tr>\n",
       "      <th>3</th>\n",
       "      <td>-1157</td>\n",
       "      <td>5004</td>\n",
       "      <td>0</td>\n",
       "      <td>1</td>\n",
       "      <td>0</td>\n",
       "      <td>0</td>\n",
       "      <td>0</td>\n",
       "      <td>0</td>\n",
       "      <td>0</td>\n",
       "      <td>0</td>\n",
       "      <td>...</td>\n",
       "      <td>0</td>\n",
       "      <td>0</td>\n",
       "      <td>0</td>\n",
       "      <td>0</td>\n",
       "      <td>5422</td>\n",
       "      <td>195</td>\n",
       "      <td>166</td>\n",
       "      <td>217</td>\n",
       "      <td>165</td>\n",
       "      <td>1</td>\n",
       "    </tr>\n",
       "    <tr>\n",
       "      <th>4</th>\n",
       "      <td>-1167</td>\n",
       "      <td>5004</td>\n",
       "      <td>0</td>\n",
       "      <td>1</td>\n",
       "      <td>0</td>\n",
       "      <td>0</td>\n",
       "      <td>1</td>\n",
       "      <td>0</td>\n",
       "      <td>0</td>\n",
       "      <td>0</td>\n",
       "      <td>...</td>\n",
       "      <td>0</td>\n",
       "      <td>0</td>\n",
       "      <td>0</td>\n",
       "      <td>0</td>\n",
       "      <td>5422</td>\n",
       "      <td>188</td>\n",
       "      <td>167</td>\n",
       "      <td>220</td>\n",
       "      <td>158</td>\n",
       "      <td>1</td>\n",
       "    </tr>\n",
       "    <tr>\n",
       "      <th>...</th>\n",
       "      <td>...</td>\n",
       "      <td>...</td>\n",
       "      <td>...</td>\n",
       "      <td>...</td>\n",
       "      <td>...</td>\n",
       "      <td>...</td>\n",
       "      <td>...</td>\n",
       "      <td>...</td>\n",
       "      <td>...</td>\n",
       "      <td>...</td>\n",
       "      <td>...</td>\n",
       "      <td>...</td>\n",
       "      <td>...</td>\n",
       "      <td>...</td>\n",
       "      <td>...</td>\n",
       "      <td>...</td>\n",
       "      <td>...</td>\n",
       "      <td>...</td>\n",
       "      <td>...</td>\n",
       "      <td>...</td>\n",
       "      <td>...</td>\n",
       "    </tr>\n",
       "    <tr>\n",
       "      <th>7012</th>\n",
       "      <td>6435</td>\n",
       "      <td>5003</td>\n",
       "      <td>0</td>\n",
       "      <td>1</td>\n",
       "      <td>0</td>\n",
       "      <td>1</td>\n",
       "      <td>0</td>\n",
       "      <td>0</td>\n",
       "      <td>0</td>\n",
       "      <td>0</td>\n",
       "      <td>...</td>\n",
       "      <td>0</td>\n",
       "      <td>0</td>\n",
       "      <td>0</td>\n",
       "      <td>0</td>\n",
       "      <td>3864</td>\n",
       "      <td>2194</td>\n",
       "      <td>1928</td>\n",
       "      <td>1987</td>\n",
       "      <td>2226</td>\n",
       "      <td>0</td>\n",
       "    </tr>\n",
       "    <tr>\n",
       "      <th>7013</th>\n",
       "      <td>6216</td>\n",
       "      <td>5003</td>\n",
       "      <td>0</td>\n",
       "      <td>1</td>\n",
       "      <td>0</td>\n",
       "      <td>1</td>\n",
       "      <td>0</td>\n",
       "      <td>0</td>\n",
       "      <td>0</td>\n",
       "      <td>0</td>\n",
       "      <td>...</td>\n",
       "      <td>0</td>\n",
       "      <td>0</td>\n",
       "      <td>0</td>\n",
       "      <td>0</td>\n",
       "      <td>3864</td>\n",
       "      <td>2134</td>\n",
       "      <td>1873</td>\n",
       "      <td>1937</td>\n",
       "      <td>2172</td>\n",
       "      <td>0</td>\n",
       "    </tr>\n",
       "    <tr>\n",
       "      <th>7014</th>\n",
       "      <td>6377</td>\n",
       "      <td>5003</td>\n",
       "      <td>0</td>\n",
       "      <td>1</td>\n",
       "      <td>0</td>\n",
       "      <td>1</td>\n",
       "      <td>0</td>\n",
       "      <td>0</td>\n",
       "      <td>0</td>\n",
       "      <td>0</td>\n",
       "      <td>...</td>\n",
       "      <td>0</td>\n",
       "      <td>0</td>\n",
       "      <td>0</td>\n",
       "      <td>0</td>\n",
       "      <td>3864</td>\n",
       "      <td>2169</td>\n",
       "      <td>1914</td>\n",
       "      <td>1988</td>\n",
       "      <td>2206</td>\n",
       "      <td>0</td>\n",
       "    </tr>\n",
       "    <tr>\n",
       "      <th>7015</th>\n",
       "      <td>6276</td>\n",
       "      <td>5003</td>\n",
       "      <td>0</td>\n",
       "      <td>1</td>\n",
       "      <td>0</td>\n",
       "      <td>1</td>\n",
       "      <td>0</td>\n",
       "      <td>0</td>\n",
       "      <td>0</td>\n",
       "      <td>0</td>\n",
       "      <td>...</td>\n",
       "      <td>0</td>\n",
       "      <td>0</td>\n",
       "      <td>0</td>\n",
       "      <td>0</td>\n",
       "      <td>3864</td>\n",
       "      <td>2146</td>\n",
       "      <td>1885</td>\n",
       "      <td>1953</td>\n",
       "      <td>2192</td>\n",
       "      <td>0</td>\n",
       "    </tr>\n",
       "    <tr>\n",
       "      <th>7016</th>\n",
       "      <td>6319</td>\n",
       "      <td>5003</td>\n",
       "      <td>0</td>\n",
       "      <td>1</td>\n",
       "      <td>0</td>\n",
       "      <td>1</td>\n",
       "      <td>0</td>\n",
       "      <td>0</td>\n",
       "      <td>0</td>\n",
       "      <td>0</td>\n",
       "      <td>...</td>\n",
       "      <td>0</td>\n",
       "      <td>0</td>\n",
       "      <td>0</td>\n",
       "      <td>0</td>\n",
       "      <td>3864</td>\n",
       "      <td>2154</td>\n",
       "      <td>1897</td>\n",
       "      <td>1972</td>\n",
       "      <td>2196</td>\n",
       "      <td>0</td>\n",
       "    </tr>\n",
       "  </tbody>\n",
       "</table>\n",
       "<p>7017 rows × 36 columns</p>\n",
       "</div>"
      ],
      "text/plain": [
       "      Weight  Frequency  Spreader_20FT  Spreader_40FT  Spreader_45FT  \\\n",
       "0      -1189       5003              0              1              0   \n",
       "1      -1151       5003              0              1              0   \n",
       "2      -1197       5004              0              1              0   \n",
       "3      -1157       5004              0              1              0   \n",
       "4      -1167       5004              0              1              0   \n",
       "...      ...        ...            ...            ...            ...   \n",
       "7012    6435       5003              0              1              0   \n",
       "7013    6216       5003              0              1              0   \n",
       "7014    6377       5003              0              1              0   \n",
       "7015    6276       5003              0              1              0   \n",
       "7016    6319       5003              0              1              0   \n",
       "\n",
       "      Spreader_Twin  OT_Control STS_Hoist Up (Controller)  \\\n",
       "0                 0                                     0   \n",
       "1                 0                                     0   \n",
       "2                 0                                     0   \n",
       "3                 0                                     0   \n",
       "4                 0                                     1   \n",
       "...             ...                                   ...   \n",
       "7012              1                                     0   \n",
       "7013              1                                     0   \n",
       "7014              1                                     0   \n",
       "7015              1                                     0   \n",
       "7016              1                                     0   \n",
       "\n",
       "      OT_Control STS_Hoist Down (Controller)  \\\n",
       "0                                          0   \n",
       "1                                          0   \n",
       "2                                          0   \n",
       "3                                          0   \n",
       "4                                          0   \n",
       "...                                      ...   \n",
       "7012                                       0   \n",
       "7013                                       0   \n",
       "7014                                       0   \n",
       "7015                                       0   \n",
       "7016                                       0   \n",
       "\n",
       "      OT_Control STS_Trolley Forward (Controller)  \\\n",
       "0                                               0   \n",
       "1                                               0   \n",
       "2                                               0   \n",
       "3                                               0   \n",
       "4                                               0   \n",
       "...                                           ...   \n",
       "7012                                            0   \n",
       "7013                                            0   \n",
       "7014                                            0   \n",
       "7015                                            0   \n",
       "7016                                            0   \n",
       "\n",
       "      OT_Control STS_Trolley Reverse (Controller)  ...  \\\n",
       "0                                               0  ...   \n",
       "1                                               0  ...   \n",
       "2                                               0  ...   \n",
       "3                                               0  ...   \n",
       "4                                               0  ...   \n",
       "...                                           ...  ...   \n",
       "7012                                            0  ...   \n",
       "7013                                            0  ...   \n",
       "7014                                            0  ...   \n",
       "7015                                            0  ...   \n",
       "7016                                            0  ...   \n",
       "\n",
       "      OT_Control STS_Gantry Right (Controller)  \\\n",
       "0                                            0   \n",
       "1                                            0   \n",
       "2                                            0   \n",
       "3                                            0   \n",
       "4                                            0   \n",
       "...                                        ...   \n",
       "7012                                         0   \n",
       "7013                                         0   \n",
       "7014                                         0   \n",
       "7015                                         0   \n",
       "7016                                         0   \n",
       "\n",
       "      OT_Control STS_Gantry Left (Controller)  \\\n",
       "0                                           0   \n",
       "1                                           0   \n",
       "2                                           0   \n",
       "3                                           0   \n",
       "4                                           0   \n",
       "...                                       ...   \n",
       "7012                                        0   \n",
       "7013                                        0   \n",
       "7014                                        0   \n",
       "7015                                        0   \n",
       "7016                                        0   \n",
       "\n",
       "      OT_Control STS_Boom Up (Controller)  \\\n",
       "0                                       0   \n",
       "1                                       0   \n",
       "2                                       0   \n",
       "3                                       0   \n",
       "4                                       0   \n",
       "...                                   ...   \n",
       "7012                                    0   \n",
       "7013                                    0   \n",
       "7014                                    0   \n",
       "7015                                    0   \n",
       "7016                                    0   \n",
       "\n",
       "      OT_Control STS_Boom Down (Controller)  Trolley Position  \\\n",
       "0                                         0              5422   \n",
       "1                                         0              5422   \n",
       "2                                         0              5422   \n",
       "3                                         0              5422   \n",
       "4                                         0              5422   \n",
       "...                                     ...               ...   \n",
       "7012                                      0              3864   \n",
       "7013                                      0              3864   \n",
       "7014                                      0              3864   \n",
       "7015                                      0              3864   \n",
       "7016                                      0              3864   \n",
       "\n",
       "      Load Cell1 Data  Load Cell2 Data  Load Cell3 Data  Load Cell4 Data  \\\n",
       "0                 184              159              210              158   \n",
       "1                 199              173              223              154   \n",
       "2                 187              149              202              165   \n",
       "3                 195              166              217              165   \n",
       "4                 188              167              220              158   \n",
       "...               ...              ...              ...              ...   \n",
       "7012             2194             1928             1987             2226   \n",
       "7013             2134             1873             1937             2172   \n",
       "7014             2169             1914             1988             2206   \n",
       "7015             2146             1885             1953             2192   \n",
       "7016             2154             1897             1972             2196   \n",
       "\n",
       "      SP STS_Landed  \n",
       "0                 1  \n",
       "1                 1  \n",
       "2                 1  \n",
       "3                 1  \n",
       "4                 1  \n",
       "...             ...  \n",
       "7012              0  \n",
       "7013              0  \n",
       "7014              0  \n",
       "7015              0  \n",
       "7016              0  \n",
       "\n",
       "[7017 rows x 36 columns]"
      ]
     },
     "metadata": {},
     "output_type": "display_data"
    },
    {
     "ename": "KeyError",
     "evalue": "'Date'",
     "output_type": "error",
     "traceback": [
      "\u001b[0;31m---------------------------------------------------------------------------\u001b[0m",
      "\u001b[0;31mKeyError\u001b[0m                                  Traceback (most recent call last)",
      "\u001b[0;32m/Library/Frameworks/Python.framework/Versions/3.7/lib/python3.7/site-packages/pandas/core/indexes/base.py\u001b[0m in \u001b[0;36mget_loc\u001b[0;34m(self, key, method, tolerance)\u001b[0m\n\u001b[1;32m   2894\u001b[0m             \u001b[0;32mtry\u001b[0m\u001b[0;34m:\u001b[0m\u001b[0;34m\u001b[0m\u001b[0;34m\u001b[0m\u001b[0m\n\u001b[0;32m-> 2895\u001b[0;31m                 \u001b[0;32mreturn\u001b[0m \u001b[0mself\u001b[0m\u001b[0;34m.\u001b[0m\u001b[0m_engine\u001b[0m\u001b[0;34m.\u001b[0m\u001b[0mget_loc\u001b[0m\u001b[0;34m(\u001b[0m\u001b[0mcasted_key\u001b[0m\u001b[0;34m)\u001b[0m\u001b[0;34m\u001b[0m\u001b[0;34m\u001b[0m\u001b[0m\n\u001b[0m\u001b[1;32m   2896\u001b[0m             \u001b[0;32mexcept\u001b[0m \u001b[0mKeyError\u001b[0m \u001b[0;32mas\u001b[0m \u001b[0merr\u001b[0m\u001b[0;34m:\u001b[0m\u001b[0;34m\u001b[0m\u001b[0;34m\u001b[0m\u001b[0m\n",
      "\u001b[0;32mpandas/_libs/index.pyx\u001b[0m in \u001b[0;36mpandas._libs.index.IndexEngine.get_loc\u001b[0;34m()\u001b[0m\n",
      "\u001b[0;32mpandas/_libs/index.pyx\u001b[0m in \u001b[0;36mpandas._libs.index.IndexEngine.get_loc\u001b[0;34m()\u001b[0m\n",
      "\u001b[0;32mpandas/_libs/hashtable_class_helper.pxi\u001b[0m in \u001b[0;36mpandas._libs.hashtable.PyObjectHashTable.get_item\u001b[0;34m()\u001b[0m\n",
      "\u001b[0;32mpandas/_libs/hashtable_class_helper.pxi\u001b[0m in \u001b[0;36mpandas._libs.hashtable.PyObjectHashTable.get_item\u001b[0;34m()\u001b[0m\n",
      "\u001b[0;31mKeyError\u001b[0m: 'Date'",
      "\nThe above exception was the direct cause of the following exception:\n",
      "\u001b[0;31mKeyError\u001b[0m                                  Traceback (most recent call last)",
      "\u001b[0;32m<ipython-input-29-3b8240dcc522>\u001b[0m in \u001b[0;36m<module>\u001b[0;34m\u001b[0m\n\u001b[1;32m      4\u001b[0m \u001b[0mdisplay\u001b[0m\u001b[0;34m(\u001b[0m\u001b[0mds_\u001b[0m\u001b[0;34m)\u001b[0m\u001b[0;34m\u001b[0m\u001b[0;34m\u001b[0m\u001b[0m\n\u001b[1;32m      5\u001b[0m \u001b[0;34m\u001b[0m\u001b[0m\n\u001b[0;32m----> 6\u001b[0;31m \u001b[0mds_\u001b[0m\u001b[0;34m[\u001b[0m\u001b[0;34m'timestamp'\u001b[0m\u001b[0;34m]\u001b[0m \u001b[0;34m=\u001b[0m \u001b[0mds_\u001b[0m\u001b[0;34m[\u001b[0m\u001b[0;34m'Date'\u001b[0m\u001b[0;34m]\u001b[0m\u001b[0;34m.\u001b[0m\u001b[0mastype\u001b[0m\u001b[0;34m(\u001b[0m\u001b[0mstr\u001b[0m\u001b[0;34m)\u001b[0m \u001b[0;34m+\u001b[0m \u001b[0;34m' '\u001b[0m \u001b[0;34m+\u001b[0m \u001b[0mds_\u001b[0m\u001b[0;34m[\u001b[0m\u001b[0;34m'Time'\u001b[0m\u001b[0;34m]\u001b[0m\u001b[0;34m\u001b[0m\u001b[0;34m\u001b[0m\u001b[0m\n\u001b[0m\u001b[1;32m      7\u001b[0m \u001b[0mds_\u001b[0m\u001b[0;34m.\u001b[0m\u001b[0mdrop\u001b[0m\u001b[0;34m(\u001b[0m\u001b[0;34m[\u001b[0m\u001b[0;34m'Date'\u001b[0m\u001b[0;34m,\u001b[0m \u001b[0;34m'Time'\u001b[0m\u001b[0;34m]\u001b[0m\u001b[0;34m,\u001b[0m \u001b[0maxis\u001b[0m\u001b[0;34m=\u001b[0m\u001b[0;36m1\u001b[0m\u001b[0;34m)\u001b[0m\u001b[0;34m\u001b[0m\u001b[0;34m\u001b[0m\u001b[0m\n\u001b[1;32m      8\u001b[0m \u001b[0;34m\u001b[0m\u001b[0m\n",
      "\u001b[0;32m/Library/Frameworks/Python.framework/Versions/3.7/lib/python3.7/site-packages/pandas/core/frame.py\u001b[0m in \u001b[0;36m__getitem__\u001b[0;34m(self, key)\u001b[0m\n\u001b[1;32m   2904\u001b[0m             \u001b[0;32mif\u001b[0m \u001b[0mself\u001b[0m\u001b[0;34m.\u001b[0m\u001b[0mcolumns\u001b[0m\u001b[0;34m.\u001b[0m\u001b[0mnlevels\u001b[0m \u001b[0;34m>\u001b[0m \u001b[0;36m1\u001b[0m\u001b[0;34m:\u001b[0m\u001b[0;34m\u001b[0m\u001b[0;34m\u001b[0m\u001b[0m\n\u001b[1;32m   2905\u001b[0m                 \u001b[0;32mreturn\u001b[0m \u001b[0mself\u001b[0m\u001b[0;34m.\u001b[0m\u001b[0m_getitem_multilevel\u001b[0m\u001b[0;34m(\u001b[0m\u001b[0mkey\u001b[0m\u001b[0;34m)\u001b[0m\u001b[0;34m\u001b[0m\u001b[0;34m\u001b[0m\u001b[0m\n\u001b[0;32m-> 2906\u001b[0;31m             \u001b[0mindexer\u001b[0m \u001b[0;34m=\u001b[0m \u001b[0mself\u001b[0m\u001b[0;34m.\u001b[0m\u001b[0mcolumns\u001b[0m\u001b[0;34m.\u001b[0m\u001b[0mget_loc\u001b[0m\u001b[0;34m(\u001b[0m\u001b[0mkey\u001b[0m\u001b[0;34m)\u001b[0m\u001b[0;34m\u001b[0m\u001b[0;34m\u001b[0m\u001b[0m\n\u001b[0m\u001b[1;32m   2907\u001b[0m             \u001b[0;32mif\u001b[0m \u001b[0mis_integer\u001b[0m\u001b[0;34m(\u001b[0m\u001b[0mindexer\u001b[0m\u001b[0;34m)\u001b[0m\u001b[0;34m:\u001b[0m\u001b[0;34m\u001b[0m\u001b[0;34m\u001b[0m\u001b[0m\n\u001b[1;32m   2908\u001b[0m                 \u001b[0mindexer\u001b[0m \u001b[0;34m=\u001b[0m \u001b[0;34m[\u001b[0m\u001b[0mindexer\u001b[0m\u001b[0;34m]\u001b[0m\u001b[0;34m\u001b[0m\u001b[0;34m\u001b[0m\u001b[0m\n",
      "\u001b[0;32m/Library/Frameworks/Python.framework/Versions/3.7/lib/python3.7/site-packages/pandas/core/indexes/base.py\u001b[0m in \u001b[0;36mget_loc\u001b[0;34m(self, key, method, tolerance)\u001b[0m\n\u001b[1;32m   2895\u001b[0m                 \u001b[0;32mreturn\u001b[0m \u001b[0mself\u001b[0m\u001b[0;34m.\u001b[0m\u001b[0m_engine\u001b[0m\u001b[0;34m.\u001b[0m\u001b[0mget_loc\u001b[0m\u001b[0;34m(\u001b[0m\u001b[0mcasted_key\u001b[0m\u001b[0;34m)\u001b[0m\u001b[0;34m\u001b[0m\u001b[0;34m\u001b[0m\u001b[0m\n\u001b[1;32m   2896\u001b[0m             \u001b[0;32mexcept\u001b[0m \u001b[0mKeyError\u001b[0m \u001b[0;32mas\u001b[0m \u001b[0merr\u001b[0m\u001b[0;34m:\u001b[0m\u001b[0;34m\u001b[0m\u001b[0;34m\u001b[0m\u001b[0m\n\u001b[0;32m-> 2897\u001b[0;31m                 \u001b[0;32mraise\u001b[0m \u001b[0mKeyError\u001b[0m\u001b[0;34m(\u001b[0m\u001b[0mkey\u001b[0m\u001b[0;34m)\u001b[0m \u001b[0;32mfrom\u001b[0m \u001b[0merr\u001b[0m\u001b[0;34m\u001b[0m\u001b[0;34m\u001b[0m\u001b[0m\n\u001b[0m\u001b[1;32m   2898\u001b[0m \u001b[0;34m\u001b[0m\u001b[0m\n\u001b[1;32m   2899\u001b[0m         \u001b[0;32mif\u001b[0m \u001b[0mtolerance\u001b[0m \u001b[0;32mis\u001b[0m \u001b[0;32mnot\u001b[0m \u001b[0;32mNone\u001b[0m\u001b[0;34m:\u001b[0m\u001b[0;34m\u001b[0m\u001b[0;34m\u001b[0m\u001b[0m\n",
      "\u001b[0;31mKeyError\u001b[0m: 'Date'"
     ]
    }
   ],
   "source": [
    "#read from DAQ file into dataframe\n",
    "csv_file = filePath+fileName\n",
    "ds_ = load_data(csv_file)\n",
    "display(ds_)\n",
    "\n",
    "ds_['timestamp'] = ds_['Date'].astype(str) + ' ' + ds_['Time']\n",
    "ds_.drop(['Date', 'Time'], axis=1)\n",
    "\n",
    "ds_['timestamp'] = pd.to_datetime(ds_['timestamp'], format=\"%d/%m/%Y %H:%M:%S.%f\")\n",
    "print(ds_)\n",
    "\n",
    "return\n",
    "# Information of es cluseter\n",
    "\n",
    "index = 'demo'\n",
    "\n",
    "# crete es_pandas instance\n",
    "ep = es_pandas(es_host)\n",
    "\n",
    "# init template if you want\n",
    "doc_type = 'records'\n",
    "ep.init_es_tmpl(ds_, doc_type)\n",
    "\n",
    "# Example of write data to es, use the template you create\n",
    "ep.to_es(ds_, index, doc_type=doc_type)\n",
    "\n",
    "# set use_index=True if you want to use DataFrame index as records' _id\n",
    "ep.to_es(ds_, index, doc_type=doc_type, use_index=True, request_timeout=30)\n",
    "\n",
    "# Example of read data from es\n",
    "df = ep.to_pandas(index)\n",
    "print(df.head())"
   ]
  },
  {
   "cell_type": "code",
   "execution_count": 15,
   "metadata": {},
   "outputs": [
    {
     "name": "stdout",
     "output_type": "stream",
     "text": [
      "Ingest 01-Nov-2017 (00:04:02.000000) is completed!\n"
     ]
    }
   ],
   "source": [
    "# 导入datetime库\n",
    "import datetime\n",
    "import random\n",
    "\n",
    "dt_end = datetime.datetime(2017,11,1,0,4,2)\n",
    "msg = dt_end.strftime(\"%d-%b-%Y (%H:%M:%S.%f)\")\n",
    "print('Ingest %s is completed!' % msg)"
   ]
  },
  {
   "cell_type": "code",
   "execution_count": 15,
   "metadata": {},
   "outputs": [
    {
     "data": {
      "text/plain": [
       "Timestamp('2019-10-26 14:59:59.938000')"
      ]
     },
     "execution_count": 15,
     "metadata": {},
     "output_type": "execute_result"
    }
   ],
   "source": [
    "pd.to_datetime('26/10/2019 14:59:59.938', format='%d/%m/%Y %H:%M:%S.%f')"
   ]
  },
  {
   "cell_type": "code",
   "execution_count": null,
   "metadata": {},
   "outputs": [],
   "source": []
  }
 ],
 "metadata": {
  "kernelspec": {
   "display_name": "Python 3",
   "language": "python",
   "name": "python3"
  },
  "language_info": {
   "codemirror_mode": {
    "name": "ipython",
    "version": 3
   },
   "file_extension": ".py",
   "mimetype": "text/x-python",
   "name": "python",
   "nbconvert_exporter": "python",
   "pygments_lexer": "ipython3",
   "version": "3.7.9"
  }
 },
 "nbformat": 4,
 "nbformat_minor": 2
}
