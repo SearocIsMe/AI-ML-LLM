{
 "cells": [
  {
   "cell_type": "code",
   "execution_count": 3,
   "metadata": {},
   "outputs": [
    {
     "name": "stdout",
     "output_type": "stream",
     "text": [
      "importing Jupyter notebook from common.ipynb\n"
     ]
    }
   ],
   "source": [
    "import pandas as pd\n",
    "import numpy as np\n",
    "import calendar\n",
    "import os\n",
    "\n",
    "from datetime import datetime\n",
    "from elasticsearch import Elasticsearch,helpers\n",
    "from elasticsearch.helpers import parallel_bulk\n",
    "from elasticsearch.helpers import streaming_bulk\n",
    "from es_pandas import es_pandas\n",
    "\n",
    "#import commond.ipynb from same folder\n",
    "import import_ipynb\n",
    "from common import *"
   ]
  },
  {
   "cell_type": "code",
   "execution_count": 2,
   "metadata": {},
   "outputs": [],
   "source": [
    "filePath = '/home/searoc/00-code/05-raw-data/Data From PSA/DAQ&PMS Data from PSA/For Envison/PRD DAQ Files- Quay Cranes/PQC887/DAQ_Log-10-26-2019/'\n",
    "fileName = 'Complete_DAQ_LOG_20191026_1200.csv'"
   ]
  },
  {
   "cell_type": "code",
   "execution_count": 3,
   "metadata": {},
   "outputs": [],
   "source": [
    "csv_file = filePath+fileName\n",
    "json_file = 'sample.json'\n",
    "\n",
    "def export_to_json(csv_file, json_file):\n",
    "    ds_ = load_data(csv_file)\n",
    "    print(ds_.head())\n",
    "    ds_.to_json(json_file, orient='records')\n",
    "    print('done!')"
   ]
  },
  {
   "cell_type": "code",
   "execution_count": 12,
   "metadata": {},
   "outputs": [],
   "source": [
    "def ingest_from_folder(path, es_host, index):\n",
    "    # crete es_pandas instance\n",
    "    ep = es_pandas(es_host)\n",
    "    # init template if you want\n",
    "    doc_type = 'demo'\n",
    "\n",
    "    \n",
    "    g = os.walk(path)  \n",
    "\n",
    "    load_template = False\n",
    "    for path,dir_list,file_list in g:  \n",
    "        for file_name in file_list:  \n",
    "            if file_name.endswith(\".csv\"):\n",
    "                file_name_ = os.path.join(path, file_name)\n",
    "                print(file_name_)\n",
    "                ds_ = load_data(file_name_)\n",
    "                if ds_ is None:\n",
    "                    continue\n",
    "                #ep.init_es_tmpl(ds_, doc_type)\n",
    "                # Example of write data to es, use the template you create\n",
    "                ep.to_es(ds_, index, doc_type=doc_type, thread_count=5, chunk_size=10000)\n",
    "                print('Ingest %s is completed!' % file_name_)\n",
    "   "
   ]
  },
  {
   "cell_type": "code",
   "execution_count": 13,
   "metadata": {},
   "outputs": [
    {
     "name": "stdout",
     "output_type": "stream",
     "text": [
      "/home/searoc/00-code/05-raw-data/Data From PSA/DAQ&PMS Data from PSA/For Envison/PRD DAQ Files- Quay Cranes/PQC886/DAQ_Log-10-25-2019/DAQ_LOG_20191025_1500.csv\n",
      "<class 'KeyError'>\n",
      "/home/searoc/00-code/05-raw-data/Data From PSA/DAQ&PMS Data from PSA/For Envison/PRD DAQ Files- Quay Cranes/PQC886/DAQ_Log-10-25-2019/DAQ_LOG_20191025_2300.csv\n",
      "<class 'KeyError'>\n",
      "/home/searoc/00-code/05-raw-data/Data From PSA/DAQ&PMS Data from PSA/For Envison/PRD DAQ Files- Quay Cranes/PQC886/DAQ_Log-10-25-2019/DAQ_LOG_20191025_1300.csv\n",
      "<class 'KeyError'>\n",
      "/home/searoc/00-code/05-raw-data/Data From PSA/DAQ&PMS Data from PSA/For Envison/PRD DAQ Files- Quay Cranes/PQC886/DAQ_Log-10-25-2019/DAQ_LOG_20191025_1200.csv\n",
      "<class 'KeyError'>\n",
      "/home/searoc/00-code/05-raw-data/Data From PSA/DAQ&PMS Data from PSA/For Envison/PRD DAQ Files- Quay Cranes/PQC886/DAQ_Log-10-25-2019/DAQ_LOG_20191025_0500.csv\n",
      "<class 'KeyError'>\n",
      "/home/searoc/00-code/05-raw-data/Data From PSA/DAQ&PMS Data from PSA/For Envison/PRD DAQ Files- Quay Cranes/PQC886/DAQ_Log-10-25-2019/DAQ_LOG_20191025_1700.csv\n",
      "<class 'KeyError'>\n",
      "/home/searoc/00-code/05-raw-data/Data From PSA/DAQ&PMS Data from PSA/For Envison/PRD DAQ Files- Quay Cranes/PQC886/DAQ_Log-10-25-2019/DAQ_LOG_20191025_0100.csv\n",
      "<class 'KeyError'>\n",
      "/home/searoc/00-code/05-raw-data/Data From PSA/DAQ&PMS Data from PSA/For Envison/PRD DAQ Files- Quay Cranes/PQC886/DAQ_Log-10-25-2019/DAQ_LOG_20191025_0000.csv\n",
      "<class 'KeyError'>\n",
      "/home/searoc/00-code/05-raw-data/Data From PSA/DAQ&PMS Data from PSA/For Envison/PRD DAQ Files- Quay Cranes/PQC886/DAQ_Log-10-25-2019/DAQ_LOG_20191025_0700.csv\n",
      "<class 'KeyError'>\n",
      "/home/searoc/00-code/05-raw-data/Data From PSA/DAQ&PMS Data from PSA/For Envison/PRD DAQ Files- Quay Cranes/PQC886/DAQ_Log-10-25-2019/DAQ_LOG_20191025_2200.csv\n",
      "<class 'KeyError'>\n",
      "/home/searoc/00-code/05-raw-data/Data From PSA/DAQ&PMS Data from PSA/For Envison/PRD DAQ Files- Quay Cranes/PQC886/DAQ_Log-10-25-2019/DAQ_LOG_20191025_1600.csv\n",
      "<class 'KeyError'>\n",
      "/home/searoc/00-code/05-raw-data/Data From PSA/DAQ&PMS Data from PSA/For Envison/PRD DAQ Files- Quay Cranes/PQC886/DAQ_Log-10-25-2019/DAQ_LOG_20191025_2000.csv\n",
      "<class 'KeyError'>\n",
      "/home/searoc/00-code/05-raw-data/Data From PSA/DAQ&PMS Data from PSA/For Envison/PRD DAQ Files- Quay Cranes/PQC886/DAQ_Log-10-25-2019/DAQ_LOG_20191025_0200.csv\n",
      "<class 'KeyError'>\n",
      "/home/searoc/00-code/05-raw-data/Data From PSA/DAQ&PMS Data from PSA/For Envison/PRD DAQ Files- Quay Cranes/PQC886/DAQ_Log-10-25-2019/DAQ_LOG_20191025_1900.csv\n",
      "<class 'KeyError'>\n",
      "/home/searoc/00-code/05-raw-data/Data From PSA/DAQ&PMS Data from PSA/For Envison/PRD DAQ Files- Quay Cranes/PQC886/DAQ_Log-10-25-2019/DAQ_LOG_20191025_0900.csv\n",
      "<class 'KeyError'>\n",
      "/home/searoc/00-code/05-raw-data/Data From PSA/DAQ&PMS Data from PSA/For Envison/PRD DAQ Files- Quay Cranes/PQC886/DAQ_Log-10-25-2019/DAQ_LOG_20191025_0800.csv\n",
      "<class 'KeyError'>\n",
      "/home/searoc/00-code/05-raw-data/Data From PSA/DAQ&PMS Data from PSA/For Envison/PRD DAQ Files- Quay Cranes/PQC886/DAQ_Log-10-25-2019/DAQ_LOG_20191025_0300.csv\n",
      "<class 'KeyError'>\n",
      "/home/searoc/00-code/05-raw-data/Data From PSA/DAQ&PMS Data from PSA/For Envison/PRD DAQ Files- Quay Cranes/PQC886/DAQ_Log-10-25-2019/DAQ_LOG_20191025_1100.csv\n",
      "<class 'KeyError'>\n",
      "/home/searoc/00-code/05-raw-data/Data From PSA/DAQ&PMS Data from PSA/For Envison/PRD DAQ Files- Quay Cranes/PQC886/DAQ_Log-10-25-2019/DAQ_LOG_20191025_2100.csv\n",
      "<class 'KeyError'>\n",
      "/home/searoc/00-code/05-raw-data/Data From PSA/DAQ&PMS Data from PSA/For Envison/PRD DAQ Files- Quay Cranes/PQC886/DAQ_Log-10-25-2019/DAQ_LOG_20191025_0600.csv\n",
      "<class 'KeyError'>\n",
      "/home/searoc/00-code/05-raw-data/Data From PSA/DAQ&PMS Data from PSA/For Envison/PRD DAQ Files- Quay Cranes/PQC886/DAQ_Log-10-25-2019/DAQ_LOG_20191025_0400.csv\n",
      "<class 'KeyError'>\n",
      "/home/searoc/00-code/05-raw-data/Data From PSA/DAQ&PMS Data from PSA/For Envison/PRD DAQ Files- Quay Cranes/PQC886/DAQ_Log-10-25-2019/DAQ_LOG_20191025_1000.csv\n",
      "<class 'KeyError'>\n",
      "/home/searoc/00-code/05-raw-data/Data From PSA/DAQ&PMS Data from PSA/For Envison/PRD DAQ Files- Quay Cranes/PQC886/DAQ_Log-10-25-2019/DAQ_LOG_20191025_1800.csv\n",
      "<class 'KeyError'>\n",
      "/home/searoc/00-code/05-raw-data/Data From PSA/DAQ&PMS Data from PSA/For Envison/PRD DAQ Files- Quay Cranes/PQC886/DAQ_Log-10-25-2019/DAQ_LOG_20191025_1400.csv\n",
      "<class 'KeyError'>\n",
      "/home/searoc/00-code/05-raw-data/Data From PSA/DAQ&PMS Data from PSA/For Envison/PRD DAQ Files- Quay Cranes/PQC886/DAQ_Log-10-26-2019/Complete_DAQ_LOG_20191026_1400.csv\n"
     ]
    },
    {
     "name": "stderr",
     "output_type": "stream",
     "text": [
      " 94% (6662 of 7017) |##################  | Elapsed Time: 0:00:00 ETA:   0:00:00"
     ]
    },
    {
     "name": "stdout",
     "output_type": "stream",
     "text": [
      "Ingest /home/searoc/00-code/05-raw-data/Data From PSA/DAQ&PMS Data from PSA/For Envison/PRD DAQ Files- Quay Cranes/PQC886/DAQ_Log-10-26-2019/Complete_DAQ_LOG_20191026_1400.csv is completed!\n",
      "/home/searoc/00-code/05-raw-data/Data From PSA/DAQ&PMS Data from PSA/For Envison/PRD DAQ Files- Quay Cranes/PQC886/DAQ_Log-10-26-2019/Complete_DAQ_LOG_20191026_1700.csv\n"
     ]
    },
    {
     "name": "stderr",
     "output_type": "stream",
     "text": [
      " 79% (5596 of 7017) |###############     | Elapsed Time: 0:00:00 ETA:   0:00:00"
     ]
    },
    {
     "name": "stdout",
     "output_type": "stream",
     "text": [
      "Ingest /home/searoc/00-code/05-raw-data/Data From PSA/DAQ&PMS Data from PSA/For Envison/PRD DAQ Files- Quay Cranes/PQC886/DAQ_Log-10-26-2019/Complete_DAQ_LOG_20191026_1700.csv is completed!\n",
      "/home/searoc/00-code/05-raw-data/Data From PSA/DAQ&PMS Data from PSA/For Envison/PRD DAQ Files- Quay Cranes/PQC886/DAQ_Log-10-26-2019/Complete_DAQ_LOG_20191026_2100.csv\n"
     ]
    },
    {
     "name": "stderr",
     "output_type": "stream",
     "text": [
      " 96% (6745 of 7011) |################### | Elapsed Time: 0:00:00 ETA:   0:00:00"
     ]
    },
    {
     "name": "stdout",
     "output_type": "stream",
     "text": [
      "Ingest /home/searoc/00-code/05-raw-data/Data From PSA/DAQ&PMS Data from PSA/For Envison/PRD DAQ Files- Quay Cranes/PQC886/DAQ_Log-10-26-2019/Complete_DAQ_LOG_20191026_2100.csv is completed!\n",
      "/home/searoc/00-code/05-raw-data/Data From PSA/DAQ&PMS Data from PSA/For Envison/PRD DAQ Files- Quay Cranes/PQC886/DAQ_Log-10-26-2019/Complete_DAQ_LOG_20191026_0200.csv\n"
     ]
    },
    {
     "name": "stderr",
     "output_type": "stream",
     "text": [
      " 79% (5596 of 7017) |###############     | Elapsed Time: 0:00:00 ETA:   0:00:00"
     ]
    },
    {
     "name": "stdout",
     "output_type": "stream",
     "text": [
      "Ingest /home/searoc/00-code/05-raw-data/Data From PSA/DAQ&PMS Data from PSA/For Envison/PRD DAQ Files- Quay Cranes/PQC886/DAQ_Log-10-26-2019/Complete_DAQ_LOG_20191026_0200.csv is completed!\n",
      "/home/searoc/00-code/05-raw-data/Data From PSA/DAQ&PMS Data from PSA/For Envison/PRD DAQ Files- Quay Cranes/PQC886/DAQ_Log-10-26-2019/Complete_DAQ_LOG_20191026_2000.csv\n"
     ]
    },
    {
     "name": "stderr",
     "output_type": "stream",
     "text": [
      " 94% (6657 of 7011) |##################  | Elapsed Time: 0:00:00 ETA:   0:00:00"
     ]
    },
    {
     "name": "stdout",
     "output_type": "stream",
     "text": [
      "Ingest /home/searoc/00-code/05-raw-data/Data From PSA/DAQ&PMS Data from PSA/For Envison/PRD DAQ Files- Quay Cranes/PQC886/DAQ_Log-10-26-2019/Complete_DAQ_LOG_20191026_2000.csv is completed!\n",
      "/home/searoc/00-code/05-raw-data/Data From PSA/DAQ&PMS Data from PSA/For Envison/PRD DAQ Files- Quay Cranes/PQC886/DAQ_Log-10-26-2019/Complete_DAQ_LOG_20191026_0000.csv\n"
     ]
    },
    {
     "name": "stderr",
     "output_type": "stream",
     "text": [
      " 84% (5948 of 7013) |################    | Elapsed Time: 0:00:00 ETA:   0:00:00"
     ]
    },
    {
     "name": "stdout",
     "output_type": "stream",
     "text": [
      "Ingest /home/searoc/00-code/05-raw-data/Data From PSA/DAQ&PMS Data from PSA/For Envison/PRD DAQ Files- Quay Cranes/PQC886/DAQ_Log-10-26-2019/Complete_DAQ_LOG_20191026_0000.csv is completed!\n",
      "/home/searoc/00-code/05-raw-data/Data From PSA/DAQ&PMS Data from PSA/For Envison/PRD DAQ Files- Quay Cranes/PQC886/DAQ_Log-10-26-2019/Complete_DAQ_LOG_20191026_0300.csv\n"
     ]
    },
    {
     "name": "stderr",
     "output_type": "stream",
     "text": [
      " 97% (6838 of 7015) |################### | Elapsed Time: 0:00:00 ETA:   0:00:00"
     ]
    },
    {
     "name": "stdout",
     "output_type": "stream",
     "text": [
      "Ingest /home/searoc/00-code/05-raw-data/Data From PSA/DAQ&PMS Data from PSA/For Envison/PRD DAQ Files- Quay Cranes/PQC886/DAQ_Log-10-26-2019/Complete_DAQ_LOG_20191026_0300.csv is completed!\n",
      "/home/searoc/00-code/05-raw-data/Data From PSA/DAQ&PMS Data from PSA/For Envison/PRD DAQ Files- Quay Cranes/PQC886/DAQ_Log-10-26-2019/Complete_DAQ_LOG_20191026_1200.csv\n"
     ]
    },
    {
     "name": "stderr",
     "output_type": "stream",
     "text": [
      " 81% (5684 of 7015) |################    | Elapsed Time: 0:00:00 ETA:   0:00:00"
     ]
    },
    {
     "name": "stdout",
     "output_type": "stream",
     "text": [
      "Ingest /home/searoc/00-code/05-raw-data/Data From PSA/DAQ&PMS Data from PSA/For Envison/PRD DAQ Files- Quay Cranes/PQC886/DAQ_Log-10-26-2019/Complete_DAQ_LOG_20191026_1200.csv is completed!\n",
      "/home/searoc/00-code/05-raw-data/Data From PSA/DAQ&PMS Data from PSA/For Envison/PRD DAQ Files- Quay Cranes/PQC886/DAQ_Log-10-26-2019/Complete_DAQ_LOG_20191026_0900.csv\n"
     ]
    },
    {
     "name": "stderr",
     "output_type": "stream",
     "text": [
      " 81% (5685 of 7017) |################    | Elapsed Time: 0:00:00 ETA:   0:00:00"
     ]
    },
    {
     "name": "stdout",
     "output_type": "stream",
     "text": [
      "Ingest /home/searoc/00-code/05-raw-data/Data From PSA/DAQ&PMS Data from PSA/For Envison/PRD DAQ Files- Quay Cranes/PQC886/DAQ_Log-10-26-2019/Complete_DAQ_LOG_20191026_0900.csv is completed!\n",
      "/home/searoc/00-code/05-raw-data/Data From PSA/DAQ&PMS Data from PSA/For Envison/PRD DAQ Files- Quay Cranes/PQC886/DAQ_Log-10-26-2019/Complete_DAQ_LOG_20191026_1300.csv\n"
     ]
    },
    {
     "name": "stderr",
     "output_type": "stream",
     "text": [
      " 91% (6394 of 7015) |##################  | Elapsed Time: 0:00:00 ETA:   0:00:00"
     ]
    },
    {
     "name": "stdout",
     "output_type": "stream",
     "text": [
      "Ingest /home/searoc/00-code/05-raw-data/Data From PSA/DAQ&PMS Data from PSA/For Envison/PRD DAQ Files- Quay Cranes/PQC886/DAQ_Log-10-26-2019/Complete_DAQ_LOG_20191026_1300.csv is completed!\n",
      "/home/searoc/00-code/05-raw-data/Data From PSA/DAQ&PMS Data from PSA/For Envison/PRD DAQ Files- Quay Cranes/PQC886/DAQ_Log-10-26-2019/Complete_DAQ_LOG_20191026_1800.csv\n"
     ]
    },
    {
     "name": "stderr",
     "output_type": "stream",
     "text": [
      " 92% (6483 of 7015) |##################  | Elapsed Time: 0:00:00 ETA:   0:00:00"
     ]
    },
    {
     "name": "stdout",
     "output_type": "stream",
     "text": [
      "Ingest /home/searoc/00-code/05-raw-data/Data From PSA/DAQ&PMS Data from PSA/For Envison/PRD DAQ Files- Quay Cranes/PQC886/DAQ_Log-10-26-2019/Complete_DAQ_LOG_20191026_1800.csv is completed!\n",
      "/home/searoc/00-code/05-raw-data/Data From PSA/DAQ&PMS Data from PSA/For Envison/PRD DAQ Files- Quay Cranes/PQC886/DAQ_Log-10-26-2019/Complete_DAQ_LOG_20191026_1500.csv\n"
     ]
    },
    {
     "name": "stderr",
     "output_type": "stream",
     "text": [
      " 96% (6746 of 7012) |################### | Elapsed Time: 0:00:00 ETA:   0:00:00"
     ]
    },
    {
     "name": "stdout",
     "output_type": "stream",
     "text": [
      "Ingest /home/searoc/00-code/05-raw-data/Data From PSA/DAQ&PMS Data from PSA/For Envison/PRD DAQ Files- Quay Cranes/PQC886/DAQ_Log-10-26-2019/Complete_DAQ_LOG_20191026_1500.csv is completed!\n",
      "/home/searoc/00-code/05-raw-data/Data From PSA/DAQ&PMS Data from PSA/For Envison/PRD DAQ Files- Quay Cranes/PQC886/DAQ_Log-10-26-2019/Complete_DAQ_LOG_20191026_2200.csv\n"
     ]
    },
    {
     "name": "stderr",
     "output_type": "stream",
     "text": [
      " 94% (6662 of 7017) |##################  | Elapsed Time: 0:00:00 ETA:   0:00:00"
     ]
    },
    {
     "name": "stdout",
     "output_type": "stream",
     "text": [
      "Ingest /home/searoc/00-code/05-raw-data/Data From PSA/DAQ&PMS Data from PSA/For Envison/PRD DAQ Files- Quay Cranes/PQC886/DAQ_Log-10-26-2019/Complete_DAQ_LOG_20191026_2200.csv is completed!\n",
      "/home/searoc/00-code/05-raw-data/Data From PSA/DAQ&PMS Data from PSA/For Envison/PRD DAQ Files- Quay Cranes/PQC886/DAQ_Log-10-26-2019/Complete_DAQ_LOG_20191026_0500.csv\n"
     ]
    },
    {
     "name": "stderr",
     "output_type": "stream",
     "text": [
      " 96% (6748 of 7014) |################### | Elapsed Time: 0:00:00 ETA:   0:00:00"
     ]
    },
    {
     "name": "stdout",
     "output_type": "stream",
     "text": [
      "Ingest /home/searoc/00-code/05-raw-data/Data From PSA/DAQ&PMS Data from PSA/For Envison/PRD DAQ Files- Quay Cranes/PQC886/DAQ_Log-10-26-2019/Complete_DAQ_LOG_20191026_0500.csv is completed!\n",
      "/home/searoc/00-code/05-raw-data/Data From PSA/DAQ&PMS Data from PSA/For Envison/PRD DAQ Files- Quay Cranes/PQC886/DAQ_Log-10-26-2019/Complete_DAQ_LOG_20191026_2300.csv\n"
     ]
    },
    {
     "name": "stderr",
     "output_type": "stream",
     "text": [
      " 81% (5684 of 7015) |################    | Elapsed Time: 0:00:00 ETA:   0:00:00"
     ]
    },
    {
     "name": "stdout",
     "output_type": "stream",
     "text": [
      "Ingest /home/searoc/00-code/05-raw-data/Data From PSA/DAQ&PMS Data from PSA/For Envison/PRD DAQ Files- Quay Cranes/PQC886/DAQ_Log-10-26-2019/Complete_DAQ_LOG_20191026_2300.csv is completed!\n",
      "/home/searoc/00-code/05-raw-data/Data From PSA/DAQ&PMS Data from PSA/For Envison/PRD DAQ Files- Quay Cranes/PQC886/DAQ_Log-10-26-2019/Complete_DAQ_LOG_20191026_1900.csv\n"
     ]
    },
    {
     "name": "stderr",
     "output_type": "stream",
     "text": [
      " 82% (5774 of 7017) |################    | Elapsed Time: 0:00:00 ETA:   0:00:00"
     ]
    },
    {
     "name": "stdout",
     "output_type": "stream",
     "text": [
      "Ingest /home/searoc/00-code/05-raw-data/Data From PSA/DAQ&PMS Data from PSA/For Envison/PRD DAQ Files- Quay Cranes/PQC886/DAQ_Log-10-26-2019/Complete_DAQ_LOG_20191026_1900.csv is completed!\n",
      "/home/searoc/00-code/05-raw-data/Data From PSA/DAQ&PMS Data from PSA/For Envison/PRD DAQ Files- Quay Cranes/PQC886/DAQ_Log-10-26-2019/Complete_DAQ_LOG_20191026_0100.csv\n"
     ]
    },
    {
     "name": "stderr",
     "output_type": "stream",
     "text": [
      " 79% (5591 of 7010) |###############     | Elapsed Time: 0:00:00 ETA:   0:00:00"
     ]
    },
    {
     "name": "stdout",
     "output_type": "stream",
     "text": [
      "Ingest /home/searoc/00-code/05-raw-data/Data From PSA/DAQ&PMS Data from PSA/For Envison/PRD DAQ Files- Quay Cranes/PQC886/DAQ_Log-10-26-2019/Complete_DAQ_LOG_20191026_0100.csv is completed!\n",
      "/home/searoc/00-code/05-raw-data/Data From PSA/DAQ&PMS Data from PSA/For Envison/PRD DAQ Files- Quay Cranes/PQC886/DAQ_Log-10-26-2019/Complete_DAQ_LOG_20191026_1600.csv\n"
     ]
    },
    {
     "name": "stderr",
     "output_type": "stream",
     "text": [
      " 93% (6568 of 7011) |##################  | Elapsed Time: 0:00:00 ETA:   0:00:00"
     ]
    },
    {
     "name": "stdout",
     "output_type": "stream",
     "text": [
      "Ingest /home/searoc/00-code/05-raw-data/Data From PSA/DAQ&PMS Data from PSA/For Envison/PRD DAQ Files- Quay Cranes/PQC886/DAQ_Log-10-26-2019/Complete_DAQ_LOG_20191026_1600.csv is completed!\n",
      "/home/searoc/00-code/05-raw-data/Data From PSA/DAQ&PMS Data from PSA/For Envison/PRD DAQ Files- Quay Cranes/PQC886/DAQ_Log-10-26-2019/Complete_DAQ_LOG_20191026_0400.csv\n"
     ]
    },
    {
     "name": "stderr",
     "output_type": "stream",
     "text": [
      " 94% (6661 of 7016) |##################  | Elapsed Time: 0:00:00 ETA:   0:00:00"
     ]
    },
    {
     "name": "stdout",
     "output_type": "stream",
     "text": [
      "Ingest /home/searoc/00-code/05-raw-data/Data From PSA/DAQ&PMS Data from PSA/For Envison/PRD DAQ Files- Quay Cranes/PQC886/DAQ_Log-10-26-2019/Complete_DAQ_LOG_20191026_0400.csv is completed!\n",
      "/home/searoc/00-code/05-raw-data/Data From PSA/DAQ&PMS Data from PSA/For Envison/PRD DAQ Files- Quay Cranes/PQC886/DAQ_Log-10-26-2019/Complete_DAQ_LOG_20191026_0700.csv\n"
     ]
    },
    {
     "name": "stderr",
     "output_type": "stream",
     "text": [
      " 89% (6306 of 7016) |#################   | Elapsed Time: 0:00:00 ETA:   0:00:00"
     ]
    },
    {
     "name": "stdout",
     "output_type": "stream",
     "text": [
      "Ingest /home/searoc/00-code/05-raw-data/Data From PSA/DAQ&PMS Data from PSA/For Envison/PRD DAQ Files- Quay Cranes/PQC886/DAQ_Log-10-26-2019/Complete_DAQ_LOG_20191026_0700.csv is completed!\n",
      "/home/searoc/00-code/05-raw-data/Data From PSA/DAQ&PMS Data from PSA/For Envison/PRD DAQ Files- Quay Cranes/PQC886/DAQ_Log-10-26-2019/Complete_DAQ_LOG_20191026_1000.csv\n"
     ]
    },
    {
     "name": "stderr",
     "output_type": "stream",
     "text": [
      " 93% (6570 of 7013) |##################  | Elapsed Time: 0:00:00 ETA:   0:00:00"
     ]
    },
    {
     "name": "stdout",
     "output_type": "stream",
     "text": [
      "Ingest /home/searoc/00-code/05-raw-data/Data From PSA/DAQ&PMS Data from PSA/For Envison/PRD DAQ Files- Quay Cranes/PQC886/DAQ_Log-10-26-2019/Complete_DAQ_LOG_20191026_1000.csv is completed!\n",
      "/home/searoc/00-code/05-raw-data/Data From PSA/DAQ&PMS Data from PSA/For Envison/PRD DAQ Files- Quay Cranes/PQC886/DAQ_Log-10-26-2019/Complete_DAQ_LOG_20191026_1100.csv\n"
     ]
    },
    {
     "name": "stderr",
     "output_type": "stream",
     "text": [
      " 96% (6744 of 7010) |################### | Elapsed Time: 0:00:00 ETA:   0:00:00"
     ]
    },
    {
     "name": "stdout",
     "output_type": "stream",
     "text": [
      "Ingest /home/searoc/00-code/05-raw-data/Data From PSA/DAQ&PMS Data from PSA/For Envison/PRD DAQ Files- Quay Cranes/PQC886/DAQ_Log-10-26-2019/Complete_DAQ_LOG_20191026_1100.csv is completed!\n",
      "/home/searoc/00-code/05-raw-data/Data From PSA/DAQ&PMS Data from PSA/For Envison/PRD DAQ Files- Quay Cranes/PQC886/DAQ_Log-10-26-2019/Complete_DAQ_LOG_20191026_0800.csv\n"
     ]
    },
    {
     "name": "stderr",
     "output_type": "stream",
     "text": [
      " 96% (6747 of 7013) |################### | Elapsed Time: 0:00:00 ETA:   0:00:00"
     ]
    },
    {
     "name": "stdout",
     "output_type": "stream",
     "text": [
      "Ingest /home/searoc/00-code/05-raw-data/Data From PSA/DAQ&PMS Data from PSA/For Envison/PRD DAQ Files- Quay Cranes/PQC886/DAQ_Log-10-26-2019/Complete_DAQ_LOG_20191026_0800.csv is completed!\n",
      "/home/searoc/00-code/05-raw-data/Data From PSA/DAQ&PMS Data from PSA/For Envison/PRD DAQ Files- Quay Cranes/PQC886/DAQ_Log-10-26-2019/Complete_DAQ_LOG_20191026_0600.csv\n"
     ]
    },
    {
     "name": "stderr",
     "output_type": "stream",
     "text": [
      " 94% (6657 of 7011) |##################  | Elapsed Time: 0:00:00 ETA:   0:00:00"
     ]
    },
    {
     "name": "stdout",
     "output_type": "stream",
     "text": [
      "Ingest /home/searoc/00-code/05-raw-data/Data From PSA/DAQ&PMS Data from PSA/For Envison/PRD DAQ Files- Quay Cranes/PQC886/DAQ_Log-10-26-2019/Complete_DAQ_LOG_20191026_0600.csv is completed!\n",
      "/home/searoc/00-code/05-raw-data/Data From PSA/DAQ&PMS Data from PSA/For Envison/PRD DAQ Files- Quay Cranes/PQC886/DAQ_Log-10-24-2019/Complete_DAQ_LOG_20191024_1200.csv\n"
     ]
    },
    {
     "name": "stderr",
     "output_type": "stream",
     "text": [
      " 89% (6317 of 7028) |#################   | Elapsed Time: 0:00:00 ETA:   0:00:00"
     ]
    },
    {
     "name": "stdout",
     "output_type": "stream",
     "text": [
      "Ingest /home/searoc/00-code/05-raw-data/Data From PSA/DAQ&PMS Data from PSA/For Envison/PRD DAQ Files- Quay Cranes/PQC886/DAQ_Log-10-24-2019/Complete_DAQ_LOG_20191024_1200.csv is completed!\n",
      "/home/searoc/00-code/05-raw-data/Data From PSA/DAQ&PMS Data from PSA/For Envison/PRD DAQ Files- Quay Cranes/PQC886/DAQ_Log-10-24-2019/Complete_DAQ_LOG_20191024_0700.csv\n"
     ]
    },
    {
     "name": "stderr",
     "output_type": "stream",
     "text": [
      " 91% (6406 of 7028) |##################  | Elapsed Time: 0:00:00 ETA:   0:00:00"
     ]
    },
    {
     "name": "stdout",
     "output_type": "stream",
     "text": [
      "Ingest /home/searoc/00-code/05-raw-data/Data From PSA/DAQ&PMS Data from PSA/For Envison/PRD DAQ Files- Quay Cranes/PQC886/DAQ_Log-10-24-2019/Complete_DAQ_LOG_20191024_0700.csv is completed!\n",
      "/home/searoc/00-code/05-raw-data/Data From PSA/DAQ&PMS Data from PSA/For Envison/PRD DAQ Files- Quay Cranes/PQC886/DAQ_Log-10-24-2019/Complete_DAQ_LOG_20191024_1000.csv\n"
     ]
    },
    {
     "name": "stderr",
     "output_type": "stream",
     "text": [
      " 92% (6497 of 7030) |##################  | Elapsed Time: 0:00:00 ETA:   0:00:00"
     ]
    },
    {
     "name": "stdout",
     "output_type": "stream",
     "text": [
      "Ingest /home/searoc/00-code/05-raw-data/Data From PSA/DAQ&PMS Data from PSA/For Envison/PRD DAQ Files- Quay Cranes/PQC886/DAQ_Log-10-24-2019/Complete_DAQ_LOG_20191024_1000.csv is completed!\n",
      "/home/searoc/00-code/05-raw-data/Data From PSA/DAQ&PMS Data from PSA/For Envison/PRD DAQ Files- Quay Cranes/PQC886/DAQ_Log-10-24-2019/Complete_DAQ_LOG_20191024_1600.csv\n"
     ]
    },
    {
     "name": "stderr",
     "output_type": "stream",
     "text": [
      " 81% (5705 of 7041) |################    | Elapsed Time: 0:00:00 ETA:   0:00:00"
     ]
    },
    {
     "name": "stdout",
     "output_type": "stream",
     "text": [
      "Ingest /home/searoc/00-code/05-raw-data/Data From PSA/DAQ&PMS Data from PSA/For Envison/PRD DAQ Files- Quay Cranes/PQC886/DAQ_Log-10-24-2019/Complete_DAQ_LOG_20191024_1600.csv is completed!\n",
      "/home/searoc/00-code/05-raw-data/Data From PSA/DAQ&PMS Data from PSA/For Envison/PRD DAQ Files- Quay Cranes/PQC886/DAQ_Log-10-24-2019/Complete_DAQ_LOG_20191024_0500.csv\n"
     ]
    },
    {
     "name": "stderr",
     "output_type": "stream",
     "text": [
      " 98% (6942 of 7030) |################### | Elapsed Time: 0:00:00 ETA:   0:00:00"
     ]
    },
    {
     "name": "stdout",
     "output_type": "stream",
     "text": [
      "Ingest /home/searoc/00-code/05-raw-data/Data From PSA/DAQ&PMS Data from PSA/For Envison/PRD DAQ Files- Quay Cranes/PQC886/DAQ_Log-10-24-2019/Complete_DAQ_LOG_20191024_0500.csv is completed!\n",
      "/home/searoc/00-code/05-raw-data/Data From PSA/DAQ&PMS Data from PSA/For Envison/PRD DAQ Files- Quay Cranes/PQC886/DAQ_Log-10-24-2019/Complete_DAQ_LOG_20191024_0600.csv\n"
     ]
    },
    {
     "name": "stderr",
     "output_type": "stream",
     "text": [
      " 94% (6675 of 7031) |##################  | Elapsed Time: 0:00:00 ETA:   0:00:00"
     ]
    },
    {
     "name": "stdout",
     "output_type": "stream",
     "text": [
      "Ingest /home/searoc/00-code/05-raw-data/Data From PSA/DAQ&PMS Data from PSA/For Envison/PRD DAQ Files- Quay Cranes/PQC886/DAQ_Log-10-24-2019/Complete_DAQ_LOG_20191024_0600.csv is completed!\n",
      "/home/searoc/00-code/05-raw-data/Data From PSA/DAQ&PMS Data from PSA/For Envison/PRD DAQ Files- Quay Cranes/PQC886/DAQ_Log-10-24-2019/Complete_DAQ_LOG_20191024_0300.csv\n"
     ]
    },
    {
     "name": "stderr",
     "output_type": "stream",
     "text": [
      " 97% (6853 of 7031) |################### | Elapsed Time: 0:00:00 ETA:   0:00:00"
     ]
    },
    {
     "name": "stdout",
     "output_type": "stream",
     "text": [
      "Ingest /home/searoc/00-code/05-raw-data/Data From PSA/DAQ&PMS Data from PSA/For Envison/PRD DAQ Files- Quay Cranes/PQC886/DAQ_Log-10-24-2019/Complete_DAQ_LOG_20191024_0300.csv is completed!\n",
      "/home/searoc/00-code/05-raw-data/Data From PSA/DAQ&PMS Data from PSA/For Envison/PRD DAQ Files- Quay Cranes/PQC886/DAQ_Log-10-24-2019/Complete_DAQ_LOG_20191024_1100.csv\n"
     ]
    },
    {
     "name": "stderr",
     "output_type": "stream",
     "text": [
      " 94% (6675 of 7031) |##################  | Elapsed Time: 0:00:00 ETA:   0:00:00"
     ]
    },
    {
     "name": "stdout",
     "output_type": "stream",
     "text": [
      "Ingest /home/searoc/00-code/05-raw-data/Data From PSA/DAQ&PMS Data from PSA/For Envison/PRD DAQ Files- Quay Cranes/PQC886/DAQ_Log-10-24-2019/Complete_DAQ_LOG_20191024_1100.csv is completed!\n",
      "/home/searoc/00-code/05-raw-data/Data From PSA/DAQ&PMS Data from PSA/For Envison/PRD DAQ Files- Quay Cranes/PQC886/DAQ_Log-10-24-2019/Complete_DAQ_LOG_20191024_1900.csv\n"
     ]
    },
    {
     "name": "stderr",
     "output_type": "stream",
     "text": [
      " 94% (6660 of 7015) |##################  | Elapsed Time: 0:00:00 ETA:   0:00:00"
     ]
    },
    {
     "name": "stdout",
     "output_type": "stream",
     "text": [
      "Ingest /home/searoc/00-code/05-raw-data/Data From PSA/DAQ&PMS Data from PSA/For Envison/PRD DAQ Files- Quay Cranes/PQC886/DAQ_Log-10-24-2019/Complete_DAQ_LOG_20191024_1900.csv is completed!\n",
      "/home/searoc/00-code/05-raw-data/Data From PSA/DAQ&PMS Data from PSA/For Envison/PRD DAQ Files- Quay Cranes/PQC886/DAQ_Log-10-24-2019/Complete_DAQ_LOG_20191024_0100.csv\n"
     ]
    },
    {
     "name": "stderr",
     "output_type": "stream",
     "text": [
      " 89% (6319 of 7031) |#################   | Elapsed Time: 0:00:00 ETA:   0:00:00"
     ]
    },
    {
     "name": "stdout",
     "output_type": "stream",
     "text": [
      "Ingest /home/searoc/00-code/05-raw-data/Data From PSA/DAQ&PMS Data from PSA/For Envison/PRD DAQ Files- Quay Cranes/PQC886/DAQ_Log-10-24-2019/Complete_DAQ_LOG_20191024_0100.csv is completed!\n",
      "/home/searoc/00-code/05-raw-data/Data From PSA/DAQ&PMS Data from PSA/For Envison/PRD DAQ Files- Quay Cranes/PQC886/DAQ_Log-10-24-2019/Complete_DAQ_LOG_20191024_2000.csv\n"
     ]
    },
    {
     "name": "stderr",
     "output_type": "stream",
     "text": [
      " 84% (5946 of 7010) |################    | Elapsed Time: 0:00:00 ETA:   0:00:00"
     ]
    },
    {
     "name": "stdout",
     "output_type": "stream",
     "text": [
      "Ingest /home/searoc/00-code/05-raw-data/Data From PSA/DAQ&PMS Data from PSA/For Envison/PRD DAQ Files- Quay Cranes/PQC886/DAQ_Log-10-24-2019/Complete_DAQ_LOG_20191024_2000.csv is completed!\n",
      "/home/searoc/00-code/05-raw-data/Data From PSA/DAQ&PMS Data from PSA/For Envison/PRD DAQ Files- Quay Cranes/PQC886/DAQ_Log-10-24-2019/Complete_DAQ_LOG_20191024_0400.csv\n"
     ]
    },
    {
     "name": "stderr",
     "output_type": "stream",
     "text": [
      " 81% (5696 of 7031) |################    | Elapsed Time: 0:00:00 ETA:   0:00:00"
     ]
    },
    {
     "name": "stdout",
     "output_type": "stream",
     "text": [
      "Ingest /home/searoc/00-code/05-raw-data/Data From PSA/DAQ&PMS Data from PSA/For Envison/PRD DAQ Files- Quay Cranes/PQC886/DAQ_Log-10-24-2019/Complete_DAQ_LOG_20191024_0400.csv is completed!\n",
      "/home/searoc/00-code/05-raw-data/Data From PSA/DAQ&PMS Data from PSA/For Envison/PRD DAQ Files- Quay Cranes/PQC886/DAQ_Log-10-24-2019/Complete_DAQ_LOG_20191024_0800.csv\n"
     ]
    },
    {
     "name": "stderr",
     "output_type": "stream",
     "text": [
      " 94% (6675 of 7030) |##################  | Elapsed Time: 0:00:00 ETA:   0:00:00"
     ]
    },
    {
     "name": "stdout",
     "output_type": "stream",
     "text": [
      "Ingest /home/searoc/00-code/05-raw-data/Data From PSA/DAQ&PMS Data from PSA/For Envison/PRD DAQ Files- Quay Cranes/PQC886/DAQ_Log-10-24-2019/Complete_DAQ_LOG_20191024_0800.csv is completed!\n",
      "/home/searoc/00-code/05-raw-data/Data From PSA/DAQ&PMS Data from PSA/For Envison/PRD DAQ Files- Quay Cranes/PQC886/DAQ_Log-10-24-2019/Complete_DAQ_LOG_20191024_0900.csv\n"
     ]
    },
    {
     "name": "stderr",
     "output_type": "stream",
     "text": [
      " 93% (6586 of 7031) |##################  | Elapsed Time: 0:00:00 ETA:   0:00:00"
     ]
    },
    {
     "name": "stdout",
     "output_type": "stream",
     "text": [
      "Ingest /home/searoc/00-code/05-raw-data/Data From PSA/DAQ&PMS Data from PSA/For Envison/PRD DAQ Files- Quay Cranes/PQC886/DAQ_Log-10-24-2019/Complete_DAQ_LOG_20191024_0900.csv is completed!\n",
      "/home/searoc/00-code/05-raw-data/Data From PSA/DAQ&PMS Data from PSA/For Envison/PRD DAQ Files- Quay Cranes/PQC886/DAQ_Log-10-24-2019/Complete_DAQ_LOG_20191024_1400.csv\n"
     ]
    },
    {
     "name": "stderr",
     "output_type": "stream",
     "text": [
      " 84% (5963 of 7030) |################    | Elapsed Time: 0:00:00 ETA:   0:00:00"
     ]
    },
    {
     "name": "stdout",
     "output_type": "stream",
     "text": [
      "Ingest /home/searoc/00-code/05-raw-data/Data From PSA/DAQ&PMS Data from PSA/For Envison/PRD DAQ Files- Quay Cranes/PQC886/DAQ_Log-10-24-2019/Complete_DAQ_LOG_20191024_1400.csv is completed!\n",
      "/home/searoc/00-code/05-raw-data/Data From PSA/DAQ&PMS Data from PSA/For Envison/PRD DAQ Files- Quay Cranes/PQC886/DAQ_Log-10-24-2019/Complete_DAQ_LOG_20191024_2200.csv\n"
     ]
    },
    {
     "name": "stderr",
     "output_type": "stream",
     "text": [
      " 81% (5682 of 7013) |################    | Elapsed Time: 0:00:00 ETA:   0:00:00"
     ]
    },
    {
     "name": "stdout",
     "output_type": "stream",
     "text": [
      "Ingest /home/searoc/00-code/05-raw-data/Data From PSA/DAQ&PMS Data from PSA/For Envison/PRD DAQ Files- Quay Cranes/PQC886/DAQ_Log-10-24-2019/Complete_DAQ_LOG_20191024_2200.csv is completed!\n",
      "/home/searoc/00-code/05-raw-data/Data From PSA/DAQ&PMS Data from PSA/For Envison/PRD DAQ Files- Quay Cranes/PQC886/DAQ_Log-10-24-2019/Complete_DAQ_LOG_20191024_2100.csv\n"
     ]
    },
    {
     "name": "stderr",
     "output_type": "stream",
     "text": [
      "N/A% (0 of 2) |                          | Elapsed Time: 0:00:00 ETA:  --:--:--"
     ]
    },
    {
     "name": "stdout",
     "output_type": "stream",
     "text": [
      "Ingest /home/searoc/00-code/05-raw-data/Data From PSA/DAQ&PMS Data from PSA/For Envison/PRD DAQ Files- Quay Cranes/PQC886/DAQ_Log-10-24-2019/Complete_DAQ_LOG_20191024_2100.csv is completed!\n",
      "/home/searoc/00-code/05-raw-data/Data From PSA/DAQ&PMS Data from PSA/For Envison/PRD DAQ Files- Quay Cranes/PQC886/DAQ_Log-10-24-2019/Complete_DAQ_LOG_20191024_0000.csv\n",
      "Ingest /home/searoc/00-code/05-raw-data/Data From PSA/DAQ&PMS Data from PSA/For Envison/PRD DAQ Files- Quay Cranes/PQC886/DAQ_Log-10-24-2019/Complete_DAQ_LOG_20191024_0000.csv is completed!\n",
      "/home/searoc/00-code/05-raw-data/Data From PSA/DAQ&PMS Data from PSA/For Envison/PRD DAQ Files- Quay Cranes/PQC886/DAQ_Log-10-24-2019/Complete_DAQ_LOG_20191024_1700.csv\n"
     ]
    },
    {
     "name": "stderr",
     "output_type": "stream",
     "text": [
      " 81% (5693 of 7027) |################    | Elapsed Time: 0:00:00 ETA:   0:00:00"
     ]
    },
    {
     "name": "stdout",
     "output_type": "stream",
     "text": [
      "Ingest /home/searoc/00-code/05-raw-data/Data From PSA/DAQ&PMS Data from PSA/For Envison/PRD DAQ Files- Quay Cranes/PQC886/DAQ_Log-10-24-2019/Complete_DAQ_LOG_20191024_1700.csv is completed!\n",
      "/home/searoc/00-code/05-raw-data/Data From PSA/DAQ&PMS Data from PSA/For Envison/PRD DAQ Files- Quay Cranes/PQC886/DAQ_Log-10-24-2019/Complete_DAQ_LOG_20191024_1300.csv\n"
     ]
    },
    {
     "name": "stderr",
     "output_type": "stream",
     "text": [
      " 79% (5607 of 7031) |###############     | Elapsed Time: 0:00:00 ETA:   0:00:00"
     ]
    },
    {
     "name": "stdout",
     "output_type": "stream",
     "text": [
      "Ingest /home/searoc/00-code/05-raw-data/Data From PSA/DAQ&PMS Data from PSA/For Envison/PRD DAQ Files- Quay Cranes/PQC886/DAQ_Log-10-24-2019/Complete_DAQ_LOG_20191024_1300.csv is completed!\n",
      "/home/searoc/00-code/05-raw-data/Data From PSA/DAQ&PMS Data from PSA/For Envison/PRD DAQ Files- Quay Cranes/PQC886/DAQ_Log-10-24-2019/Complete_DAQ_LOG_20191024_0200.csv\n"
     ]
    },
    {
     "name": "stderr",
     "output_type": "stream",
     "text": [
      " 94% (6673 of 7028) |##################  | Elapsed Time: 0:00:00 ETA:   0:00:00"
     ]
    },
    {
     "name": "stdout",
     "output_type": "stream",
     "text": [
      "Ingest /home/searoc/00-code/05-raw-data/Data From PSA/DAQ&PMS Data from PSA/For Envison/PRD DAQ Files- Quay Cranes/PQC886/DAQ_Log-10-24-2019/Complete_DAQ_LOG_20191024_0200.csv is completed!\n",
      "/home/searoc/00-code/05-raw-data/Data From PSA/DAQ&PMS Data from PSA/For Envison/PRD DAQ Files- Quay Cranes/PQC886/DAQ_Log-10-24-2019/Complete_DAQ_LOG_20191024_1500.csv\n"
     ]
    },
    {
     "name": "stderr",
     "output_type": "stream",
     "text": [
      " 81% (5696 of 7030) |################    | Elapsed Time: 0:00:00 ETA:   0:00:00"
     ]
    },
    {
     "name": "stdout",
     "output_type": "stream",
     "text": [
      "Ingest /home/searoc/00-code/05-raw-data/Data From PSA/DAQ&PMS Data from PSA/For Envison/PRD DAQ Files- Quay Cranes/PQC886/DAQ_Log-10-24-2019/Complete_DAQ_LOG_20191024_1500.csv is completed!\n",
      "/home/searoc/00-code/05-raw-data/Data From PSA/DAQ&PMS Data from PSA/For Envison/PRD DAQ Files- Quay Cranes/PQC886/DAQ_Log-10-24-2019/Complete_DAQ_LOG_20191024_2300.csv\n"
     ]
    },
    {
     "name": "stderr",
     "output_type": "stream",
     "text": [
      " 98% (6928 of 7016) |################### | Elapsed Time: 0:00:00 ETA:   0:00:00"
     ]
    },
    {
     "name": "stdout",
     "output_type": "stream",
     "text": [
      "Ingest /home/searoc/00-code/05-raw-data/Data From PSA/DAQ&PMS Data from PSA/For Envison/PRD DAQ Files- Quay Cranes/PQC886/DAQ_Log-10-24-2019/Complete_DAQ_LOG_20191024_2300.csv is completed!\n",
      "/home/searoc/00-code/05-raw-data/Data From PSA/DAQ&PMS Data from PSA/For Envison/PRD DAQ Files- Quay Cranes/PQC886/DAQ_Log-10-24-2019/Complete_DAQ_LOG_20191024_1800.csv\n"
     ]
    },
    {
     "name": "stderr",
     "output_type": "stream",
     "text": [
      " 93% (6574 of 7018) |##################  | Elapsed Time: 0:00:00 ETA:   0:00:00"
     ]
    },
    {
     "name": "stdout",
     "output_type": "stream",
     "text": [
      "Ingest /home/searoc/00-code/05-raw-data/Data From PSA/DAQ&PMS Data from PSA/For Envison/PRD DAQ Files- Quay Cranes/PQC886/DAQ_Log-10-24-2019/Complete_DAQ_LOG_20191024_1800.csv is completed!\n",
      "/home/searoc/00-code/05-raw-data/Data From PSA/DAQ&PMS Data from PSA/For Envison/PRD DAQ Files- Quay Cranes/PQC888/DAQ_Log-10-25-2019/Complete_DAQ_LOG_20191025_2300.csv\n"
     ]
    },
    {
     "name": "stderr",
     "output_type": "stream",
     "text": [
      " 81% (5678 of 7008) |################    | Elapsed Time: 0:00:00 ETA:   0:00:00"
     ]
    },
    {
     "name": "stdout",
     "output_type": "stream",
     "text": [
      "Ingest /home/searoc/00-code/05-raw-data/Data From PSA/DAQ&PMS Data from PSA/For Envison/PRD DAQ Files- Quay Cranes/PQC888/DAQ_Log-10-25-2019/Complete_DAQ_LOG_20191025_2300.csv is completed!\n",
      "/home/searoc/00-code/05-raw-data/Data From PSA/DAQ&PMS Data from PSA/For Envison/PRD DAQ Files- Quay Cranes/PQC888/DAQ_Log-10-25-2019/Complete_DAQ_LOG_20191025_1700.csv\n"
     ]
    },
    {
     "name": "stderr",
     "output_type": "stream",
     "text": [
      " 86% (6033 of 7008) |#################   | Elapsed Time: 0:00:00 ETA:   0:00:00"
     ]
    },
    {
     "name": "stdout",
     "output_type": "stream",
     "text": [
      "Ingest /home/searoc/00-code/05-raw-data/Data From PSA/DAQ&PMS Data from PSA/For Envison/PRD DAQ Files- Quay Cranes/PQC888/DAQ_Log-10-25-2019/Complete_DAQ_LOG_20191025_1700.csv is completed!\n",
      "/home/searoc/00-code/05-raw-data/Data From PSA/DAQ&PMS Data from PSA/For Envison/PRD DAQ Files- Quay Cranes/PQC888/DAQ_Log-10-25-2019/Complete_DAQ_LOG_20191025_1900.csv\n"
     ]
    },
    {
     "name": "stderr",
     "output_type": "stream",
     "text": [
      " 92% (6476 of 7008) |##################  | Elapsed Time: 0:00:00 ETA:   0:00:00"
     ]
    },
    {
     "name": "stdout",
     "output_type": "stream",
     "text": [
      "Ingest /home/searoc/00-code/05-raw-data/Data From PSA/DAQ&PMS Data from PSA/For Envison/PRD DAQ Files- Quay Cranes/PQC888/DAQ_Log-10-25-2019/Complete_DAQ_LOG_20191025_1900.csv is completed!\n",
      "/home/searoc/00-code/05-raw-data/Data From PSA/DAQ&PMS Data from PSA/For Envison/PRD DAQ Files- Quay Cranes/PQC888/DAQ_Log-10-25-2019/Complete_DAQ_LOG_20191025_1400.csv\n"
     ]
    },
    {
     "name": "stderr",
     "output_type": "stream",
     "text": [
      " 81% (5677 of 7007) |################    | Elapsed Time: 0:00:00 ETA:   0:00:00"
     ]
    },
    {
     "name": "stdout",
     "output_type": "stream",
     "text": [
      "Ingest /home/searoc/00-code/05-raw-data/Data From PSA/DAQ&PMS Data from PSA/For Envison/PRD DAQ Files- Quay Cranes/PQC888/DAQ_Log-10-25-2019/Complete_DAQ_LOG_20191025_1400.csv is completed!\n",
      "/home/searoc/00-code/05-raw-data/Data From PSA/DAQ&PMS Data from PSA/For Envison/PRD DAQ Files- Quay Cranes/PQC888/DAQ_Log-10-25-2019/Complete_DAQ_LOG_20191025_2000.csv\n"
     ]
    },
    {
     "name": "stderr",
     "output_type": "stream",
     "text": [
      " 81% (5678 of 7008) |################    | Elapsed Time: 0:00:00 ETA:   0:00:00"
     ]
    },
    {
     "name": "stdout",
     "output_type": "stream",
     "text": [
      "Ingest /home/searoc/00-code/05-raw-data/Data From PSA/DAQ&PMS Data from PSA/For Envison/PRD DAQ Files- Quay Cranes/PQC888/DAQ_Log-10-25-2019/Complete_DAQ_LOG_20191025_2000.csv is completed!\n",
      "/home/searoc/00-code/05-raw-data/Data From PSA/DAQ&PMS Data from PSA/For Envison/PRD DAQ Files- Quay Cranes/PQC888/DAQ_Log-10-25-2019/Complete_DAQ_LOG_20191025_2200.csv\n"
     ]
    },
    {
     "name": "stderr",
     "output_type": "stream",
     "text": [
      " 98% (6920 of 7008) |################### | Elapsed Time: 0:00:00 ETA:   0:00:00"
     ]
    },
    {
     "name": "stdout",
     "output_type": "stream",
     "text": [
      "Ingest /home/searoc/00-code/05-raw-data/Data From PSA/DAQ&PMS Data from PSA/For Envison/PRD DAQ Files- Quay Cranes/PQC888/DAQ_Log-10-25-2019/Complete_DAQ_LOG_20191025_2200.csv is completed!\n",
      "/home/searoc/00-code/05-raw-data/Data From PSA/DAQ&PMS Data from PSA/For Envison/PRD DAQ Files- Quay Cranes/PQC888/DAQ_Log-10-25-2019/Complete_DAQ_LOG_20191025_1000.csv\n"
     ]
    },
    {
     "name": "stderr",
     "output_type": "stream",
     "text": [
      " 94% (6654 of 7008) |##################  | Elapsed Time: 0:00:00 ETA:   0:00:00"
     ]
    },
    {
     "name": "stdout",
     "output_type": "stream",
     "text": [
      "Ingest /home/searoc/00-code/05-raw-data/Data From PSA/DAQ&PMS Data from PSA/For Envison/PRD DAQ Files- Quay Cranes/PQC888/DAQ_Log-10-25-2019/Complete_DAQ_LOG_20191025_1000.csv is completed!\n",
      "/home/searoc/00-code/05-raw-data/Data From PSA/DAQ&PMS Data from PSA/For Envison/PRD DAQ Files- Quay Cranes/PQC888/DAQ_Log-10-25-2019/Complete_DAQ_LOG_20191025_0400.csv\n"
     ]
    },
    {
     "name": "stderr",
     "output_type": "stream",
     "text": [
      " 96% (6742 of 7008) |################### | Elapsed Time: 0:00:00 ETA:   0:00:00"
     ]
    },
    {
     "name": "stdout",
     "output_type": "stream",
     "text": [
      "Ingest /home/searoc/00-code/05-raw-data/Data From PSA/DAQ&PMS Data from PSA/For Envison/PRD DAQ Files- Quay Cranes/PQC888/DAQ_Log-10-25-2019/Complete_DAQ_LOG_20191025_0400.csv is completed!\n",
      "/home/searoc/00-code/05-raw-data/Data From PSA/DAQ&PMS Data from PSA/For Envison/PRD DAQ Files- Quay Cranes/PQC888/DAQ_Log-10-25-2019/Complete_DAQ_LOG_20191025_0100.csv\n"
     ]
    },
    {
     "name": "stderr",
     "output_type": "stream",
     "text": [
      " 98% (6920 of 7008) |################### | Elapsed Time: 0:00:00 ETA:   0:00:00"
     ]
    },
    {
     "name": "stdout",
     "output_type": "stream",
     "text": [
      "Ingest /home/searoc/00-code/05-raw-data/Data From PSA/DAQ&PMS Data from PSA/For Envison/PRD DAQ Files- Quay Cranes/PQC888/DAQ_Log-10-25-2019/Complete_DAQ_LOG_20191025_0100.csv is completed!\n",
      "/home/searoc/00-code/05-raw-data/Data From PSA/DAQ&PMS Data from PSA/For Envison/PRD DAQ Files- Quay Cranes/PQC888/DAQ_Log-10-25-2019/Complete_DAQ_LOG_20191025_1600.csv\n"
     ]
    },
    {
     "name": "stderr",
     "output_type": "stream",
     "text": [
      " 94% (6653 of 7007) |##################  | Elapsed Time: 0:00:00 ETA:   0:00:00"
     ]
    },
    {
     "name": "stdout",
     "output_type": "stream",
     "text": [
      "Ingest /home/searoc/00-code/05-raw-data/Data From PSA/DAQ&PMS Data from PSA/For Envison/PRD DAQ Files- Quay Cranes/PQC888/DAQ_Log-10-25-2019/Complete_DAQ_LOG_20191025_1600.csv is completed!\n",
      "/home/searoc/00-code/05-raw-data/Data From PSA/DAQ&PMS Data from PSA/For Envison/PRD DAQ Files- Quay Cranes/PQC888/DAQ_Log-10-25-2019/Complete_DAQ_LOG_20191025_0500.csv\n"
     ]
    },
    {
     "name": "stderr",
     "output_type": "stream",
     "text": [
      " 94% (6655 of 7009) |##################  | Elapsed Time: 0:00:00 ETA:   0:00:00"
     ]
    },
    {
     "name": "stdout",
     "output_type": "stream",
     "text": [
      "Ingest /home/searoc/00-code/05-raw-data/Data From PSA/DAQ&PMS Data from PSA/For Envison/PRD DAQ Files- Quay Cranes/PQC888/DAQ_Log-10-25-2019/Complete_DAQ_LOG_20191025_0500.csv is completed!\n",
      "/home/searoc/00-code/05-raw-data/Data From PSA/DAQ&PMS Data from PSA/For Envison/PRD DAQ Files- Quay Cranes/PQC888/DAQ_Log-10-25-2019/Complete_DAQ_LOG_20191025_0300.csv\n"
     ]
    },
    {
     "name": "stderr",
     "output_type": "stream",
     "text": [
      " 87% (6121 of 7007) |#################   | Elapsed Time: 0:00:00 ETA:   0:00:00"
     ]
    },
    {
     "name": "stdout",
     "output_type": "stream",
     "text": [
      "Ingest /home/searoc/00-code/05-raw-data/Data From PSA/DAQ&PMS Data from PSA/For Envison/PRD DAQ Files- Quay Cranes/PQC888/DAQ_Log-10-25-2019/Complete_DAQ_LOG_20191025_0300.csv is completed!\n",
      "/home/searoc/00-code/05-raw-data/Data From PSA/DAQ&PMS Data from PSA/For Envison/PRD DAQ Files- Quay Cranes/PQC888/DAQ_Log-10-25-2019/Complete_DAQ_LOG_20191025_1800.csv\n"
     ]
    },
    {
     "name": "stderr",
     "output_type": "stream",
     "text": [
      " 96% (6742 of 7008) |################### | Elapsed Time: 0:00:00 ETA:   0:00:00"
     ]
    },
    {
     "name": "stdout",
     "output_type": "stream",
     "text": [
      "Ingest /home/searoc/00-code/05-raw-data/Data From PSA/DAQ&PMS Data from PSA/For Envison/PRD DAQ Files- Quay Cranes/PQC888/DAQ_Log-10-25-2019/Complete_DAQ_LOG_20191025_1800.csv is completed!\n",
      "/home/searoc/00-code/05-raw-data/Data From PSA/DAQ&PMS Data from PSA/For Envison/PRD DAQ Files- Quay Cranes/PQC888/DAQ_Log-10-25-2019/Complete_DAQ_LOG_20191025_0000.csv\n"
     ]
    },
    {
     "name": "stderr",
     "output_type": "stream",
     "text": [
      " 94% (6654 of 7008) |##################  | Elapsed Time: 0:00:00 ETA:   0:00:00"
     ]
    },
    {
     "name": "stdout",
     "output_type": "stream",
     "text": [
      "Ingest /home/searoc/00-code/05-raw-data/Data From PSA/DAQ&PMS Data from PSA/For Envison/PRD DAQ Files- Quay Cranes/PQC888/DAQ_Log-10-25-2019/Complete_DAQ_LOG_20191025_0000.csv is completed!\n",
      "/home/searoc/00-code/05-raw-data/Data From PSA/DAQ&PMS Data from PSA/For Envison/PRD DAQ Files- Quay Cranes/PQC888/DAQ_Log-10-25-2019/Complete_DAQ_LOG_20191025_0700.csv\n"
     ]
    },
    {
     "name": "stderr",
     "output_type": "stream",
     "text": [
      " 81% (5678 of 7008) |################    | Elapsed Time: 0:00:00 ETA:   0:00:00"
     ]
    },
    {
     "name": "stdout",
     "output_type": "stream",
     "text": [
      "Ingest /home/searoc/00-code/05-raw-data/Data From PSA/DAQ&PMS Data from PSA/For Envison/PRD DAQ Files- Quay Cranes/PQC888/DAQ_Log-10-25-2019/Complete_DAQ_LOG_20191025_0700.csv is completed!\n",
      "/home/searoc/00-code/05-raw-data/Data From PSA/DAQ&PMS Data from PSA/For Envison/PRD DAQ Files- Quay Cranes/PQC888/DAQ_Log-10-25-2019/Complete_DAQ_LOG_20191025_2100.csv\n"
     ]
    },
    {
     "name": "stderr",
     "output_type": "stream",
     "text": [
      " 79% (5589 of 7008) |###############     | Elapsed Time: 0:00:00 ETA:   0:00:00"
     ]
    },
    {
     "name": "stdout",
     "output_type": "stream",
     "text": [
      "Ingest /home/searoc/00-code/05-raw-data/Data From PSA/DAQ&PMS Data from PSA/For Envison/PRD DAQ Files- Quay Cranes/PQC888/DAQ_Log-10-25-2019/Complete_DAQ_LOG_20191025_2100.csv is completed!\n",
      "/home/searoc/00-code/05-raw-data/Data From PSA/DAQ&PMS Data from PSA/For Envison/PRD DAQ Files- Quay Cranes/PQC888/DAQ_Log-10-25-2019/Complete_DAQ_LOG_20191025_1200.csv\n"
     ]
    },
    {
     "name": "stderr",
     "output_type": "stream",
     "text": [
      " 91% (6388 of 7008) |##################  | Elapsed Time: 0:00:00 ETA:   0:00:00"
     ]
    },
    {
     "name": "stdout",
     "output_type": "stream",
     "text": [
      "Ingest /home/searoc/00-code/05-raw-data/Data From PSA/DAQ&PMS Data from PSA/For Envison/PRD DAQ Files- Quay Cranes/PQC888/DAQ_Log-10-25-2019/Complete_DAQ_LOG_20191025_1200.csv is completed!\n",
      "/home/searoc/00-code/05-raw-data/Data From PSA/DAQ&PMS Data from PSA/For Envison/PRD DAQ Files- Quay Cranes/PQC888/DAQ_Log-10-25-2019/Complete_DAQ_LOG_20191025_1500.csv\n"
     ]
    },
    {
     "name": "stderr",
     "output_type": "stream",
     "text": [
      " 97% (6830 of 7007) |################### | Elapsed Time: 0:00:00 ETA:   0:00:00"
     ]
    },
    {
     "name": "stdout",
     "output_type": "stream",
     "text": [
      "Ingest /home/searoc/00-code/05-raw-data/Data From PSA/DAQ&PMS Data from PSA/For Envison/PRD DAQ Files- Quay Cranes/PQC888/DAQ_Log-10-25-2019/Complete_DAQ_LOG_20191025_1500.csv is completed!\n",
      "/home/searoc/00-code/05-raw-data/Data From PSA/DAQ&PMS Data from PSA/For Envison/PRD DAQ Files- Quay Cranes/PQC888/DAQ_Log-10-25-2019/Complete_DAQ_LOG_20191025_0900.csv\n"
     ]
    },
    {
     "name": "stderr",
     "output_type": "stream",
     "text": [
      " 94% (6654 of 7008) |##################  | Elapsed Time: 0:00:00 ETA:   0:00:00"
     ]
    },
    {
     "name": "stdout",
     "output_type": "stream",
     "text": [
      "Ingest /home/searoc/00-code/05-raw-data/Data From PSA/DAQ&PMS Data from PSA/For Envison/PRD DAQ Files- Quay Cranes/PQC888/DAQ_Log-10-25-2019/Complete_DAQ_LOG_20191025_0900.csv is completed!\n",
      "/home/searoc/00-code/05-raw-data/Data From PSA/DAQ&PMS Data from PSA/For Envison/PRD DAQ Files- Quay Cranes/PQC888/DAQ_Log-10-25-2019/Complete_DAQ_LOG_20191025_0800.csv\n"
     ]
    },
    {
     "name": "stderr",
     "output_type": "stream",
     "text": [
      " 81% (5678 of 7008) |################    | Elapsed Time: 0:00:00 ETA:   0:00:00"
     ]
    },
    {
     "name": "stdout",
     "output_type": "stream",
     "text": [
      "Ingest /home/searoc/00-code/05-raw-data/Data From PSA/DAQ&PMS Data from PSA/For Envison/PRD DAQ Files- Quay Cranes/PQC888/DAQ_Log-10-25-2019/Complete_DAQ_LOG_20191025_0800.csv is completed!\n",
      "/home/searoc/00-code/05-raw-data/Data From PSA/DAQ&PMS Data from PSA/For Envison/PRD DAQ Files- Quay Cranes/PQC888/DAQ_Log-10-25-2019/Complete_DAQ_LOG_20191025_1100.csv\n"
     ]
    },
    {
     "name": "stderr",
     "output_type": "stream",
     "text": [
      " 84% (5944 of 7008) |################    | Elapsed Time: 0:00:00 ETA:   0:00:00"
     ]
    },
    {
     "name": "stdout",
     "output_type": "stream",
     "text": [
      "Ingest /home/searoc/00-code/05-raw-data/Data From PSA/DAQ&PMS Data from PSA/For Envison/PRD DAQ Files- Quay Cranes/PQC888/DAQ_Log-10-25-2019/Complete_DAQ_LOG_20191025_1100.csv is completed!\n",
      "/home/searoc/00-code/05-raw-data/Data From PSA/DAQ&PMS Data from PSA/For Envison/PRD DAQ Files- Quay Cranes/PQC888/DAQ_Log-10-25-2019/Complete_DAQ_LOG_20191025_0200.csv\n"
     ]
    },
    {
     "name": "stderr",
     "output_type": "stream",
     "text": [
      " 94% (6653 of 7007) |##################  | Elapsed Time: 0:00:00 ETA:   0:00:00"
     ]
    },
    {
     "name": "stdout",
     "output_type": "stream",
     "text": [
      "Ingest /home/searoc/00-code/05-raw-data/Data From PSA/DAQ&PMS Data from PSA/For Envison/PRD DAQ Files- Quay Cranes/PQC888/DAQ_Log-10-25-2019/Complete_DAQ_LOG_20191025_0200.csv is completed!\n",
      "/home/searoc/00-code/05-raw-data/Data From PSA/DAQ&PMS Data from PSA/For Envison/PRD DAQ Files- Quay Cranes/PQC888/DAQ_Log-10-25-2019/Complete_DAQ_LOG_20191025_0600.csv\n"
     ]
    },
    {
     "name": "stderr",
     "output_type": "stream",
     "text": [
      " 86% (6032 of 7007) |#################   | Elapsed Time: 0:00:00 ETA:   0:00:00"
     ]
    },
    {
     "name": "stdout",
     "output_type": "stream",
     "text": [
      "Ingest /home/searoc/00-code/05-raw-data/Data From PSA/DAQ&PMS Data from PSA/For Envison/PRD DAQ Files- Quay Cranes/PQC888/DAQ_Log-10-25-2019/Complete_DAQ_LOG_20191025_0600.csv is completed!\n",
      "/home/searoc/00-code/05-raw-data/Data From PSA/DAQ&PMS Data from PSA/For Envison/PRD DAQ Files- Quay Cranes/PQC888/DAQ_Log-10-25-2019/Complete_DAQ_LOG_20191025_1300.csv\n"
     ]
    },
    {
     "name": "stderr",
     "output_type": "stream",
     "text": [
      " 81% (5678 of 7008) |################    | Elapsed Time: 0:00:00 ETA:   0:00:00"
     ]
    },
    {
     "name": "stdout",
     "output_type": "stream",
     "text": [
      "Ingest /home/searoc/00-code/05-raw-data/Data From PSA/DAQ&PMS Data from PSA/For Envison/PRD DAQ Files- Quay Cranes/PQC888/DAQ_Log-10-25-2019/Complete_DAQ_LOG_20191025_1300.csv is completed!\n",
      "/home/searoc/00-code/05-raw-data/Data From PSA/DAQ&PMS Data from PSA/For Envison/PRD DAQ Files- Quay Cranes/PQC888/DAQ_Log-10-26-2019/Complete_DAQ_LOG_20191026_1400.csv\n"
     ]
    },
    {
     "name": "stderr",
     "output_type": "stream",
     "text": [
      " 81% (5678 of 7008) |################    | Elapsed Time: 0:00:00 ETA:   0:00:00"
     ]
    },
    {
     "name": "stdout",
     "output_type": "stream",
     "text": [
      "Ingest /home/searoc/00-code/05-raw-data/Data From PSA/DAQ&PMS Data from PSA/For Envison/PRD DAQ Files- Quay Cranes/PQC888/DAQ_Log-10-26-2019/Complete_DAQ_LOG_20191026_1400.csv is completed!\n",
      "/home/searoc/00-code/05-raw-data/Data From PSA/DAQ&PMS Data from PSA/For Envison/PRD DAQ Files- Quay Cranes/PQC888/DAQ_Log-10-26-2019/Complete_DAQ_LOG_20191026_1700.csv\n"
     ]
    },
    {
     "name": "stderr",
     "output_type": "stream",
     "text": [
      " 79% (5589 of 7008) |###############     | Elapsed Time: 0:00:00 ETA:   0:00:00"
     ]
    },
    {
     "name": "stdout",
     "output_type": "stream",
     "text": [
      "Ingest /home/searoc/00-code/05-raw-data/Data From PSA/DAQ&PMS Data from PSA/For Envison/PRD DAQ Files- Quay Cranes/PQC888/DAQ_Log-10-26-2019/Complete_DAQ_LOG_20191026_1700.csv is completed!\n",
      "/home/searoc/00-code/05-raw-data/Data From PSA/DAQ&PMS Data from PSA/For Envison/PRD DAQ Files- Quay Cranes/PQC888/DAQ_Log-10-26-2019/Complete_DAQ_LOG_20191026_2100.csv\n"
     ]
    },
    {
     "name": "stderr",
     "output_type": "stream",
     "text": [
      " 81% (5678 of 7008) |################    | Elapsed Time: 0:00:00 ETA:   0:00:00"
     ]
    },
    {
     "name": "stdout",
     "output_type": "stream",
     "text": [
      "Ingest /home/searoc/00-code/05-raw-data/Data From PSA/DAQ&PMS Data from PSA/For Envison/PRD DAQ Files- Quay Cranes/PQC888/DAQ_Log-10-26-2019/Complete_DAQ_LOG_20191026_2100.csv is completed!\n",
      "/home/searoc/00-code/05-raw-data/Data From PSA/DAQ&PMS Data from PSA/For Envison/PRD DAQ Files- Quay Cranes/PQC888/DAQ_Log-10-26-2019/Complete_DAQ_LOG_20191026_0200.csv\n"
     ]
    },
    {
     "name": "stderr",
     "output_type": "stream",
     "text": [
      " 81% (5677 of 7007) |################    | Elapsed Time: 0:00:00 ETA:   0:00:00"
     ]
    },
    {
     "name": "stdout",
     "output_type": "stream",
     "text": [
      "Ingest /home/searoc/00-code/05-raw-data/Data From PSA/DAQ&PMS Data from PSA/For Envison/PRD DAQ Files- Quay Cranes/PQC888/DAQ_Log-10-26-2019/Complete_DAQ_LOG_20191026_0200.csv is completed!\n",
      "/home/searoc/00-code/05-raw-data/Data From PSA/DAQ&PMS Data from PSA/For Envison/PRD DAQ Files- Quay Cranes/PQC888/DAQ_Log-10-26-2019/Complete_DAQ_LOG_20191026_2000.csv\n"
     ]
    },
    {
     "name": "stderr",
     "output_type": "stream",
     "text": [
      " 81% (5678 of 7008) |################    | Elapsed Time: 0:00:00 ETA:   0:00:00"
     ]
    },
    {
     "name": "stdout",
     "output_type": "stream",
     "text": [
      "Ingest /home/searoc/00-code/05-raw-data/Data From PSA/DAQ&PMS Data from PSA/For Envison/PRD DAQ Files- Quay Cranes/PQC888/DAQ_Log-10-26-2019/Complete_DAQ_LOG_20191026_2000.csv is completed!\n",
      "/home/searoc/00-code/05-raw-data/Data From PSA/DAQ&PMS Data from PSA/For Envison/PRD DAQ Files- Quay Cranes/PQC888/DAQ_Log-10-26-2019/Complete_DAQ_LOG_20191026_0000.csv\n"
     ]
    },
    {
     "name": "stderr",
     "output_type": "stream",
     "text": [
      " 79% (5589 of 7008) |###############     | Elapsed Time: 0:00:00 ETA:   0:00:00"
     ]
    },
    {
     "name": "stdout",
     "output_type": "stream",
     "text": [
      "Ingest /home/searoc/00-code/05-raw-data/Data From PSA/DAQ&PMS Data from PSA/For Envison/PRD DAQ Files- Quay Cranes/PQC888/DAQ_Log-10-26-2019/Complete_DAQ_LOG_20191026_0000.csv is completed!\n",
      "/home/searoc/00-code/05-raw-data/Data From PSA/DAQ&PMS Data from PSA/For Envison/PRD DAQ Files- Quay Cranes/PQC888/DAQ_Log-10-26-2019/Complete_DAQ_LOG_20191026_0300.csv\n"
     ]
    },
    {
     "name": "stderr",
     "output_type": "stream",
     "text": [
      " 89% (6299 of 7008) |#################   | Elapsed Time: 0:00:00 ETA:   0:00:00"
     ]
    },
    {
     "name": "stdout",
     "output_type": "stream",
     "text": [
      "Ingest /home/searoc/00-code/05-raw-data/Data From PSA/DAQ&PMS Data from PSA/For Envison/PRD DAQ Files- Quay Cranes/PQC888/DAQ_Log-10-26-2019/Complete_DAQ_LOG_20191026_0300.csv is completed!\n",
      "/home/searoc/00-code/05-raw-data/Data From PSA/DAQ&PMS Data from PSA/For Envison/PRD DAQ Files- Quay Cranes/PQC888/DAQ_Log-10-26-2019/Complete_DAQ_LOG_20191026_1200.csv\n"
     ]
    },
    {
     "name": "stderr",
     "output_type": "stream",
     "text": [
      " 97% (6831 of 7008) |################### | Elapsed Time: 0:00:00 ETA:   0:00:00"
     ]
    },
    {
     "name": "stdout",
     "output_type": "stream",
     "text": [
      "Ingest /home/searoc/00-code/05-raw-data/Data From PSA/DAQ&PMS Data from PSA/For Envison/PRD DAQ Files- Quay Cranes/PQC888/DAQ_Log-10-26-2019/Complete_DAQ_LOG_20191026_1200.csv is completed!\n",
      "/home/searoc/00-code/05-raw-data/Data From PSA/DAQ&PMS Data from PSA/For Envison/PRD DAQ Files- Quay Cranes/PQC888/DAQ_Log-10-26-2019/Complete_DAQ_LOG_20191026_0900.csv\n"
     ]
    },
    {
     "name": "stderr",
     "output_type": "stream",
     "text": [
      " 97% (6831 of 7008) |################### | Elapsed Time: 0:00:00 ETA:   0:00:00"
     ]
    },
    {
     "name": "stdout",
     "output_type": "stream",
     "text": [
      "Ingest /home/searoc/00-code/05-raw-data/Data From PSA/DAQ&PMS Data from PSA/For Envison/PRD DAQ Files- Quay Cranes/PQC888/DAQ_Log-10-26-2019/Complete_DAQ_LOG_20191026_0900.csv is completed!\n",
      "/home/searoc/00-code/05-raw-data/Data From PSA/DAQ&PMS Data from PSA/For Envison/PRD DAQ Files- Quay Cranes/PQC888/DAQ_Log-10-26-2019/Complete_DAQ_LOG_20191026_1300.csv\n"
     ]
    },
    {
     "name": "stderr",
     "output_type": "stream",
     "text": [
      " 97% (6831 of 7008) |################### | Elapsed Time: 0:00:00 ETA:   0:00:00"
     ]
    },
    {
     "name": "stdout",
     "output_type": "stream",
     "text": [
      "Ingest /home/searoc/00-code/05-raw-data/Data From PSA/DAQ&PMS Data from PSA/For Envison/PRD DAQ Files- Quay Cranes/PQC888/DAQ_Log-10-26-2019/Complete_DAQ_LOG_20191026_1300.csv is completed!\n",
      "/home/searoc/00-code/05-raw-data/Data From PSA/DAQ&PMS Data from PSA/For Envison/PRD DAQ Files- Quay Cranes/PQC888/DAQ_Log-10-26-2019/Complete_DAQ_LOG_20191026_1800.csv\n"
     ]
    },
    {
     "name": "stderr",
     "output_type": "stream",
     "text": [
      " 82% (5767 of 7008) |################    | Elapsed Time: 0:00:00 ETA:   0:00:00"
     ]
    },
    {
     "name": "stdout",
     "output_type": "stream",
     "text": [
      "Ingest /home/searoc/00-code/05-raw-data/Data From PSA/DAQ&PMS Data from PSA/For Envison/PRD DAQ Files- Quay Cranes/PQC888/DAQ_Log-10-26-2019/Complete_DAQ_LOG_20191026_1800.csv is completed!\n",
      "/home/searoc/00-code/05-raw-data/Data From PSA/DAQ&PMS Data from PSA/For Envison/PRD DAQ Files- Quay Cranes/PQC888/DAQ_Log-10-26-2019/Complete_DAQ_LOG_20191026_1500.csv\n"
     ]
    },
    {
     "name": "stderr",
     "output_type": "stream",
     "text": [
      " 79% (5589 of 7008) |###############     | Elapsed Time: 0:00:00 ETA:   0:00:00"
     ]
    },
    {
     "name": "stdout",
     "output_type": "stream",
     "text": [
      "Ingest /home/searoc/00-code/05-raw-data/Data From PSA/DAQ&PMS Data from PSA/For Envison/PRD DAQ Files- Quay Cranes/PQC888/DAQ_Log-10-26-2019/Complete_DAQ_LOG_20191026_1500.csv is completed!\n",
      "/home/searoc/00-code/05-raw-data/Data From PSA/DAQ&PMS Data from PSA/For Envison/PRD DAQ Files- Quay Cranes/PQC888/DAQ_Log-10-26-2019/Complete_DAQ_LOG_20191026_2200.csv\n"
     ]
    },
    {
     "name": "stderr",
     "output_type": "stream",
     "text": [
      " 81% (5678 of 7008) |################    | Elapsed Time: 0:00:00 ETA:   0:00:00"
     ]
    },
    {
     "name": "stdout",
     "output_type": "stream",
     "text": [
      "Ingest /home/searoc/00-code/05-raw-data/Data From PSA/DAQ&PMS Data from PSA/For Envison/PRD DAQ Files- Quay Cranes/PQC888/DAQ_Log-10-26-2019/Complete_DAQ_LOG_20191026_2200.csv is completed!\n",
      "/home/searoc/00-code/05-raw-data/Data From PSA/DAQ&PMS Data from PSA/For Envison/PRD DAQ Files- Quay Cranes/PQC888/DAQ_Log-10-26-2019/Complete_DAQ_LOG_20191026_0500.csv\n"
     ]
    },
    {
     "name": "stderr",
     "output_type": "stream",
     "text": [
      " 81% (5678 of 7008) |################    | Elapsed Time: 0:00:00 ETA:   0:00:00"
     ]
    },
    {
     "name": "stdout",
     "output_type": "stream",
     "text": [
      "Ingest /home/searoc/00-code/05-raw-data/Data From PSA/DAQ&PMS Data from PSA/For Envison/PRD DAQ Files- Quay Cranes/PQC888/DAQ_Log-10-26-2019/Complete_DAQ_LOG_20191026_0500.csv is completed!\n",
      "/home/searoc/00-code/05-raw-data/Data From PSA/DAQ&PMS Data from PSA/For Envison/PRD DAQ Files- Quay Cranes/PQC888/DAQ_Log-10-26-2019/Complete_DAQ_LOG_20191026_2300.csv\n"
     ]
    },
    {
     "name": "stderr",
     "output_type": "stream",
     "text": [
      " 88% (6210 of 7008) |#################   | Elapsed Time: 0:00:00 ETA:   0:00:00"
     ]
    },
    {
     "name": "stdout",
     "output_type": "stream",
     "text": [
      "Ingest /home/searoc/00-code/05-raw-data/Data From PSA/DAQ&PMS Data from PSA/For Envison/PRD DAQ Files- Quay Cranes/PQC888/DAQ_Log-10-26-2019/Complete_DAQ_LOG_20191026_2300.csv is completed!\n",
      "/home/searoc/00-code/05-raw-data/Data From PSA/DAQ&PMS Data from PSA/For Envison/PRD DAQ Files- Quay Cranes/PQC888/DAQ_Log-10-26-2019/Complete_DAQ_LOG_20191026_1900.csv\n"
     ]
    },
    {
     "name": "stderr",
     "output_type": "stream",
     "text": [
      " 92% (6476 of 7008) |##################  | Elapsed Time: 0:00:00 ETA:   0:00:00"
     ]
    },
    {
     "name": "stdout",
     "output_type": "stream",
     "text": [
      "Ingest /home/searoc/00-code/05-raw-data/Data From PSA/DAQ&PMS Data from PSA/For Envison/PRD DAQ Files- Quay Cranes/PQC888/DAQ_Log-10-26-2019/Complete_DAQ_LOG_20191026_1900.csv is completed!\n",
      "/home/searoc/00-code/05-raw-data/Data From PSA/DAQ&PMS Data from PSA/For Envison/PRD DAQ Files- Quay Cranes/PQC888/DAQ_Log-10-26-2019/Complete_DAQ_LOG_20191026_0100.csv\n"
     ]
    },
    {
     "name": "stderr",
     "output_type": "stream",
     "text": [
      " 94% (6654 of 7008) |##################  | Elapsed Time: 0:00:00 ETA:   0:00:00"
     ]
    },
    {
     "name": "stdout",
     "output_type": "stream",
     "text": [
      "Ingest /home/searoc/00-code/05-raw-data/Data From PSA/DAQ&PMS Data from PSA/For Envison/PRD DAQ Files- Quay Cranes/PQC888/DAQ_Log-10-26-2019/Complete_DAQ_LOG_20191026_0100.csv is completed!\n",
      "/home/searoc/00-code/05-raw-data/Data From PSA/DAQ&PMS Data from PSA/For Envison/PRD DAQ Files- Quay Cranes/PQC888/DAQ_Log-10-26-2019/Complete_DAQ_LOG_20191026_1600.csv\n"
     ]
    },
    {
     "name": "stderr",
     "output_type": "stream",
     "text": [
      " 81% (5678 of 7008) |################    | Elapsed Time: 0:00:00 ETA:   0:00:00"
     ]
    },
    {
     "name": "stdout",
     "output_type": "stream",
     "text": [
      "Ingest /home/searoc/00-code/05-raw-data/Data From PSA/DAQ&PMS Data from PSA/For Envison/PRD DAQ Files- Quay Cranes/PQC888/DAQ_Log-10-26-2019/Complete_DAQ_LOG_20191026_1600.csv is completed!\n",
      "/home/searoc/00-code/05-raw-data/Data From PSA/DAQ&PMS Data from PSA/For Envison/PRD DAQ Files- Quay Cranes/PQC888/DAQ_Log-10-26-2019/Complete_DAQ_LOG_20191026_0400.csv\n"
     ]
    },
    {
     "name": "stderr",
     "output_type": "stream",
     "text": [
      " 98% (6920 of 7008) |################### | Elapsed Time: 0:00:00 ETA:   0:00:00"
     ]
    },
    {
     "name": "stdout",
     "output_type": "stream",
     "text": [
      "Ingest /home/searoc/00-code/05-raw-data/Data From PSA/DAQ&PMS Data from PSA/For Envison/PRD DAQ Files- Quay Cranes/PQC888/DAQ_Log-10-26-2019/Complete_DAQ_LOG_20191026_0400.csv is completed!\n",
      "/home/searoc/00-code/05-raw-data/Data From PSA/DAQ&PMS Data from PSA/For Envison/PRD DAQ Files- Quay Cranes/PQC888/DAQ_Log-10-26-2019/Complete_DAQ_LOG_20191026_0700.csv\n"
     ]
    },
    {
     "name": "stderr",
     "output_type": "stream",
     "text": [
      " 94% (6654 of 7008) |##################  | Elapsed Time: 0:00:00 ETA:   0:00:00"
     ]
    },
    {
     "name": "stdout",
     "output_type": "stream",
     "text": [
      "Ingest /home/searoc/00-code/05-raw-data/Data From PSA/DAQ&PMS Data from PSA/For Envison/PRD DAQ Files- Quay Cranes/PQC888/DAQ_Log-10-26-2019/Complete_DAQ_LOG_20191026_0700.csv is completed!\n",
      "/home/searoc/00-code/05-raw-data/Data From PSA/DAQ&PMS Data from PSA/For Envison/PRD DAQ Files- Quay Cranes/PQC888/DAQ_Log-10-26-2019/Complete_DAQ_LOG_20191026_1000.csv\n"
     ]
    },
    {
     "name": "stderr",
     "output_type": "stream",
     "text": [
      " 84% (5944 of 7008) |################    | Elapsed Time: 0:00:00 ETA:   0:00:00"
     ]
    },
    {
     "name": "stdout",
     "output_type": "stream",
     "text": [
      "Ingest /home/searoc/00-code/05-raw-data/Data From PSA/DAQ&PMS Data from PSA/For Envison/PRD DAQ Files- Quay Cranes/PQC888/DAQ_Log-10-26-2019/Complete_DAQ_LOG_20191026_1000.csv is completed!\n",
      "/home/searoc/00-code/05-raw-data/Data From PSA/DAQ&PMS Data from PSA/For Envison/PRD DAQ Files- Quay Cranes/PQC888/DAQ_Log-10-26-2019/Complete_DAQ_LOG_20191026_1100.csv\n"
     ]
    },
    {
     "name": "stderr",
     "output_type": "stream",
     "text": [
      " 92% (6476 of 7008) |##################  | Elapsed Time: 0:00:00 ETA:   0:00:00"
     ]
    },
    {
     "name": "stdout",
     "output_type": "stream",
     "text": [
      "Ingest /home/searoc/00-code/05-raw-data/Data From PSA/DAQ&PMS Data from PSA/For Envison/PRD DAQ Files- Quay Cranes/PQC888/DAQ_Log-10-26-2019/Complete_DAQ_LOG_20191026_1100.csv is completed!\n",
      "/home/searoc/00-code/05-raw-data/Data From PSA/DAQ&PMS Data from PSA/For Envison/PRD DAQ Files- Quay Cranes/PQC888/DAQ_Log-10-26-2019/Complete_DAQ_LOG_20191026_0800.csv\n"
     ]
    },
    {
     "name": "stderr",
     "output_type": "stream",
     "text": [
      " 89% (6299 of 7008) |#################   | Elapsed Time: 0:00:00 ETA:   0:00:00"
     ]
    },
    {
     "name": "stdout",
     "output_type": "stream",
     "text": [
      "Ingest /home/searoc/00-code/05-raw-data/Data From PSA/DAQ&PMS Data from PSA/For Envison/PRD DAQ Files- Quay Cranes/PQC888/DAQ_Log-10-26-2019/Complete_DAQ_LOG_20191026_0800.csv is completed!\n",
      "/home/searoc/00-code/05-raw-data/Data From PSA/DAQ&PMS Data from PSA/For Envison/PRD DAQ Files- Quay Cranes/PQC888/DAQ_Log-10-26-2019/Complete_DAQ_LOG_20191026_0600.csv\n"
     ]
    },
    {
     "name": "stderr",
     "output_type": "stream",
     "text": [
      " 98% (6920 of 7008) |################### | Elapsed Time: 0:00:00 ETA:   0:00:00"
     ]
    },
    {
     "name": "stdout",
     "output_type": "stream",
     "text": [
      "Ingest /home/searoc/00-code/05-raw-data/Data From PSA/DAQ&PMS Data from PSA/For Envison/PRD DAQ Files- Quay Cranes/PQC888/DAQ_Log-10-26-2019/Complete_DAQ_LOG_20191026_0600.csv is completed!\n",
      "/home/searoc/00-code/05-raw-data/Data From PSA/DAQ&PMS Data from PSA/For Envison/PRD DAQ Files- Quay Cranes/PQC888/DAQ_Log-10-24-2019/Complete_DAQ_LOG_20191024_1200.csv\n"
     ]
    },
    {
     "name": "stderr",
     "output_type": "stream",
     "text": [
      " 82% (5767 of 7008) |################    | Elapsed Time: 0:00:00 ETA:   0:00:00"
     ]
    },
    {
     "name": "stdout",
     "output_type": "stream",
     "text": [
      "Ingest /home/searoc/00-code/05-raw-data/Data From PSA/DAQ&PMS Data from PSA/For Envison/PRD DAQ Files- Quay Cranes/PQC888/DAQ_Log-10-24-2019/Complete_DAQ_LOG_20191024_1200.csv is completed!\n",
      "/home/searoc/00-code/05-raw-data/Data From PSA/DAQ&PMS Data from PSA/For Envison/PRD DAQ Files- Quay Cranes/PQC888/DAQ_Log-10-24-2019/Complete_DAQ_LOG_20191024_0700.csv\n"
     ]
    },
    {
     "name": "stderr",
     "output_type": "stream",
     "text": [
      " 81% (5678 of 7008) |################    | Elapsed Time: 0:00:00 ETA:   0:00:00"
     ]
    },
    {
     "name": "stdout",
     "output_type": "stream",
     "text": [
      "Ingest /home/searoc/00-code/05-raw-data/Data From PSA/DAQ&PMS Data from PSA/For Envison/PRD DAQ Files- Quay Cranes/PQC888/DAQ_Log-10-24-2019/Complete_DAQ_LOG_20191024_0700.csv is completed!\n",
      "/home/searoc/00-code/05-raw-data/Data From PSA/DAQ&PMS Data from PSA/For Envison/PRD DAQ Files- Quay Cranes/PQC888/DAQ_Log-10-24-2019/Complete_DAQ_LOG_20191024_1000.csv\n"
     ]
    },
    {
     "name": "stderr",
     "output_type": "stream",
     "text": [
      " 94% (6653 of 7007) |##################  | Elapsed Time: 0:00:00 ETA:   0:00:00"
     ]
    },
    {
     "name": "stdout",
     "output_type": "stream",
     "text": [
      "Ingest /home/searoc/00-code/05-raw-data/Data From PSA/DAQ&PMS Data from PSA/For Envison/PRD DAQ Files- Quay Cranes/PQC888/DAQ_Log-10-24-2019/Complete_DAQ_LOG_20191024_1000.csv is completed!\n",
      "/home/searoc/00-code/05-raw-data/Data From PSA/DAQ&PMS Data from PSA/For Envison/PRD DAQ Files- Quay Cranes/PQC888/DAQ_Log-10-24-2019/Complete_DAQ_LOG_20191024_1600.csv\n"
     ]
    },
    {
     "name": "stderr",
     "output_type": "stream",
     "text": [
      " 79% (5589 of 7008) |###############     | Elapsed Time: 0:00:00 ETA:   0:00:00"
     ]
    },
    {
     "name": "stdout",
     "output_type": "stream",
     "text": [
      "Ingest /home/searoc/00-code/05-raw-data/Data From PSA/DAQ&PMS Data from PSA/For Envison/PRD DAQ Files- Quay Cranes/PQC888/DAQ_Log-10-24-2019/Complete_DAQ_LOG_20191024_1600.csv is completed!\n",
      "/home/searoc/00-code/05-raw-data/Data From PSA/DAQ&PMS Data from PSA/For Envison/PRD DAQ Files- Quay Cranes/PQC888/DAQ_Log-10-24-2019/Complete_DAQ_LOG_20191024_0500.csv\n"
     ]
    },
    {
     "name": "stderr",
     "output_type": "stream",
     "text": [
      " 93% (6565 of 7008) |##################  | Elapsed Time: 0:00:00 ETA:   0:00:00"
     ]
    },
    {
     "name": "stdout",
     "output_type": "stream",
     "text": [
      "Ingest /home/searoc/00-code/05-raw-data/Data From PSA/DAQ&PMS Data from PSA/For Envison/PRD DAQ Files- Quay Cranes/PQC888/DAQ_Log-10-24-2019/Complete_DAQ_LOG_20191024_0500.csv is completed!\n",
      "/home/searoc/00-code/05-raw-data/Data From PSA/DAQ&PMS Data from PSA/For Envison/PRD DAQ Files- Quay Cranes/PQC888/DAQ_Log-10-24-2019/Complete_DAQ_LOG_20191024_0600.csv\n"
     ]
    },
    {
     "name": "stderr",
     "output_type": "stream",
     "text": [
      " 89% (6299 of 7008) |#################   | Elapsed Time: 0:00:00 ETA:   0:00:00"
     ]
    },
    {
     "name": "stdout",
     "output_type": "stream",
     "text": [
      "Ingest /home/searoc/00-code/05-raw-data/Data From PSA/DAQ&PMS Data from PSA/For Envison/PRD DAQ Files- Quay Cranes/PQC888/DAQ_Log-10-24-2019/Complete_DAQ_LOG_20191024_0600.csv is completed!\n",
      "/home/searoc/00-code/05-raw-data/Data From PSA/DAQ&PMS Data from PSA/For Envison/PRD DAQ Files- Quay Cranes/PQC888/DAQ_Log-10-24-2019/Complete_DAQ_LOG_20191024_0300.csv\n"
     ]
    },
    {
     "name": "stderr",
     "output_type": "stream",
     "text": [
      " 81% (5678 of 7008) |################    | Elapsed Time: 0:00:00 ETA:   0:00:00"
     ]
    },
    {
     "name": "stdout",
     "output_type": "stream",
     "text": [
      "Ingest /home/searoc/00-code/05-raw-data/Data From PSA/DAQ&PMS Data from PSA/For Envison/PRD DAQ Files- Quay Cranes/PQC888/DAQ_Log-10-24-2019/Complete_DAQ_LOG_20191024_0300.csv is completed!\n",
      "/home/searoc/00-code/05-raw-data/Data From PSA/DAQ&PMS Data from PSA/For Envison/PRD DAQ Files- Quay Cranes/PQC888/DAQ_Log-10-24-2019/Complete_DAQ_LOG_20191024_1100.csv\n"
     ]
    },
    {
     "name": "stderr",
     "output_type": "stream",
     "text": [
      " 98% (6920 of 7008) |################### | Elapsed Time: 0:00:00 ETA:   0:00:00"
     ]
    },
    {
     "name": "stdout",
     "output_type": "stream",
     "text": [
      "Ingest /home/searoc/00-code/05-raw-data/Data From PSA/DAQ&PMS Data from PSA/For Envison/PRD DAQ Files- Quay Cranes/PQC888/DAQ_Log-10-24-2019/Complete_DAQ_LOG_20191024_1100.csv is completed!\n",
      "/home/searoc/00-code/05-raw-data/Data From PSA/DAQ&PMS Data from PSA/For Envison/PRD DAQ Files- Quay Cranes/PQC888/DAQ_Log-10-24-2019/Complete_DAQ_LOG_20191024_1900.csv\n"
     ]
    },
    {
     "name": "stderr",
     "output_type": "stream",
     "text": [
      " 94% (6655 of 7009) |##################  | Elapsed Time: 0:00:00 ETA:   0:00:00"
     ]
    },
    {
     "name": "stdout",
     "output_type": "stream",
     "text": [
      "Ingest /home/searoc/00-code/05-raw-data/Data From PSA/DAQ&PMS Data from PSA/For Envison/PRD DAQ Files- Quay Cranes/PQC888/DAQ_Log-10-24-2019/Complete_DAQ_LOG_20191024_1900.csv is completed!\n",
      "/home/searoc/00-code/05-raw-data/Data From PSA/DAQ&PMS Data from PSA/For Envison/PRD DAQ Files- Quay Cranes/PQC888/DAQ_Log-10-24-2019/Complete_DAQ_LOG_20191024_0100.csv\n"
     ]
    },
    {
     "name": "stderr",
     "output_type": "stream",
     "text": [
      " 81% (5678 of 7008) |################    | Elapsed Time: 0:00:00 ETA:   0:00:00"
     ]
    },
    {
     "name": "stdout",
     "output_type": "stream",
     "text": [
      "Ingest /home/searoc/00-code/05-raw-data/Data From PSA/DAQ&PMS Data from PSA/For Envison/PRD DAQ Files- Quay Cranes/PQC888/DAQ_Log-10-24-2019/Complete_DAQ_LOG_20191024_0100.csv is completed!\n",
      "/home/searoc/00-code/05-raw-data/Data From PSA/DAQ&PMS Data from PSA/For Envison/PRD DAQ Files- Quay Cranes/PQC888/DAQ_Log-10-24-2019/Complete_DAQ_LOG_20191024_2000.csv\n"
     ]
    },
    {
     "name": "stderr",
     "output_type": "stream",
     "text": [
      " 79% (5589 of 7008) |###############     | Elapsed Time: 0:00:00 ETA:   0:00:00"
     ]
    },
    {
     "name": "stdout",
     "output_type": "stream",
     "text": [
      "Ingest /home/searoc/00-code/05-raw-data/Data From PSA/DAQ&PMS Data from PSA/For Envison/PRD DAQ Files- Quay Cranes/PQC888/DAQ_Log-10-24-2019/Complete_DAQ_LOG_20191024_2000.csv is completed!\n",
      "/home/searoc/00-code/05-raw-data/Data From PSA/DAQ&PMS Data from PSA/For Envison/PRD DAQ Files- Quay Cranes/PQC888/DAQ_Log-10-24-2019/Complete_DAQ_LOG_20191024_0400.csv\n"
     ]
    },
    {
     "name": "stderr",
     "output_type": "stream",
     "text": [
      " 96% (6742 of 7008) |################### | Elapsed Time: 0:00:00 ETA:   0:00:00"
     ]
    },
    {
     "name": "stdout",
     "output_type": "stream",
     "text": [
      "Ingest /home/searoc/00-code/05-raw-data/Data From PSA/DAQ&PMS Data from PSA/For Envison/PRD DAQ Files- Quay Cranes/PQC888/DAQ_Log-10-24-2019/Complete_DAQ_LOG_20191024_0400.csv is completed!\n",
      "/home/searoc/00-code/05-raw-data/Data From PSA/DAQ&PMS Data from PSA/For Envison/PRD DAQ Files- Quay Cranes/PQC888/DAQ_Log-10-24-2019/Complete_DAQ_LOG_20191024_0800.csv\n"
     ]
    },
    {
     "name": "stderr",
     "output_type": "stream",
     "text": [
      " 98% (6920 of 7008) |################### | Elapsed Time: 0:00:00 ETA:   0:00:00"
     ]
    },
    {
     "name": "stdout",
     "output_type": "stream",
     "text": [
      "Ingest /home/searoc/00-code/05-raw-data/Data From PSA/DAQ&PMS Data from PSA/For Envison/PRD DAQ Files- Quay Cranes/PQC888/DAQ_Log-10-24-2019/Complete_DAQ_LOG_20191024_0800.csv is completed!\n",
      "/home/searoc/00-code/05-raw-data/Data From PSA/DAQ&PMS Data from PSA/For Envison/PRD DAQ Files- Quay Cranes/PQC888/DAQ_Log-10-24-2019/Complete_DAQ_LOG_20191024_0900.csv\n"
     ]
    },
    {
     "name": "stderr",
     "output_type": "stream",
     "text": [
      " 81% (5678 of 7008) |################    | Elapsed Time: 0:00:00 ETA:   0:00:00"
     ]
    },
    {
     "name": "stdout",
     "output_type": "stream",
     "text": [
      "Ingest /home/searoc/00-code/05-raw-data/Data From PSA/DAQ&PMS Data from PSA/For Envison/PRD DAQ Files- Quay Cranes/PQC888/DAQ_Log-10-24-2019/Complete_DAQ_LOG_20191024_0900.csv is completed!\n",
      "/home/searoc/00-code/05-raw-data/Data From PSA/DAQ&PMS Data from PSA/For Envison/PRD DAQ Files- Quay Cranes/PQC888/DAQ_Log-10-24-2019/Complete_DAQ_LOG_20191024_1400.csv\n"
     ]
    },
    {
     "name": "stderr",
     "output_type": "stream",
     "text": [
      " 79% (5589 of 7008) |###############     | Elapsed Time: 0:00:00 ETA:   0:00:00"
     ]
    },
    {
     "name": "stdout",
     "output_type": "stream",
     "text": [
      "Ingest /home/searoc/00-code/05-raw-data/Data From PSA/DAQ&PMS Data from PSA/For Envison/PRD DAQ Files- Quay Cranes/PQC888/DAQ_Log-10-24-2019/Complete_DAQ_LOG_20191024_1400.csv is completed!\n",
      "/home/searoc/00-code/05-raw-data/Data From PSA/DAQ&PMS Data from PSA/For Envison/PRD DAQ Files- Quay Cranes/PQC888/DAQ_Log-10-24-2019/Complete_DAQ_LOG_20191024_2200.csv\n"
     ]
    },
    {
     "name": "stderr",
     "output_type": "stream",
     "text": [
      " 87% (6121 of 7007) |#################   | Elapsed Time: 0:00:00 ETA:   0:00:00"
     ]
    },
    {
     "name": "stdout",
     "output_type": "stream",
     "text": [
      "Ingest /home/searoc/00-code/05-raw-data/Data From PSA/DAQ&PMS Data from PSA/For Envison/PRD DAQ Files- Quay Cranes/PQC888/DAQ_Log-10-24-2019/Complete_DAQ_LOG_20191024_2200.csv is completed!\n",
      "/home/searoc/00-code/05-raw-data/Data From PSA/DAQ&PMS Data from PSA/For Envison/PRD DAQ Files- Quay Cranes/PQC888/DAQ_Log-10-24-2019/Complete_DAQ_LOG_20191024_2100.csv\n"
     ]
    },
    {
     "name": "stderr",
     "output_type": "stream",
     "text": [
      " 79% (5589 of 7008) |###############     | Elapsed Time: 0:00:00 ETA:   0:00:00"
     ]
    },
    {
     "name": "stdout",
     "output_type": "stream",
     "text": [
      "Ingest /home/searoc/00-code/05-raw-data/Data From PSA/DAQ&PMS Data from PSA/For Envison/PRD DAQ Files- Quay Cranes/PQC888/DAQ_Log-10-24-2019/Complete_DAQ_LOG_20191024_2100.csv is completed!\n",
      "/home/searoc/00-code/05-raw-data/Data From PSA/DAQ&PMS Data from PSA/For Envison/PRD DAQ Files- Quay Cranes/PQC888/DAQ_Log-10-24-2019/Complete_DAQ_LOG_20191024_0000.csv\n"
     ]
    },
    {
     "name": "stderr",
     "output_type": "stream",
     "text": [
      " 94% (6653 of 7007) |##################  | Elapsed Time: 0:00:00 ETA:   0:00:00"
     ]
    },
    {
     "name": "stdout",
     "output_type": "stream",
     "text": [
      "Ingest /home/searoc/00-code/05-raw-data/Data From PSA/DAQ&PMS Data from PSA/For Envison/PRD DAQ Files- Quay Cranes/PQC888/DAQ_Log-10-24-2019/Complete_DAQ_LOG_20191024_0000.csv is completed!\n",
      "/home/searoc/00-code/05-raw-data/Data From PSA/DAQ&PMS Data from PSA/For Envison/PRD DAQ Files- Quay Cranes/PQC888/DAQ_Log-10-24-2019/Complete_DAQ_LOG_20191024_1700.csv\n"
     ]
    },
    {
     "name": "stderr",
     "output_type": "stream",
     "text": [
      " 97% (6831 of 7008) |################### | Elapsed Time: 0:00:00 ETA:   0:00:00"
     ]
    },
    {
     "name": "stdout",
     "output_type": "stream",
     "text": [
      "Ingest /home/searoc/00-code/05-raw-data/Data From PSA/DAQ&PMS Data from PSA/For Envison/PRD DAQ Files- Quay Cranes/PQC888/DAQ_Log-10-24-2019/Complete_DAQ_LOG_20191024_1700.csv is completed!\n",
      "/home/searoc/00-code/05-raw-data/Data From PSA/DAQ&PMS Data from PSA/For Envison/PRD DAQ Files- Quay Cranes/PQC888/DAQ_Log-10-24-2019/Complete_DAQ_LOG_20191024_1300.csv\n"
     ]
    },
    {
     "name": "stderr",
     "output_type": "stream",
     "text": [
      " 88% (6210 of 7008) |#################   | Elapsed Time: 0:00:00 ETA:   0:00:00"
     ]
    },
    {
     "name": "stdout",
     "output_type": "stream",
     "text": [
      "Ingest /home/searoc/00-code/05-raw-data/Data From PSA/DAQ&PMS Data from PSA/For Envison/PRD DAQ Files- Quay Cranes/PQC888/DAQ_Log-10-24-2019/Complete_DAQ_LOG_20191024_1300.csv is completed!\n",
      "/home/searoc/00-code/05-raw-data/Data From PSA/DAQ&PMS Data from PSA/For Envison/PRD DAQ Files- Quay Cranes/PQC888/DAQ_Log-10-24-2019/Complete_DAQ_LOG_20191024_0200.csv\n"
     ]
    },
    {
     "name": "stderr",
     "output_type": "stream",
     "text": [
      " 81% (5678 of 7008) |################    | Elapsed Time: 0:00:00 ETA:   0:00:00"
     ]
    },
    {
     "name": "stdout",
     "output_type": "stream",
     "text": [
      "Ingest /home/searoc/00-code/05-raw-data/Data From PSA/DAQ&PMS Data from PSA/For Envison/PRD DAQ Files- Quay Cranes/PQC888/DAQ_Log-10-24-2019/Complete_DAQ_LOG_20191024_0200.csv is completed!\n",
      "/home/searoc/00-code/05-raw-data/Data From PSA/DAQ&PMS Data from PSA/For Envison/PRD DAQ Files- Quay Cranes/PQC888/DAQ_Log-10-24-2019/Complete_DAQ_LOG_20191024_1500.csv\n"
     ]
    },
    {
     "name": "stderr",
     "output_type": "stream",
     "text": [
      " 79% (5589 of 7008) |###############     | Elapsed Time: 0:00:00 ETA:   0:00:00"
     ]
    },
    {
     "name": "stdout",
     "output_type": "stream",
     "text": [
      "Ingest /home/searoc/00-code/05-raw-data/Data From PSA/DAQ&PMS Data from PSA/For Envison/PRD DAQ Files- Quay Cranes/PQC888/DAQ_Log-10-24-2019/Complete_DAQ_LOG_20191024_1500.csv is completed!\n",
      "/home/searoc/00-code/05-raw-data/Data From PSA/DAQ&PMS Data from PSA/For Envison/PRD DAQ Files- Quay Cranes/PQC888/DAQ_Log-10-24-2019/Complete_DAQ_LOG_20191024_2300.csv\n"
     ]
    },
    {
     "name": "stderr",
     "output_type": "stream",
     "text": [
      " 98% (6920 of 7008) |################### | Elapsed Time: 0:00:00 ETA:   0:00:00"
     ]
    },
    {
     "name": "stdout",
     "output_type": "stream",
     "text": [
      "Ingest /home/searoc/00-code/05-raw-data/Data From PSA/DAQ&PMS Data from PSA/For Envison/PRD DAQ Files- Quay Cranes/PQC888/DAQ_Log-10-24-2019/Complete_DAQ_LOG_20191024_2300.csv is completed!\n",
      "/home/searoc/00-code/05-raw-data/Data From PSA/DAQ&PMS Data from PSA/For Envison/PRD DAQ Files- Quay Cranes/PQC888/DAQ_Log-10-24-2019/Complete_DAQ_LOG_20191024_1800.csv\n"
     ]
    },
    {
     "name": "stderr",
     "output_type": "stream",
     "text": [
      " 96% (6741 of 7007) |################### | Elapsed Time: 0:00:00 ETA:   0:00:00"
     ]
    },
    {
     "name": "stdout",
     "output_type": "stream",
     "text": [
      "Ingest /home/searoc/00-code/05-raw-data/Data From PSA/DAQ&PMS Data from PSA/For Envison/PRD DAQ Files- Quay Cranes/PQC888/DAQ_Log-10-24-2019/Complete_DAQ_LOG_20191024_1800.csv is completed!\n",
      "/home/searoc/00-code/05-raw-data/Data From PSA/DAQ&PMS Data from PSA/For Envison/PRD DAQ Files- Quay Cranes/PQC887/DAQ_Log-10-25-2019/Complete_DAQ_LOG_20191025_2300.csv\n"
     ]
    },
    {
     "name": "stderr",
     "output_type": "stream",
     "text": [
      " 94% (6654 of 7008) |##################  | Elapsed Time: 0:00:00 ETA:   0:00:00"
     ]
    },
    {
     "name": "stdout",
     "output_type": "stream",
     "text": [
      "Ingest /home/searoc/00-code/05-raw-data/Data From PSA/DAQ&PMS Data from PSA/For Envison/PRD DAQ Files- Quay Cranes/PQC887/DAQ_Log-10-25-2019/Complete_DAQ_LOG_20191025_2300.csv is completed!\n",
      "/home/searoc/00-code/05-raw-data/Data From PSA/DAQ&PMS Data from PSA/For Envison/PRD DAQ Files- Quay Cranes/PQC887/DAQ_Log-10-25-2019/Complete_DAQ_LOG_20191025_1700.csv\n"
     ]
    },
    {
     "name": "stderr",
     "output_type": "stream",
     "text": [
      " 79% (5589 of 7008) |###############     | Elapsed Time: 0:00:00 ETA:   0:00:00"
     ]
    },
    {
     "name": "stdout",
     "output_type": "stream",
     "text": [
      "Ingest /home/searoc/00-code/05-raw-data/Data From PSA/DAQ&PMS Data from PSA/For Envison/PRD DAQ Files- Quay Cranes/PQC887/DAQ_Log-10-25-2019/Complete_DAQ_LOG_20191025_1700.csv is completed!\n",
      "/home/searoc/00-code/05-raw-data/Data From PSA/DAQ&PMS Data from PSA/For Envison/PRD DAQ Files- Quay Cranes/PQC887/DAQ_Log-10-25-2019/Complete_DAQ_LOG_20191025_1900.csv\n"
     ]
    },
    {
     "name": "stderr",
     "output_type": "stream",
     "text": [
      " 79% (5589 of 7008) |###############     | Elapsed Time: 0:00:00 ETA:   0:00:00"
     ]
    },
    {
     "name": "stdout",
     "output_type": "stream",
     "text": [
      "Ingest /home/searoc/00-code/05-raw-data/Data From PSA/DAQ&PMS Data from PSA/For Envison/PRD DAQ Files- Quay Cranes/PQC887/DAQ_Log-10-25-2019/Complete_DAQ_LOG_20191025_1900.csv is completed!\n",
      "/home/searoc/00-code/05-raw-data/Data From PSA/DAQ&PMS Data from PSA/For Envison/PRD DAQ Files- Quay Cranes/PQC887/DAQ_Log-10-25-2019/Complete_DAQ_LOG_20191025_1400.csv\n"
     ]
    },
    {
     "name": "stderr",
     "output_type": "stream",
     "text": [
      " 79% (5588 of 7007) |###############     | Elapsed Time: 0:00:00 ETA:   0:00:00"
     ]
    },
    {
     "name": "stdout",
     "output_type": "stream",
     "text": [
      "Ingest /home/searoc/00-code/05-raw-data/Data From PSA/DAQ&PMS Data from PSA/For Envison/PRD DAQ Files- Quay Cranes/PQC887/DAQ_Log-10-25-2019/Complete_DAQ_LOG_20191025_1400.csv is completed!\n",
      "/home/searoc/00-code/05-raw-data/Data From PSA/DAQ&PMS Data from PSA/For Envison/PRD DAQ Files- Quay Cranes/PQC887/DAQ_Log-10-25-2019/Complete_DAQ_LOG_20191025_2000.csv\n"
     ]
    },
    {
     "name": "stderr",
     "output_type": "stream",
     "text": [
      " 81% (5678 of 7008) |################    | Elapsed Time: 0:00:00 ETA:   0:00:00"
     ]
    },
    {
     "name": "stdout",
     "output_type": "stream",
     "text": [
      "Ingest /home/searoc/00-code/05-raw-data/Data From PSA/DAQ&PMS Data from PSA/For Envison/PRD DAQ Files- Quay Cranes/PQC887/DAQ_Log-10-25-2019/Complete_DAQ_LOG_20191025_2000.csv is completed!\n",
      "/home/searoc/00-code/05-raw-data/Data From PSA/DAQ&PMS Data from PSA/For Envison/PRD DAQ Files- Quay Cranes/PQC887/DAQ_Log-10-25-2019/Complete_DAQ_LOG_20191025_2200.csv\n"
     ]
    },
    {
     "name": "stderr",
     "output_type": "stream",
     "text": [
      " 87% (6121 of 7008) |#################   | Elapsed Time: 0:00:00 ETA:   0:00:00"
     ]
    },
    {
     "name": "stdout",
     "output_type": "stream",
     "text": [
      "Ingest /home/searoc/00-code/05-raw-data/Data From PSA/DAQ&PMS Data from PSA/For Envison/PRD DAQ Files- Quay Cranes/PQC887/DAQ_Log-10-25-2019/Complete_DAQ_LOG_20191025_2200.csv is completed!\n",
      "/home/searoc/00-code/05-raw-data/Data From PSA/DAQ&PMS Data from PSA/For Envison/PRD DAQ Files- Quay Cranes/PQC887/DAQ_Log-10-25-2019/Complete_DAQ_LOG_20191025_1000.csv\n"
     ]
    },
    {
     "name": "stderr",
     "output_type": "stream",
     "text": [
      " 81% (5678 of 7008) |################    | Elapsed Time: 0:00:00 ETA:   0:00:00"
     ]
    },
    {
     "name": "stdout",
     "output_type": "stream",
     "text": [
      "Ingest /home/searoc/00-code/05-raw-data/Data From PSA/DAQ&PMS Data from PSA/For Envison/PRD DAQ Files- Quay Cranes/PQC887/DAQ_Log-10-25-2019/Complete_DAQ_LOG_20191025_1000.csv is completed!\n",
      "/home/searoc/00-code/05-raw-data/Data From PSA/DAQ&PMS Data from PSA/For Envison/PRD DAQ Files- Quay Cranes/PQC887/DAQ_Log-10-25-2019/Complete_DAQ_LOG_20191025_0400.csv\n"
     ]
    },
    {
     "name": "stderr",
     "output_type": "stream",
     "text": [
      " 81% (5678 of 7008) |################    | Elapsed Time: 0:00:00 ETA:   0:00:00"
     ]
    },
    {
     "name": "stdout",
     "output_type": "stream",
     "text": [
      "Ingest /home/searoc/00-code/05-raw-data/Data From PSA/DAQ&PMS Data from PSA/For Envison/PRD DAQ Files- Quay Cranes/PQC887/DAQ_Log-10-25-2019/Complete_DAQ_LOG_20191025_0400.csv is completed!\n",
      "/home/searoc/00-code/05-raw-data/Data From PSA/DAQ&PMS Data from PSA/For Envison/PRD DAQ Files- Quay Cranes/PQC887/DAQ_Log-10-25-2019/Complete_DAQ_LOG_20191025_0100.csv\n"
     ]
    },
    {
     "name": "stderr",
     "output_type": "stream",
     "text": [
      " 79% (5589 of 7008) |###############     | Elapsed Time: 0:00:00 ETA:   0:00:00"
     ]
    },
    {
     "name": "stdout",
     "output_type": "stream",
     "text": [
      "Ingest /home/searoc/00-code/05-raw-data/Data From PSA/DAQ&PMS Data from PSA/For Envison/PRD DAQ Files- Quay Cranes/PQC887/DAQ_Log-10-25-2019/Complete_DAQ_LOG_20191025_0100.csv is completed!\n",
      "/home/searoc/00-code/05-raw-data/Data From PSA/DAQ&PMS Data from PSA/For Envison/PRD DAQ Files- Quay Cranes/PQC887/DAQ_Log-10-25-2019/Complete_DAQ_LOG_20191025_1600.csv\n"
     ]
    },
    {
     "name": "stderr",
     "output_type": "stream",
     "text": [
      " 79% (5590 of 7009) |###############     | Elapsed Time: 0:00:00 ETA:   0:00:00"
     ]
    },
    {
     "name": "stdout",
     "output_type": "stream",
     "text": [
      "Ingest /home/searoc/00-code/05-raw-data/Data From PSA/DAQ&PMS Data from PSA/For Envison/PRD DAQ Files- Quay Cranes/PQC887/DAQ_Log-10-25-2019/Complete_DAQ_LOG_20191025_1600.csv is completed!\n",
      "/home/searoc/00-code/05-raw-data/Data From PSA/DAQ&PMS Data from PSA/For Envison/PRD DAQ Files- Quay Cranes/PQC887/DAQ_Log-10-25-2019/Complete_DAQ_LOG_20191025_0500.csv\n"
     ]
    },
    {
     "name": "stderr",
     "output_type": "stream",
     "text": [
      " 81% (5678 of 7008) |################    | Elapsed Time: 0:00:00 ETA:   0:00:00"
     ]
    },
    {
     "name": "stdout",
     "output_type": "stream",
     "text": [
      "Ingest /home/searoc/00-code/05-raw-data/Data From PSA/DAQ&PMS Data from PSA/For Envison/PRD DAQ Files- Quay Cranes/PQC887/DAQ_Log-10-25-2019/Complete_DAQ_LOG_20191025_0500.csv is completed!\n",
      "/home/searoc/00-code/05-raw-data/Data From PSA/DAQ&PMS Data from PSA/For Envison/PRD DAQ Files- Quay Cranes/PQC887/DAQ_Log-10-25-2019/Complete_DAQ_LOG_20191025_0300.csv\n"
     ]
    },
    {
     "name": "stderr",
     "output_type": "stream",
     "text": [
      " 81% (5678 of 7008) |################    | Elapsed Time: 0:00:00 ETA:   0:00:00"
     ]
    },
    {
     "name": "stdout",
     "output_type": "stream",
     "text": [
      "Ingest /home/searoc/00-code/05-raw-data/Data From PSA/DAQ&PMS Data from PSA/For Envison/PRD DAQ Files- Quay Cranes/PQC887/DAQ_Log-10-25-2019/Complete_DAQ_LOG_20191025_0300.csv is completed!\n",
      "/home/searoc/00-code/05-raw-data/Data From PSA/DAQ&PMS Data from PSA/For Envison/PRD DAQ Files- Quay Cranes/PQC887/DAQ_Log-10-25-2019/Complete_DAQ_LOG_20191025_1800.csv\n"
     ]
    },
    {
     "name": "stderr",
     "output_type": "stream",
     "text": [
      " 81% (5677 of 7007) |################    | Elapsed Time: 0:00:00 ETA:   0:00:00"
     ]
    },
    {
     "name": "stdout",
     "output_type": "stream",
     "text": [
      "Ingest /home/searoc/00-code/05-raw-data/Data From PSA/DAQ&PMS Data from PSA/For Envison/PRD DAQ Files- Quay Cranes/PQC887/DAQ_Log-10-25-2019/Complete_DAQ_LOG_20191025_1800.csv is completed!\n",
      "/home/searoc/00-code/05-raw-data/Data From PSA/DAQ&PMS Data from PSA/For Envison/PRD DAQ Files- Quay Cranes/PQC887/DAQ_Log-10-25-2019/Complete_DAQ_LOG_20191025_0000.csv\n"
     ]
    },
    {
     "name": "stderr",
     "output_type": "stream",
     "text": [
      " 81% (5676 of 7006) |################    | Elapsed Time: 0:00:00 ETA:   0:00:00"
     ]
    },
    {
     "name": "stdout",
     "output_type": "stream",
     "text": [
      "Ingest /home/searoc/00-code/05-raw-data/Data From PSA/DAQ&PMS Data from PSA/For Envison/PRD DAQ Files- Quay Cranes/PQC887/DAQ_Log-10-25-2019/Complete_DAQ_LOG_20191025_0000.csv is completed!\n",
      "/home/searoc/00-code/05-raw-data/Data From PSA/DAQ&PMS Data from PSA/For Envison/PRD DAQ Files- Quay Cranes/PQC887/DAQ_Log-10-25-2019/Complete_DAQ_LOG_20191025_0700.csv\n"
     ]
    },
    {
     "name": "stderr",
     "output_type": "stream",
     "text": [
      " 91% (6388 of 7008) |##################  | Elapsed Time: 0:00:00 ETA:   0:00:00"
     ]
    },
    {
     "name": "stdout",
     "output_type": "stream",
     "text": [
      "Ingest /home/searoc/00-code/05-raw-data/Data From PSA/DAQ&PMS Data from PSA/For Envison/PRD DAQ Files- Quay Cranes/PQC887/DAQ_Log-10-25-2019/Complete_DAQ_LOG_20191025_0700.csv is completed!\n",
      "/home/searoc/00-code/05-raw-data/Data From PSA/DAQ&PMS Data from PSA/For Envison/PRD DAQ Files- Quay Cranes/PQC887/DAQ_Log-10-25-2019/Complete_DAQ_LOG_20191025_2100.csv\n"
     ]
    },
    {
     "name": "stderr",
     "output_type": "stream",
     "text": [
      " 81% (5678 of 7008) |################    | Elapsed Time: 0:00:00 ETA:   0:00:00"
     ]
    },
    {
     "name": "stdout",
     "output_type": "stream",
     "text": [
      "Ingest /home/searoc/00-code/05-raw-data/Data From PSA/DAQ&PMS Data from PSA/For Envison/PRD DAQ Files- Quay Cranes/PQC887/DAQ_Log-10-25-2019/Complete_DAQ_LOG_20191025_2100.csv is completed!\n",
      "/home/searoc/00-code/05-raw-data/Data From PSA/DAQ&PMS Data from PSA/For Envison/PRD DAQ Files- Quay Cranes/PQC887/DAQ_Log-10-25-2019/Complete_DAQ_LOG_20191025_1200.csv\n"
     ]
    },
    {
     "name": "stderr",
     "output_type": "stream",
     "text": [
      " 81% (5678 of 7008) |################    | Elapsed Time: 0:00:00 ETA:   0:00:00"
     ]
    },
    {
     "name": "stdout",
     "output_type": "stream",
     "text": [
      "Ingest /home/searoc/00-code/05-raw-data/Data From PSA/DAQ&PMS Data from PSA/For Envison/PRD DAQ Files- Quay Cranes/PQC887/DAQ_Log-10-25-2019/Complete_DAQ_LOG_20191025_1200.csv is completed!\n",
      "/home/searoc/00-code/05-raw-data/Data From PSA/DAQ&PMS Data from PSA/For Envison/PRD DAQ Files- Quay Cranes/PQC887/DAQ_Log-10-25-2019/Complete_DAQ_LOG_20191025_1500.csv\n"
     ]
    },
    {
     "name": "stderr",
     "output_type": "stream",
     "text": [
      " 81% (5678 of 7008) |################    | Elapsed Time: 0:00:00 ETA:   0:00:00"
     ]
    },
    {
     "name": "stdout",
     "output_type": "stream",
     "text": [
      "Ingest /home/searoc/00-code/05-raw-data/Data From PSA/DAQ&PMS Data from PSA/For Envison/PRD DAQ Files- Quay Cranes/PQC887/DAQ_Log-10-25-2019/Complete_DAQ_LOG_20191025_1500.csv is completed!\n",
      "/home/searoc/00-code/05-raw-data/Data From PSA/DAQ&PMS Data from PSA/For Envison/PRD DAQ Files- Quay Cranes/PQC887/DAQ_Log-10-25-2019/Complete_DAQ_LOG_20191025_0900.csv\n"
     ]
    },
    {
     "name": "stderr",
     "output_type": "stream",
     "text": [
      " 81% (5678 of 7008) |################    | Elapsed Time: 0:00:00 ETA:   0:00:00"
     ]
    },
    {
     "name": "stdout",
     "output_type": "stream",
     "text": [
      "Ingest /home/searoc/00-code/05-raw-data/Data From PSA/DAQ&PMS Data from PSA/For Envison/PRD DAQ Files- Quay Cranes/PQC887/DAQ_Log-10-25-2019/Complete_DAQ_LOG_20191025_0900.csv is completed!\n",
      "/home/searoc/00-code/05-raw-data/Data From PSA/DAQ&PMS Data from PSA/For Envison/PRD DAQ Files- Quay Cranes/PQC887/DAQ_Log-10-25-2019/Complete_DAQ_LOG_20191025_0800.csv\n"
     ]
    },
    {
     "name": "stderr",
     "output_type": "stream",
     "text": [
      " 79% (5589 of 7008) |###############     | Elapsed Time: 0:00:00 ETA:   0:00:00"
     ]
    },
    {
     "name": "stdout",
     "output_type": "stream",
     "text": [
      "Ingest /home/searoc/00-code/05-raw-data/Data From PSA/DAQ&PMS Data from PSA/For Envison/PRD DAQ Files- Quay Cranes/PQC887/DAQ_Log-10-25-2019/Complete_DAQ_LOG_20191025_0800.csv is completed!\n",
      "/home/searoc/00-code/05-raw-data/Data From PSA/DAQ&PMS Data from PSA/For Envison/PRD DAQ Files- Quay Cranes/PQC887/DAQ_Log-10-25-2019/Complete_DAQ_LOG_20191025_1100.csv\n"
     ]
    },
    {
     "name": "stderr",
     "output_type": "stream",
     "text": [
      " 97% (6831 of 7008) |################### | Elapsed Time: 0:00:00 ETA:   0:00:00"
     ]
    },
    {
     "name": "stdout",
     "output_type": "stream",
     "text": [
      "Ingest /home/searoc/00-code/05-raw-data/Data From PSA/DAQ&PMS Data from PSA/For Envison/PRD DAQ Files- Quay Cranes/PQC887/DAQ_Log-10-25-2019/Complete_DAQ_LOG_20191025_1100.csv is completed!\n",
      "/home/searoc/00-code/05-raw-data/Data From PSA/DAQ&PMS Data from PSA/For Envison/PRD DAQ Files- Quay Cranes/PQC887/DAQ_Log-10-25-2019/Complete_DAQ_LOG_20191025_0200.csv\n"
     ]
    },
    {
     "name": "stderr",
     "output_type": "stream",
     "text": [
      " 81% (5678 of 7008) |################    | Elapsed Time: 0:00:00 ETA:   0:00:00"
     ]
    },
    {
     "name": "stdout",
     "output_type": "stream",
     "text": [
      "Ingest /home/searoc/00-code/05-raw-data/Data From PSA/DAQ&PMS Data from PSA/For Envison/PRD DAQ Files- Quay Cranes/PQC887/DAQ_Log-10-25-2019/Complete_DAQ_LOG_20191025_0200.csv is completed!\n",
      "/home/searoc/00-code/05-raw-data/Data From PSA/DAQ&PMS Data from PSA/For Envison/PRD DAQ Files- Quay Cranes/PQC887/DAQ_Log-10-25-2019/Complete_DAQ_LOG_20191025_0600.csv\n"
     ]
    },
    {
     "name": "stderr",
     "output_type": "stream",
     "text": [
      " 81% (5678 of 7008) |################    | Elapsed Time: 0:00:00 ETA:   0:00:00"
     ]
    },
    {
     "name": "stdout",
     "output_type": "stream",
     "text": [
      "Ingest /home/searoc/00-code/05-raw-data/Data From PSA/DAQ&PMS Data from PSA/For Envison/PRD DAQ Files- Quay Cranes/PQC887/DAQ_Log-10-25-2019/Complete_DAQ_LOG_20191025_0600.csv is completed!\n",
      "/home/searoc/00-code/05-raw-data/Data From PSA/DAQ&PMS Data from PSA/For Envison/PRD DAQ Files- Quay Cranes/PQC887/DAQ_Log-10-25-2019/Complete_DAQ_LOG_20191025_1300.csv\n"
     ]
    },
    {
     "name": "stderr",
     "output_type": "stream",
     "text": [
      " 98% (6920 of 7008) |################### | Elapsed Time: 0:00:00 ETA:   0:00:00"
     ]
    },
    {
     "name": "stdout",
     "output_type": "stream",
     "text": [
      "Ingest /home/searoc/00-code/05-raw-data/Data From PSA/DAQ&PMS Data from PSA/For Envison/PRD DAQ Files- Quay Cranes/PQC887/DAQ_Log-10-25-2019/Complete_DAQ_LOG_20191025_1300.csv is completed!\n",
      "/home/searoc/00-code/05-raw-data/Data From PSA/DAQ&PMS Data from PSA/For Envison/PRD DAQ Files- Quay Cranes/PQC887/DAQ_Log-10-26-2019/Complete_DAQ_LOG_20191026_1400.csv\n"
     ]
    },
    {
     "name": "stderr",
     "output_type": "stream",
     "text": [
      " 88% (6210 of 7008) |#################   | Elapsed Time: 0:00:00 ETA:   0:00:00"
     ]
    },
    {
     "name": "stdout",
     "output_type": "stream",
     "text": [
      "Ingest /home/searoc/00-code/05-raw-data/Data From PSA/DAQ&PMS Data from PSA/For Envison/PRD DAQ Files- Quay Cranes/PQC887/DAQ_Log-10-26-2019/Complete_DAQ_LOG_20191026_1400.csv is completed!\n",
      "/home/searoc/00-code/05-raw-data/Data From PSA/DAQ&PMS Data from PSA/For Envison/PRD DAQ Files- Quay Cranes/PQC887/DAQ_Log-10-26-2019/Complete_DAQ_LOG_20191026_1700.csv\n"
     ]
    },
    {
     "name": "stderr",
     "output_type": "stream",
     "text": [
      " 81% (5678 of 7008) |################    | Elapsed Time: 0:00:00 ETA:   0:00:00"
     ]
    },
    {
     "name": "stdout",
     "output_type": "stream",
     "text": [
      "Ingest /home/searoc/00-code/05-raw-data/Data From PSA/DAQ&PMS Data from PSA/For Envison/PRD DAQ Files- Quay Cranes/PQC887/DAQ_Log-10-26-2019/Complete_DAQ_LOG_20191026_1700.csv is completed!\n",
      "/home/searoc/00-code/05-raw-data/Data From PSA/DAQ&PMS Data from PSA/For Envison/PRD DAQ Files- Quay Cranes/PQC887/DAQ_Log-10-26-2019/Complete_DAQ_LOG_20191026_2100.csv\n"
     ]
    },
    {
     "name": "stderr",
     "output_type": "stream",
     "text": [
      " 81% (5678 of 7008) |################    | Elapsed Time: 0:00:00 ETA:   0:00:00"
     ]
    },
    {
     "name": "stdout",
     "output_type": "stream",
     "text": [
      "Ingest /home/searoc/00-code/05-raw-data/Data From PSA/DAQ&PMS Data from PSA/For Envison/PRD DAQ Files- Quay Cranes/PQC887/DAQ_Log-10-26-2019/Complete_DAQ_LOG_20191026_2100.csv is completed!\n",
      "/home/searoc/00-code/05-raw-data/Data From PSA/DAQ&PMS Data from PSA/For Envison/PRD DAQ Files- Quay Cranes/PQC887/DAQ_Log-10-26-2019/Complete_DAQ_LOG_20191026_0200.csv\n"
     ]
    },
    {
     "name": "stderr",
     "output_type": "stream",
     "text": [
      "b'Skipping line 5232: expected 3754 fields, saw 5989\\n'\n",
      " 81% (5675 of 7005) |################    | Elapsed Time: 0:00:00 ETA:   0:00:00"
     ]
    },
    {
     "name": "stdout",
     "output_type": "stream",
     "text": [
      "Ingest /home/searoc/00-code/05-raw-data/Data From PSA/DAQ&PMS Data from PSA/For Envison/PRD DAQ Files- Quay Cranes/PQC887/DAQ_Log-10-26-2019/Complete_DAQ_LOG_20191026_0200.csv is completed!\n",
      "/home/searoc/00-code/05-raw-data/Data From PSA/DAQ&PMS Data from PSA/For Envison/PRD DAQ Files- Quay Cranes/PQC887/DAQ_Log-10-26-2019/Complete_DAQ_LOG_20191026_2000.csv\n"
     ]
    },
    {
     "name": "stderr",
     "output_type": "stream",
     "text": [
      " 91% (6388 of 7008) |##################  | Elapsed Time: 0:00:00 ETA:   0:00:00"
     ]
    },
    {
     "name": "stdout",
     "output_type": "stream",
     "text": [
      "Ingest /home/searoc/00-code/05-raw-data/Data From PSA/DAQ&PMS Data from PSA/For Envison/PRD DAQ Files- Quay Cranes/PQC887/DAQ_Log-10-26-2019/Complete_DAQ_LOG_20191026_2000.csv is completed!\n",
      "/home/searoc/00-code/05-raw-data/Data From PSA/DAQ&PMS Data from PSA/For Envison/PRD DAQ Files- Quay Cranes/PQC887/DAQ_Log-10-26-2019/Complete_DAQ_LOG_20191026_0000.csv\n"
     ]
    },
    {
     "name": "stderr",
     "output_type": "stream",
     "text": [
      " 81% (5678 of 7008) |################    | Elapsed Time: 0:00:00 ETA:   0:00:00"
     ]
    },
    {
     "name": "stdout",
     "output_type": "stream",
     "text": [
      "Ingest /home/searoc/00-code/05-raw-data/Data From PSA/DAQ&PMS Data from PSA/For Envison/PRD DAQ Files- Quay Cranes/PQC887/DAQ_Log-10-26-2019/Complete_DAQ_LOG_20191026_0000.csv is completed!\n",
      "/home/searoc/00-code/05-raw-data/Data From PSA/DAQ&PMS Data from PSA/For Envison/PRD DAQ Files- Quay Cranes/PQC887/DAQ_Log-10-26-2019/Complete_DAQ_LOG_20191026_0300.csv\n"
     ]
    },
    {
     "name": "stderr",
     "output_type": "stream",
     "text": [
      " 81% (5678 of 7008) |################    | Elapsed Time: 0:00:00 ETA:   0:00:00"
     ]
    },
    {
     "name": "stdout",
     "output_type": "stream",
     "text": [
      "Ingest /home/searoc/00-code/05-raw-data/Data From PSA/DAQ&PMS Data from PSA/For Envison/PRD DAQ Files- Quay Cranes/PQC887/DAQ_Log-10-26-2019/Complete_DAQ_LOG_20191026_0300.csv is completed!\n",
      "/home/searoc/00-code/05-raw-data/Data From PSA/DAQ&PMS Data from PSA/For Envison/PRD DAQ Files- Quay Cranes/PQC887/DAQ_Log-10-26-2019/Complete_DAQ_LOG_20191026_1200.csv\n"
     ]
    },
    {
     "name": "stderr",
     "output_type": "stream",
     "text": [
      " 81% (5678 of 7008) |################    | Elapsed Time: 0:00:00 ETA:   0:00:00"
     ]
    },
    {
     "name": "stdout",
     "output_type": "stream",
     "text": [
      "Ingest /home/searoc/00-code/05-raw-data/Data From PSA/DAQ&PMS Data from PSA/For Envison/PRD DAQ Files- Quay Cranes/PQC887/DAQ_Log-10-26-2019/Complete_DAQ_LOG_20191026_1200.csv is completed!\n",
      "/home/searoc/00-code/05-raw-data/Data From PSA/DAQ&PMS Data from PSA/For Envison/PRD DAQ Files- Quay Cranes/PQC887/DAQ_Log-10-26-2019/Complete_DAQ_LOG_20191026_0900.csv\n"
     ]
    },
    {
     "name": "stderr",
     "output_type": "stream",
     "text": [
      " 81% (5678 of 7008) |################    | Elapsed Time: 0:00:00 ETA:   0:00:00"
     ]
    },
    {
     "name": "stdout",
     "output_type": "stream",
     "text": [
      "Ingest /home/searoc/00-code/05-raw-data/Data From PSA/DAQ&PMS Data from PSA/For Envison/PRD DAQ Files- Quay Cranes/PQC887/DAQ_Log-10-26-2019/Complete_DAQ_LOG_20191026_0900.csv is completed!\n",
      "/home/searoc/00-code/05-raw-data/Data From PSA/DAQ&PMS Data from PSA/For Envison/PRD DAQ Files- Quay Cranes/PQC887/DAQ_Log-10-26-2019/Complete_DAQ_LOG_20191026_1300.csv\n"
     ]
    },
    {
     "name": "stderr",
     "output_type": "stream",
     "text": [
      " 94% (6654 of 7008) |##################  | Elapsed Time: 0:00:00 ETA:   0:00:00"
     ]
    },
    {
     "name": "stdout",
     "output_type": "stream",
     "text": [
      "Ingest /home/searoc/00-code/05-raw-data/Data From PSA/DAQ&PMS Data from PSA/For Envison/PRD DAQ Files- Quay Cranes/PQC887/DAQ_Log-10-26-2019/Complete_DAQ_LOG_20191026_1300.csv is completed!\n",
      "/home/searoc/00-code/05-raw-data/Data From PSA/DAQ&PMS Data from PSA/For Envison/PRD DAQ Files- Quay Cranes/PQC887/DAQ_Log-10-26-2019/Complete_DAQ_LOG_20191026_1800.csv\n"
     ]
    },
    {
     "name": "stderr",
     "output_type": "stream",
     "text": [
      " 79% (5589 of 7008) |###############     | Elapsed Time: 0:00:00 ETA:   0:00:00"
     ]
    },
    {
     "name": "stdout",
     "output_type": "stream",
     "text": [
      "Ingest /home/searoc/00-code/05-raw-data/Data From PSA/DAQ&PMS Data from PSA/For Envison/PRD DAQ Files- Quay Cranes/PQC887/DAQ_Log-10-26-2019/Complete_DAQ_LOG_20191026_1800.csv is completed!\n",
      "/home/searoc/00-code/05-raw-data/Data From PSA/DAQ&PMS Data from PSA/For Envison/PRD DAQ Files- Quay Cranes/PQC887/DAQ_Log-10-26-2019/Complete_DAQ_LOG_20191026_1500.csv\n"
     ]
    },
    {
     "name": "stderr",
     "output_type": "stream",
     "text": [
      " 81% (5678 of 7008) |################    | Elapsed Time: 0:00:00 ETA:   0:00:00"
     ]
    },
    {
     "name": "stdout",
     "output_type": "stream",
     "text": [
      "Ingest /home/searoc/00-code/05-raw-data/Data From PSA/DAQ&PMS Data from PSA/For Envison/PRD DAQ Files- Quay Cranes/PQC887/DAQ_Log-10-26-2019/Complete_DAQ_LOG_20191026_1500.csv is completed!\n",
      "/home/searoc/00-code/05-raw-data/Data From PSA/DAQ&PMS Data from PSA/For Envison/PRD DAQ Files- Quay Cranes/PQC887/DAQ_Log-10-26-2019/Complete_DAQ_LOG_20191026_2200.csv\n"
     ]
    },
    {
     "name": "stderr",
     "output_type": "stream",
     "text": [
      " 81% (5678 of 7008) |################    | Elapsed Time: 0:00:00 ETA:   0:00:00"
     ]
    },
    {
     "name": "stdout",
     "output_type": "stream",
     "text": [
      "Ingest /home/searoc/00-code/05-raw-data/Data From PSA/DAQ&PMS Data from PSA/For Envison/PRD DAQ Files- Quay Cranes/PQC887/DAQ_Log-10-26-2019/Complete_DAQ_LOG_20191026_2200.csv is completed!\n",
      "/home/searoc/00-code/05-raw-data/Data From PSA/DAQ&PMS Data from PSA/For Envison/PRD DAQ Files- Quay Cranes/PQC887/DAQ_Log-10-26-2019/Complete_DAQ_LOG_20191026_0500.csv\n"
     ]
    },
    {
     "name": "stderr",
     "output_type": "stream",
     "text": [
      " 81% (5678 of 7008) |################    | Elapsed Time: 0:00:00 ETA:   0:00:00"
     ]
    },
    {
     "name": "stdout",
     "output_type": "stream",
     "text": [
      "Ingest /home/searoc/00-code/05-raw-data/Data From PSA/DAQ&PMS Data from PSA/For Envison/PRD DAQ Files- Quay Cranes/PQC887/DAQ_Log-10-26-2019/Complete_DAQ_LOG_20191026_0500.csv is completed!\n",
      "/home/searoc/00-code/05-raw-data/Data From PSA/DAQ&PMS Data from PSA/For Envison/PRD DAQ Files- Quay Cranes/PQC887/DAQ_Log-10-26-2019/Complete_DAQ_LOG_20191026_2300.csv\n"
     ]
    },
    {
     "name": "stderr",
     "output_type": "stream",
     "text": [
      " 89% (6299 of 7008) |#################   | Elapsed Time: 0:00:00 ETA:   0:00:00"
     ]
    },
    {
     "name": "stdout",
     "output_type": "stream",
     "text": [
      "Ingest /home/searoc/00-code/05-raw-data/Data From PSA/DAQ&PMS Data from PSA/For Envison/PRD DAQ Files- Quay Cranes/PQC887/DAQ_Log-10-26-2019/Complete_DAQ_LOG_20191026_2300.csv is completed!\n",
      "/home/searoc/00-code/05-raw-data/Data From PSA/DAQ&PMS Data from PSA/For Envison/PRD DAQ Files- Quay Cranes/PQC887/DAQ_Log-10-26-2019/Complete_DAQ_LOG_20191026_1900.csv\n"
     ]
    },
    {
     "name": "stderr",
     "output_type": "stream",
     "text": [
      " 81% (5678 of 7008) |################    | Elapsed Time: 0:00:00 ETA:   0:00:00"
     ]
    },
    {
     "name": "stdout",
     "output_type": "stream",
     "text": [
      "Ingest /home/searoc/00-code/05-raw-data/Data From PSA/DAQ&PMS Data from PSA/For Envison/PRD DAQ Files- Quay Cranes/PQC887/DAQ_Log-10-26-2019/Complete_DAQ_LOG_20191026_1900.csv is completed!\n",
      "/home/searoc/00-code/05-raw-data/Data From PSA/DAQ&PMS Data from PSA/For Envison/PRD DAQ Files- Quay Cranes/PQC887/DAQ_Log-10-26-2019/Complete_DAQ_LOG_20191026_0100.csv\n"
     ]
    },
    {
     "name": "stderr",
     "output_type": "stream",
     "text": [
      " 81% (5678 of 7008) |################    | Elapsed Time: 0:00:00 ETA:   0:00:00"
     ]
    },
    {
     "name": "stdout",
     "output_type": "stream",
     "text": [
      "Ingest /home/searoc/00-code/05-raw-data/Data From PSA/DAQ&PMS Data from PSA/For Envison/PRD DAQ Files- Quay Cranes/PQC887/DAQ_Log-10-26-2019/Complete_DAQ_LOG_20191026_0100.csv is completed!\n",
      "/home/searoc/00-code/05-raw-data/Data From PSA/DAQ&PMS Data from PSA/For Envison/PRD DAQ Files- Quay Cranes/PQC887/DAQ_Log-10-26-2019/Complete_DAQ_LOG_20191026_1600.csv\n"
     ]
    },
    {
     "name": "stderr",
     "output_type": "stream",
     "text": [
      " 97% (6831 of 7008) |################### | Elapsed Time: 0:00:00 ETA:   0:00:00"
     ]
    },
    {
     "name": "stdout",
     "output_type": "stream",
     "text": [
      "Ingest /home/searoc/00-code/05-raw-data/Data From PSA/DAQ&PMS Data from PSA/For Envison/PRD DAQ Files- Quay Cranes/PQC887/DAQ_Log-10-26-2019/Complete_DAQ_LOG_20191026_1600.csv is completed!\n",
      "/home/searoc/00-code/05-raw-data/Data From PSA/DAQ&PMS Data from PSA/For Envison/PRD DAQ Files- Quay Cranes/PQC887/DAQ_Log-10-26-2019/Complete_DAQ_LOG_20191026_0400.csv\n"
     ]
    },
    {
     "name": "stderr",
     "output_type": "stream",
     "text": [
      " 98% (6920 of 7008) |################### | Elapsed Time: 0:00:00 ETA:   0:00:00"
     ]
    },
    {
     "name": "stdout",
     "output_type": "stream",
     "text": [
      "Ingest /home/searoc/00-code/05-raw-data/Data From PSA/DAQ&PMS Data from PSA/For Envison/PRD DAQ Files- Quay Cranes/PQC887/DAQ_Log-10-26-2019/Complete_DAQ_LOG_20191026_0400.csv is completed!\n",
      "/home/searoc/00-code/05-raw-data/Data From PSA/DAQ&PMS Data from PSA/For Envison/PRD DAQ Files- Quay Cranes/PQC887/DAQ_Log-10-26-2019/Complete_DAQ_LOG_20191026_0700.csv\n"
     ]
    },
    {
     "name": "stderr",
     "output_type": "stream",
     "text": [
      " 79% (5589 of 7008) |###############     | Elapsed Time: 0:00:00 ETA:   0:00:00"
     ]
    },
    {
     "name": "stdout",
     "output_type": "stream",
     "text": [
      "Ingest /home/searoc/00-code/05-raw-data/Data From PSA/DAQ&PMS Data from PSA/For Envison/PRD DAQ Files- Quay Cranes/PQC887/DAQ_Log-10-26-2019/Complete_DAQ_LOG_20191026_0700.csv is completed!\n",
      "/home/searoc/00-code/05-raw-data/Data From PSA/DAQ&PMS Data from PSA/For Envison/PRD DAQ Files- Quay Cranes/PQC887/DAQ_Log-10-26-2019/Complete_DAQ_LOG_20191026_1100.csv\n"
     ]
    },
    {
     "name": "stderr",
     "output_type": "stream",
     "text": [
      " 81% (5678 of 7008) |################    | Elapsed Time: 0:00:00 ETA:   0:00:00"
     ]
    },
    {
     "name": "stdout",
     "output_type": "stream",
     "text": [
      "Ingest /home/searoc/00-code/05-raw-data/Data From PSA/DAQ&PMS Data from PSA/For Envison/PRD DAQ Files- Quay Cranes/PQC887/DAQ_Log-10-26-2019/Complete_DAQ_LOG_20191026_1100.csv is completed!\n",
      "/home/searoc/00-code/05-raw-data/Data From PSA/DAQ&PMS Data from PSA/For Envison/PRD DAQ Files- Quay Cranes/PQC887/DAQ_Log-10-26-2019/Complete_DAQ_LOG_20191026_0800.csv\n"
     ]
    },
    {
     "name": "stderr",
     "output_type": "stream",
     "text": [
      " 81% (5678 of 7008) |################    | Elapsed Time: 0:00:00 ETA:   0:00:00"
     ]
    },
    {
     "name": "stdout",
     "output_type": "stream",
     "text": [
      "Ingest /home/searoc/00-code/05-raw-data/Data From PSA/DAQ&PMS Data from PSA/For Envison/PRD DAQ Files- Quay Cranes/PQC887/DAQ_Log-10-26-2019/Complete_DAQ_LOG_20191026_0800.csv is completed!\n",
      "/home/searoc/00-code/05-raw-data/Data From PSA/DAQ&PMS Data from PSA/For Envison/PRD DAQ Files- Quay Cranes/PQC887/DAQ_Log-10-26-2019/Complete_DAQ_LOG_20191026_0600.csv\n"
     ]
    },
    {
     "name": "stderr",
     "output_type": "stream",
     "text": [
      " 81% (5678 of 7008) |################    | Elapsed Time: 0:00:00 ETA:   0:00:00"
     ]
    },
    {
     "name": "stdout",
     "output_type": "stream",
     "text": [
      "Ingest /home/searoc/00-code/05-raw-data/Data From PSA/DAQ&PMS Data from PSA/For Envison/PRD DAQ Files- Quay Cranes/PQC887/DAQ_Log-10-26-2019/Complete_DAQ_LOG_20191026_0600.csv is completed!\n",
      "/home/searoc/00-code/05-raw-data/Data From PSA/DAQ&PMS Data from PSA/For Envison/PRD DAQ Files- Quay Cranes/PQC887/DAQ_Log-10-24-2019/Complete_DAQ_LOG_20191024_1200.csv\n"
     ]
    },
    {
     "name": "stderr",
     "output_type": "stream",
     "text": [
      " 88% (6210 of 7008) |#################   | Elapsed Time: 0:00:00 ETA:   0:00:00"
     ]
    },
    {
     "name": "stdout",
     "output_type": "stream",
     "text": [
      "Ingest /home/searoc/00-code/05-raw-data/Data From PSA/DAQ&PMS Data from PSA/For Envison/PRD DAQ Files- Quay Cranes/PQC887/DAQ_Log-10-24-2019/Complete_DAQ_LOG_20191024_1200.csv is completed!\n",
      "/home/searoc/00-code/05-raw-data/Data From PSA/DAQ&PMS Data from PSA/For Envison/PRD DAQ Files- Quay Cranes/PQC887/DAQ_Log-10-24-2019/Complete_DAQ_LOG_20191024_0700.csv\n"
     ]
    },
    {
     "name": "stderr",
     "output_type": "stream",
     "text": [
      " 79% (5589 of 7008) |###############     | Elapsed Time: 0:00:00 ETA:   0:00:00"
     ]
    },
    {
     "name": "stdout",
     "output_type": "stream",
     "text": [
      "Ingest /home/searoc/00-code/05-raw-data/Data From PSA/DAQ&PMS Data from PSA/For Envison/PRD DAQ Files- Quay Cranes/PQC887/DAQ_Log-10-24-2019/Complete_DAQ_LOG_20191024_0700.csv is completed!\n",
      "/home/searoc/00-code/05-raw-data/Data From PSA/DAQ&PMS Data from PSA/For Envison/PRD DAQ Files- Quay Cranes/PQC887/DAQ_Log-10-24-2019/Complete_DAQ_LOG_20191024_1000.csv\n"
     ]
    },
    {
     "name": "stderr",
     "output_type": "stream",
     "text": [
      " 81% (5678 of 7008) |################    | Elapsed Time: 0:00:00 ETA:   0:00:00"
     ]
    },
    {
     "name": "stdout",
     "output_type": "stream",
     "text": [
      "Ingest /home/searoc/00-code/05-raw-data/Data From PSA/DAQ&PMS Data from PSA/For Envison/PRD DAQ Files- Quay Cranes/PQC887/DAQ_Log-10-24-2019/Complete_DAQ_LOG_20191024_1000.csv is completed!\n",
      "/home/searoc/00-code/05-raw-data/Data From PSA/DAQ&PMS Data from PSA/For Envison/PRD DAQ Files- Quay Cranes/PQC887/DAQ_Log-10-24-2019/Complete_DAQ_LOG_20191024_1600.csv\n"
     ]
    },
    {
     "name": "stderr",
     "output_type": "stream",
     "text": [
      " 81% (5678 of 7008) |################    | Elapsed Time: 0:00:00 ETA:   0:00:00"
     ]
    },
    {
     "name": "stdout",
     "output_type": "stream",
     "text": [
      "Ingest /home/searoc/00-code/05-raw-data/Data From PSA/DAQ&PMS Data from PSA/For Envison/PRD DAQ Files- Quay Cranes/PQC887/DAQ_Log-10-24-2019/Complete_DAQ_LOG_20191024_1600.csv is completed!\n",
      "/home/searoc/00-code/05-raw-data/Data From PSA/DAQ&PMS Data from PSA/For Envison/PRD DAQ Files- Quay Cranes/PQC887/DAQ_Log-10-24-2019/Complete_DAQ_LOG_20191024_0500.csv\n"
     ]
    },
    {
     "name": "stderr",
     "output_type": "stream",
     "text": [
      " 81% (5678 of 7008) |################    | Elapsed Time: 0:00:00 ETA:   0:00:00"
     ]
    },
    {
     "name": "stdout",
     "output_type": "stream",
     "text": [
      "Ingest /home/searoc/00-code/05-raw-data/Data From PSA/DAQ&PMS Data from PSA/For Envison/PRD DAQ Files- Quay Cranes/PQC887/DAQ_Log-10-24-2019/Complete_DAQ_LOG_20191024_0500.csv is completed!\n",
      "/home/searoc/00-code/05-raw-data/Data From PSA/DAQ&PMS Data from PSA/For Envison/PRD DAQ Files- Quay Cranes/PQC887/DAQ_Log-10-24-2019/Complete_DAQ_LOG_20191024_0600.csv\n"
     ]
    },
    {
     "name": "stderr",
     "output_type": "stream",
     "text": [
      " 79% (5589 of 7008) |###############     | Elapsed Time: 0:00:00 ETA:   0:00:00"
     ]
    },
    {
     "name": "stdout",
     "output_type": "stream",
     "text": [
      "Ingest /home/searoc/00-code/05-raw-data/Data From PSA/DAQ&PMS Data from PSA/For Envison/PRD DAQ Files- Quay Cranes/PQC887/DAQ_Log-10-24-2019/Complete_DAQ_LOG_20191024_0600.csv is completed!\n",
      "/home/searoc/00-code/05-raw-data/Data From PSA/DAQ&PMS Data from PSA/For Envison/PRD DAQ Files- Quay Cranes/PQC887/DAQ_Log-10-24-2019/Complete_DAQ_LOG_20191024_0300.csv\n"
     ]
    },
    {
     "name": "stderr",
     "output_type": "stream",
     "text": [
      " 81% (5678 of 7008) |################    | Elapsed Time: 0:00:00 ETA:   0:00:00"
     ]
    },
    {
     "name": "stdout",
     "output_type": "stream",
     "text": [
      "Ingest /home/searoc/00-code/05-raw-data/Data From PSA/DAQ&PMS Data from PSA/For Envison/PRD DAQ Files- Quay Cranes/PQC887/DAQ_Log-10-24-2019/Complete_DAQ_LOG_20191024_0300.csv is completed!\n",
      "/home/searoc/00-code/05-raw-data/Data From PSA/DAQ&PMS Data from PSA/For Envison/PRD DAQ Files- Quay Cranes/PQC887/DAQ_Log-10-24-2019/Complete_DAQ_LOG_20191024_1100.csv\n"
     ]
    },
    {
     "name": "stderr",
     "output_type": "stream",
     "text": [
      " 81% (5678 of 7008) |################    | Elapsed Time: 0:00:00 ETA:   0:00:00"
     ]
    },
    {
     "name": "stdout",
     "output_type": "stream",
     "text": [
      "Ingest /home/searoc/00-code/05-raw-data/Data From PSA/DAQ&PMS Data from PSA/For Envison/PRD DAQ Files- Quay Cranes/PQC887/DAQ_Log-10-24-2019/Complete_DAQ_LOG_20191024_1100.csv is completed!\n",
      "/home/searoc/00-code/05-raw-data/Data From PSA/DAQ&PMS Data from PSA/For Envison/PRD DAQ Files- Quay Cranes/PQC887/DAQ_Log-10-24-2019/Complete_DAQ_LOG_20191024_1900.csv\n"
     ]
    },
    {
     "name": "stderr",
     "output_type": "stream",
     "text": [
      " 81% (5678 of 7008) |################    | Elapsed Time: 0:00:00 ETA:   0:00:00"
     ]
    },
    {
     "name": "stdout",
     "output_type": "stream",
     "text": [
      "Ingest /home/searoc/00-code/05-raw-data/Data From PSA/DAQ&PMS Data from PSA/For Envison/PRD DAQ Files- Quay Cranes/PQC887/DAQ_Log-10-24-2019/Complete_DAQ_LOG_20191024_1900.csv is completed!\n",
      "/home/searoc/00-code/05-raw-data/Data From PSA/DAQ&PMS Data from PSA/For Envison/PRD DAQ Files- Quay Cranes/PQC887/DAQ_Log-10-24-2019/Complete_DAQ_LOG_20191024_0100.csv\n"
     ]
    },
    {
     "name": "stderr",
     "output_type": "stream",
     "text": [
      " 81% (5678 of 7008) |################    | Elapsed Time: 0:00:00 ETA:   0:00:00"
     ]
    },
    {
     "name": "stdout",
     "output_type": "stream",
     "text": [
      "Ingest /home/searoc/00-code/05-raw-data/Data From PSA/DAQ&PMS Data from PSA/For Envison/PRD DAQ Files- Quay Cranes/PQC887/DAQ_Log-10-24-2019/Complete_DAQ_LOG_20191024_0100.csv is completed!\n",
      "/home/searoc/00-code/05-raw-data/Data From PSA/DAQ&PMS Data from PSA/For Envison/PRD DAQ Files- Quay Cranes/PQC887/DAQ_Log-10-24-2019/Complete_DAQ_LOG_20191024_2000.csv\n"
     ]
    },
    {
     "name": "stderr",
     "output_type": "stream",
     "text": [
      " 89% (6299 of 7008) |#################   | Elapsed Time: 0:00:00 ETA:   0:00:00"
     ]
    },
    {
     "name": "stdout",
     "output_type": "stream",
     "text": [
      "Ingest /home/searoc/00-code/05-raw-data/Data From PSA/DAQ&PMS Data from PSA/For Envison/PRD DAQ Files- Quay Cranes/PQC887/DAQ_Log-10-24-2019/Complete_DAQ_LOG_20191024_2000.csv is completed!\n",
      "/home/searoc/00-code/05-raw-data/Data From PSA/DAQ&PMS Data from PSA/For Envison/PRD DAQ Files- Quay Cranes/PQC887/DAQ_Log-10-24-2019/Complete_DAQ_LOG_20191024_0400.csv\n"
     ]
    },
    {
     "name": "stderr",
     "output_type": "stream",
     "text": [
      " 79% (5589 of 7008) |###############     | Elapsed Time: 0:00:00 ETA:   0:00:00"
     ]
    },
    {
     "name": "stdout",
     "output_type": "stream",
     "text": [
      "Ingest /home/searoc/00-code/05-raw-data/Data From PSA/DAQ&PMS Data from PSA/For Envison/PRD DAQ Files- Quay Cranes/PQC887/DAQ_Log-10-24-2019/Complete_DAQ_LOG_20191024_0400.csv is completed!\n",
      "/home/searoc/00-code/05-raw-data/Data From PSA/DAQ&PMS Data from PSA/For Envison/PRD DAQ Files- Quay Cranes/PQC887/DAQ_Log-10-24-2019/Complete_DAQ_LOG_20191024_0800.csv\n"
     ]
    },
    {
     "name": "stderr",
     "output_type": "stream",
     "text": [
      " 81% (5678 of 7008) |################    | Elapsed Time: 0:00:00 ETA:   0:00:00"
     ]
    },
    {
     "name": "stdout",
     "output_type": "stream",
     "text": [
      "Ingest /home/searoc/00-code/05-raw-data/Data From PSA/DAQ&PMS Data from PSA/For Envison/PRD DAQ Files- Quay Cranes/PQC887/DAQ_Log-10-24-2019/Complete_DAQ_LOG_20191024_0800.csv is completed!\n",
      "/home/searoc/00-code/05-raw-data/Data From PSA/DAQ&PMS Data from PSA/For Envison/PRD DAQ Files- Quay Cranes/PQC887/DAQ_Log-10-24-2019/Complete_DAQ_LOG_20191024_0900.csv\n"
     ]
    },
    {
     "name": "stderr",
     "output_type": "stream",
     "text": [
      " 81% (5678 of 7008) |################    | Elapsed Time: 0:00:00 ETA:   0:00:00"
     ]
    },
    {
     "name": "stdout",
     "output_type": "stream",
     "text": [
      "Ingest /home/searoc/00-code/05-raw-data/Data From PSA/DAQ&PMS Data from PSA/For Envison/PRD DAQ Files- Quay Cranes/PQC887/DAQ_Log-10-24-2019/Complete_DAQ_LOG_20191024_0900.csv is completed!\n",
      "/home/searoc/00-code/05-raw-data/Data From PSA/DAQ&PMS Data from PSA/For Envison/PRD DAQ Files- Quay Cranes/PQC887/DAQ_Log-10-24-2019/Complete_DAQ_LOG_20191024_1400.csv\n"
     ]
    },
    {
     "name": "stderr",
     "output_type": "stream",
     "text": [
      " 87% (6121 of 7008) |#################   | Elapsed Time: 0:00:00 ETA:   0:00:00"
     ]
    },
    {
     "name": "stdout",
     "output_type": "stream",
     "text": [
      "Ingest /home/searoc/00-code/05-raw-data/Data From PSA/DAQ&PMS Data from PSA/For Envison/PRD DAQ Files- Quay Cranes/PQC887/DAQ_Log-10-24-2019/Complete_DAQ_LOG_20191024_1400.csv is completed!\n",
      "/home/searoc/00-code/05-raw-data/Data From PSA/DAQ&PMS Data from PSA/For Envison/PRD DAQ Files- Quay Cranes/PQC887/DAQ_Log-10-24-2019/Complete_DAQ_LOG_20191024_2200.csv\n"
     ]
    },
    {
     "name": "stderr",
     "output_type": "stream",
     "text": [
      " 81% (5678 of 7008) |################    | Elapsed Time: 0:00:00 ETA:   0:00:00"
     ]
    },
    {
     "name": "stdout",
     "output_type": "stream",
     "text": [
      "Ingest /home/searoc/00-code/05-raw-data/Data From PSA/DAQ&PMS Data from PSA/For Envison/PRD DAQ Files- Quay Cranes/PQC887/DAQ_Log-10-24-2019/Complete_DAQ_LOG_20191024_2200.csv is completed!\n",
      "/home/searoc/00-code/05-raw-data/Data From PSA/DAQ&PMS Data from PSA/For Envison/PRD DAQ Files- Quay Cranes/PQC887/DAQ_Log-10-24-2019/Complete_DAQ_LOG_20191024_2100.csv\n"
     ]
    },
    {
     "name": "stderr",
     "output_type": "stream",
     "text": [
      " 81% (5678 of 7008) |################    | Elapsed Time: 0:00:00 ETA:   0:00:00"
     ]
    },
    {
     "name": "stdout",
     "output_type": "stream",
     "text": [
      "Ingest /home/searoc/00-code/05-raw-data/Data From PSA/DAQ&PMS Data from PSA/For Envison/PRD DAQ Files- Quay Cranes/PQC887/DAQ_Log-10-24-2019/Complete_DAQ_LOG_20191024_2100.csv is completed!\n",
      "/home/searoc/00-code/05-raw-data/Data From PSA/DAQ&PMS Data from PSA/For Envison/PRD DAQ Files- Quay Cranes/PQC887/DAQ_Log-10-24-2019/Complete_DAQ_LOG_20191024_0000.csv\n"
     ]
    },
    {
     "name": "stderr",
     "output_type": "stream",
     "text": [
      " 81% (5678 of 7008) |################    | Elapsed Time: 0:00:00 ETA:   0:00:00"
     ]
    },
    {
     "name": "stdout",
     "output_type": "stream",
     "text": [
      "Ingest /home/searoc/00-code/05-raw-data/Data From PSA/DAQ&PMS Data from PSA/For Envison/PRD DAQ Files- Quay Cranes/PQC887/DAQ_Log-10-24-2019/Complete_DAQ_LOG_20191024_0000.csv is completed!\n",
      "/home/searoc/00-code/05-raw-data/Data From PSA/DAQ&PMS Data from PSA/For Envison/PRD DAQ Files- Quay Cranes/PQC887/DAQ_Log-10-24-2019/Complete_DAQ_LOG_20191024_1700.csv\n"
     ]
    },
    {
     "name": "stderr",
     "output_type": "stream",
     "text": [
      " 81% (5678 of 7008) |################    | Elapsed Time: 0:00:00 ETA:   0:00:00"
     ]
    },
    {
     "name": "stdout",
     "output_type": "stream",
     "text": [
      "Ingest /home/searoc/00-code/05-raw-data/Data From PSA/DAQ&PMS Data from PSA/For Envison/PRD DAQ Files- Quay Cranes/PQC887/DAQ_Log-10-24-2019/Complete_DAQ_LOG_20191024_1700.csv is completed!\n",
      "/home/searoc/00-code/05-raw-data/Data From PSA/DAQ&PMS Data from PSA/For Envison/PRD DAQ Files- Quay Cranes/PQC887/DAQ_Log-10-24-2019/Complete_DAQ_LOG_20191024_1300.csv\n"
     ]
    },
    {
     "name": "stderr",
     "output_type": "stream",
     "text": [
      " 94% (6654 of 7008) |##################  | Elapsed Time: 0:00:00 ETA:   0:00:00"
     ]
    },
    {
     "name": "stdout",
     "output_type": "stream",
     "text": [
      "Ingest /home/searoc/00-code/05-raw-data/Data From PSA/DAQ&PMS Data from PSA/For Envison/PRD DAQ Files- Quay Cranes/PQC887/DAQ_Log-10-24-2019/Complete_DAQ_LOG_20191024_1300.csv is completed!\n",
      "/home/searoc/00-code/05-raw-data/Data From PSA/DAQ&PMS Data from PSA/For Envison/PRD DAQ Files- Quay Cranes/PQC887/DAQ_Log-10-24-2019/Complete_DAQ_LOG_20191024_0200.csv\n"
     ]
    },
    {
     "name": "stderr",
     "output_type": "stream",
     "text": [
      " 98% (6920 of 7008) |################### | Elapsed Time: 0:00:00 ETA:   0:00:00"
     ]
    },
    {
     "name": "stdout",
     "output_type": "stream",
     "text": [
      "Ingest /home/searoc/00-code/05-raw-data/Data From PSA/DAQ&PMS Data from PSA/For Envison/PRD DAQ Files- Quay Cranes/PQC887/DAQ_Log-10-24-2019/Complete_DAQ_LOG_20191024_0200.csv is completed!\n",
      "/home/searoc/00-code/05-raw-data/Data From PSA/DAQ&PMS Data from PSA/For Envison/PRD DAQ Files- Quay Cranes/PQC887/DAQ_Log-10-24-2019/Complete_DAQ_LOG_20191024_1500.csv\n"
     ]
    },
    {
     "name": "stderr",
     "output_type": "stream",
     "text": [
      " 98% (6920 of 7008) |################### | Elapsed Time: 0:00:00 ETA:   0:00:00"
     ]
    },
    {
     "name": "stdout",
     "output_type": "stream",
     "text": [
      "Ingest /home/searoc/00-code/05-raw-data/Data From PSA/DAQ&PMS Data from PSA/For Envison/PRD DAQ Files- Quay Cranes/PQC887/DAQ_Log-10-24-2019/Complete_DAQ_LOG_20191024_1500.csv is completed!\n",
      "/home/searoc/00-code/05-raw-data/Data From PSA/DAQ&PMS Data from PSA/For Envison/PRD DAQ Files- Quay Cranes/PQC887/DAQ_Log-10-24-2019/Complete_DAQ_LOG_20191024_2300.csv\n"
     ]
    },
    {
     "name": "stderr",
     "output_type": "stream",
     "text": [
      " 87% (6121 of 7008) |#################   | Elapsed Time: 0:00:00 ETA:   0:00:00"
     ]
    },
    {
     "name": "stdout",
     "output_type": "stream",
     "text": [
      "Ingest /home/searoc/00-code/05-raw-data/Data From PSA/DAQ&PMS Data from PSA/For Envison/PRD DAQ Files- Quay Cranes/PQC887/DAQ_Log-10-24-2019/Complete_DAQ_LOG_20191024_2300.csv is completed!\n",
      "/home/searoc/00-code/05-raw-data/Data From PSA/DAQ&PMS Data from PSA/For Envison/PRD DAQ Files- Quay Cranes/PQC887/DAQ_Log-10-24-2019/Complete_DAQ_LOG_20191024_1800.csv\n"
     ]
    },
    {
     "name": "stderr",
     "output_type": "stream",
     "text": [
      " 96% (6742 of 7008) |################### | Elapsed Time: 0:00:00 ETA:   0:00:00"
     ]
    },
    {
     "name": "stdout",
     "output_type": "stream",
     "text": [
      "Ingest /home/searoc/00-code/05-raw-data/Data From PSA/DAQ&PMS Data from PSA/For Envison/PRD DAQ Files- Quay Cranes/PQC887/DAQ_Log-10-24-2019/Complete_DAQ_LOG_20191024_1800.csv is completed!\n"
     ]
    }
   ],
   "source": [
    "# Information of es cluseter\n",
    "es_host = 'localhost:9200'\n",
    "index = 'daq_index'\n",
    "\n",
    "filePath = r\"/home/searoc/00-code/05-raw-data/Data From PSA/DAQ&PMS Data from PSA/For Envison/PRD DAQ Files- Quay Cranes\"\n",
    "\n",
    "ingest_from_folder(filePath, es_host, index)"
   ]
  },
  {
   "cell_type": "code",
   "execution_count": 12,
   "metadata": {},
   "outputs": [
    {
     "name": "stderr",
     "output_type": "stream",
     "text": [
      " 54% (3815 of 7008) |##########          | Elapsed Time: 0:00:00 ETA:   0:00:00"
     ]
    },
    {
     "name": "stdout",
     "output_type": "stream",
     "text": [
      "         Date          Time Comm Status CraneNumber  \\\n",
      "0  26/10/2019  12:00:00.772          OK      PQC887   \n",
      "1  26/10/2019  12:00:01.208          OK      PQC887   \n",
      "2  26/10/2019  12:00:01.723          OK      PQC887   \n",
      "3  26/10/2019  12:00:02.222          OK      PQC887   \n",
      "4  26/10/2019  12:00:02.737          OK      PQC887   \n",
      "\n",
      "   Hoist Motor1 Speed Reference  Hoist Motor1 Speed Feedback  \\\n",
      "0                             0                            0   \n",
      "1                             0                            0   \n",
      "2                             0                            0   \n",
      "3                             0                            0   \n",
      "4                             0                            0   \n",
      "\n",
      "   Hoist Motor1 Current  Hoist Motor1 Voltage  Hoist Motor1 Torque Reference  \\\n",
      "0                     0                     0                              0   \n",
      "1                     0                     0                              0   \n",
      "2                     0                     0                              0   \n",
      "3                     0                     0                              0   \n",
      "4                     0                     0                              0   \n",
      "\n",
      "   Hoist Position  ...  BH_EBRK2_LS1_CLS_W  BH_EBRK2_LS2_CLS_W  \\\n",
      "0            5458  ...                   0                   0   \n",
      "1            5458  ...                   0                   0   \n",
      "2            5458  ...                   0                   0   \n",
      "3            5458  ...                   0                   0   \n",
      "4            5458  ...                   0                   0   \n",
      "\n",
      "   SP_EXT_RET_20FT_40FT_CHK  Unnamed: 3747  Unnamed: 3748  Unnamed: 3749  \\\n",
      "0                         0              0              0              0   \n",
      "1                         0              0              0              0   \n",
      "2                         0              0              0              0   \n",
      "3                         0              0              0              0   \n",
      "4                         0              0              0              0   \n",
      "\n",
      "   Unnamed: 3750  Unnamed: 3751  Unnamed: 3752  Unnamed: 3753  \n",
      "0              0              0              0            NaN  \n",
      "1              0              0              0            NaN  \n",
      "2              0              0              0            NaN  \n",
      "3              0              0              0            NaN  \n",
      "4              0              0              0            NaN  \n",
      "\n",
      "[5 rows x 3754 columns]\n"
     ]
    },
    {
     "name": "stderr",
     "output_type": "stream",
     "text": [
      "/home/searoc/anaconda3/lib/python3.7/site-packages/elasticsearch/connection/base.py:177: ElasticsearchDeprecationWarning: [types removal] Specifying types in bulk requests is deprecated.\n",
      "  warnings.warn(message, category=ElasticsearchDeprecationWarning)\n",
      "100% (21024 of 21024) |##################| Elapsed Time: 0:00:00 Time:  0:00:00\n"
     ]
    },
    {
     "name": "stdout",
     "output_type": "stream",
     "text": [
      "                      3 Phase Apparent Energy  3 Phase Apparent Power  \\\n",
      "_id                                                                     \n",
      "9kmAF3MBpCd1_ArCb2TG                    16766                    1960   \n",
      "9UmAF3MBpCd1_ArCb2TG                    16766                    1960   \n",
      "90mAF3MBpCd1_ArCb2TG                    16766                    1960   \n",
      "-EmAF3MBpCd1_ArCb2TG                    16766                    1975   \n",
      "-UmAF3MBpCd1_ArCb2TG                    16766                    1975   \n",
      "\n",
      "                      3 Phase Negative Reactive Energy Used  \\\n",
      "_id                                                           \n",
      "9kmAF3MBpCd1_ArCb2TG                                  13198   \n",
      "9UmAF3MBpCd1_ArCb2TG                                  13198   \n",
      "90mAF3MBpCd1_ArCb2TG                                  13198   \n",
      "-EmAF3MBpCd1_ArCb2TG                                  13198   \n",
      "-UmAF3MBpCd1_ArCb2TG                                  13198   \n",
      "\n",
      "                      3 Phase Negative Real Energy Used  \\\n",
      "_id                                                       \n",
      "9kmAF3MBpCd1_ArCb2TG                              -4452   \n",
      "9UmAF3MBpCd1_ArCb2TG                              -4452   \n",
      "90mAF3MBpCd1_ArCb2TG                              -4452   \n",
      "-EmAF3MBpCd1_ArCb2TG                              -4452   \n",
      "-UmAF3MBpCd1_ArCb2TG                              -4452   \n",
      "\n",
      "                      3 Phase Positive Reactive Energy Used  \\\n",
      "_id                                                           \n",
      "9kmAF3MBpCd1_ArCb2TG                                  16660   \n",
      "9UmAF3MBpCd1_ArCb2TG                                  16660   \n",
      "90mAF3MBpCd1_ArCb2TG                                  16660   \n",
      "-EmAF3MBpCd1_ArCb2TG                                  16660   \n",
      "-UmAF3MBpCd1_ArCb2TG                                  16660   \n",
      "\n",
      "                      3 Phase Positive Real Energy Used  \\\n",
      "_id                                                       \n",
      "9kmAF3MBpCd1_ArCb2TG                              -2414   \n",
      "9UmAF3MBpCd1_ArCb2TG                              -2414   \n",
      "90mAF3MBpCd1_ArCb2TG                              -2414   \n",
      "-EmAF3MBpCd1_ArCb2TG                              -2414   \n",
      "-UmAF3MBpCd1_ArCb2TG                              -2414   \n",
      "\n",
      "                      3 Phase Reactive Power  3 Phase Real Power  \\\n",
      "_id                                                                \n",
      "9kmAF3MBpCd1_ArCb2TG                     558                1879   \n",
      "9UmAF3MBpCd1_ArCb2TG                     558                1879   \n",
      "90mAF3MBpCd1_ArCb2TG                     558                1879   \n",
      "-EmAF3MBpCd1_ArCb2TG                     557                1895   \n",
      "-UmAF3MBpCd1_ArCb2TG                     557                1895   \n",
      "\n",
      "                      Average Current Comm Status  ... Spreader_40FT  \\\n",
      "_id                                                ...                 \n",
      "9kmAF3MBpCd1_ArCb2TG                1          OK  ...             0   \n",
      "9UmAF3MBpCd1_ArCb2TG                1          OK  ...             0   \n",
      "90mAF3MBpCd1_ArCb2TG                1          OK  ...             0   \n",
      "-EmAF3MBpCd1_ArCb2TG                2          OK  ...             0   \n",
      "-UmAF3MBpCd1_ArCb2TG                2          OK  ...             0   \n",
      "\n",
      "                     Spreader_45FT  Spreader_Twin          Time  \\\n",
      "_id                                                               \n",
      "9kmAF3MBpCd1_ArCb2TG             0              0  12:08:34.824   \n",
      "9UmAF3MBpCd1_ArCb2TG             0              0  12:08:34.324   \n",
      "90mAF3MBpCd1_ArCb2TG             0              0  12:08:35.338   \n",
      "-EmAF3MBpCd1_ArCb2TG             0              0  12:08:35.853   \n",
      "-UmAF3MBpCd1_ArCb2TG             0              0  12:08:36.368   \n",
      "\n",
      "                      Trolley Position  Twistlock  Voltage Vab  Voltage Vbc  \\\n",
      "_id                                                                           \n",
      "9kmAF3MBpCd1_ArCb2TG              1668          0         6531         6542   \n",
      "9UmAF3MBpCd1_ArCb2TG              1668          0         6531         6542   \n",
      "90mAF3MBpCd1_ArCb2TG              1668          0         6530         6560   \n",
      "-EmAF3MBpCd1_ArCb2TG              1668          0         6530         6560   \n",
      "-UmAF3MBpCd1_ArCb2TG              1668          0         6530         6560   \n",
      "\n",
      "                      Voltage Vca  Weight  \n",
      "_id                                        \n",
      "9kmAF3MBpCd1_ArCb2TG         6532     -97  \n",
      "9UmAF3MBpCd1_ArCb2TG         6532     -99  \n",
      "90mAF3MBpCd1_ArCb2TG         6558     -97  \n",
      "-EmAF3MBpCd1_ArCb2TG         6558     -97  \n",
      "-UmAF3MBpCd1_ArCb2TG         6558     -97  \n",
      "\n",
      "[5 rows x 41 columns]\n"
     ]
    }
   ],
   "source": [
    "#read from DAQ file into dataframe\n",
    "csv_file = filePath+fileName\n",
    "ds_ = load_data(csv_file)\n",
    "\n",
    "# Information of es cluseter\n",
    "es_host = 'localhost:9200'\n",
    "index = 'demo'\n",
    "\n",
    "# crete es_pandas instance\n",
    "ep = es_pandas(es_host)\n",
    "\n",
    "# init template if you want\n",
    "doc_type = 'records'\n",
    "ep.init_es_tmpl(ds_, doc_type)\n",
    "\n",
    "# Example of write data to es, use the template you create\n",
    "ep.to_es(ds_, index, doc_type=doc_type)\n",
    "\n",
    "# set use_index=True if you want to use DataFrame index as records' _id\n",
    "ep.to_es(ds_, index, doc_type=doc_type, use_index=True)\n",
    "\n",
    "# Example of read data from es\n",
    "df = ep.to_pandas(index)\n",
    "print(df.head())"
   ]
  },
  {
   "cell_type": "code",
   "execution_count": 15,
   "metadata": {},
   "outputs": [
    {
     "name": "stdout",
     "output_type": "stream",
     "text": [
      "Ingest 01-Nov-2017 (00:04:02.000000) is completed!\n"
     ]
    }
   ],
   "source": [
    "# 导入datetime库\n",
    "import datetime\n",
    "import random\n",
    "\n",
    "dt_end = datetime.datetime(2017,11,1,0,4,2)\n",
    "msg = dt_end.strftime(\"%d-%b-%Y (%H:%M:%S.%f)\")\n",
    "print('Ingest %s is completed!' % msg)"
   ]
  },
  {
   "cell_type": "code",
   "execution_count": null,
   "metadata": {},
   "outputs": [],
   "source": []
  }
 ],
 "metadata": {
  "kernelspec": {
   "display_name": "Python 3",
   "language": "python",
   "name": "python3"
  },
  "language_info": {
   "codemirror_mode": {
    "name": "ipython",
    "version": 3
   },
   "file_extension": ".py",
   "mimetype": "text/x-python",
   "name": "python",
   "nbconvert_exporter": "python",
   "pygments_lexer": "ipython3",
   "version": "3.7.3"
  }
 },
 "nbformat": 4,
 "nbformat_minor": 2
}
