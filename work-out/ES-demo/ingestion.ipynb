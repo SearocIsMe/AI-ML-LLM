{
 "cells": [
  {
   "cell_type": "code",
   "execution_count": 1,
   "metadata": {},
   "outputs": [
    {
     "output_type": "error",
     "ename": "ModuleNotFoundError",
     "evalue": "No module named 'elasticsearch'",
     "traceback": [
      "\u001b[0;31m---------------------------------------------------------------------------\u001b[0m",
      "\u001b[0;31mModuleNotFoundError\u001b[0m                       Traceback (most recent call last)",
      "\u001b[0;32m<ipython-input-1-2a6a30c910a6>\u001b[0m in \u001b[0;36m<module>\u001b[0;34m\u001b[0m\n\u001b[1;32m      5\u001b[0m \u001b[0;34m\u001b[0m\u001b[0m\n\u001b[1;32m      6\u001b[0m \u001b[0;32mfrom\u001b[0m \u001b[0mdatetime\u001b[0m \u001b[0;32mimport\u001b[0m \u001b[0mdatetime\u001b[0m\u001b[0;34m\u001b[0m\u001b[0;34m\u001b[0m\u001b[0m\n\u001b[0;32m----> 7\u001b[0;31m \u001b[0;32mfrom\u001b[0m \u001b[0melasticsearch\u001b[0m \u001b[0;32mimport\u001b[0m \u001b[0mElasticsearch\u001b[0m\u001b[0;34m,\u001b[0m\u001b[0mhelpers\u001b[0m\u001b[0;34m\u001b[0m\u001b[0;34m\u001b[0m\u001b[0m\n\u001b[0m\u001b[1;32m      8\u001b[0m \u001b[0;32mfrom\u001b[0m \u001b[0melasticsearch\u001b[0m\u001b[0;34m.\u001b[0m\u001b[0mhelpers\u001b[0m \u001b[0;32mimport\u001b[0m \u001b[0mparallel_bulk\u001b[0m\u001b[0;34m\u001b[0m\u001b[0;34m\u001b[0m\u001b[0m\n\u001b[1;32m      9\u001b[0m \u001b[0;32mfrom\u001b[0m \u001b[0melasticsearch\u001b[0m\u001b[0;34m.\u001b[0m\u001b[0mhelpers\u001b[0m \u001b[0;32mimport\u001b[0m \u001b[0mstreaming_bulk\u001b[0m\u001b[0;34m\u001b[0m\u001b[0;34m\u001b[0m\u001b[0m\n",
      "\u001b[0;31mModuleNotFoundError\u001b[0m: No module named 'elasticsearch'"
     ]
    }
   ],
   "source": [
    "import pandas as pd\n",
    "import numpy as np\n",
    "import calendar\n",
    "import os\n",
    "\n",
    "from datetime import datetime\n",
    "from elasticsearch import Elasticsearch,helpers\n",
    "from elasticsearch.helpers import parallel_bulk\n",
    "from elasticsearch.helpers import streaming_bulk\n",
    "from es_pandas import es_pandas\n",
    "\n",
    "#import commond.ipynb from same folder\n",
    "import import_ipynb\n",
    "from common import *"
   ]
  },
  {
   "cell_type": "code",
   "execution_count": 11,
   "metadata": {},
   "outputs": [],
   "source": [
    "filePath = '/home/searoc/00-code/05-raw-data/Data From PSA/DAQ&PMS Data from PSA/For Envison/PRD DAQ Files- Quay Cranes/PQC887/DAQ_Log-10-26-2019/'\n",
    "fileName = 'Complete_DAQ_LOG_20191026_1200.csv'"
   ]
  },
  {
   "cell_type": "code",
   "execution_count": 5,
   "metadata": {},
   "outputs": [],
   "source": [
    "csv_file = filePath+fileName\n",
    "json_file = 'sample.json'\n",
    "\n",
    "def export_to_json(csv_file, json_file):\n",
    "    ds_ = load_data(csv_file)\n",
    "    print(ds_.head())\n",
    "    ds_.to_json(json_file, orient='records')\n",
    "    print('done!')"
   ]
  },
  {
   "cell_type": "code",
   "execution_count": 22,
   "metadata": {},
   "outputs": [],
   "source": [
    "def ingest_from_folder(path, es_host, index):\n",
    "    # crete es_pandas instance\n",
    "    ep = es_pandas(es_host)\n",
    "    # init template if you want\n",
    "    doc_type = 'demo'\n",
    "\n",
    "    \n",
    "    g = os.walk(path)  \n",
    "\n",
    "    load_template = False\n",
    "    for path,dir_list,file_list in g:  \n",
    "        for file_name in file_list:  \n",
    "            if file_name.endswith(\".csv\"):\n",
    "                file_name_ = os.path.join(path, file_name)\n",
    "                print(file_name_)\n",
    "                ds_ = load_data(file_name_)\n",
    "                if ds_ is None:\n",
    "                    continue\n",
    "                #ep.init_es_tmpl(ds_, doc_type)\n",
    "                ds_['timestamp'] = ds_['Date'].astype(str) + ' ' + ds_['Time']\n",
    "                ds_.drop(['Date', 'Time'], axis=1)\n",
    "                ds_['timestamp'] = pd.to_datetime(ds_['timestamp'], format=\"%d/%m/%Y %H:%M:%S.%f\")\n",
    "                # Example of write data to es, use the template you create\n",
    "                ep.to_es(ds_, index, doc_type=doc_type, thread_count=5, chunk_size=10000)\n",
    "                del ds_\n",
    "                print('Ingest %s is completed!' % file_name_)\n",
    "   "
   ]
  },
  {
   "cell_type": "code",
   "execution_count": 23,
   "metadata": {},
   "outputs": [
    {
     "name": "stdout",
     "output_type": "stream",
     "text": [
      "/home/searoc/00-code/05-raw-data/Data From PSA/DAQ&PMS Data from PSA/For Envison/PRD DAQ Files- Quay Cranes/PQC886/DAQ_Log-10-25-2019/DAQ_LOG_20191025_1500.csv\n",
      "<class 'KeyError'>\n",
      "/home/searoc/00-code/05-raw-data/Data From PSA/DAQ&PMS Data from PSA/For Envison/PRD DAQ Files- Quay Cranes/PQC886/DAQ_Log-10-25-2019/DAQ_LOG_20191025_2300.csv\n",
      "<class 'KeyError'>\n",
      "/home/searoc/00-code/05-raw-data/Data From PSA/DAQ&PMS Data from PSA/For Envison/PRD DAQ Files- Quay Cranes/PQC886/DAQ_Log-10-25-2019/DAQ_LOG_20191025_1300.csv\n",
      "<class 'KeyError'>\n",
      "/home/searoc/00-code/05-raw-data/Data From PSA/DAQ&PMS Data from PSA/For Envison/PRD DAQ Files- Quay Cranes/PQC886/DAQ_Log-10-25-2019/DAQ_LOG_20191025_1200.csv\n",
      "<class 'KeyError'>\n",
      "/home/searoc/00-code/05-raw-data/Data From PSA/DAQ&PMS Data from PSA/For Envison/PRD DAQ Files- Quay Cranes/PQC886/DAQ_Log-10-25-2019/DAQ_LOG_20191025_0500.csv\n",
      "<class 'KeyError'>\n",
      "/home/searoc/00-code/05-raw-data/Data From PSA/DAQ&PMS Data from PSA/For Envison/PRD DAQ Files- Quay Cranes/PQC886/DAQ_Log-10-25-2019/DAQ_LOG_20191025_1700.csv\n",
      "<class 'KeyError'>\n",
      "/home/searoc/00-code/05-raw-data/Data From PSA/DAQ&PMS Data from PSA/For Envison/PRD DAQ Files- Quay Cranes/PQC886/DAQ_Log-10-25-2019/DAQ_LOG_20191025_0100.csv\n",
      "<class 'KeyError'>\n",
      "/home/searoc/00-code/05-raw-data/Data From PSA/DAQ&PMS Data from PSA/For Envison/PRD DAQ Files- Quay Cranes/PQC886/DAQ_Log-10-25-2019/DAQ_LOG_20191025_0000.csv\n",
      "<class 'KeyError'>\n",
      "/home/searoc/00-code/05-raw-data/Data From PSA/DAQ&PMS Data from PSA/For Envison/PRD DAQ Files- Quay Cranes/PQC886/DAQ_Log-10-25-2019/DAQ_LOG_20191025_0700.csv\n",
      "<class 'KeyError'>\n",
      "/home/searoc/00-code/05-raw-data/Data From PSA/DAQ&PMS Data from PSA/For Envison/PRD DAQ Files- Quay Cranes/PQC886/DAQ_Log-10-25-2019/DAQ_LOG_20191025_2200.csv\n",
      "<class 'KeyError'>\n",
      "/home/searoc/00-code/05-raw-data/Data From PSA/DAQ&PMS Data from PSA/For Envison/PRD DAQ Files- Quay Cranes/PQC886/DAQ_Log-10-25-2019/DAQ_LOG_20191025_1600.csv\n",
      "<class 'KeyError'>\n",
      "/home/searoc/00-code/05-raw-data/Data From PSA/DAQ&PMS Data from PSA/For Envison/PRD DAQ Files- Quay Cranes/PQC886/DAQ_Log-10-25-2019/DAQ_LOG_20191025_2000.csv\n",
      "<class 'KeyError'>\n",
      "/home/searoc/00-code/05-raw-data/Data From PSA/DAQ&PMS Data from PSA/For Envison/PRD DAQ Files- Quay Cranes/PQC886/DAQ_Log-10-25-2019/DAQ_LOG_20191025_0200.csv\n",
      "<class 'KeyError'>\n",
      "/home/searoc/00-code/05-raw-data/Data From PSA/DAQ&PMS Data from PSA/For Envison/PRD DAQ Files- Quay Cranes/PQC886/DAQ_Log-10-25-2019/DAQ_LOG_20191025_1900.csv\n",
      "<class 'KeyError'>\n",
      "/home/searoc/00-code/05-raw-data/Data From PSA/DAQ&PMS Data from PSA/For Envison/PRD DAQ Files- Quay Cranes/PQC886/DAQ_Log-10-25-2019/DAQ_LOG_20191025_0900.csv\n",
      "<class 'KeyError'>\n",
      "/home/searoc/00-code/05-raw-data/Data From PSA/DAQ&PMS Data from PSA/For Envison/PRD DAQ Files- Quay Cranes/PQC886/DAQ_Log-10-25-2019/DAQ_LOG_20191025_0800.csv\n",
      "<class 'KeyError'>\n",
      "/home/searoc/00-code/05-raw-data/Data From PSA/DAQ&PMS Data from PSA/For Envison/PRD DAQ Files- Quay Cranes/PQC886/DAQ_Log-10-25-2019/DAQ_LOG_20191025_0300.csv\n",
      "<class 'KeyError'>\n",
      "/home/searoc/00-code/05-raw-data/Data From PSA/DAQ&PMS Data from PSA/For Envison/PRD DAQ Files- Quay Cranes/PQC886/DAQ_Log-10-25-2019/DAQ_LOG_20191025_1100.csv\n",
      "<class 'KeyError'>\n",
      "/home/searoc/00-code/05-raw-data/Data From PSA/DAQ&PMS Data from PSA/For Envison/PRD DAQ Files- Quay Cranes/PQC886/DAQ_Log-10-25-2019/DAQ_LOG_20191025_2100.csv\n",
      "<class 'KeyError'>\n",
      "/home/searoc/00-code/05-raw-data/Data From PSA/DAQ&PMS Data from PSA/For Envison/PRD DAQ Files- Quay Cranes/PQC886/DAQ_Log-10-25-2019/DAQ_LOG_20191025_0600.csv\n",
      "<class 'KeyError'>\n",
      "/home/searoc/00-code/05-raw-data/Data From PSA/DAQ&PMS Data from PSA/For Envison/PRD DAQ Files- Quay Cranes/PQC886/DAQ_Log-10-25-2019/DAQ_LOG_20191025_0400.csv\n",
      "<class 'KeyError'>\n",
      "/home/searoc/00-code/05-raw-data/Data From PSA/DAQ&PMS Data from PSA/For Envison/PRD DAQ Files- Quay Cranes/PQC886/DAQ_Log-10-25-2019/DAQ_LOG_20191025_1000.csv\n",
      "<class 'KeyError'>\n",
      "/home/searoc/00-code/05-raw-data/Data From PSA/DAQ&PMS Data from PSA/For Envison/PRD DAQ Files- Quay Cranes/PQC886/DAQ_Log-10-25-2019/DAQ_LOG_20191025_1800.csv\n",
      "<class 'KeyError'>\n",
      "/home/searoc/00-code/05-raw-data/Data From PSA/DAQ&PMS Data from PSA/For Envison/PRD DAQ Files- Quay Cranes/PQC886/DAQ_Log-10-25-2019/DAQ_LOG_20191025_1400.csv\n",
      "<class 'KeyError'>\n",
      "/home/searoc/00-code/05-raw-data/Data From PSA/DAQ&PMS Data from PSA/For Envison/PRD DAQ Files- Quay Cranes/PQC886/DAQ_Log-10-26-2019/Complete_DAQ_LOG_20191026_1400.csv\n"
     ]
    },
    {
     "name": "stderr",
     "output_type": "stream",
     "text": [
      " 88% (6218 of 7017) |#################   | Elapsed Time: 0:00:00 ETA:   0:00:00"
     ]
    },
    {
     "name": "stdout",
     "output_type": "stream",
     "text": [
      "Ingest /home/searoc/00-code/05-raw-data/Data From PSA/DAQ&PMS Data from PSA/For Envison/PRD DAQ Files- Quay Cranes/PQC886/DAQ_Log-10-26-2019/Complete_DAQ_LOG_20191026_1400.csv is completed!\n",
      "/home/searoc/00-code/05-raw-data/Data From PSA/DAQ&PMS Data from PSA/For Envison/PRD DAQ Files- Quay Cranes/PQC886/DAQ_Log-10-26-2019/Complete_DAQ_LOG_20191026_1700.csv\n"
     ]
    },
    {
     "name": "stderr",
     "output_type": "stream",
     "text": [
      " 98% (6929 of 7017) |################### | Elapsed Time: 0:00:00 ETA:   0:00:00"
     ]
    },
    {
     "name": "stdout",
     "output_type": "stream",
     "text": [
      "Ingest /home/searoc/00-code/05-raw-data/Data From PSA/DAQ&PMS Data from PSA/For Envison/PRD DAQ Files- Quay Cranes/PQC886/DAQ_Log-10-26-2019/Complete_DAQ_LOG_20191026_1700.csv is completed!\n",
      "/home/searoc/00-code/05-raw-data/Data From PSA/DAQ&PMS Data from PSA/For Envison/PRD DAQ Files- Quay Cranes/PQC886/DAQ_Log-10-26-2019/Complete_DAQ_LOG_20191026_2100.csv\n"
     ]
    },
    {
     "name": "stderr",
     "output_type": "stream",
     "text": [
      " 88% (6213 of 7011) |#################   | Elapsed Time: 0:00:00 ETA:   0:00:00"
     ]
    },
    {
     "name": "stdout",
     "output_type": "stream",
     "text": [
      "Ingest /home/searoc/00-code/05-raw-data/Data From PSA/DAQ&PMS Data from PSA/For Envison/PRD DAQ Files- Quay Cranes/PQC886/DAQ_Log-10-26-2019/Complete_DAQ_LOG_20191026_2100.csv is completed!\n",
      "/home/searoc/00-code/05-raw-data/Data From PSA/DAQ&PMS Data from PSA/For Envison/PRD DAQ Files- Quay Cranes/PQC886/DAQ_Log-10-26-2019/Complete_DAQ_LOG_20191026_0200.csv\n"
     ]
    },
    {
     "name": "stderr",
     "output_type": "stream",
     "text": [
      " 92% (6485 of 7017) |##################  | Elapsed Time: 0:00:00 ETA:   0:00:00"
     ]
    },
    {
     "name": "stdout",
     "output_type": "stream",
     "text": [
      "Ingest /home/searoc/00-code/05-raw-data/Data From PSA/DAQ&PMS Data from PSA/For Envison/PRD DAQ Files- Quay Cranes/PQC886/DAQ_Log-10-26-2019/Complete_DAQ_LOG_20191026_0200.csv is completed!\n",
      "/home/searoc/00-code/05-raw-data/Data From PSA/DAQ&PMS Data from PSA/For Envison/PRD DAQ Files- Quay Cranes/PQC886/DAQ_Log-10-26-2019/Complete_DAQ_LOG_20191026_2000.csv\n"
     ]
    },
    {
     "name": "stderr",
     "output_type": "stream",
     "text": [
      " 91% (6390 of 7011) |##################  | Elapsed Time: 0:00:00 ETA:   0:00:00"
     ]
    },
    {
     "name": "stdout",
     "output_type": "stream",
     "text": [
      "Ingest /home/searoc/00-code/05-raw-data/Data From PSA/DAQ&PMS Data from PSA/For Envison/PRD DAQ Files- Quay Cranes/PQC886/DAQ_Log-10-26-2019/Complete_DAQ_LOG_20191026_2000.csv is completed!\n",
      "/home/searoc/00-code/05-raw-data/Data From PSA/DAQ&PMS Data from PSA/For Envison/PRD DAQ Files- Quay Cranes/PQC886/DAQ_Log-10-26-2019/Complete_DAQ_LOG_20191026_0000.csv\n"
     ]
    },
    {
     "name": "stderr",
     "output_type": "stream",
     "text": [
      " 89% (6303 of 7013) |#################   | Elapsed Time: 0:00:00 ETA:   0:00:00"
     ]
    },
    {
     "name": "stdout",
     "output_type": "stream",
     "text": [
      "Ingest /home/searoc/00-code/05-raw-data/Data From PSA/DAQ&PMS Data from PSA/For Envison/PRD DAQ Files- Quay Cranes/PQC886/DAQ_Log-10-26-2019/Complete_DAQ_LOG_20191026_0000.csv is completed!\n",
      "/home/searoc/00-code/05-raw-data/Data From PSA/DAQ&PMS Data from PSA/For Envison/PRD DAQ Files- Quay Cranes/PQC886/DAQ_Log-10-26-2019/Complete_DAQ_LOG_20191026_0300.csv\n"
     ]
    },
    {
     "name": "stderr",
     "output_type": "stream",
     "text": [
      " 83% (5861 of 7015) |################    | Elapsed Time: 0:00:00 ETA:   0:00:00"
     ]
    },
    {
     "name": "stdout",
     "output_type": "stream",
     "text": [
      "Ingest /home/searoc/00-code/05-raw-data/Data From PSA/DAQ&PMS Data from PSA/For Envison/PRD DAQ Files- Quay Cranes/PQC886/DAQ_Log-10-26-2019/Complete_DAQ_LOG_20191026_0300.csv is completed!\n",
      "/home/searoc/00-code/05-raw-data/Data From PSA/DAQ&PMS Data from PSA/For Envison/PRD DAQ Files- Quay Cranes/PQC886/DAQ_Log-10-26-2019/Complete_DAQ_LOG_20191026_1200.csv\n"
     ]
    },
    {
     "name": "stderr",
     "output_type": "stream",
     "text": [
      " 86% (6039 of 7015) |#################   | Elapsed Time: 0:00:00 ETA:   0:00:00"
     ]
    },
    {
     "name": "stdout",
     "output_type": "stream",
     "text": [
      "Ingest /home/searoc/00-code/05-raw-data/Data From PSA/DAQ&PMS Data from PSA/For Envison/PRD DAQ Files- Quay Cranes/PQC886/DAQ_Log-10-26-2019/Complete_DAQ_LOG_20191026_1200.csv is completed!\n",
      "/home/searoc/00-code/05-raw-data/Data From PSA/DAQ&PMS Data from PSA/For Envison/PRD DAQ Files- Quay Cranes/PQC886/DAQ_Log-10-26-2019/Complete_DAQ_LOG_20191026_0900.csv\n"
     ]
    },
    {
     "name": "stderr",
     "output_type": "stream",
     "text": [
      " 98% (6929 of 7017) |################### | Elapsed Time: 0:00:00 ETA:   0:00:00"
     ]
    },
    {
     "name": "stdout",
     "output_type": "stream",
     "text": [
      "Ingest /home/searoc/00-code/05-raw-data/Data From PSA/DAQ&PMS Data from PSA/For Envison/PRD DAQ Files- Quay Cranes/PQC886/DAQ_Log-10-26-2019/Complete_DAQ_LOG_20191026_0900.csv is completed!\n",
      "/home/searoc/00-code/05-raw-data/Data From PSA/DAQ&PMS Data from PSA/For Envison/PRD DAQ Files- Quay Cranes/PQC886/DAQ_Log-10-26-2019/Complete_DAQ_LOG_20191026_1300.csv\n"
     ]
    },
    {
     "name": "stderr",
     "output_type": "stream",
     "text": [
      " 97% (6838 of 7015) |################### | Elapsed Time: 0:00:00 ETA:   0:00:00"
     ]
    },
    {
     "name": "stdout",
     "output_type": "stream",
     "text": [
      "Ingest /home/searoc/00-code/05-raw-data/Data From PSA/DAQ&PMS Data from PSA/For Envison/PRD DAQ Files- Quay Cranes/PQC886/DAQ_Log-10-26-2019/Complete_DAQ_LOG_20191026_1300.csv is completed!\n",
      "/home/searoc/00-code/05-raw-data/Data From PSA/DAQ&PMS Data from PSA/For Envison/PRD DAQ Files- Quay Cranes/PQC886/DAQ_Log-10-26-2019/Complete_DAQ_LOG_20191026_1800.csv\n"
     ]
    },
    {
     "name": "stderr",
     "output_type": "stream",
     "text": [
      " 92% (6483 of 7015) |##################  | Elapsed Time: 0:00:00 ETA:   0:00:00"
     ]
    },
    {
     "name": "stdout",
     "output_type": "stream",
     "text": [
      "Ingest /home/searoc/00-code/05-raw-data/Data From PSA/DAQ&PMS Data from PSA/For Envison/PRD DAQ Files- Quay Cranes/PQC886/DAQ_Log-10-26-2019/Complete_DAQ_LOG_20191026_1800.csv is completed!\n",
      "/home/searoc/00-code/05-raw-data/Data From PSA/DAQ&PMS Data from PSA/For Envison/PRD DAQ Files- Quay Cranes/PQC886/DAQ_Log-10-26-2019/Complete_DAQ_LOG_20191026_1500.csv\n"
     ]
    },
    {
     "name": "stderr",
     "output_type": "stream",
     "text": [
      " 93% (6569 of 7012) |##################  | Elapsed Time: 0:00:00 ETA:   0:00:00"
     ]
    },
    {
     "name": "stdout",
     "output_type": "stream",
     "text": [
      "Ingest /home/searoc/00-code/05-raw-data/Data From PSA/DAQ&PMS Data from PSA/For Envison/PRD DAQ Files- Quay Cranes/PQC886/DAQ_Log-10-26-2019/Complete_DAQ_LOG_20191026_1500.csv is completed!\n",
      "/home/searoc/00-code/05-raw-data/Data From PSA/DAQ&PMS Data from PSA/For Envison/PRD DAQ Files- Quay Cranes/PQC886/DAQ_Log-10-26-2019/Complete_DAQ_LOG_20191026_2200.csv\n"
     ]
    },
    {
     "name": "stderr",
     "output_type": "stream",
     "text": [
      " 86% (6040 of 7017) |#################   | Elapsed Time: 0:00:00 ETA:   0:00:00"
     ]
    },
    {
     "name": "stdout",
     "output_type": "stream",
     "text": [
      "Ingest /home/searoc/00-code/05-raw-data/Data From PSA/DAQ&PMS Data from PSA/For Envison/PRD DAQ Files- Quay Cranes/PQC886/DAQ_Log-10-26-2019/Complete_DAQ_LOG_20191026_2200.csv is completed!\n",
      "/home/searoc/00-code/05-raw-data/Data From PSA/DAQ&PMS Data from PSA/For Envison/PRD DAQ Files- Quay Cranes/PQC886/DAQ_Log-10-26-2019/Complete_DAQ_LOG_20191026_0500.csv\n"
     ]
    },
    {
     "name": "stderr",
     "output_type": "stream",
     "text": [
      " 98% (6926 of 7014) |################### | Elapsed Time: 0:00:00 ETA:   0:00:00"
     ]
    },
    {
     "name": "stdout",
     "output_type": "stream",
     "text": [
      "Ingest /home/searoc/00-code/05-raw-data/Data From PSA/DAQ&PMS Data from PSA/For Envison/PRD DAQ Files- Quay Cranes/PQC886/DAQ_Log-10-26-2019/Complete_DAQ_LOG_20191026_0500.csv is completed!\n",
      "/home/searoc/00-code/05-raw-data/Data From PSA/DAQ&PMS Data from PSA/For Envison/PRD DAQ Files- Quay Cranes/PQC886/DAQ_Log-10-26-2019/Complete_DAQ_LOG_20191026_2300.csv\n"
     ]
    },
    {
     "name": "stderr",
     "output_type": "stream",
     "text": [
      " 97% (6838 of 7015) |################### | Elapsed Time: 0:00:00 ETA:   0:00:00"
     ]
    },
    {
     "name": "stdout",
     "output_type": "stream",
     "text": [
      "Ingest /home/searoc/00-code/05-raw-data/Data From PSA/DAQ&PMS Data from PSA/For Envison/PRD DAQ Files- Quay Cranes/PQC886/DAQ_Log-10-26-2019/Complete_DAQ_LOG_20191026_2300.csv is completed!\n",
      "/home/searoc/00-code/05-raw-data/Data From PSA/DAQ&PMS Data from PSA/For Envison/PRD DAQ Files- Quay Cranes/PQC886/DAQ_Log-10-26-2019/Complete_DAQ_LOG_20191026_1900.csv\n"
     ]
    },
    {
     "name": "stderr",
     "output_type": "stream",
     "text": [
      " 94% (6662 of 7017) |##################  | Elapsed Time: 0:00:00 ETA:   0:00:00"
     ]
    },
    {
     "name": "stdout",
     "output_type": "stream",
     "text": [
      "Ingest /home/searoc/00-code/05-raw-data/Data From PSA/DAQ&PMS Data from PSA/For Envison/PRD DAQ Files- Quay Cranes/PQC886/DAQ_Log-10-26-2019/Complete_DAQ_LOG_20191026_1900.csv is completed!\n",
      "/home/searoc/00-code/05-raw-data/Data From PSA/DAQ&PMS Data from PSA/For Envison/PRD DAQ Files- Quay Cranes/PQC886/DAQ_Log-10-26-2019/Complete_DAQ_LOG_20191026_0100.csv\n"
     ]
    },
    {
     "name": "stderr",
     "output_type": "stream",
     "text": [
      " 94% (6656 of 7010) |##################  | Elapsed Time: 0:00:00 ETA:   0:00:00"
     ]
    },
    {
     "name": "stdout",
     "output_type": "stream",
     "text": [
      "Ingest /home/searoc/00-code/05-raw-data/Data From PSA/DAQ&PMS Data from PSA/For Envison/PRD DAQ Files- Quay Cranes/PQC886/DAQ_Log-10-26-2019/Complete_DAQ_LOG_20191026_0100.csv is completed!\n",
      "/home/searoc/00-code/05-raw-data/Data From PSA/DAQ&PMS Data from PSA/For Envison/PRD DAQ Files- Quay Cranes/PQC886/DAQ_Log-10-26-2019/Complete_DAQ_LOG_20191026_1600.csv\n"
     ]
    },
    {
     "name": "stderr",
     "output_type": "stream",
     "text": [
      " 94% (6657 of 7011) |##################  | Elapsed Time: 0:00:00 ETA:   0:00:00"
     ]
    },
    {
     "name": "stdout",
     "output_type": "stream",
     "text": [
      "Ingest /home/searoc/00-code/05-raw-data/Data From PSA/DAQ&PMS Data from PSA/For Envison/PRD DAQ Files- Quay Cranes/PQC886/DAQ_Log-10-26-2019/Complete_DAQ_LOG_20191026_1600.csv is completed!\n",
      "/home/searoc/00-code/05-raw-data/Data From PSA/DAQ&PMS Data from PSA/For Envison/PRD DAQ Files- Quay Cranes/PQC886/DAQ_Log-10-26-2019/Complete_DAQ_LOG_20191026_0400.csv\n"
     ]
    },
    {
     "name": "stderr",
     "output_type": "stream",
     "text": [
      " 96% (6750 of 7016) |################### | Elapsed Time: 0:00:00 ETA:   0:00:00"
     ]
    },
    {
     "name": "stdout",
     "output_type": "stream",
     "text": [
      "Ingest /home/searoc/00-code/05-raw-data/Data From PSA/DAQ&PMS Data from PSA/For Envison/PRD DAQ Files- Quay Cranes/PQC886/DAQ_Log-10-26-2019/Complete_DAQ_LOG_20191026_0400.csv is completed!\n",
      "/home/searoc/00-code/05-raw-data/Data From PSA/DAQ&PMS Data from PSA/For Envison/PRD DAQ Files- Quay Cranes/PQC886/DAQ_Log-10-26-2019/Complete_DAQ_LOG_20191026_0700.csv\n"
     ]
    },
    {
     "name": "stderr",
     "output_type": "stream",
     "text": [
      " 94% (6661 of 7016) |##################  | Elapsed Time: 0:00:00 ETA:   0:00:00"
     ]
    },
    {
     "name": "stdout",
     "output_type": "stream",
     "text": [
      "Ingest /home/searoc/00-code/05-raw-data/Data From PSA/DAQ&PMS Data from PSA/For Envison/PRD DAQ Files- Quay Cranes/PQC886/DAQ_Log-10-26-2019/Complete_DAQ_LOG_20191026_0700.csv is completed!\n",
      "/home/searoc/00-code/05-raw-data/Data From PSA/DAQ&PMS Data from PSA/For Envison/PRD DAQ Files- Quay Cranes/PQC886/DAQ_Log-10-26-2019/Complete_DAQ_LOG_20191026_1000.csv\n"
     ]
    },
    {
     "name": "stderr",
     "output_type": "stream",
     "text": [
      " 92% (6481 of 7013) |##################  | Elapsed Time: 0:00:00 ETA:   0:00:00"
     ]
    },
    {
     "name": "stdout",
     "output_type": "stream",
     "text": [
      "Ingest /home/searoc/00-code/05-raw-data/Data From PSA/DAQ&PMS Data from PSA/For Envison/PRD DAQ Files- Quay Cranes/PQC886/DAQ_Log-10-26-2019/Complete_DAQ_LOG_20191026_1000.csv is completed!\n",
      "/home/searoc/00-code/05-raw-data/Data From PSA/DAQ&PMS Data from PSA/For Envison/PRD DAQ Files- Quay Cranes/PQC886/DAQ_Log-10-26-2019/Complete_DAQ_LOG_20191026_1100.csv\n"
     ]
    },
    {
     "name": "stderr",
     "output_type": "stream",
     "text": [
      " 97% (6833 of 7010) |################### | Elapsed Time: 0:00:00 ETA:   0:00:00"
     ]
    },
    {
     "name": "stdout",
     "output_type": "stream",
     "text": [
      "Ingest /home/searoc/00-code/05-raw-data/Data From PSA/DAQ&PMS Data from PSA/For Envison/PRD DAQ Files- Quay Cranes/PQC886/DAQ_Log-10-26-2019/Complete_DAQ_LOG_20191026_1100.csv is completed!\n",
      "/home/searoc/00-code/05-raw-data/Data From PSA/DAQ&PMS Data from PSA/For Envison/PRD DAQ Files- Quay Cranes/PQC886/DAQ_Log-10-26-2019/Complete_DAQ_LOG_20191026_0800.csv\n"
     ]
    },
    {
     "name": "stderr",
     "output_type": "stream",
     "text": [
      " 88% (6215 of 7013) |#################   | Elapsed Time: 0:00:00 ETA:   0:00:00"
     ]
    },
    {
     "name": "stdout",
     "output_type": "stream",
     "text": [
      "Ingest /home/searoc/00-code/05-raw-data/Data From PSA/DAQ&PMS Data from PSA/For Envison/PRD DAQ Files- Quay Cranes/PQC886/DAQ_Log-10-26-2019/Complete_DAQ_LOG_20191026_0800.csv is completed!\n",
      "/home/searoc/00-code/05-raw-data/Data From PSA/DAQ&PMS Data from PSA/For Envison/PRD DAQ Files- Quay Cranes/PQC886/DAQ_Log-10-26-2019/Complete_DAQ_LOG_20191026_0600.csv\n"
     ]
    },
    {
     "name": "stderr",
     "output_type": "stream",
     "text": [
      " 93% (6568 of 7011) |##################  | Elapsed Time: 0:00:00 ETA:   0:00:00"
     ]
    },
    {
     "name": "stdout",
     "output_type": "stream",
     "text": [
      "Ingest /home/searoc/00-code/05-raw-data/Data From PSA/DAQ&PMS Data from PSA/For Envison/PRD DAQ Files- Quay Cranes/PQC886/DAQ_Log-10-26-2019/Complete_DAQ_LOG_20191026_0600.csv is completed!\n",
      "/home/searoc/00-code/05-raw-data/Data From PSA/DAQ&PMS Data from PSA/For Envison/PRD DAQ Files- Quay Cranes/PQC886/DAQ_Log-10-24-2019/Complete_DAQ_LOG_20191024_1200.csv\n"
     ]
    },
    {
     "name": "stderr",
     "output_type": "stream",
     "text": [
      " 93% (6584 of 7028) |##################  | Elapsed Time: 0:00:00 ETA:   0:00:00"
     ]
    },
    {
     "name": "stdout",
     "output_type": "stream",
     "text": [
      "Ingest /home/searoc/00-code/05-raw-data/Data From PSA/DAQ&PMS Data from PSA/For Envison/PRD DAQ Files- Quay Cranes/PQC886/DAQ_Log-10-24-2019/Complete_DAQ_LOG_20191024_1200.csv is completed!\n",
      "/home/searoc/00-code/05-raw-data/Data From PSA/DAQ&PMS Data from PSA/For Envison/PRD DAQ Files- Quay Cranes/PQC886/DAQ_Log-10-24-2019/Complete_DAQ_LOG_20191024_0700.csv\n"
     ]
    },
    {
     "name": "stderr",
     "output_type": "stream",
     "text": [
      " 88% (6228 of 7028) |#################   | Elapsed Time: 0:00:00 ETA:   0:00:00"
     ]
    },
    {
     "name": "stdout",
     "output_type": "stream",
     "text": [
      "Ingest /home/searoc/00-code/05-raw-data/Data From PSA/DAQ&PMS Data from PSA/For Envison/PRD DAQ Files- Quay Cranes/PQC886/DAQ_Log-10-24-2019/Complete_DAQ_LOG_20191024_0700.csv is completed!\n",
      "/home/searoc/00-code/05-raw-data/Data From PSA/DAQ&PMS Data from PSA/For Envison/PRD DAQ Files- Quay Cranes/PQC886/DAQ_Log-10-24-2019/Complete_DAQ_LOG_20191024_1000.csv\n"
     ]
    },
    {
     "name": "stderr",
     "output_type": "stream",
     "text": [
      " 89% (6319 of 7030) |#################   | Elapsed Time: 0:00:00 ETA:   0:00:00"
     ]
    },
    {
     "name": "stdout",
     "output_type": "stream",
     "text": [
      "Ingest /home/searoc/00-code/05-raw-data/Data From PSA/DAQ&PMS Data from PSA/For Envison/PRD DAQ Files- Quay Cranes/PQC886/DAQ_Log-10-24-2019/Complete_DAQ_LOG_20191024_1000.csv is completed!\n",
      "/home/searoc/00-code/05-raw-data/Data From PSA/DAQ&PMS Data from PSA/For Envison/PRD DAQ Files- Quay Cranes/PQC886/DAQ_Log-10-24-2019/Complete_DAQ_LOG_20191024_1600.csv\n"
     ]
    },
    {
     "name": "stderr",
     "output_type": "stream",
     "text": [
      " 91% (6418 of 7041) |##################  | Elapsed Time: 0:00:00 ETA:   0:00:00"
     ]
    },
    {
     "name": "stdout",
     "output_type": "stream",
     "text": [
      "Ingest /home/searoc/00-code/05-raw-data/Data From PSA/DAQ&PMS Data from PSA/For Envison/PRD DAQ Files- Quay Cranes/PQC886/DAQ_Log-10-24-2019/Complete_DAQ_LOG_20191024_1600.csv is completed!\n",
      "/home/searoc/00-code/05-raw-data/Data From PSA/DAQ&PMS Data from PSA/For Envison/PRD DAQ Files- Quay Cranes/PQC886/DAQ_Log-10-24-2019/Complete_DAQ_LOG_20191024_0500.csv\n"
     ]
    },
    {
     "name": "stderr",
     "output_type": "stream",
     "text": [
      " 87% (6141 of 7030) |#################   | Elapsed Time: 0:00:00 ETA:   0:00:00"
     ]
    },
    {
     "name": "stdout",
     "output_type": "stream",
     "text": [
      "Ingest /home/searoc/00-code/05-raw-data/Data From PSA/DAQ&PMS Data from PSA/For Envison/PRD DAQ Files- Quay Cranes/PQC886/DAQ_Log-10-24-2019/Complete_DAQ_LOG_20191024_0500.csv is completed!\n",
      "/home/searoc/00-code/05-raw-data/Data From PSA/DAQ&PMS Data from PSA/For Envison/PRD DAQ Files- Quay Cranes/PQC886/DAQ_Log-10-24-2019/Complete_DAQ_LOG_20191024_0600.csv\n"
     ]
    },
    {
     "name": "stderr",
     "output_type": "stream",
     "text": [
      " 98% (6942 of 7031) |################### | Elapsed Time: 0:00:00 ETA:   0:00:00"
     ]
    },
    {
     "name": "stdout",
     "output_type": "stream",
     "text": [
      "Ingest /home/searoc/00-code/05-raw-data/Data From PSA/DAQ&PMS Data from PSA/For Envison/PRD DAQ Files- Quay Cranes/PQC886/DAQ_Log-10-24-2019/Complete_DAQ_LOG_20191024_0600.csv is completed!\n",
      "/home/searoc/00-code/05-raw-data/Data From PSA/DAQ&PMS Data from PSA/For Envison/PRD DAQ Files- Quay Cranes/PQC886/DAQ_Log-10-24-2019/Complete_DAQ_LOG_20191024_0300.csv\n"
     ]
    },
    {
     "name": "stderr",
     "output_type": "stream",
     "text": [
      " 84% (5963 of 7031) |################    | Elapsed Time: 0:00:00 ETA:   0:00:00"
     ]
    },
    {
     "name": "stdout",
     "output_type": "stream",
     "text": [
      "Ingest /home/searoc/00-code/05-raw-data/Data From PSA/DAQ&PMS Data from PSA/For Envison/PRD DAQ Files- Quay Cranes/PQC886/DAQ_Log-10-24-2019/Complete_DAQ_LOG_20191024_0300.csv is completed!\n",
      "/home/searoc/00-code/05-raw-data/Data From PSA/DAQ&PMS Data from PSA/For Envison/PRD DAQ Files- Quay Cranes/PQC886/DAQ_Log-10-24-2019/Complete_DAQ_LOG_20191024_1100.csv\n"
     ]
    },
    {
     "name": "stderr",
     "output_type": "stream",
     "text": [
      " 86% (6052 of 7031) |#################   | Elapsed Time: 0:00:00 ETA:   0:00:00"
     ]
    },
    {
     "name": "stdout",
     "output_type": "stream",
     "text": [
      "Ingest /home/searoc/00-code/05-raw-data/Data From PSA/DAQ&PMS Data from PSA/For Envison/PRD DAQ Files- Quay Cranes/PQC886/DAQ_Log-10-24-2019/Complete_DAQ_LOG_20191024_1100.csv is completed!\n",
      "/home/searoc/00-code/05-raw-data/Data From PSA/DAQ&PMS Data from PSA/For Envison/PRD DAQ Files- Quay Cranes/PQC886/DAQ_Log-10-24-2019/Complete_DAQ_LOG_20191024_1900.csv\n"
     ]
    },
    {
     "name": "stderr",
     "output_type": "stream",
     "text": [
      " 94% (6660 of 7015) |##################  | Elapsed Time: 0:00:00 ETA:   0:00:00"
     ]
    },
    {
     "name": "stdout",
     "output_type": "stream",
     "text": [
      "Ingest /home/searoc/00-code/05-raw-data/Data From PSA/DAQ&PMS Data from PSA/For Envison/PRD DAQ Files- Quay Cranes/PQC886/DAQ_Log-10-24-2019/Complete_DAQ_LOG_20191024_1900.csv is completed!\n",
      "/home/searoc/00-code/05-raw-data/Data From PSA/DAQ&PMS Data from PSA/For Envison/PRD DAQ Files- Quay Cranes/PQC886/DAQ_Log-10-24-2019/Complete_DAQ_LOG_20191024_0100.csv\n"
     ]
    },
    {
     "name": "stderr",
     "output_type": "stream",
     "text": [
      " 94% (6675 of 7031) |##################  | Elapsed Time: 0:00:00 ETA:   0:00:00"
     ]
    },
    {
     "name": "stdout",
     "output_type": "stream",
     "text": [
      "Ingest /home/searoc/00-code/05-raw-data/Data From PSA/DAQ&PMS Data from PSA/For Envison/PRD DAQ Files- Quay Cranes/PQC886/DAQ_Log-10-24-2019/Complete_DAQ_LOG_20191024_0100.csv is completed!\n",
      "/home/searoc/00-code/05-raw-data/Data From PSA/DAQ&PMS Data from PSA/For Envison/PRD DAQ Files- Quay Cranes/PQC886/DAQ_Log-10-24-2019/Complete_DAQ_LOG_20191024_2000.csv\n"
     ]
    },
    {
     "name": "stderr",
     "output_type": "stream",
     "text": [
      " 93% (6567 of 7010) |##################  | Elapsed Time: 0:00:00 ETA:   0:00:00"
     ]
    },
    {
     "name": "stdout",
     "output_type": "stream",
     "text": [
      "Ingest /home/searoc/00-code/05-raw-data/Data From PSA/DAQ&PMS Data from PSA/For Envison/PRD DAQ Files- Quay Cranes/PQC886/DAQ_Log-10-24-2019/Complete_DAQ_LOG_20191024_2000.csv is completed!\n",
      "/home/searoc/00-code/05-raw-data/Data From PSA/DAQ&PMS Data from PSA/For Envison/PRD DAQ Files- Quay Cranes/PQC886/DAQ_Log-10-24-2019/Complete_DAQ_LOG_20191024_0400.csv\n"
     ]
    },
    {
     "name": "stderr",
     "output_type": "stream",
     "text": [
      " 94% (6675 of 7031) |##################  | Elapsed Time: 0:00:00 ETA:   0:00:00"
     ]
    },
    {
     "name": "stdout",
     "output_type": "stream",
     "text": [
      "Ingest /home/searoc/00-code/05-raw-data/Data From PSA/DAQ&PMS Data from PSA/For Envison/PRD DAQ Files- Quay Cranes/PQC886/DAQ_Log-10-24-2019/Complete_DAQ_LOG_20191024_0400.csv is completed!\n",
      "/home/searoc/00-code/05-raw-data/Data From PSA/DAQ&PMS Data from PSA/For Envison/PRD DAQ Files- Quay Cranes/PQC886/DAQ_Log-10-24-2019/Complete_DAQ_LOG_20191024_0800.csv\n"
     ]
    },
    {
     "name": "stderr",
     "output_type": "stream",
     "text": [
      " 91% (6408 of 7030) |##################  | Elapsed Time: 0:00:00 ETA:   0:00:00"
     ]
    },
    {
     "name": "stdout",
     "output_type": "stream",
     "text": [
      "Ingest /home/searoc/00-code/05-raw-data/Data From PSA/DAQ&PMS Data from PSA/For Envison/PRD DAQ Files- Quay Cranes/PQC886/DAQ_Log-10-24-2019/Complete_DAQ_LOG_20191024_0800.csv is completed!\n",
      "/home/searoc/00-code/05-raw-data/Data From PSA/DAQ&PMS Data from PSA/For Envison/PRD DAQ Files- Quay Cranes/PQC886/DAQ_Log-10-24-2019/Complete_DAQ_LOG_20191024_0900.csv\n"
     ]
    },
    {
     "name": "stderr",
     "output_type": "stream",
     "text": [
      " 87% (6141 of 7031) |#################   | Elapsed Time: 0:00:00 ETA:   0:00:00"
     ]
    },
    {
     "name": "stdout",
     "output_type": "stream",
     "text": [
      "Ingest /home/searoc/00-code/05-raw-data/Data From PSA/DAQ&PMS Data from PSA/For Envison/PRD DAQ Files- Quay Cranes/PQC886/DAQ_Log-10-24-2019/Complete_DAQ_LOG_20191024_0900.csv is completed!\n",
      "/home/searoc/00-code/05-raw-data/Data From PSA/DAQ&PMS Data from PSA/For Envison/PRD DAQ Files- Quay Cranes/PQC886/DAQ_Log-10-24-2019/Complete_DAQ_LOG_20191024_1400.csv\n"
     ]
    },
    {
     "name": "stderr",
     "output_type": "stream",
     "text": [
      " 87% (6141 of 7030) |#################   | Elapsed Time: 0:00:00 ETA:   0:00:00"
     ]
    },
    {
     "name": "stdout",
     "output_type": "stream",
     "text": [
      "Ingest /home/searoc/00-code/05-raw-data/Data From PSA/DAQ&PMS Data from PSA/For Envison/PRD DAQ Files- Quay Cranes/PQC886/DAQ_Log-10-24-2019/Complete_DAQ_LOG_20191024_1400.csv is completed!\n",
      "/home/searoc/00-code/05-raw-data/Data From PSA/DAQ&PMS Data from PSA/For Envison/PRD DAQ Files- Quay Cranes/PQC886/DAQ_Log-10-24-2019/Complete_DAQ_LOG_20191024_2200.csv\n"
     ]
    },
    {
     "name": "stderr",
     "output_type": "stream",
     "text": [
      " 84% (5948 of 7013) |################    | Elapsed Time: 0:00:00 ETA:   0:00:00"
     ]
    },
    {
     "name": "stdout",
     "output_type": "stream",
     "text": [
      "Ingest /home/searoc/00-code/05-raw-data/Data From PSA/DAQ&PMS Data from PSA/For Envison/PRD DAQ Files- Quay Cranes/PQC886/DAQ_Log-10-24-2019/Complete_DAQ_LOG_20191024_2200.csv is completed!\n",
      "/home/searoc/00-code/05-raw-data/Data From PSA/DAQ&PMS Data from PSA/For Envison/PRD DAQ Files- Quay Cranes/PQC886/DAQ_Log-10-24-2019/Complete_DAQ_LOG_20191024_2100.csv\n"
     ]
    },
    {
     "name": "stderr",
     "output_type": "stream",
     "text": [
      " 97% (6838 of 7015) |################### | Elapsed Time: 0:00:00 ETA:   0:00:00"
     ]
    },
    {
     "name": "stdout",
     "output_type": "stream",
     "text": [
      "Ingest /home/searoc/00-code/05-raw-data/Data From PSA/DAQ&PMS Data from PSA/For Envison/PRD DAQ Files- Quay Cranes/PQC886/DAQ_Log-10-24-2019/Complete_DAQ_LOG_20191024_2100.csv is completed!\n",
      "/home/searoc/00-code/05-raw-data/Data From PSA/DAQ&PMS Data from PSA/For Envison/PRD DAQ Files- Quay Cranes/PQC886/DAQ_Log-10-24-2019/Complete_DAQ_LOG_20191024_0000.csv\n"
     ]
    },
    {
     "ename": "ValueError",
     "evalue": "time data '24/10/2019 00:01.' does not match format '%d/%m/%Y %H:%M:%S.%f' (match)",
     "output_type": "error",
     "traceback": [
      "\u001b[0;31m---------------------------------------------------------------------------\u001b[0m",
      "\u001b[0;31mTypeError\u001b[0m                                 Traceback (most recent call last)",
      "\u001b[0;32m/home/searoc/anaconda3/lib/python3.7/site-packages/pandas/core/tools/datetimes.py\u001b[0m in \u001b[0;36m_convert_listlike_datetimes\u001b[0;34m(arg, format, name, tz, unit, errors, infer_datetime_format, dayfirst, yearfirst, exact)\u001b[0m\n\u001b[1;32m    431\u001b[0m             \u001b[0;32mtry\u001b[0m\u001b[0;34m:\u001b[0m\u001b[0;34m\u001b[0m\u001b[0;34m\u001b[0m\u001b[0m\n\u001b[0;32m--> 432\u001b[0;31m                 \u001b[0mvalues\u001b[0m\u001b[0;34m,\u001b[0m \u001b[0mtz\u001b[0m \u001b[0;34m=\u001b[0m \u001b[0mconversion\u001b[0m\u001b[0;34m.\u001b[0m\u001b[0mdatetime_to_datetime64\u001b[0m\u001b[0;34m(\u001b[0m\u001b[0marg\u001b[0m\u001b[0;34m)\u001b[0m\u001b[0;34m\u001b[0m\u001b[0;34m\u001b[0m\u001b[0m\n\u001b[0m\u001b[1;32m    433\u001b[0m                 \u001b[0;32mreturn\u001b[0m \u001b[0mDatetimeIndex\u001b[0m\u001b[0;34m.\u001b[0m\u001b[0m_simple_new\u001b[0m\u001b[0;34m(\u001b[0m\u001b[0mvalues\u001b[0m\u001b[0;34m,\u001b[0m \u001b[0mname\u001b[0m\u001b[0;34m=\u001b[0m\u001b[0mname\u001b[0m\u001b[0;34m,\u001b[0m \u001b[0mtz\u001b[0m\u001b[0;34m=\u001b[0m\u001b[0mtz\u001b[0m\u001b[0;34m)\u001b[0m\u001b[0;34m\u001b[0m\u001b[0;34m\u001b[0m\u001b[0m\n",
      "\u001b[0;32mpandas/_libs/tslibs/conversion.pyx\u001b[0m in \u001b[0;36mpandas._libs.tslibs.conversion.datetime_to_datetime64\u001b[0;34m()\u001b[0m\n",
      "\u001b[0;31mTypeError\u001b[0m: Unrecognized value type: <class 'str'>",
      "\nDuring handling of the above exception, another exception occurred:\n",
      "\u001b[0;31mValueError\u001b[0m                                Traceback (most recent call last)",
      "\u001b[0;32m<ipython-input-23-7155bc2eae4b>\u001b[0m in \u001b[0;36m<module>\u001b[0;34m\u001b[0m\n\u001b[1;32m      5\u001b[0m \u001b[0mfilePath\u001b[0m \u001b[0;34m=\u001b[0m \u001b[0;34mr\"/home/searoc/00-code/05-raw-data/Data From PSA/DAQ&PMS Data from PSA/For Envison/PRD DAQ Files- Quay Cranes\"\u001b[0m\u001b[0;34m\u001b[0m\u001b[0;34m\u001b[0m\u001b[0m\n\u001b[1;32m      6\u001b[0m \u001b[0;34m\u001b[0m\u001b[0m\n\u001b[0;32m----> 7\u001b[0;31m \u001b[0mingest_from_folder\u001b[0m\u001b[0;34m(\u001b[0m\u001b[0mfilePath\u001b[0m\u001b[0;34m,\u001b[0m \u001b[0mes_host\u001b[0m\u001b[0;34m,\u001b[0m \u001b[0mindex\u001b[0m\u001b[0;34m)\u001b[0m\u001b[0;34m\u001b[0m\u001b[0;34m\u001b[0m\u001b[0m\n\u001b[0m",
      "\u001b[0;32m<ipython-input-22-a2f67a5fcade>\u001b[0m in \u001b[0;36mingest_from_folder\u001b[0;34m(path, es_host, index)\u001b[0m\n\u001b[1;32m     20\u001b[0m                 \u001b[0mds_\u001b[0m\u001b[0;34m[\u001b[0m\u001b[0;34m'timestamp'\u001b[0m\u001b[0;34m]\u001b[0m \u001b[0;34m=\u001b[0m \u001b[0mds_\u001b[0m\u001b[0;34m[\u001b[0m\u001b[0;34m'Date'\u001b[0m\u001b[0;34m]\u001b[0m\u001b[0;34m.\u001b[0m\u001b[0mastype\u001b[0m\u001b[0;34m(\u001b[0m\u001b[0mstr\u001b[0m\u001b[0;34m)\u001b[0m \u001b[0;34m+\u001b[0m \u001b[0;34m' '\u001b[0m \u001b[0;34m+\u001b[0m \u001b[0mds_\u001b[0m\u001b[0;34m[\u001b[0m\u001b[0;34m'Time'\u001b[0m\u001b[0;34m]\u001b[0m\u001b[0;34m\u001b[0m\u001b[0;34m\u001b[0m\u001b[0m\n\u001b[1;32m     21\u001b[0m                 \u001b[0mds_\u001b[0m\u001b[0;34m.\u001b[0m\u001b[0mdrop\u001b[0m\u001b[0;34m(\u001b[0m\u001b[0;34m[\u001b[0m\u001b[0;34m'Date'\u001b[0m\u001b[0;34m,\u001b[0m \u001b[0;34m'Time'\u001b[0m\u001b[0;34m]\u001b[0m\u001b[0;34m,\u001b[0m \u001b[0maxis\u001b[0m\u001b[0;34m=\u001b[0m\u001b[0;36m1\u001b[0m\u001b[0;34m)\u001b[0m\u001b[0;34m\u001b[0m\u001b[0;34m\u001b[0m\u001b[0m\n\u001b[0;32m---> 22\u001b[0;31m                 \u001b[0mds_\u001b[0m\u001b[0;34m[\u001b[0m\u001b[0;34m'timestamp'\u001b[0m\u001b[0;34m]\u001b[0m \u001b[0;34m=\u001b[0m \u001b[0mpd\u001b[0m\u001b[0;34m.\u001b[0m\u001b[0mto_datetime\u001b[0m\u001b[0;34m(\u001b[0m\u001b[0mds_\u001b[0m\u001b[0;34m[\u001b[0m\u001b[0;34m'timestamp'\u001b[0m\u001b[0;34m]\u001b[0m\u001b[0;34m,\u001b[0m \u001b[0mformat\u001b[0m\u001b[0;34m=\u001b[0m\u001b[0;34m\"%d/%m/%Y %H:%M:%S.%f\"\u001b[0m\u001b[0;34m)\u001b[0m\u001b[0;34m\u001b[0m\u001b[0;34m\u001b[0m\u001b[0m\n\u001b[0m\u001b[1;32m     23\u001b[0m                 \u001b[0;31m# Example of write data to es, use the template you create\u001b[0m\u001b[0;34m\u001b[0m\u001b[0;34m\u001b[0m\u001b[0;34m\u001b[0m\u001b[0m\n\u001b[1;32m     24\u001b[0m                 \u001b[0mep\u001b[0m\u001b[0;34m.\u001b[0m\u001b[0mto_es\u001b[0m\u001b[0;34m(\u001b[0m\u001b[0mds_\u001b[0m\u001b[0;34m,\u001b[0m \u001b[0mindex\u001b[0m\u001b[0;34m,\u001b[0m \u001b[0mdoc_type\u001b[0m\u001b[0;34m=\u001b[0m\u001b[0mdoc_type\u001b[0m\u001b[0;34m,\u001b[0m \u001b[0mthread_count\u001b[0m\u001b[0;34m=\u001b[0m\u001b[0;36m5\u001b[0m\u001b[0;34m,\u001b[0m \u001b[0mchunk_size\u001b[0m\u001b[0;34m=\u001b[0m\u001b[0;36m10000\u001b[0m\u001b[0;34m)\u001b[0m\u001b[0;34m\u001b[0m\u001b[0;34m\u001b[0m\u001b[0m\n",
      "\u001b[0;32m/home/searoc/anaconda3/lib/python3.7/site-packages/pandas/core/tools/datetimes.py\u001b[0m in \u001b[0;36mto_datetime\u001b[0;34m(arg, errors, dayfirst, yearfirst, utc, format, exact, unit, infer_datetime_format, origin, cache)\u001b[0m\n\u001b[1;32m    726\u001b[0m             \u001b[0mresult\u001b[0m \u001b[0;34m=\u001b[0m \u001b[0marg\u001b[0m\u001b[0;34m.\u001b[0m\u001b[0mmap\u001b[0m\u001b[0;34m(\u001b[0m\u001b[0mcache_array\u001b[0m\u001b[0;34m)\u001b[0m\u001b[0;34m\u001b[0m\u001b[0;34m\u001b[0m\u001b[0m\n\u001b[1;32m    727\u001b[0m         \u001b[0;32melse\u001b[0m\u001b[0;34m:\u001b[0m\u001b[0;34m\u001b[0m\u001b[0;34m\u001b[0m\u001b[0m\n\u001b[0;32m--> 728\u001b[0;31m             \u001b[0mvalues\u001b[0m \u001b[0;34m=\u001b[0m \u001b[0mconvert_listlike\u001b[0m\u001b[0;34m(\u001b[0m\u001b[0marg\u001b[0m\u001b[0;34m.\u001b[0m\u001b[0m_values\u001b[0m\u001b[0;34m,\u001b[0m \u001b[0mformat\u001b[0m\u001b[0;34m)\u001b[0m\u001b[0;34m\u001b[0m\u001b[0;34m\u001b[0m\u001b[0m\n\u001b[0m\u001b[1;32m    729\u001b[0m             \u001b[0mresult\u001b[0m \u001b[0;34m=\u001b[0m \u001b[0marg\u001b[0m\u001b[0;34m.\u001b[0m\u001b[0m_constructor\u001b[0m\u001b[0;34m(\u001b[0m\u001b[0mvalues\u001b[0m\u001b[0;34m,\u001b[0m \u001b[0mindex\u001b[0m\u001b[0;34m=\u001b[0m\u001b[0marg\u001b[0m\u001b[0;34m.\u001b[0m\u001b[0mindex\u001b[0m\u001b[0;34m,\u001b[0m \u001b[0mname\u001b[0m\u001b[0;34m=\u001b[0m\u001b[0marg\u001b[0m\u001b[0;34m.\u001b[0m\u001b[0mname\u001b[0m\u001b[0;34m)\u001b[0m\u001b[0;34m\u001b[0m\u001b[0;34m\u001b[0m\u001b[0m\n\u001b[1;32m    730\u001b[0m     \u001b[0;32melif\u001b[0m \u001b[0misinstance\u001b[0m\u001b[0;34m(\u001b[0m\u001b[0marg\u001b[0m\u001b[0;34m,\u001b[0m \u001b[0;34m(\u001b[0m\u001b[0mABCDataFrame\u001b[0m\u001b[0;34m,\u001b[0m \u001b[0mabc\u001b[0m\u001b[0;34m.\u001b[0m\u001b[0mMutableMapping\u001b[0m\u001b[0;34m)\u001b[0m\u001b[0;34m)\u001b[0m\u001b[0;34m:\u001b[0m\u001b[0;34m\u001b[0m\u001b[0;34m\u001b[0m\u001b[0m\n",
      "\u001b[0;32m/home/searoc/anaconda3/lib/python3.7/site-packages/pandas/core/tools/datetimes.py\u001b[0m in \u001b[0;36m_convert_listlike_datetimes\u001b[0;34m(arg, format, name, tz, unit, errors, infer_datetime_format, dayfirst, yearfirst, exact)\u001b[0m\n\u001b[1;32m    433\u001b[0m                 \u001b[0;32mreturn\u001b[0m \u001b[0mDatetimeIndex\u001b[0m\u001b[0;34m.\u001b[0m\u001b[0m_simple_new\u001b[0m\u001b[0;34m(\u001b[0m\u001b[0mvalues\u001b[0m\u001b[0;34m,\u001b[0m \u001b[0mname\u001b[0m\u001b[0;34m=\u001b[0m\u001b[0mname\u001b[0m\u001b[0;34m,\u001b[0m \u001b[0mtz\u001b[0m\u001b[0;34m=\u001b[0m\u001b[0mtz\u001b[0m\u001b[0;34m)\u001b[0m\u001b[0;34m\u001b[0m\u001b[0;34m\u001b[0m\u001b[0m\n\u001b[1;32m    434\u001b[0m             \u001b[0;32mexcept\u001b[0m \u001b[0;34m(\u001b[0m\u001b[0mValueError\u001b[0m\u001b[0;34m,\u001b[0m \u001b[0mTypeError\u001b[0m\u001b[0;34m)\u001b[0m\u001b[0;34m:\u001b[0m\u001b[0;34m\u001b[0m\u001b[0;34m\u001b[0m\u001b[0m\n\u001b[0;32m--> 435\u001b[0;31m                 \u001b[0;32mraise\u001b[0m \u001b[0me\u001b[0m\u001b[0;34m\u001b[0m\u001b[0;34m\u001b[0m\u001b[0m\n\u001b[0m\u001b[1;32m    436\u001b[0m \u001b[0;34m\u001b[0m\u001b[0m\n\u001b[1;32m    437\u001b[0m     \u001b[0;32mif\u001b[0m \u001b[0mresult\u001b[0m \u001b[0;32mis\u001b[0m \u001b[0;32mNone\u001b[0m\u001b[0;34m:\u001b[0m\u001b[0;34m\u001b[0m\u001b[0;34m\u001b[0m\u001b[0m\n",
      "\u001b[0;32m/home/searoc/anaconda3/lib/python3.7/site-packages/pandas/core/tools/datetimes.py\u001b[0m in \u001b[0;36m_convert_listlike_datetimes\u001b[0;34m(arg, format, name, tz, unit, errors, infer_datetime_format, dayfirst, yearfirst, exact)\u001b[0m\n\u001b[1;32m    398\u001b[0m                 \u001b[0;32mtry\u001b[0m\u001b[0;34m:\u001b[0m\u001b[0;34m\u001b[0m\u001b[0;34m\u001b[0m\u001b[0m\n\u001b[1;32m    399\u001b[0m                     result, timezones = array_strptime(\n\u001b[0;32m--> 400\u001b[0;31m                         \u001b[0marg\u001b[0m\u001b[0;34m,\u001b[0m \u001b[0mformat\u001b[0m\u001b[0;34m,\u001b[0m \u001b[0mexact\u001b[0m\u001b[0;34m=\u001b[0m\u001b[0mexact\u001b[0m\u001b[0;34m,\u001b[0m \u001b[0merrors\u001b[0m\u001b[0;34m=\u001b[0m\u001b[0merrors\u001b[0m\u001b[0;34m\u001b[0m\u001b[0;34m\u001b[0m\u001b[0m\n\u001b[0m\u001b[1;32m    401\u001b[0m                     )\n\u001b[1;32m    402\u001b[0m                     \u001b[0;32mif\u001b[0m \u001b[0;34m\"%Z\"\u001b[0m \u001b[0;32min\u001b[0m \u001b[0mformat\u001b[0m \u001b[0;32mor\u001b[0m \u001b[0;34m\"%z\"\u001b[0m \u001b[0;32min\u001b[0m \u001b[0mformat\u001b[0m\u001b[0;34m:\u001b[0m\u001b[0;34m\u001b[0m\u001b[0;34m\u001b[0m\u001b[0m\n",
      "\u001b[0;32mpandas/_libs/tslibs/strptime.pyx\u001b[0m in \u001b[0;36mpandas._libs.tslibs.strptime.array_strptime\u001b[0;34m()\u001b[0m\n",
      "\u001b[0;31mValueError\u001b[0m: time data '24/10/2019 00:01.' does not match format '%d/%m/%Y %H:%M:%S.%f' (match)"
     ]
    }
   ],
   "source": [
    "# Information of es cluseter\n",
    "es_host = 'localhost:9200'\n",
    "index = 'raw_daq_index'\n",
    "\n",
    "filePath = r\"/home/searoc/00-code/05-raw-data/Data From PSA/DAQ&PMS Data from PSA/For Envison/PRD DAQ Files- Quay Cranes\"\n",
    "\n",
    "ingest_from_folder(filePath, es_host, index)"
   ]
  },
  {
   "cell_type": "code",
   "execution_count": 19,
   "metadata": {},
   "outputs": [
    {
     "name": "stdout",
     "output_type": "stream",
     "text": [
      "            Date          Time Comm Status CraneNumber  Weight  Frequency  \\\n",
      "0     26/10/2019  12:00:00.772          OK      PQC887    -101       5003   \n",
      "1     26/10/2019  12:00:01.208          OK      PQC887     -99       5003   \n",
      "2     26/10/2019  12:00:01.723          OK      PQC887    -103       5003   \n",
      "3     26/10/2019  12:00:02.222          OK      PQC887    -102       5003   \n",
      "4     26/10/2019  12:00:02.737          OK      PQC887    -101       5003   \n",
      "...          ...           ...         ...         ...     ...        ...   \n",
      "7003  26/10/2019  12:59:57.639          OK      PQC887    6045       5004   \n",
      "7004  26/10/2019  12:59:58.153          OK      PQC887    5511       5004   \n",
      "7005  26/10/2019  12:59:58.668          OK      PQC887    5923       5004   \n",
      "7006  26/10/2019  12:59:59.183          OK      PQC887    5599       5004   \n",
      "7007  26/10/2019  12:59:59.698          OK      PQC887    5771       5004   \n",
      "\n",
      "      Spreader_20FT  Spreader_40FT  Spreader_45FT  Spreader_Twin  ...  \\\n",
      "0                 1              0              0              0  ...   \n",
      "1                 1              0              0              0  ...   \n",
      "2                 1              0              0              0  ...   \n",
      "3                 1              0              0              0  ...   \n",
      "4                 1              0              0              0  ...   \n",
      "...             ...            ...            ...            ...  ...   \n",
      "7003              0              1              0              1  ...   \n",
      "7004              0              1              0              1  ...   \n",
      "7005              0              1              0              1  ...   \n",
      "7006              0              1              0              1  ...   \n",
      "7007              0              1              0              1  ...   \n",
      "\n",
      "      OT_Control STS_Gantry Left (Controller)  \\\n",
      "0                                           0   \n",
      "1                                           0   \n",
      "2                                           0   \n",
      "3                                           0   \n",
      "4                                           0   \n",
      "...                                       ...   \n",
      "7003                                        0   \n",
      "7004                                        0   \n",
      "7005                                        0   \n",
      "7006                                        0   \n",
      "7007                                        0   \n",
      "\n",
      "      OT_Control STS_Boom Up (Controller)  \\\n",
      "0                                       0   \n",
      "1                                       0   \n",
      "2                                       0   \n",
      "3                                       0   \n",
      "4                                       0   \n",
      "...                                   ...   \n",
      "7003                                    0   \n",
      "7004                                    0   \n",
      "7005                                    0   \n",
      "7006                                    0   \n",
      "7007                                    0   \n",
      "\n",
      "      OT_Control STS_Boom Down (Controller)  Trolley Position  \\\n",
      "0                                         0              1668   \n",
      "1                                         0              1668   \n",
      "2                                         0              1668   \n",
      "3                                         0              1668   \n",
      "4                                         0              1668   \n",
      "...                                     ...               ...   \n",
      "7003                                      0              2220   \n",
      "7004                                      0              2220   \n",
      "7005                                      0              2220   \n",
      "7006                                      0              2220   \n",
      "7007                                      0              2222   \n",
      "\n",
      "      Load Cell1 Data  Load Cell2 Data  Load Cell3 Data  Load Cell4 Data  \\\n",
      "0                 444              463              440              452   \n",
      "1                 444              463              441              453   \n",
      "2                 443              462              440              452   \n",
      "3                 443              462              440              453   \n",
      "4                 443              462              441              453   \n",
      "...               ...              ...              ...              ...   \n",
      "7003             1953             2017             1889             2086   \n",
      "7004             1811             1905             1763             1932   \n",
      "7005             1931             1992             1847             2053   \n",
      "7006             1829             1925             1785             1960   \n",
      "7007             1872             1944             1828             2027   \n",
      "\n",
      "      SP STS_Landed               timestamp  \n",
      "0                 0 2019-10-26 12:00:00.772  \n",
      "1                 0 2019-10-26 12:00:01.208  \n",
      "2                 0 2019-10-26 12:00:01.723  \n",
      "3                 0 2019-10-26 12:00:02.222  \n",
      "4                 0 2019-10-26 12:00:02.737  \n",
      "...             ...                     ...  \n",
      "7003              0 2019-10-26 12:59:57.639  \n",
      "7004              0 2019-10-26 12:59:58.153  \n",
      "7005              0 2019-10-26 12:59:58.668  \n",
      "7006              0 2019-10-26 12:59:59.183  \n",
      "7007              0 2019-10-26 12:59:59.698  \n",
      "\n",
      "[7008 rows x 42 columns]\n"
     ]
    },
    {
     "ename": "SyntaxError",
     "evalue": "'return' outside function (<ipython-input-19-eaafd6b49beb>, line 10)",
     "output_type": "error",
     "traceback": [
      "\u001b[0;36m  File \u001b[0;32m\"<ipython-input-19-eaafd6b49beb>\"\u001b[0;36m, line \u001b[0;32m10\u001b[0m\n\u001b[0;31m    return\u001b[0m\n\u001b[0m          ^\u001b[0m\n\u001b[0;31mSyntaxError\u001b[0m\u001b[0;31m:\u001b[0m 'return' outside function\n"
     ]
    }
   ],
   "source": [
    "#read from DAQ file into dataframe\n",
    "csv_file = filePath+fileName\n",
    "ds_ = load_data(csv_file)\n",
    "ds_['timestamp'] = ds_['Date'].astype(str) + ' ' + ds_['Time']\n",
    "ds_.drop(['Date', 'Time'], axis=1)\n",
    "\n",
    "ds_['timestamp'] = pd.to_datetime(ds_['timestamp'], format=\"%d/%m/%Y %H:%M:%S.%f\")\n",
    "print(ds_)\n",
    "\n",
    "return\n",
    "# Information of es cluseter\n",
    "es_host = 'localhost:9200'\n",
    "index = 'demo'\n",
    "\n",
    "# crete es_pandas instance\n",
    "ep = es_pandas(es_host)\n",
    "\n",
    "# init template if you want\n",
    "doc_type = 'records'\n",
    "ep.init_es_tmpl(ds_, doc_type)\n",
    "\n",
    "# Example of write data to es, use the template you create\n",
    "ep.to_es(ds_, index, doc_type=doc_type)\n",
    "\n",
    "# set use_index=True if you want to use DataFrame index as records' _id\n",
    "ep.to_es(ds_, index, doc_type=doc_type, use_index=True)\n",
    "\n",
    "# Example of read data from es\n",
    "df = ep.to_pandas(index)\n",
    "print(df.head())"
   ]
  },
  {
   "cell_type": "code",
   "execution_count": 15,
   "metadata": {},
   "outputs": [
    {
     "name": "stdout",
     "output_type": "stream",
     "text": [
      "Ingest 01-Nov-2017 (00:04:02.000000) is completed!\n"
     ]
    }
   ],
   "source": [
    "# 导入datetime库\n",
    "import datetime\n",
    "import random\n",
    "\n",
    "dt_end = datetime.datetime(2017,11,1,0,4,2)\n",
    "msg = dt_end.strftime(\"%d-%b-%Y (%H:%M:%S.%f)\")\n",
    "print('Ingest %s is completed!' % msg)"
   ]
  },
  {
   "cell_type": "code",
   "execution_count": 15,
   "metadata": {},
   "outputs": [
    {
     "data": {
      "text/plain": [
       "Timestamp('2019-10-26 14:59:59.938000')"
      ]
     },
     "execution_count": 15,
     "metadata": {},
     "output_type": "execute_result"
    }
   ],
   "source": [
    "pd.to_datetime('26/10/2019 14:59:59.938', format='%d/%m/%Y %H:%M:%S.%f')"
   ]
  },
  {
   "cell_type": "code",
   "execution_count": null,
   "metadata": {},
   "outputs": [],
   "source": []
  }
 ],
 "metadata": {
  "kernelspec": {
   "display_name": "Python 3",
   "language": "python",
   "name": "python3"
  },
  "language_info": {
   "codemirror_mode": {
    "name": "ipython",
    "version": 3
   },
   "file_extension": ".py",
   "mimetype": "text/x-python",
   "name": "python",
   "nbconvert_exporter": "python",
   "pygments_lexer": "ipython3",
   "version": "3.7.9-final"
  }
 },
 "nbformat": 4,
 "nbformat_minor": 2
}